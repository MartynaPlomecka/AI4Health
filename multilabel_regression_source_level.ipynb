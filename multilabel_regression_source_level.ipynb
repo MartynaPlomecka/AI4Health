{
 "cells": [
  {
   "cell_type": "code",
   "execution_count": 2,
   "metadata": {
    "colab": {},
    "colab_type": "code",
    "id": "7YxOz-zNNlyy"
   },
   "outputs": [],
   "source": [
    "import scipy.io\n",
    "import mat73\n",
    "import pandas as pd\n",
    "import numpy as np\n",
    "from numpy import array\n",
    "from numpy.random import uniform\n",
    "from numpy import hstack\n",
    "import matplotlib.pyplot as plt\n",
    "\n",
    "import tensorflow as tf\n",
    "from tensorflow.keras.models import Model, load_model\n",
    "from tensorflow.keras.layers import Input, Dense, LeakyReLU, BatchNormalization\n",
    "from tensorflow.keras.utils import plot_model, to_categorical\n",
    "from tensorflow.keras.models import Sequential\n",
    "from tensorflow.keras.layers import Dense\n",
    "import matplotlib.pyplot as plt\n",
    "\n",
    "from sklearn.model_selection import train_test_split\n",
    "from sklearn.metrics import mean_squared_error\n",
    "from sklearn.multioutput import MultiOutputRegressor\n",
    "from sklearn.ensemble import RandomForestRegressor\n",
    "from sklearn.ensemble import RandomForestClassifier as rf\n",
    "from sklearn.svm import SVC as svm\n",
    "from sklearn.linear_model import LogisticRegression as lg\n",
    "from sklearn.metrics import confusion_matrix,accuracy_score,balanced_accuracy_score,f1_score\n",
    "from sklearn import preprocessing\n",
    "from sklearn.decomposition import PCA\n",
    "from sklearn.model_selection import StratifiedKFold\n",
    "from sklearn.exceptions import ConvergenceWarning\n",
    "from warnings import simplefilter,filterwarnings\n",
    "\n",
    "# ignore all future warnings1\n",
    "simplefilter(action='ignore', category=FutureWarning)\n"
   ]
  },
  {
   "cell_type": "code",
   "execution_count": 3,
   "metadata": {},
   "outputs": [],
   "source": [
    "import os\n",
    "\n",
    "DATA_DIR = ''\n",
    "if 'google.colab' not in str(get_ipython()):\n",
    "    if \"anuja\" in os.environ.get('USER'):\n",
    "        DATA_DIR = 'data/'\n",
    "    elif 'ubuntu' in os.environ.get('USER'):\n",
    "        DATA_DIR = '/home/ubuntu/Martyna/repo/AI4Health/DATAfoof/'\n",
    "    "
   ]
  },
  {
   "cell_type": "markdown",
   "metadata": {},
   "source": [
    "## EEG data and foof:"
   ]
  },
  {
   "cell_type": "code",
   "execution_count": 4,
   "metadata": {},
   "outputs": [
    {
     "data": {
      "text/html": [
       "<div>\n",
       "<style scoped>\n",
       "    .dataframe tbody tr th:only-of-type {\n",
       "        vertical-align: middle;\n",
       "    }\n",
       "\n",
       "    .dataframe tbody tr th {\n",
       "        vertical-align: top;\n",
       "    }\n",
       "\n",
       "    .dataframe thead th {\n",
       "        text-align: right;\n",
       "    }\n",
       "</style>\n",
       "<table border=\"1\" class=\"dataframe\">\n",
       "  <thead>\n",
       "    <tr style=\"text-align: right;\">\n",
       "      <th></th>\n",
       "      <th>Unnamed: 0</th>\n",
       "      <th>0</th>\n",
       "      <th>1</th>\n",
       "      <th>2</th>\n",
       "      <th>3</th>\n",
       "      <th>4</th>\n",
       "      <th>5</th>\n",
       "      <th>6</th>\n",
       "      <th>7</th>\n",
       "      <th>8</th>\n",
       "      <th>...</th>\n",
       "      <th>127</th>\n",
       "      <th>128</th>\n",
       "      <th>129</th>\n",
       "      <th>130</th>\n",
       "      <th>131</th>\n",
       "      <th>132</th>\n",
       "      <th>133</th>\n",
       "      <th>134</th>\n",
       "      <th>135</th>\n",
       "      <th>IDs</th>\n",
       "    </tr>\n",
       "  </thead>\n",
       "  <tbody>\n",
       "    <tr>\n",
       "      <th>0</th>\n",
       "      <td>0</td>\n",
       "      <td>0.160123</td>\n",
       "      <td>1.362617</td>\n",
       "      <td>-0.002037</td>\n",
       "      <td>1.427172</td>\n",
       "      <td>0.810964</td>\n",
       "      <td>1.391837</td>\n",
       "      <td>0.745124</td>\n",
       "      <td>1.378194</td>\n",
       "      <td>0.527491</td>\n",
       "      <td>...</td>\n",
       "      <td>1.519565</td>\n",
       "      <td>1.004265</td>\n",
       "      <td>1.450747</td>\n",
       "      <td>0.956578</td>\n",
       "      <td>1.456952</td>\n",
       "      <td>0.611944</td>\n",
       "      <td>1.503932</td>\n",
       "      <td>0.282555</td>\n",
       "      <td>1.441946</td>\n",
       "      <td>NDARAA075AMK</td>\n",
       "    </tr>\n",
       "    <tr>\n",
       "      <th>1</th>\n",
       "      <td>1</td>\n",
       "      <td>0.988915</td>\n",
       "      <td>1.330636</td>\n",
       "      <td>1.151667</td>\n",
       "      <td>1.546990</td>\n",
       "      <td>1.479442</td>\n",
       "      <td>1.608810</td>\n",
       "      <td>1.342563</td>\n",
       "      <td>1.559859</td>\n",
       "      <td>0.460923</td>\n",
       "      <td>...</td>\n",
       "      <td>1.461904</td>\n",
       "      <td>1.449481</td>\n",
       "      <td>1.480738</td>\n",
       "      <td>0.889122</td>\n",
       "      <td>1.282076</td>\n",
       "      <td>0.950479</td>\n",
       "      <td>1.138697</td>\n",
       "      <td>1.372408</td>\n",
       "      <td>1.505823</td>\n",
       "      <td>NDARAA112DMH</td>\n",
       "    </tr>\n",
       "    <tr>\n",
       "      <th>2</th>\n",
       "      <td>2</td>\n",
       "      <td>1.455004</td>\n",
       "      <td>1.515717</td>\n",
       "      <td>0.988018</td>\n",
       "      <td>1.367703</td>\n",
       "      <td>2.029333</td>\n",
       "      <td>1.763131</td>\n",
       "      <td>2.086803</td>\n",
       "      <td>1.763987</td>\n",
       "      <td>1.320758</td>\n",
       "      <td>...</td>\n",
       "      <td>1.502295</td>\n",
       "      <td>1.596192</td>\n",
       "      <td>1.448922</td>\n",
       "      <td>1.180667</td>\n",
       "      <td>1.199036</td>\n",
       "      <td>1.658822</td>\n",
       "      <td>1.619147</td>\n",
       "      <td>1.182087</td>\n",
       "      <td>1.395998</td>\n",
       "      <td>NDARAA117NEJ</td>\n",
       "    </tr>\n",
       "    <tr>\n",
       "      <th>3</th>\n",
       "      <td>3</td>\n",
       "      <td>0.796931</td>\n",
       "      <td>1.547997</td>\n",
       "      <td>0.016022</td>\n",
       "      <td>0.956344</td>\n",
       "      <td>0.638462</td>\n",
       "      <td>1.222323</td>\n",
       "      <td>0.698921</td>\n",
       "      <td>1.395078</td>\n",
       "      <td>-0.130122</td>\n",
       "      <td>...</td>\n",
       "      <td>0.998001</td>\n",
       "      <td>0.079507</td>\n",
       "      <td>1.285272</td>\n",
       "      <td>0.471817</td>\n",
       "      <td>1.175649</td>\n",
       "      <td>0.617125</td>\n",
       "      <td>1.418717</td>\n",
       "      <td>0.401675</td>\n",
       "      <td>1.222953</td>\n",
       "      <td>NDARAA947ZG5</td>\n",
       "    </tr>\n",
       "    <tr>\n",
       "      <th>4</th>\n",
       "      <td>4</td>\n",
       "      <td>-0.627481</td>\n",
       "      <td>1.123518</td>\n",
       "      <td>-0.255195</td>\n",
       "      <td>1.273727</td>\n",
       "      <td>0.197328</td>\n",
       "      <td>1.344738</td>\n",
       "      <td>0.282533</td>\n",
       "      <td>1.387126</td>\n",
       "      <td>-0.808075</td>\n",
       "      <td>...</td>\n",
       "      <td>1.363285</td>\n",
       "      <td>0.049249</td>\n",
       "      <td>1.207528</td>\n",
       "      <td>-0.118998</td>\n",
       "      <td>1.296786</td>\n",
       "      <td>-0.253839</td>\n",
       "      <td>1.176320</td>\n",
       "      <td>-0.033039</td>\n",
       "      <td>1.318181</td>\n",
       "      <td>NDARAA948VFH</td>\n",
       "    </tr>\n",
       "    <tr>\n",
       "      <th>...</th>\n",
       "      <td>...</td>\n",
       "      <td>...</td>\n",
       "      <td>...</td>\n",
       "      <td>...</td>\n",
       "      <td>...</td>\n",
       "      <td>...</td>\n",
       "      <td>...</td>\n",
       "      <td>...</td>\n",
       "      <td>...</td>\n",
       "      <td>...</td>\n",
       "      <td>...</td>\n",
       "      <td>...</td>\n",
       "      <td>...</td>\n",
       "      <td>...</td>\n",
       "      <td>...</td>\n",
       "      <td>...</td>\n",
       "      <td>...</td>\n",
       "      <td>...</td>\n",
       "      <td>...</td>\n",
       "      <td>...</td>\n",
       "      <td>...</td>\n",
       "    </tr>\n",
       "    <tr>\n",
       "      <th>2037</th>\n",
       "      <td>2037</td>\n",
       "      <td>-0.561398</td>\n",
       "      <td>1.060676</td>\n",
       "      <td>-0.680878</td>\n",
       "      <td>1.241504</td>\n",
       "      <td>0.177737</td>\n",
       "      <td>1.110332</td>\n",
       "      <td>0.141657</td>\n",
       "      <td>1.116719</td>\n",
       "      <td>-0.347975</td>\n",
       "      <td>...</td>\n",
       "      <td>1.153422</td>\n",
       "      <td>0.182297</td>\n",
       "      <td>1.016177</td>\n",
       "      <td>0.177069</td>\n",
       "      <td>1.042335</td>\n",
       "      <td>-0.124226</td>\n",
       "      <td>1.165734</td>\n",
       "      <td>-0.418218</td>\n",
       "      <td>1.085482</td>\n",
       "      <td>NDARZN277NR6</td>\n",
       "    </tr>\n",
       "    <tr>\n",
       "      <th>2038</th>\n",
       "      <td>2038</td>\n",
       "      <td>1.178082</td>\n",
       "      <td>1.344137</td>\n",
       "      <td>1.127791</td>\n",
       "      <td>1.414553</td>\n",
       "      <td>1.802019</td>\n",
       "      <td>1.642233</td>\n",
       "      <td>1.680568</td>\n",
       "      <td>1.593067</td>\n",
       "      <td>0.891970</td>\n",
       "      <td>...</td>\n",
       "      <td>1.576864</td>\n",
       "      <td>2.119400</td>\n",
       "      <td>1.755767</td>\n",
       "      <td>1.780714</td>\n",
       "      <td>1.576273</td>\n",
       "      <td>1.551271</td>\n",
       "      <td>1.384801</td>\n",
       "      <td>1.587596</td>\n",
       "      <td>1.466845</td>\n",
       "      <td>NDARZN578YDP</td>\n",
       "    </tr>\n",
       "    <tr>\n",
       "      <th>2039</th>\n",
       "      <td>2039</td>\n",
       "      <td>-0.394953</td>\n",
       "      <td>1.348060</td>\n",
       "      <td>-0.918028</td>\n",
       "      <td>1.088161</td>\n",
       "      <td>-0.134448</td>\n",
       "      <td>1.122479</td>\n",
       "      <td>-0.268877</td>\n",
       "      <td>1.111450</td>\n",
       "      <td>-0.288241</td>\n",
       "      <td>...</td>\n",
       "      <td>1.099186</td>\n",
       "      <td>-0.022279</td>\n",
       "      <td>1.275160</td>\n",
       "      <td>-0.316072</td>\n",
       "      <td>1.201135</td>\n",
       "      <td>-0.249886</td>\n",
       "      <td>1.300831</td>\n",
       "      <td>-0.656477</td>\n",
       "      <td>1.232983</td>\n",
       "      <td>NDARZN610GTY</td>\n",
       "    </tr>\n",
       "    <tr>\n",
       "      <th>2040</th>\n",
       "      <td>2040</td>\n",
       "      <td>-0.347506</td>\n",
       "      <td>0.870524</td>\n",
       "      <td>0.144745</td>\n",
       "      <td>1.257984</td>\n",
       "      <td>0.636052</td>\n",
       "      <td>0.952351</td>\n",
       "      <td>0.745472</td>\n",
       "      <td>0.988167</td>\n",
       "      <td>-0.353721</td>\n",
       "      <td>...</td>\n",
       "      <td>1.278362</td>\n",
       "      <td>0.544927</td>\n",
       "      <td>0.883756</td>\n",
       "      <td>0.788643</td>\n",
       "      <td>1.038478</td>\n",
       "      <td>-0.372208</td>\n",
       "      <td>0.747925</td>\n",
       "      <td>0.414824</td>\n",
       "      <td>1.251458</td>\n",
       "      <td>NDARZN677EYE</td>\n",
       "    </tr>\n",
       "    <tr>\n",
       "      <th>2041</th>\n",
       "      <td>2041</td>\n",
       "      <td>-0.095062</td>\n",
       "      <td>1.341242</td>\n",
       "      <td>0.008024</td>\n",
       "      <td>1.465466</td>\n",
       "      <td>0.550652</td>\n",
       "      <td>1.380602</td>\n",
       "      <td>0.630516</td>\n",
       "      <td>1.367825</td>\n",
       "      <td>-0.190073</td>\n",
       "      <td>...</td>\n",
       "      <td>1.368316</td>\n",
       "      <td>1.031722</td>\n",
       "      <td>1.583255</td>\n",
       "      <td>0.856938</td>\n",
       "      <td>1.512752</td>\n",
       "      <td>0.106973</td>\n",
       "      <td>1.363657</td>\n",
       "      <td>0.233389</td>\n",
       "      <td>1.449769</td>\n",
       "      <td>NDARZN899JCM</td>\n",
       "    </tr>\n",
       "  </tbody>\n",
       "</table>\n",
       "<p>2042 rows × 138 columns</p>\n",
       "</div>"
      ],
      "text/plain": [
       "      Unnamed: 0         0         1         2         3         4         5  \\\n",
       "0              0  0.160123  1.362617 -0.002037  1.427172  0.810964  1.391837   \n",
       "1              1  0.988915  1.330636  1.151667  1.546990  1.479442  1.608810   \n",
       "2              2  1.455004  1.515717  0.988018  1.367703  2.029333  1.763131   \n",
       "3              3  0.796931  1.547997  0.016022  0.956344  0.638462  1.222323   \n",
       "4              4 -0.627481  1.123518 -0.255195  1.273727  0.197328  1.344738   \n",
       "...          ...       ...       ...       ...       ...       ...       ...   \n",
       "2037        2037 -0.561398  1.060676 -0.680878  1.241504  0.177737  1.110332   \n",
       "2038        2038  1.178082  1.344137  1.127791  1.414553  1.802019  1.642233   \n",
       "2039        2039 -0.394953  1.348060 -0.918028  1.088161 -0.134448  1.122479   \n",
       "2040        2040 -0.347506  0.870524  0.144745  1.257984  0.636052  0.952351   \n",
       "2041        2041 -0.095062  1.341242  0.008024  1.465466  0.550652  1.380602   \n",
       "\n",
       "             6         7         8  ...       127       128       129  \\\n",
       "0     0.745124  1.378194  0.527491  ...  1.519565  1.004265  1.450747   \n",
       "1     1.342563  1.559859  0.460923  ...  1.461904  1.449481  1.480738   \n",
       "2     2.086803  1.763987  1.320758  ...  1.502295  1.596192  1.448922   \n",
       "3     0.698921  1.395078 -0.130122  ...  0.998001  0.079507  1.285272   \n",
       "4     0.282533  1.387126 -0.808075  ...  1.363285  0.049249  1.207528   \n",
       "...        ...       ...       ...  ...       ...       ...       ...   \n",
       "2037  0.141657  1.116719 -0.347975  ...  1.153422  0.182297  1.016177   \n",
       "2038  1.680568  1.593067  0.891970  ...  1.576864  2.119400  1.755767   \n",
       "2039 -0.268877  1.111450 -0.288241  ...  1.099186 -0.022279  1.275160   \n",
       "2040  0.745472  0.988167 -0.353721  ...  1.278362  0.544927  0.883756   \n",
       "2041  0.630516  1.367825 -0.190073  ...  1.368316  1.031722  1.583255   \n",
       "\n",
       "           130       131       132       133       134       135           IDs  \n",
       "0     0.956578  1.456952  0.611944  1.503932  0.282555  1.441946  NDARAA075AMK  \n",
       "1     0.889122  1.282076  0.950479  1.138697  1.372408  1.505823  NDARAA112DMH  \n",
       "2     1.180667  1.199036  1.658822  1.619147  1.182087  1.395998  NDARAA117NEJ  \n",
       "3     0.471817  1.175649  0.617125  1.418717  0.401675  1.222953  NDARAA947ZG5  \n",
       "4    -0.118998  1.296786 -0.253839  1.176320 -0.033039  1.318181  NDARAA948VFH  \n",
       "...        ...       ...       ...       ...       ...       ...           ...  \n",
       "2037  0.177069  1.042335 -0.124226  1.165734 -0.418218  1.085482  NDARZN277NR6  \n",
       "2038  1.780714  1.576273  1.551271  1.384801  1.587596  1.466845  NDARZN578YDP  \n",
       "2039 -0.316072  1.201135 -0.249886  1.300831 -0.656477  1.232983  NDARZN610GTY  \n",
       "2040  0.788643  1.038478 -0.372208  0.747925  0.414824  1.251458  NDARZN677EYE  \n",
       "2041  0.856938  1.512752  0.106973  1.363657  0.233389  1.449769  NDARZN899JCM  \n",
       "\n",
       "[2042 rows x 138 columns]"
      ]
     },
     "execution_count": 4,
     "metadata": {},
     "output_type": "execute_result"
    }
   ],
   "source": [
    "\n",
    "## data loading\n",
    "data = mat73.loadmat(DATA_DIR+'x_source_new.mat')  \n",
    "foof = pd.read_csv(DATA_DIR+\"source_intercept_slope.csv\")\n",
    "foof\n"
   ]
  },
  {
   "cell_type": "code",
   "execution_count": 5,
   "metadata": {},
   "outputs": [
    {
     "data": {
      "text/html": [
       "<div>\n",
       "<style scoped>\n",
       "    .dataframe tbody tr th:only-of-type {\n",
       "        vertical-align: middle;\n",
       "    }\n",
       "\n",
       "    .dataframe tbody tr th {\n",
       "        vertical-align: top;\n",
       "    }\n",
       "\n",
       "    .dataframe thead th {\n",
       "        text-align: right;\n",
       "    }\n",
       "</style>\n",
       "<table border=\"1\" class=\"dataframe\">\n",
       "  <thead>\n",
       "    <tr style=\"text-align: right;\">\n",
       "      <th></th>\n",
       "      <th>0</th>\n",
       "      <th>1</th>\n",
       "      <th>2</th>\n",
       "      <th>3</th>\n",
       "      <th>4</th>\n",
       "      <th>5</th>\n",
       "      <th>6</th>\n",
       "      <th>7</th>\n",
       "      <th>8</th>\n",
       "      <th>9</th>\n",
       "      <th>...</th>\n",
       "      <th>5363</th>\n",
       "      <th>5364</th>\n",
       "      <th>5365</th>\n",
       "      <th>5366</th>\n",
       "      <th>5367</th>\n",
       "      <th>5368</th>\n",
       "      <th>5369</th>\n",
       "      <th>5370</th>\n",
       "      <th>5371</th>\n",
       "      <th>IDs</th>\n",
       "    </tr>\n",
       "  </thead>\n",
       "  <tbody>\n",
       "    <tr>\n",
       "      <th>0</th>\n",
       "      <td>2.852107e-12</td>\n",
       "      <td>6.843959e-11</td>\n",
       "      <td>1.334486e-09</td>\n",
       "      <td>2.114389e-08</td>\n",
       "      <td>2.722198e-07</td>\n",
       "      <td>2.847860e-06</td>\n",
       "      <td>2.420928e-05</td>\n",
       "      <td>1.672280e-04</td>\n",
       "      <td>9.386428e-04</td>\n",
       "      <td>4.281104e-03</td>\n",
       "      <td>...</td>\n",
       "      <td>4.083400e-13</td>\n",
       "      <td>1.199041e-14</td>\n",
       "      <td>2.220446e-16</td>\n",
       "      <td>0.000000e+00</td>\n",
       "      <td>0.000000e+00</td>\n",
       "      <td>0.000000e+00</td>\n",
       "      <td>0.000000e+00</td>\n",
       "      <td>0.000000e+00</td>\n",
       "      <td>0.000000e+00</td>\n",
       "      <td>NDARAA075AMK</td>\n",
       "    </tr>\n",
       "    <tr>\n",
       "      <th>1</th>\n",
       "      <td>0.000000e+00</td>\n",
       "      <td>0.000000e+00</td>\n",
       "      <td>0.000000e+00</td>\n",
       "      <td>0.000000e+00</td>\n",
       "      <td>0.000000e+00</td>\n",
       "      <td>0.000000e+00</td>\n",
       "      <td>0.000000e+00</td>\n",
       "      <td>0.000000e+00</td>\n",
       "      <td>0.000000e+00</td>\n",
       "      <td>0.000000e+00</td>\n",
       "      <td>...</td>\n",
       "      <td>8.422859e-02</td>\n",
       "      <td>1.792809e-01</td>\n",
       "      <td>2.261597e-01</td>\n",
       "      <td>1.471350e-01</td>\n",
       "      <td>4.932961e-02</td>\n",
       "      <td>8.522938e-03</td>\n",
       "      <td>7.588586e-04</td>\n",
       "      <td>3.481949e-05</td>\n",
       "      <td>8.233298e-07</td>\n",
       "      <td>NDARAA112DMH</td>\n",
       "    </tr>\n",
       "    <tr>\n",
       "      <th>2</th>\n",
       "      <td>1.873727e-04</td>\n",
       "      <td>3.700203e-02</td>\n",
       "      <td>1.338341e-01</td>\n",
       "      <td>8.866054e-03</td>\n",
       "      <td>1.075761e-05</td>\n",
       "      <td>2.390714e-10</td>\n",
       "      <td>1.143530e-13</td>\n",
       "      <td>4.469758e-12</td>\n",
       "      <td>1.420740e-10</td>\n",
       "      <td>4.289156e-09</td>\n",
       "      <td>...</td>\n",
       "      <td>0.000000e+00</td>\n",
       "      <td>0.000000e+00</td>\n",
       "      <td>0.000000e+00</td>\n",
       "      <td>0.000000e+00</td>\n",
       "      <td>0.000000e+00</td>\n",
       "      <td>0.000000e+00</td>\n",
       "      <td>0.000000e+00</td>\n",
       "      <td>0.000000e+00</td>\n",
       "      <td>0.000000e+00</td>\n",
       "      <td>NDARAA117NEJ</td>\n",
       "    </tr>\n",
       "    <tr>\n",
       "      <th>3</th>\n",
       "      <td>4.679133e-03</td>\n",
       "      <td>2.858350e-02</td>\n",
       "      <td>1.446466e-01</td>\n",
       "      <td>3.296430e-01</td>\n",
       "      <td>3.146601e-01</td>\n",
       "      <td>1.356668e-01</td>\n",
       "      <td>1.148714e-01</td>\n",
       "      <td>3.878903e-01</td>\n",
       "      <td>4.688989e-01</td>\n",
       "      <td>1.760009e-01</td>\n",
       "      <td>...</td>\n",
       "      <td>4.721801e-02</td>\n",
       "      <td>2.446504e-02</td>\n",
       "      <td>6.717445e-02</td>\n",
       "      <td>1.737527e-01</td>\n",
       "      <td>2.703009e-01</td>\n",
       "      <td>2.480023e-01</td>\n",
       "      <td>1.340995e-01</td>\n",
       "      <td>4.273146e-02</td>\n",
       "      <td>8.024469e-03</td>\n",
       "      <td>NDARAA947ZG5</td>\n",
       "    </tr>\n",
       "    <tr>\n",
       "      <th>4</th>\n",
       "      <td>1.426186e-01</td>\n",
       "      <td>1.919957e-01</td>\n",
       "      <td>2.337057e-01</td>\n",
       "      <td>2.572226e-01</td>\n",
       "      <td>2.559831e-01</td>\n",
       "      <td>2.303433e-01</td>\n",
       "      <td>1.874140e-01</td>\n",
       "      <td>1.378767e-01</td>\n",
       "      <td>9.171530e-02</td>\n",
       "      <td>5.516572e-02</td>\n",
       "      <td>...</td>\n",
       "      <td>5.047329e-02</td>\n",
       "      <td>4.878144e-02</td>\n",
       "      <td>5.355981e-02</td>\n",
       "      <td>1.013861e-01</td>\n",
       "      <td>5.092052e-02</td>\n",
       "      <td>3.967086e-02</td>\n",
       "      <td>3.699821e-02</td>\n",
       "      <td>3.428801e-02</td>\n",
       "      <td>3.155638e-02</td>\n",
       "      <td>NDARAA948VFH</td>\n",
       "    </tr>\n",
       "    <tr>\n",
       "      <th>...</th>\n",
       "      <td>...</td>\n",
       "      <td>...</td>\n",
       "      <td>...</td>\n",
       "      <td>...</td>\n",
       "      <td>...</td>\n",
       "      <td>...</td>\n",
       "      <td>...</td>\n",
       "      <td>...</td>\n",
       "      <td>...</td>\n",
       "      <td>...</td>\n",
       "      <td>...</td>\n",
       "      <td>...</td>\n",
       "      <td>...</td>\n",
       "      <td>...</td>\n",
       "      <td>...</td>\n",
       "      <td>...</td>\n",
       "      <td>...</td>\n",
       "      <td>...</td>\n",
       "      <td>...</td>\n",
       "      <td>...</td>\n",
       "      <td>...</td>\n",
       "    </tr>\n",
       "    <tr>\n",
       "      <th>2037</th>\n",
       "      <td>1.641564e-04</td>\n",
       "      <td>5.061825e-03</td>\n",
       "      <td>4.748293e-02</td>\n",
       "      <td>1.355030e-01</td>\n",
       "      <td>1.176366e-01</td>\n",
       "      <td>3.107015e-02</td>\n",
       "      <td>2.513731e-03</td>\n",
       "      <td>1.849108e-04</td>\n",
       "      <td>7.014072e-04</td>\n",
       "      <td>3.183943e-03</td>\n",
       "      <td>...</td>\n",
       "      <td>3.161835e-08</td>\n",
       "      <td>1.106568e-08</td>\n",
       "      <td>3.738061e-09</td>\n",
       "      <td>1.218730e-09</td>\n",
       "      <td>3.834910e-10</td>\n",
       "      <td>1.164628e-10</td>\n",
       "      <td>3.413536e-11</td>\n",
       "      <td>9.656276e-12</td>\n",
       "      <td>2.636114e-12</td>\n",
       "      <td>NDARZN277NR6</td>\n",
       "    </tr>\n",
       "    <tr>\n",
       "      <th>2038</th>\n",
       "      <td>1.273725e-07</td>\n",
       "      <td>2.854585e-06</td>\n",
       "      <td>4.301847e-05</td>\n",
       "      <td>4.342317e-04</td>\n",
       "      <td>2.934193e-03</td>\n",
       "      <td>1.327155e-02</td>\n",
       "      <td>4.019215e-02</td>\n",
       "      <td>8.169716e-02</td>\n",
       "      <td>1.133810e-01</td>\n",
       "      <td>1.182013e-01</td>\n",
       "      <td>...</td>\n",
       "      <td>6.180279e-12</td>\n",
       "      <td>1.819545e-12</td>\n",
       "      <td>5.200285e-13</td>\n",
       "      <td>1.443290e-13</td>\n",
       "      <td>3.885781e-14</td>\n",
       "      <td>1.021405e-14</td>\n",
       "      <td>2.553513e-15</td>\n",
       "      <td>6.661338e-16</td>\n",
       "      <td>1.110223e-16</td>\n",
       "      <td>NDARZN578YDP</td>\n",
       "    </tr>\n",
       "    <tr>\n",
       "      <th>2039</th>\n",
       "      <td>0.000000e+00</td>\n",
       "      <td>7.771561e-16</td>\n",
       "      <td>3.630429e-14</td>\n",
       "      <td>1.391887e-12</td>\n",
       "      <td>4.209189e-11</td>\n",
       "      <td>1.004152e-09</td>\n",
       "      <td>1.889601e-08</td>\n",
       "      <td>2.804845e-07</td>\n",
       "      <td>3.284092e-06</td>\n",
       "      <td>3.033118e-05</td>\n",
       "      <td>...</td>\n",
       "      <td>1.329739e-01</td>\n",
       "      <td>1.350156e-01</td>\n",
       "      <td>1.346921e-01</td>\n",
       "      <td>1.320204e-01</td>\n",
       "      <td>1.271395e-01</td>\n",
       "      <td>1.202986e-01</td>\n",
       "      <td>1.118360e-01</td>\n",
       "      <td>1.021511e-01</td>\n",
       "      <td>9.167378e-02</td>\n",
       "      <td>NDARZN610GTY</td>\n",
       "    </tr>\n",
       "    <tr>\n",
       "      <th>2040</th>\n",
       "      <td>1.363800e-08</td>\n",
       "      <td>1.521235e-07</td>\n",
       "      <td>1.428039e-06</td>\n",
       "      <td>1.127810e-05</td>\n",
       "      <td>7.492867e-05</td>\n",
       "      <td>4.187613e-04</td>\n",
       "      <td>1.968741e-03</td>\n",
       "      <td>7.785975e-03</td>\n",
       "      <td>2.590237e-02</td>\n",
       "      <td>7.248831e-02</td>\n",
       "      <td>...</td>\n",
       "      <td>5.546025e-07</td>\n",
       "      <td>2.166196e-07</td>\n",
       "      <td>8.182735e-08</td>\n",
       "      <td>2.989401e-08</td>\n",
       "      <td>1.056221e-08</td>\n",
       "      <td>3.609193e-09</td>\n",
       "      <td>1.192753e-09</td>\n",
       "      <td>3.812199e-10</td>\n",
       "      <td>1.178382e-10</td>\n",
       "      <td>NDARZN677EYE</td>\n",
       "    </tr>\n",
       "    <tr>\n",
       "      <th>2041</th>\n",
       "      <td>1.053879e-12</td>\n",
       "      <td>1.644124e-10</td>\n",
       "      <td>1.470619e-08</td>\n",
       "      <td>7.542047e-07</td>\n",
       "      <td>2.217696e-05</td>\n",
       "      <td>3.738853e-04</td>\n",
       "      <td>3.614084e-03</td>\n",
       "      <td>2.003004e-02</td>\n",
       "      <td>6.364860e-02</td>\n",
       "      <td>1.159630e-01</td>\n",
       "      <td>...</td>\n",
       "      <td>7.489395e-02</td>\n",
       "      <td>8.484123e-02</td>\n",
       "      <td>8.842089e-03</td>\n",
       "      <td>1.028525e-01</td>\n",
       "      <td>9.254207e-02</td>\n",
       "      <td>1.525615e-03</td>\n",
       "      <td>4.606519e-07</td>\n",
       "      <td>2.547740e-12</td>\n",
       "      <td>0.000000e+00</td>\n",
       "      <td>NDARZN899JCM</td>\n",
       "    </tr>\n",
       "  </tbody>\n",
       "</table>\n",
       "<p>2042 rows × 5373 columns</p>\n",
       "</div>"
      ],
      "text/plain": [
       "                 0             1             2             3             4  \\\n",
       "0     2.852107e-12  6.843959e-11  1.334486e-09  2.114389e-08  2.722198e-07   \n",
       "1     0.000000e+00  0.000000e+00  0.000000e+00  0.000000e+00  0.000000e+00   \n",
       "2     1.873727e-04  3.700203e-02  1.338341e-01  8.866054e-03  1.075761e-05   \n",
       "3     4.679133e-03  2.858350e-02  1.446466e-01  3.296430e-01  3.146601e-01   \n",
       "4     1.426186e-01  1.919957e-01  2.337057e-01  2.572226e-01  2.559831e-01   \n",
       "...            ...           ...           ...           ...           ...   \n",
       "2037  1.641564e-04  5.061825e-03  4.748293e-02  1.355030e-01  1.176366e-01   \n",
       "2038  1.273725e-07  2.854585e-06  4.301847e-05  4.342317e-04  2.934193e-03   \n",
       "2039  0.000000e+00  7.771561e-16  3.630429e-14  1.391887e-12  4.209189e-11   \n",
       "2040  1.363800e-08  1.521235e-07  1.428039e-06  1.127810e-05  7.492867e-05   \n",
       "2041  1.053879e-12  1.644124e-10  1.470619e-08  7.542047e-07  2.217696e-05   \n",
       "\n",
       "                 5             6             7             8             9  \\\n",
       "0     2.847860e-06  2.420928e-05  1.672280e-04  9.386428e-04  4.281104e-03   \n",
       "1     0.000000e+00  0.000000e+00  0.000000e+00  0.000000e+00  0.000000e+00   \n",
       "2     2.390714e-10  1.143530e-13  4.469758e-12  1.420740e-10  4.289156e-09   \n",
       "3     1.356668e-01  1.148714e-01  3.878903e-01  4.688989e-01  1.760009e-01   \n",
       "4     2.303433e-01  1.874140e-01  1.378767e-01  9.171530e-02  5.516572e-02   \n",
       "...            ...           ...           ...           ...           ...   \n",
       "2037  3.107015e-02  2.513731e-03  1.849108e-04  7.014072e-04  3.183943e-03   \n",
       "2038  1.327155e-02  4.019215e-02  8.169716e-02  1.133810e-01  1.182013e-01   \n",
       "2039  1.004152e-09  1.889601e-08  2.804845e-07  3.284092e-06  3.033118e-05   \n",
       "2040  4.187613e-04  1.968741e-03  7.785975e-03  2.590237e-02  7.248831e-02   \n",
       "2041  3.738853e-04  3.614084e-03  2.003004e-02  6.364860e-02  1.159630e-01   \n",
       "\n",
       "      ...          5363          5364          5365          5366  \\\n",
       "0     ...  4.083400e-13  1.199041e-14  2.220446e-16  0.000000e+00   \n",
       "1     ...  8.422859e-02  1.792809e-01  2.261597e-01  1.471350e-01   \n",
       "2     ...  0.000000e+00  0.000000e+00  0.000000e+00  0.000000e+00   \n",
       "3     ...  4.721801e-02  2.446504e-02  6.717445e-02  1.737527e-01   \n",
       "4     ...  5.047329e-02  4.878144e-02  5.355981e-02  1.013861e-01   \n",
       "...   ...           ...           ...           ...           ...   \n",
       "2037  ...  3.161835e-08  1.106568e-08  3.738061e-09  1.218730e-09   \n",
       "2038  ...  6.180279e-12  1.819545e-12  5.200285e-13  1.443290e-13   \n",
       "2039  ...  1.329739e-01  1.350156e-01  1.346921e-01  1.320204e-01   \n",
       "2040  ...  5.546025e-07  2.166196e-07  8.182735e-08  2.989401e-08   \n",
       "2041  ...  7.489395e-02  8.484123e-02  8.842089e-03  1.028525e-01   \n",
       "\n",
       "              5367          5368          5369          5370          5371  \\\n",
       "0     0.000000e+00  0.000000e+00  0.000000e+00  0.000000e+00  0.000000e+00   \n",
       "1     4.932961e-02  8.522938e-03  7.588586e-04  3.481949e-05  8.233298e-07   \n",
       "2     0.000000e+00  0.000000e+00  0.000000e+00  0.000000e+00  0.000000e+00   \n",
       "3     2.703009e-01  2.480023e-01  1.340995e-01  4.273146e-02  8.024469e-03   \n",
       "4     5.092052e-02  3.967086e-02  3.699821e-02  3.428801e-02  3.155638e-02   \n",
       "...            ...           ...           ...           ...           ...   \n",
       "2037  3.834910e-10  1.164628e-10  3.413536e-11  9.656276e-12  2.636114e-12   \n",
       "2038  3.885781e-14  1.021405e-14  2.553513e-15  6.661338e-16  1.110223e-16   \n",
       "2039  1.271395e-01  1.202986e-01  1.118360e-01  1.021511e-01  9.167378e-02   \n",
       "2040  1.056221e-08  3.609193e-09  1.192753e-09  3.812199e-10  1.178382e-10   \n",
       "2041  9.254207e-02  1.525615e-03  4.606519e-07  2.547740e-12  0.000000e+00   \n",
       "\n",
       "               IDs  \n",
       "0     NDARAA075AMK  \n",
       "1     NDARAA112DMH  \n",
       "2     NDARAA117NEJ  \n",
       "3     NDARAA947ZG5  \n",
       "4     NDARAA948VFH  \n",
       "...            ...  \n",
       "2037  NDARZN277NR6  \n",
       "2038  NDARZN578YDP  \n",
       "2039  NDARZN610GTY  \n",
       "2040  NDARZN677EYE  \n",
       "2041  NDARZN899JCM  \n",
       "\n",
       "[2042 rows x 5373 columns]"
      ]
     },
     "execution_count": 5,
     "metadata": {},
     "output_type": "execute_result"
    }
   ],
   "source": [
    "df = pd.DataFrame(data['x'].reshape((data['x'].shape[0], -1)))\n",
    "df = np.array(df)\n",
    "df = df.reshape(data['x'].shape)\n",
    "df.shape\n",
    "\n",
    "df = pd.DataFrame(df.reshape((df.shape[0], -1)))\n",
    "df['IDs'] = foof['IDs']\n",
    "df\n",
    "\n"
   ]
  },
  {
   "cell_type": "markdown",
   "metadata": {
    "colab_type": "text",
    "id": "-YjKzrOY5dKO"
   },
   "source": [
    "## Behavioral Data:\n"
   ]
  },
  {
   "cell_type": "code",
   "execution_count": 6,
   "metadata": {
    "colab": {
     "base_uri": "https://localhost:8080/",
     "height": 51
    },
    "colab_type": "code",
    "id": "bFK75cJgWc2G",
    "outputId": "c35c8bfc-2242-43be-aada-379d1ccb4c7e"
   },
   "outputs": [
    {
     "data": {
      "text/plain": [
       "Index(['IDs', 'SRS_SCI_T', 'SRS_RRB_T', 'SWAN_IN_Avg', 'SWAN_HY_Avg',\n",
       "       'SWAN_Avg', 'SCARED_SR_GD', 'SCARED_P_GD', 'WISC_WMI_Sum',\n",
       "       'WISC_VCI_Sum'],\n",
       "      dtype='object')"
      ]
     },
     "execution_count": 6,
     "metadata": {},
     "output_type": "execute_result"
    }
   ],
   "source": [
    "behaviour_data = pd.read_csv(DATA_DIR+'AllData.csv')\n",
    "behaviour_data = behaviour_data.rename(columns = {'EID': 'IDs'}, inplace = False)\n",
    "behaviour_data.columns"
   ]
  },
  {
   "cell_type": "code",
   "execution_count": 7,
   "metadata": {},
   "outputs": [
    {
     "data": {
      "text/plain": [
       "(3076, 3)"
      ]
     },
     "execution_count": 7,
     "metadata": {},
     "output_type": "execute_result"
    }
   ],
   "source": [
    "beh = pd.read_csv(DATA_DIR+\"behaviorals.csv\")\n",
    "add_features = beh[['Sex', 'Age','IDs']]\n",
    "add_features.shape"
   ]
  },
  {
   "cell_type": "code",
   "execution_count": 8,
   "metadata": {},
   "outputs": [
    {
     "data": {
      "text/plain": [
       "(2579, 8)"
      ]
     },
     "execution_count": 8,
     "metadata": {},
     "output_type": "execute_result"
    }
   ],
   "source": [
    "behaviour_data = behaviour_data[['IDs', 'SRS_SCI_T', 'SRS_RRB_T', 'SWAN_IN_Avg', 'SWAN_HY_Avg', 'SCARED_P_GD', 'WISC_WMI_Sum','WISC_VCI_Sum']]\n",
    "behaviour_data.shape"
   ]
  },
  {
   "cell_type": "code",
   "execution_count": 9,
   "metadata": {},
   "outputs": [],
   "source": [
    "# def missing_values_table(df):\n",
    "#     mis_val = df.isnull().sum()\n",
    "#     mis_val_percent = 100 * df.isnull().sum() / len(df)\n",
    "#     mis_val_table = pd.concat([mis_val, mis_val_percent], axis=1)\n",
    "#     mis_val_table_ren_columns = mis_val_table.rename(\n",
    "#     columns = {0 : 'Missing Values', 1 : '% of Total Values'})\n",
    "#     mis_val_table_ren_columns = mis_val_table_ren_columns[\n",
    "#         mis_val_table_ren_columns.iloc[:,1] != 0].sort_values(\n",
    "#     '% of Total Values', ascending=False).round(1)\n",
    "#     print (\"Your selected dataframe has \" + str(df.shape[1]) + \" columns (with column 'IDs').\\n\"      \n",
    "#         \"There are \" + str(mis_val_table_ren_columns.shape[0]) +\n",
    "#             \" columns that have missing values.\")\n",
    "#     return mis_val_table_ren_columns\n",
    "\n",
    "# missing_values_table(behaviour_data)"
   ]
  },
  {
   "cell_type": "markdown",
   "metadata": {},
   "source": [
    "## Merge EEG and foof data together:"
   ]
  },
  {
   "cell_type": "code",
   "execution_count": 10,
   "metadata": {},
   "outputs": [
    {
     "data": {
      "text/plain": [
       "(2042, 5510)"
      ]
     },
     "execution_count": 10,
     "metadata": {},
     "output_type": "execute_result"
    }
   ],
   "source": [
    "data = pd.merge(df, foof, on='IDs', how='inner')\n",
    "data.shape"
   ]
  },
  {
   "cell_type": "markdown",
   "metadata": {},
   "source": [
    "## and then with the behaviorals"
   ]
  },
  {
   "cell_type": "code",
   "execution_count": 11,
   "metadata": {},
   "outputs": [
    {
     "data": {
      "text/plain": [
       "(1465, 5517)"
      ]
     },
     "execution_count": 11,
     "metadata": {},
     "output_type": "execute_result"
    }
   ],
   "source": [
    "df = pd.merge(data, behaviour_data, on='IDs', how='inner')\n",
    "df.shape"
   ]
  },
  {
   "cell_type": "code",
   "execution_count": 12,
   "metadata": {},
   "outputs": [
    {
     "data": {
      "text/plain": [
       "(1443, 5519)"
      ]
     },
     "execution_count": 12,
     "metadata": {},
     "output_type": "execute_result"
    }
   ],
   "source": [
    " #add age and gender\n",
    " df = pd.merge(df, add_features, on='IDs', how='inner')\n",
    " df.shape"
   ]
  },
  {
   "cell_type": "markdown",
   "metadata": {},
   "source": [
    "## features and labels preparation:"
   ]
  },
  {
   "cell_type": "code",
   "execution_count": 13,
   "metadata": {},
   "outputs": [
    {
     "data": {
      "text/plain": [
       "(1072, 5519)"
      ]
     },
     "execution_count": 13,
     "metadata": {},
     "output_type": "execute_result"
    }
   ],
   "source": [
    "# #removing NaNs\n",
    "df = df.dropna()\n",
    "df.shape"
   ]
  },
  {
   "cell_type": "code",
   "execution_count": 14,
   "metadata": {},
   "outputs": [
    {
     "name": "stdout",
     "output_type": "stream",
     "text": [
      "(1072, 5511)\n"
     ]
    }
   ],
   "source": [
    " labels_list = [ 'SRS_SCI_T', 'SRS_RRB_T', 'SWAN_IN_Avg', 'SWAN_HY_Avg',\n",
    "     'SCARED_P_GD', 'WISC_WMI_Sum',\n",
    "    'WISC_VCI_Sum']\n",
    "\n",
    " X = df[df.columns.difference(['IDs']+labels_list)]\n",
    " print(X.shape)"
   ]
  },
  {
   "cell_type": "code",
   "execution_count": 15,
   "metadata": {},
   "outputs": [
    {
     "name": "stdout",
     "output_type": "stream",
     "text": [
      "(1072, 7)\n"
     ]
    }
   ],
   "source": [
    "Y = df[labels_list]\n",
    "print(Y.shape)"
   ]
  },
  {
   "cell_type": "markdown",
   "metadata": {},
   "source": [
    "## Split and PCA\n",
    "\n"
   ]
  },
  {
   "cell_type": "code",
   "execution_count": 16,
   "metadata": {},
   "outputs": [],
   "source": [
    "xtrain, xtest, ytrain, ytest = train_test_split(X, Y, test_size=0.25, shuffle=True)\n",
    "\n",
    "path = os.path.join(DATA_DIR, 'multilabel_regression_source_level')\n",
    "\n",
    "# #saving\n",
    "if not(os.path.exists(path)):\n",
    "     os.mkdir(path)\n",
    "np.save(os.path.join(path, 'xtrain.npy'), xtrain)\n",
    "np.save(os.path.join(path, 'xtest.npy'), xtest)\n",
    "np.save(os.path.join(path, 'ytrain.npy'), ytrain)\n",
    "np.save(os.path.join(path, 'ytest.npy'), ytest)\n",
    "\n",
    "\n",
    "#loading\n",
    "xtrain = np.load(os.path.join(path, 'xtrain.npy'))\n",
    "xtest = np.load(os.path.join(path, 'xtest.npy'))\n",
    "ytrain = np.load(os.path.join(path, 'ytrain.npy'))\n",
    "ytest = np.load(os.path.join(path, 'ytest.npy'))"
   ]
  },
  {
   "cell_type": "code",
   "execution_count": 17,
   "metadata": {},
   "outputs": [],
   "source": [
    "age_gender = True\n",
    "if age_gender:\n",
    "    train_age_gender = xtrain[:,-2:]\n",
    "    test_age_gender = xtest[:,-2:]\n",
    "    xtrain = xtrain[:,:-2]\n",
    "    xtest = xtest[:,:-2]"
   ]
  },
  {
   "cell_type": "code",
   "execution_count": 18,
   "metadata": {},
   "outputs": [
    {
     "name": "stdout",
     "output_type": "stream",
     "text": [
      "(804, 5509) (268, 5509)\n",
      "Applying PCA...\n",
      "(804, 220) (268, 220)\n"
     ]
    }
   ],
   "source": [
    "# scaling x\n",
    "norm = preprocessing.MinMaxScaler().fit(xtrain)\n",
    "\n",
    "# transform training data\n",
    "xtrain = norm.transform(xtrain)\n",
    "xtest = norm.transform(xtest)\n",
    "print(xtrain.shape, xtest.shape)\n",
    "\n",
    "print('Applying PCA...')\n",
    "pca = PCA(.90) # 95% variance retained\n",
    "pca.fit(xtrain)\n",
    "\n",
    "# transform data\n",
    "xtrain = pca.transform(xtrain)\n",
    "xtest = pca.transform(xtest)\n",
    "print(xtrain.shape, xtest.shape)"
   ]
  },
  {
   "cell_type": "code",
   "execution_count": 19,
   "metadata": {},
   "outputs": [],
   "source": [
    "if age_gender:\n",
    "    xtrain = np.concatenate([xtrain, train_age_gender], axis = 1)\n",
    "    xtest = np.concatenate([xtest, test_age_gender], axis = 1)"
   ]
  },
  {
   "cell_type": "code",
   "execution_count": 20,
   "metadata": {},
   "outputs": [
    {
     "name": "stdout",
     "output_type": "stream",
     "text": [
      "(804, 7) (268, 7)\n"
     ]
    }
   ],
   "source": [
    "# scaling y\n",
    "min_max_scaler = preprocessing.MinMaxScaler().fit(ytrain)\n",
    "ytrain = min_max_scaler.transform(ytrain)\n",
    "ytest = min_max_scaler.transform(ytest)\n",
    "\n",
    "print(ytrain.shape, ytest.shape)"
   ]
  },
  {
   "cell_type": "code",
   "execution_count": 21,
   "metadata": {},
   "outputs": [
    {
     "data": {
      "text/plain": [
       "array([0.4141791 , 0.33175957, 0.62493086, 0.54657267, 0.25214207,\n",
       "       0.45596238, 0.49326895])"
      ]
     },
     "execution_count": 21,
     "metadata": {},
     "output_type": "execute_result"
    }
   ],
   "source": [
    "ytrain.mean(axis=0)"
   ]
  },
  {
   "cell_type": "markdown",
   "metadata": {},
   "source": [
    "## MODELLING PART"
   ]
  },
  {
   "cell_type": "markdown",
   "metadata": {},
   "source": [
    "### dummy regressors (to obtain the random baseline):"
   ]
  },
  {
   "cell_type": "code",
   "execution_count": 22,
   "metadata": {},
   "outputs": [
    {
     "name": "stdout",
     "output_type": "stream",
     "text": [
      "Mean squared error (dummy): 0.04\n",
      "Mean absolute error (dummy): 0.16\n",
      "r2_score (dummy mean): -0.01\n",
      "r2_score (dummy median): -0.03\n"
     ]
    }
   ],
   "source": [
    "import matplotlib.pyplot as plt\n",
    "import numpy as np\n",
    "from sklearn.model_selection import train_test_split\n",
    "from sklearn import datasets\n",
    "from sklearn.linear_model import LinearRegression\n",
    "from sklearn.metrics import mean_squared_error, r2_score, mean_absolute_error\n",
    "from sklearn.dummy import DummyRegressor\n",
    "\n",
    "\n",
    "lm_dummy_mean = DummyRegressor(strategy = 'mean').fit(xtrain, ytrain)\n",
    "lm_dummy_median = DummyRegressor(strategy = 'median').fit(xtrain, ytrain)\n",
    "ypred_dummy_mean = lm_dummy_mean.predict(xtest)\n",
    "ypred_dummy_median = lm_dummy_median.predict(xtest)\n",
    "\n",
    "\n",
    "print(\"Mean squared error (dummy): {:.2f}\".format(mean_squared_error(ytest,\n",
    "\t\t\t\t\t\t\t\t\t\t\t\t\t\t\t\t\typred_dummy_mean)))\n",
    "\n",
    "print(\"Mean absolute error (dummy): {:.2f}\".format(mean_absolute_error(ytest,\n",
    "\t\t\t\t\t\t\t\t\t\t\t\t\t\t\t\t\typred_dummy_median)))\n",
    "\n",
    "print(\"r2_score (dummy mean): {:.2f}\".format(r2_score(ytest, ypred_dummy_mean)))\n",
    "print(\"r2_score (dummy median): {:.2f}\".format(r2_score(ytest, ypred_dummy_median)))\n"
   ]
  },
  {
   "cell_type": "markdown",
   "metadata": {},
   "source": [
    "## SVR regressor"
   ]
  },
  {
   "cell_type": "code",
   "execution_count": 23,
   "metadata": {},
   "outputs": [
    {
     "name": "stdout",
     "output_type": "stream",
     "text": [
      "Mean squared error (SVC): 0.04\n",
      "Mean abs error (SVC): 0.16\n",
      "R2 score (SVC): -0.02\n"
     ]
    }
   ],
   "source": [
    "from sklearn.datasets import make_regression\n",
    "from sklearn.multioutput import MultiOutputRegressor\n",
    "from sklearn.svm import SVR\n",
    "from sklearn.model_selection import train_test_split\n",
    "from sklearn.metrics import mean_squared_error, mean_absolute_error\n",
    "\n",
    "# Create the SVR regressor\n",
    "svr = SVR(epsilon=0.2)\n",
    "#Create the Multioutput Regressor\n",
    "mor = MultiOutputRegressor(svr)\n",
    "# Train the regressor\n",
    "mor = mor.fit(xtrain, ytrain)\n",
    "# Generate predictions for testing data\n",
    "ypred = mor.predict(xtest)\n",
    "\n",
    "\n",
    "print(\"Mean squared error (SVC): {:.2f}\".format(mean_squared_error(ytest,\n",
    "\t\t\t\t\t\t\t\t\t\t\t\t\t\t\t\t\typred)))\n",
    "print(\"Mean abs error (SVC): {:.2f}\".format(mean_absolute_error(ytest,\n",
    "\t\t\t\t\t\t\t\t\t\t\t\t\t\t\t\t\typred)))\t\t\t\t\t\t\t\t\t\t\t\t\t\t\t\t\t\n",
    "print(\"R2 score (SVC): {:.2f}\".format(mor.score(xtest, ytest)))\n"
   ]
  },
  {
   "cell_type": "markdown",
   "metadata": {},
   "source": [
    "## random forest reg"
   ]
  },
  {
   "cell_type": "code",
   "execution_count": 24,
   "metadata": {},
   "outputs": [
    {
     "name": "stdout",
     "output_type": "stream",
     "text": [
      "Mean squared error (RanFor): 0.04\n",
      "Mean abs error (RanFor): 0.16\n",
      "R2 score (RanFor): -0.01\n"
     ]
    }
   ],
   "source": [
    "from sklearn.datasets import make_regression\n",
    "from sklearn.model_selection import train_test_split\n",
    "from sklearn.multioutput import MultiOutputRegressor\n",
    "from sklearn.ensemble import RandomForestRegressor\n",
    "#\n",
    "clf = MultiOutputRegressor(RandomForestRegressor(max_depth=2, random_state=0))\n",
    "clf.fit(xtrain, ytrain)\n",
    "\n",
    "# predictions\n",
    "clf.predict(xtest)\n",
    "\n",
    "print(\"Mean squared error (RanFor): {:.2f}\".format(mean_squared_error(ytest,\n",
    "\t\t\t\t\t\t\t\t\t\t\t\t\t\t\t\t\typred)))\n",
    "print(\"Mean abs error (RanFor): {:.2f}\".format(mean_absolute_error(ytest,\n",
    "\t\t\t\t\t\t\t\t\t\t\t\t\t\t\t\t\typred)))\t\t\t\t\t\t\t\t\t\t\t\t\t\t\t\t\t\t\n",
    "print(\"R2 score (RanFor): {:.2f}\".format(clf.score(xtest, ytest)))\t\t\t\t\t\t\t\t\t\t\t\t\n",
    "\n"
   ]
  },
  {
   "cell_type": "markdown",
   "metadata": {},
   "source": [
    "## Linear Regression"
   ]
  },
  {
   "cell_type": "code",
   "execution_count": 25,
   "metadata": {},
   "outputs": [
    {
     "name": "stdout",
     "output_type": "stream",
     "text": [
      "Mean squared error (LinReg): 0.05\n",
      "Mean absolute error (LinReg): 0.17\n",
      "R2 score (LinReg): -0.16\n"
     ]
    }
   ],
   "source": [
    "# define model\n",
    "model = LinearRegression()\n",
    "# fit model\n",
    "model.fit(xtrain, ytrain)\n",
    "\n",
    "# Generate predictions for testing data\n",
    "ypred = model.predict(xtest)\n",
    "\n",
    "print(\"Mean squared error (LinReg): {:.2f}\".format(mean_squared_error(ytest,\n",
    "\t\t\t\t\t\t\t\t\t\t\t\t\t\t\t\t\typred)))\n",
    "\n",
    "print(\"Mean absolute error (LinReg): {:.2f}\".format(mean_absolute_error(ytest,\n",
    "\t\t\t\t\t\t\t\t\t\t\t\t\t\t\t\t\typred)))\t\t\t\t\t\t\t\t\t\t\t\t\t\t\t\t\t\n",
    "print(\"R2 score (LinReg): {:.2f}\".format(model.score(xtest, ytest)))\t\t\t\t\t\t\t\t\t\t\t\t\n",
    "\n"
   ]
  },
  {
   "cell_type": "markdown",
   "metadata": {},
   "source": [
    " ## multi-output meta estimator"
   ]
  },
  {
   "cell_type": "code",
   "execution_count": 26,
   "metadata": {},
   "outputs": [
    {
     "name": "stdout",
     "output_type": "stream",
     "text": [
      "Mean squared error (regr_multirf): 0.05\n",
      "R2 score (regr_multirf): -0.02\n"
     ]
    }
   ],
   "source": [
    "max_depth = 20\n",
    "#330\n",
    "regr_multirf = MultiOutputRegressor(\n",
    "    RandomForestRegressor(n_estimators=100, max_depth=max_depth, random_state=7)\n",
    ")\n",
    "regr_multirf.fit(xtrain, ytrain)\n",
    "y_multirf = regr_multirf.predict(xtest)\n",
    "\n",
    "\n",
    "print(\"Mean squared error (regr_multirf): {:.2f}\".format(mean_squared_error(ytest,\n",
    "\t\t\t\t\t\t\t\t\t\t\t\t\t\t\t\t\typred)))\n",
    "print(\"R2 score (regr_multirf): {:.2f}\".format(regr_multirf.score(xtest, ytest)))"
   ]
  },
  {
   "cell_type": "markdown",
   "metadata": {},
   "source": [
    "## multilayer perceptron with many hidden layers\n"
   ]
  },
  {
   "cell_type": "code",
   "execution_count": 27,
   "metadata": {},
   "outputs": [
    {
     "name": "stderr",
     "output_type": "stream",
     "text": [
      "2021-12-10 23:55:10.833352: I tensorflow/stream_executor/platform/default/dso_loader.cc:44] Successfully opened dynamic library libcuda.so.1\n",
      "2021-12-10 23:55:10.864126: I tensorflow/stream_executor/cuda/cuda_gpu_executor.cc:981] successful NUMA node read from SysFS had negative value (-1), but there must be at least one NUMA node, so returning NUMA node zero\n",
      "2021-12-10 23:55:10.864801: I tensorflow/core/common_runtime/gpu/gpu_device.cc:1561] Found device 0 with properties: \n",
      "pciBusID: 0000:00:06.0 name: Tesla T4 computeCapability: 7.5\n",
      "coreClock: 1.59GHz coreCount: 40 deviceMemorySize: 14.75GiB deviceMemoryBandwidth: 298.08GiB/s\n",
      "2021-12-10 23:55:10.865018: I tensorflow/stream_executor/platform/default/dso_loader.cc:44] Successfully opened dynamic library libcudart.so.10.1\n",
      "2021-12-10 23:55:10.866233: I tensorflow/stream_executor/platform/default/dso_loader.cc:44] Successfully opened dynamic library libcublas.so.10\n",
      "2021-12-10 23:55:10.867535: I tensorflow/stream_executor/platform/default/dso_loader.cc:44] Successfully opened dynamic library libcufft.so.10\n",
      "2021-12-10 23:55:10.867727: I tensorflow/stream_executor/platform/default/dso_loader.cc:44] Successfully opened dynamic library libcurand.so.10\n",
      "2021-12-10 23:55:10.869034: I tensorflow/stream_executor/platform/default/dso_loader.cc:44] Successfully opened dynamic library libcusolver.so.10\n",
      "2021-12-10 23:55:10.869872: I tensorflow/stream_executor/platform/default/dso_loader.cc:44] Successfully opened dynamic library libcusparse.so.10\n",
      "2021-12-10 23:55:10.872643: I tensorflow/stream_executor/platform/default/dso_loader.cc:44] Successfully opened dynamic library libcudnn.so.7\n",
      "2021-12-10 23:55:10.872811: I tensorflow/stream_executor/cuda/cuda_gpu_executor.cc:981] successful NUMA node read from SysFS had negative value (-1), but there must be at least one NUMA node, so returning NUMA node zero\n",
      "2021-12-10 23:55:10.873543: I tensorflow/stream_executor/cuda/cuda_gpu_executor.cc:981] successful NUMA node read from SysFS had negative value (-1), but there must be at least one NUMA node, so returning NUMA node zero\n",
      "2021-12-10 23:55:10.874148: I tensorflow/core/common_runtime/gpu/gpu_device.cc:1703] Adding visible gpu devices: 0\n",
      "2021-12-10 23:55:10.875030: I tensorflow/core/platform/cpu_feature_guard.cc:143] Your CPU supports instructions that this TensorFlow binary was not compiled to use: SSE4.1 SSE4.2 AVX AVX2 FMA\n",
      "2021-12-10 23:55:10.881146: I tensorflow/core/platform/profile_utils/cpu_utils.cc:102] CPU Frequency: 1996245000 Hz\n",
      "2021-12-10 23:55:10.881817: I tensorflow/compiler/xla/service/service.cc:168] XLA service 0x560a94022730 initialized for platform Host (this does not guarantee that XLA will be used). Devices:\n",
      "2021-12-10 23:55:10.881831: I tensorflow/compiler/xla/service/service.cc:176]   StreamExecutor device (0): Host, Default Version\n",
      "2021-12-10 23:55:10.881997: I tensorflow/stream_executor/cuda/cuda_gpu_executor.cc:981] successful NUMA node read from SysFS had negative value (-1), but there must be at least one NUMA node, so returning NUMA node zero\n",
      "2021-12-10 23:55:10.882637: I tensorflow/core/common_runtime/gpu/gpu_device.cc:1561] Found device 0 with properties: \n",
      "pciBusID: 0000:00:06.0 name: Tesla T4 computeCapability: 7.5\n",
      "coreClock: 1.59GHz coreCount: 40 deviceMemorySize: 14.75GiB deviceMemoryBandwidth: 298.08GiB/s\n",
      "2021-12-10 23:55:10.882680: I tensorflow/stream_executor/platform/default/dso_loader.cc:44] Successfully opened dynamic library libcudart.so.10.1\n",
      "2021-12-10 23:55:10.882694: I tensorflow/stream_executor/platform/default/dso_loader.cc:44] Successfully opened dynamic library libcublas.so.10\n",
      "2021-12-10 23:55:10.882707: I tensorflow/stream_executor/platform/default/dso_loader.cc:44] Successfully opened dynamic library libcufft.so.10\n",
      "2021-12-10 23:55:10.882718: I tensorflow/stream_executor/platform/default/dso_loader.cc:44] Successfully opened dynamic library libcurand.so.10\n",
      "2021-12-10 23:55:10.882728: I tensorflow/stream_executor/platform/default/dso_loader.cc:44] Successfully opened dynamic library libcusolver.so.10\n",
      "2021-12-10 23:55:10.882740: I tensorflow/stream_executor/platform/default/dso_loader.cc:44] Successfully opened dynamic library libcusparse.so.10\n",
      "2021-12-10 23:55:10.882751: I tensorflow/stream_executor/platform/default/dso_loader.cc:44] Successfully opened dynamic library libcudnn.so.7\n",
      "2021-12-10 23:55:10.882809: I tensorflow/stream_executor/cuda/cuda_gpu_executor.cc:981] successful NUMA node read from SysFS had negative value (-1), but there must be at least one NUMA node, so returning NUMA node zero\n",
      "2021-12-10 23:55:10.883470: I tensorflow/stream_executor/cuda/cuda_gpu_executor.cc:981] successful NUMA node read from SysFS had negative value (-1), but there must be at least one NUMA node, so returning NUMA node zero\n",
      "2021-12-10 23:55:10.884068: I tensorflow/core/common_runtime/gpu/gpu_device.cc:1703] Adding visible gpu devices: 0\n",
      "2021-12-10 23:55:10.884098: I tensorflow/stream_executor/platform/default/dso_loader.cc:44] Successfully opened dynamic library libcudart.so.10.1\n",
      "2021-12-10 23:55:10.956925: I tensorflow/core/common_runtime/gpu/gpu_device.cc:1102] Device interconnect StreamExecutor with strength 1 edge matrix:\n",
      "2021-12-10 23:55:10.956955: I tensorflow/core/common_runtime/gpu/gpu_device.cc:1108]      0 \n",
      "2021-12-10 23:55:10.956961: I tensorflow/core/common_runtime/gpu/gpu_device.cc:1121] 0:   N \n",
      "2021-12-10 23:55:10.957283: I tensorflow/stream_executor/cuda/cuda_gpu_executor.cc:981] successful NUMA node read from SysFS had negative value (-1), but there must be at least one NUMA node, so returning NUMA node zero\n",
      "2021-12-10 23:55:10.957959: I tensorflow/stream_executor/cuda/cuda_gpu_executor.cc:981] successful NUMA node read from SysFS had negative value (-1), but there must be at least one NUMA node, so returning NUMA node zero\n",
      "2021-12-10 23:55:10.958579: I tensorflow/stream_executor/cuda/cuda_gpu_executor.cc:981] successful NUMA node read from SysFS had negative value (-1), but there must be at least one NUMA node, so returning NUMA node zero\n",
      "2021-12-10 23:55:10.959168: I tensorflow/core/common_runtime/gpu/gpu_device.cc:1247] Created TensorFlow device (/job:localhost/replica:0/task:0/device:GPU:0 with 14109 MB memory) -> physical GPU (device: 0, name: Tesla T4, pci bus id: 0000:00:06.0, compute capability: 7.5)\n",
      "2021-12-10 23:55:10.960938: I tensorflow/compiler/xla/service/service.cc:168] XLA service 0x560a94059320 initialized for platform CUDA (this does not guarantee that XLA will be used). Devices:\n",
      "2021-12-10 23:55:10.960949: I tensorflow/compiler/xla/service/service.cc:176]   StreamExecutor device (0): Tesla T4, Compute Capability 7.5\n"
     ]
    },
    {
     "name": "stdout",
     "output_type": "stream",
     "text": [
      "Epoch 1/10\n",
      "  1/322 [..............................] - ETA: 0s - loss: 0.4277"
     ]
    },
    {
     "name": "stderr",
     "output_type": "stream",
     "text": [
      "2021-12-10 23:55:11.821828: I tensorflow/stream_executor/platform/default/dso_loader.cc:44] Successfully opened dynamic library libcublas.so.10\n"
     ]
    },
    {
     "name": "stdout",
     "output_type": "stream",
     "text": [
      "322/322 [==============================] - 1s 3ms/step - loss: 0.3248 - val_loss: 0.2279\n",
      "Epoch 2/10\n",
      "322/322 [==============================] - 1s 2ms/step - loss: 0.1903 - val_loss: 0.1616\n",
      "Epoch 3/10\n",
      "322/322 [==============================] - 1s 2ms/step - loss: 0.1635 - val_loss: 0.1574\n",
      "Epoch 4/10\n",
      "322/322 [==============================] - 1s 2ms/step - loss: 0.1624 - val_loss: 0.1574\n",
      "Epoch 5/10\n",
      "322/322 [==============================] - 1s 2ms/step - loss: 0.1622 - val_loss: 0.1577\n",
      "Epoch 6/10\n",
      "322/322 [==============================] - 1s 2ms/step - loss: 0.1623 - val_loss: 0.1578\n",
      "Epoch 7/10\n",
      "322/322 [==============================] - 1s 2ms/step - loss: 0.1622 - val_loss: 0.1577\n",
      "Epoch 8/10\n",
      "322/322 [==============================] - 1s 2ms/step - loss: 0.1622 - val_loss: 0.1575\n",
      "Epoch 9/10\n",
      "322/322 [==============================] - 1s 2ms/step - loss: 0.1622 - val_loss: 0.1577\n",
      "Epoch 10/10\n",
      "322/322 [==============================] - 1s 2ms/step - loss: 0.1622 - val_loss: 0.1578\n",
      "0.16150719\n",
      "0.043462235\n"
     ]
    }
   ],
   "source": [
    "in_dim = xtrain.shape[1]\n",
    "out_dim = ytrain.shape[1]\n",
    "\n",
    "\n",
    "model = Sequential()\n",
    "\n",
    "model.add(Dense(5, input_dim=in_dim, kernel_initializer='he_uniform', activation='relu'))\n",
    "model.add(Dense(4, input_dim=in_dim, kernel_initializer='he_uniform', activation='relu'))\n",
    "model.add(Dense(3, input_dim=in_dim, kernel_initializer='he_uniform', activation='relu'))\n",
    "model.add(Dense(2, input_dim=in_dim, kernel_initializer='he_uniform', activation='relu'))\n",
    "model.add(Dense(1, input_dim=in_dim, kernel_initializer='he_uniform', activation='relu'))\n",
    "\n",
    "model.add(Dense(out_dim))\n",
    "model.compile(loss='mae', optimizer='adam')\n",
    "\n",
    "\n",
    "model.fit(xtrain, ytrain, epochs=10, batch_size=2, validation_split = 0.2, verbose=1)\n",
    "ypred = model.predict(xtest)\n",
    "\n",
    "score = tf.keras.metrics.mean_absolute_error(\n",
    "    ytest, ypred\n",
    ")\n",
    "score= np.array(score)\n",
    "print(score.mean())\n",
    "\n",
    "score_mse = tf.keras.metrics.mean_squared_error(\n",
    "    ytest, ypred\n",
    ")\n",
    "score_mse =  np.array(score_mse)\n",
    "print(score_mse.mean())\n"
   ]
  },
  {
   "cell_type": "markdown",
   "metadata": {},
   "source": [
    "## mlp 1 hiddenlayer with keras"
   ]
  },
  {
   "cell_type": "code",
   "execution_count": 28,
   "metadata": {},
   "outputs": [
    {
     "name": "stdout",
     "output_type": "stream",
     "text": [
      "Epoch 1/10\n",
      "322/322 [==============================] - 1s 2ms/step - loss: 1.9378 - val_loss: 0.2497\n",
      "Epoch 2/10\n",
      "322/322 [==============================] - 0s 1ms/step - loss: 0.1953 - val_loss: 0.1726\n",
      "Epoch 3/10\n",
      "322/322 [==============================] - 0s 1ms/step - loss: 0.1640 - val_loss: 0.1665\n",
      "Epoch 4/10\n",
      "322/322 [==============================] - 0s 1ms/step - loss: 0.1623 - val_loss: 0.1665\n",
      "Epoch 5/10\n",
      "322/322 [==============================] - 0s 1ms/step - loss: 0.1623 - val_loss: 0.1666\n",
      "Epoch 6/10\n",
      "322/322 [==============================] - 0s 1ms/step - loss: 0.1622 - val_loss: 0.1665\n",
      "Epoch 7/10\n",
      "322/322 [==============================] - 0s 1ms/step - loss: 0.1623 - val_loss: 0.1665\n",
      "Epoch 8/10\n",
      "322/322 [==============================] - 0s 1ms/step - loss: 0.1622 - val_loss: 0.1667\n",
      "Epoch 9/10\n",
      "322/322 [==============================] - 0s 2ms/step - loss: 0.1622 - val_loss: 0.1665\n",
      "Epoch 10/10\n",
      "322/322 [==============================] - 0s 1ms/step - loss: 0.1623 - val_loss: 0.1666\n",
      "0.16360804\n",
      "0.045134686\n"
     ]
    }
   ],
   "source": [
    "in_dim = xtrain.shape[1]\n",
    "out_dim = ytrain.shape[1]\n",
    "\n",
    "\n",
    "model = Sequential()\n",
    "\n",
    "model.add(Dense(7, input_dim=in_dim, kernel_initializer='he_uniform', activation='relu'))\n",
    "\n",
    "\n",
    "model.add(Dense(out_dim))\n",
    "model.compile(loss='mae', optimizer='adam')\n",
    "\n",
    "\n",
    "model.fit(xtrain, ytrain, epochs=10, batch_size=2, validation_split = 0.2, verbose=1)\n",
    "ypred = model.predict(xtest)\n",
    "\n",
    "score = tf.keras.metrics.mean_absolute_error(\n",
    "    ytest, ypred\n",
    ")\n",
    "score= np.array(score)\n",
    "print(score.mean())\n",
    "\n",
    "score_mse = tf.keras.metrics.mean_squared_error(\n",
    "    ytest, ypred\n",
    ")\n",
    "score_mse =  np.array(score_mse)\n",
    "print(score_mse.mean())"
   ]
  }
 ],
 "metadata": {
  "colab": {
   "collapsed_sections": [],
   "include_colab_link": true,
   "name": "DataScienceLab.ipynb",
   "provenance": []
  },
  "interpreter": {
   "hash": "a9205b650ad9b26ded1fb73bba57cf404cfc03cd0c8186ebe669ad7e6a2a6143"
  },
  "kernelspec": {
   "display_name": "Python 3.8.5 64-bit ('ai4halth': conda)",
   "name": "python3"
  },
  "language_info": {
   "codemirror_mode": {
    "name": "ipython",
    "version": 3
   },
   "file_extension": ".py",
   "mimetype": "text/x-python",
   "name": "python",
   "nbconvert_exporter": "python",
   "pygments_lexer": "ipython3",
   "version": "3.8.5"
  }
 },
 "nbformat": 4,
 "nbformat_minor": 1
}
