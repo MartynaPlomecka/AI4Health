{
 "cells": [
  {
   "cell_type": "code",
   "execution_count": 1,
   "metadata": {
    "colab": {},
    "colab_type": "code",
    "id": "7YxOz-zNNlyy"
   },
   "outputs": [],
   "source": [
    "import scipy.io\n",
    "import mat73\n",
    "import pandas as pd\n",
    "import numpy as np\n",
    "from numpy import array\n",
    "from numpy.random import uniform\n",
    "from numpy import hstack\n",
    "import matplotlib.pyplot as plt\n",
    "\n",
    "import tensorflow as tf\n",
    "from tensorflow.keras.models import Model, load_model\n",
    "from tensorflow.keras.layers import Input, Dense, LeakyReLU, BatchNormalization\n",
    "from tensorflow.keras.utils import plot_model, to_categorical\n",
    "from tensorflow.keras.models import Sequential\n",
    "from tensorflow.keras.layers import Dense\n",
    "import matplotlib.pyplot as plt\n",
    "\n",
    "from sklearn.model_selection import train_test_split\n",
    "from sklearn.metrics import mean_squared_error\n",
    "from sklearn.multioutput import MultiOutputRegressor\n",
    "from sklearn.ensemble import RandomForestRegressor\n",
    "from sklearn.ensemble import RandomForestClassifier as rf\n",
    "from sklearn.svm import SVC as svm\n",
    "from sklearn.linear_model import LogisticRegression as lg\n",
    "from sklearn.metrics import confusion_matrix,accuracy_score,balanced_accuracy_score,f1_score\n",
    "from sklearn import preprocessing\n",
    "from sklearn.decomposition import PCA\n",
    "from sklearn.model_selection import StratifiedKFold\n",
    "from sklearn.exceptions import ConvergenceWarning\n",
    "from warnings import simplefilter,filterwarnings\n",
    "\n",
    "# ignore all future warnings1\n",
    "simplefilter(action='ignore', category=FutureWarning)\n",
    "\n"
   ]
  },
  {
   "cell_type": "code",
   "execution_count": 2,
   "metadata": {},
   "outputs": [],
   "source": [
    "import os\n",
    "\n",
    "DATA_DIR = ''\n",
    "if 'google.colab' not in str(get_ipython()):\n",
    "    if \"anuja\" in os.environ.get('USER'):\n",
    "        DATA_DIR = 'data/'\n",
    "    elif 'ubuntu' in os.environ.get('USER'):\n",
    "        DATA_DIR = '/home/ubuntu/Martyna/repo/AI4Health/DATAfoof/datafoofed'\n",
    "    "
   ]
  },
  {
   "cell_type": "markdown",
   "metadata": {},
   "source": [
    "## Data Loading and PCA"
   ]
  },
  {
   "cell_type": "code",
   "execution_count": 3,
   "metadata": {},
   "outputs": [],
   "source": [
    "path = os.path.join(DATA_DIR, 'split_data_csv')\n",
    "\n",
    "#loading\n",
    "xtrain = pd.read_csv(os.path.join(path, 'train_features_source.csv')).drop('IDs', axis = 1)\n",
    "xtest = pd.read_csv(os.path.join(path, 'test_features_source_regression.csv')).drop('IDs', axis = 1)\n",
    "ytrain = pd.read_csv(os.path.join(path, 'train_labels_regression.csv')).drop('IDs', axis = 1)\n",
    "ytest = pd.read_csv(os.path.join(path, 'test_labels_regression.csv')).drop('IDs', axis = 1)\n"
   ]
  },
  {
   "cell_type": "code",
   "execution_count": 4,
   "metadata": {},
   "outputs": [],
   "source": [
    "# dealing with NaNs\n",
    "train_set = pd.concat([xtrain, ytrain], axis=1)\n",
    "train_set = train_set.dropna()\n",
    "\n",
    "labels_list = ['SRS_SCI_T', 'SRS_RRB_T', 'SWAN_IN_Avg', 'SWAN_HY_Avg', 'SCARED_P_GD','WISC_WMI_Sum', 'WISC_VCI_Sum']\n",
    "\n",
    "xtrain = pd.DataFrame.copy(train_set)\n",
    "xtrain = xtrain.drop(labels_list, axis=1)\n",
    "\n",
    "ytrain = train_set[labels_list]\n"
   ]
  },
  {
   "cell_type": "code",
   "execution_count": 5,
   "metadata": {},
   "outputs": [],
   "source": [
    "xtrain = np.array(xtrain)\n",
    "xtest = np.array(xtest)\n",
    "ytrain = np.array(ytrain) \n",
    "ytest = np.array(ytest) "
   ]
  },
  {
   "cell_type": "code",
   "execution_count": 6,
   "metadata": {},
   "outputs": [],
   "source": [
    "age_gender = True\n",
    "if age_gender:\n",
    "    train_age_gender = xtrain[:,-2:]\n",
    "    test_age_gender = xtest[:,-2:]\n",
    "    xtrain = xtrain[:,:-2]\n",
    "    xtest = xtest[:,:-2]"
   ]
  },
  {
   "cell_type": "code",
   "execution_count": 7,
   "metadata": {},
   "outputs": [
    {
     "name": "stdout",
     "output_type": "stream",
     "text": [
      "(821, 5508) (249, 5508)\n",
      "Applying PCA...\n",
      "(821, 365) (249, 365)\n"
     ]
    }
   ],
   "source": [
    "# scaling x\n",
    "norm = preprocessing.MinMaxScaler().fit(xtrain)\n",
    "\n",
    "# transform training data\n",
    "xtrain = norm.transform(xtrain)\n",
    "xtest = norm.transform(xtest)\n",
    "print(xtrain.shape, xtest.shape)\n",
    "\n",
    "print('Applying PCA...')\n",
    "pca = PCA(.95) # 95% variance retained\n",
    "pca.fit(xtrain)\n",
    "\n",
    "# transform data\n",
    "xtrain = pca.transform(xtrain)\n",
    "xtest = pca.transform(xtest)\n",
    "print(xtrain.shape, xtest.shape)"
   ]
  },
  {
   "cell_type": "code",
   "execution_count": 8,
   "metadata": {},
   "outputs": [],
   "source": [
    "if age_gender:\n",
    "    xtrain = np.concatenate([xtrain, train_age_gender], axis = 1)\n",
    "    xtest = np.concatenate([xtest, test_age_gender], axis = 1)"
   ]
  },
  {
   "cell_type": "code",
   "execution_count": 9,
   "metadata": {},
   "outputs": [
    {
     "name": "stdout",
     "output_type": "stream",
     "text": [
      "(821, 7) (249, 7)\n"
     ]
    }
   ],
   "source": [
    "# scaling y\n",
    "min_max_scaler = preprocessing.MinMaxScaler().fit(ytrain)\n",
    "ytrain = min_max_scaler.transform(ytrain)\n",
    "ytest = min_max_scaler.transform(ytest)\n",
    "print(ytrain.shape, ytest.shape)"
   ]
  },
  {
   "cell_type": "code",
   "execution_count": 10,
   "metadata": {},
   "outputs": [
    {
     "data": {
      "text/plain": [
       "array([0.41207651, 0.33093042, 0.61970492, 0.54637522, 0.25707132,\n",
       "       0.4584729 , 0.49502042])"
      ]
     },
     "execution_count": 10,
     "metadata": {},
     "output_type": "execute_result"
    }
   ],
   "source": [
    "ytrain.mean(axis=0)"
   ]
  },
  {
   "cell_type": "markdown",
   "metadata": {},
   "source": [
    "## MODELLING PART"
   ]
  },
  {
   "cell_type": "markdown",
   "metadata": {},
   "source": [
    "### dummy regressors (to obtain the random baseline):"
   ]
  },
  {
   "cell_type": "code",
   "execution_count": 11,
   "metadata": {},
   "outputs": [
    {
     "name": "stdout",
     "output_type": "stream",
     "text": [
      "Mean squared error (dummy): 0.04\n",
      "Median absolute error (dummy): 0.14\n",
      "r2_score (dummy mean): -0.00\n",
      "r2_score (dummy median): -0.02\n"
     ]
    }
   ],
   "source": [
    "import matplotlib.pyplot as plt\n",
    "import numpy as np\n",
    "from sklearn.model_selection import train_test_split\n",
    "from sklearn import datasets\n",
    "from sklearn.linear_model import LinearRegression\n",
    "from sklearn.metrics import mean_squared_error, r2_score, median_absolute_error\n",
    "from sklearn.dummy import DummyRegressor\n",
    "\n",
    "\n",
    "lm_dummy_mean = DummyRegressor(strategy = 'mean').fit(xtrain, ytrain)\n",
    "lm_dummy_median = DummyRegressor(strategy = 'median').fit(xtrain, ytrain)\n",
    "ypred_dummy_mean = lm_dummy_mean.predict(xtest)\n",
    "ypred_dummy_median = lm_dummy_median.predict(xtest)\n",
    "\n",
    "\n",
    "print(\"Mean squared error (dummy): {:.2f}\".format(mean_squared_error(ytest,\n",
    "\t\t\t\t\t\t\t\t\t\t\t\t\t\t\t\t\typred_dummy_mean)))\n",
    "\n",
    "print(\"Median absolute error (dummy): {:.2f}\".format(median_absolute_error(ytest,\n",
    "\t\t\t\t\t\t\t\t\t\t\t\t\t\t\t\t\typred_dummy_median)))\n",
    "\n",
    "print(\"r2_score (dummy mean): {:.2f}\".format(r2_score(ytest, ypred_dummy_mean)))\n",
    "print(\"r2_score (dummy median): {:.2f}\".format(r2_score(ytest, ypred_dummy_median)))\n"
   ]
  },
  {
   "cell_type": "code",
   "execution_count": 12,
   "metadata": {},
   "outputs": [
    {
     "name": "stdout",
     "output_type": "stream",
     "text": [
      "[-3.10213413e-05 -6.48839750e-04 -6.85648162e-04 -7.68523259e-03\n",
      " -6.64823365e-04 -4.30433157e-03 -1.92504557e-04]\n",
      "[-0.00958698 -0.05027377 -0.00584059 -0.00165957 -0.03306712 -0.01620028\n",
      " -0.00175876]\n"
     ]
    }
   ],
   "source": [
    "print(r2_score(ytest, ypred_dummy_mean, multioutput='raw_values'))\n",
    "print(r2_score(ytest, ypred_dummy_median, multioutput='raw_values'))\n"
   ]
  },
  {
   "cell_type": "code",
   "execution_count": 13,
   "metadata": {},
   "outputs": [],
   "source": [
    "# save predictions to csv file\n",
    "ypred = np.array(ypred_dummy_mean)\n",
    "np.savetxt('predicted_labels_reg_dummy_mean.csv', min_max_scaler.inverse_transform(ypred), delimiter=',')"
   ]
  },
  {
   "cell_type": "markdown",
   "metadata": {},
   "source": [
    "## MOR regressor with base SVR regressor"
   ]
  },
  {
   "cell_type": "code",
   "execution_count": 14,
   "metadata": {},
   "outputs": [],
   "source": [
    "n = 3"
   ]
  },
  {
   "cell_type": "code",
   "execution_count": 15,
   "metadata": {},
   "outputs": [
    {
     "name": "stdout",
     "output_type": "stream",
     "text": [
      "Mean squared error (SVR): 0.05 [0.05, 0.05]\n",
      "Mean abs error (SVR) 0.18 [0.18, 0.18]\n",
      "R2 score (SVR): -0.10 [-0.11, -0.08]\n"
     ]
    }
   ],
   "source": [
    "from sklearn.datasets import make_regression\n",
    "from sklearn.multioutput import MultiOutputRegressor\n",
    "from sklearn.svm import SVR\n",
    "from sklearn.model_selection import train_test_split\n",
    "from sklearn.metrics import mean_squared_error, mean_absolute_error\n",
    "from sklearn.utils import resample\n",
    "\n",
    "# Create the SVR regressor\n",
    "svr = SVR(epsilon=0.2)\n",
    "#Create the Multioutput Regressor\n",
    "model = MultiOutputRegressor(svr)\n",
    "# Train the regressor\n",
    "#model = model.fit(xtrain, ytrain)\n",
    "# Generate predictions for testing data\n",
    "#ypred = model.predict(xtest)\n",
    "\n",
    "\n",
    "mse = []\n",
    "r = []\n",
    "mae = []\n",
    "for i in range(n):\n",
    "# Generate predictions for testing data\n",
    "    # Resample\n",
    "\tresampled_xtest, resampled_ytest = resample(xtest, ytest, replace=True, n_samples=len(ytest), random_state=7+i)\n",
    "\tmodel = model.fit(xtrain, ytrain)\n",
    "\typred = model.predict(resampled_xtest)\n",
    "\tmse.append(mean_squared_error(resampled_ytest,ypred))\n",
    "\tr.append(model.score(resampled_xtest, resampled_ytest))\n",
    "\tmae.append(mean_absolute_error(resampled_ytest,ypred))\n",
    "\n",
    "print(\"Mean squared error (SVR): {:.2f} [{:.2f}, {:.2f}]\".format(np.mean(mse), np.percentile(mse, 5), np.percentile(mse, 95)))\n",
    "print(\"Mean abs error (SVR) {:.2f} [{:.2f}, {:.2f}]\".format(np.mean(mae), np.percentile(mae, 5), np.percentile(mae, 95)))\n",
    "print(\"R2 score (SVR): {:.2f} [{:.2f}, {:.2f}]\".format(np.mean(r), np.percentile(r, 5), np.percentile(r, 95)))\n",
    "\n",
    "\n"
   ]
  },
  {
   "cell_type": "code",
   "execution_count": 16,
   "metadata": {},
   "outputs": [
    {
     "data": {
      "text/plain": [
       "-0.09480142365510469"
      ]
     },
     "execution_count": 16,
     "metadata": {},
     "output_type": "execute_result"
    }
   ],
   "source": [
    "model.score(resampled_xtest, resampled_ytest)"
   ]
  },
  {
   "cell_type": "code",
   "execution_count": 17,
   "metadata": {},
   "outputs": [
    {
     "name": "stdout",
     "output_type": "stream",
     "text": [
      "-0.09480142365510469\n",
      "[-0.04096668 -0.08516476 -0.09885989 -0.16405838 -0.10037144  0.00090482\n",
      " -0.17509364]\n"
     ]
    }
   ],
   "source": [
    "print(model.score(resampled_xtest, resampled_ytest))\n",
    "from sklearn.metrics import r2_score\n",
    "print(r2_score(resampled_ytest, ypred, multioutput='raw_values'))\n",
    "\n",
    "#np.mean(r2_score(resampled_ytest, ypred, multioutput='raw_values'))"
   ]
  },
  {
   "cell_type": "code",
   "execution_count": 18,
   "metadata": {},
   "outputs": [],
   "source": [
    "# save predictions to csv file\n",
    "ypred = np.array(ypred)\n",
    "\n",
    "np.savetxt('predicted_labels_reg_MOR_SVR.csv', min_max_scaler.inverse_transform(ypred), delimiter=',')"
   ]
  },
  {
   "cell_type": "code",
   "execution_count": 19,
   "metadata": {},
   "outputs": [],
   "source": [
    "%%capture\n",
    "\n",
    "import sys, os\n",
    "\n",
    "predicted_labels_shuffled = np.copy(ytest)\n",
    "np.random.shuffle(predicted_labels_shuffled)\n",
    "\n",
    "print(\"r2_score (labels_shuffled): {:.2f}\".format(r2_score(ytest, predicted_labels_shuffled)))\n",
    "\n",
    "\n",
    "r = []\n",
    "for i in range(n):\n",
    "# Generate predictions for testing data\n",
    "    # Resample\n",
    "\tresampled_xtest, resampled_ytest = resample(xtest, ytest, replace=True, n_samples=len(ytest), random_state=7+i)\n",
    "\typred = model.predict(resampled_xtest)\n",
    "\tmse.append(mean_squared_error(resampled_ytest,predicted_labels_shuffled))\n",
    "\tr.append(model.score(resampled_xtest, resampled_ytest))\n",
    "\tmae.append(mean_absolute_error(resampled_ytest,predicted_labels_shuffled))"
   ]
  },
  {
   "cell_type": "code",
   "execution_count": 20,
   "metadata": {},
   "outputs": [
    {
     "name": "stdout",
     "output_type": "stream",
     "text": [
      "R2 score (labels_shuffled): -0.10 [-0.11, -0.08]\n",
      "[-0.04096668 -0.08516476 -0.09885989 -0.16405838 -0.10037144  0.00090482\n",
      " -0.17509364]\n"
     ]
    }
   ],
   "source": [
    "print(\"R2 score (labels_shuffled): {:.2f} [{:.2f}, {:.2f}]\".format(np.mean(r), np.percentile(r, 5), np.percentile(r, 95)))\n",
    "\n",
    "print(r2_score(resampled_ytest, ypred, multioutput='raw_values'))\n"
   ]
  },
  {
   "cell_type": "code",
   "execution_count": 21,
   "metadata": {},
   "outputs": [
    {
     "name": "stdout",
     "output_type": "stream",
     "text": [
      "[-0.04096668 -0.08516476 -0.09885989 -0.16405838 -0.10037144  0.00090482\n",
      " -0.17509364]\n"
     ]
    }
   ],
   "source": [
    "print(r2_score(resampled_ytest, ypred, multioutput='raw_values'))"
   ]
  },
  {
   "cell_type": "code",
   "execution_count": 22,
   "metadata": {},
   "outputs": [],
   "source": [
    "# save predictions to csv file\n",
    "ypred = np.array(ypred)\n",
    "np.savetxt('predicted_labels_reg_shuffled.csv', min_max_scaler.inverse_transform(ypred), delimiter=',')"
   ]
  },
  {
   "cell_type": "code",
   "execution_count": 23,
   "metadata": {},
   "outputs": [
    {
     "name": "stdout",
     "output_type": "stream",
     "text": [
      "Mean squared error (RanFor): 0.05 [0.04, 0.05]\n",
      "Mean abs error (RanFor) 0.17 [0.17, 0.17]\n",
      "R2 score (RanFor): -0.04 [-0.05, -0.04]\n"
     ]
    }
   ],
   "source": [
    "max_depth = 30\n",
    "model = MultiOutputRegressor(\n",
    "    RandomForestRegressor(n_estimators=100, max_depth=max_depth, random_state=7)\n",
    ")\n",
    "\n",
    "mse = []\n",
    "r = []\n",
    "mae = []\n",
    "for i in range(n):\n",
    "# Generate predictions for testing data\n",
    "    # Resample\n",
    "\tresampled_xtest, resampled_ytest = resample(xtest, ytest, replace=True, n_samples=len(ytest), random_state=7+i)\n",
    "\tmodel.fit(xtrain, ytrain)\n",
    "\typred = model.predict(resampled_xtest)\n",
    "\tmse.append(mean_squared_error(resampled_ytest,ypred))\n",
    "\tr.append(model.score(resampled_xtest, resampled_ytest))\n",
    "\tmae.append(mean_absolute_error(resampled_ytest,ypred))\n",
    "\n",
    "print(\"Mean squared error (RanFor): {:.2f} [{:.2f}, {:.2f}]\".format(np.mean(mse), np.percentile(mse, 5), np.percentile(mse, 95)))\n",
    "print(\"Mean abs error (RanFor) {:.2f} [{:.2f}, {:.2f}]\".format(np.mean(mae), np.percentile(mae, 5), np.percentile(mae, 95)))\n",
    "print(\"R2 score (RanFor): {:.2f} [{:.2f}, {:.2f}]\".format(np.mean(r), np.percentile(r, 5), np.percentile(r, 95)))"
   ]
  },
  {
   "cell_type": "code",
   "execution_count": 24,
   "metadata": {},
   "outputs": [
    {
     "name": "stdout",
     "output_type": "stream",
     "text": [
      "[-0.06434237 -0.08469965 -0.0203446  -0.02754431 -0.12903317 -0.0026736\n",
      " -0.03530642]\n"
     ]
    }
   ],
   "source": [
    "print(r2_score(resampled_ytest, ypred, multioutput='raw_values'))\n"
   ]
  },
  {
   "cell_type": "code",
   "execution_count": 25,
   "metadata": {},
   "outputs": [],
   "source": [
    "# save predictions to csv file\n",
    "ypred = np.array(ypred)\n",
    "np.savetxt('predicted_labels_reg_MOR_randfor.csv', min_max_scaler.inverse_transform(ypred), delimiter=',')"
   ]
  },
  {
   "cell_type": "code",
   "execution_count": 26,
   "metadata": {},
   "outputs": [
    {
     "name": "stdout",
     "output_type": "stream",
     "text": [
      "Mean squared error (RanFor): 0.05 [0.04, 0.05]\n",
      "Mean abs error (RanFor) 0.17 [0.16, 0.17]\n",
      "R2 score (RanFor): -0.06 [-0.08, -0.04]\n"
     ]
    }
   ],
   "source": [
    "# chained multioutput regressor\n",
    "from numpy import mean\n",
    "from numpy import std\n",
    "from numpy import absolute\n",
    "from sklearn.model_selection import cross_val_score\n",
    "from sklearn.model_selection import RepeatedKFold\n",
    "from sklearn.multioutput import RegressorChain\n",
    "from sklearn.ensemble import RandomForestRegressor\n",
    "# define dataset\n",
    "# define base model\n",
    "model = RandomForestRegressor()\n",
    "# define the chained multioutput wrapper model\n",
    "model = RegressorChain(model)\n",
    "# Train the regressor\n",
    "\n",
    "mse = []\n",
    "r = []\n",
    "mae = []\n",
    "for i in range(n):\n",
    "# Generate predictions for testing data\n",
    "    # Resample\n",
    "\tresampled_xtest, resampled_ytest = resample(xtest, ytest, replace=True, n_samples=len(ytest), random_state=7+i)\n",
    "\tmodel = model.fit(xtrain, ytrain)\n",
    "\typred = model.predict(resampled_xtest)\n",
    "\tmse.append(mean_squared_error(resampled_ytest,ypred))\n",
    "\tr.append(model.score(resampled_xtest, resampled_ytest))\n",
    "\tmae.append(mean_absolute_error(resampled_ytest,ypred))\n",
    "\n",
    "print(\"Mean squared error (RanFor): {:.2f} [{:.2f}, {:.2f}]\".format(np.mean(mse), np.percentile(mse, 5), np.percentile(mse, 95)))\n",
    "print(\"Mean abs error (RanFor) {:.2f} [{:.2f}, {:.2f}]\".format(np.mean(mae), np.percentile(mae, 5), np.percentile(mae, 95)))\n",
    "print(\"R2 score (RanFor): {:.2f} [{:.2f}, {:.2f}]\".format(np.mean(r), np.percentile(r, 5), np.percentile(r, 95)))"
   ]
  },
  {
   "cell_type": "code",
   "execution_count": 27,
   "metadata": {},
   "outputs": [
    {
     "name": "stdout",
     "output_type": "stream",
     "text": [
      "[-0.07605471 -0.10858293 -0.04326235 -0.055792   -0.09524281 -0.00096336\n",
      " -0.17882641]\n"
     ]
    }
   ],
   "source": [
    "print(r2_score(resampled_ytest, ypred, multioutput='raw_values'))"
   ]
  },
  {
   "cell_type": "code",
   "execution_count": 28,
   "metadata": {},
   "outputs": [],
   "source": [
    "# save predictions to csv file\n",
    "ypred = np.array(ypred)\n",
    "np.savetxt('predicted_labels_reg_chain_randfor.csv', min_max_scaler.inverse_transform(ypred), delimiter=',')"
   ]
  },
  {
   "cell_type": "code",
   "execution_count": 29,
   "metadata": {},
   "outputs": [
    {
     "name": "stdout",
     "output_type": "stream",
     "text": [
      "Mean squared error (SVR): 0.05 [0.05, 0.05]\n",
      "Mean abs error (SVR) 0.18 [0.18, 0.18]\n",
      "R2 score (SVR): -0.15 [-0.16, -0.13]\n"
     ]
    }
   ],
   "source": [
    "# chained multioutput regressor\n",
    "from numpy import mean\n",
    "from numpy import std\n",
    "from numpy import absolute\n",
    "from sklearn.model_selection import cross_val_score\n",
    "from sklearn.model_selection import RepeatedKFold\n",
    "from sklearn.multioutput import RegressorChain\n",
    "from sklearn.svm import SVR\n",
    "# define dataset\n",
    "# define base model\n",
    "model = SVR()\n",
    "# define the chained multioutput wrapper model\n",
    "model = RegressorChain(model)\n",
    "\n",
    "mse = []\n",
    "r = []\n",
    "mae = []\n",
    "for i in range(n):\n",
    "# Generate predictions for testing data\n",
    "    # Resample\n",
    "\tresampled_xtest, resampled_ytest = resample(xtest, ytest, replace=True, n_samples=len(ytest), random_state=7+i)\n",
    "\t# Train the regressor\n",
    "\tmodel = model.fit(xtrain, ytrain)\n",
    "\typred = model.predict(resampled_xtest)\n",
    "\tmse.append(mean_squared_error(resampled_ytest,ypred))\n",
    "\tr.append(model.score(resampled_xtest, resampled_ytest))\n",
    "\tmae.append(mean_absolute_error(resampled_ytest,ypred))\n",
    "\n",
    "print(\"Mean squared error (SVR): {:.2f} [{:.2f}, {:.2f}]\".format(np.mean(mse), np.percentile(mse, 5), np.percentile(mse, 95)))\n",
    "print(\"Mean abs error (SVR) {:.2f} [{:.2f}, {:.2f}]\".format(np.mean(mae), np.percentile(mae, 5), np.percentile(mae, 95)))\n",
    "print(\"R2 score (SVR): {:.2f} [{:.2f}, {:.2f}]\".format(np.mean(r), np.percentile(r, 5), np.percentile(r, 95)))"
   ]
  },
  {
   "cell_type": "code",
   "execution_count": 30,
   "metadata": {},
   "outputs": [
    {
     "name": "stdout",
     "output_type": "stream",
     "text": [
      "[-0.10320517 -0.12338032 -0.16922074 -0.2776895  -0.18864446 -0.06520525\n",
      " -0.14430854]\n"
     ]
    }
   ],
   "source": [
    "print(r2_score(resampled_ytest, ypred, multioutput='raw_values'))"
   ]
  },
  {
   "cell_type": "code",
   "execution_count": 31,
   "metadata": {},
   "outputs": [],
   "source": [
    "# save predictions to csv file\n",
    "ypred = np.array(ypred)\n",
    "np.savetxt('predicted_labels_reg_chain_svr.csv', min_max_scaler.inverse_transform(ypred), delimiter=',')"
   ]
  }
 ],
 "metadata": {
  "colab": {
   "collapsed_sections": [],
   "include_colab_link": true,
   "name": "DataScienceLab.ipynb",
   "provenance": []
  },
  "interpreter": {
   "hash": "a9205b650ad9b26ded1fb73bba57cf404cfc03cd0c8186ebe669ad7e6a2a6143"
  },
  "kernelspec": {
   "display_name": "Python 3.8.5 64-bit ('ai4halth': conda)",
   "name": "python3"
  },
  "language_info": {
   "codemirror_mode": {
    "name": "ipython",
    "version": 3
   },
   "file_extension": ".py",
   "mimetype": "text/x-python",
   "name": "python",
   "nbconvert_exporter": "python",
   "pygments_lexer": "ipython3",
   "version": "3.8.5"
  }
 },
 "nbformat": 4,
 "nbformat_minor": 1
}
