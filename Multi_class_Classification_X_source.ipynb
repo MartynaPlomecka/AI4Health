{
  "nbformat": 4,
  "nbformat_minor": 0,
  "metadata": {
    "accelerator": "GPU",
    "colab": {
      "name": "Multi_class_Classification_X_source.ipynb",
      "provenance": [],
      "collapsed_sections": [],
      "machine_shape": "hm"
    },
    "interpreter": {
      "hash": "a9205b650ad9b26ded1fb73bba57cf404cfc03cd0c8186ebe669ad7e6a2a6143"
    },
    "kernelspec": {
      "display_name": "Python 3",
      "language": "python",
      "name": "python3"
    },
    "language_info": {
      "codemirror_mode": {
        "name": "ipython",
        "version": 3
      },
      "file_extension": ".py",
      "mimetype": "text/x-python",
      "name": "python",
      "nbconvert_exporter": "python",
      "pygments_lexer": "ipython3",
      "version": "3.8.5"
    }
  },
  "cells": [
    {
      "cell_type": "code",
      "metadata": {
        "id": "IjsCisv7FvHs"
      },
      "source": [
        "import mat73\n",
        "import numpy as np\n",
        "import pandas as pd\n",
        "import matplotlib.pyplot as plt\n",
        "\n",
        "from sklearn.model_selection import train_test_split\n",
        "from imblearn.over_sampling import SMOTE\n",
        "\n",
        "import tensorflow as tf\n",
        "from tensorflow.keras.models import Model, load_model\n",
        "from tensorflow.keras.layers import Input, Dense, LeakyReLU, BatchNormalization\n",
        "from tensorflow.keras.utils import plot_model, to_categorical\n"
      ],
      "execution_count": null,
      "outputs": []
    },
    {
      "cell_type": "markdown",
      "metadata": {
        "id": "LKPjAw07FvH2"
      },
      "source": [
        "## Data Loading and Processing"
      ]
    },
    {
      "cell_type": "code",
      "metadata": {
        "id": "o5QNdMC-111Y"
      },
      "source": [
        "import os\n",
        "\n",
        "DATA_DIR = ''\n",
        "if 'google.colab' not in str(get_ipython()) and \"anuja\" in os.environ.get('USER'):\n",
        "    DATA_DIR = 'data/'\n"
      ],
      "execution_count": null,
      "outputs": []
    },
    {
      "cell_type": "code",
      "metadata": {
        "colab": {
          "base_uri": "https://localhost:8080/"
        },
        "id": "IyFwAfLNFvH6",
        "outputId": "519b5188-0c2e-4da6-882f-b8cc39883399"
      },
      "source": [
        "# data loading\n",
        "data = mat73.loadmat(DATA_DIR+'x_source.mat')  \n",
        "print(data['x'].shape) \n",
        "columns = np.asarray([['Electrode %d - %d/2 Hz'%(i+1, j+1)] for i in range(data['x'].shape[1]) for j in range(data['x'].shape[2])])\n",
        "labels = pd.read_csv(DATA_DIR+\"table_withlabels.csv\")\n",
        "foof = pd.read_csv(DATA_DIR+\"foof2features.csv\")\n",
        "beh = pd.read_csv(DATA_DIR+\"behaviorals.csv\")\n",
        "df = pd.DataFrame(data['x'].reshape((data['x'].shape[0], -1)))\n",
        "df.columns = columns\n",
        "df['IDs'] = foof['C1']\n",
        "df = pd.merge(df, labels[['label', 'IDs']], on='IDs', how='inner')\n",
        "print(df['label'].value_counts())"
      ],
      "execution_count": null,
      "outputs": [
        {
          "output_type": "stream",
          "name": "stdout",
          "text": [
            "(2041, 68, 391)\n",
            "Other Neurodevelopmental Disorders    492\n",
            "ADHD-Inattentive Type                 387\n",
            "ADHD-Combined Type                    376\n",
            "Anxiety Disorders                     241\n",
            "No Diagnosis Given                    203\n",
            "Depressive Disorders                   85\n",
            "Name: label, dtype: int64\n"
          ]
        }
      ]
    },
    {
      "cell_type": "code",
      "metadata": {
        "id": "yv-RgMHhFvH9"
      },
      "source": [
        "# add labels\n",
        "pd.options.mode.chained_assignment = None\n",
        "\n",
        "df.label[df.label == 'Other Neurodevelopmental Disorders'] = 1\n",
        "df.label[df.label == 'ADHD-Inattentive Type'] = 2\n",
        "df.label[df.label == 'ADHD-Combined Type'] = 3\n",
        "df.label[df.label == 'Anxiety Disorders'] = 4\n",
        "df.label[df.label == 'No Diagnosis Given'] = 5\n",
        "df.label[df.label == 'Depressive Disorders'] = 6\n",
        "df.label = df['label'].astype(int)\n",
        "labels = ['Other Neurodevelopmental Disorders', 'ADHD-Inattentive Type', 'ADHD-Combined Type', 'Anxiety Disorders', 'No Diagnosis Given', 'Depressive Disorders']"
      ],
      "execution_count": null,
      "outputs": []
    },
    {
      "cell_type": "code",
      "metadata": {
        "colab": {
          "base_uri": "https://localhost:8080/",
          "height": 643
        },
        "id": "wovN7xdofZhf",
        "outputId": "2bcaeff6-bdc3-4c50-d9a0-b281cd158956"
      },
      "source": [
        "df"
      ],
      "execution_count": null,
      "outputs": [
        {
          "output_type": "execute_result",
          "data": {
            "text/html": [
              "<div>\n",
              "<style scoped>\n",
              "    .dataframe tbody tr th:only-of-type {\n",
              "        vertical-align: middle;\n",
              "    }\n",
              "\n",
              "    .dataframe tbody tr th {\n",
              "        vertical-align: top;\n",
              "    }\n",
              "\n",
              "    .dataframe thead th {\n",
              "        text-align: right;\n",
              "    }\n",
              "</style>\n",
              "<table border=\"1\" class=\"dataframe\">\n",
              "  <thead>\n",
              "    <tr style=\"text-align: right;\">\n",
              "      <th></th>\n",
              "      <th>(Electrode 1 - 1/2 Hz,)</th>\n",
              "      <th>(Electrode 1 - 2/2 Hz,)</th>\n",
              "      <th>(Electrode 1 - 3/2 Hz,)</th>\n",
              "      <th>(Electrode 1 - 4/2 Hz,)</th>\n",
              "      <th>(Electrode 1 - 5/2 Hz,)</th>\n",
              "      <th>(Electrode 1 - 6/2 Hz,)</th>\n",
              "      <th>(Electrode 1 - 7/2 Hz,)</th>\n",
              "      <th>(Electrode 1 - 8/2 Hz,)</th>\n",
              "      <th>(Electrode 1 - 9/2 Hz,)</th>\n",
              "      <th>(Electrode 1 - 10/2 Hz,)</th>\n",
              "      <th>(Electrode 1 - 11/2 Hz,)</th>\n",
              "      <th>(Electrode 1 - 12/2 Hz,)</th>\n",
              "      <th>(Electrode 1 - 13/2 Hz,)</th>\n",
              "      <th>(Electrode 1 - 14/2 Hz,)</th>\n",
              "      <th>(Electrode 1 - 15/2 Hz,)</th>\n",
              "      <th>(Electrode 1 - 16/2 Hz,)</th>\n",
              "      <th>(Electrode 1 - 17/2 Hz,)</th>\n",
              "      <th>(Electrode 1 - 18/2 Hz,)</th>\n",
              "      <th>(Electrode 1 - 19/2 Hz,)</th>\n",
              "      <th>(Electrode 1 - 20/2 Hz,)</th>\n",
              "      <th>(Electrode 1 - 21/2 Hz,)</th>\n",
              "      <th>(Electrode 1 - 22/2 Hz,)</th>\n",
              "      <th>(Electrode 1 - 23/2 Hz,)</th>\n",
              "      <th>(Electrode 1 - 24/2 Hz,)</th>\n",
              "      <th>(Electrode 1 - 25/2 Hz,)</th>\n",
              "      <th>(Electrode 1 - 26/2 Hz,)</th>\n",
              "      <th>(Electrode 1 - 27/2 Hz,)</th>\n",
              "      <th>(Electrode 1 - 28/2 Hz,)</th>\n",
              "      <th>(Electrode 1 - 29/2 Hz,)</th>\n",
              "      <th>(Electrode 1 - 30/2 Hz,)</th>\n",
              "      <th>(Electrode 1 - 31/2 Hz,)</th>\n",
              "      <th>(Electrode 1 - 32/2 Hz,)</th>\n",
              "      <th>(Electrode 1 - 33/2 Hz,)</th>\n",
              "      <th>(Electrode 1 - 34/2 Hz,)</th>\n",
              "      <th>(Electrode 1 - 35/2 Hz,)</th>\n",
              "      <th>(Electrode 1 - 36/2 Hz,)</th>\n",
              "      <th>(Electrode 1 - 37/2 Hz,)</th>\n",
              "      <th>(Electrode 1 - 38/2 Hz,)</th>\n",
              "      <th>(Electrode 1 - 39/2 Hz,)</th>\n",
              "      <th>(Electrode 1 - 40/2 Hz,)</th>\n",
              "      <th>...</th>\n",
              "      <th>(Electrode 68 - 354/2 Hz,)</th>\n",
              "      <th>(Electrode 68 - 355/2 Hz,)</th>\n",
              "      <th>(Electrode 68 - 356/2 Hz,)</th>\n",
              "      <th>(Electrode 68 - 357/2 Hz,)</th>\n",
              "      <th>(Electrode 68 - 358/2 Hz,)</th>\n",
              "      <th>(Electrode 68 - 359/2 Hz,)</th>\n",
              "      <th>(Electrode 68 - 360/2 Hz,)</th>\n",
              "      <th>(Electrode 68 - 361/2 Hz,)</th>\n",
              "      <th>(Electrode 68 - 362/2 Hz,)</th>\n",
              "      <th>(Electrode 68 - 363/2 Hz,)</th>\n",
              "      <th>(Electrode 68 - 364/2 Hz,)</th>\n",
              "      <th>(Electrode 68 - 365/2 Hz,)</th>\n",
              "      <th>(Electrode 68 - 366/2 Hz,)</th>\n",
              "      <th>(Electrode 68 - 367/2 Hz,)</th>\n",
              "      <th>(Electrode 68 - 368/2 Hz,)</th>\n",
              "      <th>(Electrode 68 - 369/2 Hz,)</th>\n",
              "      <th>(Electrode 68 - 370/2 Hz,)</th>\n",
              "      <th>(Electrode 68 - 371/2 Hz,)</th>\n",
              "      <th>(Electrode 68 - 372/2 Hz,)</th>\n",
              "      <th>(Electrode 68 - 373/2 Hz,)</th>\n",
              "      <th>(Electrode 68 - 374/2 Hz,)</th>\n",
              "      <th>(Electrode 68 - 375/2 Hz,)</th>\n",
              "      <th>(Electrode 68 - 376/2 Hz,)</th>\n",
              "      <th>(Electrode 68 - 377/2 Hz,)</th>\n",
              "      <th>(Electrode 68 - 378/2 Hz,)</th>\n",
              "      <th>(Electrode 68 - 379/2 Hz,)</th>\n",
              "      <th>(Electrode 68 - 380/2 Hz,)</th>\n",
              "      <th>(Electrode 68 - 381/2 Hz,)</th>\n",
              "      <th>(Electrode 68 - 382/2 Hz,)</th>\n",
              "      <th>(Electrode 68 - 383/2 Hz,)</th>\n",
              "      <th>(Electrode 68 - 384/2 Hz,)</th>\n",
              "      <th>(Electrode 68 - 385/2 Hz,)</th>\n",
              "      <th>(Electrode 68 - 386/2 Hz,)</th>\n",
              "      <th>(Electrode 68 - 387/2 Hz,)</th>\n",
              "      <th>(Electrode 68 - 388/2 Hz,)</th>\n",
              "      <th>(Electrode 68 - 389/2 Hz,)</th>\n",
              "      <th>(Electrode 68 - 390/2 Hz,)</th>\n",
              "      <th>(Electrode 68 - 391/2 Hz,)</th>\n",
              "      <th>IDs</th>\n",
              "      <th>label</th>\n",
              "    </tr>\n",
              "  </thead>\n",
              "  <tbody>\n",
              "    <tr>\n",
              "      <th>0</th>\n",
              "      <td>5.078868e-01</td>\n",
              "      <td>5.217506e-01</td>\n",
              "      <td>5.333599e-01</td>\n",
              "      <td>5.438772e-01</td>\n",
              "      <td>5.520926e-01</td>\n",
              "      <td>5.588265e-01</td>\n",
              "      <td>5.634961e-01</td>\n",
              "      <td>5.659676e-01</td>\n",
              "      <td>5.664875e-01</td>\n",
              "      <td>5.649957e-01</td>\n",
              "      <td>5.613439e-01</td>\n",
              "      <td>5.555999e-01</td>\n",
              "      <td>5.482868e-01</td>\n",
              "      <td>5.386750e-01</td>\n",
              "      <td>5.278712e-01</td>\n",
              "      <td>5.147946e-01</td>\n",
              "      <td>5.001387e-01</td>\n",
              "      <td>4.849380e-01</td>\n",
              "      <td>4.676623e-01</td>\n",
              "      <td>4.502855e-01</td>\n",
              "      <td>4.310493e-01</td>\n",
              "      <td>4.110748e-01</td>\n",
              "      <td>3.916367e-01</td>\n",
              "      <td>3.707484e-01</td>\n",
              "      <td>3.507655e-01</td>\n",
              "      <td>3.296295e-01</td>\n",
              "      <td>3.086076e-01</td>\n",
              "      <td>2.889369e-01</td>\n",
              "      <td>2.685895e-01</td>\n",
              "      <td>2.499353e-01</td>\n",
              "      <td>2.315197e-01</td>\n",
              "      <td>2.162914e-01</td>\n",
              "      <td>2.093246e-01</td>\n",
              "      <td>2.200712e-01</td>\n",
              "      <td>2.627575e-01</td>\n",
              "      <td>3.596749e-01</td>\n",
              "      <td>5.141251e-01</td>\n",
              "      <td>6.890813e-01</td>\n",
              "      <td>8.456770e-01</td>\n",
              "      <td>9.064507e-01</td>\n",
              "      <td>...</td>\n",
              "      <td>0.389905</td>\n",
              "      <td>0.384912</td>\n",
              "      <td>0.379682</td>\n",
              "      <td>0.374895</td>\n",
              "      <td>0.371872</td>\n",
              "      <td>0.373132</td>\n",
              "      <td>0.383549</td>\n",
              "      <td>0.411604</td>\n",
              "      <td>0.462666</td>\n",
              "      <td>0.528958</td>\n",
              "      <td>0.600496</td>\n",
              "      <td>0.644823</td>\n",
              "      <td>0.644964</td>\n",
              "      <td>0.594720</td>\n",
              "      <td>0.518241</td>\n",
              "      <td>0.434165</td>\n",
              "      <td>0.370044</td>\n",
              "      <td>0.325096</td>\n",
              "      <td>0.299301</td>\n",
              "      <td>0.285569</td>\n",
              "      <td>0.276460</td>\n",
              "      <td>0.269846</td>\n",
              "      <td>0.263554</td>\n",
              "      <td>0.257467</td>\n",
              "      <td>0.251762</td>\n",
              "      <td>0.245778</td>\n",
              "      <td>0.240142</td>\n",
              "      <td>0.234232</td>\n",
              "      <td>0.228365</td>\n",
              "      <td>0.222850</td>\n",
              "      <td>0.217079</td>\n",
              "      <td>0.211663</td>\n",
              "      <td>0.206002</td>\n",
              "      <td>0.200403</td>\n",
              "      <td>0.195159</td>\n",
              "      <td>0.189689</td>\n",
              "      <td>0.184573</td>\n",
              "      <td>0.179243</td>\n",
              "      <td>NDARAA075AMK</td>\n",
              "      <td>5</td>\n",
              "    </tr>\n",
              "    <tr>\n",
              "      <th>1</th>\n",
              "      <td>1.318260e+00</td>\n",
              "      <td>1.346233e+00</td>\n",
              "      <td>1.346461e+00</td>\n",
              "      <td>1.319271e+00</td>\n",
              "      <td>1.277007e+00</td>\n",
              "      <td>1.202095e+00</td>\n",
              "      <td>1.108148e+00</td>\n",
              "      <td>1.024186e+00</td>\n",
              "      <td>9.160927e-01</td>\n",
              "      <td>8.353658e-01</td>\n",
              "      <td>7.587729e-01</td>\n",
              "      <td>7.367982e-01</td>\n",
              "      <td>7.797584e-01</td>\n",
              "      <td>9.192535e-01</td>\n",
              "      <td>1.078998e+00</td>\n",
              "      <td>1.267459e+00</td>\n",
              "      <td>1.346500e+00</td>\n",
              "      <td>1.290148e+00</td>\n",
              "      <td>1.092640e+00</td>\n",
              "      <td>8.907423e-01</td>\n",
              "      <td>6.670004e-01</td>\n",
              "      <td>5.265084e-01</td>\n",
              "      <td>4.770403e-01</td>\n",
              "      <td>4.722646e-01</td>\n",
              "      <td>4.957937e-01</td>\n",
              "      <td>5.418631e-01</td>\n",
              "      <td>5.957864e-01</td>\n",
              "      <td>6.405335e-01</td>\n",
              "      <td>6.954713e-01</td>\n",
              "      <td>7.368590e-01</td>\n",
              "      <td>7.832306e-01</td>\n",
              "      <td>8.214662e-01</td>\n",
              "      <td>8.448543e-01</td>\n",
              "      <td>8.638256e-01</td>\n",
              "      <td>8.702151e-01</td>\n",
              "      <td>8.669866e-01</td>\n",
              "      <td>8.516976e-01</td>\n",
              "      <td>8.314959e-01</td>\n",
              "      <td>7.976543e-01</td>\n",
              "      <td>7.649895e-01</td>\n",
              "      <td>...</td>\n",
              "      <td>0.541578</td>\n",
              "      <td>0.569372</td>\n",
              "      <td>0.600170</td>\n",
              "      <td>0.619676</td>\n",
              "      <td>0.623796</td>\n",
              "      <td>0.612853</td>\n",
              "      <td>0.591631</td>\n",
              "      <td>0.551993</td>\n",
              "      <td>0.502159</td>\n",
              "      <td>0.458681</td>\n",
              "      <td>0.404575</td>\n",
              "      <td>0.364665</td>\n",
              "      <td>0.322408</td>\n",
              "      <td>0.291153</td>\n",
              "      <td>0.274995</td>\n",
              "      <td>0.265953</td>\n",
              "      <td>0.267121</td>\n",
              "      <td>0.277817</td>\n",
              "      <td>0.296977</td>\n",
              "      <td>0.316994</td>\n",
              "      <td>0.346111</td>\n",
              "      <td>0.371433</td>\n",
              "      <td>0.404070</td>\n",
              "      <td>0.436245</td>\n",
              "      <td>0.460649</td>\n",
              "      <td>0.488388</td>\n",
              "      <td>0.507659</td>\n",
              "      <td>0.527295</td>\n",
              "      <td>0.541281</td>\n",
              "      <td>0.548031</td>\n",
              "      <td>0.550646</td>\n",
              "      <td>0.548010</td>\n",
              "      <td>0.538900</td>\n",
              "      <td>0.523634</td>\n",
              "      <td>0.507341</td>\n",
              "      <td>0.482457</td>\n",
              "      <td>0.459452</td>\n",
              "      <td>0.427597</td>\n",
              "      <td>NDARAA112DMH</td>\n",
              "      <td>3</td>\n",
              "    </tr>\n",
              "    <tr>\n",
              "      <th>2</th>\n",
              "      <td>3.202934e-01</td>\n",
              "      <td>3.261972e-01</td>\n",
              "      <td>3.312618e-01</td>\n",
              "      <td>3.371723e-01</td>\n",
              "      <td>3.422373e-01</td>\n",
              "      <td>3.481419e-01</td>\n",
              "      <td>3.540378e-01</td>\n",
              "      <td>3.590818e-01</td>\n",
              "      <td>3.649516e-01</td>\n",
              "      <td>3.699674e-01</td>\n",
              "      <td>3.757975e-01</td>\n",
              "      <td>3.816005e-01</td>\n",
              "      <td>3.865498e-01</td>\n",
              "      <td>3.922917e-01</td>\n",
              "      <td>3.971826e-01</td>\n",
              "      <td>4.028493e-01</td>\n",
              "      <td>4.084695e-01</td>\n",
              "      <td>4.132467e-01</td>\n",
              "      <td>4.187697e-01</td>\n",
              "      <td>4.234575e-01</td>\n",
              "      <td>4.288690e-01</td>\n",
              "      <td>4.342145e-01</td>\n",
              "      <td>4.387406e-01</td>\n",
              "      <td>4.439526e-01</td>\n",
              "      <td>4.483582e-01</td>\n",
              "      <td>4.534226e-01</td>\n",
              "      <td>4.584016e-01</td>\n",
              "      <td>4.625986e-01</td>\n",
              "      <td>4.674088e-01</td>\n",
              "      <td>4.714552e-01</td>\n",
              "      <td>4.760832e-01</td>\n",
              "      <td>4.806078e-01</td>\n",
              "      <td>4.844010e-01</td>\n",
              "      <td>4.887240e-01</td>\n",
              "      <td>4.923393e-01</td>\n",
              "      <td>4.964492e-01</td>\n",
              "      <td>5.004401e-01</td>\n",
              "      <td>5.037640e-01</td>\n",
              "      <td>5.075269e-01</td>\n",
              "      <td>5.106522e-01</td>\n",
              "      <td>...</td>\n",
              "      <td>0.190821</td>\n",
              "      <td>0.193952</td>\n",
              "      <td>0.199886</td>\n",
              "      <td>0.208603</td>\n",
              "      <td>0.218544</td>\n",
              "      <td>0.233296</td>\n",
              "      <td>0.248836</td>\n",
              "      <td>0.270521</td>\n",
              "      <td>0.296142</td>\n",
              "      <td>0.321242</td>\n",
              "      <td>0.354073</td>\n",
              "      <td>0.385062</td>\n",
              "      <td>0.424159</td>\n",
              "      <td>0.465862</td>\n",
              "      <td>0.503107</td>\n",
              "      <td>0.547506</td>\n",
              "      <td>0.585622</td>\n",
              "      <td>0.629151</td>\n",
              "      <td>0.670513</td>\n",
              "      <td>0.703307</td>\n",
              "      <td>0.737396</td>\n",
              "      <td>0.762227</td>\n",
              "      <td>0.785186</td>\n",
              "      <td>0.800882</td>\n",
              "      <td>0.808083</td>\n",
              "      <td>0.808860</td>\n",
              "      <td>0.802904</td>\n",
              "      <td>0.788357</td>\n",
              "      <td>0.766012</td>\n",
              "      <td>0.741139</td>\n",
              "      <td>0.706200</td>\n",
              "      <td>0.671909</td>\n",
              "      <td>0.627837</td>\n",
              "      <td>0.580535</td>\n",
              "      <td>0.538347</td>\n",
              "      <td>0.488267</td>\n",
              "      <td>0.445411</td>\n",
              "      <td>0.396396</td>\n",
              "      <td>NDARAA117NEJ</td>\n",
              "      <td>3</td>\n",
              "    </tr>\n",
              "    <tr>\n",
              "      <th>3</th>\n",
              "      <td>8.538945e-02</td>\n",
              "      <td>8.781716e-02</td>\n",
              "      <td>9.029479e-02</td>\n",
              "      <td>9.540115e-02</td>\n",
              "      <td>9.803051e-02</td>\n",
              "      <td>1.007110e-01</td>\n",
              "      <td>1.034429e-01</td>\n",
              "      <td>1.062265e-01</td>\n",
              "      <td>1.119492e-01</td>\n",
              "      <td>1.148887e-01</td>\n",
              "      <td>1.178805e-01</td>\n",
              "      <td>1.209245e-01</td>\n",
              "      <td>1.240209e-01</td>\n",
              "      <td>1.303709e-01</td>\n",
              "      <td>1.336243e-01</td>\n",
              "      <td>1.369300e-01</td>\n",
              "      <td>1.402878e-01</td>\n",
              "      <td>1.436975e-01</td>\n",
              "      <td>1.506718e-01</td>\n",
              "      <td>1.542360e-01</td>\n",
              "      <td>1.578511e-01</td>\n",
              "      <td>1.615169e-01</td>\n",
              "      <td>1.652336e-01</td>\n",
              "      <td>1.728422e-01</td>\n",
              "      <td>1.768039e-01</td>\n",
              "      <td>1.810816e-01</td>\n",
              "      <td>1.862557e-01</td>\n",
              "      <td>1.938443e-01</td>\n",
              "      <td>2.330584e-01</td>\n",
              "      <td>2.815160e-01</td>\n",
              "      <td>3.652257e-01</td>\n",
              "      <td>4.939776e-01</td>\n",
              "      <td>6.665617e-01</td>\n",
              "      <td>1.047656e+00</td>\n",
              "      <td>1.175724e+00</td>\n",
              "      <td>1.218630e+00</td>\n",
              "      <td>1.177396e+00</td>\n",
              "      <td>1.083819e+00</td>\n",
              "      <td>9.115640e-01</td>\n",
              "      <td>8.761455e-01</td>\n",
              "      <td>...</td>\n",
              "      <td>0.010869</td>\n",
              "      <td>0.010457</td>\n",
              "      <td>0.010058</td>\n",
              "      <td>0.009673</td>\n",
              "      <td>0.009301</td>\n",
              "      <td>0.008593</td>\n",
              "      <td>0.008258</td>\n",
              "      <td>0.007934</td>\n",
              "      <td>0.007621</td>\n",
              "      <td>0.007319</td>\n",
              "      <td>0.006747</td>\n",
              "      <td>0.006476</td>\n",
              "      <td>0.006215</td>\n",
              "      <td>0.005963</td>\n",
              "      <td>0.005721</td>\n",
              "      <td>0.005281</td>\n",
              "      <td>0.005133</td>\n",
              "      <td>0.005195</td>\n",
              "      <td>0.005928</td>\n",
              "      <td>0.008599</td>\n",
              "      <td>0.034828</td>\n",
              "      <td>0.074686</td>\n",
              "      <td>0.149522</td>\n",
              "      <td>0.272261</td>\n",
              "      <td>0.446535</td>\n",
              "      <td>0.866689</td>\n",
              "      <td>1.023456</td>\n",
              "      <td>1.081927</td>\n",
              "      <td>1.023777</td>\n",
              "      <td>0.867153</td>\n",
              "      <td>0.446510</td>\n",
              "      <td>0.271732</td>\n",
              "      <td>0.148466</td>\n",
              "      <td>0.073150</td>\n",
              "      <td>0.032884</td>\n",
              "      <td>0.005997</td>\n",
              "      <td>0.003034</td>\n",
              "      <td>0.002015</td>\n",
              "      <td>NDARAA947ZG5</td>\n",
              "      <td>3</td>\n",
              "    </tr>\n",
              "    <tr>\n",
              "      <th>4</th>\n",
              "      <td>2.198925e-01</td>\n",
              "      <td>2.883633e-01</td>\n",
              "      <td>3.841303e-01</td>\n",
              "      <td>4.960847e-01</td>\n",
              "      <td>5.791005e-01</td>\n",
              "      <td>6.078317e-01</td>\n",
              "      <td>5.715989e-01</td>\n",
              "      <td>4.875744e-01</td>\n",
              "      <td>3.839277e-01</td>\n",
              "      <td>3.020838e-01</td>\n",
              "      <td>2.489371e-01</td>\n",
              "      <td>2.219188e-01</td>\n",
              "      <td>2.121013e-01</td>\n",
              "      <td>2.114318e-01</td>\n",
              "      <td>2.153050e-01</td>\n",
              "      <td>2.228805e-01</td>\n",
              "      <td>2.370309e-01</td>\n",
              "      <td>2.638472e-01</td>\n",
              "      <td>3.140240e-01</td>\n",
              "      <td>3.856238e-01</td>\n",
              "      <td>4.723322e-01</td>\n",
              "      <td>5.522029e-01</td>\n",
              "      <td>5.981758e-01</td>\n",
              "      <td>5.931574e-01</td>\n",
              "      <td>5.476585e-01</td>\n",
              "      <td>4.950883e-01</td>\n",
              "      <td>4.740076e-01</td>\n",
              "      <td>5.105633e-01</td>\n",
              "      <td>6.113354e-01</td>\n",
              "      <td>7.336338e-01</td>\n",
              "      <td>8.308651e-01</td>\n",
              "      <td>8.583803e-01</td>\n",
              "      <td>8.027135e-01</td>\n",
              "      <td>6.808759e-01</td>\n",
              "      <td>5.517974e-01</td>\n",
              "      <td>4.465171e-01</td>\n",
              "      <td>3.791551e-01</td>\n",
              "      <td>3.451209e-01</td>\n",
              "      <td>3.321287e-01</td>\n",
              "      <td>3.305590e-01</td>\n",
              "      <td>...</td>\n",
              "      <td>0.054394</td>\n",
              "      <td>0.052485</td>\n",
              "      <td>0.050630</td>\n",
              "      <td>0.048827</td>\n",
              "      <td>0.047075</td>\n",
              "      <td>0.045281</td>\n",
              "      <td>0.043632</td>\n",
              "      <td>0.042031</td>\n",
              "      <td>0.040479</td>\n",
              "      <td>0.038973</td>\n",
              "      <td>0.037433</td>\n",
              "      <td>0.036020</td>\n",
              "      <td>0.034652</td>\n",
              "      <td>0.033326</td>\n",
              "      <td>0.032042</td>\n",
              "      <td>0.030731</td>\n",
              "      <td>0.029531</td>\n",
              "      <td>0.028370</td>\n",
              "      <td>0.027247</td>\n",
              "      <td>0.026161</td>\n",
              "      <td>0.025055</td>\n",
              "      <td>0.024043</td>\n",
              "      <td>0.023066</td>\n",
              "      <td>0.022123</td>\n",
              "      <td>0.021212</td>\n",
              "      <td>0.020286</td>\n",
              "      <td>0.019440</td>\n",
              "      <td>0.018624</td>\n",
              "      <td>0.017838</td>\n",
              "      <td>0.017080</td>\n",
              "      <td>0.016311</td>\n",
              "      <td>0.015609</td>\n",
              "      <td>0.014934</td>\n",
              "      <td>0.014284</td>\n",
              "      <td>0.013658</td>\n",
              "      <td>0.013024</td>\n",
              "      <td>0.012446</td>\n",
              "      <td>0.011891</td>\n",
              "      <td>NDARAA948VFH</td>\n",
              "      <td>3</td>\n",
              "    </tr>\n",
              "    <tr>\n",
              "      <th>...</th>\n",
              "      <td>...</td>\n",
              "      <td>...</td>\n",
              "      <td>...</td>\n",
              "      <td>...</td>\n",
              "      <td>...</td>\n",
              "      <td>...</td>\n",
              "      <td>...</td>\n",
              "      <td>...</td>\n",
              "      <td>...</td>\n",
              "      <td>...</td>\n",
              "      <td>...</td>\n",
              "      <td>...</td>\n",
              "      <td>...</td>\n",
              "      <td>...</td>\n",
              "      <td>...</td>\n",
              "      <td>...</td>\n",
              "      <td>...</td>\n",
              "      <td>...</td>\n",
              "      <td>...</td>\n",
              "      <td>...</td>\n",
              "      <td>...</td>\n",
              "      <td>...</td>\n",
              "      <td>...</td>\n",
              "      <td>...</td>\n",
              "      <td>...</td>\n",
              "      <td>...</td>\n",
              "      <td>...</td>\n",
              "      <td>...</td>\n",
              "      <td>...</td>\n",
              "      <td>...</td>\n",
              "      <td>...</td>\n",
              "      <td>...</td>\n",
              "      <td>...</td>\n",
              "      <td>...</td>\n",
              "      <td>...</td>\n",
              "      <td>...</td>\n",
              "      <td>...</td>\n",
              "      <td>...</td>\n",
              "      <td>...</td>\n",
              "      <td>...</td>\n",
              "      <td>...</td>\n",
              "      <td>...</td>\n",
              "      <td>...</td>\n",
              "      <td>...</td>\n",
              "      <td>...</td>\n",
              "      <td>...</td>\n",
              "      <td>...</td>\n",
              "      <td>...</td>\n",
              "      <td>...</td>\n",
              "      <td>...</td>\n",
              "      <td>...</td>\n",
              "      <td>...</td>\n",
              "      <td>...</td>\n",
              "      <td>...</td>\n",
              "      <td>...</td>\n",
              "      <td>...</td>\n",
              "      <td>...</td>\n",
              "      <td>...</td>\n",
              "      <td>...</td>\n",
              "      <td>...</td>\n",
              "      <td>...</td>\n",
              "      <td>...</td>\n",
              "      <td>...</td>\n",
              "      <td>...</td>\n",
              "      <td>...</td>\n",
              "      <td>...</td>\n",
              "      <td>...</td>\n",
              "      <td>...</td>\n",
              "      <td>...</td>\n",
              "      <td>...</td>\n",
              "      <td>...</td>\n",
              "      <td>...</td>\n",
              "      <td>...</td>\n",
              "      <td>...</td>\n",
              "      <td>...</td>\n",
              "      <td>...</td>\n",
              "      <td>...</td>\n",
              "      <td>...</td>\n",
              "      <td>...</td>\n",
              "      <td>...</td>\n",
              "      <td>...</td>\n",
              "    </tr>\n",
              "    <tr>\n",
              "      <th>1779</th>\n",
              "      <td>3.264409e-01</td>\n",
              "      <td>3.306937e-01</td>\n",
              "      <td>3.346245e-01</td>\n",
              "      <td>3.387920e-01</td>\n",
              "      <td>3.426380e-01</td>\n",
              "      <td>3.467090e-01</td>\n",
              "      <td>3.507261e-01</td>\n",
              "      <td>3.544242e-01</td>\n",
              "      <td>3.583296e-01</td>\n",
              "      <td>3.619198e-01</td>\n",
              "      <td>3.657064e-01</td>\n",
              "      <td>3.694309e-01</td>\n",
              "      <td>3.728523e-01</td>\n",
              "      <td>3.764632e-01</td>\n",
              "      <td>3.797886e-01</td>\n",
              "      <td>3.833157e-01</td>\n",
              "      <td>3.868256e-01</td>\n",
              "      <td>3.901128e-01</td>\n",
              "      <td>3.936889e-01</td>\n",
              "      <td>3.971307e-01</td>\n",
              "      <td>4.010103e-01</td>\n",
              "      <td>4.051995e-01</td>\n",
              "      <td>4.095188e-01</td>\n",
              "      <td>4.147616e-01</td>\n",
              "      <td>4.204264e-01</td>\n",
              "      <td>4.275807e-01</td>\n",
              "      <td>4.361664e-01</td>\n",
              "      <td>4.457816e-01</td>\n",
              "      <td>4.581555e-01</td>\n",
              "      <td>4.719672e-01</td>\n",
              "      <td>4.895314e-01</td>\n",
              "      <td>5.102590e-01</td>\n",
              "      <td>5.326537e-01</td>\n",
              "      <td>5.600009e-01</td>\n",
              "      <td>5.885899e-01</td>\n",
              "      <td>6.222459e-01</td>\n",
              "      <td>6.585410e-01</td>\n",
              "      <td>6.941493e-01</td>\n",
              "      <td>7.332456e-01</td>\n",
              "      <td>7.696137e-01</td>\n",
              "      <td>...</td>\n",
              "      <td>0.507109</td>\n",
              "      <td>0.505080</td>\n",
              "      <td>0.502773</td>\n",
              "      <td>0.500331</td>\n",
              "      <td>0.497932</td>\n",
              "      <td>0.495234</td>\n",
              "      <td>0.492600</td>\n",
              "      <td>0.489655</td>\n",
              "      <td>0.486585</td>\n",
              "      <td>0.483610</td>\n",
              "      <td>0.480307</td>\n",
              "      <td>0.477119</td>\n",
              "      <td>0.473593</td>\n",
              "      <td>0.469955</td>\n",
              "      <td>0.466462</td>\n",
              "      <td>0.462617</td>\n",
              "      <td>0.458936</td>\n",
              "      <td>0.454896</td>\n",
              "      <td>0.450760</td>\n",
              "      <td>0.446815</td>\n",
              "      <td>0.442502</td>\n",
              "      <td>0.438398</td>\n",
              "      <td>0.433920</td>\n",
              "      <td>0.429362</td>\n",
              "      <td>0.425039</td>\n",
              "      <td>0.420337</td>\n",
              "      <td>0.415885</td>\n",
              "      <td>0.411050</td>\n",
              "      <td>0.406153</td>\n",
              "      <td>0.401529</td>\n",
              "      <td>0.396521</td>\n",
              "      <td>0.391800</td>\n",
              "      <td>0.386694</td>\n",
              "      <td>0.381542</td>\n",
              "      <td>0.376697</td>\n",
              "      <td>0.371468</td>\n",
              "      <td>0.366556</td>\n",
              "      <td>0.361264</td>\n",
              "      <td>NDARZM903TNL</td>\n",
              "      <td>5</td>\n",
              "    </tr>\n",
              "    <tr>\n",
              "      <th>1780</th>\n",
              "      <td>5.067916e-01</td>\n",
              "      <td>5.145184e-01</td>\n",
              "      <td>5.211450e-01</td>\n",
              "      <td>5.273791e-01</td>\n",
              "      <td>5.325418e-01</td>\n",
              "      <td>5.371864e-01</td>\n",
              "      <td>5.409880e-01</td>\n",
              "      <td>5.438015e-01</td>\n",
              "      <td>5.459333e-01</td>\n",
              "      <td>5.471581e-01</td>\n",
              "      <td>5.476160e-01</td>\n",
              "      <td>5.472262e-01</td>\n",
              "      <td>5.460891e-01</td>\n",
              "      <td>5.440987e-01</td>\n",
              "      <td>5.414884e-01</td>\n",
              "      <td>5.379995e-01</td>\n",
              "      <td>5.337956e-01</td>\n",
              "      <td>5.291984e-01</td>\n",
              "      <td>5.237742e-01</td>\n",
              "      <td>5.182643e-01</td>\n",
              "      <td>5.125903e-01</td>\n",
              "      <td>5.085981e-01</td>\n",
              "      <td>5.096555e-01</td>\n",
              "      <td>5.222607e-01</td>\n",
              "      <td>5.528431e-01</td>\n",
              "      <td>6.103405e-01</td>\n",
              "      <td>6.883827e-01</td>\n",
              "      <td>7.617221e-01</td>\n",
              "      <td>8.083237e-01</td>\n",
              "      <td>8.019285e-01</td>\n",
              "      <td>7.414116e-01</td>\n",
              "      <td>6.489106e-01</td>\n",
              "      <td>5.605450e-01</td>\n",
              "      <td>4.876607e-01</td>\n",
              "      <td>4.432446e-01</td>\n",
              "      <td>4.172313e-01</td>\n",
              "      <td>4.042514e-01</td>\n",
              "      <td>3.979945e-01</td>\n",
              "      <td>3.943587e-01</td>\n",
              "      <td>3.924141e-01</td>\n",
              "      <td>...</td>\n",
              "      <td>0.405909</td>\n",
              "      <td>0.407728</td>\n",
              "      <td>0.409615</td>\n",
              "      <td>0.411463</td>\n",
              "      <td>0.413171</td>\n",
              "      <td>0.414926</td>\n",
              "      <td>0.416538</td>\n",
              "      <td>0.418182</td>\n",
              "      <td>0.419761</td>\n",
              "      <td>0.421194</td>\n",
              "      <td>0.422635</td>\n",
              "      <td>0.423928</td>\n",
              "      <td>0.425213</td>\n",
              "      <td>0.426411</td>\n",
              "      <td>0.427464</td>\n",
              "      <td>0.428483</td>\n",
              "      <td>0.429359</td>\n",
              "      <td>0.430185</td>\n",
              "      <td>0.430906</td>\n",
              "      <td>0.431491</td>\n",
              "      <td>0.431999</td>\n",
              "      <td>0.432376</td>\n",
              "      <td>0.432661</td>\n",
              "      <td>0.432828</td>\n",
              "      <td>0.432874</td>\n",
              "      <td>0.432802</td>\n",
              "      <td>0.432619</td>\n",
              "      <td>0.432303</td>\n",
              "      <td>0.431858</td>\n",
              "      <td>0.431317</td>\n",
              "      <td>0.430619</td>\n",
              "      <td>0.429836</td>\n",
              "      <td>0.428881</td>\n",
              "      <td>0.427792</td>\n",
              "      <td>0.426638</td>\n",
              "      <td>0.425290</td>\n",
              "      <td>0.423890</td>\n",
              "      <td>0.422283</td>\n",
              "      <td>NDARZN148PMN</td>\n",
              "      <td>4</td>\n",
              "    </tr>\n",
              "    <tr>\n",
              "      <th>1781</th>\n",
              "      <td>1.436510e-01</td>\n",
              "      <td>1.486863e-01</td>\n",
              "      <td>1.538399e-01</td>\n",
              "      <td>1.594083e-01</td>\n",
              "      <td>1.648055e-01</td>\n",
              "      <td>1.703211e-01</td>\n",
              "      <td>1.759548e-01</td>\n",
              "      <td>1.817062e-01</td>\n",
              "      <td>1.879041e-01</td>\n",
              "      <td>1.938955e-01</td>\n",
              "      <td>2.000024e-01</td>\n",
              "      <td>2.062238e-01</td>\n",
              "      <td>2.125584e-01</td>\n",
              "      <td>2.193663e-01</td>\n",
              "      <td>2.259292e-01</td>\n",
              "      <td>2.326006e-01</td>\n",
              "      <td>2.393788e-01</td>\n",
              "      <td>2.462614e-01</td>\n",
              "      <td>2.536374e-01</td>\n",
              "      <td>2.607278e-01</td>\n",
              "      <td>2.679153e-01</td>\n",
              "      <td>2.751971e-01</td>\n",
              "      <td>2.825702e-01</td>\n",
              "      <td>2.904486e-01</td>\n",
              "      <td>2.979993e-01</td>\n",
              "      <td>3.056311e-01</td>\n",
              "      <td>3.133402e-01</td>\n",
              "      <td>3.211228e-01</td>\n",
              "      <td>3.294129e-01</td>\n",
              "      <td>3.373333e-01</td>\n",
              "      <td>3.453142e-01</td>\n",
              "      <td>3.533508e-01</td>\n",
              "      <td>3.614384e-01</td>\n",
              "      <td>3.700250e-01</td>\n",
              "      <td>3.782016e-01</td>\n",
              "      <td>3.864135e-01</td>\n",
              "      <td>3.946553e-01</td>\n",
              "      <td>4.029213e-01</td>\n",
              "      <td>4.116667e-01</td>\n",
              "      <td>4.199645e-01</td>\n",
              "      <td>...</td>\n",
              "      <td>0.528653</td>\n",
              "      <td>0.501964</td>\n",
              "      <td>0.464235</td>\n",
              "      <td>0.418262</td>\n",
              "      <td>0.367275</td>\n",
              "      <td>0.311688</td>\n",
              "      <td>0.260679</td>\n",
              "      <td>0.214355</td>\n",
              "      <td>0.175915</td>\n",
              "      <td>0.149430</td>\n",
              "      <td>0.140876</td>\n",
              "      <td>0.159499</td>\n",
              "      <td>0.213340</td>\n",
              "      <td>0.309125</td>\n",
              "      <td>0.445938</td>\n",
              "      <td>0.619602</td>\n",
              "      <td>0.782725</td>\n",
              "      <td>0.907882</td>\n",
              "      <td>0.963008</td>\n",
              "      <td>0.932536</td>\n",
              "      <td>0.816035</td>\n",
              "      <td>0.654469</td>\n",
              "      <td>0.479277</td>\n",
              "      <td>0.321053</td>\n",
              "      <td>0.197485</td>\n",
              "      <td>0.108799</td>\n",
              "      <td>0.058269</td>\n",
              "      <td>0.030614</td>\n",
              "      <td>0.016883</td>\n",
              "      <td>0.010595</td>\n",
              "      <td>0.007744</td>\n",
              "      <td>0.006544</td>\n",
              "      <td>0.005896</td>\n",
              "      <td>0.005449</td>\n",
              "      <td>0.005078</td>\n",
              "      <td>0.004725</td>\n",
              "      <td>0.004414</td>\n",
              "      <td>0.004122</td>\n",
              "      <td>NDARZN277NR6</td>\n",
              "      <td>3</td>\n",
              "    </tr>\n",
              "    <tr>\n",
              "      <th>1782</th>\n",
              "      <td>1.776357e-15</td>\n",
              "      <td>2.220446e-15</td>\n",
              "      <td>2.664535e-15</td>\n",
              "      <td>3.108624e-15</td>\n",
              "      <td>3.996803e-15</td>\n",
              "      <td>4.884981e-15</td>\n",
              "      <td>5.773160e-15</td>\n",
              "      <td>7.105427e-15</td>\n",
              "      <td>8.881784e-15</td>\n",
              "      <td>1.065814e-14</td>\n",
              "      <td>1.332268e-14</td>\n",
              "      <td>1.598721e-14</td>\n",
              "      <td>1.953993e-14</td>\n",
              "      <td>2.398082e-14</td>\n",
              "      <td>2.930989e-14</td>\n",
              "      <td>3.597123e-14</td>\n",
              "      <td>4.352074e-14</td>\n",
              "      <td>5.284662e-14</td>\n",
              "      <td>6.528111e-14</td>\n",
              "      <td>7.904788e-14</td>\n",
              "      <td>9.592327e-14</td>\n",
              "      <td>1.163514e-13</td>\n",
              "      <td>1.412204e-13</td>\n",
              "      <td>1.731948e-13</td>\n",
              "      <td>2.096101e-13</td>\n",
              "      <td>2.535749e-13</td>\n",
              "      <td>3.068656e-13</td>\n",
              "      <td>3.708145e-13</td>\n",
              "      <td>4.525269e-13</td>\n",
              "      <td>5.462297e-13</td>\n",
              "      <td>6.590284e-13</td>\n",
              "      <td>7.940315e-13</td>\n",
              "      <td>9.570122e-13</td>\n",
              "      <td>1.163958e-12</td>\n",
              "      <td>1.400657e-12</td>\n",
              "      <td>1.683986e-12</td>\n",
              "      <td>2.023270e-12</td>\n",
              "      <td>2.430500e-12</td>\n",
              "      <td>2.953193e-12</td>\n",
              "      <td>3.637091e-12</td>\n",
              "      <td>...</td>\n",
              "      <td>0.104589</td>\n",
              "      <td>0.101698</td>\n",
              "      <td>0.098861</td>\n",
              "      <td>0.096077</td>\n",
              "      <td>0.093346</td>\n",
              "      <td>0.090520</td>\n",
              "      <td>0.087898</td>\n",
              "      <td>0.085329</td>\n",
              "      <td>0.082812</td>\n",
              "      <td>0.080347</td>\n",
              "      <td>0.077802</td>\n",
              "      <td>0.075445</td>\n",
              "      <td>0.073139</td>\n",
              "      <td>0.070884</td>\n",
              "      <td>0.068680</td>\n",
              "      <td>0.066408</td>\n",
              "      <td>0.064308</td>\n",
              "      <td>0.062256</td>\n",
              "      <td>0.060254</td>\n",
              "      <td>0.058301</td>\n",
              "      <td>0.056291</td>\n",
              "      <td>0.054435</td>\n",
              "      <td>0.052627</td>\n",
              "      <td>0.050864</td>\n",
              "      <td>0.049148</td>\n",
              "      <td>0.047384</td>\n",
              "      <td>0.045760</td>\n",
              "      <td>0.044178</td>\n",
              "      <td>0.042640</td>\n",
              "      <td>0.041145</td>\n",
              "      <td>0.039611</td>\n",
              "      <td>0.038200</td>\n",
              "      <td>0.036830</td>\n",
              "      <td>0.035499</td>\n",
              "      <td>0.034207</td>\n",
              "      <td>0.032884</td>\n",
              "      <td>0.031669</td>\n",
              "      <td>0.030491</td>\n",
              "      <td>NDARZN610GTY</td>\n",
              "      <td>1</td>\n",
              "    </tr>\n",
              "    <tr>\n",
              "      <th>1783</th>\n",
              "      <td>9.292777e-01</td>\n",
              "      <td>9.281279e-01</td>\n",
              "      <td>8.736198e-01</td>\n",
              "      <td>7.719542e-01</td>\n",
              "      <td>6.549923e-01</td>\n",
              "      <td>5.391030e-01</td>\n",
              "      <td>4.416510e-01</td>\n",
              "      <td>3.733198e-01</td>\n",
              "      <td>3.363074e-01</td>\n",
              "      <td>3.316625e-01</td>\n",
              "      <td>3.494953e-01</td>\n",
              "      <td>3.813143e-01</td>\n",
              "      <td>4.186968e-01</td>\n",
              "      <td>4.562563e-01</td>\n",
              "      <td>4.839830e-01</td>\n",
              "      <td>5.005125e-01</td>\n",
              "      <td>5.042414e-01</td>\n",
              "      <td>4.954102e-01</td>\n",
              "      <td>4.743918e-01</td>\n",
              "      <td>4.466257e-01</td>\n",
              "      <td>4.147956e-01</td>\n",
              "      <td>3.825022e-01</td>\n",
              "      <td>3.529187e-01</td>\n",
              "      <td>3.272278e-01</td>\n",
              "      <td>3.098560e-01</td>\n",
              "      <td>2.997946e-01</td>\n",
              "      <td>2.968993e-01</td>\n",
              "      <td>3.005010e-01</td>\n",
              "      <td>3.103134e-01</td>\n",
              "      <td>3.241108e-01</td>\n",
              "      <td>3.412421e-01</td>\n",
              "      <td>3.607823e-01</td>\n",
              "      <td>3.819600e-01</td>\n",
              "      <td>4.054829e-01</td>\n",
              "      <td>4.282290e-01</td>\n",
              "      <td>4.511010e-01</td>\n",
              "      <td>4.737910e-01</td>\n",
              "      <td>4.960395e-01</td>\n",
              "      <td>5.188627e-01</td>\n",
              "      <td>5.395070e-01</td>\n",
              "      <td>...</td>\n",
              "      <td>0.518679</td>\n",
              "      <td>0.517542</td>\n",
              "      <td>0.516267</td>\n",
              "      <td>0.514855</td>\n",
              "      <td>0.513308</td>\n",
              "      <td>0.511524</td>\n",
              "      <td>0.509703</td>\n",
              "      <td>0.507749</td>\n",
              "      <td>0.505667</td>\n",
              "      <td>0.503457</td>\n",
              "      <td>0.500983</td>\n",
              "      <td>0.498546</td>\n",
              "      <td>0.496114</td>\n",
              "      <td>0.494088</td>\n",
              "      <td>0.493764</td>\n",
              "      <td>0.499119</td>\n",
              "      <td>0.517191</td>\n",
              "      <td>0.559521</td>\n",
              "      <td>0.637465</td>\n",
              "      <td>0.752314</td>\n",
              "      <td>0.892114</td>\n",
              "      <td>0.998681</td>\n",
              "      <td>1.036908</td>\n",
              "      <td>0.988803</td>\n",
              "      <td>0.873359</td>\n",
              "      <td>0.725614</td>\n",
              "      <td>0.604207</td>\n",
              "      <td>0.519944</td>\n",
              "      <td>0.471078</td>\n",
              "      <td>0.446142</td>\n",
              "      <td>0.433266</td>\n",
              "      <td>0.426384</td>\n",
              "      <td>0.421194</td>\n",
              "      <td>0.416447</td>\n",
              "      <td>0.411761</td>\n",
              "      <td>0.406762</td>\n",
              "      <td>0.401988</td>\n",
              "      <td>0.397163</td>\n",
              "      <td>NDARZN677EYE</td>\n",
              "      <td>2</td>\n",
              "    </tr>\n",
              "  </tbody>\n",
              "</table>\n",
              "<p>1784 rows × 26590 columns</p>\n",
              "</div>"
            ],
            "text/plain": [
              "      (Electrode 1 - 1/2 Hz,)  (Electrode 1 - 2/2 Hz,)  ...           IDs  label\n",
              "0                5.078868e-01             5.217506e-01  ...  NDARAA075AMK      5\n",
              "1                1.318260e+00             1.346233e+00  ...  NDARAA112DMH      3\n",
              "2                3.202934e-01             3.261972e-01  ...  NDARAA117NEJ      3\n",
              "3                8.538945e-02             8.781716e-02  ...  NDARAA947ZG5      3\n",
              "4                2.198925e-01             2.883633e-01  ...  NDARAA948VFH      3\n",
              "...                       ...                      ...  ...           ...    ...\n",
              "1779             3.264409e-01             3.306937e-01  ...  NDARZM903TNL      5\n",
              "1780             5.067916e-01             5.145184e-01  ...  NDARZN148PMN      4\n",
              "1781             1.436510e-01             1.486863e-01  ...  NDARZN277NR6      3\n",
              "1782             1.776357e-15             2.220446e-15  ...  NDARZN610GTY      1\n",
              "1783             9.292777e-01             9.281279e-01  ...  NDARZN677EYE      2\n",
              "\n",
              "[1784 rows x 26590 columns]"
            ]
          },
          "metadata": {},
          "execution_count": 8
        }
      ]
    },
    {
      "cell_type": "code",
      "metadata": {
        "id": "jb9T4ixBFvH-"
      },
      "source": [
        "# data splitting\n",
        "\n",
        "train_df, test_df = train_test_split(df, test_size=0.3, stratify=df['label'])\n",
        "\n",
        "train_labels, test_labels = train_df['label'], test_df['label']\n",
        "test_labels_categorical = to_categorical(test_df['label']-1)\n",
        "\n",
        "train_features = train_df[train_df.columns.difference(['IDs', 'label'])]\n",
        "test_features = test_df[test_df.columns.difference(['IDs', 'label'])]"
      ],
      "execution_count": null,
      "outputs": []
    },
    {
      "cell_type": "markdown",
      "metadata": {
        "id": "l1MryYsFFvH_"
      },
      "source": [
        "## AutoEncoder for Feature Extraction"
      ]
    },
    {
      "cell_type": "code",
      "metadata": {
        "colab": {
          "base_uri": "https://localhost:8080/",
          "height": 391
        },
        "id": "RhFtsOcFFvIA",
        "outputId": "63d3013b-557d-4f91-c9d9-5077c59d1b96"
      },
      "source": [
        "# not enough GPU RAM for this\n",
        "\n",
        "# n_inputs = train_features.shape[1]\n",
        "\n",
        "# visible = Input(shape=(n_inputs,))\n",
        "# e = Dense(n_inputs*2)(visible)\n",
        "# e = BatchNormalization()(e)\n",
        "# e = LeakyReLU()(e)\n",
        "# e = Dense(n_inputs)(e)\n",
        "# e = BatchNormalization()(e)\n",
        "# e = LeakyReLU()(e)\n",
        "# n_bottleneck = round(float(n_inputs) / 2.0)\n",
        "# bottleneck = Dense(n_bottleneck)(e)\n",
        "\n",
        "# d = Dense(n_inputs)(bottleneck)\n",
        "# d = BatchNormalization()(d)\n",
        "# d = LeakyReLU()(d)\n",
        "\n",
        "# d = Dense(n_inputs*2)(d)\n",
        "# d = BatchNormalization()(d)\n",
        "# d = LeakyReLU()(d)\n",
        "\n",
        "# output = Dense(n_inputs, activation='linear')(d)\n",
        "\n",
        "# model = Model(inputs=visible, outputs=output)\n",
        "# model.compile(optimizer='adam', loss='mse')\n",
        "# plot_model(model, 'autoencoder_compress.png', show_shapes=True)\n",
        "\n",
        "# history = model.fit(train_features, train_labels, epochs=15, batch_size=8, verbose=2)\n",
        "# encoder = Model(inputs=visible, outputs=bottleneck)\n",
        "\n",
        "# plot_model(encoder, 'encoder_compress.png', show_shapes=True)\n",
        "# encoder.save('autoencoder.h5')"
      ],
      "execution_count": null,
      "outputs": [
        {
          "output_type": "error",
          "ename": "ResourceExhaustedError",
          "evalue": "ignored",
          "traceback": [
            "\u001b[0;31m---------------------------------------------------------------------------\u001b[0m",
            "\u001b[0;31mResourceExhaustedError\u001b[0m                    Traceback (most recent call last)",
            "\u001b[0;32m<ipython-input-15-d649b77d2d48>\u001b[0m in \u001b[0;36m<module>\u001b[0;34m()\u001b[0m\n\u001b[1;32m      2\u001b[0m \u001b[0;34m\u001b[0m\u001b[0m\n\u001b[1;32m      3\u001b[0m \u001b[0mvisible\u001b[0m \u001b[0;34m=\u001b[0m \u001b[0mInput\u001b[0m\u001b[0;34m(\u001b[0m\u001b[0mshape\u001b[0m\u001b[0;34m=\u001b[0m\u001b[0;34m(\u001b[0m\u001b[0mn_inputs\u001b[0m\u001b[0;34m,\u001b[0m\u001b[0;34m)\u001b[0m\u001b[0;34m)\u001b[0m\u001b[0;34m\u001b[0m\u001b[0;34m\u001b[0m\u001b[0m\n\u001b[0;32m----> 4\u001b[0;31m \u001b[0me\u001b[0m \u001b[0;34m=\u001b[0m \u001b[0mDense\u001b[0m\u001b[0;34m(\u001b[0m\u001b[0mn_inputs\u001b[0m\u001b[0;34m*\u001b[0m\u001b[0;36m2\u001b[0m\u001b[0;34m)\u001b[0m\u001b[0;34m(\u001b[0m\u001b[0mvisible\u001b[0m\u001b[0;34m)\u001b[0m\u001b[0;34m\u001b[0m\u001b[0;34m\u001b[0m\u001b[0m\n\u001b[0m\u001b[1;32m      5\u001b[0m \u001b[0me\u001b[0m \u001b[0;34m=\u001b[0m \u001b[0mBatchNormalization\u001b[0m\u001b[0;34m(\u001b[0m\u001b[0;34m)\u001b[0m\u001b[0;34m(\u001b[0m\u001b[0me\u001b[0m\u001b[0;34m)\u001b[0m\u001b[0;34m\u001b[0m\u001b[0;34m\u001b[0m\u001b[0m\n\u001b[1;32m      6\u001b[0m \u001b[0me\u001b[0m \u001b[0;34m=\u001b[0m \u001b[0mLeakyReLU\u001b[0m\u001b[0;34m(\u001b[0m\u001b[0;34m)\u001b[0m\u001b[0;34m(\u001b[0m\u001b[0me\u001b[0m\u001b[0;34m)\u001b[0m\u001b[0;34m\u001b[0m\u001b[0;34m\u001b[0m\u001b[0m\n",
            "\u001b[0;32m/usr/local/lib/python3.7/dist-packages/keras/utils/traceback_utils.py\u001b[0m in \u001b[0;36merror_handler\u001b[0;34m(*args, **kwargs)\u001b[0m\n\u001b[1;32m     65\u001b[0m     \u001b[0;32mexcept\u001b[0m \u001b[0mException\u001b[0m \u001b[0;32mas\u001b[0m \u001b[0me\u001b[0m\u001b[0;34m:\u001b[0m  \u001b[0;31m# pylint: disable=broad-except\u001b[0m\u001b[0;34m\u001b[0m\u001b[0;34m\u001b[0m\u001b[0m\n\u001b[1;32m     66\u001b[0m       \u001b[0mfiltered_tb\u001b[0m \u001b[0;34m=\u001b[0m \u001b[0m_process_traceback_frames\u001b[0m\u001b[0;34m(\u001b[0m\u001b[0me\u001b[0m\u001b[0;34m.\u001b[0m\u001b[0m__traceback__\u001b[0m\u001b[0;34m)\u001b[0m\u001b[0;34m\u001b[0m\u001b[0;34m\u001b[0m\u001b[0m\n\u001b[0;32m---> 67\u001b[0;31m       \u001b[0;32mraise\u001b[0m \u001b[0me\u001b[0m\u001b[0;34m.\u001b[0m\u001b[0mwith_traceback\u001b[0m\u001b[0;34m(\u001b[0m\u001b[0mfiltered_tb\u001b[0m\u001b[0;34m)\u001b[0m \u001b[0;32mfrom\u001b[0m \u001b[0;32mNone\u001b[0m\u001b[0;34m\u001b[0m\u001b[0;34m\u001b[0m\u001b[0m\n\u001b[0m\u001b[1;32m     68\u001b[0m     \u001b[0;32mfinally\u001b[0m\u001b[0;34m:\u001b[0m\u001b[0;34m\u001b[0m\u001b[0;34m\u001b[0m\u001b[0m\n\u001b[1;32m     69\u001b[0m       \u001b[0;32mdel\u001b[0m \u001b[0mfiltered_tb\u001b[0m\u001b[0;34m\u001b[0m\u001b[0;34m\u001b[0m\u001b[0m\n",
            "\u001b[0;32m/usr/local/lib/python3.7/dist-packages/keras/backend.py\u001b[0m in \u001b[0;36mrandom_uniform\u001b[0;34m(self, shape, minval, maxval, dtype)\u001b[0m\n\u001b[1;32m   1831\u001b[0m     return tf.random.uniform(\n\u001b[1;32m   1832\u001b[0m         \u001b[0mshape\u001b[0m\u001b[0;34m=\u001b[0m\u001b[0mshape\u001b[0m\u001b[0;34m,\u001b[0m \u001b[0mminval\u001b[0m\u001b[0;34m=\u001b[0m\u001b[0mminval\u001b[0m\u001b[0;34m,\u001b[0m \u001b[0mmaxval\u001b[0m\u001b[0;34m=\u001b[0m\u001b[0mmaxval\u001b[0m\u001b[0;34m,\u001b[0m \u001b[0mdtype\u001b[0m\u001b[0;34m=\u001b[0m\u001b[0mdtype\u001b[0m\u001b[0;34m,\u001b[0m\u001b[0;34m\u001b[0m\u001b[0;34m\u001b[0m\u001b[0m\n\u001b[0;32m-> 1833\u001b[0;31m         seed=self.make_legacy_seed())\n\u001b[0m\u001b[1;32m   1834\u001b[0m \u001b[0;34m\u001b[0m\u001b[0m\n\u001b[1;32m   1835\u001b[0m   \u001b[0;32mdef\u001b[0m \u001b[0mtruncated_normal\u001b[0m\u001b[0;34m(\u001b[0m\u001b[0mself\u001b[0m\u001b[0;34m,\u001b[0m \u001b[0mshape\u001b[0m\u001b[0;34m,\u001b[0m \u001b[0mmean\u001b[0m\u001b[0;34m=\u001b[0m\u001b[0;36m0.\u001b[0m\u001b[0;34m,\u001b[0m \u001b[0mstddev\u001b[0m\u001b[0;34m=\u001b[0m\u001b[0;36m1.\u001b[0m\u001b[0;34m,\u001b[0m \u001b[0mdtype\u001b[0m\u001b[0;34m=\u001b[0m\u001b[0;32mNone\u001b[0m\u001b[0;34m)\u001b[0m\u001b[0;34m:\u001b[0m\u001b[0;34m\u001b[0m\u001b[0;34m\u001b[0m\u001b[0m\n",
            "\u001b[0;31mResourceExhaustedError\u001b[0m: OOM when allocating tensor with shape[26588,53176] and type float on /job:localhost/replica:0/task:0/device:GPU:0 by allocator GPU_0_bfc [Op:RandomUniform]"
          ]
        }
      ]
    },
    {
      "cell_type": "code",
      "metadata": {
        "colab": {
          "base_uri": "https://localhost:8080/",
          "height": 281
        },
        "id": "rxH1C5ZOiTa7",
        "outputId": "a2e26b54-6ad0-46b2-f0af-bbc2ce060eb9"
      },
      "source": [
        "  # # plot loss\n",
        "  # plt.plot(history.history['loss'], label='train')\n",
        "  # plt.title('Autoencoder training loss')\n",
        "  # plt.legend()\n",
        "  # plt.show()"
      ],
      "execution_count": null,
      "outputs": [
        {
          "data": {
            "image/png": "[encoded data removed]",
            "text/plain": [
              "<Figure size 432x288 with 1 Axes>"
            ]
          },
          "metadata": {
            "needs_background": "light"
          },
          "output_type": "display_data"
        }
      ]
    },
    {
      "cell_type": "code",
      "metadata": {
        "id": "zgckuW7_iF6R"
      },
      "source": [
        "# # encode the data\n",
        "# encoder= load_model('autoencoder.h5', compile=False)\n",
        "\n",
        "# train_features_encoded = encoder.predict(train_features)\n",
        "# test_features_encoded = encoder.predict(test_features)\n",
        "\n",
        "# until encoder is fixed\n",
        "train_features_encoded = train_features\n",
        "test_features_encoded = test_features"
      ],
      "execution_count": null,
      "outputs": []
    },
    {
      "cell_type": "markdown",
      "metadata": {
        "id": "HQC-Wm64FvID"
      },
      "source": [
        "## Dealing with imbalance"
      ]
    },
    {
      "cell_type": "code",
      "metadata": {
        "colab": {
          "base_uri": "https://localhost:8080/"
        },
        "id": "qkZ5dnh7FvID",
        "outputId": "1e927978-1b9e-436f-bda6-7abb2067c8be"
      },
      "source": [
        "oversample = SMOTE()\n",
        "train_features_encoded_oversampled, train_labels_oversampled = oversample.fit_resample(train_features_encoded, train_labels)\n",
        "train_features_oversampled, train_labels_oversampled_ = oversample.fit_resample(train_features, train_labels)\n",
        "\n",
        "train_labels_oversampled_categorical = to_categorical(train_labels_oversampled-1)"
      ],
      "execution_count": null,
      "outputs": [
        {
          "output_type": "stream",
          "name": "stderr",
          "text": [
            "/usr/local/lib/python3.7/dist-packages/sklearn/utils/validation.py:1679: FutureWarning: Feature names only support names that are all strings. Got feature names with dtypes: ['tuple']. An error will be raised in 1.2.\n",
            "  FutureWarning,\n",
            "/usr/local/lib/python3.7/dist-packages/sklearn/utils/validation.py:1679: FutureWarning: Feature names only support names that are all strings. Got feature names with dtypes: ['tuple']. An error will be raised in 1.2.\n",
            "  FutureWarning,\n"
          ]
        }
      ]
    },
    {
      "cell_type": "code",
      "metadata": {
        "id": "6cBLVO-BrAxS"
      },
      "source": [
        "if 'google.colab' in str(get_ipython()):\n",
        "  np.save('train_features_encoded_oversampled.npy', train_features_encoded_oversampled)\n",
        "  np.save('train_labels_oversampled.npy', train_labels_oversampled)\n",
        "  np.save('train_features_encoded.npy', train_features_encoded)\n",
        "  np.save('test_features_encoded.npy', test_features_encoded)"
      ],
      "execution_count": null,
      "outputs": []
    },
    {
      "cell_type": "code",
      "metadata": {
        "id": "Tms2OlNbuvUf",
        "colab": {
          "base_uri": "https://localhost:8080/"
        },
        "outputId": "e294fa80-12d8-40b0-e410-d4c6d36b0edf"
      },
      "source": [
        "# scaling the data\n",
        "\n",
        "from sklearn.preprocessing import StandardScaler\n",
        "\n",
        "scaler = StandardScaler()\n",
        "train_features_encoded_oversampled = scaler.fit_transform(train_features_encoded_oversampled)\n",
        "test_features_encoded = scaler.transform(test_features_encoded)\n",
        "\n",
        "train_features_encoded_oversampled = np.clip(train_features_encoded_oversampled, -5, 5)\n",
        "test_features_encoded = np.clip(test_features_encoded, -5, 5)"
      ],
      "execution_count": null,
      "outputs": [
        {
          "output_type": "stream",
          "name": "stderr",
          "text": [
            "/usr/local/lib/python3.7/dist-packages/sklearn/utils/validation.py:1679: FutureWarning: Feature names only support names that are all strings. Got feature names with dtypes: ['tuple']. An error will be raised in 1.2.\n",
            "  FutureWarning,\n",
            "/usr/local/lib/python3.7/dist-packages/sklearn/utils/validation.py:1679: FutureWarning: Feature names only support names that are all strings. Got feature names with dtypes: ['tuple']. An error will be raised in 1.2.\n",
            "  FutureWarning,\n",
            "/usr/local/lib/python3.7/dist-packages/sklearn/utils/validation.py:1679: FutureWarning: Feature names only support names that are all strings. Got feature names with dtypes: ['tuple']. An error will be raised in 1.2.\n",
            "  FutureWarning,\n"
          ]
        }
      ]
    },
    {
      "cell_type": "code",
      "metadata": {
        "colab": {
          "base_uri": "https://localhost:8080/"
        },
        "id": "nd92xbREvIly",
        "outputId": "382abbdb-110a-4694-82df-d80c30a6314e"
      },
      "source": [
        "print(train_features_encoded_oversampled.shape)\n",
        "print(train_labels_oversampled.shape)\n",
        "print(train_labels_oversampled_categorical.shape)\n",
        "print(test_features_encoded.shape)\n",
        "print(test_labels.shape)"
      ],
      "execution_count": null,
      "outputs": [
        {
          "output_type": "stream",
          "name": "stdout",
          "text": [
            "(2064, 26588)\n",
            "(2064,)\n",
            "(2064, 6)\n",
            "(536, 26588)\n",
            "(536,)\n"
          ]
        }
      ]
    },
    {
      "cell_type": "markdown",
      "metadata": {
        "id": "vGEV__DRFvIE"
      },
      "source": [
        "## Linear Models"
      ]
    },
    {
      "cell_type": "markdown",
      "metadata": {
        "id": "DUCdA5b6FvIF"
      },
      "source": [
        "### SVC"
      ]
    },
    {
      "cell_type": "code",
      "metadata": {
        "colab": {
          "base_uri": "https://localhost:8080/"
        },
        "id": "g-MNQL01FvIF",
        "outputId": "6e7cdb35-bf70-4c18-b36d-7bf9b2b1660b"
      },
      "source": [
        "from sklearn import svm\n",
        "\n",
        "clf = svm.SVC(kernel='linear', verbose=True)\n",
        "clf.fit(train_features_encoded_oversampled, train_labels_oversampled)\n",
        "\n",
        "predicted_labels_svc = clf.predict(test_features_encoded)"
      ],
      "execution_count": null,
      "outputs": [
        {
          "output_type": "stream",
          "name": "stdout",
          "text": [
            "[LibSVM]"
          ]
        }
      ]
    },
    {
      "cell_type": "code",
      "metadata": {
        "id": "u9flc8xoFvIG"
      },
      "source": [
        "from sklearn import metrics\n",
        "import matplotlib.pyplot as plt\n",
        "from sklearn.metrics import confusion_matrix, ConfusionMatrixDisplay\n",
        "\n",
        "def evaluate(y_test, y_pred, show_cm=True, is_categorical=False):\n",
        "    \n",
        "    if is_categorical:\n",
        "      y_test = np.argmax(y_test, axis=1)\n",
        "      y_pred = np.argmax(y_pred, axis=1)\n",
        "\n",
        "    print(\"Accuracy:\", metrics.accuracy_score(y_test, y_pred))\n",
        "    print(\"Precision:\", metrics.precision_score(y_test, y_pred, average='macro'))\n",
        "    print(\"Recall:\", metrics.recall_score(y_test, y_pred, average='macro'))\n",
        "#     print(\"ROC AUC:\", metrics.roc_auc_score(y_test, y_pred, multi_class='ovo',))\n",
        "    print(\"F1 score:\", metrics.f1_score(y_test, y_pred, average='macro'))\n",
        "#     print(\"Brier Score:\", metrics.brier_score_loss(y_test, y_pred)) # only for binary classification\n",
        "\n",
        "    if show_cm:\n",
        "        cm = confusion_matrix(y_test, y_pred)\n",
        "        disp = ConfusionMatrixDisplay(confusion_matrix=cm, display_labels=labels)\n",
        "        disp.plot()\n",
        "        plt.tight_layout()\n",
        "        plt.show()\n"
      ],
      "execution_count": null,
      "outputs": []
    },
    {
      "cell_type": "code",
      "metadata": {
        "colab": {
          "base_uri": "https://localhost:8080/",
          "height": 351
        },
        "id": "fK8-_rI6CzUo",
        "outputId": "8ad412dd-f483-41c2-a5b3-0cfdbb5a359a"
      },
      "source": [
        "evaluate(test_labels, predicted_labels_svc)"
      ],
      "execution_count": null,
      "outputs": [
        {
          "output_type": "stream",
          "name": "stdout",
          "text": [
            "Accuracy: 0.22574626865671643\n",
            "Precision: 0.19645974450602288\n",
            "Recall: 0.17174094976538237\n",
            "F1 score: 0.16928043018593952\n"
          ]
        },
        {
          "output_type": "display_data",
          "data": {
            "image/png": "[encoded data removed]",
            "text/plain": [
              "<Figure size 432x288 with 2 Axes>"
            ]
          },
          "metadata": {
            "needs_background": "light"
          }
        }
      ]
    },
    {
      "cell_type": "markdown",
      "metadata": {
        "id": "LahFg05KFvIH"
      },
      "source": [
        "### OneVsRestClassifier\n",
        "The strategy consists in fitting one classifier per class. For each classifier, the class is fitted against all the other classes."
      ]
    },
    {
      "cell_type": "code",
      "metadata": {
        "colab": {
          "base_uri": "https://localhost:8080/"
        },
        "id": "VScxf00iFvII",
        "outputId": "d8c2f283-91b1-4a1e-d9dd-aeb7853837dd"
      },
      "source": [
        "from sklearn.multiclass import OneVsRestClassifier\n",
        "from sklearn.svm import LinearSVC\n",
        "\n",
        "clf = OneVsRestClassifier(LinearSVC(random_state=0, max_iter=2000, verbose=True))\n",
        "\n",
        "clf.fit(train_features_encoded_oversampled, train_labels_oversampled)\n",
        "predicted_labels_ovr = clf.predict(test_features_encoded)"
      ],
      "execution_count": null,
      "outputs": [
        {
          "output_type": "stream",
          "name": "stdout",
          "text": [
            "[LibLinear]"
          ]
        },
        {
          "output_type": "stream",
          "name": "stderr",
          "text": [
            "/usr/local/lib/python3.7/dist-packages/sklearn/svm/_base.py:1208: ConvergenceWarning: Liblinear failed to converge, increase the number of iterations.\n",
            "  ConvergenceWarning,\n"
          ]
        },
        {
          "output_type": "stream",
          "name": "stdout",
          "text": [
            "[LibLinear]"
          ]
        },
        {
          "output_type": "stream",
          "name": "stderr",
          "text": [
            "/usr/local/lib/python3.7/dist-packages/sklearn/svm/_base.py:1208: ConvergenceWarning: Liblinear failed to converge, increase the number of iterations.\n",
            "  ConvergenceWarning,\n"
          ]
        },
        {
          "output_type": "stream",
          "name": "stdout",
          "text": [
            "[LibLinear]"
          ]
        },
        {
          "output_type": "stream",
          "name": "stderr",
          "text": [
            "/usr/local/lib/python3.7/dist-packages/sklearn/svm/_base.py:1208: ConvergenceWarning: Liblinear failed to converge, increase the number of iterations.\n",
            "  ConvergenceWarning,\n"
          ]
        },
        {
          "output_type": "stream",
          "name": "stdout",
          "text": [
            "[LibLinear]"
          ]
        },
        {
          "output_type": "stream",
          "name": "stderr",
          "text": [
            "/usr/local/lib/python3.7/dist-packages/sklearn/svm/_base.py:1208: ConvergenceWarning: Liblinear failed to converge, increase the number of iterations.\n",
            "  ConvergenceWarning,\n"
          ]
        },
        {
          "output_type": "stream",
          "name": "stdout",
          "text": [
            "[LibLinear]"
          ]
        },
        {
          "output_type": "stream",
          "name": "stderr",
          "text": [
            "/usr/local/lib/python3.7/dist-packages/sklearn/svm/_base.py:1208: ConvergenceWarning: Liblinear failed to converge, increase the number of iterations.\n",
            "  ConvergenceWarning,\n"
          ]
        },
        {
          "output_type": "stream",
          "name": "stdout",
          "text": [
            "[LibLinear]"
          ]
        },
        {
          "output_type": "stream",
          "name": "stderr",
          "text": [
            "/usr/local/lib/python3.7/dist-packages/sklearn/svm/_base.py:1208: ConvergenceWarning: Liblinear failed to converge, increase the number of iterations.\n",
            "  ConvergenceWarning,\n"
          ]
        }
      ]
    },
    {
      "cell_type": "code",
      "metadata": {
        "colab": {
          "base_uri": "https://localhost:8080/",
          "height": 349
        },
        "id": "_AreAnOwFvII",
        "outputId": "cca2998b-e2b1-4223-ea65-4031b84bf901"
      },
      "source": [
        "evaluate(test_labels, predicted_labels_ovr)"
      ],
      "execution_count": null,
      "outputs": [
        {
          "output_type": "stream",
          "name": "stdout",
          "text": [
            "Accuracy: 0.19776119402985073\n",
            "Precision: 0.1580972230490225\n",
            "Recall: 0.16089409168845079\n",
            "F1 score: 0.1591287822852281\n"
          ]
        },
        {
          "output_type": "display_data",
          "data": {
            "image/png": "[encoded data removed]",
            "text/plain": [
              "<Figure size 432x288 with 2 Axes>"
            ]
          },
          "metadata": {
            "needs_background": "light"
          }
        }
      ]
    },
    {
      "cell_type": "markdown",
      "metadata": {
        "id": "-cBrjbXzFvIJ"
      },
      "source": [
        "### OneVsOneClassifier\n",
        "OneVsOneClassifier constructs one classifier per pair of classes. At prediction time, the class which received the most votes is selected. In the event of a tie (among two classes with an equal number of votes), it selects the class with the highest aggregate classification confidence by summing over the pair-wise classification confidence levels computed by the underlying binary classifiers.\n",
        "\n"
      ]
    },
    {
      "cell_type": "code",
      "metadata": {
        "colab": {
          "base_uri": "https://localhost:8080/"
        },
        "id": "ydH-4TMDFvIK",
        "outputId": "64826e2e-7b0c-42ed-b7b7-43f015e33f51"
      },
      "source": [
        "from sklearn.multiclass import OneVsOneClassifier\n",
        "\n",
        "clf = OneVsOneClassifier(LinearSVC(random_state=0, verbose=True))\n",
        "\n",
        "clf.fit(train_features_encoded_oversampled, train_labels_oversampled)\n",
        "predicted_labels_ovo = clf.predict(test_features_encoded)"
      ],
      "execution_count": null,
      "outputs": [
        {
          "output_type": "stream",
          "name": "stdout",
          "text": [
            "[LibLinear]"
          ]
        },
        {
          "output_type": "stream",
          "name": "stderr",
          "text": [
            "/usr/local/lib/python3.7/dist-packages/sklearn/svm/_base.py:1208: ConvergenceWarning: Liblinear failed to converge, increase the number of iterations.\n",
            "  ConvergenceWarning,\n"
          ]
        },
        {
          "output_type": "stream",
          "name": "stdout",
          "text": [
            "[LibLinear]"
          ]
        },
        {
          "output_type": "stream",
          "name": "stderr",
          "text": [
            "/usr/local/lib/python3.7/dist-packages/sklearn/svm/_base.py:1208: ConvergenceWarning: Liblinear failed to converge, increase the number of iterations.\n",
            "  ConvergenceWarning,\n"
          ]
        },
        {
          "output_type": "stream",
          "name": "stdout",
          "text": [
            "[LibLinear]"
          ]
        },
        {
          "output_type": "stream",
          "name": "stderr",
          "text": [
            "/usr/local/lib/python3.7/dist-packages/sklearn/svm/_base.py:1208: ConvergenceWarning: Liblinear failed to converge, increase the number of iterations.\n",
            "  ConvergenceWarning,\n"
          ]
        },
        {
          "output_type": "stream",
          "name": "stdout",
          "text": [
            "[LibLinear]"
          ]
        },
        {
          "output_type": "stream",
          "name": "stderr",
          "text": [
            "/usr/local/lib/python3.7/dist-packages/sklearn/svm/_base.py:1208: ConvergenceWarning: Liblinear failed to converge, increase the number of iterations.\n",
            "  ConvergenceWarning,\n"
          ]
        },
        {
          "output_type": "stream",
          "name": "stdout",
          "text": [
            "[LibLinear]"
          ]
        },
        {
          "output_type": "stream",
          "name": "stderr",
          "text": [
            "/usr/local/lib/python3.7/dist-packages/sklearn/svm/_base.py:1208: ConvergenceWarning: Liblinear failed to converge, increase the number of iterations.\n",
            "  ConvergenceWarning,\n"
          ]
        },
        {
          "output_type": "stream",
          "name": "stdout",
          "text": [
            "[LibLinear]"
          ]
        },
        {
          "output_type": "stream",
          "name": "stderr",
          "text": [
            "/usr/local/lib/python3.7/dist-packages/sklearn/svm/_base.py:1208: ConvergenceWarning: Liblinear failed to converge, increase the number of iterations.\n",
            "  ConvergenceWarning,\n"
          ]
        },
        {
          "output_type": "stream",
          "name": "stdout",
          "text": [
            "[LibLinear]"
          ]
        },
        {
          "output_type": "stream",
          "name": "stderr",
          "text": [
            "/usr/local/lib/python3.7/dist-packages/sklearn/svm/_base.py:1208: ConvergenceWarning: Liblinear failed to converge, increase the number of iterations.\n",
            "  ConvergenceWarning,\n"
          ]
        },
        {
          "output_type": "stream",
          "name": "stdout",
          "text": [
            "[LibLinear]"
          ]
        },
        {
          "output_type": "stream",
          "name": "stderr",
          "text": [
            "/usr/local/lib/python3.7/dist-packages/sklearn/svm/_base.py:1208: ConvergenceWarning: Liblinear failed to converge, increase the number of iterations.\n",
            "  ConvergenceWarning,\n"
          ]
        },
        {
          "output_type": "stream",
          "name": "stdout",
          "text": [
            "[LibLinear]"
          ]
        },
        {
          "output_type": "stream",
          "name": "stderr",
          "text": [
            "/usr/local/lib/python3.7/dist-packages/sklearn/svm/_base.py:1208: ConvergenceWarning: Liblinear failed to converge, increase the number of iterations.\n",
            "  ConvergenceWarning,\n"
          ]
        },
        {
          "output_type": "stream",
          "name": "stdout",
          "text": [
            "[LibLinear]"
          ]
        },
        {
          "output_type": "stream",
          "name": "stderr",
          "text": [
            "/usr/local/lib/python3.7/dist-packages/sklearn/svm/_base.py:1208: ConvergenceWarning: Liblinear failed to converge, increase the number of iterations.\n",
            "  ConvergenceWarning,\n"
          ]
        },
        {
          "output_type": "stream",
          "name": "stdout",
          "text": [
            "[LibLinear]"
          ]
        },
        {
          "output_type": "stream",
          "name": "stderr",
          "text": [
            "/usr/local/lib/python3.7/dist-packages/sklearn/svm/_base.py:1208: ConvergenceWarning: Liblinear failed to converge, increase the number of iterations.\n",
            "  ConvergenceWarning,\n"
          ]
        },
        {
          "output_type": "stream",
          "name": "stdout",
          "text": [
            "[LibLinear]"
          ]
        },
        {
          "output_type": "stream",
          "name": "stderr",
          "text": [
            "/usr/local/lib/python3.7/dist-packages/sklearn/svm/_base.py:1208: ConvergenceWarning: Liblinear failed to converge, increase the number of iterations.\n",
            "  ConvergenceWarning,\n"
          ]
        },
        {
          "output_type": "stream",
          "name": "stdout",
          "text": [
            "[LibLinear]"
          ]
        },
        {
          "output_type": "stream",
          "name": "stderr",
          "text": [
            "/usr/local/lib/python3.7/dist-packages/sklearn/svm/_base.py:1208: ConvergenceWarning: Liblinear failed to converge, increase the number of iterations.\n",
            "  ConvergenceWarning,\n"
          ]
        },
        {
          "output_type": "stream",
          "name": "stdout",
          "text": [
            "[LibLinear]"
          ]
        },
        {
          "output_type": "stream",
          "name": "stderr",
          "text": [
            "/usr/local/lib/python3.7/dist-packages/sklearn/svm/_base.py:1208: ConvergenceWarning: Liblinear failed to converge, increase the number of iterations.\n",
            "  ConvergenceWarning,\n"
          ]
        },
        {
          "output_type": "stream",
          "name": "stdout",
          "text": [
            "[LibLinear]"
          ]
        },
        {
          "output_type": "stream",
          "name": "stderr",
          "text": [
            "/usr/local/lib/python3.7/dist-packages/sklearn/svm/_base.py:1208: ConvergenceWarning: Liblinear failed to converge, increase the number of iterations.\n",
            "  ConvergenceWarning,\n"
          ]
        }
      ]
    },
    {
      "cell_type": "code",
      "metadata": {
        "colab": {
          "base_uri": "https://localhost:8080/",
          "height": 349
        },
        "id": "xu-kDqPdFvIK",
        "outputId": "e588e5e8-bdea-4b74-8787-52470dfa539c"
      },
      "source": [
        "evaluate(test_labels, predicted_labels_ovr)"
      ],
      "execution_count": null,
      "outputs": [
        {
          "output_type": "stream",
          "name": "stdout",
          "text": [
            "Accuracy: 0.19776119402985073\n",
            "Precision: 0.1580972230490225\n",
            "Recall: 0.16089409168845079\n",
            "F1 score: 0.1591287822852281\n"
          ]
        },
        {
          "output_type": "display_data",
          "data": {
            "image/png": "[encoded data removed]",
            "text/plain": [
              "<Figure size 432x288 with 2 Axes>"
            ]
          },
          "metadata": {
            "needs_background": "light"
          }
        }
      ]
    },
    {
      "cell_type": "markdown",
      "metadata": {
        "id": "u_5tPjL2FvIL"
      },
      "source": [
        "### Random Forest"
      ]
    },
    {
      "cell_type": "code",
      "metadata": {
        "colab": {
          "base_uri": "https://localhost:8080/"
        },
        "id": "kGIa95sQFvIL",
        "outputId": "29705760-b0d7-45ed-cfe7-99f09abf7a08"
      },
      "source": [
        "from sklearn.ensemble import RandomForestClassifier\n",
        "\n",
        "clf = RandomForestClassifier(max_depth=5, random_state=0, verbose=True)\n",
        "clf.fit(train_features_encoded_oversampled, train_labels_oversampled)\n",
        "predicted_labels_rf = clf.predict(test_features_encoded)"
      ],
      "execution_count": null,
      "outputs": [
        {
          "output_type": "stream",
          "name": "stderr",
          "text": [
            "[Parallel(n_jobs=1)]: Using backend SequentialBackend with 1 concurrent workers.\n",
            "[Parallel(n_jobs=1)]: Done 100 out of 100 | elapsed:   11.1s finished\n",
            "[Parallel(n_jobs=1)]: Using backend SequentialBackend with 1 concurrent workers.\n",
            "[Parallel(n_jobs=1)]: Done 100 out of 100 | elapsed:    0.0s finished\n"
          ]
        }
      ]
    },
    {
      "cell_type": "code",
      "metadata": {
        "colab": {
          "base_uri": "https://localhost:8080/",
          "height": 349
        },
        "id": "OjVFQE79FvIM",
        "outputId": "6f5686df-7b14-4ce3-b52c-087848f77525"
      },
      "source": [
        "evaluate(test_labels, predicted_labels_rf)"
      ],
      "execution_count": null,
      "outputs": [
        {
          "output_type": "stream",
          "name": "stdout",
          "text": [
            "Accuracy: 0.208955223880597\n",
            "Precision: 0.1813615711269433\n",
            "Recall: 0.18615415067369076\n",
            "F1 score: 0.17769559854558095\n"
          ]
        },
        {
          "output_type": "display_data",
          "data": {
            "image/png": "[encoded data removed]",
            "text/plain": [
              "<Figure size 432x288 with 2 Axes>"
            ]
          },
          "metadata": {
            "needs_background": "light"
          }
        }
      ]
    },
    {
      "cell_type": "markdown",
      "metadata": {
        "id": "fikPzPJkgPkW"
      },
      "source": [
        "### MLP\n"
      ]
    },
    {
      "cell_type": "code",
      "metadata": {
        "colab": {
          "base_uri": "https://localhost:8080/"
        },
        "id": "eEXb2fNzgX1-",
        "outputId": "a981ac74-f917-44ed-ae6e-6413573b4ff0"
      },
      "source": [
        "from sklearn.neural_network import MLPClassifier\n",
        "\n",
        "clf = MLPClassifier(random_state=1, max_iter=300, verbose=True)\n",
        "clf.fit(train_features_encoded_oversampled, train_labels_oversampled)\n",
        "predicted_labels_mlp = clf.predict(test_features_encoded)"
      ],
      "execution_count": null,
      "outputs": [
        {
          "output_type": "stream",
          "name": "stdout",
          "text": [
            "Iteration 1, loss = 5.20866221\n",
            "Iteration 2, loss = 1.61004169\n",
            "Iteration 3, loss = 0.42391268\n",
            "Iteration 4, loss = 0.09712927\n",
            "Iteration 5, loss = 0.02800187\n",
            "Iteration 6, loss = 0.00993417\n",
            "Iteration 7, loss = 0.00696715\n",
            "Iteration 8, loss = 0.00415476\n",
            "Iteration 9, loss = 0.00084112\n",
            "Iteration 10, loss = 0.00306692\n",
            "Iteration 11, loss = 0.00066469\n",
            "Iteration 12, loss = 0.00056654\n",
            "Iteration 13, loss = 0.00050010\n",
            "Iteration 14, loss = 0.00045113\n",
            "Iteration 15, loss = 0.00041542\n",
            "Iteration 16, loss = 0.00038837\n",
            "Iteration 17, loss = 0.00036577\n",
            "Iteration 18, loss = 0.00034667\n",
            "Iteration 19, loss = 0.00032964\n",
            "Iteration 20, loss = 0.00031568\n",
            "Iteration 21, loss = 0.00030332\n",
            "Iteration 22, loss = 0.00029210\n",
            "Training loss did not improve more than tol=0.000100 for 10 consecutive epochs. Stopping.\n"
          ]
        }
      ]
    },
    {
      "cell_type": "code",
      "metadata": {
        "colab": {
          "base_uri": "https://localhost:8080/",
          "height": 349
        },
        "id": "Sl7qfY6_l19g",
        "outputId": "1ed39862-d1d4-4e14-fabb-3f1738811d07"
      },
      "source": [
        "evaluate(test_labels, predicted_labels_mlp)"
      ],
      "execution_count": null,
      "outputs": [
        {
          "output_type": "stream",
          "name": "stdout",
          "text": [
            "Accuracy: 0.22574626865671643\n",
            "Precision: 0.2159136033573815\n",
            "Recall: 0.1897854238362725\n",
            "F1 score: 0.19467778859272158\n"
          ]
        },
        {
          "output_type": "display_data",
          "data": {
            "image/png": "[encoded data removed]",
            "text/plain": [
              "<Figure size 432x288 with 2 Axes>"
            ]
          },
          "metadata": {
            "needs_background": "light"
          }
        }
      ]
    },
    {
      "cell_type": "markdown",
      "metadata": {
        "id": "0C4m6myd3aO1"
      },
      "source": [
        "## CNNs"
      ]
    },
    {
      "cell_type": "code",
      "metadata": {
        "colab": {
          "base_uri": "https://localhost:8080/"
        },
        "id": "BjOc8ckX3Zhb",
        "outputId": "3b513785-8ce9-41d6-87da-bf06d1a4687d"
      },
      "source": [
        "from tensorflow.keras.models import Sequential\n",
        "from tensorflow.keras.layers import Conv1D \n",
        "from tensorflow.keras.layers import MaxPooling1D\n",
        "from tensorflow.keras.layers import Flatten\n",
        "from tensorflow.keras.layers import Dense, Dropout\n",
        "from tensorflow.keras.utils import to_categorical\n",
        "# print('Tensorflow Version: ',tensorflow.__version__)\n",
        "from tensorflow.keras.layers import BatchNormalization\n",
        "\n",
        "def get_CNN_classifier():\n",
        "  # Initialising the CNN\n",
        "  model = Sequential()\n",
        "  # Convolution\n",
        "  model.add(Conv1D(filters = 32, kernel_size = 3, input_shape = (391, 68), activation = 'relu', padding = 'same'))\n",
        "  # Pooling\n",
        "  model.add(MaxPooling1D(pool_size = 2))\n",
        "  # Convolution\n",
        "  model.add(Conv1D(filters = 64, kernel_size = 3, input_shape = (39, 32), activation = 'relu', padding = 'same'))\n",
        "  model.add(Conv1D(filters = 64, kernel_size = 3, input_shape = (39, 64), activation = 'relu', padding = 'same'))\n",
        "  model.add(BatchNormalization())\n",
        "  model.add(MaxPooling1D(pool_size = 2))\n",
        "  model.add(Conv1D(filters =128, kernel_size = 3, input_shape = (19, 64), activation = 'relu', padding = 'same'))\n",
        "  # model.add(Conv1D(filters =128, kernel_size = 3, input_shape = (19, 128), activation = 'relu', padding = 'same'))\n",
        "  model.add(BatchNormalization())\n",
        "  model.add(MaxPooling1D(pool_size = 2))\n",
        "  model.add(Conv1D(filters =256, kernel_size = 3, input_shape = (9, 128), activation = 'relu', padding = 'same'))\n",
        "  #model.add(Conv1D(filters =256, kernel_size = 3, input_shape = (9, 256), activation = 'relu', padding = 'same'))\n",
        "  model.add(BatchNormalization())\n",
        "  model.add(MaxPooling1D(pool_size = 2))\n",
        "  model.add(Conv1D(filters =512, kernel_size = 3, input_shape = (4, 256), activation = 'relu', padding = 'same'))\n",
        "  #model.add(Conv1D(filters =512, kernel_size = 3, input_shape = (4, 512), activation = 'relu', padding = 'same'))\n",
        "  model.add(BatchNormalization())\n",
        "  model.add(MaxPooling1D(pool_size = 2))\n",
        "  model.add(Conv1D(filters = 1024, kernel_size = 3, input_shape = (2, 512), activation = 'relu', padding = 'same'))\n",
        "  model.add(Conv1D(filters = 1024, kernel_size = 3, input_shape = (2, 1028), activation = 'relu', padding = 'same'))\n",
        "  model.add(MaxPooling1D(pool_size = 2))\n",
        "  # Flattening\n",
        "  model.add(Flatten())\n",
        "\n",
        "  model.add(Dense(units = 6, activation = 'softmax'))\n",
        "  # Compiling the CNN\n",
        "  model.compile(optimizer = 'adam', loss = 'categorical_crossentropy', metrics = ['accuracy'])\n",
        "  model.summary()\n",
        "  \n",
        "  return model\n",
        "\n",
        "CNN_model = get_CNN_classifier()"
      ],
      "execution_count": null,
      "outputs": [
        {
          "output_type": "stream",
          "name": "stdout",
          "text": [
            "Model: \"sequential_1\"\n",
            "_________________________________________________________________\n",
            " Layer (type)                Output Shape              Param #   \n",
            "=================================================================\n",
            " conv1d_8 (Conv1D)           (None, 391, 32)           6560      \n",
            "                                                                 \n",
            " max_pooling1d_6 (MaxPooling  (None, 195, 32)          0         \n",
            " 1D)                                                             \n",
            "                                                                 \n",
            " conv1d_9 (Conv1D)           (None, 195, 64)           6208      \n",
            "                                                                 \n",
            " conv1d_10 (Conv1D)          (None, 195, 64)           12352     \n",
            "                                                                 \n",
            " batch_normalization_4 (Batc  (None, 195, 64)          256       \n",
            " hNormalization)                                                 \n",
            "                                                                 \n",
            " max_pooling1d_7 (MaxPooling  (None, 97, 64)           0         \n",
            " 1D)                                                             \n",
            "                                                                 \n",
            " conv1d_11 (Conv1D)          (None, 97, 128)           24704     \n",
            "                                                                 \n",
            " batch_normalization_5 (Batc  (None, 97, 128)          512       \n",
            " hNormalization)                                                 \n",
            "                                                                 \n",
            " max_pooling1d_8 (MaxPooling  (None, 48, 128)          0         \n",
            " 1D)                                                             \n",
            "                                                                 \n",
            " conv1d_12 (Conv1D)          (None, 48, 256)           98560     \n",
            "                                                                 \n",
            " batch_normalization_6 (Batc  (None, 48, 256)          1024      \n",
            " hNormalization)                                                 \n",
            "                                                                 \n",
            " max_pooling1d_9 (MaxPooling  (None, 24, 256)          0         \n",
            " 1D)                                                             \n",
            "                                                                 \n",
            " conv1d_13 (Conv1D)          (None, 24, 512)           393728    \n",
            "                                                                 \n",
            " batch_normalization_7 (Batc  (None, 24, 512)          2048      \n",
            " hNormalization)                                                 \n",
            "                                                                 \n",
            " max_pooling1d_10 (MaxPoolin  (None, 12, 512)          0         \n",
            " g1D)                                                            \n",
            "                                                                 \n",
            " conv1d_14 (Conv1D)          (None, 12, 1024)          1573888   \n",
            "                                                                 \n",
            " conv1d_15 (Conv1D)          (None, 12, 1024)          3146752   \n",
            "                                                                 \n",
            " max_pooling1d_11 (MaxPoolin  (None, 6, 1024)          0         \n",
            " g1D)                                                            \n",
            "                                                                 \n",
            " flatten_1 (Flatten)         (None, 6144)              0         \n",
            "                                                                 \n",
            " dense_6 (Dense)             (None, 6)                 36870     \n",
            "                                                                 \n",
            "=================================================================\n",
            "Total params: 5,303,462\n",
            "Trainable params: 5,301,542\n",
            "Non-trainable params: 1,920\n",
            "_________________________________________________________________\n"
          ]
        }
      ]
    },
    {
      "cell_type": "code",
      "metadata": {
        "id": "TBoNrXMI77J_"
      },
      "source": [
        "# data reshaping for CNN\n",
        "n = 68\n",
        "m = 391\n",
        "\n",
        "train_features_oversampled_reshaped = train_features_oversampled.to_numpy().reshape((train_features_oversampled.shape[0], n, m))\n",
        "test_features_reshaped = test_features.to_numpy().reshape((test_features.shape[0], n, m))"
      ],
      "execution_count": null,
      "outputs": []
    },
    {
      "cell_type": "code",
      "metadata": {
        "colab": {
          "base_uri": "https://localhost:8080/"
        },
        "id": "P7U8Rfxi3ubo",
        "outputId": "1563eb9d-123f-4fbd-dfec-f3c494b5625f"
      },
      "source": [
        "history_CNN = CNN_model.fit(np.transpose(train_features_oversampled_reshaped, (0, 2, 1)), train_labels_oversampled_categorical, validation_split=0.2, epochs=100, verbose=1)"
      ],
      "execution_count": null,
      "outputs": [
        {
          "output_type": "stream",
          "name": "stdout",
          "text": [
            "Epoch 1/100\n",
            "52/52 [==============================] - 20s 34ms/step - loss: 2.4236 - accuracy: 0.2380 - val_loss: 6.3556 - val_accuracy: 0.0000e+00\n",
            "Epoch 2/100\n",
            "52/52 [==============================] - 1s 17ms/step - loss: 1.5198 - accuracy: 0.3907 - val_loss: 9.7062 - val_accuracy: 0.3099\n",
            "Epoch 3/100\n",
            "52/52 [==============================] - 1s 17ms/step - loss: 1.2340 - accuracy: 0.5294 - val_loss: 9.3515 - val_accuracy: 0.0000e+00\n",
            "Epoch 4/100\n",
            "52/52 [==============================] - 1s 16ms/step - loss: 1.0096 - accuracy: 0.6305 - val_loss: 9.6703 - val_accuracy: 0.0194\n",
            "Epoch 5/100\n",
            "52/52 [==============================] - 1s 17ms/step - loss: 0.7167 - accuracy: 0.7414 - val_loss: 4.0834 - val_accuracy: 0.2107\n",
            "Epoch 6/100\n",
            "52/52 [==============================] - 1s 16ms/step - loss: 0.4281 - accuracy: 0.8365 - val_loss: 4.8732 - val_accuracy: 0.1477\n",
            "Epoch 7/100\n",
            "52/52 [==============================] - 1s 17ms/step - loss: 0.3009 - accuracy: 0.8922 - val_loss: 11.7850 - val_accuracy: 0.1622\n",
            "Epoch 8/100\n",
            "52/52 [==============================] - 1s 16ms/step - loss: 0.2019 - accuracy: 0.9322 - val_loss: 3.6977 - val_accuracy: 0.2639\n",
            "Epoch 9/100\n",
            "52/52 [==============================] - 1s 17ms/step - loss: 0.1510 - accuracy: 0.9491 - val_loss: 2.1445 - val_accuracy: 0.4262\n",
            "Epoch 10/100\n",
            "52/52 [==============================] - 1s 17ms/step - loss: 0.1269 - accuracy: 0.9540 - val_loss: 1.5248 - val_accuracy: 0.5835\n",
            "Epoch 11/100\n",
            "52/52 [==============================] - 1s 16ms/step - loss: 0.0673 - accuracy: 0.9752 - val_loss: 1.5719 - val_accuracy: 0.5157\n",
            "Epoch 12/100\n",
            "52/52 [==============================] - 1s 17ms/step - loss: 0.1027 - accuracy: 0.9624 - val_loss: 2.9963 - val_accuracy: 0.3196\n",
            "Epoch 13/100\n",
            "52/52 [==============================] - 1s 16ms/step - loss: 0.2347 - accuracy: 0.9122 - val_loss: 3.1873 - val_accuracy: 0.0896\n",
            "Epoch 14/100\n",
            "52/52 [==============================] - 1s 17ms/step - loss: 0.3661 - accuracy: 0.8758 - val_loss: 4.5851 - val_accuracy: 0.0557\n",
            "Epoch 15/100\n",
            "52/52 [==============================] - 1s 16ms/step - loss: 0.2424 - accuracy: 0.9225 - val_loss: 1.8570 - val_accuracy: 0.3995\n",
            "Epoch 16/100\n",
            "52/52 [==============================] - 1s 17ms/step - loss: 0.0531 - accuracy: 0.9855 - val_loss: 1.9195 - val_accuracy: 0.4528\n",
            "Epoch 17/100\n",
            "52/52 [==============================] - 1s 16ms/step - loss: 0.0147 - accuracy: 0.9958 - val_loss: 1.7575 - val_accuracy: 0.5617\n",
            "Epoch 18/100\n",
            "52/52 [==============================] - 1s 17ms/step - loss: 0.0024 - accuracy: 0.9994 - val_loss: 0.3467 - val_accuracy: 0.9080\n",
            "Epoch 19/100\n",
            "52/52 [==============================] - 1s 17ms/step - loss: 0.0017 - accuracy: 1.0000 - val_loss: 0.5986 - val_accuracy: 0.8402\n",
            "Epoch 20/100\n",
            "52/52 [==============================] - 1s 17ms/step - loss: 3.1565e-04 - accuracy: 1.0000 - val_loss: 0.2905 - val_accuracy: 0.9153\n",
            "Epoch 21/100\n",
            "52/52 [==============================] - 1s 16ms/step - loss: 1.5198e-04 - accuracy: 1.0000 - val_loss: 0.2106 - val_accuracy: 0.9274\n",
            "Epoch 22/100\n",
            "52/52 [==============================] - 1s 17ms/step - loss: 1.1967e-04 - accuracy: 1.0000 - val_loss: 0.1914 - val_accuracy: 0.9346\n",
            "Epoch 23/100\n",
            "52/52 [==============================] - 1s 17ms/step - loss: 1.0411e-04 - accuracy: 1.0000 - val_loss: 0.1866 - val_accuracy: 0.9395\n",
            "Epoch 24/100\n",
            "52/52 [==============================] - 1s 16ms/step - loss: 1.0151e-04 - accuracy: 1.0000 - val_loss: 0.1861 - val_accuracy: 0.9370\n",
            "Epoch 25/100\n",
            "52/52 [==============================] - 1s 16ms/step - loss: 9.1560e-05 - accuracy: 1.0000 - val_loss: 0.1849 - val_accuracy: 0.9370\n",
            "Epoch 26/100\n",
            "52/52 [==============================] - 1s 17ms/step - loss: 7.6135e-05 - accuracy: 1.0000 - val_loss: 0.1813 - val_accuracy: 0.9395\n",
            "Epoch 27/100\n",
            "52/52 [==============================] - 1s 16ms/step - loss: 7.2733e-05 - accuracy: 1.0000 - val_loss: 0.1831 - val_accuracy: 0.9395\n",
            "Epoch 28/100\n",
            "52/52 [==============================] - 1s 16ms/step - loss: 6.0670e-05 - accuracy: 1.0000 - val_loss: 0.1854 - val_accuracy: 0.9395\n",
            "Epoch 29/100\n",
            "52/52 [==============================] - 1s 16ms/step - loss: 6.0780e-05 - accuracy: 1.0000 - val_loss: 0.1806 - val_accuracy: 0.9395\n",
            "Epoch 30/100\n",
            "52/52 [==============================] - 1s 17ms/step - loss: 5.0535e-05 - accuracy: 1.0000 - val_loss: 0.1820 - val_accuracy: 0.9395\n",
            "Epoch 31/100\n",
            "52/52 [==============================] - 1s 17ms/step - loss: 5.3886e-05 - accuracy: 1.0000 - val_loss: 0.1806 - val_accuracy: 0.9419\n",
            "Epoch 32/100\n",
            "52/52 [==============================] - 1s 17ms/step - loss: 4.4045e-05 - accuracy: 1.0000 - val_loss: 0.1792 - val_accuracy: 0.9419\n",
            "Epoch 33/100\n",
            "52/52 [==============================] - 1s 17ms/step - loss: 4.3799e-05 - accuracy: 1.0000 - val_loss: 0.1771 - val_accuracy: 0.9419\n",
            "Epoch 34/100\n",
            "52/52 [==============================] - 1s 16ms/step - loss: 3.9575e-05 - accuracy: 1.0000 - val_loss: 0.1763 - val_accuracy: 0.9419\n",
            "Epoch 35/100\n",
            "52/52 [==============================] - 1s 17ms/step - loss: 3.7115e-05 - accuracy: 1.0000 - val_loss: 0.1732 - val_accuracy: 0.9419\n",
            "Epoch 36/100\n",
            "52/52 [==============================] - 1s 16ms/step - loss: 3.7819e-05 - accuracy: 1.0000 - val_loss: 0.1727 - val_accuracy: 0.9419\n",
            "Epoch 37/100\n",
            "52/52 [==============================] - 1s 16ms/step - loss: 3.2465e-05 - accuracy: 1.0000 - val_loss: 0.1734 - val_accuracy: 0.9419\n",
            "Epoch 38/100\n",
            "52/52 [==============================] - 1s 17ms/step - loss: 3.2856e-05 - accuracy: 1.0000 - val_loss: 0.1740 - val_accuracy: 0.9419\n",
            "Epoch 39/100\n",
            "52/52 [==============================] - 1s 16ms/step - loss: 3.3133e-05 - accuracy: 1.0000 - val_loss: 0.1756 - val_accuracy: 0.9419\n",
            "Epoch 40/100\n",
            "52/52 [==============================] - 1s 16ms/step - loss: 2.7456e-05 - accuracy: 1.0000 - val_loss: 0.1719 - val_accuracy: 0.9419\n",
            "Epoch 41/100\n",
            "52/52 [==============================] - 1s 16ms/step - loss: 2.6025e-05 - accuracy: 1.0000 - val_loss: 0.1703 - val_accuracy: 0.9419\n",
            "Epoch 42/100\n",
            "52/52 [==============================] - 1s 16ms/step - loss: 2.6276e-05 - accuracy: 1.0000 - val_loss: 0.1715 - val_accuracy: 0.9419\n",
            "Epoch 43/100\n",
            "52/52 [==============================] - 1s 17ms/step - loss: 2.3672e-05 - accuracy: 1.0000 - val_loss: 0.1697 - val_accuracy: 0.9419\n",
            "Epoch 44/100\n",
            "52/52 [==============================] - 1s 16ms/step - loss: 2.3416e-05 - accuracy: 1.0000 - val_loss: 0.1674 - val_accuracy: 0.9419\n",
            "Epoch 45/100\n",
            "52/52 [==============================] - 1s 16ms/step - loss: 2.0470e-05 - accuracy: 1.0000 - val_loss: 0.1693 - val_accuracy: 0.9419\n",
            "Epoch 46/100\n",
            "52/52 [==============================] - 1s 17ms/step - loss: 2.0636e-05 - accuracy: 1.0000 - val_loss: 0.1687 - val_accuracy: 0.9419\n",
            "Epoch 47/100\n",
            "52/52 [==============================] - 1s 17ms/step - loss: 1.9076e-05 - accuracy: 1.0000 - val_loss: 0.1674 - val_accuracy: 0.9419\n",
            "Epoch 48/100\n",
            "52/52 [==============================] - 1s 17ms/step - loss: 1.8493e-05 - accuracy: 1.0000 - val_loss: 0.1670 - val_accuracy: 0.9419\n",
            "Epoch 49/100\n",
            "52/52 [==============================] - 1s 17ms/step - loss: 1.8925e-05 - accuracy: 1.0000 - val_loss: 0.1654 - val_accuracy: 0.9419\n",
            "Epoch 50/100\n",
            "52/52 [==============================] - 1s 17ms/step - loss: 1.8158e-05 - accuracy: 1.0000 - val_loss: 0.1668 - val_accuracy: 0.9419\n",
            "Epoch 51/100\n",
            "52/52 [==============================] - 1s 16ms/step - loss: 1.7428e-05 - accuracy: 1.0000 - val_loss: 0.1670 - val_accuracy: 0.9419\n",
            "Epoch 52/100\n",
            "52/52 [==============================] - 1s 17ms/step - loss: 1.6266e-05 - accuracy: 1.0000 - val_loss: 0.1672 - val_accuracy: 0.9419\n",
            "Epoch 53/100\n",
            "52/52 [==============================] - 1s 16ms/step - loss: 1.4830e-05 - accuracy: 1.0000 - val_loss: 0.1656 - val_accuracy: 0.9419\n",
            "Epoch 54/100\n",
            "52/52 [==============================] - 1s 17ms/step - loss: 1.5489e-05 - accuracy: 1.0000 - val_loss: 0.1635 - val_accuracy: 0.9419\n",
            "Epoch 55/100\n",
            "52/52 [==============================] - 1s 17ms/step - loss: 1.6065e-05 - accuracy: 1.0000 - val_loss: 0.1645 - val_accuracy: 0.9419\n",
            "Epoch 56/100\n",
            "52/52 [==============================] - 1s 17ms/step - loss: 1.5595e-05 - accuracy: 1.0000 - val_loss: 0.1641 - val_accuracy: 0.9419\n",
            "Epoch 57/100\n",
            "52/52 [==============================] - 1s 17ms/step - loss: 1.2485e-05 - accuracy: 1.0000 - val_loss: 0.1641 - val_accuracy: 0.9443\n",
            "Epoch 58/100\n",
            "52/52 [==============================] - 1s 16ms/step - loss: 1.3081e-05 - accuracy: 1.0000 - val_loss: 0.1656 - val_accuracy: 0.9443\n",
            "Epoch 59/100\n",
            "52/52 [==============================] - 1s 17ms/step - loss: 1.2382e-05 - accuracy: 1.0000 - val_loss: 0.1644 - val_accuracy: 0.9443\n",
            "Epoch 60/100\n",
            "52/52 [==============================] - 1s 17ms/step - loss: 1.1476e-05 - accuracy: 1.0000 - val_loss: 0.1637 - val_accuracy: 0.9443\n",
            "Epoch 61/100\n",
            "52/52 [==============================] - 1s 17ms/step - loss: 1.1127e-05 - accuracy: 1.0000 - val_loss: 0.1623 - val_accuracy: 0.9443\n",
            "Epoch 62/100\n",
            "52/52 [==============================] - 1s 17ms/step - loss: 1.1472e-05 - accuracy: 1.0000 - val_loss: 0.1615 - val_accuracy: 0.9443\n",
            "Epoch 63/100\n",
            "52/52 [==============================] - 1s 17ms/step - loss: 1.0585e-05 - accuracy: 1.0000 - val_loss: 0.1626 - val_accuracy: 0.9443\n",
            "Epoch 64/100\n",
            "52/52 [==============================] - 1s 17ms/step - loss: 9.7155e-06 - accuracy: 1.0000 - val_loss: 0.1621 - val_accuracy: 0.9443\n",
            "Epoch 65/100\n",
            "52/52 [==============================] - 1s 17ms/step - loss: 1.0550e-05 - accuracy: 1.0000 - val_loss: 0.1610 - val_accuracy: 0.9443\n",
            "Epoch 66/100\n",
            "52/52 [==============================] - 1s 16ms/step - loss: 9.6590e-06 - accuracy: 1.0000 - val_loss: 0.1616 - val_accuracy: 0.9443\n",
            "Epoch 67/100\n",
            "52/52 [==============================] - 1s 17ms/step - loss: 9.4178e-06 - accuracy: 1.0000 - val_loss: 0.1613 - val_accuracy: 0.9443\n",
            "Epoch 68/100\n",
            "52/52 [==============================] - 1s 17ms/step - loss: 1.0500e-05 - accuracy: 1.0000 - val_loss: 0.1591 - val_accuracy: 0.9443\n",
            "Epoch 69/100\n",
            "52/52 [==============================] - 1s 17ms/step - loss: 8.8667e-06 - accuracy: 1.0000 - val_loss: 0.1589 - val_accuracy: 0.9443\n",
            "Epoch 70/100\n",
            "52/52 [==============================] - 1s 17ms/step - loss: 8.3501e-06 - accuracy: 1.0000 - val_loss: 0.1564 - val_accuracy: 0.9467\n",
            "Epoch 71/100\n",
            "52/52 [==============================] - 1s 16ms/step - loss: 8.8739e-06 - accuracy: 1.0000 - val_loss: 0.1561 - val_accuracy: 0.9467\n",
            "Epoch 72/100\n",
            "52/52 [==============================] - 1s 17ms/step - loss: 7.7364e-06 - accuracy: 1.0000 - val_loss: 0.1582 - val_accuracy: 0.9443\n",
            "Epoch 73/100\n",
            "52/52 [==============================] - 1s 17ms/step - loss: 7.6088e-06 - accuracy: 1.0000 - val_loss: 0.1576 - val_accuracy: 0.9443\n",
            "Epoch 74/100\n",
            "52/52 [==============================] - 1s 16ms/step - loss: 7.3718e-06 - accuracy: 1.0000 - val_loss: 0.1583 - val_accuracy: 0.9443\n",
            "Epoch 75/100\n",
            "52/52 [==============================] - 1s 16ms/step - loss: 7.5767e-06 - accuracy: 1.0000 - val_loss: 0.1573 - val_accuracy: 0.9467\n",
            "Epoch 76/100\n",
            "52/52 [==============================] - 1s 16ms/step - loss: 7.9629e-06 - accuracy: 1.0000 - val_loss: 0.1569 - val_accuracy: 0.9443\n",
            "Epoch 77/100\n",
            "52/52 [==============================] - 1s 16ms/step - loss: 7.2621e-06 - accuracy: 1.0000 - val_loss: 0.1558 - val_accuracy: 0.9443\n",
            "Epoch 78/100\n",
            "52/52 [==============================] - 1s 16ms/step - loss: 6.3040e-06 - accuracy: 1.0000 - val_loss: 0.1575 - val_accuracy: 0.9443\n",
            "Epoch 79/100\n",
            "52/52 [==============================] - 1s 17ms/step - loss: 5.8953e-06 - accuracy: 1.0000 - val_loss: 0.1570 - val_accuracy: 0.9443\n",
            "Epoch 80/100\n",
            "52/52 [==============================] - 1s 17ms/step - loss: 6.5493e-06 - accuracy: 1.0000 - val_loss: 0.1575 - val_accuracy: 0.9443\n",
            "Epoch 81/100\n",
            "52/52 [==============================] - 1s 16ms/step - loss: 5.5942e-06 - accuracy: 1.0000 - val_loss: 0.1576 - val_accuracy: 0.9443\n",
            "Epoch 82/100\n",
            "52/52 [==============================] - 1s 16ms/step - loss: 6.1211e-06 - accuracy: 1.0000 - val_loss: 0.1565 - val_accuracy: 0.9443\n",
            "Epoch 83/100\n",
            "52/52 [==============================] - 1s 17ms/step - loss: 5.4254e-06 - accuracy: 1.0000 - val_loss: 0.1583 - val_accuracy: 0.9443\n",
            "Epoch 84/100\n",
            "52/52 [==============================] - 1s 17ms/step - loss: 5.3703e-06 - accuracy: 1.0000 - val_loss: 0.1579 - val_accuracy: 0.9443\n",
            "Epoch 85/100\n",
            "52/52 [==============================] - 1s 16ms/step - loss: 5.6611e-06 - accuracy: 1.0000 - val_loss: 0.1568 - val_accuracy: 0.9467\n",
            "Epoch 86/100\n",
            "52/52 [==============================] - 1s 17ms/step - loss: 4.6276e-06 - accuracy: 1.0000 - val_loss: 0.1566 - val_accuracy: 0.9467\n",
            "Epoch 87/100\n",
            "52/52 [==============================] - 1s 16ms/step - loss: 4.9618e-06 - accuracy: 1.0000 - val_loss: 0.1571 - val_accuracy: 0.9443\n",
            "Epoch 88/100\n",
            "52/52 [==============================] - 1s 17ms/step - loss: 4.0690e-06 - accuracy: 1.0000 - val_loss: 0.1551 - val_accuracy: 0.9467\n",
            "Epoch 89/100\n",
            "52/52 [==============================] - 1s 16ms/step - loss: 4.5199e-06 - accuracy: 1.0000 - val_loss: 0.1550 - val_accuracy: 0.9492\n",
            "Epoch 90/100\n",
            "52/52 [==============================] - 1s 17ms/step - loss: 4.5209e-06 - accuracy: 1.0000 - val_loss: 0.1554 - val_accuracy: 0.9492\n",
            "Epoch 91/100\n",
            "52/52 [==============================] - 1s 16ms/step - loss: 4.9507e-06 - accuracy: 1.0000 - val_loss: 0.1552 - val_accuracy: 0.9492\n",
            "Epoch 92/100\n",
            "52/52 [==============================] - 1s 16ms/step - loss: 4.3190e-06 - accuracy: 1.0000 - val_loss: 0.1559 - val_accuracy: 0.9443\n",
            "Epoch 93/100\n",
            "52/52 [==============================] - 1s 16ms/step - loss: 3.9136e-06 - accuracy: 1.0000 - val_loss: 0.1551 - val_accuracy: 0.9516\n",
            "Epoch 94/100\n",
            "52/52 [==============================] - 1s 17ms/step - loss: 4.1878e-06 - accuracy: 1.0000 - val_loss: 0.1555 - val_accuracy: 0.9467\n",
            "Epoch 95/100\n",
            "52/52 [==============================] - 1s 17ms/step - loss: 3.4839e-06 - accuracy: 1.0000 - val_loss: 0.1552 - val_accuracy: 0.9492\n",
            "Epoch 96/100\n",
            "52/52 [==============================] - 1s 17ms/step - loss: 3.5225e-06 - accuracy: 1.0000 - val_loss: 0.1556 - val_accuracy: 0.9492\n",
            "Epoch 97/100\n",
            "52/52 [==============================] - 1s 17ms/step - loss: 3.4896e-06 - accuracy: 1.0000 - val_loss: 0.1552 - val_accuracy: 0.9467\n",
            "Epoch 98/100\n",
            "52/52 [==============================] - 1s 17ms/step - loss: 3.1593e-06 - accuracy: 1.0000 - val_loss: 0.1552 - val_accuracy: 0.9492\n",
            "Epoch 99/100\n",
            "52/52 [==============================] - 1s 17ms/step - loss: 3.3397e-06 - accuracy: 1.0000 - val_loss: 0.1554 - val_accuracy: 0.9492\n",
            "Epoch 100/100\n",
            "52/52 [==============================] - 1s 17ms/step - loss: 3.2290e-06 - accuracy: 1.0000 - val_loss: 0.1554 - val_accuracy: 0.9516\n"
          ]
        }
      ]
    },
    {
      "cell_type": "code",
      "metadata": {
        "colab": {
          "base_uri": "https://localhost:8080/",
          "height": 349
        },
        "id": "VsyH2EGgAyvj",
        "outputId": "ac75d261-d297-4c5e-ad0c-aae6d16be093"
      },
      "source": [
        "predicted_labels_cnn = CNN_model.predict(np.transpose(test_features_reshaped, (0, 2, 1)))\n",
        "evaluate(test_labels_categorical, predicted_labels_cnn, is_categorical=True)"
      ],
      "execution_count": null,
      "outputs": [
        {
          "output_type": "stream",
          "name": "stdout",
          "text": [
            "Accuracy: 0.20522388059701493\n",
            "Precision: 0.14717683451698796\n",
            "Recall: 0.15606976500555444\n",
            "F1 score: 0.14933969856832036\n"
          ]
        },
        {
          "output_type": "display_data",
          "data": {
            "image/png": "[encoded data removed]",
            "text/plain": [
              "<Figure size 432x288 with 2 Axes>"
            ]
          },
          "metadata": {
            "needs_background": "light"
          }
        }
      ]
    },
    {
      "cell_type": "code",
      "metadata": {
        "colab": {
          "base_uri": "https://localhost:8080/"
        },
        "id": "5AWKpHGYFCMK",
        "outputId": "463e05d8-a799-470c-f474-b852357e17d4"
      },
      "source": [
        "from tensorflow.keras.layers import Conv2D , MaxPooling2D, GlobalAveragePooling2D\n",
        "from tensorflow.keras.optimizers import Adam\n",
        "#dilation of the filters , for deeper  convolutionm try with the whole signal\n",
        "def get_CNN_2_classifier():\n",
        "\n",
        "    k = 3  # kernel size\n",
        "    s = 2  # stride\n",
        "    n_filters = 32 # number of filters\n",
        "    inputs = Input(shape=(m, n, 1))\n",
        "\n",
        "    conv1 = Conv2D(n_filters, kernel_size=(k, k), strides=(s, s), padding='same')(inputs)\n",
        "    conv1 = BatchNormalization(scale=False, axis=3)(conv1)\n",
        "    conv1 = LeakyReLU(alpha=0.2)(conv1)\n",
        "    conv1 = Conv2D(n_filters, kernel_size=(k, k), padding='same')(conv1)\n",
        "    conv1 = BatchNormalization(scale=False, axis=3)(conv1)\n",
        "    conv1 = LeakyReLU(alpha=0.1)(conv1)\n",
        "    pool1 = MaxPooling2D(pool_size=(s, s))(conv1)\n",
        "\n",
        "    conv2 = Conv2D(2 * n_filters, kernel_size=(k, k), strides=(s, s), padding='same')(pool1)\n",
        "    conv2 = BatchNormalization(scale=False, axis=3)(conv2)\n",
        "    conv2 = LeakyReLU(alpha=0.3)(conv2)\n",
        "    conv2 = Conv2D(2 * n_filters, kernel_size=(k, k), padding='same')(conv2)\n",
        "    conv2 = BatchNormalization(scale=False, axis=3)(conv2)\n",
        "    conv2 = LeakyReLU(alpha=0.1)(conv2)\n",
        "    pool2 = MaxPooling2D(pool_size=(s, s))(conv2)\n",
        "\n",
        "    conv3 = Conv2D(4 * n_filters, kernel_size=(k, k), padding='same')(pool2)\n",
        "    conv3 = BatchNormalization(scale=False, axis=3)(conv3)\n",
        "    conv3 = LeakyReLU(alpha=0.1)(conv3)\n",
        "    conv3 = Conv2D(4 * n_filters, kernel_size=(k, k), padding='same')(conv3)\n",
        "    conv3 = BatchNormalization(scale=False, axis=3)(conv3)\n",
        "    conv3 = LeakyReLU(alpha=0.1)(conv3)\n",
        "    pool3 = MaxPooling2D(pool_size=(s, s))(conv3)\n",
        "\n",
        "    conv4 = Conv2D(8 * n_filters, kernel_size=(k, k), padding='same')(pool3)\n",
        "    conv4 = BatchNormalization(scale=False, axis=3)(conv4)\n",
        "    conv4 = LeakyReLU(alpha=0.1)(conv4)\n",
        "    conv4 = Conv2D(8 * n_filters, kernel_size=(k, k), padding='same')(conv4)\n",
        "    conv4 = BatchNormalization(scale=False, axis=3)(conv4)\n",
        "    conv4 = LeakyReLU(alpha=0.1)(conv4)\n",
        "    pool4 = MaxPooling2D(pool_size=(s, s))(conv4)\n",
        "\n",
        "    conv5 = Conv2D(16 * n_filters, kernel_size=(k, k), padding='same')(pool4)\n",
        "    conv5 = BatchNormalization(scale=False, axis=3)(conv5)\n",
        "    conv5 = LeakyReLU(alpha=0.1)(conv5)\n",
        "    conv5 = Conv2D(16 * n_filters, kernel_size=(k, k), padding='same')(conv5)\n",
        "    conv5 = BatchNormalization(scale=False, axis=3)(conv5)\n",
        "    conv5 = LeakyReLU(alpha=0.1)(conv5)\n",
        "\n",
        "    gap = GlobalAveragePooling2D()(conv5)\n",
        "    outputs = Dense(6, activation='softmax')(gap)\n",
        "\n",
        "    model = Model(inputs, outputs)\n",
        "    model.compile(optimizer = Adam(lr=1e-4), loss = 'categorical_crossentropy', metrics = ['accuracy'])\n",
        "    model.summary()\n",
        "  \n",
        "    return model\n",
        "\n",
        "CNN_model_2 = get_CNN_2_classifier()"
      ],
      "execution_count": null,
      "outputs": [
        {
          "output_type": "stream",
          "name": "stdout",
          "text": [
            "Model: \"model\"\n",
            "_________________________________________________________________\n",
            " Layer (type)                Output Shape              Param #   \n",
            "=================================================================\n",
            " input_6 (InputLayer)        [(None, 391, 68, 1)]      0         \n",
            "                                                                 \n",
            " conv2d (Conv2D)             (None, 196, 34, 32)       320       \n",
            "                                                                 \n",
            " batch_normalization_8 (Batc  (None, 196, 34, 32)      96        \n",
            " hNormalization)                                                 \n",
            "                                                                 \n",
            " leaky_re_lu (LeakyReLU)     (None, 196, 34, 32)       0         \n",
            "                                                                 \n",
            " conv2d_1 (Conv2D)           (None, 196, 34, 32)       9248      \n",
            "                                                                 \n",
            " batch_normalization_9 (Batc  (None, 196, 34, 32)      96        \n",
            " hNormalization)                                                 \n",
            "                                                                 \n",
            " leaky_re_lu_1 (LeakyReLU)   (None, 196, 34, 32)       0         \n",
            "                                                                 \n",
            " max_pooling2d (MaxPooling2D  (None, 98, 17, 32)       0         \n",
            " )                                                               \n",
            "                                                                 \n",
            " conv2d_2 (Conv2D)           (None, 49, 9, 64)         18496     \n",
            "                                                                 \n",
            " batch_normalization_10 (Bat  (None, 49, 9, 64)        192       \n",
            " chNormalization)                                                \n",
            "                                                                 \n",
            " leaky_re_lu_2 (LeakyReLU)   (None, 49, 9, 64)         0         \n",
            "                                                                 \n",
            " conv2d_3 (Conv2D)           (None, 49, 9, 64)         36928     \n",
            "                                                                 \n",
            " batch_normalization_11 (Bat  (None, 49, 9, 64)        192       \n",
            " chNormalization)                                                \n",
            "                                                                 \n",
            " leaky_re_lu_3 (LeakyReLU)   (None, 49, 9, 64)         0         \n",
            "                                                                 \n",
            " max_pooling2d_1 (MaxPooling  (None, 24, 4, 64)        0         \n",
            " 2D)                                                             \n",
            "                                                                 \n",
            " conv2d_4 (Conv2D)           (None, 24, 4, 128)        73856     \n",
            "                                                                 \n",
            " batch_normalization_12 (Bat  (None, 24, 4, 128)       384       \n",
            " chNormalization)                                                \n",
            "                                                                 \n",
            " leaky_re_lu_4 (LeakyReLU)   (None, 24, 4, 128)        0         \n",
            "                                                                 \n",
            " conv2d_5 (Conv2D)           (None, 24, 4, 128)        147584    \n",
            "                                                                 \n",
            " batch_normalization_13 (Bat  (None, 24, 4, 128)       384       \n",
            " chNormalization)                                                \n",
            "                                                                 \n",
            " leaky_re_lu_5 (LeakyReLU)   (None, 24, 4, 128)        0         \n",
            "                                                                 \n",
            " max_pooling2d_2 (MaxPooling  (None, 12, 2, 128)       0         \n",
            " 2D)                                                             \n",
            "                                                                 \n",
            " conv2d_6 (Conv2D)           (None, 12, 2, 256)        295168    \n",
            "                                                                 \n",
            " batch_normalization_14 (Bat  (None, 12, 2, 256)       768       \n",
            " chNormalization)                                                \n",
            "                                                                 \n",
            " leaky_re_lu_6 (LeakyReLU)   (None, 12, 2, 256)        0         \n",
            "                                                                 \n",
            " conv2d_7 (Conv2D)           (None, 12, 2, 256)        590080    \n",
            "                                                                 \n",
            " batch_normalization_15 (Bat  (None, 12, 2, 256)       768       \n",
            " chNormalization)                                                \n",
            "                                                                 \n",
            " leaky_re_lu_7 (LeakyReLU)   (None, 12, 2, 256)        0         \n",
            "                                                                 \n",
            " max_pooling2d_3 (MaxPooling  (None, 6, 1, 256)        0         \n",
            " 2D)                                                             \n",
            "                                                                 \n",
            " conv2d_8 (Conv2D)           (None, 6, 1, 512)         1180160   \n",
            "                                                                 \n",
            " batch_normalization_16 (Bat  (None, 6, 1, 512)        1536      \n",
            " chNormalization)                                                \n",
            "                                                                 \n",
            " leaky_re_lu_8 (LeakyReLU)   (None, 6, 1, 512)         0         \n",
            "                                                                 \n",
            " conv2d_9 (Conv2D)           (None, 6, 1, 512)         2359808   \n",
            "                                                                 \n",
            " batch_normalization_17 (Bat  (None, 6, 1, 512)        1536      \n",
            " chNormalization)                                                \n",
            "                                                                 \n",
            " leaky_re_lu_9 (LeakyReLU)   (None, 6, 1, 512)         0         \n",
            "                                                                 \n",
            " global_average_pooling2d (G  (None, 512)              0         \n",
            " lobalAveragePooling2D)                                          \n",
            "                                                                 \n",
            " dense_7 (Dense)             (None, 6)                 3078      \n",
            "                                                                 \n",
            "=================================================================\n",
            "Total params: 4,720,678\n",
            "Trainable params: 4,716,710\n",
            "Non-trainable params: 3,968\n",
            "_________________________________________________________________\n"
          ]
        },
        {
          "output_type": "stream",
          "name": "stderr",
          "text": [
            "/usr/local/lib/python3.7/dist-packages/keras/optimizer_v2/adam.py:105: UserWarning: The `lr` argument is deprecated, use `learning_rate` instead.\n",
            "  super(Adam, self).__init__(name, **kwargs)\n"
          ]
        }
      ]
    },
    {
      "cell_type": "code",
      "metadata": {
        "colab": {
          "base_uri": "https://localhost:8080/"
        },
        "id": "edjGaE1eG7Ng",
        "outputId": "39e21dff-3cef-451d-c75a-0c33553e1112"
      },
      "source": [
        "history_CNN_2 = CNN_model_2.fit(np.transpose(train_features_oversampled_reshaped, (0, 2, 1)), train_labels_oversampled_categorical, validation_split=0.2, epochs=50, verbose=1)\n"
      ],
      "execution_count": null,
      "outputs": [
        {
          "output_type": "stream",
          "name": "stdout",
          "text": [
            "Epoch 1/50\n",
            "52/52 [==============================] - 4s 33ms/step - loss: 1.7756 - accuracy: 0.2762 - val_loss: 1.8031 - val_accuracy: 0.0000e+00\n",
            "Epoch 2/50\n",
            "52/52 [==============================] - 1s 19ms/step - loss: 0.9274 - accuracy: 0.7341 - val_loss: 1.9764 - val_accuracy: 0.0000e+00\n",
            "Epoch 3/50\n",
            "52/52 [==============================] - 1s 19ms/step - loss: 0.3183 - accuracy: 0.9412 - val_loss: 2.6857 - val_accuracy: 0.0000e+00\n",
            "Epoch 4/50\n",
            "52/52 [==============================] - 1s 19ms/step - loss: 0.0775 - accuracy: 0.9952 - val_loss: 4.0441 - val_accuracy: 0.0000e+00\n",
            "Epoch 5/50\n",
            "52/52 [==============================] - 1s 20ms/step - loss: 0.0235 - accuracy: 0.9988 - val_loss: 4.9560 - val_accuracy: 0.0000e+00\n",
            "Epoch 6/50\n",
            "52/52 [==============================] - 1s 19ms/step - loss: 0.0113 - accuracy: 1.0000 - val_loss: 5.5775 - val_accuracy: 0.0073\n",
            "Epoch 7/50\n",
            "52/52 [==============================] - 1s 20ms/step - loss: 0.0068 - accuracy: 1.0000 - val_loss: 6.1335 - val_accuracy: 0.0218\n",
            "Epoch 8/50\n",
            "52/52 [==============================] - 1s 20ms/step - loss: 0.0050 - accuracy: 1.0000 - val_loss: 5.7339 - val_accuracy: 0.0508\n",
            "Epoch 9/50\n",
            "52/52 [==============================] - 1s 20ms/step - loss: 0.0041 - accuracy: 1.0000 - val_loss: 4.9909 - val_accuracy: 0.1065\n",
            "Epoch 10/50\n",
            "52/52 [==============================] - 1s 20ms/step - loss: 0.0037 - accuracy: 1.0000 - val_loss: 3.6426 - val_accuracy: 0.1864\n",
            "Epoch 11/50\n",
            "52/52 [==============================] - 1s 20ms/step - loss: 0.0027 - accuracy: 1.0000 - val_loss: 2.9207 - val_accuracy: 0.2518\n",
            "Epoch 12/50\n",
            "52/52 [==============================] - 1s 19ms/step - loss: 0.0024 - accuracy: 1.0000 - val_loss: 2.2278 - val_accuracy: 0.3656\n",
            "Epoch 13/50\n",
            "52/52 [==============================] - 1s 19ms/step - loss: 0.0019 - accuracy: 1.0000 - val_loss: 1.7577 - val_accuracy: 0.4673\n",
            "Epoch 14/50\n",
            "52/52 [==============================] - 1s 20ms/step - loss: 0.0019 - accuracy: 1.0000 - val_loss: 1.5428 - val_accuracy: 0.5254\n",
            "Epoch 15/50\n",
            "52/52 [==============================] - 1s 19ms/step - loss: 0.0015 - accuracy: 1.0000 - val_loss: 1.3104 - val_accuracy: 0.5787\n",
            "Epoch 16/50\n",
            "52/52 [==============================] - 1s 20ms/step - loss: 0.0017 - accuracy: 1.0000 - val_loss: 1.1653 - val_accuracy: 0.6150\n",
            "Epoch 17/50\n",
            "52/52 [==============================] - 1s 20ms/step - loss: 0.0012 - accuracy: 1.0000 - val_loss: 1.1062 - val_accuracy: 0.6320\n",
            "Epoch 18/50\n",
            "52/52 [==============================] - 1s 19ms/step - loss: 0.0013 - accuracy: 1.0000 - val_loss: 1.0596 - val_accuracy: 0.6513\n",
            "Epoch 19/50\n",
            "52/52 [==============================] - 1s 19ms/step - loss: 0.0013 - accuracy: 1.0000 - val_loss: 1.0899 - val_accuracy: 0.6416\n",
            "Epoch 20/50\n",
            "52/52 [==============================] - 1s 19ms/step - loss: 0.0013 - accuracy: 1.0000 - val_loss: 1.0500 - val_accuracy: 0.6707\n",
            "Epoch 21/50\n",
            "52/52 [==============================] - 1s 19ms/step - loss: 9.0957e-04 - accuracy: 1.0000 - val_loss: 0.9756 - val_accuracy: 0.6755\n",
            "Epoch 22/50\n",
            "52/52 [==============================] - 1s 19ms/step - loss: 8.1055e-04 - accuracy: 1.0000 - val_loss: 1.0001 - val_accuracy: 0.6683\n",
            "Epoch 23/50\n",
            "52/52 [==============================] - 1s 19ms/step - loss: 7.2526e-04 - accuracy: 1.0000 - val_loss: 1.0021 - val_accuracy: 0.6659\n",
            "Epoch 24/50\n",
            "52/52 [==============================] - 1s 19ms/step - loss: 7.5894e-04 - accuracy: 1.0000 - val_loss: 0.9245 - val_accuracy: 0.6949\n",
            "Epoch 25/50\n",
            "52/52 [==============================] - 1s 19ms/step - loss: 7.3171e-04 - accuracy: 1.0000 - val_loss: 0.8931 - val_accuracy: 0.7022\n",
            "Epoch 26/50\n",
            "52/52 [==============================] - 1s 19ms/step - loss: 6.0025e-04 - accuracy: 1.0000 - val_loss: 0.9257 - val_accuracy: 0.6973\n",
            "Epoch 27/50\n",
            "52/52 [==============================] - 1s 19ms/step - loss: 5.5714e-04 - accuracy: 1.0000 - val_loss: 0.9443 - val_accuracy: 0.6949\n",
            "Epoch 28/50\n",
            "52/52 [==============================] - 1s 19ms/step - loss: 5.6229e-04 - accuracy: 1.0000 - val_loss: 0.9360 - val_accuracy: 0.6925\n",
            "Epoch 29/50\n",
            "52/52 [==============================] - 1s 19ms/step - loss: 6.4474e-04 - accuracy: 1.0000 - val_loss: 0.9439 - val_accuracy: 0.6877\n",
            "Epoch 30/50\n",
            "52/52 [==============================] - 1s 19ms/step - loss: 4.4732e-04 - accuracy: 1.0000 - val_loss: 0.9794 - val_accuracy: 0.6877\n",
            "Epoch 31/50\n",
            "52/52 [==============================] - 1s 19ms/step - loss: 4.4072e-04 - accuracy: 1.0000 - val_loss: 0.9884 - val_accuracy: 0.6804\n",
            "Epoch 32/50\n",
            "52/52 [==============================] - 1s 19ms/step - loss: 4.6206e-04 - accuracy: 1.0000 - val_loss: 1.0074 - val_accuracy: 0.6852\n",
            "Epoch 33/50\n",
            "52/52 [==============================] - 1s 19ms/step - loss: 3.8494e-04 - accuracy: 1.0000 - val_loss: 0.9866 - val_accuracy: 0.6852\n",
            "Epoch 34/50\n",
            "52/52 [==============================] - 1s 19ms/step - loss: 3.5772e-04 - accuracy: 1.0000 - val_loss: 0.9861 - val_accuracy: 0.6804\n",
            "Epoch 35/50\n",
            "52/52 [==============================] - 1s 20ms/step - loss: 3.4071e-04 - accuracy: 1.0000 - val_loss: 1.0004 - val_accuracy: 0.6780\n",
            "Epoch 36/50\n",
            "52/52 [==============================] - 1s 19ms/step - loss: 3.9611e-04 - accuracy: 1.0000 - val_loss: 0.9759 - val_accuracy: 0.6780\n",
            "Epoch 37/50\n",
            "52/52 [==============================] - 1s 19ms/step - loss: 3.9996e-04 - accuracy: 1.0000 - val_loss: 0.8745 - val_accuracy: 0.7046\n",
            "Epoch 38/50\n",
            "52/52 [==============================] - 1s 19ms/step - loss: 4.5222e-04 - accuracy: 1.0000 - val_loss: 0.8884 - val_accuracy: 0.6973\n",
            "Epoch 39/50\n",
            "52/52 [==============================] - 1s 19ms/step - loss: 3.4010e-04 - accuracy: 1.0000 - val_loss: 0.9328 - val_accuracy: 0.6877\n",
            "Epoch 40/50\n",
            "52/52 [==============================] - 1s 19ms/step - loss: 3.2868e-04 - accuracy: 1.0000 - val_loss: 0.9755 - val_accuracy: 0.6780\n",
            "Epoch 41/50\n",
            "52/52 [==============================] - 1s 19ms/step - loss: 3.0120e-04 - accuracy: 1.0000 - val_loss: 0.9739 - val_accuracy: 0.6828\n",
            "Epoch 42/50\n",
            "52/52 [==============================] - 1s 20ms/step - loss: 3.1345e-04 - accuracy: 1.0000 - val_loss: 0.9702 - val_accuracy: 0.6780\n",
            "Epoch 43/50\n",
            "52/52 [==============================] - 1s 19ms/step - loss: 2.2152e-04 - accuracy: 1.0000 - val_loss: 0.9608 - val_accuracy: 0.6852\n",
            "Epoch 44/50\n",
            "52/52 [==============================] - 1s 19ms/step - loss: 3.2110e-04 - accuracy: 1.0000 - val_loss: 0.9885 - val_accuracy: 0.6804\n",
            "Epoch 45/50\n",
            "52/52 [==============================] - 1s 19ms/step - loss: 2.2607e-04 - accuracy: 1.0000 - val_loss: 0.9751 - val_accuracy: 0.6804\n",
            "Epoch 46/50\n",
            "52/52 [==============================] - 1s 19ms/step - loss: 2.1539e-04 - accuracy: 1.0000 - val_loss: 0.9859 - val_accuracy: 0.6804\n",
            "Epoch 47/50\n",
            "52/52 [==============================] - 1s 19ms/step - loss: 2.0257e-04 - accuracy: 1.0000 - val_loss: 0.9957 - val_accuracy: 0.6852\n",
            "Epoch 48/50\n",
            "52/52 [==============================] - 1s 19ms/step - loss: 1.9606e-04 - accuracy: 1.0000 - val_loss: 0.9890 - val_accuracy: 0.6828\n",
            "Epoch 49/50\n",
            "52/52 [==============================] - 1s 19ms/step - loss: 1.9060e-04 - accuracy: 1.0000 - val_loss: 0.9712 - val_accuracy: 0.6828\n",
            "Epoch 50/50\n",
            "52/52 [==============================] - 1s 19ms/step - loss: 1.7738e-04 - accuracy: 1.0000 - val_loss: 0.9631 - val_accuracy: 0.6925\n"
          ]
        }
      ]
    },
    {
      "cell_type": "code",
      "metadata": {
        "colab": {
          "base_uri": "https://localhost:8080/",
          "height": 349
        },
        "id": "O410hS5VLCvJ",
        "outputId": "9bacabfc-7101-4c2c-d77e-a26c3c5acac4"
      },
      "source": [
        "predicted_labels_cnn_2 = CNN_model_2.predict(np.transpose(test_features_reshaped, (0, 2, 1)))\n",
        "evaluate(test_labels_categorical, predicted_labels_cnn_2, is_categorical=True)"
      ],
      "execution_count": null,
      "outputs": [
        {
          "output_type": "stream",
          "name": "stdout",
          "text": [
            "Accuracy: 0.2462686567164179\n",
            "Precision: 0.21301707360542835\n",
            "Recall: 0.20549443646276014\n",
            "F1 score: 0.20570803229335125\n"
          ]
        },
        {
          "output_type": "display_data",
          "data": {
            "image/png": "[encoded data removed]",
            "text/plain": [
              "<Figure size 432x288 with 2 Axes>"
            ]
          },
          "metadata": {
            "needs_background": "light"
          }
        }
      ]
    },
    {
      "cell_type": "code",
      "metadata": {
        "colab": {
          "base_uri": "https://localhost:8080/"
        },
        "id": "tqg_2-rdM7pP",
        "outputId": "03c69524-0959-48a4-8b94-717ea8a83b9d"
      },
      "source": [
        "def get_CNN_3_classifier():\n",
        "  model = Sequential()\n",
        "  model.add(Conv2D(32, kernel_size=(3, 3), activation='relu', input_shape=(m, n, 1)))\n",
        "  model.add(MaxPooling2D(pool_size=(2, 2)))\n",
        "  model.add(Dropout(0.25))\n",
        "  model.add(Conv2D(64, kernel_size=(3, 3), activation='relu'))\n",
        "  model.add(MaxPooling2D(pool_size=(2, 2)))\n",
        "  model.add(Dropout(0.25))\n",
        "  model.add(Flatten())\n",
        "  model.add(Dense(256, activation='relu'))\n",
        "  model.add(Dense(6, activation='softmax'))\n",
        "\n",
        "  model.compile(optimizer = Adam(lr=1e-4), loss = 'categorical_crossentropy', metrics = ['accuracy'])\n",
        "  model.summary()\n",
        "\n",
        "  return model\n",
        "\n",
        "CNN_model_3 = get_CNN_3_classifier()"
      ],
      "execution_count": null,
      "outputs": [
        {
          "output_type": "stream",
          "name": "stdout",
          "text": [
            "Model: \"sequential_2\"\n",
            "_________________________________________________________________\n",
            " Layer (type)                Output Shape              Param #   \n",
            "=================================================================\n",
            " conv2d_10 (Conv2D)          (None, 389, 66, 32)       320       \n",
            "                                                                 \n",
            " max_pooling2d_4 (MaxPooling  (None, 194, 33, 32)      0         \n",
            " 2D)                                                             \n",
            "                                                                 \n",
            " dropout (Dropout)           (None, 194, 33, 32)       0         \n",
            "                                                                 \n",
            " conv2d_11 (Conv2D)          (None, 192, 31, 64)       18496     \n",
            "                                                                 \n",
            " max_pooling2d_5 (MaxPooling  (None, 96, 15, 64)       0         \n",
            " 2D)                                                             \n",
            "                                                                 \n",
            " dropout_1 (Dropout)         (None, 96, 15, 64)        0         \n",
            "                                                                 \n",
            " flatten_2 (Flatten)         (None, 92160)             0         \n",
            "                                                                 \n",
            " dense_8 (Dense)             (None, 256)               23593216  \n",
            "                                                                 \n",
            " dense_9 (Dense)             (None, 6)                 1542      \n",
            "                                                                 \n",
            "=================================================================\n",
            "Total params: 23,613,574\n",
            "Trainable params: 23,613,574\n",
            "Non-trainable params: 0\n",
            "_________________________________________________________________\n"
          ]
        },
        {
          "output_type": "stream",
          "name": "stderr",
          "text": [
            "/usr/local/lib/python3.7/dist-packages/keras/optimizer_v2/adam.py:105: UserWarning: The `lr` argument is deprecated, use `learning_rate` instead.\n",
            "  super(Adam, self).__init__(name, **kwargs)\n"
          ]
        }
      ]
    },
    {
      "cell_type": "code",
      "metadata": {
        "colab": {
          "base_uri": "https://localhost:8080/"
        },
        "id": "Cxn0AvJ5Npa4",
        "outputId": "23407a05-8dc3-4a89-d9a9-8f1834d1357a"
      },
      "source": [
        "history_cnn_3 = CNN_model_3.fit(np.transpose(train_features_oversampled_reshaped, (0, 2, 1)), train_labels_oversampled_categorical, validation_split=0.2, epochs=100, verbose=1)"
      ],
      "execution_count": null,
      "outputs": [
        {
          "output_type": "stream",
          "name": "stdout",
          "text": [
            "Epoch 1/100\n",
            "52/52 [==============================] - 2s 26ms/step - loss: 1.7747 - accuracy: 0.2296 - val_loss: 2.2849 - val_accuracy: 0.0000e+00\n",
            "Epoch 2/100\n",
            "52/52 [==============================] - 1s 19ms/step - loss: 1.6749 - accuracy: 0.2883 - val_loss: 2.1159 - val_accuracy: 0.0000e+00\n",
            "Epoch 3/100\n",
            "52/52 [==============================] - 1s 18ms/step - loss: 1.6440 - accuracy: 0.3041 - val_loss: 2.0312 - val_accuracy: 0.0000e+00\n",
            "Epoch 4/100\n",
            "52/52 [==============================] - 1s 19ms/step - loss: 1.6049 - accuracy: 0.3210 - val_loss: 2.0881 - val_accuracy: 0.0000e+00\n",
            "Epoch 5/100\n",
            "52/52 [==============================] - 1s 19ms/step - loss: 1.5427 - accuracy: 0.3792 - val_loss: 1.9814 - val_accuracy: 0.0872\n",
            "Epoch 6/100\n",
            "52/52 [==============================] - 1s 19ms/step - loss: 1.4650 - accuracy: 0.4204 - val_loss: 1.9015 - val_accuracy: 0.0387\n",
            "Epoch 7/100\n",
            "52/52 [==============================] - 1s 19ms/step - loss: 1.4120 - accuracy: 0.4458 - val_loss: 1.8932 - val_accuracy: 0.1768\n",
            "Epoch 8/100\n",
            "52/52 [==============================] - 1s 19ms/step - loss: 1.3210 - accuracy: 0.5051 - val_loss: 1.8519 - val_accuracy: 0.1090\n",
            "Epoch 9/100\n",
            "52/52 [==============================] - 1s 19ms/step - loss: 1.2349 - accuracy: 0.5542 - val_loss: 1.8356 - val_accuracy: 0.1017\n",
            "Epoch 10/100\n",
            "52/52 [==============================] - 1s 19ms/step - loss: 1.1166 - accuracy: 0.6354 - val_loss: 1.4965 - val_accuracy: 0.4625\n",
            "Epoch 11/100\n",
            "52/52 [==============================] - 1s 19ms/step - loss: 1.0230 - accuracy: 0.6590 - val_loss: 1.2064 - val_accuracy: 0.6271\n",
            "Epoch 12/100\n",
            "52/52 [==============================] - 1s 19ms/step - loss: 0.9278 - accuracy: 0.7177 - val_loss: 1.3553 - val_accuracy: 0.4213\n",
            "Epoch 13/100\n",
            "52/52 [==============================] - 1s 19ms/step - loss: 0.8239 - accuracy: 0.7492 - val_loss: 1.4282 - val_accuracy: 0.4600\n",
            "Epoch 14/100\n",
            "52/52 [==============================] - 1s 19ms/step - loss: 0.7130 - accuracy: 0.8134 - val_loss: 1.1357 - val_accuracy: 0.6780\n",
            "Epoch 15/100\n",
            "52/52 [==============================] - 1s 19ms/step - loss: 0.6360 - accuracy: 0.8359 - val_loss: 1.2379 - val_accuracy: 0.5666\n",
            "Epoch 16/100\n",
            "52/52 [==============================] - 1s 19ms/step - loss: 0.5442 - accuracy: 0.8752 - val_loss: 0.7470 - val_accuracy: 0.8741\n",
            "Epoch 17/100\n",
            "52/52 [==============================] - 1s 19ms/step - loss: 0.4713 - accuracy: 0.9013 - val_loss: 0.5027 - val_accuracy: 0.9661\n",
            "Epoch 18/100\n",
            "52/52 [==============================] - 1s 19ms/step - loss: 0.4117 - accuracy: 0.9140 - val_loss: 0.7196 - val_accuracy: 0.8402\n",
            "Epoch 19/100\n",
            "52/52 [==============================] - 1s 19ms/step - loss: 0.3332 - accuracy: 0.9473 - val_loss: 0.4927 - val_accuracy: 0.9637\n",
            "Epoch 20/100\n",
            "52/52 [==============================] - 1s 19ms/step - loss: 0.2725 - accuracy: 0.9637 - val_loss: 0.4932 - val_accuracy: 0.9709\n",
            "Epoch 21/100\n",
            "52/52 [==============================] - 1s 19ms/step - loss: 0.2399 - accuracy: 0.9697 - val_loss: 0.3184 - val_accuracy: 0.9976\n",
            "Epoch 22/100\n",
            "52/52 [==============================] - 1s 19ms/step - loss: 0.2335 - accuracy: 0.9606 - val_loss: 0.2446 - val_accuracy: 0.9976\n",
            "Epoch 23/100\n",
            "52/52 [==============================] - 1s 19ms/step - loss: 0.1674 - accuracy: 0.9879 - val_loss: 0.1631 - val_accuracy: 1.0000\n",
            "Epoch 24/100\n",
            "52/52 [==============================] - 1s 19ms/step - loss: 0.1536 - accuracy: 0.9849 - val_loss: 0.1682 - val_accuracy: 1.0000\n",
            "Epoch 25/100\n",
            "52/52 [==============================] - 1s 19ms/step - loss: 0.1190 - accuracy: 0.9958 - val_loss: 0.1504 - val_accuracy: 1.0000\n",
            "Epoch 26/100\n",
            "52/52 [==============================] - 1s 19ms/step - loss: 0.0990 - accuracy: 0.9982 - val_loss: 0.1392 - val_accuracy: 1.0000\n",
            "Epoch 27/100\n",
            "52/52 [==============================] - 1s 19ms/step - loss: 0.0884 - accuracy: 0.9982 - val_loss: 0.0879 - val_accuracy: 1.0000\n",
            "Epoch 28/100\n",
            "52/52 [==============================] - 1s 19ms/step - loss: 0.0850 - accuracy: 0.9964 - val_loss: 0.0958 - val_accuracy: 1.0000\n",
            "Epoch 29/100\n",
            "52/52 [==============================] - 1s 19ms/step - loss: 0.0773 - accuracy: 0.9952 - val_loss: 0.0738 - val_accuracy: 1.0000\n",
            "Epoch 30/100\n",
            "52/52 [==============================] - 1s 19ms/step - loss: 0.0647 - accuracy: 0.9988 - val_loss: 0.0629 - val_accuracy: 1.0000\n",
            "Epoch 31/100\n",
            "52/52 [==============================] - 1s 19ms/step - loss: 0.0518 - accuracy: 0.9988 - val_loss: 0.0908 - val_accuracy: 1.0000\n",
            "Epoch 32/100\n",
            "52/52 [==============================] - 1s 19ms/step - loss: 0.0451 - accuracy: 1.0000 - val_loss: 0.0691 - val_accuracy: 1.0000\n",
            "Epoch 33/100\n",
            "52/52 [==============================] - 1s 19ms/step - loss: 0.0436 - accuracy: 0.9994 - val_loss: 0.0505 - val_accuracy: 1.0000\n",
            "Epoch 34/100\n",
            "52/52 [==============================] - 1s 19ms/step - loss: 0.0357 - accuracy: 1.0000 - val_loss: 0.0417 - val_accuracy: 1.0000\n",
            "Epoch 35/100\n",
            "52/52 [==============================] - 1s 19ms/step - loss: 0.0347 - accuracy: 0.9988 - val_loss: 0.0567 - val_accuracy: 1.0000\n",
            "Epoch 36/100\n",
            "52/52 [==============================] - 1s 18ms/step - loss: 0.0388 - accuracy: 0.9964 - val_loss: 0.0373 - val_accuracy: 1.0000\n",
            "Epoch 37/100\n",
            "52/52 [==============================] - 1s 19ms/step - loss: 0.0284 - accuracy: 0.9994 - val_loss: 0.0295 - val_accuracy: 1.0000\n",
            "Epoch 38/100\n",
            "52/52 [==============================] - 1s 19ms/step - loss: 0.0237 - accuracy: 1.0000 - val_loss: 0.0327 - val_accuracy: 1.0000\n",
            "Epoch 39/100\n",
            "52/52 [==============================] - 1s 18ms/step - loss: 0.0234 - accuracy: 1.0000 - val_loss: 0.0304 - val_accuracy: 1.0000\n",
            "Epoch 40/100\n",
            "52/52 [==============================] - 1s 19ms/step - loss: 0.0206 - accuracy: 1.0000 - val_loss: 0.0291 - val_accuracy: 1.0000\n",
            "Epoch 41/100\n",
            "52/52 [==============================] - 1s 19ms/step - loss: 0.0181 - accuracy: 1.0000 - val_loss: 0.0283 - val_accuracy: 1.0000\n",
            "Epoch 42/100\n",
            "52/52 [==============================] - 1s 19ms/step - loss: 0.0241 - accuracy: 0.9988 - val_loss: 0.0225 - val_accuracy: 1.0000\n",
            "Epoch 43/100\n",
            "52/52 [==============================] - 1s 19ms/step - loss: 0.0168 - accuracy: 1.0000 - val_loss: 0.0230 - val_accuracy: 1.0000\n",
            "Epoch 44/100\n",
            "52/52 [==============================] - 1s 19ms/step - loss: 0.0147 - accuracy: 1.0000 - val_loss: 0.0204 - val_accuracy: 1.0000\n",
            "Epoch 45/100\n",
            "52/52 [==============================] - 1s 19ms/step - loss: 0.0133 - accuracy: 1.0000 - val_loss: 0.0195 - val_accuracy: 1.0000\n",
            "Epoch 46/100\n",
            "52/52 [==============================] - 1s 19ms/step - loss: 0.0146 - accuracy: 1.0000 - val_loss: 0.0208 - val_accuracy: 1.0000\n",
            "Epoch 47/100\n",
            "52/52 [==============================] - 1s 19ms/step - loss: 0.0125 - accuracy: 1.0000 - val_loss: 0.0201 - val_accuracy: 1.0000\n",
            "Epoch 48/100\n",
            "52/52 [==============================] - 1s 19ms/step - loss: 0.0141 - accuracy: 0.9988 - val_loss: 0.0152 - val_accuracy: 1.0000\n",
            "Epoch 49/100\n",
            "52/52 [==============================] - 1s 19ms/step - loss: 0.0144 - accuracy: 1.0000 - val_loss: 0.0197 - val_accuracy: 1.0000\n",
            "Epoch 50/100\n",
            "52/52 [==============================] - 1s 19ms/step - loss: 0.0108 - accuracy: 1.0000 - val_loss: 0.0179 - val_accuracy: 1.0000\n",
            "Epoch 51/100\n",
            "52/52 [==============================] - 1s 19ms/step - loss: 0.0093 - accuracy: 1.0000 - val_loss: 0.0144 - val_accuracy: 1.0000\n",
            "Epoch 52/100\n",
            "52/52 [==============================] - 1s 19ms/step - loss: 0.0091 - accuracy: 1.0000 - val_loss: 0.0165 - val_accuracy: 1.0000\n",
            "Epoch 53/100\n",
            "52/52 [==============================] - 1s 19ms/step - loss: 0.0083 - accuracy: 1.0000 - val_loss: 0.0166 - val_accuracy: 1.0000\n",
            "Epoch 54/100\n",
            "52/52 [==============================] - 1s 19ms/step - loss: 0.0080 - accuracy: 1.0000 - val_loss: 0.0119 - val_accuracy: 1.0000\n",
            "Epoch 55/100\n",
            "52/52 [==============================] - 1s 19ms/step - loss: 0.0072 - accuracy: 1.0000 - val_loss: 0.0104 - val_accuracy: 1.0000\n",
            "Epoch 56/100\n",
            "52/52 [==============================] - 1s 19ms/step - loss: 0.0065 - accuracy: 1.0000 - val_loss: 0.0153 - val_accuracy: 1.0000\n",
            "Epoch 57/100\n",
            "52/52 [==============================] - 1s 19ms/step - loss: 0.0068 - accuracy: 1.0000 - val_loss: 0.0128 - val_accuracy: 1.0000\n",
            "Epoch 58/100\n",
            "52/52 [==============================] - 1s 19ms/step - loss: 0.0062 - accuracy: 1.0000 - val_loss: 0.0103 - val_accuracy: 1.0000\n",
            "Epoch 59/100\n",
            "52/52 [==============================] - 1s 19ms/step - loss: 0.0062 - accuracy: 1.0000 - val_loss: 0.0094 - val_accuracy: 1.0000\n",
            "Epoch 60/100\n",
            "52/52 [==============================] - 1s 19ms/step - loss: 0.0058 - accuracy: 1.0000 - val_loss: 0.0092 - val_accuracy: 1.0000\n",
            "Epoch 61/100\n",
            "52/52 [==============================] - 1s 19ms/step - loss: 0.0050 - accuracy: 1.0000 - val_loss: 0.0098 - val_accuracy: 1.0000\n",
            "Epoch 62/100\n",
            "52/52 [==============================] - 1s 19ms/step - loss: 0.0046 - accuracy: 1.0000 - val_loss: 0.0079 - val_accuracy: 1.0000\n",
            "Epoch 63/100\n",
            "52/52 [==============================] - 1s 19ms/step - loss: 0.0051 - accuracy: 1.0000 - val_loss: 0.0101 - val_accuracy: 1.0000\n",
            "Epoch 64/100\n",
            "52/52 [==============================] - 1s 19ms/step - loss: 0.0091 - accuracy: 0.9994 - val_loss: 0.0110 - val_accuracy: 1.0000\n",
            "Epoch 65/100\n",
            "52/52 [==============================] - 1s 19ms/step - loss: 0.0052 - accuracy: 1.0000 - val_loss: 0.0084 - val_accuracy: 1.0000\n",
            "Epoch 66/100\n",
            "52/52 [==============================] - 1s 19ms/step - loss: 0.0046 - accuracy: 1.0000 - val_loss: 0.0085 - val_accuracy: 1.0000\n",
            "Epoch 67/100\n",
            "52/52 [==============================] - 1s 19ms/step - loss: 0.0046 - accuracy: 1.0000 - val_loss: 0.0076 - val_accuracy: 1.0000\n",
            "Epoch 68/100\n",
            "52/52 [==============================] - 1s 19ms/step - loss: 0.0044 - accuracy: 1.0000 - val_loss: 0.0078 - val_accuracy: 1.0000\n",
            "Epoch 69/100\n",
            "52/52 [==============================] - 1s 19ms/step - loss: 0.0041 - accuracy: 1.0000 - val_loss: 0.0062 - val_accuracy: 1.0000\n",
            "Epoch 70/100\n",
            "52/52 [==============================] - 1s 19ms/step - loss: 0.0030 - accuracy: 1.0000 - val_loss: 0.0072 - val_accuracy: 1.0000\n",
            "Epoch 71/100\n",
            "52/52 [==============================] - 1s 19ms/step - loss: 0.0033 - accuracy: 1.0000 - val_loss: 0.0059 - val_accuracy: 1.0000\n",
            "Epoch 72/100\n",
            "52/52 [==============================] - 1s 19ms/step - loss: 0.0032 - accuracy: 1.0000 - val_loss: 0.0055 - val_accuracy: 1.0000\n",
            "Epoch 73/100\n",
            "52/52 [==============================] - 1s 19ms/step - loss: 0.0027 - accuracy: 1.0000 - val_loss: 0.0065 - val_accuracy: 1.0000\n",
            "Epoch 74/100\n",
            "52/52 [==============================] - 1s 19ms/step - loss: 0.0039 - accuracy: 1.0000 - val_loss: 0.0051 - val_accuracy: 1.0000\n",
            "Epoch 75/100\n",
            "52/52 [==============================] - 1s 19ms/step - loss: 0.0032 - accuracy: 1.0000 - val_loss: 0.0061 - val_accuracy: 1.0000\n",
            "Epoch 76/100\n",
            "52/52 [==============================] - 1s 19ms/step - loss: 0.0031 - accuracy: 1.0000 - val_loss: 0.0048 - val_accuracy: 1.0000\n",
            "Epoch 77/100\n",
            "52/52 [==============================] - 1s 19ms/step - loss: 0.0048 - accuracy: 1.0000 - val_loss: 0.0068 - val_accuracy: 1.0000\n",
            "Epoch 78/100\n",
            "52/52 [==============================] - 1s 19ms/step - loss: 0.2533 - accuracy: 0.9322 - val_loss: 0.2287 - val_accuracy: 0.9879\n",
            "Epoch 79/100\n",
            "52/52 [==============================] - 1s 18ms/step - loss: 0.1069 - accuracy: 0.9770 - val_loss: 0.1419 - val_accuracy: 1.0000\n",
            "Epoch 80/100\n",
            "52/52 [==============================] - 1s 19ms/step - loss: 0.0171 - accuracy: 0.9994 - val_loss: 0.0430 - val_accuracy: 1.0000\n",
            "Epoch 81/100\n",
            "52/52 [==============================] - 1s 19ms/step - loss: 0.0088 - accuracy: 1.0000 - val_loss: 0.0345 - val_accuracy: 1.0000\n",
            "Epoch 82/100\n",
            "52/52 [==============================] - 1s 19ms/step - loss: 0.0074 - accuracy: 1.0000 - val_loss: 0.0239 - val_accuracy: 1.0000\n",
            "Epoch 83/100\n",
            "52/52 [==============================] - 1s 19ms/step - loss: 0.0058 - accuracy: 1.0000 - val_loss: 0.0166 - val_accuracy: 1.0000\n",
            "Epoch 84/100\n",
            "52/52 [==============================] - 1s 19ms/step - loss: 0.0052 - accuracy: 1.0000 - val_loss: 0.0167 - val_accuracy: 1.0000\n",
            "Epoch 85/100\n",
            "52/52 [==============================] - 1s 19ms/step - loss: 0.0043 - accuracy: 1.0000 - val_loss: 0.0134 - val_accuracy: 1.0000\n",
            "Epoch 86/100\n",
            "52/52 [==============================] - 1s 19ms/step - loss: 0.0039 - accuracy: 1.0000 - val_loss: 0.0120 - val_accuracy: 1.0000\n",
            "Epoch 87/100\n",
            "52/52 [==============================] - 1s 19ms/step - loss: 0.0034 - accuracy: 1.0000 - val_loss: 0.0089 - val_accuracy: 1.0000\n",
            "Epoch 88/100\n",
            "52/52 [==============================] - 1s 19ms/step - loss: 0.0030 - accuracy: 1.0000 - val_loss: 0.0091 - val_accuracy: 1.0000\n",
            "Epoch 89/100\n",
            "52/52 [==============================] - 1s 19ms/step - loss: 0.0031 - accuracy: 1.0000 - val_loss: 0.0081 - val_accuracy: 1.0000\n",
            "Epoch 90/100\n",
            "52/52 [==============================] - 1s 19ms/step - loss: 0.0030 - accuracy: 1.0000 - val_loss: 0.0078 - val_accuracy: 1.0000\n",
            "Epoch 91/100\n",
            "52/52 [==============================] - 1s 19ms/step - loss: 0.0028 - accuracy: 1.0000 - val_loss: 0.0062 - val_accuracy: 1.0000\n",
            "Epoch 92/100\n",
            "52/52 [==============================] - 1s 19ms/step - loss: 0.0025 - accuracy: 1.0000 - val_loss: 0.0062 - val_accuracy: 1.0000\n",
            "Epoch 93/100\n",
            "52/52 [==============================] - 1s 19ms/step - loss: 0.0021 - accuracy: 1.0000 - val_loss: 0.0058 - val_accuracy: 1.0000\n",
            "Epoch 94/100\n",
            "52/52 [==============================] - 1s 19ms/step - loss: 0.0019 - accuracy: 1.0000 - val_loss: 0.0060 - val_accuracy: 1.0000\n",
            "Epoch 95/100\n",
            "52/52 [==============================] - 1s 19ms/step - loss: 0.0019 - accuracy: 1.0000 - val_loss: 0.0050 - val_accuracy: 1.0000\n",
            "Epoch 96/100\n",
            "52/52 [==============================] - 1s 19ms/step - loss: 0.0017 - accuracy: 1.0000 - val_loss: 0.0046 - val_accuracy: 1.0000\n",
            "Epoch 97/100\n",
            "52/52 [==============================] - 1s 19ms/step - loss: 0.0016 - accuracy: 1.0000 - val_loss: 0.0049 - val_accuracy: 1.0000\n",
            "Epoch 98/100\n",
            "52/52 [==============================] - 1s 19ms/step - loss: 0.0014 - accuracy: 1.0000 - val_loss: 0.0044 - val_accuracy: 1.0000\n",
            "Epoch 99/100\n",
            "52/52 [==============================] - 1s 19ms/step - loss: 0.0015 - accuracy: 1.0000 - val_loss: 0.0035 - val_accuracy: 1.0000\n",
            "Epoch 100/100\n",
            "52/52 [==============================] - 1s 19ms/step - loss: 0.0015 - accuracy: 1.0000 - val_loss: 0.0040 - val_accuracy: 1.0000\n"
          ]
        }
      ]
    },
    {
      "cell_type": "code",
      "metadata": {
        "colab": {
          "base_uri": "https://localhost:8080/",
          "height": 349
        },
        "id": "H8GYwZflN0ze",
        "outputId": "8118daf4-48c3-4b4b-9064-f049c6b8c471"
      },
      "source": [
        "predicted_labels_cnn_3 = CNN_model_3.predict(np.transpose(test_features_reshaped, (0, 2, 1)))\n",
        "evaluate(test_labels_categorical, predicted_labels_cnn_3, is_categorical=True)"
      ],
      "execution_count": null,
      "outputs": [
        {
          "output_type": "stream",
          "name": "stdout",
          "text": [
            "Accuracy: 0.2537313432835821\n",
            "Precision: 0.18366633007324026\n",
            "Recall: 0.19087274990221262\n",
            "F1 score: 0.1817427259290377\n"
          ]
        },
        {
          "output_type": "display_data",
          "data": {
            "image/png": "[encoded data removed]",
            "text/plain": [
              "<Figure size 432x288 with 2 Axes>"
            ]
          },
          "metadata": {
            "needs_background": "light"
          }
        }
      ]
    },
    {
      "cell_type": "markdown",
      "metadata": {
        "id": "VIxgHPzCUxmB"
      },
      "source": [
        "## Ensemble Learning"
      ]
    },
    {
      "cell_type": "code",
      "metadata": {
        "id": "g8FmRtL2Uyo8"
      },
      "source": [
        "from self_paced_ensemble import SelfPacedEnsembleClassifier\n",
        "\n",
        "clf = SelfPacedEnsembleClassifier(base_estimator=RandomForestClassifier(max_depth=5, random_state=0, verbose=True), n_estimators=5)\n",
        "\n",
        "\n",
        "clf.fit(train_features, train_labels)\n"
      ],
      "execution_count": null,
      "outputs": []
    }
  ]
}