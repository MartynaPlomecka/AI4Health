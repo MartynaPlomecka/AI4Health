{
 "cells": [
  {
   "cell_type": "code",
   "execution_count": 1,
   "metadata": {
    "colab": {
     "base_uri": "https://localhost:8080/"
    },
    "id": "IjsCisv7FvHs",
    "outputId": "8f558ce7-4833-4802-ba19-b3b3dad61e5b"
   },
   "outputs": [],
   "source": [
    "import scipy.io\n",
    "import numpy as np\n",
    "import pandas as pd\n",
    "import matplotlib.pyplot as plt\n",
    "\n",
    "from sklearn.model_selection import train_test_split\n",
    "from imblearn.over_sampling import SMOTE\n",
    "\n",
    "import tensorflow as tf\n",
    "from tensorflow.keras.models import Model, load_model\n",
    "from tensorflow.keras.layers import Input, Dense, LeakyReLU, BatchNormalization\n",
    "from tensorflow.keras.utils import plot_model, to_categorical\n"
   ]
  },
  {
   "cell_type": "markdown",
   "metadata": {
    "id": "LKPjAw07FvH2"
   },
   "source": [
    "## Data Loading and Processing"
   ]
  },
  {
   "cell_type": "code",
   "execution_count": 7,
   "metadata": {},
   "outputs": [],
   "source": [
    "import os\n",
    "\n",
    "DATA_DIR = ''\n",
    "if \"anuja\" in os.environ.get('USER'):\n",
    "    DATA_DIR = 'data/'"
   ]
  },
  {
   "cell_type": "code",
   "execution_count": 8,
   "metadata": {
    "colab": {
     "base_uri": "https://localhost:8080/"
    },
    "id": "IyFwAfLNFvH6",
    "outputId": "35082a38-2a56-481f-d0c7-0bf0497a2b9f"
   },
   "outputs": [
    {
     "name": "stdout",
     "output_type": "stream",
     "text": [
      "Other Neurodevelopmental Disorders    492\n",
      "ADHD-Inattentive Type                 388\n",
      "ADHD-Combined Type                    376\n",
      "Anxiety Disorders                     241\n",
      "No Diagnosis Given                    203\n",
      "Depressive Disorders                   85\n",
      "Name: label, dtype: int64\n"
     ]
    }
   ],
   "source": [
    "# data loading\n",
    "data = scipy.io.loadmat(DATA_DIR+'x.mat')  \n",
    "columns = np.asarray([['Electrode %d - %d/2 Hz'%(i+1, j+1)] for i in range(data['x'].shape[1]) for j in range(data['x'].shape[2])])\n",
    "data['x'].shape\n",
    "labels = pd.read_csv(DATA_DIR+\"table_withlabels.csv\")\n",
    "foof = pd.read_csv(DATA_DIR+\"foof2features.csv\")\n",
    "beh = pd.read_csv(DATA_DIR+\"behaviorals.csv\")\n",
    "df = pd.DataFrame(data['x'].reshape((data['x'].shape[0], -1)))\n",
    "df.columns = columns\n",
    "df['IDs'] = foof['C1']\n",
    "df = pd.merge(df, labels[['label', 'IDs']], on='IDs', how='inner')\n",
    "print(df['label'].value_counts())"
   ]
  },
  {
   "cell_type": "code",
   "execution_count": 9,
   "metadata": {
    "colab": {
     "base_uri": "https://localhost:8080/"
    },
    "id": "yv-RgMHhFvH9",
    "outputId": "538ea7ec-eed5-400c-dab1-842a75e4aab8"
   },
   "outputs": [],
   "source": [
    "# add labels\n",
    "pd.options.mode.chained_assignment = None\n",
    "\n",
    "df.label[df.label == 'Other Neurodevelopmental Disorders'] = 1\n",
    "df.label[df.label == 'ADHD-Inattentive Type'] = 2\n",
    "df.label[df.label == 'ADHD-Combined Type'] = 3\n",
    "df.label[df.label == 'Anxiety Disorders'] = 4\n",
    "df.label[df.label == 'No Diagnosis Given'] = 5\n",
    "df.label[df.label == 'Depressive Disorders'] = 6\n",
    "df.label = df['label'].astype(int)\n",
    "labels = ['Other Neurodevelopmental Disorders', 'ADHD-Inattentive Type', 'ADHD-Combined Type', 'Anxiety Disorders', 'No Diagnosis Given', 'Depressive Disorders']"
   ]
  },
  {
   "cell_type": "code",
   "execution_count": 12,
   "metadata": {
    "id": "jb9T4ixBFvH-"
   },
   "outputs": [],
   "source": [
    "# data splitting\n",
    "\n",
    "train_df, test_df = train_test_split(df, test_size=0.3, stratify=df['label'])\n",
    "\n",
    "train_labels, test_labels = train_df['label'], test_df['label']\n",
    "train_labels_categorical, test_labels_categorical = to_categorical(train_df['label']-1), to_categorical(test_df['label']-1)\n",
    "\n",
    "train_features = train_df[train_df.columns.difference(['IDs', 'label'])]\n",
    "test_features = test_df[test_df.columns.difference(['IDs', 'label'])]"
   ]
  },
  {
   "cell_type": "markdown",
   "metadata": {
    "id": "l1MryYsFFvH_"
   },
   "source": [
    "## AutoEncoder for Feature Extraction"
   ]
  },
  {
   "cell_type": "code",
   "execution_count": 7,
   "metadata": {
    "colab": {
     "base_uri": "https://localhost:8080/"
    },
    "id": "RhFtsOcFFvIA",
    "outputId": "c0e32788-f47d-4d50-a800-4e6f51cb8644"
   },
   "outputs": [
    {
     "name": "stdout",
     "output_type": "stream",
     "text": [
      "Epoch 1/50\n",
      "79/79 - 7s - loss: 5.8767 - 7s/epoch - 85ms/step\n",
      "Epoch 2/50\n",
      "79/79 - 5s - loss: 4.2238 - 5s/epoch - 62ms/step\n",
      "Epoch 3/50\n",
      "79/79 - 5s - loss: 3.1812 - 5s/epoch - 62ms/step\n",
      "Epoch 4/50\n",
      "79/79 - 5s - loss: 3.4555 - 5s/epoch - 62ms/step\n",
      "Epoch 5/50\n",
      "79/79 - 5s - loss: 3.1266 - 5s/epoch - 62ms/step\n",
      "Epoch 6/50\n",
      "79/79 - 5s - loss: 3.3277 - 5s/epoch - 62ms/step\n",
      "Epoch 7/50\n",
      "79/79 - 5s - loss: 3.3593 - 5s/epoch - 62ms/step\n",
      "Epoch 8/50\n",
      "79/79 - 5s - loss: 3.0566 - 5s/epoch - 62ms/step\n",
      "Epoch 9/50\n",
      "79/79 - 5s - loss: 2.9914 - 5s/epoch - 62ms/step\n",
      "Epoch 10/50\n",
      "79/79 - 5s - loss: 2.7312 - 5s/epoch - 62ms/step\n",
      "Epoch 11/50\n",
      "79/79 - 5s - loss: 2.8620 - 5s/epoch - 62ms/step\n",
      "Epoch 12/50\n",
      "79/79 - 5s - loss: 3.1014 - 5s/epoch - 62ms/step\n",
      "Epoch 13/50\n",
      "79/79 - 5s - loss: 2.8700 - 5s/epoch - 62ms/step\n",
      "Epoch 14/50\n",
      "79/79 - 5s - loss: 3.0480 - 5s/epoch - 62ms/step\n",
      "Epoch 15/50\n",
      "79/79 - 5s - loss: 2.9254 - 5s/epoch - 62ms/step\n",
      "Epoch 16/50\n",
      "79/79 - 5s - loss: 2.5803 - 5s/epoch - 62ms/step\n",
      "Epoch 17/50\n",
      "79/79 - 5s - loss: 3.3738 - 5s/epoch - 62ms/step\n",
      "Epoch 18/50\n",
      "79/79 - 5s - loss: 2.5477 - 5s/epoch - 62ms/step\n",
      "Epoch 19/50\n",
      "79/79 - 5s - loss: 2.5744 - 5s/epoch - 62ms/step\n",
      "Epoch 20/50\n",
      "79/79 - 5s - loss: 2.3156 - 5s/epoch - 62ms/step\n",
      "Epoch 21/50\n",
      "79/79 - 5s - loss: 2.3996 - 5s/epoch - 62ms/step\n",
      "Epoch 22/50\n",
      "79/79 - 5s - loss: 2.4433 - 5s/epoch - 62ms/step\n",
      "Epoch 23/50\n",
      "79/79 - 5s - loss: 2.1559 - 5s/epoch - 62ms/step\n",
      "Epoch 24/50\n",
      "79/79 - 5s - loss: 2.0637 - 5s/epoch - 62ms/step\n",
      "Epoch 25/50\n",
      "79/79 - 5s - loss: 2.1564 - 5s/epoch - 62ms/step\n",
      "Epoch 26/50\n",
      "79/79 - 5s - loss: 1.8067 - 5s/epoch - 62ms/step\n",
      "Epoch 27/50\n",
      "79/79 - 5s - loss: 2.0334 - 5s/epoch - 62ms/step\n",
      "Epoch 28/50\n",
      "79/79 - 5s - loss: 1.9875 - 5s/epoch - 62ms/step\n",
      "Epoch 29/50\n",
      "79/79 - 5s - loss: 1.7889 - 5s/epoch - 62ms/step\n",
      "Epoch 30/50\n",
      "79/79 - 5s - loss: 1.6941 - 5s/epoch - 62ms/step\n",
      "Epoch 31/50\n",
      "79/79 - 5s - loss: 1.4978 - 5s/epoch - 62ms/step\n",
      "Epoch 32/50\n",
      "79/79 - 5s - loss: 1.7586 - 5s/epoch - 62ms/step\n",
      "Epoch 33/50\n",
      "79/79 - 5s - loss: 1.4476 - 5s/epoch - 62ms/step\n",
      "Epoch 34/50\n",
      "79/79 - 5s - loss: 1.2282 - 5s/epoch - 62ms/step\n",
      "Epoch 35/50\n",
      "79/79 - 5s - loss: 1.2834 - 5s/epoch - 62ms/step\n",
      "Epoch 36/50\n",
      "79/79 - 5s - loss: 1.4730 - 5s/epoch - 62ms/step\n",
      "Epoch 37/50\n",
      "79/79 - 5s - loss: 1.1918 - 5s/epoch - 62ms/step\n",
      "Epoch 38/50\n",
      "79/79 - 5s - loss: 1.1445 - 5s/epoch - 62ms/step\n",
      "Epoch 39/50\n",
      "79/79 - 5s - loss: 1.1830 - 5s/epoch - 62ms/step\n",
      "Epoch 40/50\n",
      "79/79 - 5s - loss: 0.9776 - 5s/epoch - 62ms/step\n",
      "Epoch 41/50\n",
      "79/79 - 5s - loss: 1.0025 - 5s/epoch - 62ms/step\n",
      "Epoch 42/50\n",
      "79/79 - 5s - loss: 0.8715 - 5s/epoch - 62ms/step\n",
      "Epoch 43/50\n",
      "79/79 - 5s - loss: 0.9913 - 5s/epoch - 62ms/step\n",
      "Epoch 44/50\n",
      "79/79 - 5s - loss: 1.1623 - 5s/epoch - 62ms/step\n",
      "Epoch 45/50\n",
      "79/79 - 5s - loss: 0.9646 - 5s/epoch - 62ms/step\n",
      "Epoch 46/50\n",
      "79/79 - 5s - loss: 0.9775 - 5s/epoch - 62ms/step\n",
      "Epoch 47/50\n",
      "79/79 - 5s - loss: 0.8400 - 5s/epoch - 62ms/step\n",
      "Epoch 48/50\n",
      "79/79 - 5s - loss: 0.8822 - 5s/epoch - 62ms/step\n",
      "Epoch 49/50\n",
      "79/79 - 5s - loss: 0.8626 - 5s/epoch - 62ms/step\n",
      "Epoch 50/50\n",
      "79/79 - 5s - loss: 0.8736 - 5s/epoch - 62ms/step\n",
      "WARNING:tensorflow:Compiled the loaded model, but the compiled metrics have yet to be built. `model.compile_metrics` will be empty until you train or evaluate the model.\n"
     ]
    }
   ],
   "source": [
    "n_inputs = train_features.shape[1]\n",
    "\n",
    "visible = Input(shape=(n_inputs,))\n",
    "e = Dense(n_inputs*2)(visible)\n",
    "e = BatchNormalization()(e)\n",
    "e = LeakyReLU()(e)\n",
    "e = Dense(n_inputs)(e)\n",
    "e = BatchNormalization()(e)\n",
    "e = LeakyReLU()(e)\n",
    "n_bottleneck = round(float(n_inputs) / 2.0)\n",
    "bottleneck = Dense(n_bottleneck)(e)\n",
    "\n",
    "d = Dense(n_inputs)(bottleneck)\n",
    "d = BatchNormalization()(d)\n",
    "d = LeakyReLU()(d)\n",
    "\n",
    "d = Dense(n_inputs*2)(d)\n",
    "d = BatchNormalization()(d)\n",
    "d = LeakyReLU()(d)\n",
    "\n",
    "output = Dense(n_inputs, activation='linear')(d)\n",
    "\n",
    "model = Model(inputs=visible, outputs=output)\n",
    "model.compile(optimizer='adam', loss='mse')\n",
    "plot_model(model, 'autoencoder_compress.png', show_shapes=True)\n",
    "\n",
    "history = model.fit(train_features, train_labels, epochs=50, batch_size=16, verbose=2)\n",
    "encoder = Model(inputs=visible, outputs=bottleneck)\n",
    "\n",
    "plot_model(encoder, 'encoder_compress.png', show_shapes=True)\n",
    "encoder.save('autoencoder.h5')"
   ]
  },
  {
   "cell_type": "code",
   "execution_count": 8,
   "metadata": {
    "colab": {
     "base_uri": "https://localhost:8080/",
     "height": 281
    },
    "id": "rxH1C5ZOiTa7",
    "outputId": "bbf7da34-99a8-41e0-b3a0-6dd2eec3903c"
   },
   "outputs": [
    {
     "data": {
      "image/png": "[encoded data removed]",
      "text/plain": [
       "<Figure size 432x288 with 1 Axes>"
      ]
     },
     "metadata": {
      "needs_background": "light"
     },
     "output_type": "display_data"
    }
   ],
   "source": [
    "  # plot loss\n",
    "  plt.plot(history.history['loss'], label='train')\n",
    "  plt.title('Autoencoder training loss')\n",
    "  plt.legend()\n",
    "  plt.show()"
   ]
  },
  {
   "cell_type": "code",
   "execution_count": 9,
   "metadata": {
    "id": "zgckuW7_iF6R"
   },
   "outputs": [],
   "source": [
    "# encode the data\n",
    "encoder= load_model('autoencoder.h5', compile=False)\n",
    "\n",
    "train_features_encoded = encoder.predict(train_features)\n",
    "test_features_encoded = encoder.predict(test_features)"
   ]
  },
  {
   "cell_type": "markdown",
   "metadata": {
    "id": "HQC-Wm64FvID"
   },
   "source": [
    "## Dealing with imbalance"
   ]
  },
  {
   "cell_type": "code",
   "execution_count": 10,
   "metadata": {
    "colab": {
     "base_uri": "https://localhost:8080/"
    },
    "id": "qkZ5dnh7FvID",
    "outputId": "86d0b1ef-ba97-4e44-caa1-f0971ac94899"
   },
   "outputs": [
    {
     "name": "stderr",
     "output_type": "stream",
     "text": [
      "/usr/local/lib/python3.7/dist-packages/sklearn/utils/deprecation.py:87: FutureWarning: Function safe_indexing is deprecated; safe_indexing is deprecated in version 0.22 and will be removed in version 0.24.\n",
      "  warnings.warn(msg, category=FutureWarning)\n",
      "/usr/local/lib/python3.7/dist-packages/sklearn/utils/deprecation.py:87: FutureWarning: Function safe_indexing is deprecated; safe_indexing is deprecated in version 0.22 and will be removed in version 0.24.\n",
      "  warnings.warn(msg, category=FutureWarning)\n",
      "/usr/local/lib/python3.7/dist-packages/sklearn/utils/deprecation.py:87: FutureWarning: Function safe_indexing is deprecated; safe_indexing is deprecated in version 0.22 and will be removed in version 0.24.\n",
      "  warnings.warn(msg, category=FutureWarning)\n",
      "/usr/local/lib/python3.7/dist-packages/sklearn/utils/deprecation.py:87: FutureWarning: Function safe_indexing is deprecated; safe_indexing is deprecated in version 0.22 and will be removed in version 0.24.\n",
      "  warnings.warn(msg, category=FutureWarning)\n",
      "/usr/local/lib/python3.7/dist-packages/sklearn/utils/deprecation.py:87: FutureWarning: Function safe_indexing is deprecated; safe_indexing is deprecated in version 0.22 and will be removed in version 0.24.\n",
      "  warnings.warn(msg, category=FutureWarning)\n"
     ]
    }
   ],
   "source": [
    "oversample = SMOTE()\n",
    "train_features_encoded_oversampled, train_labels_oversampled = oversample.fit_resample(train_features_encoded, train_labels)"
   ]
  },
  {
   "cell_type": "code",
   "execution_count": 11,
   "metadata": {
    "id": "6cBLVO-BrAxS"
   },
   "outputs": [],
   "source": [
    "np.save('train_features_encoded_oversampled.npy', train_features_encoded_oversampled)\n",
    "np.save('train_labels_oversampled.npy', train_labels_oversampled)\n",
    "np.save('train_features_encoded.npy', train_features_encoded)\n",
    "np.save('test_features_encoded.npy', test_features_encoded)"
   ]
  },
  {
   "cell_type": "code",
   "execution_count": 26,
   "metadata": {
    "id": "Tms2OlNbuvUf"
   },
   "outputs": [],
   "source": [
    "# scaling the data\n",
    "\n",
    "from sklearn.preprocessing import StandardScaler\n",
    "\n",
    "scaler = StandardScaler()\n",
    "train_features_encoded_oversampled = scaler.fit_transform(train_features_encoded_oversampled)\n",
    "test_features_encoded = scaler.transform(test_features_encoded)\n",
    "\n",
    "train_features_encoded_oversampled = np.clip(train_features_encoded_oversampled, -5, 5)\n",
    "test_features_encoded = np.clip(test_features_encoded, -5, 5)"
   ]
  },
  {
   "cell_type": "code",
   "execution_count": 28,
   "metadata": {
    "colab": {
     "base_uri": "https://localhost:8080/"
    },
    "id": "nd92xbREvIly",
    "outputId": "223c5fb4-e83a-4689-9dc6-3edd680a32c1"
   },
   "outputs": [
    {
     "name": "stdout",
     "output_type": "stream",
     "text": [
      "(2106, 4148)\n",
      "(2106,)\n",
      "(536, 4148)\n",
      "(536,)\n"
     ]
    }
   ],
   "source": [
    "print(train_features_encoded_oversampled.shape)\n",
    "print(train_labels_oversampled.shape)\n",
    "print(test_features_encoded.shape)\n",
    "print(test_labels.shape)"
   ]
  },
  {
   "cell_type": "markdown",
   "metadata": {
    "id": "vGEV__DRFvIE"
   },
   "source": [
    "## Linear Models"
   ]
  },
  {
   "cell_type": "markdown",
   "metadata": {
    "id": "DUCdA5b6FvIF"
   },
   "source": [
    "### SVC"
   ]
  },
  {
   "cell_type": "code",
   "execution_count": 38,
   "metadata": {
    "colab": {
     "base_uri": "https://localhost:8080/"
    },
    "id": "g-MNQL01FvIF",
    "outputId": "9190831d-a60d-4164-bc72-35d301fe5dce"
   },
   "outputs": [
    {
     "name": "stdout",
     "output_type": "stream",
     "text": [
      "[LibSVM]"
     ]
    }
   ],
   "source": [
    "from sklearn import svm\n",
    "\n",
    "clf = svm.SVC(kernel='linear', verbose=True)\n",
    "clf.fit(train_features_encoded_oversampled, train_labels_oversampled)\n",
    "\n",
    "predicted_labels_svc = clf.predict(test_features_encoded)"
   ]
  },
  {
   "cell_type": "code",
   "execution_count": 39,
   "metadata": {
    "colab": {
     "base_uri": "https://localhost:8080/",
     "height": 351
    },
    "id": "u9flc8xoFvIG",
    "outputId": "ae6012e2-d4a2-4167-fa9f-9fd97fdc6f29"
   },
   "outputs": [
    {
     "name": "stdout",
     "output_type": "stream",
     "text": [
      "Accuracy: 0.19776119402985073\n",
      "Precision: 0.19776119402985073\n",
      "Recall: 0.19776119402985073\n",
      "F1 score: 0.19776119402985073\n"
     ]
    },
    {
     "data": {
      "image/png": "[encoded data removed]",
      "text/plain": [
       "<Figure size 432x288 with 2 Axes>"
      ]
     },
     "metadata": {
      "needs_background": "light"
     },
     "output_type": "display_data"
    }
   ],
   "source": [
    "from sklearn import metrics\n",
    "import matplotlib.pyplot as plt\n",
    "from sklearn.metrics import confusion_matrix, ConfusionMatrixDisplay\n",
    "\n",
    "def evaluate(y_test, y_pred, show_cm=True):\n",
    "    \n",
    "    print(\"Accuracy:\", metrics.accuracy_score(y_test, y_pred))\n",
    "    print(\"Precision:\", metrics.precision_score(y_test, y_pred, average='micro'))\n",
    "    print(\"Recall:\", metrics.recall_score(y_test, y_pred, average='micro'))\n",
    "#     print(\"ROC AUC:\", metrics.roc_auc_score(y_test, y_pred, multi_class='ovo',))\n",
    "    print(\"F1 score:\", metrics.f1_score(y_test, y_pred, average='micro'))\n",
    "#     print(\"Brier Score:\", metrics.brier_score_loss(y_test, y_pred)) # only for binary classification\n",
    "\n",
    "    if show_cm:\n",
    "        cm = confusion_matrix(y_test, y_pred, labels=clf.classes_)\n",
    "        disp = ConfusionMatrixDisplay(confusion_matrix=cm, display_labels=labels)\n",
    "        disp.plot()\n",
    "        plt.tight_layout()\n",
    "        plt.show()\n",
    "\n",
    "evaluate(test_labels, predicted_labels_svc)"
   ]
  },
  {
   "cell_type": "markdown",
   "metadata": {
    "id": "LahFg05KFvIH"
   },
   "source": [
    "### OneVsRestClassifier\n",
    "The strategy consists in fitting one classifier per class. For each classifier, the class is fitted against all the other classes."
   ]
  },
  {
   "cell_type": "code",
   "execution_count": 29,
   "metadata": {
    "colab": {
     "base_uri": "https://localhost:8080/"
    },
    "id": "VScxf00iFvII",
    "outputId": "cc30ecfc-519c-40d7-828d-46322d7f20ae"
   },
   "outputs": [
    {
     "name": "stdout",
     "output_type": "stream",
     "text": [
      "[LibLinear]"
     ]
    },
    {
     "name": "stderr",
     "output_type": "stream",
     "text": [
      "/usr/local/lib/python3.7/dist-packages/sklearn/svm/_base.py:947: ConvergenceWarning: Liblinear failed to converge, increase the number of iterations.\n",
      "  \"the number of iterations.\", ConvergenceWarning)\n"
     ]
    },
    {
     "name": "stdout",
     "output_type": "stream",
     "text": [
      "[LibLinear]"
     ]
    },
    {
     "name": "stderr",
     "output_type": "stream",
     "text": [
      "/usr/local/lib/python3.7/dist-packages/sklearn/svm/_base.py:947: ConvergenceWarning: Liblinear failed to converge, increase the number of iterations.\n",
      "  \"the number of iterations.\", ConvergenceWarning)\n"
     ]
    },
    {
     "name": "stdout",
     "output_type": "stream",
     "text": [
      "[LibLinear]"
     ]
    },
    {
     "name": "stderr",
     "output_type": "stream",
     "text": [
      "/usr/local/lib/python3.7/dist-packages/sklearn/svm/_base.py:947: ConvergenceWarning: Liblinear failed to converge, increase the number of iterations.\n",
      "  \"the number of iterations.\", ConvergenceWarning)\n"
     ]
    },
    {
     "name": "stdout",
     "output_type": "stream",
     "text": [
      "[LibLinear]"
     ]
    },
    {
     "name": "stderr",
     "output_type": "stream",
     "text": [
      "/usr/local/lib/python3.7/dist-packages/sklearn/svm/_base.py:947: ConvergenceWarning: Liblinear failed to converge, increase the number of iterations.\n",
      "  \"the number of iterations.\", ConvergenceWarning)\n"
     ]
    },
    {
     "name": "stdout",
     "output_type": "stream",
     "text": [
      "[LibLinear]"
     ]
    },
    {
     "name": "stderr",
     "output_type": "stream",
     "text": [
      "/usr/local/lib/python3.7/dist-packages/sklearn/svm/_base.py:947: ConvergenceWarning: Liblinear failed to converge, increase the number of iterations.\n",
      "  \"the number of iterations.\", ConvergenceWarning)\n"
     ]
    },
    {
     "name": "stdout",
     "output_type": "stream",
     "text": [
      "[LibLinear]"
     ]
    },
    {
     "name": "stderr",
     "output_type": "stream",
     "text": [
      "/usr/local/lib/python3.7/dist-packages/sklearn/svm/_base.py:947: ConvergenceWarning: Liblinear failed to converge, increase the number of iterations.\n",
      "  \"the number of iterations.\", ConvergenceWarning)\n"
     ]
    }
   ],
   "source": [
    "from sklearn.multiclass import OneVsRestClassifier\n",
    "from sklearn.svm import LinearSVC\n",
    "\n",
    "clf = OneVsRestClassifier(LinearSVC(random_state=0, max_iter=2000, verbose=True))\n",
    "\n",
    "clf.fit(train_features_encoded_oversampled, train_labels_oversampled)\n",
    "predicted_labels_ovr = clf.predict(test_features_encoded)"
   ]
  },
  {
   "cell_type": "code",
   "execution_count": 30,
   "metadata": {
    "colab": {
     "base_uri": "https://localhost:8080/",
     "height": 349
    },
    "id": "_AreAnOwFvII",
    "outputId": "7153dcc6-c358-412f-8a62-d9740699c95b"
   },
   "outputs": [
    {
     "name": "stdout",
     "output_type": "stream",
     "text": [
      "Accuracy: 0.22014925373134328\n",
      "Precision: 0.22014925373134328\n",
      "Recall: 0.22014925373134328\n",
      "F1 score: 0.22014925373134328\n"
     ]
    },
    {
     "data": {
      "image/png": "[encoded data removed]",
      "text/plain": [
       "<Figure size 432x288 with 2 Axes>"
      ]
     },
     "metadata": {
      "needs_background": "light"
     },
     "output_type": "display_data"
    }
   ],
   "source": [
    "evaluate(test_labels, predicted_labels_ovr)"
   ]
  },
  {
   "cell_type": "markdown",
   "metadata": {
    "id": "-cBrjbXzFvIJ"
   },
   "source": [
    "### OneVsOneClassifier\n",
    "OneVsOneClassifier constructs one classifier per pair of classes. At prediction time, the class which received the most votes is selected. In the event of a tie (among two classes with an equal number of votes), it selects the class with the highest aggregate classification confidence by summing over the pair-wise classification confidence levels computed by the underlying binary classifiers.\n",
    "\n"
   ]
  },
  {
   "cell_type": "code",
   "execution_count": 32,
   "metadata": {
    "colab": {
     "base_uri": "https://localhost:8080/"
    },
    "id": "ydH-4TMDFvIK",
    "outputId": "93f2a129-6729-4995-ca42-e6797e56e8b7"
   },
   "outputs": [
    {
     "name": "stdout",
     "output_type": "stream",
     "text": [
      "[LibLinear]"
     ]
    },
    {
     "name": "stderr",
     "output_type": "stream",
     "text": [
      "/usr/local/lib/python3.7/dist-packages/sklearn/svm/_base.py:947: ConvergenceWarning: Liblinear failed to converge, increase the number of iterations.\n",
      "  \"the number of iterations.\", ConvergenceWarning)\n"
     ]
    },
    {
     "name": "stdout",
     "output_type": "stream",
     "text": [
      "[LibLinear]"
     ]
    },
    {
     "name": "stderr",
     "output_type": "stream",
     "text": [
      "/usr/local/lib/python3.7/dist-packages/sklearn/svm/_base.py:947: ConvergenceWarning: Liblinear failed to converge, increase the number of iterations.\n",
      "  \"the number of iterations.\", ConvergenceWarning)\n"
     ]
    },
    {
     "name": "stdout",
     "output_type": "stream",
     "text": [
      "[LibLinear]"
     ]
    },
    {
     "name": "stderr",
     "output_type": "stream",
     "text": [
      "/usr/local/lib/python3.7/dist-packages/sklearn/svm/_base.py:947: ConvergenceWarning: Liblinear failed to converge, increase the number of iterations.\n",
      "  \"the number of iterations.\", ConvergenceWarning)\n",
      "/usr/local/lib/python3.7/dist-packages/sklearn/svm/_base.py:947: ConvergenceWarning: Liblinear failed to converge, increase the number of iterations.\n",
      "  \"the number of iterations.\", ConvergenceWarning)\n"
     ]
    },
    {
     "name": "stdout",
     "output_type": "stream",
     "text": [
      "[LibLinear][LibLinear][LibLinear]"
     ]
    },
    {
     "name": "stderr",
     "output_type": "stream",
     "text": [
      "/usr/local/lib/python3.7/dist-packages/sklearn/svm/_base.py:947: ConvergenceWarning: Liblinear failed to converge, increase the number of iterations.\n",
      "  \"the number of iterations.\", ConvergenceWarning)\n"
     ]
    },
    {
     "name": "stdout",
     "output_type": "stream",
     "text": [
      "[LibLinear]"
     ]
    },
    {
     "name": "stderr",
     "output_type": "stream",
     "text": [
      "/usr/local/lib/python3.7/dist-packages/sklearn/svm/_base.py:947: ConvergenceWarning: Liblinear failed to converge, increase the number of iterations.\n",
      "  \"the number of iterations.\", ConvergenceWarning)\n"
     ]
    },
    {
     "name": "stdout",
     "output_type": "stream",
     "text": [
      "[LibLinear]"
     ]
    },
    {
     "name": "stderr",
     "output_type": "stream",
     "text": [
      "/usr/local/lib/python3.7/dist-packages/sklearn/svm/_base.py:947: ConvergenceWarning: Liblinear failed to converge, increase the number of iterations.\n",
      "  \"the number of iterations.\", ConvergenceWarning)\n"
     ]
    },
    {
     "name": "stdout",
     "output_type": "stream",
     "text": [
      "[LibLinear]"
     ]
    },
    {
     "name": "stderr",
     "output_type": "stream",
     "text": [
      "/usr/local/lib/python3.7/dist-packages/sklearn/svm/_base.py:947: ConvergenceWarning: Liblinear failed to converge, increase the number of iterations.\n",
      "  \"the number of iterations.\", ConvergenceWarning)\n"
     ]
    },
    {
     "name": "stdout",
     "output_type": "stream",
     "text": [
      "[LibLinear]"
     ]
    },
    {
     "name": "stderr",
     "output_type": "stream",
     "text": [
      "/usr/local/lib/python3.7/dist-packages/sklearn/svm/_base.py:947: ConvergenceWarning: Liblinear failed to converge, increase the number of iterations.\n",
      "  \"the number of iterations.\", ConvergenceWarning)\n"
     ]
    },
    {
     "name": "stdout",
     "output_type": "stream",
     "text": [
      "[LibLinear]"
     ]
    },
    {
     "name": "stderr",
     "output_type": "stream",
     "text": [
      "/usr/local/lib/python3.7/dist-packages/sklearn/svm/_base.py:947: ConvergenceWarning: Liblinear failed to converge, increase the number of iterations.\n",
      "  \"the number of iterations.\", ConvergenceWarning)\n"
     ]
    },
    {
     "name": "stdout",
     "output_type": "stream",
     "text": [
      "[LibLinear]"
     ]
    },
    {
     "name": "stderr",
     "output_type": "stream",
     "text": [
      "/usr/local/lib/python3.7/dist-packages/sklearn/svm/_base.py:947: ConvergenceWarning: Liblinear failed to converge, increase the number of iterations.\n",
      "  \"the number of iterations.\", ConvergenceWarning)\n"
     ]
    },
    {
     "name": "stdout",
     "output_type": "stream",
     "text": [
      "[LibLinear]"
     ]
    },
    {
     "name": "stderr",
     "output_type": "stream",
     "text": [
      "/usr/local/lib/python3.7/dist-packages/sklearn/svm/_base.py:947: ConvergenceWarning: Liblinear failed to converge, increase the number of iterations.\n",
      "  \"the number of iterations.\", ConvergenceWarning)\n"
     ]
    },
    {
     "name": "stdout",
     "output_type": "stream",
     "text": [
      "[LibLinear]"
     ]
    },
    {
     "name": "stderr",
     "output_type": "stream",
     "text": [
      "/usr/local/lib/python3.7/dist-packages/sklearn/svm/_base.py:947: ConvergenceWarning: Liblinear failed to converge, increase the number of iterations.\n",
      "  \"the number of iterations.\", ConvergenceWarning)\n"
     ]
    },
    {
     "name": "stdout",
     "output_type": "stream",
     "text": [
      "[LibLinear]"
     ]
    },
    {
     "name": "stderr",
     "output_type": "stream",
     "text": [
      "/usr/local/lib/python3.7/dist-packages/sklearn/svm/_base.py:947: ConvergenceWarning: Liblinear failed to converge, increase the number of iterations.\n",
      "  \"the number of iterations.\", ConvergenceWarning)\n"
     ]
    }
   ],
   "source": [
    "from sklearn.multiclass import OneVsOneClassifier\n",
    "\n",
    "clf = OneVsOneClassifier(LinearSVC(random_state=0, verbose=True))\n",
    "\n",
    "clf.fit(train_features_encoded_oversampled, train_labels_oversampled)\n",
    "predicted_labels_ovo = clf.predict(test_features_encoded)"
   ]
  },
  {
   "cell_type": "code",
   "execution_count": 33,
   "metadata": {
    "colab": {
     "base_uri": "https://localhost:8080/",
     "height": 349
    },
    "id": "xu-kDqPdFvIK",
    "outputId": "ebe6663e-9fa8-45b7-b1de-4d292cbc5e05"
   },
   "outputs": [
    {
     "name": "stdout",
     "output_type": "stream",
     "text": [
      "Accuracy: 0.22014925373134328\n",
      "Precision: 0.22014925373134328\n",
      "Recall: 0.22014925373134328\n",
      "F1 score: 0.22014925373134328\n"
     ]
    },
    {
     "data": {
      "image/png": "[encoded data removed]",
      "text/plain": [
       "<Figure size 432x288 with 2 Axes>"
      ]
     },
     "metadata": {
      "needs_background": "light"
     },
     "output_type": "display_data"
    }
   ],
   "source": [
    "evaluate(test_labels, predicted_labels_ovr)"
   ]
  },
  {
   "cell_type": "markdown",
   "metadata": {
    "id": "u_5tPjL2FvIL"
   },
   "source": [
    "### Random Forest"
   ]
  },
  {
   "cell_type": "code",
   "execution_count": 34,
   "metadata": {
    "colab": {
     "base_uri": "https://localhost:8080/"
    },
    "id": "kGIa95sQFvIL",
    "outputId": "89a9bc74-822b-4370-d357-677321cc05fb"
   },
   "outputs": [
    {
     "name": "stderr",
     "output_type": "stream",
     "text": [
      "[Parallel(n_jobs=1)]: Using backend SequentialBackend with 1 concurrent workers.\n",
      "[Parallel(n_jobs=1)]: Done 100 out of 100 | elapsed:    4.4s finished\n",
      "[Parallel(n_jobs=1)]: Using backend SequentialBackend with 1 concurrent workers.\n",
      "[Parallel(n_jobs=1)]: Done 100 out of 100 | elapsed:    0.0s finished\n"
     ]
    }
   ],
   "source": [
    "from sklearn.ensemble import RandomForestClassifier\n",
    "\n",
    "clf = RandomForestClassifier(max_depth=5, random_state=0, verbose=True)\n",
    "clf.fit(train_features_encoded_oversampled, train_labels_oversampled)\n",
    "predicted_labels_rf = clf.predict(test_features_encoded)"
   ]
  },
  {
   "cell_type": "code",
   "execution_count": 35,
   "metadata": {
    "colab": {
     "base_uri": "https://localhost:8080/",
     "height": 349
    },
    "id": "OjVFQE79FvIM",
    "outputId": "8824025c-5a44-4d2d-c4f5-4fd131169724"
   },
   "outputs": [
    {
     "name": "stdout",
     "output_type": "stream",
     "text": [
      "Accuracy: 0.21082089552238806\n",
      "Precision: 0.21082089552238806\n",
      "Recall: 0.21082089552238806\n",
      "F1 score: 0.21082089552238809\n"
     ]
    },
    {
     "data": {
      "image/png": "[encoded data removed]",
      "text/plain": [
       "<Figure size 432x288 with 2 Axes>"
      ]
     },
     "metadata": {
      "needs_background": "light"
     },
     "output_type": "display_data"
    }
   ],
   "source": [
    "evaluate(test_labels, predicted_labels_rf)"
   ]
  },
  {
   "cell_type": "markdown",
   "metadata": {
    "id": "fikPzPJkgPkW"
   },
   "source": [
    "### MLP\n"
   ]
  },
  {
   "cell_type": "code",
   "execution_count": 36,
   "metadata": {
    "colab": {
     "base_uri": "https://localhost:8080/"
    },
    "id": "eEXb2fNzgX1-",
    "outputId": "9287dbd2-9fc7-4f80-ed35-8472458b50fe"
   },
   "outputs": [
    {
     "name": "stdout",
     "output_type": "stream",
     "text": [
      "Iteration 1, loss = 2.16573863\n",
      "Iteration 2, loss = 1.44527067\n",
      "Iteration 3, loss = 1.31074696\n",
      "Iteration 4, loss = 1.39675579\n",
      "Iteration 5, loss = 1.27151219\n",
      "Iteration 6, loss = 1.10955808\n",
      "Iteration 7, loss = 1.05873712\n",
      "Iteration 8, loss = 1.12501524\n",
      "Iteration 9, loss = 1.04552107\n",
      "Iteration 10, loss = 1.09717672\n",
      "Iteration 11, loss = 1.04028231\n",
      "Iteration 12, loss = 0.96797759\n",
      "Iteration 13, loss = 0.97454340\n",
      "Iteration 14, loss = 0.88998478\n",
      "Iteration 15, loss = 0.91313369\n",
      "Iteration 16, loss = 0.92382431\n",
      "Iteration 17, loss = 0.91192924\n",
      "Iteration 18, loss = 0.94992233\n",
      "Iteration 19, loss = 0.86641412\n",
      "Iteration 20, loss = 0.93255636\n",
      "Iteration 21, loss = 0.87158845\n",
      "Iteration 22, loss = 0.78465300\n",
      "Iteration 23, loss = 0.82852789\n",
      "Iteration 24, loss = 0.85830082\n",
      "Iteration 25, loss = 0.76815563\n",
      "Iteration 26, loss = 0.81390572\n",
      "Iteration 27, loss = 0.82477855\n",
      "Iteration 28, loss = 0.79732599\n",
      "Iteration 29, loss = 0.80633452\n",
      "Iteration 30, loss = 0.76057964\n",
      "Iteration 31, loss = 0.78792525\n",
      "Iteration 32, loss = 0.83536498\n",
      "Iteration 33, loss = 0.82095607\n",
      "Iteration 34, loss = 0.80961835\n",
      "Iteration 35, loss = 0.76688371\n",
      "Iteration 36, loss = 0.75542337\n",
      "Iteration 37, loss = 0.75459533\n",
      "Iteration 38, loss = 0.76862684\n",
      "Iteration 39, loss = 0.75170643\n",
      "Iteration 40, loss = 0.80088039\n",
      "Iteration 41, loss = 0.83982838\n",
      "Iteration 42, loss = 0.85157850\n",
      "Iteration 43, loss = 0.77247872\n",
      "Iteration 44, loss = 0.71707233\n",
      "Iteration 45, loss = 0.72901693\n",
      "Iteration 46, loss = 0.80862835\n",
      "Iteration 47, loss = 0.76454298\n",
      "Iteration 48, loss = 0.75861007\n",
      "Iteration 49, loss = 0.76264416\n",
      "Iteration 50, loss = 0.76552523\n",
      "Iteration 51, loss = 0.83118997\n",
      "Iteration 52, loss = 0.73698214\n",
      "Iteration 53, loss = 0.70348943\n",
      "Iteration 54, loss = 0.75091228\n",
      "Iteration 55, loss = 0.80976602\n",
      "Iteration 56, loss = 0.89462724\n",
      "Iteration 57, loss = 0.78402598\n",
      "Iteration 58, loss = 0.77313801\n",
      "Iteration 59, loss = 0.74546546\n",
      "Iteration 60, loss = 0.74453892\n",
      "Iteration 61, loss = 0.73782294\n",
      "Iteration 62, loss = 0.81049694\n",
      "Iteration 63, loss = 0.72938739\n",
      "Iteration 64, loss = 0.70911111\n",
      "Training loss did not improve more than tol=0.000100 for 10 consecutive epochs. Stopping.\n"
     ]
    }
   ],
   "source": [
    "from sklearn.neural_network import MLPClassifier\n",
    "\n",
    "clf = MLPClassifier(random_state=1, max_iter=300, verbose=True)\n",
    "clf.fit(train_features_encoded_oversampled, train_labels_oversampled)\n",
    "predicted_labels_mlp = clf.predict(test_features_encoded)"
   ]
  },
  {
   "cell_type": "code",
   "execution_count": 37,
   "metadata": {
    "colab": {
     "base_uri": "https://localhost:8080/",
     "height": 349
    },
    "id": "Sl7qfY6_l19g",
    "outputId": "83d18061-db58-45a9-f23d-0ee28aae960c"
   },
   "outputs": [
    {
     "name": "stdout",
     "output_type": "stream",
     "text": [
      "Accuracy: 0.22574626865671643\n",
      "Precision: 0.22574626865671643\n",
      "Recall: 0.22574626865671643\n",
      "F1 score: 0.22574626865671643\n"
     ]
    },
    {
     "data": {
      "image/png": "[encoded data removed]",
      "text/plain": [
       "<Figure size 432x288 with 2 Axes>"
      ]
     },
     "metadata": {
      "needs_background": "light"
     },
     "output_type": "display_data"
    }
   ],
   "source": [
    "evaluate(test_labels, predicted_labels_mlp)"
   ]
  }
 ],
 "metadata": {
  "accelerator": "GPU",
  "colab": {
   "machine_shape": "hm",
   "name": "Multi-class Classification_Power Spectra .ipynb",
   "provenance": []
  },
  "kernelspec": {
   "display_name": "Python 3",
   "language": "python",
   "name": "python3"
  },
  "language_info": {
   "codemirror_mode": {
    "name": "ipython",
    "version": 3
   },
   "file_extension": ".py",
   "mimetype": "text/x-python",
   "name": "python",
   "nbconvert_exporter": "python",
   "pygments_lexer": "ipython3",
   "version": "3.8.5"
  }
 },
 "nbformat": 4,
 "nbformat_minor": 1
}
