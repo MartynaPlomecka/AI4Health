{
  "nbformat": 4,
  "nbformat_minor": 0,
  "metadata": {
    "accelerator": "GPU",
    "colab": {
      "name": "Multi_class_Classification_Power_Spectra_.ipynb",
      "provenance": [],
      "collapsed_sections": [
        "fikPzPJkgPkW",
        "0C4m6myd3aO1"
      ],
      "machine_shape": "hm"
    },
    "kernelspec": {
      "display_name": "Python 3",
      "language": "python",
      "name": "python3"
    },
    "language_info": {
      "codemirror_mode": {
        "name": "ipython",
        "version": 3
      },
      "file_extension": ".py",
      "mimetype": "text/x-python",
      "name": "python",
      "nbconvert_exporter": "python",
      "pygments_lexer": "ipython3",
      "version": "3.8.5"
    }
  },
  "cells": [
    {
      "cell_type": "code",
      "metadata": {
        "id": "IjsCisv7FvHs"
      },
      "source": [
        "import scipy.io\n",
        "import numpy as np\n",
        "import pandas as pd\n",
        "import matplotlib.pyplot as plt\n",
        "\n",
        "from sklearn.model_selection import train_test_split\n",
        "from imblearn.over_sampling import SMOTE\n",
        "\n",
        "import tensorflow as tf\n",
        "from tensorflow.keras.models import Model, load_model\n",
        "from tensorflow.keras.layers import Input, Dense, LeakyReLU, BatchNormalization\n",
        "from tensorflow.keras.utils import plot_model, to_categorical\n"
      ],
      "execution_count": 2,
      "outputs": []
    },
    {
      "cell_type": "markdown",
      "metadata": {
        "id": "LKPjAw07FvH2"
      },
      "source": [
        "## Data Loading and Processing"
      ]
    },
    {
      "cell_type": "code",
      "metadata": {
        "id": "o5QNdMC-111Y"
      },
      "source": [
        "import os\n",
        "\n",
        "DATA_DIR = ''\n",
        "if 'google.colab' not in str(get_ipython()) and \"anuja\" in os.environ.get('USER'):\n",
        "    DATA_DIR = 'data/'"
      ],
      "execution_count": 3,
      "outputs": []
    },
    {
      "cell_type": "code",
      "metadata": {
        "colab": {
          "base_uri": "https://localhost:8080/"
        },
        "id": "IyFwAfLNFvH6",
        "outputId": "1a06b3d5-b497-4d21-9370-a997157c52ba"
      },
      "source": [
        "# data loading\n",
        "data = scipy.io.loadmat(DATA_DIR+'x.mat')  \n",
        "columns = np.asarray([['Electrode %d - %d/2 Hz'%(i+1, j+1)] for i in range(data['x'].shape[1]) for j in range(data['x'].shape[2])])\n",
        "data['x'].shape\n",
        "labels = pd.read_csv(DATA_DIR+\"table_withlabels.csv\")\n",
        "foof = pd.read_csv(DATA_DIR+\"foof2features.csv\")\n",
        "beh = pd.read_csv(DATA_DIR+\"behaviorals.csv\")\n",
        "df = pd.DataFrame(data['x'].reshape((data['x'].shape[0], -1)))\n",
        "df.columns = columns\n",
        "df['IDs'] = foof['C1']\n",
        "df = pd.merge(df, labels[['label', 'IDs']], on='IDs', how='inner')\n",
        "print(df['label'].value_counts())"
      ],
      "execution_count": 4,
      "outputs": [
        {
          "output_type": "stream",
          "name": "stdout",
          "text": [
            "Other Neurodevelopmental Disorders    492\n",
            "ADHD-Inattentive Type                 388\n",
            "ADHD-Combined Type                    376\n",
            "Anxiety Disorders                     241\n",
            "No Diagnosis Given                    203\n",
            "Depressive Disorders                   85\n",
            "Name: label, dtype: int64\n"
          ]
        }
      ]
    },
    {
      "cell_type": "code",
      "metadata": {
        "id": "yv-RgMHhFvH9"
      },
      "source": [
        "# add labels\n",
        "pd.options.mode.chained_assignment = None\n",
        "\n",
        "df.label[df.label == 'Other Neurodevelopmental Disorders'] = 1\n",
        "df.label[df.label == 'ADHD-Inattentive Type'] = 2\n",
        "df.label[df.label == 'ADHD-Combined Type'] = 3\n",
        "df.label[df.label == 'Anxiety Disorders'] = 4\n",
        "df.label[df.label == 'No Diagnosis Given'] = 5\n",
        "df.label[df.label == 'Depressive Disorders'] = 6\n",
        "df.label = df['label'].astype(int)\n",
        "labels = ['Other Neurodevelopmental Disorders', 'ADHD-Inattentive Type', 'ADHD-Combined Type', 'Anxiety Disorders', 'No Diagnosis Given', 'Depressive Disorders']"
      ],
      "execution_count": 5,
      "outputs": []
    },
    {
      "cell_type": "code",
      "metadata": {
        "id": "jb9T4ixBFvH-"
      },
      "source": [
        "# data splitting\n",
        "\n",
        "train_df, test_df = train_test_split(df, test_size=0.3, stratify=df['label'])\n",
        "\n",
        "train_labels, test_labels = train_df['label'], test_df['label']\n",
        "test_labels_categorical = to_categorical(test_df['label']-1)\n",
        "\n",
        "train_features = train_df[train_df.columns.difference(['IDs', 'label'])]\n",
        "test_features = test_df[test_df.columns.difference(['IDs', 'label'])]"
      ],
      "execution_count": 6,
      "outputs": []
    },
    {
      "cell_type": "markdown",
      "metadata": {
        "id": "l1MryYsFFvH_"
      },
      "source": [
        "## AutoEncoder for Feature Extraction"
      ]
    },
    {
      "cell_type": "code",
      "metadata": {
        "colab": {
          "base_uri": "https://localhost:8080/"
        },
        "id": "RhFtsOcFFvIA",
        "outputId": "eee5f900-ce31-46ad-d449-c989152ff4dd"
      },
      "source": [
        "n_inputs = train_features.shape[1]\n",
        "\n",
        "visible = Input(shape=(n_inputs,))\n",
        "e = Dense(n_inputs*2)(visible)\n",
        "e = BatchNormalization()(e)\n",
        "e = LeakyReLU()(e)\n",
        "e = Dense(n_inputs)(e)\n",
        "e = BatchNormalization()(e)\n",
        "e = LeakyReLU()(e)\n",
        "n_bottleneck = round(float(n_inputs) / 2.0)\n",
        "bottleneck = Dense(n_bottleneck)(e)\n",
        "\n",
        "d = Dense(n_inputs)(bottleneck)\n",
        "d = BatchNormalization()(d)\n",
        "d = LeakyReLU()(d)\n",
        "\n",
        "d = Dense(n_inputs*2)(d)\n",
        "d = BatchNormalization()(d)\n",
        "d = LeakyReLU()(d)\n",
        "\n",
        "output = Dense(n_inputs, activation='linear')(d)\n",
        "\n",
        "model = Model(inputs=visible, outputs=output)\n",
        "model.compile(optimizer='adam', loss='mse')\n",
        "plot_model(model, 'autoencoder_compress.png', show_shapes=True)\n",
        "\n",
        "history = model.fit(train_features, train_labels, epochs=50, batch_size=16, verbose=2)\n",
        "encoder = Model(inputs=visible, outputs=bottleneck)\n",
        "\n",
        "plot_model(encoder, 'encoder_compress.png', show_shapes=True)\n",
        "encoder.save('autoencoder.h5')"
      ],
      "execution_count": 7,
      "outputs": [
        {
          "output_type": "stream",
          "name": "stdout",
          "text": [
            "Epoch 1/50\n",
            "79/79 - 6s - loss: 5.3306 - 6s/epoch - 79ms/step\n",
            "Epoch 2/50\n",
            "79/79 - 5s - loss: 3.2746 - 5s/epoch - 61ms/step\n",
            "Epoch 3/50\n",
            "79/79 - 5s - loss: 3.1880 - 5s/epoch - 62ms/step\n",
            "Epoch 4/50\n",
            "79/79 - 5s - loss: 3.7920 - 5s/epoch - 62ms/step\n",
            "Epoch 5/50\n",
            "79/79 - 5s - loss: 4.0035 - 5s/epoch - 61ms/step\n",
            "Epoch 6/50\n",
            "79/79 - 5s - loss: 3.2664 - 5s/epoch - 61ms/step\n",
            "Epoch 7/50\n",
            "79/79 - 5s - loss: 3.1876 - 5s/epoch - 61ms/step\n",
            "Epoch 8/50\n",
            "79/79 - 5s - loss: 3.2904 - 5s/epoch - 61ms/step\n",
            "Epoch 9/50\n",
            "79/79 - 5s - loss: 2.9967 - 5s/epoch - 62ms/step\n",
            "Epoch 10/50\n",
            "79/79 - 5s - loss: 3.0887 - 5s/epoch - 61ms/step\n",
            "Epoch 11/50\n",
            "79/79 - 5s - loss: 3.2886 - 5s/epoch - 61ms/step\n",
            "Epoch 12/50\n",
            "79/79 - 5s - loss: 2.7964 - 5s/epoch - 61ms/step\n",
            "Epoch 13/50\n",
            "79/79 - 5s - loss: 2.6676 - 5s/epoch - 61ms/step\n",
            "Epoch 14/50\n",
            "79/79 - 5s - loss: 2.7424 - 5s/epoch - 61ms/step\n",
            "Epoch 15/50\n",
            "79/79 - 5s - loss: 2.5350 - 5s/epoch - 61ms/step\n",
            "Epoch 16/50\n",
            "79/79 - 5s - loss: 2.8484 - 5s/epoch - 62ms/step\n",
            "Epoch 17/50\n",
            "79/79 - 5s - loss: 2.4908 - 5s/epoch - 61ms/step\n",
            "Epoch 18/50\n",
            "79/79 - 5s - loss: 3.0239 - 5s/epoch - 61ms/step\n",
            "Epoch 19/50\n",
            "79/79 - 5s - loss: 2.9423 - 5s/epoch - 61ms/step\n",
            "Epoch 20/50\n",
            "79/79 - 5s - loss: 2.3316 - 5s/epoch - 61ms/step\n",
            "Epoch 21/50\n",
            "79/79 - 5s - loss: 2.2578 - 5s/epoch - 61ms/step\n",
            "Epoch 22/50\n",
            "79/79 - 5s - loss: 2.2548 - 5s/epoch - 61ms/step\n",
            "Epoch 23/50\n",
            "79/79 - 5s - loss: 2.3274 - 5s/epoch - 61ms/step\n",
            "Epoch 24/50\n",
            "79/79 - 5s - loss: 2.3588 - 5s/epoch - 61ms/step\n",
            "Epoch 25/50\n",
            "79/79 - 5s - loss: 1.8358 - 5s/epoch - 61ms/step\n",
            "Epoch 26/50\n",
            "79/79 - 5s - loss: 2.2183 - 5s/epoch - 61ms/step\n",
            "Epoch 27/50\n",
            "79/79 - 5s - loss: 1.8105 - 5s/epoch - 61ms/step\n",
            "Epoch 28/50\n",
            "79/79 - 5s - loss: 1.8389 - 5s/epoch - 61ms/step\n",
            "Epoch 29/50\n",
            "79/79 - 5s - loss: 1.8961 - 5s/epoch - 61ms/step\n",
            "Epoch 30/50\n",
            "79/79 - 5s - loss: 1.6399 - 5s/epoch - 61ms/step\n",
            "Epoch 31/50\n",
            "79/79 - 5s - loss: 1.7709 - 5s/epoch - 61ms/step\n",
            "Epoch 32/50\n",
            "79/79 - 5s - loss: 1.7608 - 5s/epoch - 61ms/step\n",
            "Epoch 33/50\n",
            "79/79 - 5s - loss: 1.3156 - 5s/epoch - 61ms/step\n",
            "Epoch 34/50\n",
            "79/79 - 5s - loss: 1.8558 - 5s/epoch - 61ms/step\n",
            "Epoch 35/50\n",
            "79/79 - 5s - loss: 1.5816 - 5s/epoch - 61ms/step\n",
            "Epoch 36/50\n",
            "79/79 - 5s - loss: 1.3571 - 5s/epoch - 61ms/step\n",
            "Epoch 37/50\n",
            "79/79 - 5s - loss: 1.1660 - 5s/epoch - 61ms/step\n",
            "Epoch 38/50\n",
            "79/79 - 5s - loss: 1.1008 - 5s/epoch - 62ms/step\n",
            "Epoch 39/50\n",
            "79/79 - 5s - loss: 1.1949 - 5s/epoch - 61ms/step\n",
            "Epoch 40/50\n",
            "79/79 - 5s - loss: 1.1709 - 5s/epoch - 62ms/step\n",
            "Epoch 41/50\n",
            "79/79 - 5s - loss: 1.0394 - 5s/epoch - 62ms/step\n",
            "Epoch 42/50\n",
            "79/79 - 5s - loss: 1.1519 - 5s/epoch - 62ms/step\n",
            "Epoch 43/50\n",
            "79/79 - 5s - loss: 1.0626 - 5s/epoch - 61ms/step\n",
            "Epoch 44/50\n",
            "79/79 - 5s - loss: 1.0471 - 5s/epoch - 61ms/step\n",
            "Epoch 45/50\n",
            "79/79 - 5s - loss: 1.0533 - 5s/epoch - 62ms/step\n",
            "Epoch 46/50\n",
            "79/79 - 5s - loss: 1.0467 - 5s/epoch - 61ms/step\n",
            "Epoch 47/50\n",
            "79/79 - 5s - loss: 0.9072 - 5s/epoch - 61ms/step\n",
            "Epoch 48/50\n",
            "79/79 - 5s - loss: 1.0891 - 5s/epoch - 61ms/step\n",
            "Epoch 49/50\n",
            "79/79 - 5s - loss: 0.9951 - 5s/epoch - 61ms/step\n",
            "Epoch 50/50\n",
            "79/79 - 5s - loss: 0.8993 - 5s/epoch - 61ms/step\n",
            "WARNING:tensorflow:Compiled the loaded model, but the compiled metrics have yet to be built. `model.compile_metrics` will be empty until you train or evaluate the model.\n"
          ]
        }
      ]
    },
    {
      "cell_type": "code",
      "metadata": {
        "colab": {
          "base_uri": "https://localhost:8080/",
          "height": 281
        },
        "id": "rxH1C5ZOiTa7",
        "outputId": "71a971e8-8be6-4597-8b79-a9b671cd771c"
      },
      "source": [
        "  # plot loss\n",
        "  plt.plot(history.history['loss'], label='train')\n",
        "  plt.title('Autoencoder training loss')\n",
        "  plt.legend()\n",
        "  plt.show()"
      ],
      "execution_count": 8,
      "outputs": [
        {
          "output_type": "display_data",
          "data": {
            "image/png": "[encoded data removed]",
            "text/plain": [
              "<Figure size 432x288 with 1 Axes>"
            ]
          },
          "metadata": {
            "needs_background": "light"
          }
        }
      ]
    },
    {
      "cell_type": "code",
      "metadata": {
        "id": "zgckuW7_iF6R"
      },
      "source": [
        "# encode the data\n",
        "encoder= load_model('autoencoder.h5', compile=False)\n",
        "\n",
        "train_features_encoded = encoder.predict(train_features)\n",
        "test_features_encoded = encoder.predict(test_features)"
      ],
      "execution_count": 9,
      "outputs": []
    },
    {
      "cell_type": "markdown",
      "metadata": {
        "id": "HQC-Wm64FvID"
      },
      "source": [
        "## Dealing with imbalance"
      ]
    },
    {
      "cell_type": "code",
      "metadata": {
        "colab": {
          "base_uri": "https://localhost:8080/"
        },
        "id": "qkZ5dnh7FvID",
        "outputId": "5f330e3b-a16a-4278-f748-5a6570fa27f4"
      },
      "source": [
        "oversample = SMOTE()\n",
        "train_features_encoded_oversampled, train_labels_oversampled = oversample.fit_resample(train_features_encoded, train_labels)\n",
        "train_features_oversampled, train_labels_oversampled_ = oversample.fit_resample(train_features, train_labels)\n",
        "\n",
        "train_labels_oversampled_categorical = to_categorical(train_labels_oversampled-1)"
      ],
      "execution_count": 10,
      "outputs": [
        {
          "output_type": "stream",
          "name": "stderr",
          "text": [
            "/usr/local/lib/python3.7/dist-packages/sklearn/utils/validation.py:1679: FutureWarning: Feature names only support names that are all strings. Got feature names with dtypes: ['tuple']. An error will be raised in 1.2.\n",
            "  FutureWarning,\n"
          ]
        }
      ]
    },
    {
      "cell_type": "code",
      "metadata": {
        "id": "6cBLVO-BrAxS"
      },
      "source": [
        "if 'google.colab' in str(get_ipython()):\n",
        "  np.save('train_features_encoded_oversampled.npy', train_features_encoded_oversampled)\n",
        "  np.save('train_labels_oversampled.npy', train_labels_oversampled)\n",
        "  np.save('train_features_encoded.npy', train_features_encoded)\n",
        "  np.save('test_features_encoded.npy', test_features_encoded)"
      ],
      "execution_count": 14,
      "outputs": []
    },
    {
      "cell_type": "code",
      "metadata": {
        "id": "Tms2OlNbuvUf"
      },
      "source": [
        "# scaling the data\n",
        "\n",
        "from sklearn.preprocessing import StandardScaler\n",
        "\n",
        "scaler = StandardScaler()\n",
        "train_features_encoded_oversampled = scaler.fit_transform(train_features_encoded_oversampled)\n",
        "test_features_encoded = scaler.transform(test_features_encoded)\n",
        "\n",
        "train_features_encoded_oversampled = np.clip(train_features_encoded_oversampled, -5, 5)\n",
        "test_features_encoded = np.clip(test_features_encoded, -5, 5)"
      ],
      "execution_count": 11,
      "outputs": []
    },
    {
      "cell_type": "code",
      "metadata": {
        "colab": {
          "base_uri": "https://localhost:8080/"
        },
        "id": "nd92xbREvIly",
        "outputId": "16a7fdd1-cd00-4fbb-eac2-06282513e0f3"
      },
      "source": [
        "print(train_features_encoded_oversampled.shape)\n",
        "print(train_labels_oversampled.shape)\n",
        "print(train_labels_oversampled_categorical.shape)\n",
        "print(test_features_encoded.shape)\n",
        "print(test_labels.shape)"
      ],
      "execution_count": 12,
      "outputs": [
        {
          "output_type": "stream",
          "name": "stdout",
          "text": [
            "(2064, 4148)\n",
            "(2064,)\n",
            "(2064, 6)\n",
            "(536, 4148)\n",
            "(536,)\n"
          ]
        }
      ]
    },
    {
      "cell_type": "markdown",
      "metadata": {
        "id": "vGEV__DRFvIE"
      },
      "source": [
        "## Linear Models"
      ]
    },
    {
      "cell_type": "markdown",
      "metadata": {
        "id": "DUCdA5b6FvIF"
      },
      "source": [
        "### SVC"
      ]
    },
    {
      "cell_type": "code",
      "metadata": {
        "id": "g-MNQL01FvIF"
      },
      "source": [
        "from sklearn import svm\n",
        "\n",
        "clf = svm.SVC(kernel='linear', verbose=True)\n",
        "clf.fit(train_features_encoded_oversampled, train_labels_oversampled)\n",
        "\n",
        "predicted_labels_svc = clf.predict(test_features_encoded)"
      ],
      "execution_count": 38,
      "outputs": []
    },
    {
      "cell_type": "code",
      "metadata": {
        "id": "u9flc8xoFvIG"
      },
      "source": [
        "from sklearn import metrics\n",
        "import matplotlib.pyplot as plt\n",
        "from sklearn.metrics import confusion_matrix, ConfusionMatrixDisplay\n",
        "\n",
        "def evaluate(y_test, y_pred, show_cm=True, is_categorical=False):\n",
        "    \n",
        "    if is_categorical:\n",
        "      y_test = np.argmax(y_test, axis=1)\n",
        "      y_pred = np.argmax(y_pred, axis=1)\n",
        "\n",
        "    print(\"Accuracy:\", metrics.accuracy_score(y_test, y_pred))\n",
        "    print(\"Precision:\", metrics.precision_score(y_test, y_pred, average='macro'))\n",
        "    print(\"Recall:\", metrics.recall_score(y_test, y_pred, average='macro'))\n",
        "#     print(\"ROC AUC:\", metrics.roc_auc_score(y_test, y_pred, multi_class='ovo',))\n",
        "    print(\"F1 score:\", metrics.f1_score(y_test, y_pred, average='macro'))\n",
        "#     print(\"Brier Score:\", metrics.brier_score_loss(y_test, y_pred)) # only for binary classification\n",
        "\n",
        "    if show_cm:\n",
        "        cm = confusion_matrix(y_test, y_pred)\n",
        "        disp = ConfusionMatrixDisplay(confusion_matrix=cm, display_labels=labels)\n",
        "        disp.plot()\n",
        "        plt.tight_layout()\n",
        "        plt.show()\n"
      ],
      "execution_count": 18,
      "outputs": []
    },
    {
      "cell_type": "code",
      "metadata": {
        "id": "fK8-_rI6CzUo"
      },
      "source": [
        "evaluate(test_labels, predicted_labels_svc)"
      ],
      "execution_count": null,
      "outputs": []
    },
    {
      "cell_type": "markdown",
      "metadata": {
        "id": "LahFg05KFvIH"
      },
      "source": [
        "### OneVsRestClassifier\n",
        "The strategy consists in fitting one classifier per class. For each classifier, the class is fitted against all the other classes."
      ]
    },
    {
      "cell_type": "code",
      "metadata": {
        "colab": {
          "base_uri": "https://localhost:8080/"
        },
        "id": "VScxf00iFvII",
        "outputId": "cc30ecfc-519c-40d7-828d-46322d7f20ae"
      },
      "source": [
        "from sklearn.multiclass import OneVsRestClassifier\n",
        "from sklearn.svm import LinearSVC\n",
        "\n",
        "clf = OneVsRestClassifier(LinearSVC(random_state=0, max_iter=2000, verbose=True))\n",
        "\n",
        "clf.fit(train_features_encoded_oversampled, train_labels_oversampled)\n",
        "predicted_labels_ovr = clf.predict(test_features_encoded)"
      ],
      "execution_count": null,
      "outputs": [
        {
          "name": "stdout",
          "output_type": "stream",
          "text": [
            "[LibLinear]"
          ]
        },
        {
          "name": "stderr",
          "output_type": "stream",
          "text": [
            "/usr/local/lib/python3.7/dist-packages/sklearn/svm/_base.py:947: ConvergenceWarning: Liblinear failed to converge, increase the number of iterations.\n",
            "  \"the number of iterations.\", ConvergenceWarning)\n"
          ]
        },
        {
          "name": "stdout",
          "output_type": "stream",
          "text": [
            "[LibLinear]"
          ]
        },
        {
          "name": "stderr",
          "output_type": "stream",
          "text": [
            "/usr/local/lib/python3.7/dist-packages/sklearn/svm/_base.py:947: ConvergenceWarning: Liblinear failed to converge, increase the number of iterations.\n",
            "  \"the number of iterations.\", ConvergenceWarning)\n"
          ]
        },
        {
          "name": "stdout",
          "output_type": "stream",
          "text": [
            "[LibLinear]"
          ]
        },
        {
          "name": "stderr",
          "output_type": "stream",
          "text": [
            "/usr/local/lib/python3.7/dist-packages/sklearn/svm/_base.py:947: ConvergenceWarning: Liblinear failed to converge, increase the number of iterations.\n",
            "  \"the number of iterations.\", ConvergenceWarning)\n"
          ]
        },
        {
          "name": "stdout",
          "output_type": "stream",
          "text": [
            "[LibLinear]"
          ]
        },
        {
          "name": "stderr",
          "output_type": "stream",
          "text": [
            "/usr/local/lib/python3.7/dist-packages/sklearn/svm/_base.py:947: ConvergenceWarning: Liblinear failed to converge, increase the number of iterations.\n",
            "  \"the number of iterations.\", ConvergenceWarning)\n"
          ]
        },
        {
          "name": "stdout",
          "output_type": "stream",
          "text": [
            "[LibLinear]"
          ]
        },
        {
          "name": "stderr",
          "output_type": "stream",
          "text": [
            "/usr/local/lib/python3.7/dist-packages/sklearn/svm/_base.py:947: ConvergenceWarning: Liblinear failed to converge, increase the number of iterations.\n",
            "  \"the number of iterations.\", ConvergenceWarning)\n"
          ]
        },
        {
          "name": "stdout",
          "output_type": "stream",
          "text": [
            "[LibLinear]"
          ]
        },
        {
          "name": "stderr",
          "output_type": "stream",
          "text": [
            "/usr/local/lib/python3.7/dist-packages/sklearn/svm/_base.py:947: ConvergenceWarning: Liblinear failed to converge, increase the number of iterations.\n",
            "  \"the number of iterations.\", ConvergenceWarning)\n"
          ]
        }
      ]
    },
    {
      "cell_type": "code",
      "metadata": {
        "colab": {
          "base_uri": "https://localhost:8080/",
          "height": 349
        },
        "id": "_AreAnOwFvII",
        "outputId": "7153dcc6-c358-412f-8a62-d9740699c95b"
      },
      "source": [
        "evaluate(test_labels, predicted_labels_ovr)"
      ],
      "execution_count": null,
      "outputs": [
        {
          "name": "stdout",
          "output_type": "stream",
          "text": [
            "Accuracy: 0.22014925373134328\n",
            "Precision: 0.22014925373134328\n",
            "Recall: 0.22014925373134328\n",
            "F1 score: 0.22014925373134328\n"
          ]
        },
        {
          "data": {
            "image/png": "[encoded data removed]",
            "text/plain": [
              "<Figure size 432x288 with 2 Axes>"
            ]
          },
          "metadata": {
            "needs_background": "light"
          },
          "output_type": "display_data"
        }
      ]
    },
    {
      "cell_type": "markdown",
      "metadata": {
        "id": "-cBrjbXzFvIJ"
      },
      "source": [
        "### OneVsOneClassifier\n",
        "OneVsOneClassifier constructs one classifier per pair of classes. At prediction time, the class which received the most votes is selected. In the event of a tie (among two classes with an equal number of votes), it selects the class with the highest aggregate classification confidence by summing over the pair-wise classification confidence levels computed by the underlying binary classifiers.\n",
        "\n"
      ]
    },
    {
      "cell_type": "code",
      "metadata": {
        "colab": {
          "base_uri": "https://localhost:8080/"
        },
        "id": "ydH-4TMDFvIK",
        "outputId": "93f2a129-6729-4995-ca42-e6797e56e8b7"
      },
      "source": [
        "from sklearn.multiclass import OneVsOneClassifier\n",
        "\n",
        "clf = OneVsOneClassifier(LinearSVC(random_state=0, verbose=True))\n",
        "\n",
        "clf.fit(train_features_encoded_oversampled, train_labels_oversampled)\n",
        "predicted_labels_ovo = clf.predict(test_features_encoded)"
      ],
      "execution_count": null,
      "outputs": [
        {
          "name": "stdout",
          "output_type": "stream",
          "text": [
            "[LibLinear]"
          ]
        },
        {
          "name": "stderr",
          "output_type": "stream",
          "text": [
            "/usr/local/lib/python3.7/dist-packages/sklearn/svm/_base.py:947: ConvergenceWarning: Liblinear failed to converge, increase the number of iterations.\n",
            "  \"the number of iterations.\", ConvergenceWarning)\n"
          ]
        },
        {
          "name": "stdout",
          "output_type": "stream",
          "text": [
            "[LibLinear]"
          ]
        },
        {
          "name": "stderr",
          "output_type": "stream",
          "text": [
            "/usr/local/lib/python3.7/dist-packages/sklearn/svm/_base.py:947: ConvergenceWarning: Liblinear failed to converge, increase the number of iterations.\n",
            "  \"the number of iterations.\", ConvergenceWarning)\n"
          ]
        },
        {
          "name": "stdout",
          "output_type": "stream",
          "text": [
            "[LibLinear]"
          ]
        },
        {
          "name": "stderr",
          "output_type": "stream",
          "text": [
            "/usr/local/lib/python3.7/dist-packages/sklearn/svm/_base.py:947: ConvergenceWarning: Liblinear failed to converge, increase the number of iterations.\n",
            "  \"the number of iterations.\", ConvergenceWarning)\n",
            "/usr/local/lib/python3.7/dist-packages/sklearn/svm/_base.py:947: ConvergenceWarning: Liblinear failed to converge, increase the number of iterations.\n",
            "  \"the number of iterations.\", ConvergenceWarning)\n"
          ]
        },
        {
          "name": "stdout",
          "output_type": "stream",
          "text": [
            "[LibLinear][LibLinear][LibLinear]"
          ]
        },
        {
          "name": "stderr",
          "output_type": "stream",
          "text": [
            "/usr/local/lib/python3.7/dist-packages/sklearn/svm/_base.py:947: ConvergenceWarning: Liblinear failed to converge, increase the number of iterations.\n",
            "  \"the number of iterations.\", ConvergenceWarning)\n"
          ]
        },
        {
          "name": "stdout",
          "output_type": "stream",
          "text": [
            "[LibLinear]"
          ]
        },
        {
          "name": "stderr",
          "output_type": "stream",
          "text": [
            "/usr/local/lib/python3.7/dist-packages/sklearn/svm/_base.py:947: ConvergenceWarning: Liblinear failed to converge, increase the number of iterations.\n",
            "  \"the number of iterations.\", ConvergenceWarning)\n"
          ]
        },
        {
          "name": "stdout",
          "output_type": "stream",
          "text": [
            "[LibLinear]"
          ]
        },
        {
          "name": "stderr",
          "output_type": "stream",
          "text": [
            "/usr/local/lib/python3.7/dist-packages/sklearn/svm/_base.py:947: ConvergenceWarning: Liblinear failed to converge, increase the number of iterations.\n",
            "  \"the number of iterations.\", ConvergenceWarning)\n"
          ]
        },
        {
          "name": "stdout",
          "output_type": "stream",
          "text": [
            "[LibLinear]"
          ]
        },
        {
          "name": "stderr",
          "output_type": "stream",
          "text": [
            "/usr/local/lib/python3.7/dist-packages/sklearn/svm/_base.py:947: ConvergenceWarning: Liblinear failed to converge, increase the number of iterations.\n",
            "  \"the number of iterations.\", ConvergenceWarning)\n"
          ]
        },
        {
          "name": "stdout",
          "output_type": "stream",
          "text": [
            "[LibLinear]"
          ]
        },
        {
          "name": "stderr",
          "output_type": "stream",
          "text": [
            "/usr/local/lib/python3.7/dist-packages/sklearn/svm/_base.py:947: ConvergenceWarning: Liblinear failed to converge, increase the number of iterations.\n",
            "  \"the number of iterations.\", ConvergenceWarning)\n"
          ]
        },
        {
          "name": "stdout",
          "output_type": "stream",
          "text": [
            "[LibLinear]"
          ]
        },
        {
          "name": "stderr",
          "output_type": "stream",
          "text": [
            "/usr/local/lib/python3.7/dist-packages/sklearn/svm/_base.py:947: ConvergenceWarning: Liblinear failed to converge, increase the number of iterations.\n",
            "  \"the number of iterations.\", ConvergenceWarning)\n"
          ]
        },
        {
          "name": "stdout",
          "output_type": "stream",
          "text": [
            "[LibLinear]"
          ]
        },
        {
          "name": "stderr",
          "output_type": "stream",
          "text": [
            "/usr/local/lib/python3.7/dist-packages/sklearn/svm/_base.py:947: ConvergenceWarning: Liblinear failed to converge, increase the number of iterations.\n",
            "  \"the number of iterations.\", ConvergenceWarning)\n"
          ]
        },
        {
          "name": "stdout",
          "output_type": "stream",
          "text": [
            "[LibLinear]"
          ]
        },
        {
          "name": "stderr",
          "output_type": "stream",
          "text": [
            "/usr/local/lib/python3.7/dist-packages/sklearn/svm/_base.py:947: ConvergenceWarning: Liblinear failed to converge, increase the number of iterations.\n",
            "  \"the number of iterations.\", ConvergenceWarning)\n"
          ]
        },
        {
          "name": "stdout",
          "output_type": "stream",
          "text": [
            "[LibLinear]"
          ]
        },
        {
          "name": "stderr",
          "output_type": "stream",
          "text": [
            "/usr/local/lib/python3.7/dist-packages/sklearn/svm/_base.py:947: ConvergenceWarning: Liblinear failed to converge, increase the number of iterations.\n",
            "  \"the number of iterations.\", ConvergenceWarning)\n"
          ]
        },
        {
          "name": "stdout",
          "output_type": "stream",
          "text": [
            "[LibLinear]"
          ]
        },
        {
          "name": "stderr",
          "output_type": "stream",
          "text": [
            "/usr/local/lib/python3.7/dist-packages/sklearn/svm/_base.py:947: ConvergenceWarning: Liblinear failed to converge, increase the number of iterations.\n",
            "  \"the number of iterations.\", ConvergenceWarning)\n"
          ]
        }
      ]
    },
    {
      "cell_type": "code",
      "metadata": {
        "colab": {
          "base_uri": "https://localhost:8080/",
          "height": 349
        },
        "id": "xu-kDqPdFvIK",
        "outputId": "ebe6663e-9fa8-45b7-b1de-4d292cbc5e05"
      },
      "source": [
        "evaluate(test_labels, predicted_labels_ovr)"
      ],
      "execution_count": null,
      "outputs": [
        {
          "name": "stdout",
          "output_type": "stream",
          "text": [
            "Accuracy: 0.22014925373134328\n",
            "Precision: 0.22014925373134328\n",
            "Recall: 0.22014925373134328\n",
            "F1 score: 0.22014925373134328\n"
          ]
        },
        {
          "data": {
            "image/png": "[encoded data removed]",
            "text/plain": [
              "<Figure size 432x288 with 2 Axes>"
            ]
          },
          "metadata": {
            "needs_background": "light"
          },
          "output_type": "display_data"
        }
      ]
    },
    {
      "cell_type": "markdown",
      "metadata": {
        "id": "u_5tPjL2FvIL"
      },
      "source": [
        "### Random Forest"
      ]
    },
    {
      "cell_type": "code",
      "metadata": {
        "id": "kGIa95sQFvIL"
      },
      "source": [
        "from sklearn.ensemble import RandomForestClassifier\n",
        "\n",
        "clf = RandomForestClassifier(max_depth=5, random_state=0, verbose=True)\n",
        "clf.fit(train_features_encoded_oversampled, train_labels_oversampled)\n",
        "predicted_labels_rf = clf.predict(test_features_encoded)"
      ],
      "execution_count": 49,
      "outputs": []
    },
    {
      "cell_type": "code",
      "metadata": {
        "colab": {
          "base_uri": "https://localhost:8080/",
          "height": 349
        },
        "id": "OjVFQE79FvIM",
        "outputId": "8824025c-5a44-4d2d-c4f5-4fd131169724"
      },
      "source": [
        "evaluate(test_labels, predicted_labels_rf)"
      ],
      "execution_count": null,
      "outputs": [
        {
          "name": "stdout",
          "output_type": "stream",
          "text": [
            "Accuracy: 0.21082089552238806\n",
            "Precision: 0.21082089552238806\n",
            "Recall: 0.21082089552238806\n",
            "F1 score: 0.21082089552238809\n"
          ]
        },
        {
          "data": {
            "image/png": "[encoded data removed]",
            "text/plain": [
              "<Figure size 432x288 with 2 Axes>"
            ]
          },
          "metadata": {
            "needs_background": "light"
          },
          "output_type": "display_data"
        }
      ]
    },
    {
      "cell_type": "markdown",
      "metadata": {
        "id": "fikPzPJkgPkW"
      },
      "source": [
        "### MLP\n"
      ]
    },
    {
      "cell_type": "code",
      "metadata": {
        "colab": {
          "base_uri": "https://localhost:8080/"
        },
        "id": "eEXb2fNzgX1-",
        "outputId": "c96b5695-ef60-48ed-e31e-2bc7203ad643"
      },
      "source": [
        "from sklearn.neural_network import MLPClassifier\n",
        "\n",
        "clf = MLPClassifier(random_state=1, max_iter=300, verbose=True)\n",
        "clf.fit(train_features_encoded_oversampled, train_labels_oversampled)\n",
        "predicted_labels_mlp = clf.predict(test_features_encoded)"
      ],
      "execution_count": 198,
      "outputs": [
        {
          "output_type": "stream",
          "name": "stdout",
          "text": [
            "Iteration 1, loss = 1.91460059\n",
            "Iteration 2, loss = 1.04807638\n",
            "Iteration 3, loss = 1.06649717\n",
            "Iteration 4, loss = 1.00358536\n",
            "Iteration 5, loss = 0.96826151\n",
            "Iteration 6, loss = 0.78722836\n",
            "Iteration 7, loss = 0.78528317\n",
            "Iteration 8, loss = 0.86598982\n",
            "Iteration 9, loss = 0.78105043\n",
            "Iteration 10, loss = 0.70482758\n",
            "Iteration 11, loss = 0.79958908\n",
            "Iteration 12, loss = 0.83555400\n",
            "Iteration 13, loss = 0.80237787\n",
            "Iteration 14, loss = 0.73034413\n",
            "Iteration 15, loss = 0.80735463\n",
            "Iteration 16, loss = 0.71168144\n",
            "Iteration 17, loss = 0.77591432\n",
            "Iteration 18, loss = 0.70328118\n",
            "Iteration 19, loss = 0.73209586\n",
            "Iteration 20, loss = 0.71396422\n",
            "Iteration 21, loss = 0.73255616\n",
            "Iteration 22, loss = 0.74789217\n",
            "Iteration 23, loss = 0.71820902\n",
            "Iteration 24, loss = 0.77071016\n",
            "Iteration 25, loss = 0.70028745\n",
            "Iteration 26, loss = 0.67034225\n",
            "Iteration 27, loss = 0.69912280\n",
            "Iteration 28, loss = 0.71582353\n",
            "Iteration 29, loss = 0.69302062\n",
            "Iteration 30, loss = 0.63723355\n",
            "Iteration 31, loss = 0.61132152\n",
            "Iteration 32, loss = 0.62865129\n",
            "Iteration 33, loss = 0.59756478\n",
            "Iteration 34, loss = 0.59633370\n",
            "Iteration 35, loss = 0.61731089\n",
            "Iteration 36, loss = 0.67825349\n",
            "Iteration 37, loss = 0.67656382\n",
            "Iteration 38, loss = 0.68666574\n",
            "Iteration 39, loss = 0.59244980\n",
            "Iteration 40, loss = 0.63900371\n",
            "Iteration 41, loss = 0.72686691\n",
            "Iteration 42, loss = 0.70196506\n",
            "Iteration 43, loss = 0.71914041\n",
            "Iteration 44, loss = 0.73124383\n",
            "Iteration 45, loss = 0.63572843\n",
            "Iteration 46, loss = 0.61962504\n",
            "Iteration 47, loss = 0.60517689\n",
            "Iteration 48, loss = 0.58373284\n",
            "Iteration 49, loss = 0.67022978\n",
            "Iteration 50, loss = 0.74062459\n",
            "Iteration 51, loss = 0.72150450\n",
            "Iteration 52, loss = 0.72320228\n",
            "Iteration 53, loss = 0.77182430\n",
            "Iteration 54, loss = 0.69411685\n",
            "Iteration 55, loss = 0.74870098\n",
            "Iteration 56, loss = 0.64793120\n",
            "Iteration 57, loss = 0.77363540\n",
            "Iteration 58, loss = 0.68175930\n",
            "Iteration 59, loss = 0.64762982\n",
            "Training loss did not improve more than tol=0.000100 for 10 consecutive epochs. Stopping.\n"
          ]
        }
      ]
    },
    {
      "cell_type": "code",
      "metadata": {
        "colab": {
          "base_uri": "https://localhost:8080/",
          "height": 351
        },
        "id": "Sl7qfY6_l19g",
        "outputId": "2837ab12-750a-4c34-d401-10c5abdf41b1"
      },
      "source": [
        "evaluate(test_labels, predicted_labels_mlp)"
      ],
      "execution_count": 199,
      "outputs": [
        {
          "output_type": "stream",
          "name": "stdout",
          "text": [
            "Accuracy: 0.20149253731343283\n",
            "Precision: 0.19369819535977606\n",
            "Recall: 0.17563495467741155\n",
            "F1 score: 0.1747184348515011\n"
          ]
        },
        {
          "output_type": "display_data",
          "data": {
            "image/png": "[encoded data removed]",
            "text/plain": [
              "<Figure size 432x288 with 2 Axes>"
            ]
          },
          "metadata": {
            "needs_background": "light"
          }
        }
      ]
    },
    {
      "cell_type": "markdown",
      "metadata": {
        "id": "0C4m6myd3aO1"
      },
      "source": [
        "## CNNs"
      ]
    },
    {
      "cell_type": "code",
      "metadata": {
        "colab": {
          "base_uri": "https://localhost:8080/"
        },
        "id": "BjOc8ckX3Zhb",
        "outputId": "cec8f10f-9915-4c3a-9ac2-e6054e4c5814"
      },
      "source": [
        "from tensorflow.keras.models import Sequential\n",
        "from tensorflow.keras.layers import Conv1D \n",
        "from tensorflow.keras.layers import MaxPooling1D\n",
        "from tensorflow.keras.layers import Flatten\n",
        "from tensorflow.keras.layers import Dense, Dropout\n",
        "from tensorflow.keras.utils import to_categorical\n",
        "# print('Tensorflow Version: ',tensorflow.__version__)\n",
        "from tensorflow.keras.layers import BatchNormalization\n",
        "\n",
        "def get_CNN_classifier():\n",
        "  # Initialising the CNN\n",
        "  model = Sequential()\n",
        "  # Convolution\n",
        "  model.add(Conv1D(filters = 32, kernel_size = 3, input_shape = (79, 105), activation = 'relu', padding = 'same'))\n",
        "  # Pooling\n",
        "  model.add(MaxPooling1D(pool_size = 2))\n",
        "  # Convolution\n",
        "  model.add(Conv1D(filters = 64, kernel_size = 3, input_shape = (39, 32), activation = 'relu', padding = 'same'))\n",
        "  model.add(Conv1D(filters = 64, kernel_size = 3, input_shape = (39, 64), activation = 'relu', padding = 'same'))\n",
        "  model.add(BatchNormalization())\n",
        "  model.add(MaxPooling1D(pool_size = 2))\n",
        "  model.add(Conv1D(filters =128, kernel_size = 3, input_shape = (19, 64), activation = 'relu', padding = 'same'))\n",
        "  # model.add(Conv1D(filters =128, kernel_size = 3, input_shape = (19, 128), activation = 'relu', padding = 'same'))\n",
        "  model.add(BatchNormalization())\n",
        "  model.add(MaxPooling1D(pool_size = 2))\n",
        "  model.add(Conv1D(filters =256, kernel_size = 3, input_shape = (9, 128), activation = 'relu', padding = 'same'))\n",
        "  #model.add(Conv1D(filters =256, kernel_size = 3, input_shape = (9, 256), activation = 'relu', padding = 'same'))\n",
        "  model.add(BatchNormalization())\n",
        "  model.add(MaxPooling1D(pool_size = 2))\n",
        "  model.add(Conv1D(filters =512, kernel_size = 3, input_shape = (4, 256), activation = 'relu', padding = 'same'))\n",
        "  #model.add(Conv1D(filters =512, kernel_size = 3, input_shape = (4, 512), activation = 'relu', padding = 'same'))\n",
        "  model.add(BatchNormalization())\n",
        "  model.add(MaxPooling1D(pool_size = 2))\n",
        "  model.add(Conv1D(filters = 1024, kernel_size = 3, input_shape = (2, 512), activation = 'relu', padding = 'same'))\n",
        "  model.add(Conv1D(filters = 1024, kernel_size = 3, input_shape = (2, 1028), activation = 'relu', padding = 'same'))\n",
        "  model.add(MaxPooling1D(pool_size = 2))\n",
        "  # Flattening\n",
        "  model.add(Flatten())\n",
        "\n",
        "  model.add(Dense(units = 6, activation = 'softmax'))\n",
        "  # Compiling the CNN\n",
        "  model.compile(optimizer = 'adam', loss = 'categorical_crossentropy', metrics = ['accuracy'])\n",
        "  model.summary()\n",
        "  \n",
        "  return model\n",
        "\n",
        "CNN_model = get_CNN_classifier()"
      ],
      "execution_count": 13,
      "outputs": [
        {
          "output_type": "stream",
          "name": "stdout",
          "text": [
            "Model: \"sequential\"\n",
            "_________________________________________________________________\n",
            " Layer (type)                Output Shape              Param #   \n",
            "=================================================================\n",
            " conv1d (Conv1D)             (None, 79, 32)            10112     \n",
            "                                                                 \n",
            " max_pooling1d (MaxPooling1D  (None, 39, 32)           0         \n",
            " )                                                               \n",
            "                                                                 \n",
            " conv1d_1 (Conv1D)           (None, 39, 64)            6208      \n",
            "                                                                 \n",
            " conv1d_2 (Conv1D)           (None, 39, 64)            12352     \n",
            "                                                                 \n",
            " batch_normalization_4 (Batc  (None, 39, 64)           256       \n",
            " hNormalization)                                                 \n",
            "                                                                 \n",
            " max_pooling1d_1 (MaxPooling  (None, 19, 64)           0         \n",
            " 1D)                                                             \n",
            "                                                                 \n",
            " conv1d_3 (Conv1D)           (None, 19, 128)           24704     \n",
            "                                                                 \n",
            " batch_normalization_5 (Batc  (None, 19, 128)          512       \n",
            " hNormalization)                                                 \n",
            "                                                                 \n",
            " max_pooling1d_2 (MaxPooling  (None, 9, 128)           0         \n",
            " 1D)                                                             \n",
            "                                                                 \n",
            " conv1d_4 (Conv1D)           (None, 9, 256)            98560     \n",
            "                                                                 \n",
            " batch_normalization_6 (Batc  (None, 9, 256)           1024      \n",
            " hNormalization)                                                 \n",
            "                                                                 \n",
            " max_pooling1d_3 (MaxPooling  (None, 4, 256)           0         \n",
            " 1D)                                                             \n",
            "                                                                 \n",
            " conv1d_5 (Conv1D)           (None, 4, 512)            393728    \n",
            "                                                                 \n",
            " batch_normalization_7 (Batc  (None, 4, 512)           2048      \n",
            " hNormalization)                                                 \n",
            "                                                                 \n",
            " max_pooling1d_4 (MaxPooling  (None, 2, 512)           0         \n",
            " 1D)                                                             \n",
            "                                                                 \n",
            " conv1d_6 (Conv1D)           (None, 2, 1024)           1573888   \n",
            "                                                                 \n",
            " conv1d_7 (Conv1D)           (None, 2, 1024)           3146752   \n",
            "                                                                 \n",
            " max_pooling1d_5 (MaxPooling  (None, 1, 1024)          0         \n",
            " 1D)                                                             \n",
            "                                                                 \n",
            " flatten (Flatten)           (None, 1024)              0         \n",
            "                                                                 \n",
            " dense_6 (Dense)             (None, 6)                 6150      \n",
            "                                                                 \n",
            "=================================================================\n",
            "Total params: 5,276,294\n",
            "Trainable params: 5,274,374\n",
            "Non-trainable params: 1,920\n",
            "_________________________________________________________________\n"
          ]
        }
      ]
    },
    {
      "cell_type": "code",
      "metadata": {
        "id": "TBoNrXMI77J_"
      },
      "source": [
        "# data reshaping for CNN\n",
        "n_electrode = 105\n",
        "n_freq =79 \n",
        "\n",
        "train_features_oversampled_reshaped = train_features_oversampled.to_numpy().reshape((train_features_oversampled.shape[0], n_electrode, n_freq))\n",
        "test_features_reshaped = test_features.to_numpy().reshape((test_features.shape[0], n_electrode, n_freq))"
      ],
      "execution_count": 15,
      "outputs": []
    },
    {
      "cell_type": "code",
      "metadata": {
        "colab": {
          "base_uri": "https://localhost:8080/"
        },
        "id": "P7U8Rfxi3ubo",
        "outputId": "c81c4a1c-2e0a-4b78-c949-7e8957a2de48"
      },
      "source": [
        "history_CNN = CNN_model.fit(np.transpose(train_features_oversampled_reshaped, (0, 2, 1)), train_labels_oversampled_categorical, validation_split=0.2, epochs=100, verbose=1)"
      ],
      "execution_count": 30,
      "outputs": [
        {
          "output_type": "stream",
          "name": "stdout",
          "text": [
            "Epoch 1/100\n",
            "52/52 [==============================] - 1s 12ms/step - loss: 0.0087 - accuracy: 0.9976 - val_loss: 0.1935 - val_accuracy: 0.9540\n",
            "Epoch 2/100\n",
            "52/52 [==============================] - 1s 12ms/step - loss: 8.7603e-04 - accuracy: 1.0000 - val_loss: 0.1719 - val_accuracy: 0.9613\n",
            "Epoch 3/100\n",
            "52/52 [==============================] - 1s 12ms/step - loss: 7.1727e-04 - accuracy: 1.0000 - val_loss: 0.1271 - val_accuracy: 0.9613\n",
            "Epoch 4/100\n",
            "52/52 [==============================] - 1s 11ms/step - loss: 4.3967e-04 - accuracy: 1.0000 - val_loss: 0.1175 - val_accuracy: 0.9637\n",
            "Epoch 5/100\n",
            "52/52 [==============================] - 1s 11ms/step - loss: 2.9139e-04 - accuracy: 1.0000 - val_loss: 0.1081 - val_accuracy: 0.9661\n",
            "Epoch 6/100\n",
            "52/52 [==============================] - 1s 11ms/step - loss: 1.2584e-04 - accuracy: 1.0000 - val_loss: 0.1063 - val_accuracy: 0.9637\n",
            "Epoch 7/100\n",
            "52/52 [==============================] - 1s 12ms/step - loss: 2.5123e-04 - accuracy: 1.0000 - val_loss: 0.1030 - val_accuracy: 0.9661\n",
            "Epoch 8/100\n",
            "52/52 [==============================] - 1s 12ms/step - loss: 1.0184e-04 - accuracy: 1.0000 - val_loss: 0.1071 - val_accuracy: 0.9637\n",
            "Epoch 9/100\n",
            "52/52 [==============================] - 1s 12ms/step - loss: 5.2783e-04 - accuracy: 0.9994 - val_loss: 0.1676 - val_accuracy: 0.9540\n",
            "Epoch 10/100\n",
            "52/52 [==============================] - 1s 12ms/step - loss: 0.0177 - accuracy: 0.9976 - val_loss: 0.2175 - val_accuracy: 0.9588\n",
            "Epoch 11/100\n",
            "52/52 [==============================] - 1s 12ms/step - loss: 0.0952 - accuracy: 0.9733 - val_loss: 1.6496 - val_accuracy: 0.7191\n",
            "Epoch 12/100\n",
            "52/52 [==============================] - 1s 11ms/step - loss: 0.2431 - accuracy: 0.9352 - val_loss: 3.1417 - val_accuracy: 0.5472\n",
            "Epoch 13/100\n",
            "52/52 [==============================] - 1s 11ms/step - loss: 0.2732 - accuracy: 0.9200 - val_loss: 0.4050 - val_accuracy: 0.9031\n",
            "Epoch 14/100\n",
            "52/52 [==============================] - 1s 12ms/step - loss: 0.0892 - accuracy: 0.9715 - val_loss: 1.2267 - val_accuracy: 0.7506\n",
            "Epoch 15/100\n",
            "52/52 [==============================] - 1s 11ms/step - loss: 0.1271 - accuracy: 0.9661 - val_loss: 0.6628 - val_accuracy: 0.8596\n",
            "Epoch 16/100\n",
            "52/52 [==============================] - 1s 11ms/step - loss: 0.1486 - accuracy: 0.9612 - val_loss: 0.7915 - val_accuracy: 0.8354\n",
            "Epoch 17/100\n",
            "52/52 [==============================] - 1s 11ms/step - loss: 0.0592 - accuracy: 0.9824 - val_loss: 0.6608 - val_accuracy: 0.8862\n",
            "Epoch 18/100\n",
            "52/52 [==============================] - 1s 11ms/step - loss: 0.0209 - accuracy: 0.9927 - val_loss: 1.3529 - val_accuracy: 0.7530\n",
            "Epoch 19/100\n",
            "52/52 [==============================] - 1s 11ms/step - loss: 0.0232 - accuracy: 0.9915 - val_loss: 0.6257 - val_accuracy: 0.8644\n",
            "Epoch 20/100\n",
            "52/52 [==============================] - 1s 11ms/step - loss: 0.0785 - accuracy: 0.9885 - val_loss: 1.6645 - val_accuracy: 0.7433\n",
            "Epoch 21/100\n",
            "52/52 [==============================] - 1s 11ms/step - loss: 0.0645 - accuracy: 0.9800 - val_loss: 1.7039 - val_accuracy: 0.6441\n",
            "Epoch 22/100\n",
            "52/52 [==============================] - 1s 11ms/step - loss: 0.1343 - accuracy: 0.9691 - val_loss: 2.2736 - val_accuracy: 0.5375\n",
            "Epoch 23/100\n",
            "52/52 [==============================] - 1s 11ms/step - loss: 0.0898 - accuracy: 0.9752 - val_loss: 0.1517 - val_accuracy: 0.9685\n",
            "Epoch 24/100\n",
            "52/52 [==============================] - 1s 11ms/step - loss: 0.0345 - accuracy: 0.9933 - val_loss: 0.7213 - val_accuracy: 0.8402\n",
            "Epoch 25/100\n",
            "52/52 [==============================] - 1s 11ms/step - loss: 0.0530 - accuracy: 0.9891 - val_loss: 0.1916 - val_accuracy: 0.9443\n",
            "Epoch 26/100\n",
            "52/52 [==============================] - 1s 11ms/step - loss: 0.0386 - accuracy: 0.9897 - val_loss: 0.4017 - val_accuracy: 0.9274\n",
            "Epoch 27/100\n",
            "52/52 [==============================] - 1s 11ms/step - loss: 0.0243 - accuracy: 0.9915 - val_loss: 0.5035 - val_accuracy: 0.9080\n",
            "Epoch 28/100\n",
            "52/52 [==============================] - 1s 12ms/step - loss: 0.0184 - accuracy: 0.9939 - val_loss: 1.1052 - val_accuracy: 0.7772\n",
            "Epoch 29/100\n",
            "52/52 [==============================] - 1s 11ms/step - loss: 0.0253 - accuracy: 0.9903 - val_loss: 0.3704 - val_accuracy: 0.9419\n",
            "Epoch 30/100\n",
            "52/52 [==============================] - 1s 12ms/step - loss: 0.0338 - accuracy: 0.9909 - val_loss: 1.1591 - val_accuracy: 0.7603\n",
            "Epoch 31/100\n",
            "52/52 [==============================] - 1s 12ms/step - loss: 0.0057 - accuracy: 0.9976 - val_loss: 0.4357 - val_accuracy: 0.9322\n",
            "Epoch 32/100\n",
            "52/52 [==============================] - 1s 11ms/step - loss: 0.0280 - accuracy: 0.9933 - val_loss: 0.6189 - val_accuracy: 0.8717\n",
            "Epoch 33/100\n",
            "52/52 [==============================] - 1s 11ms/step - loss: 0.0420 - accuracy: 0.9927 - val_loss: 0.4600 - val_accuracy: 0.8935\n",
            "Epoch 34/100\n",
            "52/52 [==============================] - 1s 12ms/step - loss: 0.0664 - accuracy: 0.9855 - val_loss: 0.2847 - val_accuracy: 0.9153\n",
            "Epoch 35/100\n",
            "52/52 [==============================] - 1s 11ms/step - loss: 0.0906 - accuracy: 0.9758 - val_loss: 0.1848 - val_accuracy: 0.9661\n",
            "Epoch 36/100\n",
            "52/52 [==============================] - 1s 11ms/step - loss: 0.2416 - accuracy: 0.9431 - val_loss: 1.1999 - val_accuracy: 0.7603\n",
            "Epoch 37/100\n",
            "52/52 [==============================] - 1s 11ms/step - loss: 0.1136 - accuracy: 0.9685 - val_loss: 0.4131 - val_accuracy: 0.8935\n",
            "Epoch 38/100\n",
            "52/52 [==============================] - 1s 11ms/step - loss: 0.0201 - accuracy: 0.9958 - val_loss: 0.9982 - val_accuracy: 0.8232\n",
            "Epoch 39/100\n",
            "52/52 [==============================] - 1s 11ms/step - loss: 0.0096 - accuracy: 0.9958 - val_loss: 0.6167 - val_accuracy: 0.8765\n",
            "Epoch 40/100\n",
            "52/52 [==============================] - 1s 12ms/step - loss: 0.0099 - accuracy: 0.9982 - val_loss: 0.7090 - val_accuracy: 0.8668\n",
            "Epoch 41/100\n",
            "52/52 [==============================] - 1s 11ms/step - loss: 0.0164 - accuracy: 0.9964 - val_loss: 0.5493 - val_accuracy: 0.8814\n",
            "Epoch 42/100\n",
            "52/52 [==============================] - 1s 11ms/step - loss: 0.0021 - accuracy: 1.0000 - val_loss: 0.3391 - val_accuracy: 0.9395\n",
            "Epoch 43/100\n",
            "52/52 [==============================] - 1s 11ms/step - loss: 0.0157 - accuracy: 0.9964 - val_loss: 1.4198 - val_accuracy: 0.8499\n",
            "Epoch 44/100\n",
            "52/52 [==============================] - 1s 12ms/step - loss: 0.0127 - accuracy: 0.9964 - val_loss: 0.4221 - val_accuracy: 0.9177\n",
            "Epoch 45/100\n",
            "52/52 [==============================] - 1s 11ms/step - loss: 0.0047 - accuracy: 0.9976 - val_loss: 0.4508 - val_accuracy: 0.9128\n",
            "Epoch 46/100\n",
            "52/52 [==============================] - 1s 11ms/step - loss: 0.0162 - accuracy: 0.9970 - val_loss: 0.7890 - val_accuracy: 0.8838\n",
            "Epoch 47/100\n",
            "52/52 [==============================] - 1s 11ms/step - loss: 0.0160 - accuracy: 0.9970 - val_loss: 0.7941 - val_accuracy: 0.8935\n",
            "Epoch 48/100\n",
            "52/52 [==============================] - 1s 11ms/step - loss: 0.0053 - accuracy: 0.9982 - val_loss: 0.5207 - val_accuracy: 0.9225\n",
            "Epoch 49/100\n",
            "52/52 [==============================] - 1s 11ms/step - loss: 0.0339 - accuracy: 0.9933 - val_loss: 1.2917 - val_accuracy: 0.7700\n",
            "Epoch 50/100\n",
            "52/52 [==============================] - 1s 11ms/step - loss: 0.1216 - accuracy: 0.9691 - val_loss: 1.5210 - val_accuracy: 0.7433\n",
            "Epoch 51/100\n",
            "52/52 [==============================] - 1s 12ms/step - loss: 0.1174 - accuracy: 0.9703 - val_loss: 0.5860 - val_accuracy: 0.8257\n",
            "Epoch 52/100\n",
            "52/52 [==============================] - 1s 11ms/step - loss: 0.0851 - accuracy: 0.9794 - val_loss: 0.5712 - val_accuracy: 0.8765\n",
            "Epoch 53/100\n",
            "52/52 [==============================] - 1s 12ms/step - loss: 0.0923 - accuracy: 0.9752 - val_loss: 3.5967 - val_accuracy: 0.5884\n",
            "Epoch 54/100\n",
            "52/52 [==============================] - 1s 11ms/step - loss: 0.0793 - accuracy: 0.9818 - val_loss: 2.7260 - val_accuracy: 0.5617\n",
            "Epoch 55/100\n",
            "52/52 [==============================] - 1s 11ms/step - loss: 0.1687 - accuracy: 0.9528 - val_loss: 0.6964 - val_accuracy: 0.8232\n",
            "Epoch 56/100\n",
            "52/52 [==============================] - 1s 11ms/step - loss: 0.0712 - accuracy: 0.9782 - val_loss: 0.4396 - val_accuracy: 0.8838\n",
            "Epoch 57/100\n",
            "52/52 [==============================] - 1s 11ms/step - loss: 0.0626 - accuracy: 0.9794 - val_loss: 0.5381 - val_accuracy: 0.8910\n",
            "Epoch 58/100\n",
            "52/52 [==============================] - 1s 11ms/step - loss: 0.0130 - accuracy: 0.9945 - val_loss: 0.4633 - val_accuracy: 0.9080\n",
            "Epoch 59/100\n",
            "52/52 [==============================] - 1s 12ms/step - loss: 0.0141 - accuracy: 0.9952 - val_loss: 0.4968 - val_accuracy: 0.9007\n",
            "Epoch 60/100\n",
            "52/52 [==============================] - 1s 11ms/step - loss: 0.0027 - accuracy: 0.9994 - val_loss: 0.4578 - val_accuracy: 0.9249\n",
            "Epoch 61/100\n",
            "52/52 [==============================] - 1s 11ms/step - loss: 0.0012 - accuracy: 1.0000 - val_loss: 0.3915 - val_accuracy: 0.9395\n",
            "Epoch 62/100\n",
            "52/52 [==============================] - 1s 11ms/step - loss: 2.4269e-04 - accuracy: 1.0000 - val_loss: 0.3720 - val_accuracy: 0.9395\n",
            "Epoch 63/100\n",
            "52/52 [==============================] - 1s 11ms/step - loss: 2.7777e-04 - accuracy: 1.0000 - val_loss: 0.3554 - val_accuracy: 0.9467\n",
            "Epoch 64/100\n",
            "52/52 [==============================] - 1s 12ms/step - loss: 6.0301e-04 - accuracy: 0.9994 - val_loss: 0.3701 - val_accuracy: 0.9395\n",
            "Epoch 65/100\n",
            "52/52 [==============================] - 1s 12ms/step - loss: 2.1504e-04 - accuracy: 1.0000 - val_loss: 0.3707 - val_accuracy: 0.9419\n",
            "Epoch 66/100\n",
            "52/52 [==============================] - 1s 12ms/step - loss: 1.2381e-04 - accuracy: 1.0000 - val_loss: 0.3703 - val_accuracy: 0.9443\n",
            "Epoch 67/100\n",
            "52/52 [==============================] - 1s 12ms/step - loss: 8.0747e-05 - accuracy: 1.0000 - val_loss: 0.3730 - val_accuracy: 0.9443\n",
            "Epoch 68/100\n",
            "52/52 [==============================] - 1s 11ms/step - loss: 7.1863e-05 - accuracy: 1.0000 - val_loss: 0.3699 - val_accuracy: 0.9443\n",
            "Epoch 69/100\n",
            "52/52 [==============================] - 1s 11ms/step - loss: 4.1951e-05 - accuracy: 1.0000 - val_loss: 0.3695 - val_accuracy: 0.9443\n",
            "Epoch 70/100\n",
            "52/52 [==============================] - 1s 11ms/step - loss: 4.5903e-05 - accuracy: 1.0000 - val_loss: 0.3709 - val_accuracy: 0.9443\n",
            "Epoch 71/100\n",
            "52/52 [==============================] - 1s 11ms/step - loss: 3.5575e-05 - accuracy: 1.0000 - val_loss: 0.3699 - val_accuracy: 0.9443\n",
            "Epoch 72/100\n",
            "52/52 [==============================] - 1s 11ms/step - loss: 6.9489e-05 - accuracy: 1.0000 - val_loss: 0.3577 - val_accuracy: 0.9467\n",
            "Epoch 73/100\n",
            "52/52 [==============================] - 1s 11ms/step - loss: 1.4037e-05 - accuracy: 1.0000 - val_loss: 0.3571 - val_accuracy: 0.9467\n",
            "Epoch 74/100\n",
            "52/52 [==============================] - 1s 11ms/step - loss: 2.2561e-05 - accuracy: 1.0000 - val_loss: 0.3594 - val_accuracy: 0.9467\n",
            "Epoch 75/100\n",
            "52/52 [==============================] - 1s 11ms/step - loss: 2.7188e-05 - accuracy: 1.0000 - val_loss: 0.3589 - val_accuracy: 0.9467\n",
            "Epoch 76/100\n",
            "52/52 [==============================] - 1s 11ms/step - loss: 1.6335e-05 - accuracy: 1.0000 - val_loss: 0.3601 - val_accuracy: 0.9492\n",
            "Epoch 77/100\n",
            "52/52 [==============================] - 1s 11ms/step - loss: 1.4024e-05 - accuracy: 1.0000 - val_loss: 0.3616 - val_accuracy: 0.9467\n",
            "Epoch 78/100\n",
            "52/52 [==============================] - 1s 12ms/step - loss: 1.8328e-05 - accuracy: 1.0000 - val_loss: 0.3619 - val_accuracy: 0.9492\n",
            "Epoch 79/100\n",
            "52/52 [==============================] - 1s 12ms/step - loss: 3.0361e-05 - accuracy: 1.0000 - val_loss: 0.3637 - val_accuracy: 0.9492\n",
            "Epoch 80/100\n",
            "52/52 [==============================] - 1s 12ms/step - loss: 1.8643e-05 - accuracy: 1.0000 - val_loss: 0.3631 - val_accuracy: 0.9492\n",
            "Epoch 81/100\n",
            "52/52 [==============================] - 1s 11ms/step - loss: 5.2309e-05 - accuracy: 1.0000 - val_loss: 0.3692 - val_accuracy: 0.9492\n",
            "Epoch 82/100\n",
            "52/52 [==============================] - 1s 11ms/step - loss: 1.2730e-05 - accuracy: 1.0000 - val_loss: 0.3747 - val_accuracy: 0.9492\n",
            "Epoch 83/100\n",
            "52/52 [==============================] - 1s 11ms/step - loss: 1.7828e-05 - accuracy: 1.0000 - val_loss: 0.3754 - val_accuracy: 0.9492\n",
            "Epoch 84/100\n",
            "52/52 [==============================] - 1s 11ms/step - loss: 1.0058e-05 - accuracy: 1.0000 - val_loss: 0.3740 - val_accuracy: 0.9492\n",
            "Epoch 85/100\n",
            "52/52 [==============================] - 1s 12ms/step - loss: 1.8029e-05 - accuracy: 1.0000 - val_loss: 0.3704 - val_accuracy: 0.9516\n",
            "Epoch 86/100\n",
            "52/52 [==============================] - 1s 12ms/step - loss: 7.7536e-06 - accuracy: 1.0000 - val_loss: 0.3713 - val_accuracy: 0.9516\n",
            "Epoch 87/100\n",
            "52/52 [==============================] - 1s 12ms/step - loss: 1.0627e-05 - accuracy: 1.0000 - val_loss: 0.3725 - val_accuracy: 0.9516\n",
            "Epoch 88/100\n",
            "52/52 [==============================] - 1s 12ms/step - loss: 1.8623e-05 - accuracy: 1.0000 - val_loss: 0.3774 - val_accuracy: 0.9516\n",
            "Epoch 89/100\n",
            "52/52 [==============================] - 1s 12ms/step - loss: 1.8836e-05 - accuracy: 1.0000 - val_loss: 0.3748 - val_accuracy: 0.9516\n",
            "Epoch 90/100\n",
            "52/52 [==============================] - 1s 11ms/step - loss: 4.3986e-06 - accuracy: 1.0000 - val_loss: 0.3747 - val_accuracy: 0.9492\n",
            "Epoch 91/100\n",
            "52/52 [==============================] - 1s 12ms/step - loss: 5.7376e-06 - accuracy: 1.0000 - val_loss: 0.3761 - val_accuracy: 0.9492\n",
            "Epoch 92/100\n",
            "52/52 [==============================] - 1s 12ms/step - loss: 1.2620e-05 - accuracy: 1.0000 - val_loss: 0.3705 - val_accuracy: 0.9492\n",
            "Epoch 93/100\n",
            "52/52 [==============================] - 1s 11ms/step - loss: 1.0315e-05 - accuracy: 1.0000 - val_loss: 0.3745 - val_accuracy: 0.9492\n",
            "Epoch 94/100\n",
            "52/52 [==============================] - 1s 11ms/step - loss: 8.5203e-06 - accuracy: 1.0000 - val_loss: 0.3755 - val_accuracy: 0.9492\n",
            "Epoch 95/100\n",
            "52/52 [==============================] - 1s 11ms/step - loss: 2.0906e-05 - accuracy: 1.0000 - val_loss: 0.3728 - val_accuracy: 0.9467\n",
            "Epoch 96/100\n",
            "52/52 [==============================] - 1s 11ms/step - loss: 1.0835e-05 - accuracy: 1.0000 - val_loss: 0.3747 - val_accuracy: 0.9467\n",
            "Epoch 97/100\n",
            "52/52 [==============================] - 1s 11ms/step - loss: 4.0468e-06 - accuracy: 1.0000 - val_loss: 0.3758 - val_accuracy: 0.9467\n",
            "Epoch 98/100\n",
            "52/52 [==============================] - 1s 11ms/step - loss: 7.4198e-06 - accuracy: 1.0000 - val_loss: 0.3714 - val_accuracy: 0.9467\n",
            "Epoch 99/100\n",
            "52/52 [==============================] - 1s 11ms/step - loss: 8.3903e-06 - accuracy: 1.0000 - val_loss: 0.3760 - val_accuracy: 0.9492\n",
            "Epoch 100/100\n",
            "52/52 [==============================] - 1s 11ms/step - loss: 3.3468e-05 - accuracy: 1.0000 - val_loss: 0.3812 - val_accuracy: 0.9516\n"
          ]
        }
      ]
    },
    {
      "cell_type": "code",
      "metadata": {
        "colab": {
          "base_uri": "https://localhost:8080/",
          "height": 351
        },
        "id": "VsyH2EGgAyvj",
        "outputId": "b09801a4-8a83-4151-d1b3-3a96c9eb11a0"
      },
      "source": [
        "predicted_labels_cnn = CNN_model.predict(np.transpose(test_features_reshaped, (0, 2, 1)))\n",
        "evaluate(test_labels_categorical, predicted_labels_cnn, is_categorical=True)"
      ],
      "execution_count": 31,
      "outputs": [
        {
          "output_type": "stream",
          "name": "stdout",
          "text": [
            "Accuracy: 0.20522388059701493\n",
            "Precision: 0.1872247841269056\n",
            "Recall: 0.17965540837788796\n",
            "F1 score: 0.1817777707957006\n"
          ]
        },
        {
          "output_type": "display_data",
          "data": {
            "image/png": "[encoded data removed]",
            "text/plain": [
              "<Figure size 432x288 with 2 Axes>"
            ]
          },
          "metadata": {
            "needs_background": "light"
          }
        }
      ]
    },
    {
      "cell_type": "code",
      "metadata": {
        "colab": {
          "base_uri": "https://localhost:8080/"
        },
        "id": "5AWKpHGYFCMK",
        "outputId": "3b2304f1-6d4c-4c52-87fc-cf076d27b88c"
      },
      "source": [
        "from tensorflow.keras.layers import Conv2D , MaxPooling2D, GlobalAveragePooling2D\n",
        "from tensorflow.keras.optimizers import Adam\n",
        "\n",
        "def get_CNN_2_classifier():\n",
        "\n",
        "    k = 3  # kernel size\n",
        "    s = 2  # stride\n",
        "    n_filters = 32  # number of filters\n",
        "    inputs = Input(shape=(79, 105, 1))\n",
        "\n",
        "    conv1 = Conv2D(n_filters, kernel_size=(k, k), strides=(s, s), padding='same')(inputs)\n",
        "    conv1 = BatchNormalization(scale=False, axis=3)(conv1)\n",
        "    conv1 = LeakyReLU(alpha=0.1)(conv1)\n",
        "    conv1 = Conv2D(n_filters, kernel_size=(k, k), padding='same')(conv1)\n",
        "    conv1 = BatchNormalization(scale=False, axis=3)(conv1)\n",
        "    conv1 = LeakyReLU(alpha=0.1)(conv1)\n",
        "    pool1 = MaxPooling2D(pool_size=(s, s))(conv1)\n",
        "\n",
        "    conv2 = Conv2D(2 * n_filters, kernel_size=(k, k), strides=(s, s), padding='same')(pool1)\n",
        "    conv2 = BatchNormalization(scale=False, axis=3)(conv2)\n",
        "    conv2 = LeakyReLU(alpha=0.1)(conv2)\n",
        "    conv2 = Conv2D(2 * n_filters, kernel_size=(k, k), padding='same')(conv2)\n",
        "    conv2 = BatchNormalization(scale=False, axis=3)(conv2)\n",
        "    conv2 = LeakyReLU(alpha=0.1)(conv2)\n",
        "    pool2 = MaxPooling2D(pool_size=(s, s))(conv2)\n",
        "\n",
        "    conv3 = Conv2D(4 * n_filters, kernel_size=(k, k), padding='same')(pool2)\n",
        "    conv3 = BatchNormalization(scale=False, axis=3)(conv3)\n",
        "    conv3 = LeakyReLU(alpha=0.1)(conv3)\n",
        "    conv3 = Conv2D(4 * n_filters, kernel_size=(k, k), padding='same')(conv3)\n",
        "    conv3 = BatchNormalization(scale=False, axis=3)(conv3)\n",
        "    conv3 = LeakyReLU(alpha=0.1)(conv3)\n",
        "    pool3 = MaxPooling2D(pool_size=(s, s))(conv3)\n",
        "\n",
        "    conv4 = Conv2D(8 * n_filters, kernel_size=(k, k), padding='same')(pool3)\n",
        "    conv4 = BatchNormalization(scale=False, axis=3)(conv4)\n",
        "    conv4 = LeakyReLU(alpha=0.1)(conv4)\n",
        "    conv4 = Conv2D(8 * n_filters, kernel_size=(k, k), padding='same')(conv4)\n",
        "    conv4 = BatchNormalization(scale=False, axis=3)(conv4)\n",
        "    conv4 = LeakyReLU(alpha=0.1)(conv4)\n",
        "    pool4 = MaxPooling2D(pool_size=(s, s))(conv4)\n",
        "\n",
        "    conv5 = Conv2D(16 * n_filters, kernel_size=(k, k), padding='same')(pool4)\n",
        "    conv5 = BatchNormalization(scale=False, axis=3)(conv5)\n",
        "    conv5 = LeakyReLU(alpha=0.1)(conv5)\n",
        "    conv5 = Conv2D(16 * n_filters, kernel_size=(k, k), padding='same')(conv5)\n",
        "    conv5 = BatchNormalization(scale=False, axis=3)(conv5)\n",
        "    conv5 = LeakyReLU(alpha=0.1)(conv5)\n",
        "\n",
        "    gap = GlobalAveragePooling2D()(conv5)\n",
        "    outputs = Dense(6, activation='softmax')(gap)\n",
        "\n",
        "    model = Model(inputs, outputs)\n",
        "    model.compile(optimizer = Adam(lr=1e-4), loss = 'categorical_crossentropy', metrics = ['accuracy'])\n",
        "    model.summary()\n",
        "  \n",
        "    return model\n",
        "\n",
        "CNN_model_2 = get_CNN_2_classifier()"
      ],
      "execution_count": 32,
      "outputs": [
        {
          "output_type": "stream",
          "name": "stdout",
          "text": [
            "Model: \"model_4\"\n",
            "_________________________________________________________________\n",
            " Layer (type)                Output Shape              Param #   \n",
            "=================================================================\n",
            " input_4 (InputLayer)        [(None, 79, 105, 1)]      0         \n",
            "                                                                 \n",
            " conv2d_22 (Conv2D)          (None, 40, 53, 32)        320       \n",
            "                                                                 \n",
            " batch_normalization_28 (Bat  (None, 40, 53, 32)       96        \n",
            " chNormalization)                                                \n",
            "                                                                 \n",
            " leaky_re_lu_24 (LeakyReLU)  (None, 40, 53, 32)        0         \n",
            "                                                                 \n",
            " conv2d_23 (Conv2D)          (None, 40, 53, 32)        9248      \n",
            "                                                                 \n",
            " batch_normalization_29 (Bat  (None, 40, 53, 32)       96        \n",
            " chNormalization)                                                \n",
            "                                                                 \n",
            " leaky_re_lu_25 (LeakyReLU)  (None, 40, 53, 32)        0         \n",
            "                                                                 \n",
            " max_pooling2d_10 (MaxPoolin  (None, 20, 26, 32)       0         \n",
            " g2D)                                                            \n",
            "                                                                 \n",
            " conv2d_24 (Conv2D)          (None, 10, 13, 64)        18496     \n",
            "                                                                 \n",
            " batch_normalization_30 (Bat  (None, 10, 13, 64)       192       \n",
            " chNormalization)                                                \n",
            "                                                                 \n",
            " leaky_re_lu_26 (LeakyReLU)  (None, 10, 13, 64)        0         \n",
            "                                                                 \n",
            " conv2d_25 (Conv2D)          (None, 10, 13, 64)        36928     \n",
            "                                                                 \n",
            " batch_normalization_31 (Bat  (None, 10, 13, 64)       192       \n",
            " chNormalization)                                                \n",
            "                                                                 \n",
            " leaky_re_lu_27 (LeakyReLU)  (None, 10, 13, 64)        0         \n",
            "                                                                 \n",
            " max_pooling2d_11 (MaxPoolin  (None, 5, 6, 64)         0         \n",
            " g2D)                                                            \n",
            "                                                                 \n",
            " conv2d_26 (Conv2D)          (None, 5, 6, 128)         73856     \n",
            "                                                                 \n",
            " batch_normalization_32 (Bat  (None, 5, 6, 128)        384       \n",
            " chNormalization)                                                \n",
            "                                                                 \n",
            " leaky_re_lu_28 (LeakyReLU)  (None, 5, 6, 128)         0         \n",
            "                                                                 \n",
            " conv2d_27 (Conv2D)          (None, 5, 6, 128)         147584    \n",
            "                                                                 \n",
            " batch_normalization_33 (Bat  (None, 5, 6, 128)        384       \n",
            " chNormalization)                                                \n",
            "                                                                 \n",
            " leaky_re_lu_29 (LeakyReLU)  (None, 5, 6, 128)         0         \n",
            "                                                                 \n",
            " max_pooling2d_12 (MaxPoolin  (None, 2, 3, 128)        0         \n",
            " g2D)                                                            \n",
            "                                                                 \n",
            " conv2d_28 (Conv2D)          (None, 2, 3, 256)         295168    \n",
            "                                                                 \n",
            " batch_normalization_34 (Bat  (None, 2, 3, 256)        768       \n",
            " chNormalization)                                                \n",
            "                                                                 \n",
            " leaky_re_lu_30 (LeakyReLU)  (None, 2, 3, 256)         0         \n",
            "                                                                 \n",
            " conv2d_29 (Conv2D)          (None, 2, 3, 256)         590080    \n",
            "                                                                 \n",
            " batch_normalization_35 (Bat  (None, 2, 3, 256)        768       \n",
            " chNormalization)                                                \n",
            "                                                                 \n",
            " leaky_re_lu_31 (LeakyReLU)  (None, 2, 3, 256)         0         \n",
            "                                                                 \n",
            " max_pooling2d_13 (MaxPoolin  (None, 1, 1, 256)        0         \n",
            " g2D)                                                            \n",
            "                                                                 \n",
            " conv2d_30 (Conv2D)          (None, 1, 1, 512)         1180160   \n",
            "                                                                 \n",
            " batch_normalization_36 (Bat  (None, 1, 1, 512)        1536      \n",
            " chNormalization)                                                \n",
            "                                                                 \n",
            " leaky_re_lu_32 (LeakyReLU)  (None, 1, 1, 512)         0         \n",
            "                                                                 \n",
            " conv2d_31 (Conv2D)          (None, 1, 1, 512)         2359808   \n",
            "                                                                 \n",
            " batch_normalization_37 (Bat  (None, 1, 1, 512)        1536      \n",
            " chNormalization)                                                \n",
            "                                                                 \n",
            " leaky_re_lu_33 (LeakyReLU)  (None, 1, 1, 512)         0         \n",
            "                                                                 \n",
            " global_average_pooling2d_2   (None, 512)              0         \n",
            " (GlobalAveragePooling2D)                                        \n",
            "                                                                 \n",
            " dense_11 (Dense)            (None, 6)                 3078      \n",
            "                                                                 \n",
            "=================================================================\n",
            "Total params: 4,720,678\n",
            "Trainable params: 4,716,710\n",
            "Non-trainable params: 3,968\n",
            "_________________________________________________________________\n"
          ]
        },
        {
          "output_type": "stream",
          "name": "stderr",
          "text": [
            "/usr/local/lib/python3.7/dist-packages/keras/optimizer_v2/adam.py:105: UserWarning: The `lr` argument is deprecated, use `learning_rate` instead.\n",
            "  super(Adam, self).__init__(name, **kwargs)\n"
          ]
        }
      ]
    },
    {
      "cell_type": "code",
      "metadata": {
        "colab": {
          "base_uri": "https://localhost:8080/"
        },
        "id": "edjGaE1eG7Ng",
        "outputId": "240cfbb8-33d7-4bc0-c926-44cb336fb1c7"
      },
      "source": [
        "history_CNN_2 = CNN_model_2.fit(np.transpose(train_features_oversampled_reshaped, (0, 2, 1)), train_labels_oversampled_categorical, validation_split=0.2, epochs=100, verbose=1)\n"
      ],
      "execution_count": 33,
      "outputs": [
        {
          "output_type": "stream",
          "name": "stdout",
          "text": [
            "Epoch 1/100\n",
            "52/52 [==============================] - 2s 17ms/step - loss: 1.8273 - accuracy: 0.2901 - val_loss: 1.8401 - val_accuracy: 0.0000e+00\n",
            "Epoch 2/100\n",
            "52/52 [==============================] - 1s 12ms/step - loss: 1.1581 - accuracy: 0.5924 - val_loss: 1.9026 - val_accuracy: 0.0000e+00\n",
            "Epoch 3/100\n",
            "52/52 [==============================] - 1s 12ms/step - loss: 0.7293 - accuracy: 0.7735 - val_loss: 1.9554 - val_accuracy: 0.0000e+00\n",
            "Epoch 4/100\n",
            "52/52 [==============================] - 1s 12ms/step - loss: 0.4369 - accuracy: 0.8934 - val_loss: 2.0570 - val_accuracy: 0.0000e+00\n",
            "Epoch 5/100\n",
            "52/52 [==============================] - 1s 12ms/step - loss: 0.2102 - accuracy: 0.9649 - val_loss: 2.2798 - val_accuracy: 0.0000e+00\n",
            "Epoch 6/100\n",
            "52/52 [==============================] - 1s 12ms/step - loss: 0.1374 - accuracy: 0.9721 - val_loss: 2.3008 - val_accuracy: 0.0000e+00\n",
            "Epoch 7/100\n",
            "52/52 [==============================] - 1s 12ms/step - loss: 0.0990 - accuracy: 0.9812 - val_loss: 2.7166 - val_accuracy: 0.0000e+00\n",
            "Epoch 8/100\n",
            "52/52 [==============================] - 1s 12ms/step - loss: 0.0890 - accuracy: 0.9836 - val_loss: 2.8878 - val_accuracy: 0.0000e+00\n",
            "Epoch 9/100\n",
            "52/52 [==============================] - 1s 12ms/step - loss: 0.0752 - accuracy: 0.9867 - val_loss: 3.5047 - val_accuracy: 0.0218\n",
            "Epoch 10/100\n",
            "52/52 [==============================] - 1s 12ms/step - loss: 0.0365 - accuracy: 0.9964 - val_loss: 3.0508 - val_accuracy: 0.0654\n",
            "Epoch 11/100\n",
            "52/52 [==============================] - 1s 12ms/step - loss: 0.0373 - accuracy: 0.9964 - val_loss: 2.1765 - val_accuracy: 0.2712\n",
            "Epoch 12/100\n",
            "52/52 [==============================] - 1s 12ms/step - loss: 0.0597 - accuracy: 0.9873 - val_loss: 1.5295 - val_accuracy: 0.4770\n",
            "Epoch 13/100\n",
            "52/52 [==============================] - 1s 12ms/step - loss: 0.0773 - accuracy: 0.9843 - val_loss: 1.2178 - val_accuracy: 0.5981\n",
            "Epoch 14/100\n",
            "52/52 [==============================] - 1s 12ms/step - loss: 0.1667 - accuracy: 0.9473 - val_loss: 1.0678 - val_accuracy: 0.6271\n",
            "Epoch 15/100\n",
            "52/52 [==============================] - 1s 12ms/step - loss: 0.2768 - accuracy: 0.9055 - val_loss: 0.9660 - val_accuracy: 0.6538\n",
            "Epoch 16/100\n",
            "52/52 [==============================] - 1s 12ms/step - loss: 0.2646 - accuracy: 0.9055 - val_loss: 1.3335 - val_accuracy: 0.5424\n",
            "Epoch 17/100\n",
            "52/52 [==============================] - 1s 12ms/step - loss: 0.1326 - accuracy: 0.9546 - val_loss: 0.6635 - val_accuracy: 0.7651\n",
            "Epoch 18/100\n",
            "52/52 [==============================] - 1s 12ms/step - loss: 0.0690 - accuracy: 0.9794 - val_loss: 0.7660 - val_accuracy: 0.7700\n",
            "Epoch 19/100\n",
            "52/52 [==============================] - 1s 12ms/step - loss: 0.0356 - accuracy: 0.9933 - val_loss: 0.4295 - val_accuracy: 0.8668\n",
            "Epoch 20/100\n",
            "52/52 [==============================] - 1s 12ms/step - loss: 0.0134 - accuracy: 0.9982 - val_loss: 0.5474 - val_accuracy: 0.8232\n",
            "Epoch 21/100\n",
            "52/52 [==============================] - 1s 12ms/step - loss: 0.0086 - accuracy: 0.9988 - val_loss: 0.5265 - val_accuracy: 0.8329\n",
            "Epoch 22/100\n",
            "52/52 [==============================] - 1s 12ms/step - loss: 0.0061 - accuracy: 0.9994 - val_loss: 0.4317 - val_accuracy: 0.8523\n",
            "Epoch 23/100\n",
            "52/52 [==============================] - 1s 12ms/step - loss: 0.0114 - accuracy: 0.9970 - val_loss: 0.4368 - val_accuracy: 0.8547\n",
            "Epoch 24/100\n",
            "52/52 [==============================] - 1s 12ms/step - loss: 0.0067 - accuracy: 1.0000 - val_loss: 0.2961 - val_accuracy: 0.9007\n",
            "Epoch 25/100\n",
            "52/52 [==============================] - 1s 12ms/step - loss: 0.0036 - accuracy: 1.0000 - val_loss: 0.2793 - val_accuracy: 0.9153\n",
            "Epoch 26/100\n",
            "52/52 [==============================] - 1s 12ms/step - loss: 0.0051 - accuracy: 0.9994 - val_loss: 0.3096 - val_accuracy: 0.8959\n",
            "Epoch 27/100\n",
            "52/52 [==============================] - 1s 12ms/step - loss: 0.0024 - accuracy: 1.0000 - val_loss: 0.2961 - val_accuracy: 0.9031\n",
            "Epoch 28/100\n",
            "52/52 [==============================] - 1s 12ms/step - loss: 0.0049 - accuracy: 0.9982 - val_loss: 0.2880 - val_accuracy: 0.9080\n",
            "Epoch 29/100\n",
            "52/52 [==============================] - 1s 12ms/step - loss: 0.0417 - accuracy: 0.9879 - val_loss: 0.3702 - val_accuracy: 0.8717\n",
            "Epoch 30/100\n",
            "52/52 [==============================] - 1s 12ms/step - loss: 0.0357 - accuracy: 0.9885 - val_loss: 0.3585 - val_accuracy: 0.8741\n",
            "Epoch 31/100\n",
            "52/52 [==============================] - 1s 12ms/step - loss: 0.0975 - accuracy: 0.9685 - val_loss: 0.2625 - val_accuracy: 0.9007\n",
            "Epoch 32/100\n",
            "52/52 [==============================] - 1s 12ms/step - loss: 0.3025 - accuracy: 0.9007 - val_loss: 0.7203 - val_accuracy: 0.7579\n",
            "Epoch 33/100\n",
            "52/52 [==============================] - 1s 12ms/step - loss: 0.3922 - accuracy: 0.8667 - val_loss: 0.3428 - val_accuracy: 0.8814\n",
            "Epoch 34/100\n",
            "52/52 [==============================] - 1s 12ms/step - loss: 0.2071 - accuracy: 0.9322 - val_loss: 0.4261 - val_accuracy: 0.8354\n",
            "Epoch 35/100\n",
            "52/52 [==============================] - 1s 12ms/step - loss: 0.0996 - accuracy: 0.9703 - val_loss: 0.3643 - val_accuracy: 0.8838\n",
            "Epoch 36/100\n",
            "52/52 [==============================] - 1s 12ms/step - loss: 0.0507 - accuracy: 0.9849 - val_loss: 0.2172 - val_accuracy: 0.9298\n",
            "Epoch 37/100\n",
            "52/52 [==============================] - 1s 12ms/step - loss: 0.0307 - accuracy: 0.9903 - val_loss: 0.4576 - val_accuracy: 0.8547\n",
            "Epoch 38/100\n",
            "52/52 [==============================] - 1s 12ms/step - loss: 0.0151 - accuracy: 0.9970 - val_loss: 0.3791 - val_accuracy: 0.8886\n",
            "Epoch 39/100\n",
            "52/52 [==============================] - 1s 12ms/step - loss: 0.0078 - accuracy: 0.9988 - val_loss: 0.2715 - val_accuracy: 0.9007\n",
            "Epoch 40/100\n",
            "52/52 [==============================] - 1s 12ms/step - loss: 0.0073 - accuracy: 0.9982 - val_loss: 0.2135 - val_accuracy: 0.9249\n",
            "Epoch 41/100\n",
            "52/52 [==============================] - 1s 12ms/step - loss: 0.0032 - accuracy: 1.0000 - val_loss: 0.2162 - val_accuracy: 0.9370\n",
            "Epoch 42/100\n",
            "52/52 [==============================] - 1s 12ms/step - loss: 0.0024 - accuracy: 1.0000 - val_loss: 0.2266 - val_accuracy: 0.9201\n",
            "Epoch 43/100\n",
            "52/52 [==============================] - 1s 12ms/step - loss: 0.0016 - accuracy: 1.0000 - val_loss: 0.2114 - val_accuracy: 0.9322\n",
            "Epoch 44/100\n",
            "52/52 [==============================] - 1s 12ms/step - loss: 0.0015 - accuracy: 1.0000 - val_loss: 0.2044 - val_accuracy: 0.9346\n",
            "Epoch 45/100\n",
            "52/52 [==============================] - 1s 12ms/step - loss: 9.7854e-04 - accuracy: 1.0000 - val_loss: 0.2014 - val_accuracy: 0.9322\n",
            "Epoch 46/100\n",
            "52/52 [==============================] - 1s 12ms/step - loss: 0.0011 - accuracy: 1.0000 - val_loss: 0.2086 - val_accuracy: 0.9249\n",
            "Epoch 47/100\n",
            "52/52 [==============================] - 1s 12ms/step - loss: 0.0013 - accuracy: 1.0000 - val_loss: 0.2049 - val_accuracy: 0.9298\n",
            "Epoch 48/100\n",
            "52/52 [==============================] - 1s 12ms/step - loss: 0.0010 - accuracy: 1.0000 - val_loss: 0.2103 - val_accuracy: 0.9322\n",
            "Epoch 49/100\n",
            "52/52 [==============================] - 1s 12ms/step - loss: 0.0011 - accuracy: 1.0000 - val_loss: 0.2202 - val_accuracy: 0.9177\n",
            "Epoch 50/100\n",
            "52/52 [==============================] - 1s 12ms/step - loss: 0.0010 - accuracy: 1.0000 - val_loss: 0.2185 - val_accuracy: 0.9298\n",
            "Epoch 51/100\n",
            "52/52 [==============================] - 1s 12ms/step - loss: 6.9716e-04 - accuracy: 1.0000 - val_loss: 0.2248 - val_accuracy: 0.9274\n",
            "Epoch 52/100\n",
            "52/52 [==============================] - 1s 12ms/step - loss: 9.1274e-04 - accuracy: 1.0000 - val_loss: 0.2106 - val_accuracy: 0.9370\n",
            "Epoch 53/100\n",
            "52/52 [==============================] - 1s 12ms/step - loss: 0.0010 - accuracy: 1.0000 - val_loss: 0.2288 - val_accuracy: 0.9249\n",
            "Epoch 54/100\n",
            "52/52 [==============================] - 1s 12ms/step - loss: 0.0012 - accuracy: 1.0000 - val_loss: 0.2368 - val_accuracy: 0.9153\n",
            "Epoch 55/100\n",
            "52/52 [==============================] - 1s 12ms/step - loss: 5.9601e-04 - accuracy: 1.0000 - val_loss: 0.2152 - val_accuracy: 0.9274\n",
            "Epoch 56/100\n",
            "52/52 [==============================] - 1s 12ms/step - loss: 8.8879e-04 - accuracy: 1.0000 - val_loss: 0.2109 - val_accuracy: 0.9274\n",
            "Epoch 57/100\n",
            "52/52 [==============================] - 1s 12ms/step - loss: 6.9658e-04 - accuracy: 1.0000 - val_loss: 0.2055 - val_accuracy: 0.9322\n",
            "Epoch 58/100\n",
            "52/52 [==============================] - 1s 12ms/step - loss: 5.8339e-04 - accuracy: 1.0000 - val_loss: 0.2038 - val_accuracy: 0.9298\n",
            "Epoch 59/100\n",
            "52/52 [==============================] - 1s 12ms/step - loss: 6.6480e-04 - accuracy: 1.0000 - val_loss: 0.2192 - val_accuracy: 0.9274\n",
            "Epoch 60/100\n",
            "52/52 [==============================] - 1s 12ms/step - loss: 7.0163e-04 - accuracy: 1.0000 - val_loss: 0.2134 - val_accuracy: 0.9225\n",
            "Epoch 61/100\n",
            "52/52 [==============================] - 1s 12ms/step - loss: 5.5351e-04 - accuracy: 1.0000 - val_loss: 0.2003 - val_accuracy: 0.9274\n",
            "Epoch 62/100\n",
            "52/52 [==============================] - 1s 12ms/step - loss: 3.7173e-04 - accuracy: 1.0000 - val_loss: 0.2036 - val_accuracy: 0.9274\n",
            "Epoch 63/100\n",
            "52/52 [==============================] - 1s 12ms/step - loss: 4.0828e-04 - accuracy: 1.0000 - val_loss: 0.2015 - val_accuracy: 0.9274\n",
            "Epoch 64/100\n",
            "52/52 [==============================] - 1s 12ms/step - loss: 2.8806e-04 - accuracy: 1.0000 - val_loss: 0.2076 - val_accuracy: 0.9274\n",
            "Epoch 65/100\n",
            "52/52 [==============================] - 1s 12ms/step - loss: 4.2295e-04 - accuracy: 1.0000 - val_loss: 0.2044 - val_accuracy: 0.9298\n",
            "Epoch 66/100\n",
            "52/52 [==============================] - 1s 12ms/step - loss: 4.4515e-04 - accuracy: 1.0000 - val_loss: 0.2091 - val_accuracy: 0.9249\n",
            "Epoch 67/100\n",
            "52/52 [==============================] - 1s 12ms/step - loss: 5.0606e-04 - accuracy: 1.0000 - val_loss: 0.2041 - val_accuracy: 0.9274\n",
            "Epoch 68/100\n",
            "52/52 [==============================] - 1s 12ms/step - loss: 3.7453e-04 - accuracy: 1.0000 - val_loss: 0.1935 - val_accuracy: 0.9346\n",
            "Epoch 69/100\n",
            "52/52 [==============================] - 1s 12ms/step - loss: 3.3676e-04 - accuracy: 1.0000 - val_loss: 0.2027 - val_accuracy: 0.9298\n",
            "Epoch 70/100\n",
            "52/52 [==============================] - 1s 12ms/step - loss: 2.7944e-04 - accuracy: 1.0000 - val_loss: 0.2007 - val_accuracy: 0.9298\n",
            "Epoch 71/100\n",
            "52/52 [==============================] - 1s 12ms/step - loss: 5.1562e-04 - accuracy: 1.0000 - val_loss: 0.2087 - val_accuracy: 0.9274\n",
            "Epoch 72/100\n",
            "52/52 [==============================] - 1s 12ms/step - loss: 4.7333e-04 - accuracy: 1.0000 - val_loss: 0.1989 - val_accuracy: 0.9346\n",
            "Epoch 73/100\n",
            "52/52 [==============================] - 1s 12ms/step - loss: 2.5383e-04 - accuracy: 1.0000 - val_loss: 0.1963 - val_accuracy: 0.9419\n",
            "Epoch 74/100\n",
            "52/52 [==============================] - 1s 12ms/step - loss: 2.6429e-04 - accuracy: 1.0000 - val_loss: 0.2025 - val_accuracy: 0.9346\n",
            "Epoch 75/100\n",
            "52/52 [==============================] - 1s 12ms/step - loss: 2.6218e-04 - accuracy: 1.0000 - val_loss: 0.1878 - val_accuracy: 0.9395\n",
            "Epoch 76/100\n",
            "52/52 [==============================] - 1s 12ms/step - loss: 4.2254e-04 - accuracy: 1.0000 - val_loss: 0.1869 - val_accuracy: 0.9395\n",
            "Epoch 77/100\n",
            "52/52 [==============================] - 1s 12ms/step - loss: 2.5884e-04 - accuracy: 1.0000 - val_loss: 0.1837 - val_accuracy: 0.9419\n",
            "Epoch 78/100\n",
            "52/52 [==============================] - 1s 12ms/step - loss: 2.0650e-04 - accuracy: 1.0000 - val_loss: 0.1784 - val_accuracy: 0.9443\n",
            "Epoch 79/100\n",
            "52/52 [==============================] - 1s 12ms/step - loss: 3.8266e-04 - accuracy: 1.0000 - val_loss: 0.2103 - val_accuracy: 0.9370\n",
            "Epoch 80/100\n",
            "52/52 [==============================] - 1s 12ms/step - loss: 5.4406e-04 - accuracy: 1.0000 - val_loss: 0.1849 - val_accuracy: 0.9443\n",
            "Epoch 81/100\n",
            "52/52 [==============================] - 1s 12ms/step - loss: 1.7974e-04 - accuracy: 1.0000 - val_loss: 0.1708 - val_accuracy: 0.9443\n",
            "Epoch 82/100\n",
            "52/52 [==============================] - 1s 12ms/step - loss: 3.6331e-04 - accuracy: 1.0000 - val_loss: 0.1921 - val_accuracy: 0.9419\n",
            "Epoch 83/100\n",
            "52/52 [==============================] - 1s 12ms/step - loss: 2.6255e-04 - accuracy: 1.0000 - val_loss: 0.1934 - val_accuracy: 0.9443\n",
            "Epoch 84/100\n",
            "52/52 [==============================] - 1s 12ms/step - loss: 1.7817e-04 - accuracy: 1.0000 - val_loss: 0.1935 - val_accuracy: 0.9419\n",
            "Epoch 85/100\n",
            "52/52 [==============================] - 1s 12ms/step - loss: 4.3732e-04 - accuracy: 1.0000 - val_loss: 0.2015 - val_accuracy: 0.9298\n",
            "Epoch 86/100\n",
            "52/52 [==============================] - 1s 12ms/step - loss: 2.9819e-04 - accuracy: 1.0000 - val_loss: 0.2086 - val_accuracy: 0.9298\n",
            "Epoch 87/100\n",
            "52/52 [==============================] - 1s 12ms/step - loss: 0.0011 - accuracy: 1.0000 - val_loss: 0.1915 - val_accuracy: 0.9370\n",
            "Epoch 88/100\n",
            "52/52 [==============================] - 1s 12ms/step - loss: 0.2870 - accuracy: 0.9219 - val_loss: 3.1372 - val_accuracy: 0.3559\n",
            "Epoch 89/100\n",
            "52/52 [==============================] - 1s 12ms/step - loss: 1.0834 - accuracy: 0.6529 - val_loss: 4.0714 - val_accuracy: 0.1041\n",
            "Epoch 90/100\n",
            "52/52 [==============================] - 1s 12ms/step - loss: 0.3059 - accuracy: 0.8922 - val_loss: 0.5800 - val_accuracy: 0.7627\n",
            "Epoch 91/100\n",
            "52/52 [==============================] - 1s 12ms/step - loss: 0.2216 - accuracy: 0.9297 - val_loss: 1.9830 - val_accuracy: 0.4867\n",
            "Epoch 92/100\n",
            "52/52 [==============================] - 1s 12ms/step - loss: 0.1732 - accuracy: 0.9443 - val_loss: 0.5671 - val_accuracy: 0.8160\n",
            "Epoch 93/100\n",
            "52/52 [==============================] - 1s 12ms/step - loss: 0.0892 - accuracy: 0.9697 - val_loss: 0.8046 - val_accuracy: 0.7409\n",
            "Epoch 94/100\n",
            "52/52 [==============================] - 1s 12ms/step - loss: 0.0604 - accuracy: 0.9806 - val_loss: 0.2643 - val_accuracy: 0.9080\n",
            "Epoch 95/100\n",
            "52/52 [==============================] - 1s 12ms/step - loss: 0.0180 - accuracy: 0.9970 - val_loss: 0.1606 - val_accuracy: 0.9516\n",
            "Epoch 96/100\n",
            "52/52 [==============================] - 1s 12ms/step - loss: 0.0168 - accuracy: 0.9958 - val_loss: 0.1693 - val_accuracy: 0.9467\n",
            "Epoch 97/100\n",
            "52/52 [==============================] - 1s 12ms/step - loss: 0.0107 - accuracy: 0.9976 - val_loss: 0.1470 - val_accuracy: 0.9588\n",
            "Epoch 98/100\n",
            "52/52 [==============================] - 1s 12ms/step - loss: 0.0065 - accuracy: 0.9994 - val_loss: 0.1523 - val_accuracy: 0.9564\n",
            "Epoch 99/100\n",
            "52/52 [==============================] - 1s 12ms/step - loss: 0.0038 - accuracy: 1.0000 - val_loss: 0.1555 - val_accuracy: 0.9540\n",
            "Epoch 100/100\n",
            "52/52 [==============================] - 1s 12ms/step - loss: 0.0037 - accuracy: 1.0000 - val_loss: 0.1529 - val_accuracy: 0.9564\n"
          ]
        }
      ]
    },
    {
      "cell_type": "code",
      "metadata": {
        "colab": {
          "base_uri": "https://localhost:8080/",
          "height": 349
        },
        "id": "O410hS5VLCvJ",
        "outputId": "168c9244-b1da-488f-b4c1-ca79faa16e1c"
      },
      "source": [
        "predicted_labels_cnn_2 = CNN_model_2.predict(np.transpose(test_features_reshaped, (0, 2, 1)))\n",
        "evaluate(test_labels_categorical, predicted_labels_cnn_2, is_categorical=True)"
      ],
      "execution_count": 34,
      "outputs": [
        {
          "output_type": "stream",
          "name": "stdout",
          "text": [
            "Accuracy: 0.208955223880597\n",
            "Precision: 0.16921816836922854\n",
            "Recall: 0.16966991321158717\n",
            "F1 score: 0.16864930850141982\n"
          ]
        },
        {
          "output_type": "display_data",
          "data": {
            "image/png": "[encoded data removed]",
            "text/plain": [
              "<Figure size 432x288 with 2 Axes>"
            ]
          },
          "metadata": {
            "needs_background": "light"
          }
        }
      ]
    },
    {
      "cell_type": "code",
      "metadata": {
        "colab": {
          "base_uri": "https://localhost:8080/"
        },
        "id": "tqg_2-rdM7pP",
        "outputId": "387e65cc-5524-49fc-ecda-6463ad1def42"
      },
      "source": [
        "def get_CNN_3_classifier():\n",
        "  model = Sequential()\n",
        "  model.add(Conv2D(32, kernel_size=(3, 3), activation='relu', input_shape=(79, 105, 1)))\n",
        "  model.add(MaxPooling2D(pool_size=(2, 2)))\n",
        "  model.add(Dropout(0.25))\n",
        "  model.add(Conv2D(64, kernel_size=(3, 3), activation='relu'))\n",
        "  model.add(MaxPooling2D(pool_size=(2, 2)))\n",
        "  model.add(Dropout(0.25))\n",
        "  model.add(Flatten())\n",
        "  model.add(Dense(256, activation='relu'))\n",
        "  model.add(Dense(6, activation='softmax'))\n",
        "\n",
        "  model.compile(optimizer = Adam(lr=1e-4), loss = 'categorical_crossentropy', metrics = ['accuracy'])\n",
        "  model.summary()\n",
        "\n",
        "  return model\n",
        "\n",
        "CNN_model_3 = get_CNN_3_classifier()"
      ],
      "execution_count": 23,
      "outputs": [
        {
          "output_type": "stream",
          "name": "stdout",
          "text": [
            "Model: \"sequential_1\"\n",
            "_________________________________________________________________\n",
            " Layer (type)                Output Shape              Param #   \n",
            "=================================================================\n",
            " conv2d_10 (Conv2D)          (None, 77, 103, 32)       320       \n",
            "                                                                 \n",
            " max_pooling2d_4 (MaxPooling  (None, 38, 51, 32)       0         \n",
            " 2D)                                                             \n",
            "                                                                 \n",
            " dropout (Dropout)           (None, 38, 51, 32)        0         \n",
            "                                                                 \n",
            " conv2d_11 (Conv2D)          (None, 36, 49, 64)        18496     \n",
            "                                                                 \n",
            " max_pooling2d_5 (MaxPooling  (None, 18, 24, 64)       0         \n",
            " 2D)                                                             \n",
            "                                                                 \n",
            " dropout_1 (Dropout)         (None, 18, 24, 64)        0         \n",
            "                                                                 \n",
            " flatten_1 (Flatten)         (None, 27648)             0         \n",
            "                                                                 \n",
            " dense_8 (Dense)             (None, 256)               7078144   \n",
            "                                                                 \n",
            " dense_9 (Dense)             (None, 6)                 1542      \n",
            "                                                                 \n",
            "=================================================================\n",
            "Total params: 7,098,502\n",
            "Trainable params: 7,098,502\n",
            "Non-trainable params: 0\n",
            "_________________________________________________________________\n"
          ]
        },
        {
          "output_type": "stream",
          "name": "stderr",
          "text": [
            "/usr/local/lib/python3.7/dist-packages/keras/optimizer_v2/adam.py:105: UserWarning: The `lr` argument is deprecated, use `learning_rate` instead.\n",
            "  super(Adam, self).__init__(name, **kwargs)\n"
          ]
        }
      ]
    },
    {
      "cell_type": "code",
      "metadata": {
        "colab": {
          "base_uri": "https://localhost:8080/"
        },
        "id": "Cxn0AvJ5Npa4",
        "outputId": "49ddc089-2a5f-41ee-c91e-922b8e5277bc"
      },
      "source": [
        "history_cnn_3 = CNN_model_3.fit(np.transpose(train_features_oversampled_reshaped, (0, 2, 1)), train_labels_oversampled_categorical, validation_split=0.2, epochs=100, verbose=1)"
      ],
      "execution_count": 24,
      "outputs": [
        {
          "output_type": "stream",
          "name": "stdout",
          "text": [
            "Epoch 1/100\n",
            "52/52 [==============================] - 1s 12ms/step - loss: 1.7085 - accuracy: 0.2362 - val_loss: 2.2508 - val_accuracy: 0.0000e+00\n",
            "Epoch 2/100\n",
            "52/52 [==============================] - 0s 8ms/step - loss: 1.6814 - accuracy: 0.2623 - val_loss: 2.2565 - val_accuracy: 0.0000e+00\n",
            "Epoch 3/100\n",
            "52/52 [==============================] - 0s 8ms/step - loss: 1.6652 - accuracy: 0.2732 - val_loss: 2.2251 - val_accuracy: 0.0000e+00\n",
            "Epoch 4/100\n",
            "52/52 [==============================] - 0s 8ms/step - loss: 1.6555 - accuracy: 0.3022 - val_loss: 2.3312 - val_accuracy: 0.0000e+00\n",
            "Epoch 5/100\n",
            "52/52 [==============================] - 0s 8ms/step - loss: 1.6391 - accuracy: 0.2841 - val_loss: 2.2712 - val_accuracy: 0.0339\n",
            "Epoch 6/100\n",
            "52/52 [==============================] - 0s 8ms/step - loss: 1.6312 - accuracy: 0.3168 - val_loss: 2.2167 - val_accuracy: 0.0000e+00\n",
            "Epoch 7/100\n",
            "52/52 [==============================] - 0s 8ms/step - loss: 1.6031 - accuracy: 0.3240 - val_loss: 2.3439 - val_accuracy: 0.0557\n",
            "Epoch 8/100\n",
            "52/52 [==============================] - 0s 8ms/step - loss: 1.5858 - accuracy: 0.3428 - val_loss: 2.3662 - val_accuracy: 0.0484\n",
            "Epoch 9/100\n",
            "52/52 [==============================] - 0s 8ms/step - loss: 1.5609 - accuracy: 0.3767 - val_loss: 2.2512 - val_accuracy: 0.0218\n",
            "Epoch 10/100\n",
            "52/52 [==============================] - 0s 8ms/step - loss: 1.5369 - accuracy: 0.3858 - val_loss: 2.1071 - val_accuracy: 0.0508\n",
            "Epoch 11/100\n",
            "52/52 [==============================] - 0s 8ms/step - loss: 1.5096 - accuracy: 0.4101 - val_loss: 2.2765 - val_accuracy: 0.0920\n",
            "Epoch 12/100\n",
            "52/52 [==============================] - 0s 8ms/step - loss: 1.4687 - accuracy: 0.4343 - val_loss: 2.3153 - val_accuracy: 0.0799\n",
            "Epoch 13/100\n",
            "52/52 [==============================] - 0s 8ms/step - loss: 1.4304 - accuracy: 0.4525 - val_loss: 2.2910 - val_accuracy: 0.0823\n",
            "Epoch 14/100\n",
            "52/52 [==============================] - 0s 8ms/step - loss: 1.3947 - accuracy: 0.4773 - val_loss: 2.2354 - val_accuracy: 0.0775\n",
            "Epoch 15/100\n",
            "52/52 [==============================] - 0s 8ms/step - loss: 1.3579 - accuracy: 0.4737 - val_loss: 2.1081 - val_accuracy: 0.0557\n",
            "Epoch 16/100\n",
            "52/52 [==============================] - 0s 8ms/step - loss: 1.3342 - accuracy: 0.4930 - val_loss: 2.1471 - val_accuracy: 0.1550\n",
            "Epoch 17/100\n",
            "52/52 [==============================] - 0s 8ms/step - loss: 1.2762 - accuracy: 0.5282 - val_loss: 1.8731 - val_accuracy: 0.1332\n",
            "Epoch 18/100\n",
            "52/52 [==============================] - 0s 8ms/step - loss: 1.2434 - accuracy: 0.5360 - val_loss: 1.8882 - val_accuracy: 0.1429\n",
            "Epoch 19/100\n",
            "52/52 [==============================] - 0s 8ms/step - loss: 1.1930 - accuracy: 0.5724 - val_loss: 1.8163 - val_accuracy: 0.2324\n",
            "Epoch 20/100\n",
            "52/52 [==============================] - 0s 8ms/step - loss: 1.1535 - accuracy: 0.5784 - val_loss: 1.6196 - val_accuracy: 0.2954\n",
            "Epoch 21/100\n",
            "52/52 [==============================] - 0s 8ms/step - loss: 1.1325 - accuracy: 0.5960 - val_loss: 1.8566 - val_accuracy: 0.1864\n",
            "Epoch 22/100\n",
            "52/52 [==============================] - 0s 8ms/step - loss: 1.0994 - accuracy: 0.6027 - val_loss: 1.6776 - val_accuracy: 0.2421\n",
            "Epoch 23/100\n",
            "52/52 [==============================] - 0s 8ms/step - loss: 1.0328 - accuracy: 0.6390 - val_loss: 1.6614 - val_accuracy: 0.2881\n",
            "Epoch 24/100\n",
            "52/52 [==============================] - 0s 8ms/step - loss: 1.0013 - accuracy: 0.6487 - val_loss: 1.3407 - val_accuracy: 0.5133\n",
            "Epoch 25/100\n",
            "52/52 [==============================] - 0s 8ms/step - loss: 0.9816 - accuracy: 0.6463 - val_loss: 1.4306 - val_accuracy: 0.4383\n",
            "Epoch 26/100\n",
            "52/52 [==============================] - 0s 8ms/step - loss: 0.9282 - accuracy: 0.6693 - val_loss: 1.3778 - val_accuracy: 0.4165\n",
            "Epoch 27/100\n",
            "52/52 [==============================] - 0s 8ms/step - loss: 0.9123 - accuracy: 0.6844 - val_loss: 1.4969 - val_accuracy: 0.3341\n",
            "Epoch 28/100\n",
            "52/52 [==============================] - 0s 8ms/step - loss: 0.8758 - accuracy: 0.6929 - val_loss: 1.2722 - val_accuracy: 0.4818\n",
            "Epoch 29/100\n",
            "52/52 [==============================] - 0s 8ms/step - loss: 0.8114 - accuracy: 0.7262 - val_loss: 1.0231 - val_accuracy: 0.7046\n",
            "Epoch 30/100\n",
            "52/52 [==============================] - 0s 8ms/step - loss: 0.7834 - accuracy: 0.7329 - val_loss: 1.1503 - val_accuracy: 0.6077\n",
            "Epoch 31/100\n",
            "52/52 [==============================] - 0s 8ms/step - loss: 0.7424 - accuracy: 0.7505 - val_loss: 1.0784 - val_accuracy: 0.6586\n",
            "Epoch 32/100\n",
            "52/52 [==============================] - 0s 8ms/step - loss: 0.7199 - accuracy: 0.7529 - val_loss: 1.1341 - val_accuracy: 0.5448\n",
            "Epoch 33/100\n",
            "52/52 [==============================] - 0s 8ms/step - loss: 0.6679 - accuracy: 0.7880 - val_loss: 0.9182 - val_accuracy: 0.7506\n",
            "Epoch 34/100\n",
            "52/52 [==============================] - 0s 8ms/step - loss: 0.6279 - accuracy: 0.8092 - val_loss: 0.8695 - val_accuracy: 0.7627\n",
            "Epoch 35/100\n",
            "52/52 [==============================] - 0s 8ms/step - loss: 0.6093 - accuracy: 0.7983 - val_loss: 0.9744 - val_accuracy: 0.7046\n",
            "Epoch 36/100\n",
            "52/52 [==============================] - 0s 8ms/step - loss: 0.5761 - accuracy: 0.8153 - val_loss: 0.8349 - val_accuracy: 0.7724\n",
            "Epoch 37/100\n",
            "52/52 [==============================] - 0s 8ms/step - loss: 0.5571 - accuracy: 0.8243 - val_loss: 0.7463 - val_accuracy: 0.8111\n",
            "Epoch 38/100\n",
            "52/52 [==============================] - 0s 8ms/step - loss: 0.5262 - accuracy: 0.8437 - val_loss: 0.5541 - val_accuracy: 0.8886\n",
            "Epoch 39/100\n",
            "52/52 [==============================] - 0s 8ms/step - loss: 0.5026 - accuracy: 0.8486 - val_loss: 0.7277 - val_accuracy: 0.8136\n",
            "Epoch 40/100\n",
            "52/52 [==============================] - 0s 8ms/step - loss: 0.4708 - accuracy: 0.8631 - val_loss: 0.5775 - val_accuracy: 0.8692\n",
            "Epoch 41/100\n",
            "52/52 [==============================] - 0s 8ms/step - loss: 0.4270 - accuracy: 0.8843 - val_loss: 0.4317 - val_accuracy: 0.9225\n",
            "Epoch 42/100\n",
            "52/52 [==============================] - 0s 8ms/step - loss: 0.4290 - accuracy: 0.8807 - val_loss: 0.4269 - val_accuracy: 0.9443\n",
            "Epoch 43/100\n",
            "52/52 [==============================] - 0s 8ms/step - loss: 0.3944 - accuracy: 0.8958 - val_loss: 0.3484 - val_accuracy: 0.9613\n",
            "Epoch 44/100\n",
            "52/52 [==============================] - 0s 8ms/step - loss: 0.3910 - accuracy: 0.8861 - val_loss: 0.4763 - val_accuracy: 0.9370\n",
            "Epoch 45/100\n",
            "52/52 [==============================] - 0s 8ms/step - loss: 0.3410 - accuracy: 0.9128 - val_loss: 0.4045 - val_accuracy: 0.9346\n",
            "Epoch 46/100\n",
            "52/52 [==============================] - 0s 8ms/step - loss: 0.3267 - accuracy: 0.9164 - val_loss: 0.3418 - val_accuracy: 0.9516\n",
            "Epoch 47/100\n",
            "52/52 [==============================] - 0s 8ms/step - loss: 0.3152 - accuracy: 0.9182 - val_loss: 0.5007 - val_accuracy: 0.9153\n",
            "Epoch 48/100\n",
            "52/52 [==============================] - 0s 8ms/step - loss: 0.3073 - accuracy: 0.9225 - val_loss: 0.3129 - val_accuracy: 0.9540\n",
            "Epoch 49/100\n",
            "52/52 [==============================] - 0s 8ms/step - loss: 0.2874 - accuracy: 0.9249 - val_loss: 0.3073 - val_accuracy: 0.9637\n",
            "Epoch 50/100\n",
            "52/52 [==============================] - 0s 8ms/step - loss: 0.2741 - accuracy: 0.9207 - val_loss: 0.2523 - val_accuracy: 0.9588\n",
            "Epoch 51/100\n",
            "52/52 [==============================] - 0s 8ms/step - loss: 0.2539 - accuracy: 0.9388 - val_loss: 0.3115 - val_accuracy: 0.9467\n",
            "Epoch 52/100\n",
            "52/52 [==============================] - 0s 8ms/step - loss: 0.2253 - accuracy: 0.9522 - val_loss: 0.2489 - val_accuracy: 0.9588\n",
            "Epoch 53/100\n",
            "52/52 [==============================] - 0s 8ms/step - loss: 0.2219 - accuracy: 0.9491 - val_loss: 0.2913 - val_accuracy: 0.9492\n",
            "Epoch 54/100\n",
            "52/52 [==============================] - 0s 8ms/step - loss: 0.2103 - accuracy: 0.9522 - val_loss: 0.2081 - val_accuracy: 0.9831\n",
            "Epoch 55/100\n",
            "52/52 [==============================] - 0s 8ms/step - loss: 0.1923 - accuracy: 0.9594 - val_loss: 0.2239 - val_accuracy: 0.9661\n",
            "Epoch 56/100\n",
            "52/52 [==============================] - 0s 8ms/step - loss: 0.2082 - accuracy: 0.9497 - val_loss: 0.1915 - val_accuracy: 0.9831\n",
            "Epoch 57/100\n",
            "52/52 [==============================] - 0s 8ms/step - loss: 0.1967 - accuracy: 0.9570 - val_loss: 0.1970 - val_accuracy: 0.9685\n",
            "Epoch 58/100\n",
            "52/52 [==============================] - 0s 8ms/step - loss: 0.1681 - accuracy: 0.9673 - val_loss: 0.1760 - val_accuracy: 0.9734\n",
            "Epoch 59/100\n",
            "52/52 [==============================] - 0s 8ms/step - loss: 0.1628 - accuracy: 0.9679 - val_loss: 0.1863 - val_accuracy: 0.9758\n",
            "Epoch 60/100\n",
            "52/52 [==============================] - 0s 8ms/step - loss: 0.1556 - accuracy: 0.9685 - val_loss: 0.2057 - val_accuracy: 0.9661\n",
            "Epoch 61/100\n",
            "52/52 [==============================] - 0s 8ms/step - loss: 0.1445 - accuracy: 0.9709 - val_loss: 0.2388 - val_accuracy: 0.9685\n",
            "Epoch 62/100\n",
            "52/52 [==============================] - 0s 8ms/step - loss: 0.1358 - accuracy: 0.9800 - val_loss: 0.1204 - val_accuracy: 0.9952\n",
            "Epoch 63/100\n",
            "52/52 [==============================] - 0s 8ms/step - loss: 0.1367 - accuracy: 0.9733 - val_loss: 0.1287 - val_accuracy: 0.9903\n",
            "Epoch 64/100\n",
            "52/52 [==============================] - 0s 8ms/step - loss: 0.1368 - accuracy: 0.9721 - val_loss: 0.1320 - val_accuracy: 0.9831\n",
            "Epoch 65/100\n",
            "52/52 [==============================] - 0s 8ms/step - loss: 0.1267 - accuracy: 0.9764 - val_loss: 0.1692 - val_accuracy: 0.9806\n",
            "Epoch 66/100\n",
            "52/52 [==============================] - 0s 8ms/step - loss: 0.0994 - accuracy: 0.9867 - val_loss: 0.1560 - val_accuracy: 0.9879\n",
            "Epoch 67/100\n",
            "52/52 [==============================] - 0s 8ms/step - loss: 0.1004 - accuracy: 0.9836 - val_loss: 0.1423 - val_accuracy: 0.9806\n",
            "Epoch 68/100\n",
            "52/52 [==============================] - 0s 8ms/step - loss: 0.0988 - accuracy: 0.9812 - val_loss: 0.1145 - val_accuracy: 0.9927\n",
            "Epoch 69/100\n",
            "52/52 [==============================] - 0s 8ms/step - loss: 0.0881 - accuracy: 0.9879 - val_loss: 0.1100 - val_accuracy: 0.9879\n",
            "Epoch 70/100\n",
            "52/52 [==============================] - 0s 8ms/step - loss: 0.0896 - accuracy: 0.9824 - val_loss: 0.0978 - val_accuracy: 0.9879\n",
            "Epoch 71/100\n",
            "52/52 [==============================] - 0s 8ms/step - loss: 0.0986 - accuracy: 0.9788 - val_loss: 0.0946 - val_accuracy: 0.9927\n",
            "Epoch 72/100\n",
            "52/52 [==============================] - 0s 8ms/step - loss: 0.0845 - accuracy: 0.9861 - val_loss: 0.0744 - val_accuracy: 0.9903\n",
            "Epoch 73/100\n",
            "52/52 [==============================] - 0s 8ms/step - loss: 0.0902 - accuracy: 0.9843 - val_loss: 0.0724 - val_accuracy: 0.9927\n",
            "Epoch 74/100\n",
            "52/52 [==============================] - 0s 8ms/step - loss: 0.0814 - accuracy: 0.9867 - val_loss: 0.1000 - val_accuracy: 0.9855\n",
            "Epoch 75/100\n",
            "52/52 [==============================] - 0s 8ms/step - loss: 0.0672 - accuracy: 0.9945 - val_loss: 0.1126 - val_accuracy: 0.9855\n",
            "Epoch 76/100\n",
            "52/52 [==============================] - 0s 8ms/step - loss: 0.0690 - accuracy: 0.9909 - val_loss: 0.0919 - val_accuracy: 0.9879\n",
            "Epoch 77/100\n",
            "52/52 [==============================] - 0s 8ms/step - loss: 0.0666 - accuracy: 0.9915 - val_loss: 0.1001 - val_accuracy: 0.9927\n",
            "Epoch 78/100\n",
            "52/52 [==============================] - 0s 8ms/step - loss: 0.0670 - accuracy: 0.9867 - val_loss: 0.0919 - val_accuracy: 0.9903\n",
            "Epoch 79/100\n",
            "52/52 [==============================] - 0s 8ms/step - loss: 0.0619 - accuracy: 0.9915 - val_loss: 0.0685 - val_accuracy: 0.9952\n",
            "Epoch 80/100\n",
            "52/52 [==============================] - 0s 8ms/step - loss: 0.0574 - accuracy: 0.9903 - val_loss: 0.0900 - val_accuracy: 0.9879\n",
            "Epoch 81/100\n",
            "52/52 [==============================] - 0s 8ms/step - loss: 0.0562 - accuracy: 0.9915 - val_loss: 0.0838 - val_accuracy: 0.9879\n",
            "Epoch 82/100\n",
            "52/52 [==============================] - 0s 8ms/step - loss: 0.0573 - accuracy: 0.9933 - val_loss: 0.0935 - val_accuracy: 0.9879\n",
            "Epoch 83/100\n",
            "52/52 [==============================] - 0s 8ms/step - loss: 0.0481 - accuracy: 0.9939 - val_loss: 0.0610 - val_accuracy: 0.9976\n",
            "Epoch 84/100\n",
            "52/52 [==============================] - 0s 8ms/step - loss: 0.0581 - accuracy: 0.9915 - val_loss: 0.0610 - val_accuracy: 0.9952\n",
            "Epoch 85/100\n",
            "52/52 [==============================] - 0s 8ms/step - loss: 0.0485 - accuracy: 0.9945 - val_loss: 0.0715 - val_accuracy: 0.9952\n",
            "Epoch 86/100\n",
            "52/52 [==============================] - 0s 8ms/step - loss: 0.0488 - accuracy: 0.9921 - val_loss: 0.0474 - val_accuracy: 0.9976\n",
            "Epoch 87/100\n",
            "52/52 [==============================] - 0s 8ms/step - loss: 0.0577 - accuracy: 0.9915 - val_loss: 0.0632 - val_accuracy: 0.9879\n",
            "Epoch 88/100\n",
            "52/52 [==============================] - 0s 8ms/step - loss: 0.0471 - accuracy: 0.9945 - val_loss: 0.0694 - val_accuracy: 0.9952\n",
            "Epoch 89/100\n",
            "52/52 [==============================] - 0s 8ms/step - loss: 0.0358 - accuracy: 0.9952 - val_loss: 0.0590 - val_accuracy: 0.9879\n",
            "Epoch 90/100\n",
            "52/52 [==============================] - 0s 8ms/step - loss: 0.0368 - accuracy: 0.9964 - val_loss: 0.0387 - val_accuracy: 0.9952\n",
            "Epoch 91/100\n",
            "52/52 [==============================] - 0s 8ms/step - loss: 0.0397 - accuracy: 0.9952 - val_loss: 0.0372 - val_accuracy: 0.9927\n",
            "Epoch 92/100\n",
            "52/52 [==============================] - 0s 8ms/step - loss: 0.0355 - accuracy: 0.9964 - val_loss: 0.0411 - val_accuracy: 0.9927\n",
            "Epoch 93/100\n",
            "52/52 [==============================] - 0s 8ms/step - loss: 0.0462 - accuracy: 0.9915 - val_loss: 0.0367 - val_accuracy: 0.9952\n",
            "Epoch 94/100\n",
            "52/52 [==============================] - 0s 8ms/step - loss: 0.0412 - accuracy: 0.9921 - val_loss: 0.0658 - val_accuracy: 0.9855\n",
            "Epoch 95/100\n",
            "52/52 [==============================] - 0s 8ms/step - loss: 0.0287 - accuracy: 0.9988 - val_loss: 0.0461 - val_accuracy: 0.9903\n",
            "Epoch 96/100\n",
            "52/52 [==============================] - 0s 8ms/step - loss: 0.0338 - accuracy: 0.9970 - val_loss: 0.0676 - val_accuracy: 0.9903\n",
            "Epoch 97/100\n",
            "52/52 [==============================] - 0s 8ms/step - loss: 0.0353 - accuracy: 0.9952 - val_loss: 0.0564 - val_accuracy: 0.9903\n",
            "Epoch 98/100\n",
            "52/52 [==============================] - 0s 8ms/step - loss: 0.0441 - accuracy: 0.9909 - val_loss: 0.0444 - val_accuracy: 0.9927\n",
            "Epoch 99/100\n",
            "52/52 [==============================] - 0s 8ms/step - loss: 0.0403 - accuracy: 0.9933 - val_loss: 0.0571 - val_accuracy: 0.9903\n",
            "Epoch 100/100\n",
            "52/52 [==============================] - 0s 8ms/step - loss: 0.0298 - accuracy: 0.9970 - val_loss: 0.0503 - val_accuracy: 0.9952\n"
          ]
        }
      ]
    },
    {
      "cell_type": "code",
      "metadata": {
        "colab": {
          "base_uri": "https://localhost:8080/",
          "height": 349
        },
        "id": "H8GYwZflN0ze",
        "outputId": "68ca8b5b-82f1-43f1-e33a-d8ee8bf35aec"
      },
      "source": [
        "predicted_labels_cnn_3 = CNN_model_3.predict(np.transpose(test_features_reshaped, (0, 2, 1)))\n",
        "evaluate(test_labels_categorical, predicted_labels_cnn_3, is_categorical=True)"
      ],
      "execution_count": 25,
      "outputs": [
        {
          "output_type": "stream",
          "name": "stdout",
          "text": [
            "Accuracy: 0.22388059701492538\n",
            "Precision: 0.21115954911021326\n",
            "Recall: 0.20085666397204335\n",
            "F1 score: 0.20368267637290846\n"
          ]
        },
        {
          "output_type": "display_data",
          "data": {
            "image/png": "[encoded data removed]",
            "text/plain": [
              "<Figure size 432x288 with 2 Axes>"
            ]
          },
          "metadata": {
            "needs_background": "light"
          }
        }
      ]
    },
    {
      "cell_type": "markdown",
      "metadata": {
        "id": "VIxgHPzCUxmB"
      },
      "source": [
        "## Ensemble Learning"
      ]
    },
    {
      "cell_type": "code",
      "metadata": {
        "colab": {
          "base_uri": "https://localhost:8080/",
          "height": 462
        },
        "id": "g8FmRtL2Uyo8",
        "outputId": "1b856ece-800a-4866-a57d-4ba650723c9b"
      },
      "source": [
        "from self_paced_ensemble import SelfPacedEnsembleClassifier\n",
        "\n",
        "clf = SelfPacedEnsembleClassifier(base_estimator=RandomForestClassifier(max_depth=5, random_state=0, verbose=True), n_estimators=5)\n",
        "\n",
        "\n",
        "clf.fit(train_features, train_labels)\n"
      ],
      "execution_count": 54,
      "outputs": [
        {
          "output_type": "stream",
          "name": "stderr",
          "text": [
            "/usr/local/lib/python3.7/dist-packages/sklearn/utils/validation.py:1679: FutureWarning: Feature names only support names that are all strings. Got feature names with dtypes: ['tuple']. An error will be raised in 1.2.\n",
            "  FutureWarning,\n",
            "[Parallel(n_jobs=1)]: Using backend SequentialBackend with 1 concurrent workers.\n",
            "[Parallel(n_jobs=1)]: Done 100 out of 100 | elapsed:    0.7s finished\n",
            "[Parallel(n_jobs=1)]: Using backend SequentialBackend with 1 concurrent workers.\n",
            "[Parallel(n_jobs=1)]: Done 100 out of 100 | elapsed:    0.0s finished\n"
          ]
        },
        {
          "output_type": "error",
          "ename": "ValueError",
          "evalue": "ignored",
          "traceback": [
            "\u001b[0;31m---------------------------------------------------------------------------\u001b[0m",
            "\u001b[0;31mValueError\u001b[0m                                Traceback (most recent call last)",
            "\u001b[0;32m<ipython-input-54-367511d5b4cb>\u001b[0m in \u001b[0;36m<module>\u001b[0;34m()\u001b[0m\n\u001b[1;32m      4\u001b[0m \u001b[0;34m\u001b[0m\u001b[0m\n\u001b[1;32m      5\u001b[0m \u001b[0;34m\u001b[0m\u001b[0m\n\u001b[0;32m----> 6\u001b[0;31m \u001b[0mclf\u001b[0m\u001b[0;34m.\u001b[0m\u001b[0mfit\u001b[0m\u001b[0;34m(\u001b[0m\u001b[0mtrain_features\u001b[0m\u001b[0;34m,\u001b[0m \u001b[0mtrain_labels\u001b[0m\u001b[0;34m)\u001b[0m\u001b[0;34m\u001b[0m\u001b[0;34m\u001b[0m\u001b[0m\n\u001b[0m",
            "\u001b[0;32m/usr/local/lib/python3.7/dist-packages/self_paced_ensemble/self_paced_ensemble/_self_paced_ensemble.py\u001b[0m in \u001b[0;36mfit\u001b[0;34m(self, X, y, sample_weight, **kwargs)\u001b[0m\n\u001b[1;32m    319\u001b[0m         \"\"\"\n\u001b[1;32m    320\u001b[0m         return super().fit(\n\u001b[0;32m--> 321\u001b[0;31m             \u001b[0mX\u001b[0m\u001b[0;34m,\u001b[0m \u001b[0my\u001b[0m\u001b[0;34m,\u001b[0m \u001b[0msample_weight\u001b[0m\u001b[0;34m=\u001b[0m\u001b[0msample_weight\u001b[0m\u001b[0;34m,\u001b[0m \u001b[0;34m**\u001b[0m\u001b[0mkwargs\u001b[0m\u001b[0;34m\u001b[0m\u001b[0;34m\u001b[0m\u001b[0m\n\u001b[0m\u001b[1;32m    322\u001b[0m         )\n\u001b[1;32m    323\u001b[0m \u001b[0;34m\u001b[0m\u001b[0m\n",
            "\u001b[0;32m/usr/local/lib/python3.7/dist-packages/self_paced_ensemble/utils/_validation.py\u001b[0m in \u001b[0;36minner_f\u001b[0;34m(*args, **kwargs)\u001b[0m\n\u001b[1;32m    562\u001b[0m             )\n\u001b[1;32m    563\u001b[0m         \u001b[0mkwargs\u001b[0m\u001b[0;34m.\u001b[0m\u001b[0mupdate\u001b[0m\u001b[0;34m(\u001b[0m\u001b[0;34m{\u001b[0m\u001b[0mk\u001b[0m\u001b[0;34m:\u001b[0m \u001b[0marg\u001b[0m \u001b[0;32mfor\u001b[0m \u001b[0mk\u001b[0m\u001b[0;34m,\u001b[0m \u001b[0marg\u001b[0m \u001b[0;32min\u001b[0m \u001b[0mzip\u001b[0m\u001b[0;34m(\u001b[0m\u001b[0msig\u001b[0m\u001b[0;34m.\u001b[0m\u001b[0mparameters\u001b[0m\u001b[0;34m,\u001b[0m \u001b[0margs\u001b[0m\u001b[0;34m)\u001b[0m\u001b[0;34m}\u001b[0m\u001b[0;34m)\u001b[0m\u001b[0;34m\u001b[0m\u001b[0;34m\u001b[0m\u001b[0m\n\u001b[0;32m--> 564\u001b[0;31m         \u001b[0;32mreturn\u001b[0m \u001b[0mf\u001b[0m\u001b[0;34m(\u001b[0m\u001b[0;34m**\u001b[0m\u001b[0mkwargs\u001b[0m\u001b[0;34m)\u001b[0m\u001b[0;34m\u001b[0m\u001b[0;34m\u001b[0m\u001b[0m\n\u001b[0m\u001b[1;32m    565\u001b[0m \u001b[0;34m\u001b[0m\u001b[0m\n\u001b[1;32m    566\u001b[0m     \u001b[0;32mreturn\u001b[0m \u001b[0minner_f\u001b[0m\u001b[0;34m\u001b[0m\u001b[0;34m\u001b[0m\u001b[0m\n",
            "\u001b[0;32m/usr/local/lib/python3.7/dist-packages/self_paced_ensemble/self_paced_ensemble/base.py\u001b[0m in \u001b[0;36mfit\u001b[0;34m(self, X, y, sample_weight, **kwargs)\u001b[0m\n\u001b[1;32m    506\u001b[0m         \u001b[0mself\u001b[0m\u001b[0;34m.\u001b[0m\u001b[0mestimators_\u001b[0m\u001b[0;34m,\u001b[0m \u001b[0mself\u001b[0m\u001b[0;34m.\u001b[0m\u001b[0mestimators_features_\u001b[0m \u001b[0;34m=\u001b[0m \u001b[0;34m[\u001b[0m\u001b[0;34m]\u001b[0m\u001b[0;34m,\u001b[0m \u001b[0;34m[\u001b[0m\u001b[0;34m]\u001b[0m\u001b[0;34m\u001b[0m\u001b[0;34m\u001b[0m\u001b[0m\n\u001b[1;32m    507\u001b[0m \u001b[0;34m\u001b[0m\u001b[0m\n\u001b[0;32m--> 508\u001b[0;31m         \u001b[0;32mreturn\u001b[0m \u001b[0mself\u001b[0m\u001b[0;34m.\u001b[0m\u001b[0m_fit\u001b[0m\u001b[0;34m(\u001b[0m\u001b[0mX\u001b[0m\u001b[0;34m,\u001b[0m \u001b[0my\u001b[0m\u001b[0;34m,\u001b[0m \u001b[0msample_weight\u001b[0m\u001b[0;34m=\u001b[0m\u001b[0msample_weight\u001b[0m\u001b[0;34m,\u001b[0m \u001b[0;34m**\u001b[0m\u001b[0mkwargs\u001b[0m\u001b[0;34m)\u001b[0m\u001b[0;34m\u001b[0m\u001b[0;34m\u001b[0m\u001b[0m\n\u001b[0m\u001b[1;32m    509\u001b[0m \u001b[0;34m\u001b[0m\u001b[0m\n\u001b[1;32m    510\u001b[0m \u001b[0;34m\u001b[0m\u001b[0m\n",
            "\u001b[0;32m/usr/local/lib/python3.7/dist-packages/self_paced_ensemble/utils/_validation.py\u001b[0m in \u001b[0;36minner_f\u001b[0;34m(*args, **kwargs)\u001b[0m\n\u001b[1;32m    562\u001b[0m             )\n\u001b[1;32m    563\u001b[0m         \u001b[0mkwargs\u001b[0m\u001b[0;34m.\u001b[0m\u001b[0mupdate\u001b[0m\u001b[0;34m(\u001b[0m\u001b[0;34m{\u001b[0m\u001b[0mk\u001b[0m\u001b[0;34m:\u001b[0m \u001b[0marg\u001b[0m \u001b[0;32mfor\u001b[0m \u001b[0mk\u001b[0m\u001b[0;34m,\u001b[0m \u001b[0marg\u001b[0m \u001b[0;32min\u001b[0m \u001b[0mzip\u001b[0m\u001b[0;34m(\u001b[0m\u001b[0msig\u001b[0m\u001b[0;34m.\u001b[0m\u001b[0mparameters\u001b[0m\u001b[0;34m,\u001b[0m \u001b[0margs\u001b[0m\u001b[0;34m)\u001b[0m\u001b[0;34m}\u001b[0m\u001b[0;34m)\u001b[0m\u001b[0;34m\u001b[0m\u001b[0;34m\u001b[0m\u001b[0m\n\u001b[0;32m--> 564\u001b[0;31m         \u001b[0;32mreturn\u001b[0m \u001b[0mf\u001b[0m\u001b[0;34m(\u001b[0m\u001b[0;34m**\u001b[0m\u001b[0mkwargs\u001b[0m\u001b[0;34m)\u001b[0m\u001b[0;34m\u001b[0m\u001b[0;34m\u001b[0m\u001b[0m\n\u001b[0m\u001b[1;32m    565\u001b[0m \u001b[0;34m\u001b[0m\u001b[0m\n\u001b[1;32m    566\u001b[0m     \u001b[0;32mreturn\u001b[0m \u001b[0minner_f\u001b[0m\u001b[0;34m\u001b[0m\u001b[0;34m\u001b[0m\u001b[0m\n",
            "\u001b[0;32m/usr/local/lib/python3.7/dist-packages/self_paced_ensemble/self_paced_ensemble/_self_paced_ensemble.py\u001b[0m in \u001b[0;36m_fit\u001b[0;34m(self, X, y, sample_weight, target_label, n_target_samples, balancing_schedule, eval_datasets, eval_metrics, train_verbose)\u001b[0m\n\u001b[1;32m    399\u001b[0m \u001b[0;34m\u001b[0m\u001b[0m\n\u001b[1;32m    400\u001b[0m             \u001b[0;31m# update self.y_pred_proba_latest\u001b[0m\u001b[0;34m\u001b[0m\u001b[0;34m\u001b[0m\u001b[0;34m\u001b[0m\u001b[0m\n\u001b[0;32m--> 401\u001b[0;31m             \u001b[0mself\u001b[0m\u001b[0;34m.\u001b[0m\u001b[0m_update_cached_prediction_probabilities\u001b[0m\u001b[0;34m(\u001b[0m\u001b[0mi_iter\u001b[0m\u001b[0;34m,\u001b[0m \u001b[0mX\u001b[0m\u001b[0;34m)\u001b[0m\u001b[0;34m\u001b[0m\u001b[0;34m\u001b[0m\u001b[0m\n\u001b[0m\u001b[1;32m    402\u001b[0m \u001b[0;34m\u001b[0m\u001b[0m\n\u001b[1;32m    403\u001b[0m             \u001b[0;31m# compute alpha\u001b[0m\u001b[0;34m\u001b[0m\u001b[0;34m\u001b[0m\u001b[0;34m\u001b[0m\u001b[0m\n",
            "\u001b[0;32m/usr/local/lib/python3.7/dist-packages/self_paced_ensemble/self_paced_ensemble/_self_paced_ensemble.py\u001b[0m in \u001b[0;36m_update_cached_prediction_probabilities\u001b[0;34m(self, i_iter, X)\u001b[0m\n\u001b[1;32m    441\u001b[0m             \u001b[0my_pred_proba_latest\u001b[0m \u001b[0;34m=\u001b[0m \u001b[0mself\u001b[0m\u001b[0;34m.\u001b[0m\u001b[0my_pred_proba_latest\u001b[0m\u001b[0;34m\u001b[0m\u001b[0;34m\u001b[0m\u001b[0m\n\u001b[1;32m    442\u001b[0m             \u001b[0my_pred_proba_new\u001b[0m \u001b[0;34m=\u001b[0m \u001b[0mself\u001b[0m\u001b[0;34m.\u001b[0m\u001b[0mestimators_\u001b[0m\u001b[0;34m[\u001b[0m\u001b[0;34m-\u001b[0m\u001b[0;36m1\u001b[0m\u001b[0;34m]\u001b[0m\u001b[0;34m.\u001b[0m\u001b[0mpredict_proba\u001b[0m\u001b[0;34m(\u001b[0m\u001b[0mX\u001b[0m\u001b[0;34m)\u001b[0m\u001b[0;34m\u001b[0m\u001b[0;34m\u001b[0m\u001b[0m\n\u001b[0;32m--> 443\u001b[0;31m             \u001b[0mself\u001b[0m\u001b[0;34m.\u001b[0m\u001b[0my_pred_proba_latest\u001b[0m \u001b[0;34m=\u001b[0m \u001b[0;34m(\u001b[0m\u001b[0my_pred_proba_latest\u001b[0m \u001b[0;34m*\u001b[0m \u001b[0mi_iter\u001b[0m \u001b[0;34m+\u001b[0m \u001b[0my_pred_proba_new\u001b[0m\u001b[0;34m)\u001b[0m \u001b[0;34m/\u001b[0m \u001b[0;34m(\u001b[0m\u001b[0mi_iter\u001b[0m\u001b[0;34m+\u001b[0m\u001b[0;36m1\u001b[0m\u001b[0;34m)\u001b[0m\u001b[0;34m\u001b[0m\u001b[0;34m\u001b[0m\u001b[0m\n\u001b[0m\u001b[1;32m    444\u001b[0m         \u001b[0;32mreturn\u001b[0m\u001b[0;34m\u001b[0m\u001b[0;34m\u001b[0m\u001b[0m\n\u001b[1;32m    445\u001b[0m \u001b[0;34m\u001b[0m\u001b[0m\n",
            "\u001b[0;31mValueError\u001b[0m: operands could not be broadcast together with shapes (1249,6) (1249,5) "
          ]
        }
      ]
    }
  ]
}