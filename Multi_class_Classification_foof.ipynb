{
  "cells": [
    {
      "cell_type": "code",
      "execution_count": 11,
      "metadata": {
        "colab": {
          "base_uri": "https://localhost:8080/"
        },
        "id": "IjsCisv7FvHs",
        "outputId": "8f558ce7-4833-4802-ba19-b3b3dad61e5b"
      },
      "outputs": [],
      "source": [
        "import scipy.io\n",
        "import numpy as np\n",
        "import pandas as pd\n",
        "import matplotlib.pyplot as plt\n",
        "\n",
        "from sklearn.model_selection import train_test_split\n",
        "from imblearn.over_sampling import SMOTE\n",
        "\n",
        "import tensorflow as tf\n",
        "from tensorflow.keras.models import Model, load_model\n",
        "from tensorflow.keras.layers import Input, Dense, LeakyReLU, BatchNormalization\n",
        "from tensorflow.keras.utils import plot_model, to_categorical\n"
      ]
    },
    {
      "cell_type": "markdown",
      "metadata": {
        "id": "LKPjAw07FvH2"
      },
      "source": [
        "## Data Loading and Processing"
      ]
    },
    {
      "cell_type": "code",
      "execution_count": 12,
      "metadata": {
        "colab": {
          "base_uri": "https://localhost:8080/"
        },
        "id": "IyFwAfLNFvH6",
        "outputId": "35082a38-2a56-481f-d0c7-0bf0497a2b9f"
      },
      "outputs": [],
      "source": [
        "labels = pd.read_csv(\"table_withlabels.csv\")\n",
        "foof = pd.read_csv(\"foof2features.csv\")\n",
        "beh = pd.read_csv(\"behaviorals.csv\")"
      ]
    },
    {
      "cell_type": "code",
      "execution_count": 13,
      "metadata": {},
      "outputs": [
        {
          "name": "stdout",
          "output_type": "stream",
          "text": [
            "Other Neurodevelopmental Disorders    492\n",
            "ADHD-Inattentive Type                 388\n",
            "ADHD-Combined Type                    376\n",
            "Anxiety Disorders                     241\n",
            "No Diagnosis Given                    203\n",
            "Depressive Disorders                   85\n",
            "Name: label, dtype: int64\n"
          ]
        },
        {
          "data": {
            "text/html": [
              "<div>\n",
              "<style scoped>\n",
              "    .dataframe tbody tr th:only-of-type {\n",
              "        vertical-align: middle;\n",
              "    }\n",
              "\n",
              "    .dataframe tbody tr th {\n",
              "        vertical-align: top;\n",
              "    }\n",
              "\n",
              "    .dataframe thead th {\n",
              "        text-align: right;\n",
              "    }\n",
              "</style>\n",
              "<table border=\"1\" class=\"dataframe\">\n",
              "  <thead>\n",
              "    <tr style=\"text-align: right;\">\n",
              "      <th></th>\n",
              "      <th>C2</th>\n",
              "      <th>C3</th>\n",
              "      <th>IDs</th>\n",
              "      <th>label</th>\n",
              "    </tr>\n",
              "  </thead>\n",
              "  <tbody>\n",
              "    <tr>\n",
              "      <th>0</th>\n",
              "      <td>0.986272</td>\n",
              "      <td>1.825774</td>\n",
              "      <td>NDARAA075AMK</td>\n",
              "      <td>No Diagnosis Given</td>\n",
              "    </tr>\n",
              "    <tr>\n",
              "      <th>1</th>\n",
              "      <td>1.486650</td>\n",
              "      <td>1.888544</td>\n",
              "      <td>NDARAA112DMH</td>\n",
              "      <td>ADHD-Combined Type</td>\n",
              "    </tr>\n",
              "    <tr>\n",
              "      <th>2</th>\n",
              "      <td>1.593155</td>\n",
              "      <td>2.095749</td>\n",
              "      <td>NDARAA117NEJ</td>\n",
              "      <td>ADHD-Combined Type</td>\n",
              "    </tr>\n",
              "    <tr>\n",
              "      <th>3</th>\n",
              "      <td>0.703331</td>\n",
              "      <td>1.724831</td>\n",
              "      <td>NDARAA947ZG5</td>\n",
              "      <td>ADHD-Combined Type</td>\n",
              "    </tr>\n",
              "    <tr>\n",
              "      <th>4</th>\n",
              "      <td>0.918020</td>\n",
              "      <td>1.749441</td>\n",
              "      <td>NDARAA948VFH</td>\n",
              "      <td>ADHD-Combined Type</td>\n",
              "    </tr>\n",
              "    <tr>\n",
              "      <th>...</th>\n",
              "      <td>...</td>\n",
              "      <td>...</td>\n",
              "      <td>...</td>\n",
              "      <td>...</td>\n",
              "    </tr>\n",
              "    <tr>\n",
              "      <th>1780</th>\n",
              "      <td>0.168009</td>\n",
              "      <td>0.205704</td>\n",
              "      <td>NDARZN148PMN</td>\n",
              "      <td>Anxiety Disorders</td>\n",
              "    </tr>\n",
              "    <tr>\n",
              "      <th>1781</th>\n",
              "      <td>1.351549</td>\n",
              "      <td>1.996940</td>\n",
              "      <td>NDARZN277NR6</td>\n",
              "      <td>ADHD-Combined Type</td>\n",
              "    </tr>\n",
              "    <tr>\n",
              "      <th>1782</th>\n",
              "      <td>0.339229</td>\n",
              "      <td>1.050644</td>\n",
              "      <td>NDARZN610GTY</td>\n",
              "      <td>Other Neurodevelopmental Disorders</td>\n",
              "    </tr>\n",
              "    <tr>\n",
              "      <th>1783</th>\n",
              "      <td>0.781225</td>\n",
              "      <td>1.470061</td>\n",
              "      <td>NDARZN677EYE</td>\n",
              "      <td>ADHD-Inattentive Type</td>\n",
              "    </tr>\n",
              "    <tr>\n",
              "      <th>1784</th>\n",
              "      <td>0.464107</td>\n",
              "      <td>1.664433</td>\n",
              "      <td>NDARZN899JCM</td>\n",
              "      <td>ADHD-Inattentive Type</td>\n",
              "    </tr>\n",
              "  </tbody>\n",
              "</table>\n",
              "<p>1785 rows × 4 columns</p>\n",
              "</div>"
            ],
            "text/plain": [
              "            C2        C3           IDs                               label\n",
              "0     0.986272  1.825774  NDARAA075AMK                  No Diagnosis Given\n",
              "1     1.486650  1.888544  NDARAA112DMH                  ADHD-Combined Type\n",
              "2     1.593155  2.095749  NDARAA117NEJ                  ADHD-Combined Type\n",
              "3     0.703331  1.724831  NDARAA947ZG5                  ADHD-Combined Type\n",
              "4     0.918020  1.749441  NDARAA948VFH                  ADHD-Combined Type\n",
              "...        ...       ...           ...                                 ...\n",
              "1780  0.168009  0.205704  NDARZN148PMN                   Anxiety Disorders\n",
              "1781  1.351549  1.996940  NDARZN277NR6                  ADHD-Combined Type\n",
              "1782  0.339229  1.050644  NDARZN610GTY  Other Neurodevelopmental Disorders\n",
              "1783  0.781225  1.470061  NDARZN677EYE               ADHD-Inattentive Type\n",
              "1784  0.464107  1.664433  NDARZN899JCM               ADHD-Inattentive Type\n",
              "\n",
              "[1785 rows x 4 columns]"
            ]
          },
          "execution_count": 13,
          "metadata": {},
          "output_type": "execute_result"
        }
      ],
      "source": [
        "foof['IDs'] = foof['C1']\n",
        "df = pd.merge(foof, labels[['label', 'IDs']], on='IDs', how='inner')\n",
        "df = df.drop(columns=['C1'])\n",
        "print(df['label'].value_counts())\n",
        "df"
      ]
    },
    {
      "cell_type": "code",
      "execution_count": 14,
      "metadata": {},
      "outputs": [],
      "source": [
        "# add labels\n",
        "pd.options.mode.chained_assignment = None\n",
        "\n",
        "df.label[df.label == 'Other Neurodevelopmental Disorders'] = 1\n",
        "df.label[df.label == 'ADHD-Inattentive Type'] = 2\n",
        "df.label[df.label == 'ADHD-Combined Type'] = 3\n",
        "df.label[df.label == 'Anxiety Disorders'] = 4\n",
        "df.label[df.label == 'No Diagnosis Given'] = 5\n",
        "df.label[df.label == 'Depressive Disorders'] = 6\n",
        "df.label = df['label'].astype(int)\n",
        "labels = ['Other Neurodevelopmental Disorders', 'ADHD-Inattentive Type', 'ADHD-Combined Type', 'Anxiety Disorders', 'No Diagnosis Given', 'Depressive Disorders']"
      ]
    },
    {
      "cell_type": "code",
      "execution_count": 15,
      "metadata": {},
      "outputs": [
        {
          "name": "stdout",
          "output_type": "stream",
          "text": [
            "(357,)\n",
            "(1428,)\n",
            "(357, 2)\n",
            "(1428, 2)\n"
          ]
        }
      ],
      "source": [
        "train_df, test_df = train_test_split(df, test_size=0.2)\n",
        "train_labels, test_labels = train_df['label'], test_df['label']\n",
        "train_df.shape\n",
        "print(test_labels.shape)\n",
        "print(train_labels.shape)\n",
        "train_features = train_df[train_df.columns.difference(['IDs', 'label'])]\n",
        "test_features = test_df[test_df.columns.difference(['IDs', 'label'])]\n",
        "print(test_features.shape)\n",
        "print(train_features.shape)"
      ]
    },
    {
      "cell_type": "markdown",
      "metadata": {
        "id": "HQC-Wm64FvID"
      },
      "source": [
        "## Dealing with imbalance"
      ]
    },
    {
      "cell_type": "code",
      "execution_count": 16,
      "metadata": {
        "colab": {
          "base_uri": "https://localhost:8080/"
        },
        "id": "qkZ5dnh7FvID",
        "outputId": "86d0b1ef-ba97-4e44-caa1-f0971ac94899"
      },
      "outputs": [
        {
          "name": "stdout",
          "output_type": "stream",
          "text": [
            "(2358, 2)\n",
            "(2358,)\n"
          ]
        }
      ],
      "source": [
        "oversample = SMOTE()\n",
        "train_features_oversampled, train_labels_oversampled = oversample.fit_resample(train_features, train_labels)\n",
        "print(train_features_oversampled.shape)\n",
        "print(train_labels_oversampled.shape)"
      ]
    },
    {
      "cell_type": "code",
      "execution_count": 17,
      "metadata": {
        "id": "Tms2OlNbuvUf"
      },
      "outputs": [],
      "source": [
        "# scaling the data\n",
        "from sklearn.preprocessing import StandardScaler\n",
        "\n",
        "scaler = StandardScaler()\n",
        "train_features_oversampled = scaler.fit_transform(train_features_oversampled) \n",
        "test_features = scaler.transform(test_features)\n",
        "\n",
        "train_features_oversampled = np.clip(train_features_oversampled, -5, 5)\n",
        "test_features = np.clip(test_features, -5, 5)"
      ]
    },
    {
      "cell_type": "code",
      "execution_count": 18,
      "metadata": {},
      "outputs": [
        {
          "name": "stdout",
          "output_type": "stream",
          "text": [
            "(2358, 2)\n",
            "(2358,)\n"
          ]
        }
      ],
      "source": [
        "print(train_features_oversampled.shape)\n",
        "print(train_labels_oversampled.shape)"
      ]
    },
    {
      "cell_type": "markdown",
      "metadata": {
        "id": "vGEV__DRFvIE"
      },
      "source": [
        "## Linear Models"
      ]
    },
    {
      "cell_type": "markdown",
      "metadata": {
        "id": "DUCdA5b6FvIF"
      },
      "source": [
        "### SVC"
      ]
    },
    {
      "cell_type": "code",
      "execution_count": 19,
      "metadata": {
        "colab": {
          "base_uri": "https://localhost:8080/"
        },
        "id": "g-MNQL01FvIF",
        "outputId": "9190831d-a60d-4164-bc72-35d301fe5dce"
      },
      "outputs": [
        {
          "name": "stdout",
          "output_type": "stream",
          "text": [
            "[LibSVM].\n",
            "Warning: using -h 0 may be faster\n",
            "*\n",
            "optimization finished, #iter = 1064\n",
            "obj = -764.757894, rho = -0.318171\n",
            "nSV = 766, nBSV = 763\n",
            ".\n",
            "Warning: using -h 0 may be faster\n",
            "*\n",
            "optimization finished, #iter = 800\n",
            "obj = -748.510563, rho = 0.089375\n",
            "nSV = 750, nBSV = 747\n",
            ".*.\n",
            "Warning: using -h 0 may be faster\n",
            "*\n",
            "optimization finished, #iter = 1082\n",
            "obj = -756.619599, rho = -0.344603\n",
            "nSV = 758, nBSV = 755\n",
            ".*\n",
            "optimization finished, #iter = 807\n",
            "obj = -769.667648, rho = 0.088493\n",
            "nSV = 771, nBSV = 768\n",
            ".\n",
            "Warning: using -h 0 may be faster\n",
            "*\n",
            "optimization finished, #iter = 1094\n",
            "obj = -571.634381, rho = -0.231712\n",
            "nSV = 573, nBSV = 570\n",
            ".*..*\n",
            "optimization finished, #iter = 2548\n",
            "obj = -719.063116, rho = 0.017901\n",
            "nSV = 721, nBSV = 718\n",
            "*\n",
            "optimization finished, #iter = 710\n",
            "obj = -778.381956, rho = -0.508254\n",
            "nSV = 781, nBSV = 778\n",
            ".*\n",
            "optimization finished, #iter = 1213\n",
            "obj = -749.257330, rho = 0.137952\n",
            "nSV = 751, nBSV = 748\n",
            "*.\n",
            "Warning: using -h 0 may be faster\n",
            "*\n",
            "optimization finished, #iter = 787\n",
            "obj = -603.268772, rho = -0.282554\n",
            "nSV = 605, nBSV = 602\n",
            ".\n",
            "Warning: using -h 0 may be faster\n",
            "*\n",
            "optimization finished, #iter = 1389\n",
            "obj = -709.049509, rho = -0.096258\n",
            "nSV = 710, nBSV = 707\n",
            ".\n",
            "Warning: using -h 0 may be faster\n",
            "*.\n",
            "Warning: using -h 0 may be faster\n",
            "*.\n",
            "Warning: using -h 0 may be faster\n",
            "*\n",
            "optimization finished, #iter = 1434\n",
            "obj = -757.839388, rho = -0.285870\n",
            "nSV = 760, nBSV = 757\n",
            "*\n",
            "optimization finished, #iter = 696\n",
            "obj = -506.312172, rho = -0.228598\n",
            "nSV = 508, nBSV = 505\n",
            ".\n",
            "Warning: using -h 0 may be faster\n",
            "*\n",
            "optimization finished, #iter = 997\n",
            "obj = -745.149450, rho = 0.178637\n",
            "nSV = 746, nBSV = 743\n",
            ".\n",
            "Warning: using -h 0 may be faster\n",
            "*\n",
            "optimization finished, #iter = 1271\n",
            "obj = -609.463318, rho = -0.220953\n",
            "nSV = 610, nBSV = 606\n",
            ".\n",
            "Warning: using -h 0 may be faster\n",
            "*\n",
            "optimization finished, #iter = 1282\n",
            "obj = -536.584860, rho = -0.222569\n",
            "nSV = 538, nBSV = 535\n",
            "Total nSV = 2262\n"
          ]
        }
      ],
      "source": [
        "from sklearn import svm\n",
        "\n",
        "clf = svm.SVC(kernel='linear', verbose=True)\n",
        "clf.fit(train_features_oversampled, train_labels_oversampled)\n",
        "\n",
        "predicted_labels_svc = clf.predict(test_features)"
      ]
    },
    {
      "cell_type": "code",
      "execution_count": 20,
      "metadata": {
        "colab": {
          "base_uri": "https://localhost:8080/",
          "height": 351
        },
        "id": "u9flc8xoFvIG",
        "outputId": "ae6012e2-d4a2-4167-fa9f-9fd97fdc6f29"
      },
      "outputs": [
        {
          "name": "stdout",
          "output_type": "stream",
          "text": [
            "Accuracy: 0.19327731092436976\n",
            "Precision: 0.13677592249020817\n",
            "Recall: 0.20420887598102788\n",
            "F1 score: 0.1004234178108142\n"
          ]
        },
        {
          "data": {
            "image/png": "[encoded data removed]",
            "text/plain": [
              "<Figure size 432x288 with 2 Axes>"
            ]
          },
          "metadata": {
            "needs_background": "light"
          },
          "output_type": "display_data"
        }
      ],
      "source": [
        "from sklearn import metrics\n",
        "import matplotlib.pyplot as plt\n",
        "from sklearn.metrics import confusion_matrix, ConfusionMatrixDisplay\n",
        "\n",
        "def evaluate(y_test, y_pred, show_cm=True):\n",
        "    print(\"Accuracy:\", metrics.accuracy_score(y_test, y_pred))\n",
        "    print(\"Precision:\", metrics.precision_score(y_test, y_pred, average='macro'))\n",
        "    print(\"Recall:\", metrics.recall_score(y_test, y_pred, average='macro'))\n",
        "#     print(\"ROC AUC:\", metrics.roc_auc_score(y_test, y_pred, multi_class='ovo',))\n",
        "    print(\"F1 score:\", metrics.f1_score(y_test, y_pred, average='macro'))\n",
        "#     print(\"Brier Score:\", metrics.brier_score_loss(y_test, y_pred)) # only for binary classification\n",
        "\n",
        "    if show_cm:\n",
        "        cm = confusion_matrix(y_test, y_pred, labels=clf.classes_)\n",
        "        disp = ConfusionMatrixDisplay(confusion_matrix=cm, display_labels=labels)\n",
        "        disp.plot()\n",
        "        plt.tight_layout()\n",
        "        plt.show()\n",
        "\n",
        "evaluate(test_labels, predicted_labels_svc)"
      ]
    },
    {
      "cell_type": "markdown",
      "metadata": {
        "id": "LahFg05KFvIH"
      },
      "source": [
        "### OneVsRestClassifier\n",
        "The strategy consists in fitting one classifier per class. For each classifier, the class is fitted against all the other classes."
      ]
    },
    {
      "cell_type": "code",
      "execution_count": 21,
      "metadata": {
        "colab": {
          "base_uri": "https://localhost:8080/"
        },
        "id": "VScxf00iFvII",
        "outputId": "cc30ecfc-519c-40d7-828d-46322d7f20ae"
      },
      "outputs": [
        {
          "name": "stdout",
          "output_type": "stream",
          "text": [
            "[LibLinear].................................................................................\n",
            "optimization finished, #iter = 815\n",
            "Objective value = -1305.184744\n",
            "nSV = 2358\n",
            "[LibLinear]...........................................................................\n",
            "optimization finished, #iter = 756\n",
            "Objective value = -1309.884736\n",
            "nSV = 2358\n",
            "[LibLinear]................................................................................*\n",
            "optimization finished, #iter = 808\n",
            "Objective value = -1281.651344\n",
            "nSV = 2319\n",
            "[LibLinear]...................................................................\n",
            "optimization finished, #iter = 673\n",
            "Objective value = -1308.776387\n",
            "nSV = 2358\n",
            "[LibLinear]...................................................*......................................*\n",
            "optimization finished, #iter = 898\n",
            "Objective value = -1298.597450\n",
            "nSV = 2355\n",
            "[LibLinear]..............................................................................***\n",
            "optimization finished, #iter = 789\n",
            "Objective value = -1179.442554\n",
            "nSV = 2293\n"
          ]
        }
      ],
      "source": [
        "from sklearn.multiclass import OneVsRestClassifier\n",
        "from sklearn.svm import LinearSVC\n",
        "\n",
        "clf = OneVsRestClassifier(LinearSVC(random_state=0, max_iter=2000, verbose=True))\n",
        "\n",
        "clf.fit(train_features_oversampled, train_labels_oversampled)\n",
        "predicted_labels_ovr = clf.predict(test_features)"
      ]
    },
    {
      "cell_type": "code",
      "execution_count": 22,
      "metadata": {
        "colab": {
          "base_uri": "https://localhost:8080/",
          "height": 349
        },
        "id": "_AreAnOwFvII",
        "outputId": "7153dcc6-c358-412f-8a62-d9740699c95b"
      },
      "outputs": [
        {
          "name": "stdout",
          "output_type": "stream",
          "text": [
            "Accuracy: 0.19607843137254902\n",
            "Precision: 0.27597206181598194\n",
            "Recall: 0.21753876924763002\n",
            "F1 score: 0.11478696191964383\n"
          ]
        },
        {
          "name": "stderr",
          "output_type": "stream",
          "text": [
            "/home/ubuntu/anaconda3/envs/ai4halth/lib/python3.8/site-packages/sklearn/metrics/_classification.py:1308: UndefinedMetricWarning: Precision is ill-defined and being set to 0.0 in labels with no predicted samples. Use `zero_division` parameter to control this behavior.\n",
            "  _warn_prf(average, modifier, msg_start, len(result))\n"
          ]
        },
        {
          "data": {
            "image/png": "[encoded data removed]",
            "text/plain": [
              "<Figure size 432x288 with 2 Axes>"
            ]
          },
          "metadata": {
            "needs_background": "light"
          },
          "output_type": "display_data"
        }
      ],
      "source": [
        "evaluate(test_labels, predicted_labels_ovr)"
      ]
    },
    {
      "cell_type": "markdown",
      "metadata": {
        "id": "-cBrjbXzFvIJ"
      },
      "source": [
        "### OneVsOneClassifier\n",
        "OneVsOneClassifier constructs one classifier per pair of classes. At prediction time, the class which received the most votes is selected. In the event of a tie (among two classes with an equal number of votes), it selects the class with the highest aggregate classification confidence by summing over the pair-wise classification confidence levels computed by the underlying binary classifiers.\n",
        "\n"
      ]
    },
    {
      "cell_type": "code",
      "execution_count": 23,
      "metadata": {
        "colab": {
          "base_uri": "https://localhost:8080/"
        },
        "id": "ydH-4TMDFvIK",
        "outputId": "93f2a129-6729-4995-ca42-e6797e56e8b7"
      },
      "outputs": [
        {
          "name": "stdout",
          "output_type": "stream",
          "text": [
            "[LibLinear].............................................................................\n",
            "optimization finished, #iter = 773\n",
            "Objective value = -782.697225\n",
            "nSV = 786\n",
            "[LibLinear]............................................................................*...............................................................................\n",
            "optimization finished, #iter = 1557\n",
            "Objective value = -776.848836\n",
            "nSV = 786\n",
            "[LibLinear].............................................................................\n",
            "optimization finished, #iter = 773\n",
            "Objective value = -780.258380\n",
            "nSV = 786\n",
            "[LibLinear].......................................................................\n",
            "optimization finished, #iter = 717\n",
            "Objective value = -782.694567\n",
            "nSV = 786\n",
            "[LibLinear].................................................................................*............................*.*\n",
            "optimization finished, #iter = 1106\n",
            "Objective value = -672.763317\n",
            "nSV = 760\n",
            "[LibLinear]........................................................................*.*.**\n",
            "optimization finished, #iter = 746\n",
            "Objective value = -763.219973\n",
            "nSV = 785\n",
            "[LibLinear]......................................................................*........................................\n",
            "optimization finished, #iter = 1101\n",
            "Objective value = -785.465668\n",
            "nSV = 786\n",
            "[LibLinear].............................................*...............................................................\n",
            "optimization finished, #iter = 1087\n",
            "Objective value = -778.239741\n",
            "nSV = 786\n",
            "[LibLinear]...........................................................................*\n",
            "optimization finished, #iter = 756\n",
            "Objective value = -692.589146\n",
            "nSV = 765\n",
            "[LibLinear]...........................................................................\n",
            "optimization finished, #iter = 754\n",
            "Objective value = -759.689299\n",
            "nSV = 786\n",
            "[LibLinear]........................................................................\n",
            "optimization finished, #iter = 729\n",
            "Objective value = -779.970162\n",
            "nSV = 786\n",
            "[LibLinear]..............................................................................*...........................*.****.*\n",
            "optimization finished, #iter = 1071\n",
            "Objective value = -616.382319\n",
            "nSV = 754\n",
            "[LibLinear]..............................................\n",
            "optimization finished, #iter = 467\n",
            "Objective value = -777.216263\n",
            "nSV = 786\n",
            "[LibLinear]...................................................*........................***\n",
            "optimization finished, #iter = 757\n",
            "Objective value = -698.103068\n",
            "nSV = 772\n",
            "[LibLinear]...............................................*.*\n",
            "optimization finished, #iter = 482\n",
            "Objective value = -649.598654\n",
            "nSV = 758\n"
          ]
        }
      ],
      "source": [
        "from sklearn.multiclass import OneVsOneClassifier\n",
        "\n",
        "clf = OneVsOneClassifier(LinearSVC(random_state=0, max_iter = 10000, verbose=True))\n",
        "\n",
        "clf.fit(train_features_oversampled, train_labels_oversampled)\n",
        "predicted_labels_ovo = clf.predict(test_features)"
      ]
    },
    {
      "cell_type": "code",
      "execution_count": 24,
      "metadata": {
        "colab": {
          "base_uri": "https://localhost:8080/",
          "height": 349
        },
        "id": "xu-kDqPdFvIK",
        "outputId": "ebe6663e-9fa8-45b7-b1de-4d292cbc5e05"
      },
      "outputs": [
        {
          "name": "stdout",
          "output_type": "stream",
          "text": [
            "Accuracy: 0.19607843137254902\n",
            "Precision: 0.27597206181598194\n",
            "Recall: 0.21753876924763002\n",
            "F1 score: 0.11478696191964383\n"
          ]
        },
        {
          "name": "stderr",
          "output_type": "stream",
          "text": [
            "/home/ubuntu/anaconda3/envs/ai4halth/lib/python3.8/site-packages/sklearn/metrics/_classification.py:1308: UndefinedMetricWarning: Precision is ill-defined and being set to 0.0 in labels with no predicted samples. Use `zero_division` parameter to control this behavior.\n",
            "  _warn_prf(average, modifier, msg_start, len(result))\n"
          ]
        },
        {
          "data": {
            "image/png": "[encoded data removed]",
            "text/plain": [
              "<Figure size 432x288 with 2 Axes>"
            ]
          },
          "metadata": {
            "needs_background": "light"
          },
          "output_type": "display_data"
        }
      ],
      "source": [
        "evaluate(test_labels, predicted_labels_ovr)"
      ]
    },
    {
      "cell_type": "markdown",
      "metadata": {
        "id": "u_5tPjL2FvIL"
      },
      "source": [
        "### Random Forest"
      ]
    },
    {
      "cell_type": "code",
      "execution_count": 25,
      "metadata": {
        "colab": {
          "base_uri": "https://localhost:8080/"
        },
        "id": "kGIa95sQFvIL",
        "outputId": "89a9bc74-822b-4370-d357-677321cc05fb"
      },
      "outputs": [
        {
          "name": "stderr",
          "output_type": "stream",
          "text": [
            "[Parallel(n_jobs=1)]: Using backend SequentialBackend with 1 concurrent workers.\n",
            "[Parallel(n_jobs=1)]: Done 100 out of 100 | elapsed:    0.2s finished\n",
            "[Parallel(n_jobs=1)]: Using backend SequentialBackend with 1 concurrent workers.\n",
            "[Parallel(n_jobs=1)]: Done 100 out of 100 | elapsed:    0.0s finished\n"
          ]
        }
      ],
      "source": [
        "from sklearn.ensemble import RandomForestClassifier\n",
        "\n",
        "clf = RandomForestClassifier(max_depth=5, random_state=0, verbose=True)\n",
        "clf.fit(train_features_oversampled, train_labels_oversampled)\n",
        "predicted_labels_rf = clf.predict(test_features)"
      ]
    },
    {
      "cell_type": "code",
      "execution_count": 26,
      "metadata": {
        "colab": {
          "base_uri": "https://localhost:8080/",
          "height": 349
        },
        "id": "OjVFQE79FvIM",
        "outputId": "8824025c-5a44-4d2d-c4f5-4fd131169724"
      },
      "outputs": [
        {
          "name": "stdout",
          "output_type": "stream",
          "text": [
            "Accuracy: 0.16246498599439776\n",
            "Precision: 0.17122092234804961\n",
            "Recall: 0.1932864966725726\n",
            "F1 score: 0.1433041367409147\n"
          ]
        },
        {
          "data": {
            "image/png": "[encoded data removed]",
            "text/plain": [
              "<Figure size 432x288 with 2 Axes>"
            ]
          },
          "metadata": {
            "needs_background": "light"
          },
          "output_type": "display_data"
        }
      ],
      "source": [
        "evaluate(test_labels, predicted_labels_rf)"
      ]
    },
    {
      "cell_type": "markdown",
      "metadata": {
        "id": "fikPzPJkgPkW"
      },
      "source": [
        "### MLP\n"
      ]
    },
    {
      "cell_type": "code",
      "execution_count": 27,
      "metadata": {
        "colab": {
          "base_uri": "https://localhost:8080/"
        },
        "id": "eEXb2fNzgX1-",
        "outputId": "9287dbd2-9fc7-4f80-ed35-8472458b50fe"
      },
      "outputs": [
        {
          "name": "stdout",
          "output_type": "stream",
          "text": [
            "Iteration 1, loss = 1.79944915\n",
            "Iteration 2, loss = 1.76496501\n",
            "Iteration 3, loss = 1.74730261\n",
            "Iteration 4, loss = 1.73994130\n",
            "Iteration 5, loss = 1.73663292\n",
            "Iteration 6, loss = 1.73383378\n",
            "Iteration 7, loss = 1.73211852\n",
            "Iteration 8, loss = 1.73087096\n",
            "Iteration 9, loss = 1.72962374\n",
            "Iteration 10, loss = 1.72884331\n",
            "Iteration 11, loss = 1.72787630\n",
            "Iteration 12, loss = 1.72709608\n",
            "Iteration 13, loss = 1.72631943\n",
            "Iteration 14, loss = 1.72548808\n",
            "Iteration 15, loss = 1.72485169\n",
            "Iteration 16, loss = 1.72406063\n",
            "Iteration 17, loss = 1.72352066\n",
            "Iteration 18, loss = 1.72323467\n",
            "Iteration 19, loss = 1.72254845\n",
            "Iteration 20, loss = 1.72195739\n",
            "Iteration 21, loss = 1.72134483\n",
            "Iteration 22, loss = 1.72075357\n",
            "Iteration 23, loss = 1.72018581\n",
            "Iteration 24, loss = 1.72011151\n",
            "Iteration 25, loss = 1.71939656\n",
            "Iteration 26, loss = 1.71872957\n",
            "Iteration 27, loss = 1.71863932\n",
            "Iteration 28, loss = 1.71803147\n",
            "Iteration 29, loss = 1.71782374\n",
            "Iteration 30, loss = 1.71719103\n",
            "Iteration 31, loss = 1.71666668\n",
            "Iteration 32, loss = 1.71634938\n",
            "Iteration 33, loss = 1.71590496\n",
            "Iteration 34, loss = 1.71566110\n",
            "Iteration 35, loss = 1.71540242\n",
            "Iteration 36, loss = 1.71482105\n",
            "Iteration 37, loss = 1.71458229\n",
            "Iteration 38, loss = 1.71471290\n",
            "Iteration 39, loss = 1.71390362\n",
            "Iteration 40, loss = 1.71363346\n",
            "Iteration 41, loss = 1.71399455\n",
            "Iteration 42, loss = 1.71292830\n",
            "Iteration 43, loss = 1.71278526\n",
            "Iteration 44, loss = 1.71226883\n",
            "Iteration 45, loss = 1.71193345\n",
            "Iteration 46, loss = 1.71187750\n",
            "Iteration 47, loss = 1.71148891\n",
            "Iteration 48, loss = 1.71138898\n",
            "Iteration 49, loss = 1.71091085\n",
            "Iteration 50, loss = 1.71143269\n",
            "Iteration 51, loss = 1.71027817\n",
            "Iteration 52, loss = 1.71001296\n",
            "Iteration 53, loss = 1.71006005\n",
            "Iteration 54, loss = 1.70973879\n",
            "Iteration 55, loss = 1.70923675\n",
            "Iteration 56, loss = 1.70896815\n",
            "Iteration 57, loss = 1.70861817\n",
            "Iteration 58, loss = 1.70832311\n",
            "Iteration 59, loss = 1.70823641\n",
            "Iteration 60, loss = 1.70767194\n",
            "Iteration 61, loss = 1.70817584\n",
            "Iteration 62, loss = 1.70785570\n",
            "Iteration 63, loss = 1.70706800\n",
            "Iteration 64, loss = 1.70702849\n",
            "Iteration 65, loss = 1.70671382\n",
            "Iteration 66, loss = 1.70634550\n",
            "Iteration 67, loss = 1.70593343\n",
            "Iteration 68, loss = 1.70601271\n",
            "Iteration 69, loss = 1.70554629\n",
            "Iteration 70, loss = 1.70543915\n",
            "Iteration 71, loss = 1.70533760\n",
            "Iteration 72, loss = 1.70512939\n",
            "Iteration 73, loss = 1.70491749\n",
            "Iteration 74, loss = 1.70467371\n",
            "Iteration 75, loss = 1.70430825\n",
            "Iteration 76, loss = 1.70396639\n",
            "Iteration 77, loss = 1.70399499\n",
            "Iteration 78, loss = 1.70382121\n",
            "Iteration 79, loss = 1.70357227\n",
            "Iteration 80, loss = 1.70322446\n",
            "Iteration 81, loss = 1.70321672\n",
            "Iteration 82, loss = 1.70287843\n",
            "Iteration 83, loss = 1.70263366\n",
            "Iteration 84, loss = 1.70239774\n",
            "Iteration 85, loss = 1.70224114\n",
            "Iteration 86, loss = 1.70236046\n",
            "Iteration 87, loss = 1.70174202\n",
            "Iteration 88, loss = 1.70170904\n",
            "Iteration 89, loss = 1.70166674\n",
            "Iteration 90, loss = 1.70101284\n",
            "Iteration 91, loss = 1.70109002\n",
            "Iteration 92, loss = 1.70088154\n",
            "Iteration 93, loss = 1.70113975\n",
            "Iteration 94, loss = 1.70057924\n",
            "Iteration 95, loss = 1.70084338\n",
            "Iteration 96, loss = 1.70000792\n",
            "Iteration 97, loss = 1.69995653\n",
            "Iteration 98, loss = 1.69958740\n",
            "Iteration 99, loss = 1.69965740\n",
            "Iteration 100, loss = 1.69952018\n",
            "Iteration 101, loss = 1.69914306\n",
            "Iteration 102, loss = 1.69897590\n",
            "Iteration 103, loss = 1.69907334\n",
            "Iteration 104, loss = 1.69907514\n",
            "Iteration 105, loss = 1.69809631\n",
            "Iteration 106, loss = 1.69841523\n",
            "Iteration 107, loss = 1.69820917\n",
            "Iteration 108, loss = 1.69807895\n",
            "Iteration 109, loss = 1.69766825\n",
            "Iteration 110, loss = 1.69760571\n",
            "Iteration 111, loss = 1.69745901\n",
            "Iteration 112, loss = 1.69770631\n",
            "Iteration 113, loss = 1.69736504\n",
            "Iteration 114, loss = 1.69682027\n",
            "Iteration 115, loss = 1.69676708\n",
            "Iteration 116, loss = 1.69654309\n",
            "Iteration 117, loss = 1.69640400\n",
            "Iteration 118, loss = 1.69644996\n",
            "Iteration 119, loss = 1.69615600\n",
            "Iteration 120, loss = 1.69621976\n",
            "Iteration 121, loss = 1.69578663\n",
            "Iteration 122, loss = 1.69537355\n",
            "Iteration 123, loss = 1.69593067\n",
            "Iteration 124, loss = 1.69527804\n",
            "Iteration 125, loss = 1.69566163\n",
            "Iteration 126, loss = 1.69518424\n",
            "Iteration 127, loss = 1.69476212\n",
            "Iteration 128, loss = 1.69497992\n",
            "Iteration 129, loss = 1.69521883\n",
            "Iteration 130, loss = 1.69467130\n",
            "Iteration 131, loss = 1.69428138\n",
            "Iteration 132, loss = 1.69406315\n",
            "Iteration 133, loss = 1.69414191\n",
            "Iteration 134, loss = 1.69408451\n",
            "Iteration 135, loss = 1.69430524\n",
            "Iteration 136, loss = 1.69346974\n",
            "Iteration 137, loss = 1.69381456\n",
            "Iteration 138, loss = 1.69332127\n",
            "Iteration 139, loss = 1.69365478\n",
            "Iteration 140, loss = 1.69446431\n",
            "Iteration 141, loss = 1.69348563\n",
            "Iteration 142, loss = 1.69300968\n",
            "Iteration 143, loss = 1.69286662\n",
            "Iteration 144, loss = 1.69269026\n",
            "Iteration 145, loss = 1.69249144\n",
            "Iteration 146, loss = 1.69234201\n",
            "Iteration 147, loss = 1.69230501\n",
            "Iteration 148, loss = 1.69180474\n",
            "Iteration 149, loss = 1.69247899\n",
            "Iteration 150, loss = 1.69145697\n",
            "Iteration 151, loss = 1.69144848\n",
            "Iteration 152, loss = 1.69141014\n",
            "Iteration 153, loss = 1.69159096\n",
            "Iteration 154, loss = 1.69172791\n",
            "Iteration 155, loss = 1.69100259\n",
            "Iteration 156, loss = 1.69140197\n",
            "Iteration 157, loss = 1.69064553\n",
            "Iteration 158, loss = 1.69075791\n",
            "Iteration 159, loss = 1.69053376\n",
            "Iteration 160, loss = 1.69036907\n",
            "Iteration 161, loss = 1.69093962\n",
            "Iteration 162, loss = 1.68999635\n",
            "Iteration 163, loss = 1.69002991\n",
            "Iteration 164, loss = 1.69015889\n",
            "Iteration 165, loss = 1.68952220\n",
            "Iteration 166, loss = 1.68988658\n",
            "Iteration 167, loss = 1.68947321\n",
            "Iteration 168, loss = 1.68963641\n",
            "Iteration 169, loss = 1.68904876\n",
            "Iteration 170, loss = 1.68918306\n",
            "Iteration 171, loss = 1.68915238\n",
            "Iteration 172, loss = 1.68923742\n",
            "Iteration 173, loss = 1.68862220\n",
            "Iteration 174, loss = 1.68898487\n",
            "Iteration 175, loss = 1.68856117\n",
            "Iteration 176, loss = 1.68812303\n",
            "Iteration 177, loss = 1.68863549\n",
            "Iteration 178, loss = 1.68803317\n",
            "Iteration 179, loss = 1.68802283\n",
            "Iteration 180, loss = 1.68790392\n",
            "Iteration 181, loss = 1.68813062\n",
            "Iteration 182, loss = 1.68787869\n",
            "Iteration 183, loss = 1.68806162\n",
            "Iteration 184, loss = 1.68809263\n",
            "Iteration 185, loss = 1.68752587\n",
            "Iteration 186, loss = 1.68711033\n",
            "Iteration 187, loss = 1.68739952\n",
            "Iteration 188, loss = 1.68732596\n",
            "Iteration 189, loss = 1.68712387\n",
            "Iteration 190, loss = 1.68786886\n",
            "Iteration 191, loss = 1.68685483\n",
            "Iteration 192, loss = 1.68715415\n",
            "Iteration 193, loss = 1.68661892\n",
            "Iteration 194, loss = 1.68640263\n",
            "Iteration 195, loss = 1.68696506\n",
            "Iteration 196, loss = 1.68669576\n",
            "Iteration 197, loss = 1.68625080\n",
            "Iteration 198, loss = 1.68614086\n",
            "Iteration 199, loss = 1.68582893\n",
            "Iteration 200, loss = 1.68592860\n",
            "Iteration 201, loss = 1.68569711\n",
            "Iteration 202, loss = 1.68598849\n",
            "Iteration 203, loss = 1.68540978\n",
            "Iteration 204, loss = 1.68584121\n",
            "Iteration 205, loss = 1.68518065\n",
            "Iteration 206, loss = 1.68543802\n",
            "Iteration 207, loss = 1.68592740\n",
            "Iteration 208, loss = 1.68505871\n",
            "Iteration 209, loss = 1.68533880\n",
            "Iteration 210, loss = 1.68528802\n",
            "Iteration 211, loss = 1.68431562\n",
            "Iteration 212, loss = 1.68442903\n",
            "Iteration 213, loss = 1.68461359\n",
            "Iteration 214, loss = 1.68417961\n",
            "Iteration 215, loss = 1.68410729\n",
            "Iteration 216, loss = 1.68421717\n",
            "Iteration 217, loss = 1.68406889\n",
            "Iteration 218, loss = 1.68397289\n",
            "Iteration 219, loss = 1.68410690\n",
            "Iteration 220, loss = 1.68356707\n",
            "Iteration 221, loss = 1.68359673\n",
            "Iteration 222, loss = 1.68385532\n",
            "Iteration 223, loss = 1.68380265\n",
            "Iteration 224, loss = 1.68406970\n",
            "Iteration 225, loss = 1.68395599\n",
            "Iteration 226, loss = 1.68319626\n",
            "Iteration 227, loss = 1.68285871\n",
            "Iteration 228, loss = 1.68267719\n",
            "Iteration 229, loss = 1.68309399\n",
            "Iteration 230, loss = 1.68289757\n",
            "Iteration 231, loss = 1.68307753\n",
            "Iteration 232, loss = 1.68257549\n",
            "Iteration 233, loss = 1.68242142\n",
            "Iteration 234, loss = 1.68262582\n",
            "Iteration 235, loss = 1.68194888\n",
            "Iteration 236, loss = 1.68189504\n",
            "Iteration 237, loss = 1.68273216\n",
            "Iteration 238, loss = 1.68210760\n",
            "Iteration 239, loss = 1.68204419\n",
            "Iteration 240, loss = 1.68151957\n",
            "Iteration 241, loss = 1.68165846\n",
            "Iteration 242, loss = 1.68101033\n",
            "Iteration 243, loss = 1.68155916\n",
            "Iteration 244, loss = 1.68151952\n",
            "Iteration 245, loss = 1.68151272\n",
            "Iteration 246, loss = 1.68107745\n",
            "Iteration 247, loss = 1.68087871\n",
            "Iteration 248, loss = 1.68100744\n",
            "Iteration 249, loss = 1.68087965\n",
            "Iteration 250, loss = 1.68097363\n",
            "Iteration 251, loss = 1.68117132\n",
            "Iteration 252, loss = 1.68146903\n",
            "Iteration 253, loss = 1.68062720\n",
            "Iteration 254, loss = 1.68065115\n",
            "Iteration 255, loss = 1.68019212\n",
            "Iteration 256, loss = 1.67993053\n",
            "Iteration 257, loss = 1.68020750\n",
            "Iteration 258, loss = 1.68022211\n",
            "Iteration 259, loss = 1.68034582\n",
            "Iteration 260, loss = 1.68038937\n",
            "Iteration 261, loss = 1.67963535\n",
            "Iteration 262, loss = 1.67968941\n",
            "Iteration 263, loss = 1.67955347\n",
            "Iteration 264, loss = 1.67975854\n",
            "Iteration 265, loss = 1.67950180\n",
            "Iteration 266, loss = 1.67918813\n",
            "Iteration 267, loss = 1.67887209\n",
            "Iteration 268, loss = 1.67972332\n",
            "Iteration 269, loss = 1.67947711\n",
            "Iteration 270, loss = 1.67902584\n",
            "Iteration 271, loss = 1.67877364\n",
            "Iteration 272, loss = 1.67931877\n",
            "Iteration 273, loss = 1.67897945\n",
            "Iteration 274, loss = 1.67900965\n",
            "Iteration 275, loss = 1.67839343\n",
            "Iteration 276, loss = 1.67832565\n",
            "Iteration 277, loss = 1.67853084\n",
            "Iteration 278, loss = 1.67806097\n",
            "Iteration 279, loss = 1.67790442\n",
            "Iteration 280, loss = 1.67792316\n",
            "Iteration 281, loss = 1.67766364\n",
            "Iteration 282, loss = 1.67767615\n",
            "Iteration 283, loss = 1.67762518\n",
            "Iteration 284, loss = 1.67756622\n",
            "Iteration 285, loss = 1.67770307\n",
            "Iteration 286, loss = 1.67722314\n",
            "Iteration 287, loss = 1.67734371\n",
            "Iteration 288, loss = 1.67786131\n",
            "Iteration 289, loss = 1.67681472\n",
            "Iteration 290, loss = 1.67691250\n",
            "Iteration 291, loss = 1.67717369\n",
            "Iteration 292, loss = 1.67654862\n",
            "Iteration 293, loss = 1.67668603\n",
            "Iteration 294, loss = 1.67664741\n",
            "Iteration 295, loss = 1.67618374\n",
            "Iteration 296, loss = 1.67691547\n",
            "Iteration 297, loss = 1.67634573\n",
            "Iteration 298, loss = 1.67703255\n",
            "Iteration 299, loss = 1.67645553\n",
            "Iteration 300, loss = 1.67673437\n"
          ]
        },
        {
          "name": "stderr",
          "output_type": "stream",
          "text": [
            "/home/ubuntu/anaconda3/envs/ai4halth/lib/python3.8/site-packages/sklearn/neural_network/_multilayer_perceptron.py:692: ConvergenceWarning: Stochastic Optimizer: Maximum iterations (300) reached and the optimization hasn't converged yet.\n",
            "  warnings.warn(\n"
          ]
        }
      ],
      "source": [
        "from sklearn.neural_network import MLPClassifier\n",
        "\n",
        "clf = MLPClassifier(random_state=1, max_iter=300, verbose=True)\n",
        "clf.fit(train_features_oversampled, train_labels_oversampled)\n",
        "predicted_labels_mlp = clf.predict(test_features)"
      ]
    },
    {
      "cell_type": "code",
      "execution_count": 28,
      "metadata": {
        "colab": {
          "base_uri": "https://localhost:8080/",
          "height": 349
        },
        "id": "Sl7qfY6_l19g",
        "outputId": "83d18061-db58-45a9-f23d-0ee28aae960c"
      },
      "outputs": [
        {
          "name": "stdout",
          "output_type": "stream",
          "text": [
            "Accuracy: 0.1568627450980392\n",
            "Precision: 0.16797251124094537\n",
            "Recall: 0.22221520509495188\n",
            "F1 score: 0.14809848234755082\n"
          ]
        },
        {
          "data": {
            "image/png": "[encoded data removed]",
            "text/plain": [
              "<Figure size 432x288 with 2 Axes>"
            ]
          },
          "metadata": {
            "needs_background": "light"
          },
          "output_type": "display_data"
        }
      ],
      "source": [
        "evaluate(test_labels, predicted_labels_mlp)"
      ]
    }
  ],
  "metadata": {
    "accelerator": "GPU",
    "colab": {
      "machine_shape": "hm",
      "name": "Multi-class Classification_Power Spectra .ipynb",
      "provenance": []
    },
    "interpreter": {
      "hash": "a9205b650ad9b26ded1fb73bba57cf404cfc03cd0c8186ebe669ad7e6a2a6143"
    },
    "kernelspec": {
      "display_name": "Python 3.8.12 64-bit ('ai4halth': conda)",
      "name": "python3"
    },
    "language_info": {
      "codemirror_mode": {
        "name": "ipython",
        "version": 3
      },
      "file_extension": ".py",
      "mimetype": "text/x-python",
      "name": "python",
      "nbconvert_exporter": "python",
      "pygments_lexer": "ipython3",
      "version": "3.8.12"
    }
  },
  "nbformat": 4,
  "nbformat_minor": 0
}
