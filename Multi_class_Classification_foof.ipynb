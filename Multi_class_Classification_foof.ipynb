{
  "cells": [
    {
      "cell_type": "code",
      "execution_count": 1,
      "metadata": {
        "colab": {
          "base_uri": "https://localhost:8080/"
        },
        "id": "IjsCisv7FvHs",
        "outputId": "8f558ce7-4833-4802-ba19-b3b3dad61e5b"
      },
      "outputs": [],
      "source": [
        "import scipy.io\n",
        "import numpy as np\n",
        "import pandas as pd\n",
        "import matplotlib.pyplot as plt\n",
        "\n",
        "from sklearn.model_selection import train_test_split\n",
        "from imblearn.over_sampling import SMOTE\n",
        "\n",
        "import tensorflow as tf\n",
        "from tensorflow.keras.models import Model, load_model\n",
        "from tensorflow.keras.layers import Input, Dense, LeakyReLU, BatchNormalization\n",
        "from tensorflow.keras.utils import plot_model, to_categorical\n"
      ]
    },
    {
      "cell_type": "markdown",
      "metadata": {
        "id": "LKPjAw07FvH2"
      },
      "source": [
        "## Data Loading and Processing"
      ]
    },
    {
      "cell_type": "code",
      "execution_count": 2,
      "metadata": {
        "colab": {
          "base_uri": "https://localhost:8080/"
        },
        "id": "IyFwAfLNFvH6",
        "outputId": "35082a38-2a56-481f-d0c7-0bf0497a2b9f"
      },
      "outputs": [],
      "source": [
        "labels = pd.read_csv(\"table_withlabels.csv\")\n",
        "foof = pd.read_csv(\"foof2features.csv\")\n",
        "beh = pd.read_csv(\"behaviorals.csv\")"
      ]
    },
    {
      "cell_type": "code",
      "execution_count": 3,
      "metadata": {},
      "outputs": [
        {
          "name": "stdout",
          "output_type": "stream",
          "text": [
            "Other Neurodevelopmental Disorders    492\n",
            "ADHD-Inattentive Type                 388\n",
            "ADHD-Combined Type                    376\n",
            "Anxiety Disorders                     241\n",
            "No Diagnosis Given                    203\n",
            "Depressive Disorders                   85\n",
            "Name: label, dtype: int64\n"
          ]
        },
        {
          "data": {
            "text/html": [
              "<div>\n",
              "<style scoped>\n",
              "    .dataframe tbody tr th:only-of-type {\n",
              "        vertical-align: middle;\n",
              "    }\n",
              "\n",
              "    .dataframe tbody tr th {\n",
              "        vertical-align: top;\n",
              "    }\n",
              "\n",
              "    .dataframe thead th {\n",
              "        text-align: right;\n",
              "    }\n",
              "</style>\n",
              "<table border=\"1\" class=\"dataframe\">\n",
              "  <thead>\n",
              "    <tr style=\"text-align: right;\">\n",
              "      <th></th>\n",
              "      <th>C2</th>\n",
              "      <th>C3</th>\n",
              "      <th>IDs</th>\n",
              "      <th>label</th>\n",
              "    </tr>\n",
              "  </thead>\n",
              "  <tbody>\n",
              "    <tr>\n",
              "      <th>0</th>\n",
              "      <td>0.986272</td>\n",
              "      <td>1.825774</td>\n",
              "      <td>NDARAA075AMK</td>\n",
              "      <td>No Diagnosis Given</td>\n",
              "    </tr>\n",
              "    <tr>\n",
              "      <th>1</th>\n",
              "      <td>1.486650</td>\n",
              "      <td>1.888544</td>\n",
              "      <td>NDARAA112DMH</td>\n",
              "      <td>ADHD-Combined Type</td>\n",
              "    </tr>\n",
              "    <tr>\n",
              "      <th>2</th>\n",
              "      <td>1.593155</td>\n",
              "      <td>2.095749</td>\n",
              "      <td>NDARAA117NEJ</td>\n",
              "      <td>ADHD-Combined Type</td>\n",
              "    </tr>\n",
              "    <tr>\n",
              "      <th>3</th>\n",
              "      <td>0.703331</td>\n",
              "      <td>1.724831</td>\n",
              "      <td>NDARAA947ZG5</td>\n",
              "      <td>ADHD-Combined Type</td>\n",
              "    </tr>\n",
              "    <tr>\n",
              "      <th>4</th>\n",
              "      <td>0.918020</td>\n",
              "      <td>1.749441</td>\n",
              "      <td>NDARAA948VFH</td>\n",
              "      <td>ADHD-Combined Type</td>\n",
              "    </tr>\n",
              "    <tr>\n",
              "      <th>...</th>\n",
              "      <td>...</td>\n",
              "      <td>...</td>\n",
              "      <td>...</td>\n",
              "      <td>...</td>\n",
              "    </tr>\n",
              "    <tr>\n",
              "      <th>1780</th>\n",
              "      <td>0.168009</td>\n",
              "      <td>0.205704</td>\n",
              "      <td>NDARZN148PMN</td>\n",
              "      <td>Anxiety Disorders</td>\n",
              "    </tr>\n",
              "    <tr>\n",
              "      <th>1781</th>\n",
              "      <td>1.351549</td>\n",
              "      <td>1.996940</td>\n",
              "      <td>NDARZN277NR6</td>\n",
              "      <td>ADHD-Combined Type</td>\n",
              "    </tr>\n",
              "    <tr>\n",
              "      <th>1782</th>\n",
              "      <td>0.339229</td>\n",
              "      <td>1.050644</td>\n",
              "      <td>NDARZN610GTY</td>\n",
              "      <td>Other Neurodevelopmental Disorders</td>\n",
              "    </tr>\n",
              "    <tr>\n",
              "      <th>1783</th>\n",
              "      <td>0.781225</td>\n",
              "      <td>1.470061</td>\n",
              "      <td>NDARZN677EYE</td>\n",
              "      <td>ADHD-Inattentive Type</td>\n",
              "    </tr>\n",
              "    <tr>\n",
              "      <th>1784</th>\n",
              "      <td>0.464107</td>\n",
              "      <td>1.664433</td>\n",
              "      <td>NDARZN899JCM</td>\n",
              "      <td>ADHD-Inattentive Type</td>\n",
              "    </tr>\n",
              "  </tbody>\n",
              "</table>\n",
              "<p>1785 rows × 4 columns</p>\n",
              "</div>"
            ],
            "text/plain": [
              "            C2        C3           IDs                               label\n",
              "0     0.986272  1.825774  NDARAA075AMK                  No Diagnosis Given\n",
              "1     1.486650  1.888544  NDARAA112DMH                  ADHD-Combined Type\n",
              "2     1.593155  2.095749  NDARAA117NEJ                  ADHD-Combined Type\n",
              "3     0.703331  1.724831  NDARAA947ZG5                  ADHD-Combined Type\n",
              "4     0.918020  1.749441  NDARAA948VFH                  ADHD-Combined Type\n",
              "...        ...       ...           ...                                 ...\n",
              "1780  0.168009  0.205704  NDARZN148PMN                   Anxiety Disorders\n",
              "1781  1.351549  1.996940  NDARZN277NR6                  ADHD-Combined Type\n",
              "1782  0.339229  1.050644  NDARZN610GTY  Other Neurodevelopmental Disorders\n",
              "1783  0.781225  1.470061  NDARZN677EYE               ADHD-Inattentive Type\n",
              "1784  0.464107  1.664433  NDARZN899JCM               ADHD-Inattentive Type\n",
              "\n",
              "[1785 rows x 4 columns]"
            ]
          },
          "execution_count": 3,
          "metadata": {},
          "output_type": "execute_result"
        }
      ],
      "source": [
        "foof['IDs'] = foof['C1']\n",
        "df = pd.merge(foof, labels[['label', 'IDs']], on='IDs', how='inner')\n",
        "df = df.drop(columns=['C1'])\n",
        "print(df['label'].value_counts())\n",
        "df"
      ]
    },
    {
      "cell_type": "code",
      "execution_count": 4,
      "metadata": {},
      "outputs": [],
      "source": [
        "# add labels\n",
        "pd.options.mode.chained_assignment = None\n",
        "\n",
        "df.label[df.label == 'Other Neurodevelopmental Disorders'] = 1\n",
        "df.label[df.label == 'ADHD-Inattentive Type'] = 2\n",
        "df.label[df.label == 'ADHD-Combined Type'] = 3\n",
        "df.label[df.label == 'Anxiety Disorders'] = 4\n",
        "df.label[df.label == 'No Diagnosis Given'] = 5\n",
        "df.label[df.label == 'Depressive Disorders'] = 6\n",
        "df.label = df['label'].astype(int)\n",
        "labels = ['Other Neurodevelopmental Disorders', 'ADHD-Inattentive Type', 'ADHD-Combined Type', 'Anxiety Disorders', 'No Diagnosis Given', 'Depressive Disorders']"
      ]
    },
    {
      "cell_type": "code",
      "execution_count": 5,
      "metadata": {},
      "outputs": [
        {
          "name": "stdout",
          "output_type": "stream",
          "text": [
            "(590,)\n",
            "(1195,)\n",
            "(590, 2)\n",
            "(1195, 2)\n"
          ]
        }
      ],
      "source": [
        "train_df, test_df = train_test_split(df, test_size=0.33)\n",
        "train_labels, test_labels = train_df['label'], test_df['label']\n",
        "train_df.shape\n",
        "print(test_labels.shape)\n",
        "print(train_labels.shape)\n",
        "train_features = train_df[train_df.columns.difference(['IDs', 'label'])]\n",
        "test_features = test_df[test_df.columns.difference(['IDs', 'label'])]\n",
        "print(test_features.shape)\n",
        "print(train_features.shape)"
      ]
    },
    {
      "cell_type": "markdown",
      "metadata": {
        "id": "HQC-Wm64FvID"
      },
      "source": [
        "## Dealing with imbalance"
      ]
    },
    {
      "cell_type": "code",
      "execution_count": 6,
      "metadata": {
        "colab": {
          "base_uri": "https://localhost:8080/"
        },
        "id": "qkZ5dnh7FvID",
        "outputId": "86d0b1ef-ba97-4e44-caa1-f0971ac94899"
      },
      "outputs": [
        {
          "name": "stdout",
          "output_type": "stream",
          "text": [
            "(2016, 2)\n",
            "(2016,)\n"
          ]
        }
      ],
      "source": [
        "oversample = SMOTE()\n",
        "train_features_oversampled, train_labels_oversampled = oversample.fit_resample(train_features, train_labels)\n",
        "print(train_features_oversampled.shape)\n",
        "print(train_labels_oversampled.shape)"
      ]
    },
    {
      "cell_type": "code",
      "execution_count": 7,
      "metadata": {
        "id": "Tms2OlNbuvUf"
      },
      "outputs": [],
      "source": [
        "# scaling the data\n",
        "from sklearn.preprocessing import StandardScaler\n",
        "\n",
        "scaler = StandardScaler()\n",
        "train_features_oversampled = scaler.fit_transform(train_features_oversampled) \n",
        "test_features = scaler.transform(test_features)\n",
        "\n",
        "train_features_oversampled = np.clip(train_features_oversampled, -5, 5)\n",
        "test_features = np.clip(test_features, -5, 5)"
      ]
    },
    {
      "cell_type": "code",
      "execution_count": 8,
      "metadata": {},
      "outputs": [
        {
          "name": "stdout",
          "output_type": "stream",
          "text": [
            "(2016, 2)\n",
            "(2016,)\n"
          ]
        }
      ],
      "source": [
        "print(train_features_oversampled.shape)\n",
        "print(train_labels_oversampled.shape)"
      ]
    },
    {
      "cell_type": "markdown",
      "metadata": {
        "id": "vGEV__DRFvIE"
      },
      "source": [
        "## Linear Models"
      ]
    },
    {
      "cell_type": "markdown",
      "metadata": {
        "id": "DUCdA5b6FvIF"
      },
      "source": [
        "### SVC"
      ]
    },
    {
      "cell_type": "code",
      "execution_count": 9,
      "metadata": {
        "colab": {
          "base_uri": "https://localhost:8080/"
        },
        "id": "g-MNQL01FvIF",
        "outputId": "9190831d-a60d-4164-bc72-35d301fe5dce"
      },
      "outputs": [
        {
          "name": "stdout",
          "output_type": "stream",
          "text": [
            "[LibSVM].\n",
            "Warning: using -h 0 may be faster\n",
            "*\n",
            "optimization finished, #iter = 1212\n",
            "obj = -656.629097, rho = -0.231992\n",
            "nSV = 659, nBSV = 655\n",
            "*\n",
            "optimization finished, #iter = 618\n",
            "obj = -645.787674, rho = 0.137687\n",
            "nSV = 647, nBSV = 644\n",
            ".\n",
            "Warning: using -h 0 may be faster\n",
            "*\n",
            "optimization finished, #iter = 1214\n",
            "obj = -625.699617, rho = -0.216676\n",
            "nSV = 627, nBSV = 623\n",
            ".\n",
            "Warning: using -h 0 may be faster\n",
            "*.\n",
            "Warning: using -h 0 may be faster\n",
            "*\n",
            "optimization finished, #iter = 1415\n",
            "obj = -644.986837, rho = 0.115791\n",
            "nSV = 647, nBSV = 644\n",
            ".\n",
            "Warning: using -h 0 may be faster\n",
            "*.*\n",
            "optimization finished, #iter = 1847\n",
            "obj = -493.919772, rho = -0.183482\n",
            "nSV = 497, nBSV = 493\n",
            "*.*\n",
            "optimization finished, #iter = 700\n",
            "obj = -623.919710, rho = 0.010321\n",
            "nSV = 626, nBSV = 622\n",
            ".\n",
            "Warning: using -h 0 may be faster\n",
            "*\n",
            "optimization finished, #iter = 1057\n",
            "obj = -644.393037, rho = -0.454027\n",
            "nSV = 646, nBSV = 643\n",
            ".\n",
            "Warning: using -h 0 may be faster\n",
            "*.*\n",
            "optimization finished, #iter = 1436\n",
            "obj = -620.737582, rho = 0.022334\n",
            "nSV = 622, nBSV = 619\n",
            ".\n",
            "Warning: using -h 0 may be faster\n",
            "*\n",
            "optimization finished, #iter = 766\n",
            "obj = -519.430315, rho = -0.285149\n",
            "nSV = 521, nBSV = 518\n",
            ".\n",
            "Warning: using -h 0 may be faster\n",
            "*\n",
            "optimization finished, #iter = 934\n",
            "obj = -589.191701, rho = -0.167510\n",
            "nSV = 591, nBSV = 588\n",
            ".*\n",
            "optimization finished, #iter = 774\n",
            "obj = -656.786587, rho = -0.411707\n",
            "nSV = 658, nBSV = 655\n",
            "*\n",
            "optimization finished, #iter = 670\n",
            "obj = -441.861646, rho = -0.141538\n",
            "nSV = 445, nBSV = 442\n",
            "*\n",
            "optimization finished, #iter = 647\n",
            "obj = -599.211120, rho = 0.141574\n",
            "nSV = 601, nBSV = 598\n",
            ".\n",
            "Warning: using -h 0 may be faster\n",
            "*\n",
            "optimization finished, #iter = 927\n",
            "obj = -554.341279, rho = -0.243429\n",
            "nSV = 557, nBSV = 554\n",
            ".\n",
            "Warning: using -h 0 may be faster\n",
            "*\n",
            "optimization finished, #iter = 863\n",
            "obj = -444.564206, rho = -0.106878\n",
            "nSV = 446, nBSV = 443\n",
            "Total nSV = 1961\n"
          ]
        }
      ],
      "source": [
        "from sklearn import svm\n",
        "\n",
        "clf = svm.SVC(kernel='linear', verbose=True)\n",
        "clf.fit(train_features_oversampled, train_labels_oversampled)\n",
        "\n",
        "predicted_labels_svc = clf.predict(test_features)"
      ]
    },
    {
      "cell_type": "code",
      "execution_count": 10,
      "metadata": {
        "colab": {
          "base_uri": "https://localhost:8080/",
          "height": 351
        },
        "id": "u9flc8xoFvIG",
        "outputId": "ae6012e2-d4a2-4167-fa9f-9fd97fdc6f29"
      },
      "outputs": [
        {
          "name": "stdout",
          "output_type": "stream",
          "text": [
            "Accuracy: 0.19830508474576272\n",
            "Precision: 0.19830508474576272\n",
            "Recall: 0.19830508474576272\n",
            "F1 score: 0.19830508474576272\n"
          ]
        },
        {
          "data": {
            "image/png": "[encoded data removed]",
            "text/plain": [
              "<Figure size 432x288 with 2 Axes>"
            ]
          },
          "metadata": {
            "needs_background": "light"
          },
          "output_type": "display_data"
        }
      ],
      "source": [
        "from sklearn import metrics\n",
        "import matplotlib.pyplot as plt\n",
        "from sklearn.metrics import confusion_matrix, ConfusionMatrixDisplay\n",
        "\n",
        "def evaluate(y_test, y_pred, show_cm=True):\n",
        "    \n",
        "    print(\"Accuracy:\", metrics.accuracy_score(y_test, y_pred))\n",
        "    print(\"Precision:\", metrics.precision_score(y_test, y_pred, average='micro'))\n",
        "    print(\"Recall:\", metrics.recall_score(y_test, y_pred, average='micro'))\n",
        "#     print(\"ROC AUC:\", metrics.roc_auc_score(y_test, y_pred, multi_class='ovo',))\n",
        "    print(\"F1 score:\", metrics.f1_score(y_test, y_pred, average='micro'))\n",
        "#     print(\"Brier Score:\", metrics.brier_score_loss(y_test, y_pred)) # only for binary classification\n",
        "\n",
        "    if show_cm:\n",
        "        cm = confusion_matrix(y_test, y_pred, labels=clf.classes_)\n",
        "        disp = ConfusionMatrixDisplay(confusion_matrix=cm, display_labels=labels)\n",
        "        disp.plot()\n",
        "        plt.tight_layout()\n",
        "        plt.show()\n",
        "\n",
        "evaluate(test_labels, predicted_labels_svc)"
      ]
    },
    {
      "cell_type": "markdown",
      "metadata": {
        "id": "LahFg05KFvIH"
      },
      "source": [
        "### OneVsRestClassifier\n",
        "The strategy consists in fitting one classifier per class. For each classifier, the class is fitted against all the other classes."
      ]
    },
    {
      "cell_type": "code",
      "execution_count": 11,
      "metadata": {
        "colab": {
          "base_uri": "https://localhost:8080/"
        },
        "id": "VScxf00iFvII",
        "outputId": "cc30ecfc-519c-40d7-828d-46322d7f20ae"
      },
      "outputs": [
        {
          "name": "stdout",
          "output_type": "stream",
          "text": [
            "[LibLinear]........................................................*............................................\n",
            "optimization finished, #iter = 1001\n",
            "Objective value = -1115.584244\n",
            "nSV = 2016\n",
            "[LibLinear]...............................................................\n",
            "optimization finished, #iter = 633\n",
            "Objective value = -1119.673822\n",
            "nSV = 2016\n",
            "[LibLinear]...................................................................................*\n",
            "optimization finished, #iter = 835\n",
            "Objective value = -1098.195886\n",
            "nSV = 1996\n",
            "[LibLinear]........................................................................\n",
            "optimization finished, #iter = 729\n",
            "Objective value = -1116.220329\n",
            "nSV = 2016\n",
            "[LibLinear].............................................*\n",
            "optimization finished, #iter = 452\n",
            "Objective value = -1103.191790\n",
            "nSV = 2005\n",
            "[LibLinear]...............................................................................*...........*\n",
            "optimization finished, #iter = 908\n",
            "Objective value = -1025.720258\n",
            "nSV = 1974\n"
          ]
        }
      ],
      "source": [
        "from sklearn.multiclass import OneVsRestClassifier\n",
        "from sklearn.svm import LinearSVC\n",
        "\n",
        "clf = OneVsRestClassifier(LinearSVC(random_state=0, max_iter=2000, verbose=True))\n",
        "\n",
        "clf.fit(train_features_oversampled, train_labels_oversampled)\n",
        "predicted_labels_ovr = clf.predict(test_features)"
      ]
    },
    {
      "cell_type": "code",
      "execution_count": 12,
      "metadata": {
        "colab": {
          "base_uri": "https://localhost:8080/",
          "height": 349
        },
        "id": "_AreAnOwFvII",
        "outputId": "7153dcc6-c358-412f-8a62-d9740699c95b"
      },
      "outputs": [
        {
          "name": "stdout",
          "output_type": "stream",
          "text": [
            "Accuracy: 0.17288135593220338\n",
            "Precision: 0.17288135593220338\n",
            "Recall: 0.17288135593220338\n",
            "F1 score: 0.17288135593220338\n"
          ]
        },
        {
          "data": {
            "image/png": "[encoded data removed]",
            "text/plain": [
              "<Figure size 432x288 with 2 Axes>"
            ]
          },
          "metadata": {
            "needs_background": "light"
          },
          "output_type": "display_data"
        }
      ],
      "source": [
        "evaluate(test_labels, predicted_labels_ovr)"
      ]
    },
    {
      "cell_type": "markdown",
      "metadata": {
        "id": "-cBrjbXzFvIJ"
      },
      "source": [
        "### OneVsOneClassifier\n",
        "OneVsOneClassifier constructs one classifier per pair of classes. At prediction time, the class which received the most votes is selected. In the event of a tie (among two classes with an equal number of votes), it selects the class with the highest aggregate classification confidence by summing over the pair-wise classification confidence levels computed by the underlying binary classifiers.\n",
        "\n"
      ]
    },
    {
      "cell_type": "code",
      "execution_count": 13,
      "metadata": {
        "colab": {
          "base_uri": "https://localhost:8080/"
        },
        "id": "ydH-4TMDFvIK",
        "outputId": "93f2a129-6729-4995-ca42-e6797e56e8b7"
      },
      "outputs": [
        {
          "name": "stdout",
          "output_type": "stream",
          "text": [
            "[LibLinear]...................................................\n",
            "optimization finished, #iter = 517\n",
            "Objective value = -669.776728\n",
            "nSV = 672\n",
            "[LibLinear]...........................................................................\n",
            "optimization finished, #iter = 754\n",
            "Objective value = -666.270530\n",
            "nSV = 672\n",
            "[LibLinear]......................................................\n",
            "optimization finished, #iter = 546\n",
            "Objective value = -659.421849\n",
            "nSV = 672\n",
            "[LibLinear].........................................*...............................................\n",
            "optimization finished, #iter = 883\n",
            "Objective value = -667.044254\n",
            "nSV = 672\n",
            "[LibLinear].....................................................*........................*\n",
            "optimization finished, #iter = 771\n",
            "Objective value = -571.636750\n",
            "nSV = 663\n",
            "[LibLinear].............................................................................\n",
            "optimization finished, #iter = 775\n",
            "Objective value = -657.247209\n",
            "nSV = 672\n",
            "[LibLinear]...................................................\n",
            "optimization finished, #iter = 516\n",
            "Objective value = -666.519687\n",
            "nSV = 672\n",
            "[LibLinear].................................................\n",
            "optimization finished, #iter = 497\n",
            "Objective value = -658.649179\n",
            "nSV = 672\n",
            "[LibLinear]..............................................*.....................................**.\n",
            "optimization finished, #iter = 840\n",
            "Objective value = -592.497010\n",
            "nSV = 665\n",
            "[LibLinear]..............................................................................*..............................................\n",
            "optimization finished, #iter = 1246\n",
            "Objective value = -638.767822\n",
            "nSV = 672\n",
            "[LibLinear].........................................................................\n",
            "optimization finished, #iter = 738\n",
            "Objective value = -668.229174\n",
            "nSV = 672\n",
            "[LibLinear].................................................................................*............................**\n",
            "optimization finished, #iter = 1099\n",
            "Objective value = -531.715895\n",
            "nSV = 652\n",
            "[LibLinear]............................................*............................................\n",
            "optimization finished, #iter = 880\n",
            "Objective value = -647.568444\n",
            "nSV = 672\n",
            "[LibLinear]..........................................................*...............................*\n",
            "optimization finished, #iter = 898\n",
            "Objective value = -623.978089\n",
            "nSV = 669\n",
            "[LibLinear]...............................................**\n",
            "optimization finished, #iter = 474\n",
            "Objective value = -542.001019\n",
            "nSV = 660\n"
          ]
        }
      ],
      "source": [
        "from sklearn.multiclass import OneVsOneClassifier\n",
        "\n",
        "clf = OneVsOneClassifier(LinearSVC(random_state=0, max_iter = 10000, verbose=True))\n",
        "\n",
        "clf.fit(train_features_oversampled, train_labels_oversampled)\n",
        "predicted_labels_ovo = clf.predict(test_features)"
      ]
    },
    {
      "cell_type": "code",
      "execution_count": 14,
      "metadata": {
        "colab": {
          "base_uri": "https://localhost:8080/",
          "height": 349
        },
        "id": "xu-kDqPdFvIK",
        "outputId": "ebe6663e-9fa8-45b7-b1de-4d292cbc5e05"
      },
      "outputs": [
        {
          "name": "stdout",
          "output_type": "stream",
          "text": [
            "Accuracy: 0.17288135593220338\n",
            "Precision: 0.17288135593220338\n",
            "Recall: 0.17288135593220338\n",
            "F1 score: 0.17288135593220338\n"
          ]
        },
        {
          "data": {
            "image/png": "[encoded data removed]",
            "text/plain": [
              "<Figure size 432x288 with 2 Axes>"
            ]
          },
          "metadata": {
            "needs_background": "light"
          },
          "output_type": "display_data"
        }
      ],
      "source": [
        "evaluate(test_labels, predicted_labels_ovr)"
      ]
    },
    {
      "cell_type": "markdown",
      "metadata": {
        "id": "u_5tPjL2FvIL"
      },
      "source": [
        "### Random Forest"
      ]
    },
    {
      "cell_type": "code",
      "execution_count": 15,
      "metadata": {
        "colab": {
          "base_uri": "https://localhost:8080/"
        },
        "id": "kGIa95sQFvIL",
        "outputId": "89a9bc74-822b-4370-d357-677321cc05fb"
      },
      "outputs": [
        {
          "name": "stderr",
          "output_type": "stream",
          "text": [
            "[Parallel(n_jobs=1)]: Using backend SequentialBackend with 1 concurrent workers.\n",
            "[Parallel(n_jobs=1)]: Done 100 out of 100 | elapsed:    0.2s finished\n",
            "[Parallel(n_jobs=1)]: Using backend SequentialBackend with 1 concurrent workers.\n",
            "[Parallel(n_jobs=1)]: Done 100 out of 100 | elapsed:    0.0s finished\n"
          ]
        }
      ],
      "source": [
        "from sklearn.ensemble import RandomForestClassifier\n",
        "\n",
        "clf = RandomForestClassifier(max_depth=5, random_state=0, verbose=True)\n",
        "clf.fit(train_features_oversampled, train_labels_oversampled)\n",
        "predicted_labels_rf = clf.predict(test_features)"
      ]
    },
    {
      "cell_type": "code",
      "execution_count": 16,
      "metadata": {
        "colab": {
          "base_uri": "https://localhost:8080/",
          "height": 349
        },
        "id": "OjVFQE79FvIM",
        "outputId": "8824025c-5a44-4d2d-c4f5-4fd131169724"
      },
      "outputs": [
        {
          "name": "stdout",
          "output_type": "stream",
          "text": [
            "Accuracy: 0.15423728813559323\n",
            "Precision: 0.15423728813559323\n",
            "Recall: 0.15423728813559323\n",
            "F1 score: 0.15423728813559323\n"
          ]
        },
        {
          "data": {
            "image/png": "[encoded data removed]",
            "text/plain": [
              "<Figure size 432x288 with 2 Axes>"
            ]
          },
          "metadata": {
            "needs_background": "light"
          },
          "output_type": "display_data"
        }
      ],
      "source": [
        "evaluate(test_labels, predicted_labels_rf)"
      ]
    },
    {
      "cell_type": "markdown",
      "metadata": {
        "id": "fikPzPJkgPkW"
      },
      "source": [
        "### MLP\n"
      ]
    },
    {
      "cell_type": "code",
      "execution_count": 17,
      "metadata": {
        "colab": {
          "base_uri": "https://localhost:8080/"
        },
        "id": "eEXb2fNzgX1-",
        "outputId": "9287dbd2-9fc7-4f80-ed35-8472458b50fe"
      },
      "outputs": [
        {
          "name": "stdout",
          "output_type": "stream",
          "text": [
            "Iteration 1, loss = 1.80926885\n",
            "Iteration 2, loss = 1.77396499\n",
            "Iteration 3, loss = 1.75384653\n",
            "Iteration 4, loss = 1.74401326\n",
            "Iteration 5, loss = 1.73841826\n",
            "Iteration 6, loss = 1.73468545\n",
            "Iteration 7, loss = 1.73161687\n",
            "Iteration 8, loss = 1.72914684\n",
            "Iteration 9, loss = 1.72652132\n",
            "Iteration 10, loss = 1.72478690\n",
            "Iteration 11, loss = 1.72355691\n",
            "Iteration 12, loss = 1.72141762\n",
            "Iteration 13, loss = 1.72016105\n",
            "Iteration 14, loss = 1.71862125\n",
            "Iteration 15, loss = 1.71716231\n",
            "Iteration 16, loss = 1.71598294\n",
            "Iteration 17, loss = 1.71451413\n",
            "Iteration 18, loss = 1.71375756\n",
            "Iteration 19, loss = 1.71269797\n",
            "Iteration 20, loss = 1.71200539\n",
            "Iteration 21, loss = 1.71078707\n",
            "Iteration 22, loss = 1.70992614\n",
            "Iteration 23, loss = 1.70947796\n",
            "Iteration 24, loss = 1.70967652\n",
            "Iteration 25, loss = 1.70840127\n",
            "Iteration 26, loss = 1.70844249\n",
            "Iteration 27, loss = 1.70715255\n",
            "Iteration 28, loss = 1.70637525\n",
            "Iteration 29, loss = 1.70664060\n",
            "Iteration 30, loss = 1.70597002\n",
            "Iteration 31, loss = 1.70544346\n",
            "Iteration 32, loss = 1.70426616\n",
            "Iteration 33, loss = 1.70379351\n",
            "Iteration 34, loss = 1.70349456\n",
            "Iteration 35, loss = 1.70330759\n",
            "Iteration 36, loss = 1.70324557\n",
            "Iteration 37, loss = 1.70210633\n",
            "Iteration 38, loss = 1.70120915\n",
            "Iteration 39, loss = 1.70073206\n",
            "Iteration 40, loss = 1.70066580\n",
            "Iteration 41, loss = 1.69968852\n",
            "Iteration 42, loss = 1.70012196\n",
            "Iteration 43, loss = 1.69904317\n",
            "Iteration 44, loss = 1.69823920\n",
            "Iteration 45, loss = 1.69795188\n",
            "Iteration 46, loss = 1.69731021\n",
            "Iteration 47, loss = 1.69683048\n",
            "Iteration 48, loss = 1.69702162\n",
            "Iteration 49, loss = 1.69615273\n",
            "Iteration 50, loss = 1.69613768\n",
            "Iteration 51, loss = 1.69601797\n",
            "Iteration 52, loss = 1.69565578\n",
            "Iteration 53, loss = 1.69501168\n",
            "Iteration 54, loss = 1.69445661\n",
            "Iteration 55, loss = 1.69421457\n",
            "Iteration 56, loss = 1.69463099\n",
            "Iteration 57, loss = 1.69416311\n",
            "Iteration 58, loss = 1.69405205\n",
            "Iteration 59, loss = 1.69359294\n",
            "Iteration 60, loss = 1.69355959\n",
            "Iteration 61, loss = 1.69340448\n",
            "Iteration 62, loss = 1.69344964\n",
            "Iteration 63, loss = 1.69329266\n",
            "Iteration 64, loss = 1.69239402\n",
            "Iteration 65, loss = 1.69224852\n",
            "Iteration 66, loss = 1.69207536\n",
            "Iteration 67, loss = 1.69191416\n",
            "Iteration 68, loss = 1.69130014\n",
            "Iteration 69, loss = 1.69168008\n",
            "Iteration 70, loss = 1.69113641\n",
            "Iteration 71, loss = 1.69044104\n",
            "Iteration 72, loss = 1.68993635\n",
            "Iteration 73, loss = 1.68976759\n",
            "Iteration 74, loss = 1.68925025\n",
            "Iteration 75, loss = 1.68920261\n",
            "Iteration 76, loss = 1.68931710\n",
            "Iteration 77, loss = 1.68878602\n",
            "Iteration 78, loss = 1.68905599\n",
            "Iteration 79, loss = 1.68875475\n",
            "Iteration 80, loss = 1.68858271\n",
            "Iteration 81, loss = 1.68775997\n",
            "Iteration 82, loss = 1.68770655\n",
            "Iteration 83, loss = 1.68795283\n",
            "Iteration 84, loss = 1.68817947\n",
            "Iteration 85, loss = 1.68776988\n",
            "Iteration 86, loss = 1.68706300\n",
            "Iteration 87, loss = 1.68687271\n",
            "Iteration 88, loss = 1.68656193\n",
            "Iteration 89, loss = 1.68613287\n",
            "Iteration 90, loss = 1.68649099\n",
            "Iteration 91, loss = 1.68632010\n",
            "Iteration 92, loss = 1.68653755\n",
            "Iteration 93, loss = 1.68622719\n",
            "Iteration 94, loss = 1.68565402\n",
            "Iteration 95, loss = 1.68587181\n",
            "Iteration 96, loss = 1.68500697\n",
            "Iteration 97, loss = 1.68504795\n",
            "Iteration 98, loss = 1.68518106\n",
            "Iteration 99, loss = 1.68452955\n",
            "Iteration 100, loss = 1.68430689\n",
            "Iteration 101, loss = 1.68389535\n",
            "Iteration 102, loss = 1.68415163\n",
            "Iteration 103, loss = 1.68434255\n",
            "Iteration 104, loss = 1.68394944\n",
            "Iteration 105, loss = 1.68456603\n",
            "Iteration 106, loss = 1.68295566\n",
            "Iteration 107, loss = 1.68272877\n",
            "Iteration 108, loss = 1.68282247\n",
            "Iteration 109, loss = 1.68279894\n",
            "Iteration 110, loss = 1.68240424\n",
            "Iteration 111, loss = 1.68266281\n",
            "Iteration 112, loss = 1.68233546\n",
            "Iteration 113, loss = 1.68215136\n",
            "Iteration 114, loss = 1.68216792\n",
            "Iteration 115, loss = 1.68275739\n",
            "Iteration 116, loss = 1.68159490\n",
            "Iteration 117, loss = 1.68130131\n",
            "Iteration 118, loss = 1.68184679\n",
            "Iteration 119, loss = 1.68228407\n",
            "Iteration 120, loss = 1.68120844\n",
            "Iteration 121, loss = 1.68103045\n",
            "Iteration 122, loss = 1.68082652\n",
            "Iteration 123, loss = 1.68055949\n",
            "Iteration 124, loss = 1.68020680\n",
            "Iteration 125, loss = 1.68024351\n",
            "Iteration 126, loss = 1.68032762\n",
            "Iteration 127, loss = 1.68035261\n",
            "Iteration 128, loss = 1.67971512\n",
            "Iteration 129, loss = 1.67978242\n",
            "Iteration 130, loss = 1.67956850\n",
            "Iteration 131, loss = 1.67987168\n",
            "Iteration 132, loss = 1.67952100\n",
            "Iteration 133, loss = 1.67933422\n",
            "Iteration 134, loss = 1.67895199\n",
            "Iteration 135, loss = 1.67883573\n",
            "Iteration 136, loss = 1.67840282\n",
            "Iteration 137, loss = 1.67850007\n",
            "Iteration 138, loss = 1.67828355\n",
            "Iteration 139, loss = 1.67798448\n",
            "Iteration 140, loss = 1.67825042\n",
            "Iteration 141, loss = 1.67848459\n",
            "Iteration 142, loss = 1.67851137\n",
            "Iteration 143, loss = 1.67823343\n",
            "Iteration 144, loss = 1.67804487\n",
            "Iteration 145, loss = 1.67805101\n",
            "Iteration 146, loss = 1.67721679\n",
            "Iteration 147, loss = 1.67790883\n",
            "Iteration 148, loss = 1.67691878\n",
            "Iteration 149, loss = 1.67815663\n",
            "Iteration 150, loss = 1.67694473\n",
            "Iteration 151, loss = 1.67708377\n",
            "Iteration 152, loss = 1.67671309\n",
            "Iteration 153, loss = 1.67703192\n",
            "Iteration 154, loss = 1.67629380\n",
            "Iteration 155, loss = 1.67574678\n",
            "Iteration 156, loss = 1.67569780\n",
            "Iteration 157, loss = 1.67572803\n",
            "Iteration 158, loss = 1.67553091\n",
            "Iteration 159, loss = 1.67548817\n",
            "Iteration 160, loss = 1.67515846\n",
            "Iteration 161, loss = 1.67564098\n",
            "Iteration 162, loss = 1.67571017\n",
            "Iteration 163, loss = 1.67610458\n",
            "Iteration 164, loss = 1.67524171\n",
            "Iteration 165, loss = 1.67513184\n",
            "Iteration 166, loss = 1.67496882\n",
            "Iteration 167, loss = 1.67457706\n",
            "Iteration 168, loss = 1.67546558\n",
            "Iteration 169, loss = 1.67500970\n",
            "Iteration 170, loss = 1.67450993\n",
            "Iteration 171, loss = 1.67394002\n",
            "Iteration 172, loss = 1.67378975\n",
            "Iteration 173, loss = 1.67419839\n",
            "Iteration 174, loss = 1.67407611\n",
            "Iteration 175, loss = 1.67363144\n",
            "Iteration 176, loss = 1.67389451\n",
            "Iteration 177, loss = 1.67353816\n",
            "Iteration 178, loss = 1.67355423\n",
            "Iteration 179, loss = 1.67329753\n",
            "Iteration 180, loss = 1.67320814\n",
            "Iteration 181, loss = 1.67255813\n",
            "Iteration 182, loss = 1.67268105\n",
            "Iteration 183, loss = 1.67227429\n",
            "Iteration 184, loss = 1.67206204\n",
            "Iteration 185, loss = 1.67234824\n",
            "Iteration 186, loss = 1.67264401\n",
            "Iteration 187, loss = 1.67289837\n",
            "Iteration 188, loss = 1.67164100\n",
            "Iteration 189, loss = 1.67179791\n",
            "Iteration 190, loss = 1.67291934\n",
            "Iteration 191, loss = 1.67236180\n",
            "Iteration 192, loss = 1.67156214\n",
            "Iteration 193, loss = 1.67139348\n",
            "Iteration 194, loss = 1.67239026\n",
            "Iteration 195, loss = 1.67154634\n",
            "Iteration 196, loss = 1.67157017\n",
            "Iteration 197, loss = 1.67164717\n",
            "Iteration 198, loss = 1.67118406\n",
            "Iteration 199, loss = 1.67136159\n",
            "Iteration 200, loss = 1.67099303\n",
            "Iteration 201, loss = 1.67092000\n",
            "Iteration 202, loss = 1.67070638\n",
            "Iteration 203, loss = 1.67055492\n",
            "Iteration 204, loss = 1.67024189\n",
            "Iteration 205, loss = 1.67012658\n",
            "Iteration 206, loss = 1.67041453\n",
            "Iteration 207, loss = 1.67029691\n",
            "Iteration 208, loss = 1.67002919\n",
            "Iteration 209, loss = 1.66982927\n",
            "Iteration 210, loss = 1.66985069\n",
            "Iteration 211, loss = 1.67004952\n",
            "Iteration 212, loss = 1.67000964\n",
            "Iteration 213, loss = 1.67025687\n",
            "Iteration 214, loss = 1.67077109\n",
            "Iteration 215, loss = 1.67066937\n",
            "Iteration 216, loss = 1.66958317\n",
            "Iteration 217, loss = 1.66915639\n",
            "Iteration 218, loss = 1.66885031\n",
            "Iteration 219, loss = 1.66865455\n",
            "Iteration 220, loss = 1.66939635\n",
            "Iteration 221, loss = 1.66895983\n",
            "Iteration 222, loss = 1.66820550\n",
            "Iteration 223, loss = 1.66985066\n",
            "Iteration 224, loss = 1.66859627\n",
            "Iteration 225, loss = 1.66849349\n",
            "Iteration 226, loss = 1.66792241\n",
            "Iteration 227, loss = 1.66824574\n",
            "Iteration 228, loss = 1.66813810\n",
            "Iteration 229, loss = 1.66815749\n",
            "Iteration 230, loss = 1.66844640\n",
            "Iteration 231, loss = 1.66831748\n",
            "Iteration 232, loss = 1.66856220\n",
            "Iteration 233, loss = 1.66895225\n",
            "Iteration 234, loss = 1.66787884\n",
            "Iteration 235, loss = 1.66795730\n",
            "Iteration 236, loss = 1.66838982\n",
            "Iteration 237, loss = 1.66738137\n",
            "Iteration 238, loss = 1.66741074\n",
            "Iteration 239, loss = 1.66718783\n",
            "Iteration 240, loss = 1.66619920\n",
            "Iteration 241, loss = 1.66784765\n",
            "Iteration 242, loss = 1.66703946\n",
            "Iteration 243, loss = 1.66635713\n",
            "Iteration 244, loss = 1.66703138\n",
            "Iteration 245, loss = 1.66593899\n",
            "Iteration 246, loss = 1.66602871\n",
            "Iteration 247, loss = 1.66674886\n",
            "Iteration 248, loss = 1.66634142\n",
            "Iteration 249, loss = 1.66599409\n",
            "Iteration 250, loss = 1.66583723\n",
            "Iteration 251, loss = 1.66609404\n",
            "Iteration 252, loss = 1.66664540\n",
            "Iteration 253, loss = 1.66647767\n",
            "Iteration 254, loss = 1.66556033\n",
            "Iteration 255, loss = 1.66523595\n",
            "Iteration 256, loss = 1.66534519\n",
            "Iteration 257, loss = 1.66566510\n",
            "Iteration 258, loss = 1.66546138\n",
            "Iteration 259, loss = 1.66505477\n",
            "Iteration 260, loss = 1.66625484\n",
            "Iteration 261, loss = 1.66555615\n",
            "Iteration 262, loss = 1.66625070\n",
            "Iteration 263, loss = 1.66608026\n",
            "Iteration 264, loss = 1.66489648\n",
            "Iteration 265, loss = 1.66518049\n",
            "Iteration 266, loss = 1.66512292\n",
            "Iteration 267, loss = 1.66449153\n",
            "Iteration 268, loss = 1.66431018\n",
            "Iteration 269, loss = 1.66454902\n",
            "Iteration 270, loss = 1.66452445\n",
            "Iteration 271, loss = 1.66444568\n",
            "Iteration 272, loss = 1.66434701\n",
            "Iteration 273, loss = 1.66438762\n",
            "Iteration 274, loss = 1.66439444\n",
            "Iteration 275, loss = 1.66450446\n",
            "Iteration 276, loss = 1.66411018\n",
            "Iteration 277, loss = 1.66431971\n",
            "Iteration 278, loss = 1.66430019\n",
            "Iteration 279, loss = 1.66389822\n",
            "Iteration 280, loss = 1.66357323\n",
            "Iteration 281, loss = 1.66420170\n",
            "Iteration 282, loss = 1.66417103\n",
            "Iteration 283, loss = 1.66435648\n",
            "Iteration 284, loss = 1.66379169\n",
            "Iteration 285, loss = 1.66336532\n",
            "Iteration 286, loss = 1.66263882\n",
            "Iteration 287, loss = 1.66353270\n",
            "Iteration 288, loss = 1.66337226\n",
            "Iteration 289, loss = 1.66414538\n",
            "Iteration 290, loss = 1.66320430\n",
            "Iteration 291, loss = 1.66319366\n",
            "Iteration 292, loss = 1.66296538\n",
            "Iteration 293, loss = 1.66234171\n",
            "Iteration 294, loss = 1.66291168\n",
            "Iteration 295, loss = 1.66222226\n",
            "Iteration 296, loss = 1.66202196\n",
            "Iteration 297, loss = 1.66210532\n",
            "Iteration 298, loss = 1.66185026\n",
            "Iteration 299, loss = 1.66247582\n",
            "Iteration 300, loss = 1.66254030\n"
          ]
        },
        {
          "name": "stderr",
          "output_type": "stream",
          "text": [
            "/home/ubuntu/anaconda3/envs/ai4halth/lib/python3.8/site-packages/sklearn/neural_network/_multilayer_perceptron.py:692: ConvergenceWarning: Stochastic Optimizer: Maximum iterations (300) reached and the optimization hasn't converged yet.\n",
            "  warnings.warn(\n"
          ]
        }
      ],
      "source": [
        "from sklearn.neural_network import MLPClassifier\n",
        "\n",
        "clf = MLPClassifier(random_state=1, max_iter=300, verbose=True)\n",
        "clf.fit(train_features_oversampled, train_labels_oversampled)\n",
        "predicted_labels_mlp = clf.predict(test_features)"
      ]
    },
    {
      "cell_type": "code",
      "execution_count": 18,
      "metadata": {
        "colab": {
          "base_uri": "https://localhost:8080/",
          "height": 349
        },
        "id": "Sl7qfY6_l19g",
        "outputId": "83d18061-db58-45a9-f23d-0ee28aae960c"
      },
      "outputs": [
        {
          "name": "stdout",
          "output_type": "stream",
          "text": [
            "Accuracy: 0.14576271186440679\n",
            "Precision: 0.14576271186440679\n",
            "Recall: 0.14576271186440679\n",
            "F1 score: 0.14576271186440679\n"
          ]
        },
        {
          "data": {
            "image/png": "[encoded data removed]",
            "text/plain": [
              "<Figure size 432x288 with 2 Axes>"
            ]
          },
          "metadata": {
            "needs_background": "light"
          },
          "output_type": "display_data"
        }
      ],
      "source": [
        "evaluate(test_labels, predicted_labels_mlp)"
      ]
    }
  ],
  "metadata": {
    "accelerator": "GPU",
    "colab": {
      "machine_shape": "hm",
      "name": "Multi-class Classification_Power Spectra .ipynb",
      "provenance": []
    },
    "interpreter": {
      "hash": "a9205b650ad9b26ded1fb73bba57cf404cfc03cd0c8186ebe669ad7e6a2a6143"
    },
    "kernelspec": {
      "display_name": "Python 3.8.12 64-bit ('ai4halth': conda)",
      "name": "python3"
    },
    "language_info": {
      "codemirror_mode": {
        "name": "ipython",
        "version": 3
      },
      "file_extension": ".py",
      "mimetype": "text/x-python",
      "name": "python",
      "nbconvert_exporter": "python",
      "pygments_lexer": "ipython3",
      "version": "3.8.12"
    }
  },
  "nbformat": 4,
  "nbformat_minor": 0
}
