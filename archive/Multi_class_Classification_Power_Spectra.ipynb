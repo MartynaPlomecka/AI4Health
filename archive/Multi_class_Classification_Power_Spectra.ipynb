{
  "nbformat": 4,
  "nbformat_minor": 0,
  "metadata": {
    "accelerator": "GPU",
    "colab": {
      "name": "Multi_class_Classification_Power_Spectra_.ipynb",
      "provenance": [],
      "collapsed_sections": [],
      "machine_shape": "hm"
    },
    "kernelspec": {
      "display_name": "Python 3",
      "language": "python",
      "name": "python3"
    },
    "language_info": {
      "codemirror_mode": {
        "name": "ipython",
        "version": 3
      },
      "file_extension": ".py",
      "mimetype": "text/x-python",
      "name": "python",
      "nbconvert_exporter": "python",
      "pygments_lexer": "ipython3",
      "version": "3.8.5"
    }
  },
  "cells": [
    {
      "cell_type": "code",
      "metadata": {
        "id": "IjsCisv7FvHs"
      },
      "source": [
        "import scipy.io\n",
        "import numpy as np\n",
        "import pandas as pd\n",
        "import matplotlib.pyplot as plt\n",
        "\n",
        "from sklearn.model_selection import train_test_split\n",
        "from imblearn.over_sampling import SMOTE\n",
        "\n",
        "import tensorflow as tf\n",
        "from tensorflow.keras.models import Model, load_model\n",
        "from tensorflow.keras.layers import Input, Dense, LeakyReLU, BatchNormalization\n",
        "from tensorflow.keras.utils import plot_model, to_categorical\n"
      ],
      "execution_count": 1,
      "outputs": []
    },
    {
      "cell_type": "markdown",
      "metadata": {
        "id": "LKPjAw07FvH2"
      },
      "source": [
        "## Data Loading and Processing"
      ]
    },
    {
      "cell_type": "code",
      "metadata": {
        "id": "o5QNdMC-111Y"
      },
      "source": [
        "import os\n",
        "\n",
        "DATA_DIR = ''\n",
        "if 'google.colab' not in str(get_ipython()) and \"anuja\" in os.environ.get('USER'):\n",
        "    DATA_DIR = 'data/'"
      ],
      "execution_count": 2,
      "outputs": []
    },
    {
      "cell_type": "code",
      "metadata": {
        "colab": {
          "base_uri": "https://localhost:8080/"
        },
        "id": "IyFwAfLNFvH6",
        "outputId": "bdeae9ef-6da2-4e00-8b03-55eda275dc55"
      },
      "source": [
        "# data loading\n",
        "data = scipy.io.loadmat(DATA_DIR+'x.mat')  \n",
        "columns = np.asarray([['Electrode %d - %d/2 Hz'%(i+1, j+1)] for i in range(data['x'].shape[1]) for j in range(data['x'].shape[2])])\n",
        "data['x'].shape\n",
        "labels = pd.read_csv(DATA_DIR+\"table_withlabels.csv\")\n",
        "foof = pd.read_csv(DATA_DIR+\"foof2features.csv\")\n",
        "beh = pd.read_csv(DATA_DIR+\"behaviorals.csv\")\n",
        "df = pd.DataFrame(data['x'].reshape((data['x'].shape[0], -1)))\n",
        "df.columns = columns\n",
        "df['IDs'] = foof['C1']\n",
        "df = pd.merge(df, labels[['label', 'IDs']], on='IDs', how='inner')\n",
        "print(df['label'].value_counts())"
      ],
      "execution_count": 3,
      "outputs": [
        {
          "output_type": "stream",
          "name": "stdout",
          "text": [
            "Other Neurodevelopmental Disorders    492\n",
            "ADHD-Inattentive Type                 388\n",
            "ADHD-Combined Type                    376\n",
            "Anxiety Disorders                     241\n",
            "No Diagnosis Given                    203\n",
            "Depressive Disorders                   85\n",
            "Name: label, dtype: int64\n"
          ]
        }
      ]
    },
    {
      "cell_type": "code",
      "metadata": {
        "id": "yv-RgMHhFvH9"
      },
      "source": [
        "# add labels\n",
        "pd.options.mode.chained_assignment = None\n",
        "\n",
        "df.label[df.label == 'Other Neurodevelopmental Disorders'] = 1\n",
        "df.label[df.label == 'ADHD-Inattentive Type'] = 2\n",
        "df.label[df.label == 'ADHD-Combined Type'] = 3\n",
        "df.label[df.label == 'Anxiety Disorders'] = 4\n",
        "df.label[df.label == 'No Diagnosis Given'] = 5\n",
        "df.label[df.label == 'Depressive Disorders'] = 6\n",
        "df.label = df['label'].astype(int)\n",
        "labels = ['Other Neurodevelopmental Disorders', 'ADHD-Inattentive Type', 'ADHD-Combined Type', 'Anxiety Disorders', 'No Diagnosis Given', 'Depressive Disorders']"
      ],
      "execution_count": 4,
      "outputs": []
    },
    {
      "cell_type": "code",
      "metadata": {
        "id": "jb9T4ixBFvH-"
      },
      "source": [
        "# data splitting\n",
        "\n",
        "train_df, test_df = train_test_split(df, test_size=0.3, stratify=df['label'])\n",
        "\n",
        "train_labels, test_labels = train_df['label'], test_df['label']\n",
        "test_labels_categorical = to_categorical(test_df['label']-1)\n",
        "\n",
        "train_features = train_df[train_df.columns.difference(['IDs', 'label'])]\n",
        "test_features = test_df[test_df.columns.difference(['IDs', 'label'])]"
      ],
      "execution_count": 5,
      "outputs": []
    },
    {
      "cell_type": "markdown",
      "metadata": {
        "id": "l1MryYsFFvH_"
      },
      "source": [
        "## AutoEncoder for Feature Extraction"
      ]
    },
    {
      "cell_type": "code",
      "metadata": {
        "colab": {
          "base_uri": "https://localhost:8080/"
        },
        "id": "RhFtsOcFFvIA",
        "outputId": "250427fa-ce81-4e12-bd0c-542b5c71bdfb"
      },
      "source": [
        "n_inputs = train_features.shape[1]\n",
        "\n",
        "visible = Input(shape=(n_inputs,))\n",
        "e = Dense(n_inputs*2)(visible)\n",
        "e = BatchNormalization()(e)\n",
        "e = LeakyReLU()(e)\n",
        "e = Dense(n_inputs)(e)\n",
        "e = BatchNormalization()(e)\n",
        "e = LeakyReLU()(e)\n",
        "n_bottleneck = round(float(n_inputs) / 2.0)\n",
        "bottleneck = Dense(n_bottleneck)(e)\n",
        "\n",
        "d = Dense(n_inputs)(bottleneck)\n",
        "d = BatchNormalization()(d)\n",
        "d = LeakyReLU()(d)\n",
        "\n",
        "d = Dense(n_inputs*2)(d)\n",
        "d = BatchNormalization()(d)\n",
        "d = LeakyReLU()(d)\n",
        "\n",
        "output = Dense(n_inputs, activation='linear')(d)\n",
        "\n",
        "model = Model(inputs=visible, outputs=output)\n",
        "model.compile(optimizer='adam', loss='mse')\n",
        "plot_model(model, 'autoencoder_compress.png', show_shapes=True)\n",
        "\n",
        "history = model.fit(train_features, train_labels, epochs=50, batch_size=16, verbose=2)\n",
        "encoder = Model(inputs=visible, outputs=bottleneck)\n",
        "\n",
        "plot_model(encoder, 'encoder_compress.png', show_shapes=True)\n",
        "encoder.save('autoencoder.h5')"
      ],
      "execution_count": 6,
      "outputs": [
        {
          "output_type": "stream",
          "name": "stdout",
          "text": [
            "Epoch 1/50\n",
            "79/79 - 6s - loss: 5.7040 - 6s/epoch - 80ms/step\n",
            "Epoch 2/50\n",
            "79/79 - 5s - loss: 4.7288 - 5s/epoch - 62ms/step\n",
            "Epoch 3/50\n",
            "79/79 - 5s - loss: 3.2421 - 5s/epoch - 62ms/step\n",
            "Epoch 4/50\n",
            "79/79 - 5s - loss: 2.9876 - 5s/epoch - 62ms/step\n",
            "Epoch 5/50\n",
            "79/79 - 5s - loss: 2.9921 - 5s/epoch - 62ms/step\n",
            "Epoch 6/50\n",
            "79/79 - 5s - loss: 3.8472 - 5s/epoch - 62ms/step\n",
            "Epoch 7/50\n",
            "79/79 - 5s - loss: 3.1632 - 5s/epoch - 62ms/step\n",
            "Epoch 8/50\n",
            "79/79 - 5s - loss: 2.7826 - 5s/epoch - 62ms/step\n",
            "Epoch 9/50\n",
            "79/79 - 5s - loss: 2.7875 - 5s/epoch - 62ms/step\n",
            "Epoch 10/50\n",
            "79/79 - 5s - loss: 3.1231 - 5s/epoch - 62ms/step\n",
            "Epoch 11/50\n",
            "79/79 - 5s - loss: 3.0978 - 5s/epoch - 62ms/step\n",
            "Epoch 12/50\n",
            "79/79 - 5s - loss: 2.5173 - 5s/epoch - 62ms/step\n",
            "Epoch 13/50\n",
            "79/79 - 5s - loss: 3.0155 - 5s/epoch - 61ms/step\n",
            "Epoch 14/50\n",
            "79/79 - 5s - loss: 2.1516 - 5s/epoch - 61ms/step\n",
            "Epoch 15/50\n",
            "79/79 - 5s - loss: 2.2341 - 5s/epoch - 62ms/step\n",
            "Epoch 16/50\n",
            "79/79 - 5s - loss: 2.1818 - 5s/epoch - 62ms/step\n",
            "Epoch 17/50\n",
            "79/79 - 5s - loss: 2.3046 - 5s/epoch - 62ms/step\n",
            "Epoch 18/50\n",
            "79/79 - 5s - loss: 2.3045 - 5s/epoch - 62ms/step\n",
            "Epoch 19/50\n",
            "79/79 - 5s - loss: 2.1623 - 5s/epoch - 62ms/step\n",
            "Epoch 20/50\n",
            "79/79 - 5s - loss: 1.7485 - 5s/epoch - 62ms/step\n",
            "Epoch 21/50\n",
            "79/79 - 5s - loss: 1.9593 - 5s/epoch - 62ms/step\n",
            "Epoch 22/50\n",
            "79/79 - 5s - loss: 1.6916 - 5s/epoch - 62ms/step\n",
            "Epoch 23/50\n",
            "79/79 - 5s - loss: 2.2504 - 5s/epoch - 61ms/step\n",
            "Epoch 24/50\n",
            "79/79 - 5s - loss: 1.5965 - 5s/epoch - 62ms/step\n",
            "Epoch 25/50\n",
            "79/79 - 5s - loss: 1.3772 - 5s/epoch - 62ms/step\n",
            "Epoch 26/50\n",
            "79/79 - 5s - loss: 1.5831 - 5s/epoch - 62ms/step\n",
            "Epoch 27/50\n",
            "79/79 - 5s - loss: 1.6673 - 5s/epoch - 62ms/step\n",
            "Epoch 28/50\n",
            "79/79 - 5s - loss: 1.4147 - 5s/epoch - 62ms/step\n",
            "Epoch 29/50\n",
            "79/79 - 5s - loss: 1.3129 - 5s/epoch - 62ms/step\n",
            "Epoch 30/50\n",
            "79/79 - 5s - loss: 1.4679 - 5s/epoch - 62ms/step\n",
            "Epoch 31/50\n",
            "79/79 - 5s - loss: 1.6016 - 5s/epoch - 62ms/step\n",
            "Epoch 32/50\n",
            "79/79 - 5s - loss: 1.3924 - 5s/epoch - 61ms/step\n",
            "Epoch 33/50\n",
            "79/79 - 5s - loss: 1.3482 - 5s/epoch - 62ms/step\n",
            "Epoch 34/50\n",
            "79/79 - 5s - loss: 1.1961 - 5s/epoch - 61ms/step\n",
            "Epoch 35/50\n",
            "79/79 - 5s - loss: 1.0737 - 5s/epoch - 62ms/step\n",
            "Epoch 36/50\n",
            "79/79 - 5s - loss: 1.2078 - 5s/epoch - 62ms/step\n",
            "Epoch 37/50\n",
            "79/79 - 5s - loss: 1.3378 - 5s/epoch - 62ms/step\n",
            "Epoch 38/50\n",
            "79/79 - 5s - loss: 1.3769 - 5s/epoch - 61ms/step\n",
            "Epoch 39/50\n",
            "79/79 - 5s - loss: 1.0962 - 5s/epoch - 62ms/step\n",
            "Epoch 40/50\n",
            "79/79 - 5s - loss: 0.9386 - 5s/epoch - 62ms/step\n",
            "Epoch 41/50\n",
            "79/79 - 5s - loss: 1.1638 - 5s/epoch - 62ms/step\n",
            "Epoch 42/50\n",
            "79/79 - 5s - loss: 0.8901 - 5s/epoch - 62ms/step\n",
            "Epoch 43/50\n",
            "79/79 - 5s - loss: 0.8937 - 5s/epoch - 62ms/step\n",
            "Epoch 44/50\n",
            "79/79 - 5s - loss: 1.1118 - 5s/epoch - 61ms/step\n",
            "Epoch 45/50\n",
            "79/79 - 5s - loss: 0.7659 - 5s/epoch - 62ms/step\n",
            "Epoch 46/50\n",
            "79/79 - 5s - loss: 0.9516 - 5s/epoch - 62ms/step\n",
            "Epoch 47/50\n",
            "79/79 - 5s - loss: 0.8851 - 5s/epoch - 62ms/step\n",
            "Epoch 48/50\n",
            "79/79 - 5s - loss: 0.9895 - 5s/epoch - 62ms/step\n",
            "Epoch 49/50\n",
            "79/79 - 5s - loss: 0.7091 - 5s/epoch - 62ms/step\n",
            "Epoch 50/50\n",
            "79/79 - 5s - loss: 0.8006 - 5s/epoch - 61ms/step\n",
            "WARNING:tensorflow:Compiled the loaded model, but the compiled metrics have yet to be built. `model.compile_metrics` will be empty until you train or evaluate the model.\n"
          ]
        }
      ]
    },
    {
      "cell_type": "code",
      "metadata": {
        "colab": {
          "base_uri": "https://localhost:8080/",
          "height": 281
        },
        "id": "rxH1C5ZOiTa7",
        "outputId": "a2e26b54-6ad0-46b2-f0af-bbc2ce060eb9"
      },
      "source": [
        "  # plot loss\n",
        "  plt.plot(history.history['loss'], label='train')\n",
        "  plt.title('Autoencoder training loss')\n",
        "  plt.legend()\n",
        "  plt.show()"
      ],
      "execution_count": 7,
      "outputs": [
        {
          "output_type": "display_data",
          "data": {
            "image/png": "[encoded data removed]",
            "text/plain": [
              "<Figure size 432x288 with 1 Axes>"
            ]
          },
          "metadata": {
            "needs_background": "light"
          }
        }
      ]
    },
    {
      "cell_type": "code",
      "metadata": {
        "id": "zgckuW7_iF6R"
      },
      "source": [
        "# encode the data\n",
        "encoder= load_model('autoencoder.h5', compile=False)\n",
        "\n",
        "train_features_encoded = encoder.predict(train_features)\n",
        "test_features_encoded = encoder.predict(test_features)"
      ],
      "execution_count": 8,
      "outputs": []
    },
    {
      "cell_type": "markdown",
      "metadata": {
        "id": "HQC-Wm64FvID"
      },
      "source": [
        "## Dealing with imbalance"
      ]
    },
    {
      "cell_type": "code",
      "metadata": {
        "colab": {
          "base_uri": "https://localhost:8080/"
        },
        "id": "qkZ5dnh7FvID",
        "outputId": "8136917e-6cf0-4fc4-ce5e-564a5e9d4ff7"
      },
      "source": [
        "oversample = SMOTE()\n",
        "train_features_encoded_oversampled, train_labels_oversampled = oversample.fit_resample(train_features_encoded, train_labels)\n",
        "train_features_oversampled, train_labels_oversampled_ = oversample.fit_resample(train_features, train_labels)\n",
        "\n",
        "train_labels_oversampled_categorical = to_categorical(train_labels_oversampled-1)"
      ],
      "execution_count": 9,
      "outputs": [
        {
          "output_type": "stream",
          "name": "stderr",
          "text": [
            "/usr/local/lib/python3.7/dist-packages/sklearn/utils/validation.py:1679: FutureWarning: Feature names only support names that are all strings. Got feature names with dtypes: ['tuple']. An error will be raised in 1.2.\n",
            "  FutureWarning,\n"
          ]
        }
      ]
    },
    {
      "cell_type": "code",
      "metadata": {
        "id": "6cBLVO-BrAxS"
      },
      "source": [
        "if 'google.colab' in str(get_ipython()):\n",
        "  np.save('train_features_encoded_oversampled.npy', train_features_encoded_oversampled)\n",
        "  np.save('train_labels_oversampled.npy', train_labels_oversampled)\n",
        "  np.save('train_features_encoded.npy', train_features_encoded)\n",
        "  np.save('test_features_encoded.npy', test_features_encoded)"
      ],
      "execution_count": 10,
      "outputs": []
    },
    {
      "cell_type": "code",
      "metadata": {
        "id": "Tms2OlNbuvUf"
      },
      "source": [
        "# scaling the data\n",
        "\n",
        "from sklearn.preprocessing import StandardScaler\n",
        "\n",
        "scaler = StandardScaler()\n",
        "train_features_encoded_oversampled = scaler.fit_transform(train_features_encoded_oversampled)\n",
        "test_features_encoded = scaler.transform(test_features_encoded)\n",
        "\n",
        "train_features_encoded_oversampled = np.clip(train_features_encoded_oversampled, -5, 5)\n",
        "test_features_encoded = np.clip(test_features_encoded, -5, 5)"
      ],
      "execution_count": 11,
      "outputs": []
    },
    {
      "cell_type": "code",
      "metadata": {
        "colab": {
          "base_uri": "https://localhost:8080/"
        },
        "id": "nd92xbREvIly",
        "outputId": "e3834a81-aa5b-4b6b-e29f-ad7dfaf29f4e"
      },
      "source": [
        "print(train_features_encoded_oversampled.shape)\n",
        "print(train_labels_oversampled.shape)\n",
        "print(train_labels_oversampled_categorical.shape)\n",
        "print(test_features_encoded.shape)\n",
        "print(test_labels.shape)"
      ],
      "execution_count": 12,
      "outputs": [
        {
          "output_type": "stream",
          "name": "stdout",
          "text": [
            "(2064, 4148)\n",
            "(2064,)\n",
            "(2064, 6)\n",
            "(536, 4148)\n",
            "(536,)\n"
          ]
        }
      ]
    },
    {
      "cell_type": "markdown",
      "metadata": {
        "id": "vGEV__DRFvIE"
      },
      "source": [
        "## Linear Models"
      ]
    },
    {
      "cell_type": "markdown",
      "metadata": {
        "id": "DUCdA5b6FvIF"
      },
      "source": [
        "### SVC"
      ]
    },
    {
      "cell_type": "code",
      "metadata": {
        "colab": {
          "base_uri": "https://localhost:8080/"
        },
        "id": "g-MNQL01FvIF",
        "outputId": "01c8bef4-dc6a-470c-ab2c-bd3fa8878102"
      },
      "source": [
        "from sklearn import svm\n",
        "\n",
        "clf = svm.SVC(kernel='linear', verbose=True)\n",
        "clf.fit(train_features_encoded_oversampled, train_labels_oversampled)\n",
        "\n",
        "predicted_labels_svc = clf.predict(test_features_encoded)"
      ],
      "execution_count": 13,
      "outputs": [
        {
          "output_type": "stream",
          "name": "stdout",
          "text": [
            "[LibSVM]"
          ]
        }
      ]
    },
    {
      "cell_type": "code",
      "metadata": {
        "id": "u9flc8xoFvIG"
      },
      "source": [
        "from sklearn import metrics\n",
        "import matplotlib.pyplot as plt\n",
        "from sklearn.metrics import confusion_matrix, ConfusionMatrixDisplay\n",
        "\n",
        "def evaluate(y_test, y_pred, show_cm=True, is_categorical=False):\n",
        "    \n",
        "    if is_categorical:\n",
        "      y_test = np.argmax(y_test, axis=1)\n",
        "      y_pred = np.argmax(y_pred, axis=1)\n",
        "\n",
        "    print(\"Accuracy:\", metrics.accuracy_score(y_test, y_pred))\n",
        "    print(\"Precision:\", metrics.precision_score(y_test, y_pred, average='macro'))\n",
        "    print(\"Recall:\", metrics.recall_score(y_test, y_pred, average='macro'))\n",
        "#     print(\"ROC AUC:\", metrics.roc_auc_score(y_test, y_pred, multi_class='ovo',))\n",
        "    print(\"F1 score:\", metrics.f1_score(y_test, y_pred, average='macro'))\n",
        "#     print(\"Brier Score:\", metrics.brier_score_loss(y_test, y_pred)) # only for binary classification\n",
        "\n",
        "    if show_cm:\n",
        "        cm = confusion_matrix(y_test, y_pred)\n",
        "        disp = ConfusionMatrixDisplay(confusion_matrix=cm, display_labels=labels)\n",
        "        disp.plot()\n",
        "        plt.tight_layout()\n",
        "        plt.show()\n"
      ],
      "execution_count": 14,
      "outputs": []
    },
    {
      "cell_type": "code",
      "metadata": {
        "colab": {
          "base_uri": "https://localhost:8080/",
          "height": 349
        },
        "id": "fK8-_rI6CzUo",
        "outputId": "51d2e18e-3dac-4733-ad05-df170609456c"
      },
      "source": [
        "evaluate(test_labels, predicted_labels_svc)"
      ],
      "execution_count": 15,
      "outputs": [
        {
          "output_type": "stream",
          "name": "stdout",
          "text": [
            "Accuracy: 0.21082089552238806\n",
            "Precision: 0.18840370292233646\n",
            "Recall: 0.17981577240064114\n",
            "F1 score: 0.17585648603842655\n"
          ]
        },
        {
          "output_type": "display_data",
          "data": {
            "image/png": "[encoded data removed]",
            "text/plain": [
              "<Figure size 432x288 with 2 Axes>"
            ]
          },
          "metadata": {
            "needs_background": "light"
          }
        }
      ]
    },
    {
      "cell_type": "markdown",
      "metadata": {
        "id": "LahFg05KFvIH"
      },
      "source": [
        "### OneVsRestClassifier\n",
        "The strategy consists in fitting one classifier per class. For each classifier, the class is fitted against all the other classes."
      ]
    },
    {
      "cell_type": "code",
      "metadata": {
        "colab": {
          "base_uri": "https://localhost:8080/"
        },
        "id": "VScxf00iFvII",
        "outputId": "58d39bc3-7a7b-4c18-a3ce-ec21fd077ebd"
      },
      "source": [
        "from sklearn.multiclass import OneVsRestClassifier\n",
        "from sklearn.svm import LinearSVC\n",
        "\n",
        "clf = OneVsRestClassifier(LinearSVC(random_state=0, max_iter=2000, verbose=True))\n",
        "\n",
        "clf.fit(train_features_encoded_oversampled, train_labels_oversampled)\n",
        "predicted_labels_ovr = clf.predict(test_features_encoded)"
      ],
      "execution_count": 16,
      "outputs": [
        {
          "output_type": "stream",
          "name": "stdout",
          "text": [
            "[LibLinear]"
          ]
        },
        {
          "output_type": "stream",
          "name": "stderr",
          "text": [
            "/usr/local/lib/python3.7/dist-packages/sklearn/svm/_base.py:1208: ConvergenceWarning: Liblinear failed to converge, increase the number of iterations.\n",
            "  ConvergenceWarning,\n"
          ]
        },
        {
          "output_type": "stream",
          "name": "stdout",
          "text": [
            "[LibLinear]"
          ]
        },
        {
          "output_type": "stream",
          "name": "stderr",
          "text": [
            "/usr/local/lib/python3.7/dist-packages/sklearn/svm/_base.py:1208: ConvergenceWarning: Liblinear failed to converge, increase the number of iterations.\n",
            "  ConvergenceWarning,\n"
          ]
        },
        {
          "output_type": "stream",
          "name": "stdout",
          "text": [
            "[LibLinear]"
          ]
        },
        {
          "output_type": "stream",
          "name": "stderr",
          "text": [
            "/usr/local/lib/python3.7/dist-packages/sklearn/svm/_base.py:1208: ConvergenceWarning: Liblinear failed to converge, increase the number of iterations.\n",
            "  ConvergenceWarning,\n"
          ]
        },
        {
          "output_type": "stream",
          "name": "stdout",
          "text": [
            "[LibLinear]"
          ]
        },
        {
          "output_type": "stream",
          "name": "stderr",
          "text": [
            "/usr/local/lib/python3.7/dist-packages/sklearn/svm/_base.py:1208: ConvergenceWarning: Liblinear failed to converge, increase the number of iterations.\n",
            "  ConvergenceWarning,\n"
          ]
        },
        {
          "output_type": "stream",
          "name": "stdout",
          "text": [
            "[LibLinear]"
          ]
        },
        {
          "output_type": "stream",
          "name": "stderr",
          "text": [
            "/usr/local/lib/python3.7/dist-packages/sklearn/svm/_base.py:1208: ConvergenceWarning: Liblinear failed to converge, increase the number of iterations.\n",
            "  ConvergenceWarning,\n"
          ]
        },
        {
          "output_type": "stream",
          "name": "stdout",
          "text": [
            "[LibLinear]"
          ]
        },
        {
          "output_type": "stream",
          "name": "stderr",
          "text": [
            "/usr/local/lib/python3.7/dist-packages/sklearn/svm/_base.py:1208: ConvergenceWarning: Liblinear failed to converge, increase the number of iterations.\n",
            "  ConvergenceWarning,\n"
          ]
        }
      ]
    },
    {
      "cell_type": "code",
      "metadata": {
        "colab": {
          "base_uri": "https://localhost:8080/",
          "height": 349
        },
        "id": "_AreAnOwFvII",
        "outputId": "f0c9251e-76fa-4576-be05-7262fb333e76"
      },
      "source": [
        "evaluate(test_labels, predicted_labels_ovr)"
      ],
      "execution_count": 17,
      "outputs": [
        {
          "output_type": "stream",
          "name": "stdout",
          "text": [
            "Accuracy: 0.2126865671641791\n",
            "Precision: 0.2014648519586261\n",
            "Recall: 0.19077303294487646\n",
            "F1 score: 0.18281714661685985\n"
          ]
        },
        {
          "output_type": "display_data",
          "data": {
            "image/png": "[encoded data removed]",
            "text/plain": [
              "<Figure size 432x288 with 2 Axes>"
            ]
          },
          "metadata": {
            "needs_background": "light"
          }
        }
      ]
    },
    {
      "cell_type": "markdown",
      "metadata": {
        "id": "-cBrjbXzFvIJ"
      },
      "source": [
        "### OneVsOneClassifier\n",
        "OneVsOneClassifier constructs one classifier per pair of classes. At prediction time, the class which received the most votes is selected. In the event of a tie (among two classes with an equal number of votes), it selects the class with the highest aggregate classification confidence by summing over the pair-wise classification confidence levels computed by the underlying binary classifiers.\n",
        "\n"
      ]
    },
    {
      "cell_type": "code",
      "metadata": {
        "colab": {
          "base_uri": "https://localhost:8080/"
        },
        "id": "ydH-4TMDFvIK",
        "outputId": "a053708c-c4f0-478d-a4bd-89f0a5f9dcdf"
      },
      "source": [
        "from sklearn.multiclass import OneVsOneClassifier\n",
        "\n",
        "clf = OneVsOneClassifier(LinearSVC(random_state=0, verbose=True))\n",
        "\n",
        "clf.fit(train_features_encoded_oversampled, train_labels_oversampled)\n",
        "predicted_labels_ovo = clf.predict(test_features_encoded)"
      ],
      "execution_count": 18,
      "outputs": [
        {
          "output_type": "stream",
          "name": "stdout",
          "text": [
            "[LibLinear]"
          ]
        },
        {
          "output_type": "stream",
          "name": "stderr",
          "text": [
            "/usr/local/lib/python3.7/dist-packages/sklearn/svm/_base.py:1208: ConvergenceWarning: Liblinear failed to converge, increase the number of iterations.\n",
            "  ConvergenceWarning,\n"
          ]
        },
        {
          "output_type": "stream",
          "name": "stdout",
          "text": [
            "[LibLinear]"
          ]
        },
        {
          "output_type": "stream",
          "name": "stderr",
          "text": [
            "/usr/local/lib/python3.7/dist-packages/sklearn/svm/_base.py:1208: ConvergenceWarning: Liblinear failed to converge, increase the number of iterations.\n",
            "  ConvergenceWarning,\n"
          ]
        },
        {
          "output_type": "stream",
          "name": "stdout",
          "text": [
            "[LibLinear]"
          ]
        },
        {
          "output_type": "stream",
          "name": "stderr",
          "text": [
            "/usr/local/lib/python3.7/dist-packages/sklearn/svm/_base.py:1208: ConvergenceWarning: Liblinear failed to converge, increase the number of iterations.\n",
            "  ConvergenceWarning,\n",
            "/usr/local/lib/python3.7/dist-packages/sklearn/svm/_base.py:1208: ConvergenceWarning: Liblinear failed to converge, increase the number of iterations.\n",
            "  ConvergenceWarning,\n"
          ]
        },
        {
          "output_type": "stream",
          "name": "stdout",
          "text": [
            "[LibLinear][LibLinear][LibLinear]"
          ]
        },
        {
          "output_type": "stream",
          "name": "stderr",
          "text": [
            "/usr/local/lib/python3.7/dist-packages/sklearn/svm/_base.py:1208: ConvergenceWarning: Liblinear failed to converge, increase the number of iterations.\n",
            "  ConvergenceWarning,\n"
          ]
        },
        {
          "output_type": "stream",
          "name": "stdout",
          "text": [
            "[LibLinear]"
          ]
        },
        {
          "output_type": "stream",
          "name": "stderr",
          "text": [
            "/usr/local/lib/python3.7/dist-packages/sklearn/svm/_base.py:1208: ConvergenceWarning: Liblinear failed to converge, increase the number of iterations.\n",
            "  ConvergenceWarning,\n"
          ]
        },
        {
          "output_type": "stream",
          "name": "stdout",
          "text": [
            "[LibLinear]"
          ]
        },
        {
          "output_type": "stream",
          "name": "stderr",
          "text": [
            "/usr/local/lib/python3.7/dist-packages/sklearn/svm/_base.py:1208: ConvergenceWarning: Liblinear failed to converge, increase the number of iterations.\n",
            "  ConvergenceWarning,\n"
          ]
        },
        {
          "output_type": "stream",
          "name": "stdout",
          "text": [
            "[LibLinear]"
          ]
        },
        {
          "output_type": "stream",
          "name": "stderr",
          "text": [
            "/usr/local/lib/python3.7/dist-packages/sklearn/svm/_base.py:1208: ConvergenceWarning: Liblinear failed to converge, increase the number of iterations.\n",
            "  ConvergenceWarning,\n"
          ]
        },
        {
          "output_type": "stream",
          "name": "stdout",
          "text": [
            "[LibLinear]"
          ]
        },
        {
          "output_type": "stream",
          "name": "stderr",
          "text": [
            "/usr/local/lib/python3.7/dist-packages/sklearn/svm/_base.py:1208: ConvergenceWarning: Liblinear failed to converge, increase the number of iterations.\n",
            "  ConvergenceWarning,\n"
          ]
        },
        {
          "output_type": "stream",
          "name": "stdout",
          "text": [
            "[LibLinear]"
          ]
        },
        {
          "output_type": "stream",
          "name": "stderr",
          "text": [
            "/usr/local/lib/python3.7/dist-packages/sklearn/svm/_base.py:1208: ConvergenceWarning: Liblinear failed to converge, increase the number of iterations.\n",
            "  ConvergenceWarning,\n"
          ]
        },
        {
          "output_type": "stream",
          "name": "stdout",
          "text": [
            "[LibLinear]"
          ]
        },
        {
          "output_type": "stream",
          "name": "stderr",
          "text": [
            "/usr/local/lib/python3.7/dist-packages/sklearn/svm/_base.py:1208: ConvergenceWarning: Liblinear failed to converge, increase the number of iterations.\n",
            "  ConvergenceWarning,\n"
          ]
        },
        {
          "output_type": "stream",
          "name": "stdout",
          "text": [
            "[LibLinear]"
          ]
        },
        {
          "output_type": "stream",
          "name": "stderr",
          "text": [
            "/usr/local/lib/python3.7/dist-packages/sklearn/svm/_base.py:1208: ConvergenceWarning: Liblinear failed to converge, increase the number of iterations.\n",
            "  ConvergenceWarning,\n"
          ]
        },
        {
          "output_type": "stream",
          "name": "stdout",
          "text": [
            "[LibLinear]"
          ]
        },
        {
          "output_type": "stream",
          "name": "stderr",
          "text": [
            "/usr/local/lib/python3.7/dist-packages/sklearn/svm/_base.py:1208: ConvergenceWarning: Liblinear failed to converge, increase the number of iterations.\n",
            "  ConvergenceWarning,\n"
          ]
        },
        {
          "output_type": "stream",
          "name": "stdout",
          "text": [
            "[LibLinear]"
          ]
        },
        {
          "output_type": "stream",
          "name": "stderr",
          "text": [
            "/usr/local/lib/python3.7/dist-packages/sklearn/svm/_base.py:1208: ConvergenceWarning: Liblinear failed to converge, increase the number of iterations.\n",
            "  ConvergenceWarning,\n"
          ]
        }
      ]
    },
    {
      "cell_type": "code",
      "metadata": {
        "colab": {
          "base_uri": "https://localhost:8080/",
          "height": 349
        },
        "id": "xu-kDqPdFvIK",
        "outputId": "0f4407fc-5473-4f75-e8f8-cb40492fc7d1"
      },
      "source": [
        "evaluate(test_labels, predicted_labels_ovr)"
      ],
      "execution_count": 19,
      "outputs": [
        {
          "output_type": "stream",
          "name": "stdout",
          "text": [
            "Accuracy: 0.2126865671641791\n",
            "Precision: 0.2014648519586261\n",
            "Recall: 0.19077303294487646\n",
            "F1 score: 0.18281714661685985\n"
          ]
        },
        {
          "output_type": "display_data",
          "data": {
            "image/png": "[encoded data removed]",
            "text/plain": [
              "<Figure size 432x288 with 2 Axes>"
            ]
          },
          "metadata": {
            "needs_background": "light"
          }
        }
      ]
    },
    {
      "cell_type": "markdown",
      "metadata": {
        "id": "u_5tPjL2FvIL"
      },
      "source": [
        "### Random Forest"
      ]
    },
    {
      "cell_type": "code",
      "metadata": {
        "colab": {
          "base_uri": "https://localhost:8080/"
        },
        "id": "kGIa95sQFvIL",
        "outputId": "979cfbe2-6067-4333-f45f-ca604339bb54"
      },
      "source": [
        "from sklearn.ensemble import RandomForestClassifier\n",
        "\n",
        "clf = RandomForestClassifier(max_depth=5, random_state=0, verbose=True)\n",
        "clf.fit(train_features_encoded_oversampled, train_labels_oversampled)\n",
        "predicted_labels_rf = clf.predict(test_features_encoded)"
      ],
      "execution_count": 20,
      "outputs": [
        {
          "output_type": "stream",
          "name": "stderr",
          "text": [
            "[Parallel(n_jobs=1)]: Using backend SequentialBackend with 1 concurrent workers.\n",
            "[Parallel(n_jobs=1)]: Done 100 out of 100 | elapsed:    4.2s finished\n",
            "[Parallel(n_jobs=1)]: Using backend SequentialBackend with 1 concurrent workers.\n",
            "[Parallel(n_jobs=1)]: Done 100 out of 100 | elapsed:    0.0s finished\n"
          ]
        }
      ]
    },
    {
      "cell_type": "code",
      "metadata": {
        "colab": {
          "base_uri": "https://localhost:8080/",
          "height": 351
        },
        "id": "OjVFQE79FvIM",
        "outputId": "544f3c3b-e8eb-4984-c0c1-a27c0b032fea"
      },
      "source": [
        "evaluate(test_labels, predicted_labels_rf)"
      ],
      "execution_count": 21,
      "outputs": [
        {
          "output_type": "stream",
          "name": "stdout",
          "text": [
            "Accuracy: 0.208955223880597\n",
            "Precision: 0.17886105897589158\n",
            "Recall: 0.17525117626326\n",
            "F1 score: 0.1708685260082882\n"
          ]
        },
        {
          "output_type": "display_data",
          "data": {
            "image/png": "[encoded data removed]",
            "text/plain": [
              "<Figure size 432x288 with 2 Axes>"
            ]
          },
          "metadata": {
            "needs_background": "light"
          }
        }
      ]
    },
    {
      "cell_type": "markdown",
      "metadata": {
        "id": "fikPzPJkgPkW"
      },
      "source": [
        "### MLP\n"
      ]
    },
    {
      "cell_type": "code",
      "metadata": {
        "colab": {
          "base_uri": "https://localhost:8080/"
        },
        "id": "eEXb2fNzgX1-",
        "outputId": "1d85fb02-f7a5-4d8b-b840-f54186884cfc"
      },
      "source": [
        "from sklearn.neural_network import MLPClassifier\n",
        "\n",
        "clf = MLPClassifier(random_state=1, max_iter=300, verbose=True)\n",
        "clf.fit(train_features_encoded_oversampled, train_labels_oversampled)\n",
        "predicted_labels_mlp = clf.predict(test_features_encoded)"
      ],
      "execution_count": 22,
      "outputs": [
        {
          "output_type": "stream",
          "name": "stdout",
          "text": [
            "Iteration 1, loss = 1.91628920\n",
            "Iteration 2, loss = 1.19013562\n",
            "Iteration 3, loss = 1.05386114\n",
            "Iteration 4, loss = 1.00079139\n",
            "Iteration 5, loss = 1.18051650\n",
            "Iteration 6, loss = 0.90596277\n",
            "Iteration 7, loss = 0.90477829\n",
            "Iteration 8, loss = 0.92347378\n",
            "Iteration 9, loss = 0.81848941\n",
            "Iteration 10, loss = 0.73599620\n",
            "Iteration 11, loss = 0.73209382\n",
            "Iteration 12, loss = 0.75230138\n",
            "Iteration 13, loss = 0.77926719\n",
            "Iteration 14, loss = 0.77054468\n",
            "Iteration 15, loss = 0.79557241\n",
            "Iteration 16, loss = 0.73671081\n",
            "Iteration 17, loss = 0.70684774\n",
            "Iteration 18, loss = 0.68767884\n",
            "Iteration 19, loss = 0.76404793\n",
            "Iteration 20, loss = 0.70378278\n",
            "Iteration 21, loss = 0.64149501\n",
            "Iteration 22, loss = 0.62808857\n",
            "Iteration 23, loss = 0.65924413\n",
            "Iteration 24, loss = 0.67493046\n",
            "Iteration 25, loss = 0.67864914\n",
            "Iteration 26, loss = 0.60776091\n",
            "Iteration 27, loss = 0.59315686\n",
            "Iteration 28, loss = 0.59631643\n",
            "Iteration 29, loss = 0.63868832\n",
            "Iteration 30, loss = 0.60038352\n",
            "Iteration 31, loss = 0.62308537\n",
            "Iteration 32, loss = 0.64109595\n",
            "Iteration 33, loss = 0.61073567\n",
            "Iteration 34, loss = 0.58680358\n",
            "Iteration 35, loss = 0.58419937\n",
            "Iteration 36, loss = 0.58166752\n",
            "Iteration 37, loss = 0.64473989\n",
            "Iteration 38, loss = 0.64154878\n",
            "Iteration 39, loss = 0.61064280\n",
            "Iteration 40, loss = 0.63584294\n",
            "Iteration 41, loss = 0.61877425\n",
            "Iteration 42, loss = 0.61040119\n",
            "Iteration 43, loss = 0.60079877\n",
            "Iteration 44, loss = 0.61669166\n",
            "Iteration 45, loss = 0.59755617\n",
            "Iteration 46, loss = 0.58006225\n",
            "Iteration 47, loss = 0.55353612\n",
            "Iteration 48, loss = 0.54394651\n",
            "Iteration 49, loss = 0.63384420\n",
            "Iteration 50, loss = 0.67925118\n",
            "Iteration 51, loss = 0.72291767\n",
            "Iteration 52, loss = 0.63886988\n",
            "Iteration 53, loss = 0.56571511\n",
            "Iteration 54, loss = 0.57769269\n",
            "Iteration 55, loss = 0.64873042\n",
            "Iteration 56, loss = 0.53721951\n",
            "Iteration 57, loss = 0.54143788\n",
            "Iteration 58, loss = 0.58276833\n",
            "Iteration 59, loss = 0.53652085\n",
            "Iteration 60, loss = 0.56342419\n",
            "Iteration 61, loss = 0.57127980\n",
            "Iteration 62, loss = 0.56504760\n",
            "Iteration 63, loss = 0.61006989\n",
            "Iteration 64, loss = 0.59926583\n",
            "Iteration 65, loss = 0.55100533\n",
            "Iteration 66, loss = 0.54136661\n",
            "Iteration 67, loss = 0.54219725\n",
            "Iteration 68, loss = 0.53312845\n",
            "Iteration 69, loss = 0.50148052\n",
            "Iteration 70, loss = 0.54019399\n",
            "Iteration 71, loss = 0.62169281\n",
            "Iteration 72, loss = 0.56685400\n",
            "Iteration 73, loss = 0.52048842\n",
            "Iteration 74, loss = 0.49524166\n",
            "Iteration 75, loss = 0.52817679\n",
            "Iteration 76, loss = 0.60416127\n",
            "Iteration 77, loss = 0.52722249\n",
            "Iteration 78, loss = 0.48743313\n",
            "Iteration 79, loss = 0.52731918\n",
            "Iteration 80, loss = 0.48803982\n",
            "Iteration 81, loss = 0.52020786\n",
            "Iteration 82, loss = 0.54906083\n",
            "Iteration 83, loss = 0.52360811\n",
            "Iteration 84, loss = 0.53428884\n",
            "Iteration 85, loss = 0.52477738\n",
            "Iteration 86, loss = 0.54156168\n",
            "Iteration 87, loss = 0.50465867\n",
            "Iteration 88, loss = 0.62351904\n",
            "Iteration 89, loss = 0.58830934\n",
            "Training loss did not improve more than tol=0.000100 for 10 consecutive epochs. Stopping.\n"
          ]
        }
      ]
    },
    {
      "cell_type": "code",
      "metadata": {
        "colab": {
          "base_uri": "https://localhost:8080/",
          "height": 349
        },
        "id": "Sl7qfY6_l19g",
        "outputId": "81d6acb3-2bdd-42c8-94d7-c317019b273b"
      },
      "source": [
        "evaluate(test_labels, predicted_labels_mlp)"
      ],
      "execution_count": 23,
      "outputs": [
        {
          "output_type": "stream",
          "name": "stdout",
          "text": [
            "Accuracy: 0.1828358208955224\n",
            "Precision: 0.1489822018824328\n",
            "Recall: 0.15220318381383832\n",
            "F1 score: 0.13978663104573993\n"
          ]
        },
        {
          "output_type": "display_data",
          "data": {
            "image/png": "[encoded data removed]",
            "text/plain": [
              "<Figure size 432x288 with 2 Axes>"
            ]
          },
          "metadata": {
            "needs_background": "light"
          }
        }
      ]
    },
    {
      "cell_type": "markdown",
      "metadata": {
        "id": "0C4m6myd3aO1"
      },
      "source": [
        "## CNNs"
      ]
    },
    {
      "cell_type": "code",
      "metadata": {
        "colab": {
          "base_uri": "https://localhost:8080/"
        },
        "id": "BjOc8ckX3Zhb",
        "outputId": "20378fb7-2b28-45c5-b294-29030c7b900c"
      },
      "source": [
        "from tensorflow.keras.models import Sequential\n",
        "from tensorflow.keras.layers import Conv1D \n",
        "from tensorflow.keras.layers import MaxPooling1D\n",
        "from tensorflow.keras.layers import Flatten\n",
        "from tensorflow.keras.layers import Dense, Dropout\n",
        "from tensorflow.keras.utils import to_categorical\n",
        "# print('Tensorflow Version: ',tensorflow.__version__)\n",
        "from tensorflow.keras.layers import BatchNormalization\n",
        "\n",
        "def get_CNN_classifier():\n",
        "  # Initialising the CNN\n",
        "  model = Sequential()\n",
        "  # Convolution\n",
        "  model.add(Conv1D(filters = 32, kernel_size = 3, input_shape = (79, 105), activation = 'relu', padding = 'same'))\n",
        "  # Pooling\n",
        "  model.add(MaxPooling1D(pool_size = 2))\n",
        "  # Convolution\n",
        "  model.add(Conv1D(filters = 64, kernel_size = 3, input_shape = (39, 32), activation = 'relu', padding = 'same'))\n",
        "  model.add(Conv1D(filters = 64, kernel_size = 3, input_shape = (39, 64), activation = 'relu', padding = 'same'))\n",
        "  model.add(BatchNormalization())\n",
        "  model.add(MaxPooling1D(pool_size = 2))\n",
        "  model.add(Conv1D(filters =128, kernel_size = 3, input_shape = (19, 64), activation = 'relu', padding = 'same'))\n",
        "  # model.add(Conv1D(filters =128, kernel_size = 3, input_shape = (19, 128), activation = 'relu', padding = 'same'))\n",
        "  model.add(BatchNormalization())\n",
        "  model.add(MaxPooling1D(pool_size = 2))\n",
        "  model.add(Conv1D(filters =256, kernel_size = 3, input_shape = (9, 128), activation = 'relu', padding = 'same'))\n",
        "  #model.add(Conv1D(filters =256, kernel_size = 3, input_shape = (9, 256), activation = 'relu', padding = 'same'))\n",
        "  model.add(BatchNormalization())\n",
        "  model.add(MaxPooling1D(pool_size = 2))\n",
        "  model.add(Conv1D(filters =512, kernel_size = 3, input_shape = (4, 256), activation = 'relu', padding = 'same'))\n",
        "  #model.add(Conv1D(filters =512, kernel_size = 3, input_shape = (4, 512), activation = 'relu', padding = 'same'))\n",
        "  model.add(BatchNormalization())\n",
        "  model.add(MaxPooling1D(pool_size = 2))\n",
        "  model.add(Conv1D(filters = 1024, kernel_size = 3, input_shape = (2, 512), activation = 'relu', padding = 'same'))\n",
        "  model.add(Conv1D(filters = 1024, kernel_size = 3, input_shape = (2, 1028), activation = 'relu', padding = 'same'))\n",
        "  model.add(MaxPooling1D(pool_size = 2))\n",
        "  # Flattening\n",
        "  model.add(Flatten())\n",
        "\n",
        "  model.add(Dense(units = 6, activation = 'softmax'))\n",
        "  # Compiling the CNN\n",
        "  model.compile(optimizer = 'adam', loss = 'categorical_crossentropy', metrics = ['accuracy'])\n",
        "  model.summary()\n",
        "  \n",
        "  return model\n",
        "\n",
        "CNN_model = get_CNN_classifier()"
      ],
      "execution_count": 24,
      "outputs": [
        {
          "output_type": "stream",
          "name": "stdout",
          "text": [
            "Model: \"sequential\"\n",
            "_________________________________________________________________\n",
            " Layer (type)                Output Shape              Param #   \n",
            "=================================================================\n",
            " conv1d (Conv1D)             (None, 79, 32)            10112     \n",
            "                                                                 \n",
            " max_pooling1d (MaxPooling1D  (None, 39, 32)           0         \n",
            " )                                                               \n",
            "                                                                 \n",
            " conv1d_1 (Conv1D)           (None, 39, 64)            6208      \n",
            "                                                                 \n",
            " conv1d_2 (Conv1D)           (None, 39, 64)            12352     \n",
            "                                                                 \n",
            " batch_normalization_4 (Batc  (None, 39, 64)           256       \n",
            " hNormalization)                                                 \n",
            "                                                                 \n",
            " max_pooling1d_1 (MaxPooling  (None, 19, 64)           0         \n",
            " 1D)                                                             \n",
            "                                                                 \n",
            " conv1d_3 (Conv1D)           (None, 19, 128)           24704     \n",
            "                                                                 \n",
            " batch_normalization_5 (Batc  (None, 19, 128)          512       \n",
            " hNormalization)                                                 \n",
            "                                                                 \n",
            " max_pooling1d_2 (MaxPooling  (None, 9, 128)           0         \n",
            " 1D)                                                             \n",
            "                                                                 \n",
            " conv1d_4 (Conv1D)           (None, 9, 256)            98560     \n",
            "                                                                 \n",
            " batch_normalization_6 (Batc  (None, 9, 256)           1024      \n",
            " hNormalization)                                                 \n",
            "                                                                 \n",
            " max_pooling1d_3 (MaxPooling  (None, 4, 256)           0         \n",
            " 1D)                                                             \n",
            "                                                                 \n",
            " conv1d_5 (Conv1D)           (None, 4, 512)            393728    \n",
            "                                                                 \n",
            " batch_normalization_7 (Batc  (None, 4, 512)           2048      \n",
            " hNormalization)                                                 \n",
            "                                                                 \n",
            " max_pooling1d_4 (MaxPooling  (None, 2, 512)           0         \n",
            " 1D)                                                             \n",
            "                                                                 \n",
            " conv1d_6 (Conv1D)           (None, 2, 1024)           1573888   \n",
            "                                                                 \n",
            " conv1d_7 (Conv1D)           (None, 2, 1024)           3146752   \n",
            "                                                                 \n",
            " max_pooling1d_5 (MaxPooling  (None, 1, 1024)          0         \n",
            " 1D)                                                             \n",
            "                                                                 \n",
            " flatten (Flatten)           (None, 1024)              0         \n",
            "                                                                 \n",
            " dense_6 (Dense)             (None, 6)                 6150      \n",
            "                                                                 \n",
            "=================================================================\n",
            "Total params: 5,276,294\n",
            "Trainable params: 5,274,374\n",
            "Non-trainable params: 1,920\n",
            "_________________________________________________________________\n"
          ]
        }
      ]
    },
    {
      "cell_type": "code",
      "metadata": {
        "id": "TBoNrXMI77J_"
      },
      "source": [
        "# data reshaping for CNN\n",
        "n_electrode = 105\n",
        "n_freq =79 \n",
        "\n",
        "train_features_oversampled_reshaped = train_features_oversampled.to_numpy().reshape((train_features_oversampled.shape[0], n_electrode, n_freq))\n",
        "test_features_reshaped = test_features.to_numpy().reshape((test_features.shape[0], n_electrode, n_freq))"
      ],
      "execution_count": 25,
      "outputs": []
    },
    {
      "cell_type": "code",
      "metadata": {
        "colab": {
          "base_uri": "https://localhost:8080/"
        },
        "id": "P7U8Rfxi3ubo",
        "outputId": "8b179257-82a1-494a-d26c-906e31c55a46"
      },
      "source": [
        "history_CNN = CNN_model.fit(np.transpose(train_features_oversampled_reshaped, (0, 2, 1)), train_labels_oversampled_categorical, validation_split=0.2, epochs=100, verbose=1)"
      ],
      "execution_count": 26,
      "outputs": [
        {
          "output_type": "stream",
          "name": "stdout",
          "text": [
            "Epoch 1/100\n",
            "52/52 [==============================] - 3s 21ms/step - loss: 1.9885 - accuracy: 0.2544 - val_loss: 4.4324 - val_accuracy: 0.0000e+00\n",
            "Epoch 2/100\n",
            "52/52 [==============================] - 1s 11ms/step - loss: 1.6249 - accuracy: 0.3131 - val_loss: 8.2038 - val_accuracy: 0.0000e+00\n",
            "Epoch 3/100\n",
            "52/52 [==============================] - 1s 11ms/step - loss: 1.5856 - accuracy: 0.3331 - val_loss: 11.6362 - val_accuracy: 0.0000e+00\n",
            "Epoch 4/100\n",
            "52/52 [==============================] - 1s 11ms/step - loss: 1.5152 - accuracy: 0.3683 - val_loss: 5.1039 - val_accuracy: 0.0000e+00\n",
            "Epoch 5/100\n",
            "52/52 [==============================] - 1s 11ms/step - loss: 1.4095 - accuracy: 0.4240 - val_loss: 5.8916 - val_accuracy: 0.0000e+00\n",
            "Epoch 6/100\n",
            "52/52 [==============================] - 1s 12ms/step - loss: 1.3309 - accuracy: 0.4476 - val_loss: 4.4255 - val_accuracy: 0.0024\n",
            "Epoch 7/100\n",
            "52/52 [==============================] - 1s 11ms/step - loss: 1.2481 - accuracy: 0.5064 - val_loss: 4.9658 - val_accuracy: 0.0000e+00\n",
            "Epoch 8/100\n",
            "52/52 [==============================] - 1s 11ms/step - loss: 1.2038 - accuracy: 0.5379 - val_loss: 2.2742 - val_accuracy: 0.1477\n",
            "Epoch 9/100\n",
            "52/52 [==============================] - 1s 11ms/step - loss: 1.0764 - accuracy: 0.5687 - val_loss: 1.4643 - val_accuracy: 0.4310\n",
            "Epoch 10/100\n",
            "52/52 [==============================] - 1s 11ms/step - loss: 1.0001 - accuracy: 0.5990 - val_loss: 1.7789 - val_accuracy: 0.4189\n",
            "Epoch 11/100\n",
            "52/52 [==============================] - 1s 11ms/step - loss: 0.8556 - accuracy: 0.6723 - val_loss: 1.5252 - val_accuracy: 0.4552\n",
            "Epoch 12/100\n",
            "52/52 [==============================] - 1s 11ms/step - loss: 0.7196 - accuracy: 0.7196 - val_loss: 3.4205 - val_accuracy: 0.1308\n",
            "Epoch 13/100\n",
            "52/52 [==============================] - 1s 11ms/step - loss: 0.6817 - accuracy: 0.7511 - val_loss: 0.9972 - val_accuracy: 0.6901\n",
            "Epoch 14/100\n",
            "52/52 [==============================] - 1s 11ms/step - loss: 0.5950 - accuracy: 0.7838 - val_loss: 1.6000 - val_accuracy: 0.5109\n",
            "Epoch 15/100\n",
            "52/52 [==============================] - 1s 11ms/step - loss: 0.4961 - accuracy: 0.8153 - val_loss: 2.0076 - val_accuracy: 0.4964\n",
            "Epoch 16/100\n",
            "52/52 [==============================] - 1s 11ms/step - loss: 0.5440 - accuracy: 0.8110 - val_loss: 0.6798 - val_accuracy: 0.7893\n",
            "Epoch 17/100\n",
            "52/52 [==============================] - 1s 11ms/step - loss: 0.4167 - accuracy: 0.8425 - val_loss: 1.4668 - val_accuracy: 0.5496\n",
            "Epoch 18/100\n",
            "52/52 [==============================] - 1s 11ms/step - loss: 0.3556 - accuracy: 0.8789 - val_loss: 0.9111 - val_accuracy: 0.7433\n",
            "Epoch 19/100\n",
            "52/52 [==============================] - 1s 11ms/step - loss: 0.3523 - accuracy: 0.8795 - val_loss: 1.0889 - val_accuracy: 0.6344\n",
            "Epoch 20/100\n",
            "52/52 [==============================] - 1s 11ms/step - loss: 0.2662 - accuracy: 0.9043 - val_loss: 0.6543 - val_accuracy: 0.7724\n",
            "Epoch 21/100\n",
            "52/52 [==============================] - 1s 11ms/step - loss: 0.2863 - accuracy: 0.9110 - val_loss: 1.6390 - val_accuracy: 0.5400\n",
            "Epoch 22/100\n",
            "52/52 [==============================] - 1s 12ms/step - loss: 0.2673 - accuracy: 0.9073 - val_loss: 1.6272 - val_accuracy: 0.5424\n",
            "Epoch 23/100\n",
            "52/52 [==============================] - 1s 11ms/step - loss: 0.2085 - accuracy: 0.9303 - val_loss: 0.4601 - val_accuracy: 0.8620\n",
            "Epoch 24/100\n",
            "52/52 [==============================] - 1s 11ms/step - loss: 0.1642 - accuracy: 0.9412 - val_loss: 0.5841 - val_accuracy: 0.8305\n",
            "Epoch 25/100\n",
            "52/52 [==============================] - 1s 11ms/step - loss: 0.2066 - accuracy: 0.9310 - val_loss: 0.7414 - val_accuracy: 0.8015\n",
            "Epoch 26/100\n",
            "52/52 [==============================] - 1s 11ms/step - loss: 0.1878 - accuracy: 0.9358 - val_loss: 0.6642 - val_accuracy: 0.8402\n",
            "Epoch 27/100\n",
            "52/52 [==============================] - 1s 11ms/step - loss: 0.1350 - accuracy: 0.9540 - val_loss: 1.8601 - val_accuracy: 0.6416\n",
            "Epoch 28/100\n",
            "52/52 [==============================] - 1s 11ms/step - loss: 0.1854 - accuracy: 0.9394 - val_loss: 1.4847 - val_accuracy: 0.6247\n",
            "Epoch 29/100\n",
            "52/52 [==============================] - 1s 11ms/step - loss: 0.1740 - accuracy: 0.9437 - val_loss: 0.7081 - val_accuracy: 0.8087\n",
            "Epoch 30/100\n",
            "52/52 [==============================] - 1s 11ms/step - loss: 0.0867 - accuracy: 0.9740 - val_loss: 0.4978 - val_accuracy: 0.8838\n",
            "Epoch 31/100\n",
            "52/52 [==============================] - 1s 11ms/step - loss: 0.1049 - accuracy: 0.9703 - val_loss: 1.2656 - val_accuracy: 0.6998\n",
            "Epoch 32/100\n",
            "52/52 [==============================] - 1s 11ms/step - loss: 0.1554 - accuracy: 0.9485 - val_loss: 0.3889 - val_accuracy: 0.8862\n",
            "Epoch 33/100\n",
            "52/52 [==============================] - 1s 12ms/step - loss: 0.1153 - accuracy: 0.9594 - val_loss: 0.4126 - val_accuracy: 0.8959\n",
            "Epoch 34/100\n",
            "52/52 [==============================] - 1s 12ms/step - loss: 0.1102 - accuracy: 0.9661 - val_loss: 1.3818 - val_accuracy: 0.7046\n",
            "Epoch 35/100\n",
            "52/52 [==============================] - 1s 12ms/step - loss: 0.1334 - accuracy: 0.9552 - val_loss: 0.9607 - val_accuracy: 0.7893\n",
            "Epoch 36/100\n",
            "52/52 [==============================] - 1s 12ms/step - loss: 0.1482 - accuracy: 0.9582 - val_loss: 1.1032 - val_accuracy: 0.7143\n",
            "Epoch 37/100\n",
            "52/52 [==============================] - 1s 12ms/step - loss: 0.1056 - accuracy: 0.9673 - val_loss: 0.7604 - val_accuracy: 0.7990\n",
            "Epoch 38/100\n",
            "52/52 [==============================] - 1s 11ms/step - loss: 0.1086 - accuracy: 0.9752 - val_loss: 1.4411 - val_accuracy: 0.7288\n",
            "Epoch 39/100\n",
            "52/52 [==============================] - 1s 11ms/step - loss: 0.2590 - accuracy: 0.9261 - val_loss: 1.5088 - val_accuracy: 0.6610\n",
            "Epoch 40/100\n",
            "52/52 [==============================] - 1s 12ms/step - loss: 0.1054 - accuracy: 0.9703 - val_loss: 0.4963 - val_accuracy: 0.8499\n",
            "Epoch 41/100\n",
            "52/52 [==============================] - 1s 11ms/step - loss: 0.0520 - accuracy: 0.9855 - val_loss: 1.3224 - val_accuracy: 0.6610\n",
            "Epoch 42/100\n",
            "52/52 [==============================] - 1s 11ms/step - loss: 0.0653 - accuracy: 0.9770 - val_loss: 0.7398 - val_accuracy: 0.7845\n",
            "Epoch 43/100\n",
            "52/52 [==============================] - 1s 11ms/step - loss: 0.0843 - accuracy: 0.9740 - val_loss: 1.1156 - val_accuracy: 0.6852\n",
            "Epoch 44/100\n",
            "52/52 [==============================] - 1s 12ms/step - loss: 0.0786 - accuracy: 0.9721 - val_loss: 0.3743 - val_accuracy: 0.8959\n",
            "Epoch 45/100\n",
            "52/52 [==============================] - 1s 11ms/step - loss: 0.0440 - accuracy: 0.9843 - val_loss: 0.8412 - val_accuracy: 0.8015\n",
            "Epoch 46/100\n",
            "52/52 [==============================] - 1s 11ms/step - loss: 0.0463 - accuracy: 0.9879 - val_loss: 1.0604 - val_accuracy: 0.7724\n",
            "Epoch 47/100\n",
            "52/52 [==============================] - 1s 11ms/step - loss: 0.0429 - accuracy: 0.9909 - val_loss: 0.4172 - val_accuracy: 0.8620\n",
            "Epoch 48/100\n",
            "52/52 [==============================] - 1s 11ms/step - loss: 0.0921 - accuracy: 0.9727 - val_loss: 0.8688 - val_accuracy: 0.7651\n",
            "Epoch 49/100\n",
            "52/52 [==============================] - 1s 11ms/step - loss: 0.1317 - accuracy: 0.9600 - val_loss: 0.8091 - val_accuracy: 0.8039\n",
            "Epoch 50/100\n",
            "52/52 [==============================] - 1s 11ms/step - loss: 0.1456 - accuracy: 0.9546 - val_loss: 0.6589 - val_accuracy: 0.8378\n",
            "Epoch 51/100\n",
            "52/52 [==============================] - 1s 12ms/step - loss: 0.0678 - accuracy: 0.9752 - val_loss: 1.1479 - val_accuracy: 0.7579\n",
            "Epoch 52/100\n",
            "52/52 [==============================] - 1s 11ms/step - loss: 0.1021 - accuracy: 0.9649 - val_loss: 0.7961 - val_accuracy: 0.8184\n",
            "Epoch 53/100\n",
            "52/52 [==============================] - 1s 11ms/step - loss: 0.2346 - accuracy: 0.9316 - val_loss: 1.1161 - val_accuracy: 0.6901\n",
            "Epoch 54/100\n",
            "52/52 [==============================] - 1s 11ms/step - loss: 0.1007 - accuracy: 0.9661 - val_loss: 0.7111 - val_accuracy: 0.8087\n",
            "Epoch 55/100\n",
            "52/52 [==============================] - 1s 11ms/step - loss: 0.0669 - accuracy: 0.9812 - val_loss: 0.3136 - val_accuracy: 0.9274\n",
            "Epoch 56/100\n",
            "52/52 [==============================] - 1s 11ms/step - loss: 0.0666 - accuracy: 0.9776 - val_loss: 0.8891 - val_accuracy: 0.7530\n",
            "Epoch 57/100\n",
            "52/52 [==============================] - 1s 12ms/step - loss: 0.0711 - accuracy: 0.9782 - val_loss: 0.5822 - val_accuracy: 0.8402\n",
            "Epoch 58/100\n",
            "52/52 [==============================] - 1s 11ms/step - loss: 0.0906 - accuracy: 0.9758 - val_loss: 3.2121 - val_accuracy: 0.5182\n",
            "Epoch 59/100\n",
            "52/52 [==============================] - 1s 12ms/step - loss: 0.0780 - accuracy: 0.9752 - val_loss: 0.8625 - val_accuracy: 0.8039\n",
            "Epoch 60/100\n",
            "52/52 [==============================] - 1s 11ms/step - loss: 0.1355 - accuracy: 0.9546 - val_loss: 2.9797 - val_accuracy: 0.4891\n",
            "Epoch 61/100\n",
            "52/52 [==============================] - 1s 11ms/step - loss: 0.0682 - accuracy: 0.9752 - val_loss: 0.5975 - val_accuracy: 0.8571\n",
            "Epoch 62/100\n",
            "52/52 [==============================] - 1s 11ms/step - loss: 0.0836 - accuracy: 0.9764 - val_loss: 0.9716 - val_accuracy: 0.7482\n",
            "Epoch 63/100\n",
            "52/52 [==============================] - 1s 11ms/step - loss: 0.1420 - accuracy: 0.9612 - val_loss: 2.0502 - val_accuracy: 0.6102\n",
            "Epoch 64/100\n",
            "52/52 [==============================] - 1s 11ms/step - loss: 0.0748 - accuracy: 0.9733 - val_loss: 0.4899 - val_accuracy: 0.8547\n",
            "Epoch 65/100\n",
            "52/52 [==============================] - 1s 11ms/step - loss: 0.0134 - accuracy: 0.9982 - val_loss: 0.5606 - val_accuracy: 0.9128\n",
            "Epoch 66/100\n",
            "52/52 [==============================] - 1s 11ms/step - loss: 0.0079 - accuracy: 0.9976 - val_loss: 0.2028 - val_accuracy: 0.9298\n",
            "Epoch 67/100\n",
            "52/52 [==============================] - 1s 11ms/step - loss: 0.0122 - accuracy: 0.9964 - val_loss: 0.8317 - val_accuracy: 0.8039\n",
            "Epoch 68/100\n",
            "52/52 [==============================] - 1s 12ms/step - loss: 0.0506 - accuracy: 0.9861 - val_loss: 1.0982 - val_accuracy: 0.8039\n",
            "Epoch 69/100\n",
            "52/52 [==============================] - 1s 12ms/step - loss: 0.0950 - accuracy: 0.9788 - val_loss: 3.8113 - val_accuracy: 0.4068\n",
            "Epoch 70/100\n",
            "52/52 [==============================] - 1s 12ms/step - loss: 0.1123 - accuracy: 0.9715 - val_loss: 0.7255 - val_accuracy: 0.8039\n",
            "Epoch 71/100\n",
            "52/52 [==============================] - 1s 11ms/step - loss: 0.1024 - accuracy: 0.9727 - val_loss: 1.5439 - val_accuracy: 0.6320\n",
            "Epoch 72/100\n",
            "52/52 [==============================] - 1s 11ms/step - loss: 0.1176 - accuracy: 0.9637 - val_loss: 1.1377 - val_accuracy: 0.7821\n",
            "Epoch 73/100\n",
            "52/52 [==============================] - 1s 11ms/step - loss: 0.0788 - accuracy: 0.9733 - val_loss: 0.6216 - val_accuracy: 0.8160\n",
            "Epoch 74/100\n",
            "52/52 [==============================] - 1s 11ms/step - loss: 0.0848 - accuracy: 0.9776 - val_loss: 1.7828 - val_accuracy: 0.6925\n",
            "Epoch 75/100\n",
            "52/52 [==============================] - 1s 11ms/step - loss: 0.0861 - accuracy: 0.9715 - val_loss: 0.8159 - val_accuracy: 0.7748\n",
            "Epoch 76/100\n",
            "52/52 [==============================] - 1s 11ms/step - loss: 0.1136 - accuracy: 0.9715 - val_loss: 0.3189 - val_accuracy: 0.9177\n",
            "Epoch 77/100\n",
            "52/52 [==============================] - 1s 11ms/step - loss: 0.1122 - accuracy: 0.9643 - val_loss: 0.5016 - val_accuracy: 0.8523\n",
            "Epoch 78/100\n",
            "52/52 [==============================] - 1s 11ms/step - loss: 0.1056 - accuracy: 0.9691 - val_loss: 0.3174 - val_accuracy: 0.9201\n",
            "Epoch 79/100\n",
            "52/52 [==============================] - 1s 12ms/step - loss: 0.0475 - accuracy: 0.9818 - val_loss: 0.9754 - val_accuracy: 0.7869\n",
            "Epoch 80/100\n",
            "52/52 [==============================] - 1s 11ms/step - loss: 0.0879 - accuracy: 0.9733 - val_loss: 1.5076 - val_accuracy: 0.6852\n",
            "Epoch 81/100\n",
            "52/52 [==============================] - 1s 11ms/step - loss: 0.0575 - accuracy: 0.9818 - val_loss: 0.4652 - val_accuracy: 0.8983\n",
            "Epoch 82/100\n",
            "52/52 [==============================] - 1s 11ms/step - loss: 0.0264 - accuracy: 0.9921 - val_loss: 0.6429 - val_accuracy: 0.8692\n",
            "Epoch 83/100\n",
            "52/52 [==============================] - 1s 12ms/step - loss: 0.0982 - accuracy: 0.9776 - val_loss: 0.9813 - val_accuracy: 0.7603\n",
            "Epoch 84/100\n",
            "52/52 [==============================] - 1s 12ms/step - loss: 0.0961 - accuracy: 0.9788 - val_loss: 0.5391 - val_accuracy: 0.8257\n",
            "Epoch 85/100\n",
            "52/52 [==============================] - 1s 11ms/step - loss: 0.0578 - accuracy: 0.9849 - val_loss: 0.4029 - val_accuracy: 0.8789\n",
            "Epoch 86/100\n",
            "52/52 [==============================] - 1s 12ms/step - loss: 0.0699 - accuracy: 0.9806 - val_loss: 1.3293 - val_accuracy: 0.7167\n",
            "Epoch 87/100\n",
            "52/52 [==============================] - 1s 12ms/step - loss: 0.0309 - accuracy: 0.9915 - val_loss: 1.2850 - val_accuracy: 0.6804\n",
            "Epoch 88/100\n",
            "52/52 [==============================] - 1s 12ms/step - loss: 0.0377 - accuracy: 0.9897 - val_loss: 1.1872 - val_accuracy: 0.7022\n",
            "Epoch 89/100\n",
            "52/52 [==============================] - 1s 12ms/step - loss: 0.0908 - accuracy: 0.9733 - val_loss: 1.6147 - val_accuracy: 0.6634\n",
            "Epoch 90/100\n",
            "52/52 [==============================] - 1s 12ms/step - loss: 0.0725 - accuracy: 0.9758 - val_loss: 1.1673 - val_accuracy: 0.7215\n",
            "Epoch 91/100\n",
            "52/52 [==============================] - 1s 12ms/step - loss: 0.0749 - accuracy: 0.9770 - val_loss: 0.8024 - val_accuracy: 0.8232\n",
            "Epoch 92/100\n",
            "52/52 [==============================] - 1s 11ms/step - loss: 0.0618 - accuracy: 0.9849 - val_loss: 1.2648 - val_accuracy: 0.7627\n",
            "Epoch 93/100\n",
            "52/52 [==============================] - 1s 11ms/step - loss: 0.0189 - accuracy: 0.9952 - val_loss: 0.3035 - val_accuracy: 0.9298\n",
            "Epoch 94/100\n",
            "52/52 [==============================] - 1s 12ms/step - loss: 0.0106 - accuracy: 0.9982 - val_loss: 0.3468 - val_accuracy: 0.9225\n",
            "Epoch 95/100\n",
            "52/52 [==============================] - 1s 11ms/step - loss: 0.0022 - accuracy: 0.9994 - val_loss: 0.2257 - val_accuracy: 0.9540\n",
            "Epoch 96/100\n",
            "52/52 [==============================] - 1s 11ms/step - loss: 2.9463e-04 - accuracy: 1.0000 - val_loss: 0.2186 - val_accuracy: 0.9516\n",
            "Epoch 97/100\n",
            "52/52 [==============================] - 1s 11ms/step - loss: 2.0094e-04 - accuracy: 1.0000 - val_loss: 0.2163 - val_accuracy: 0.9540\n",
            "Epoch 98/100\n",
            "52/52 [==============================] - 1s 11ms/step - loss: 2.5013e-04 - accuracy: 1.0000 - val_loss: 0.2002 - val_accuracy: 0.9492\n",
            "Epoch 99/100\n",
            "52/52 [==============================] - 1s 11ms/step - loss: 1.4268e-04 - accuracy: 1.0000 - val_loss: 0.2055 - val_accuracy: 0.9467\n",
            "Epoch 100/100\n",
            "52/52 [==============================] - 1s 11ms/step - loss: 8.8860e-05 - accuracy: 1.0000 - val_loss: 0.2130 - val_accuracy: 0.9492\n"
          ]
        }
      ]
    },
    {
      "cell_type": "code",
      "metadata": {
        "colab": {
          "base_uri": "https://localhost:8080/",
          "height": 349
        },
        "id": "VsyH2EGgAyvj",
        "outputId": "f011ae6c-307d-49ed-f50a-9a1694171373"
      },
      "source": [
        "predicted_labels_cnn = CNN_model.predict(np.transpose(test_features_reshaped, (0, 2, 1)))\n",
        "evaluate(test_labels_categorical, predicted_labels_cnn, is_categorical=True)"
      ],
      "execution_count": 27,
      "outputs": [
        {
          "output_type": "stream",
          "name": "stdout",
          "text": [
            "Accuracy: 0.1958955223880597\n",
            "Precision: 0.17908839872243557\n",
            "Recall: 0.1820653902785576\n",
            "F1 score: 0.17966439409404233\n"
          ]
        },
        {
          "output_type": "display_data",
          "data": {
            "image/png": "[encoded data removed]",
            "text/plain": [
              "<Figure size 432x288 with 2 Axes>"
            ]
          },
          "metadata": {
            "needs_background": "light"
          }
        }
      ]
    },
    {
      "cell_type": "code",
      "metadata": {
        "colab": {
          "base_uri": "https://localhost:8080/"
        },
        "id": "5AWKpHGYFCMK",
        "outputId": "64788bf0-7ef0-4d92-a18f-0256d940d5d1"
      },
      "source": [
        "from tensorflow.keras.layers import Conv2D , MaxPooling2D, GlobalAveragePooling2D\n",
        "from tensorflow.keras.optimizers import Adam\n",
        "\n",
        "def get_CNN_2_classifier():\n",
        "\n",
        "    k = 3  # kernel size\n",
        "    s = 2  # stride\n",
        "    n_filters = 32  # number of filters\n",
        "    inputs = Input(shape=(79, 105, 1))\n",
        "\n",
        "    conv1 = Conv2D(n_filters, kernel_size=(k, k), strides=(s, s), padding='same')(inputs)\n",
        "    conv1 = BatchNormalization(scale=False, axis=3)(conv1)\n",
        "    conv1 = LeakyReLU(alpha=0.1)(conv1)\n",
        "    conv1 = Conv2D(n_filters, kernel_size=(k, k), padding='same')(conv1)\n",
        "    conv1 = BatchNormalization(scale=False, axis=3)(conv1)\n",
        "    conv1 = LeakyReLU(alpha=0.1)(conv1)\n",
        "    pool1 = MaxPooling2D(pool_size=(s, s))(conv1)\n",
        "\n",
        "    conv2 = Conv2D(2 * n_filters, kernel_size=(k, k), strides=(s, s), padding='same')(pool1)\n",
        "    conv2 = BatchNormalization(scale=False, axis=3)(conv2)\n",
        "    conv2 = LeakyReLU(alpha=0.1)(conv2)\n",
        "    conv2 = Conv2D(2 * n_filters, kernel_size=(k, k), padding='same')(conv2)\n",
        "    conv2 = BatchNormalization(scale=False, axis=3)(conv2)\n",
        "    conv2 = LeakyReLU(alpha=0.1)(conv2)\n",
        "    pool2 = MaxPooling2D(pool_size=(s, s))(conv2)\n",
        "\n",
        "    conv3 = Conv2D(4 * n_filters, kernel_size=(k, k), padding='same')(pool2)\n",
        "    conv3 = BatchNormalization(scale=False, axis=3)(conv3)\n",
        "    conv3 = LeakyReLU(alpha=0.1)(conv3)\n",
        "    conv3 = Conv2D(4 * n_filters, kernel_size=(k, k), padding='same')(conv3)\n",
        "    conv3 = BatchNormalization(scale=False, axis=3)(conv3)\n",
        "    conv3 = LeakyReLU(alpha=0.1)(conv3)\n",
        "    pool3 = MaxPooling2D(pool_size=(s, s))(conv3)\n",
        "\n",
        "    conv4 = Conv2D(8 * n_filters, kernel_size=(k, k), padding='same')(pool3)\n",
        "    conv4 = BatchNormalization(scale=False, axis=3)(conv4)\n",
        "    conv4 = LeakyReLU(alpha=0.1)(conv4)\n",
        "    conv4 = Conv2D(8 * n_filters, kernel_size=(k, k), padding='same')(conv4)\n",
        "    conv4 = BatchNormalization(scale=False, axis=3)(conv4)\n",
        "    conv4 = LeakyReLU(alpha=0.1)(conv4)\n",
        "    pool4 = MaxPooling2D(pool_size=(s, s))(conv4)\n",
        "\n",
        "    conv5 = Conv2D(16 * n_filters, kernel_size=(k, k), padding='same')(pool4)\n",
        "    conv5 = BatchNormalization(scale=False, axis=3)(conv5)\n",
        "    conv5 = LeakyReLU(alpha=0.1)(conv5)\n",
        "    conv5 = Conv2D(16 * n_filters, kernel_size=(k, k), padding='same')(conv5)\n",
        "    conv5 = BatchNormalization(scale=False, axis=3)(conv5)\n",
        "    conv5 = LeakyReLU(alpha=0.1)(conv5)\n",
        "\n",
        "    gap = GlobalAveragePooling2D()(conv5)\n",
        "    outputs = Dense(6, activation='softmax')(gap)\n",
        "\n",
        "    model = Model(inputs, outputs)\n",
        "    model.compile(optimizer = Adam(lr=1e-4), loss = 'categorical_crossentropy', metrics = ['accuracy'])\n",
        "    model.summary()\n",
        "  \n",
        "    return model\n",
        "\n",
        "CNN_model_2 = get_CNN_2_classifier()"
      ],
      "execution_count": 28,
      "outputs": [
        {
          "output_type": "stream",
          "name": "stdout",
          "text": [
            "Model: \"model_2\"\n",
            "_________________________________________________________________\n",
            " Layer (type)                Output Shape              Param #   \n",
            "=================================================================\n",
            " input_2 (InputLayer)        [(None, 79, 105, 1)]      0         \n",
            "                                                                 \n",
            " conv2d (Conv2D)             (None, 40, 53, 32)        320       \n",
            "                                                                 \n",
            " batch_normalization_8 (Batc  (None, 40, 53, 32)       96        \n",
            " hNormalization)                                                 \n",
            "                                                                 \n",
            " leaky_re_lu_4 (LeakyReLU)   (None, 40, 53, 32)        0         \n",
            "                                                                 \n",
            " conv2d_1 (Conv2D)           (None, 40, 53, 32)        9248      \n",
            "                                                                 \n",
            " batch_normalization_9 (Batc  (None, 40, 53, 32)       96        \n",
            " hNormalization)                                                 \n",
            "                                                                 \n",
            " leaky_re_lu_5 (LeakyReLU)   (None, 40, 53, 32)        0         \n",
            "                                                                 \n",
            " max_pooling2d (MaxPooling2D  (None, 20, 26, 32)       0         \n",
            " )                                                               \n",
            "                                                                 \n",
            " conv2d_2 (Conv2D)           (None, 10, 13, 64)        18496     \n",
            "                                                                 \n",
            " batch_normalization_10 (Bat  (None, 10, 13, 64)       192       \n",
            " chNormalization)                                                \n",
            "                                                                 \n",
            " leaky_re_lu_6 (LeakyReLU)   (None, 10, 13, 64)        0         \n",
            "                                                                 \n",
            " conv2d_3 (Conv2D)           (None, 10, 13, 64)        36928     \n",
            "                                                                 \n",
            " batch_normalization_11 (Bat  (None, 10, 13, 64)       192       \n",
            " chNormalization)                                                \n",
            "                                                                 \n",
            " leaky_re_lu_7 (LeakyReLU)   (None, 10, 13, 64)        0         \n",
            "                                                                 \n",
            " max_pooling2d_1 (MaxPooling  (None, 5, 6, 64)         0         \n",
            " 2D)                                                             \n",
            "                                                                 \n",
            " conv2d_4 (Conv2D)           (None, 5, 6, 128)         73856     \n",
            "                                                                 \n",
            " batch_normalization_12 (Bat  (None, 5, 6, 128)        384       \n",
            " chNormalization)                                                \n",
            "                                                                 \n",
            " leaky_re_lu_8 (LeakyReLU)   (None, 5, 6, 128)         0         \n",
            "                                                                 \n",
            " conv2d_5 (Conv2D)           (None, 5, 6, 128)         147584    \n",
            "                                                                 \n",
            " batch_normalization_13 (Bat  (None, 5, 6, 128)        384       \n",
            " chNormalization)                                                \n",
            "                                                                 \n",
            " leaky_re_lu_9 (LeakyReLU)   (None, 5, 6, 128)         0         \n",
            "                                                                 \n",
            " max_pooling2d_2 (MaxPooling  (None, 2, 3, 128)        0         \n",
            " 2D)                                                             \n",
            "                                                                 \n",
            " conv2d_6 (Conv2D)           (None, 2, 3, 256)         295168    \n",
            "                                                                 \n",
            " batch_normalization_14 (Bat  (None, 2, 3, 256)        768       \n",
            " chNormalization)                                                \n",
            "                                                                 \n",
            " leaky_re_lu_10 (LeakyReLU)  (None, 2, 3, 256)         0         \n",
            "                                                                 \n",
            " conv2d_7 (Conv2D)           (None, 2, 3, 256)         590080    \n",
            "                                                                 \n",
            " batch_normalization_15 (Bat  (None, 2, 3, 256)        768       \n",
            " chNormalization)                                                \n",
            "                                                                 \n",
            " leaky_re_lu_11 (LeakyReLU)  (None, 2, 3, 256)         0         \n",
            "                                                                 \n",
            " max_pooling2d_3 (MaxPooling  (None, 1, 1, 256)        0         \n",
            " 2D)                                                             \n",
            "                                                                 \n",
            " conv2d_8 (Conv2D)           (None, 1, 1, 512)         1180160   \n",
            "                                                                 \n",
            " batch_normalization_16 (Bat  (None, 1, 1, 512)        1536      \n",
            " chNormalization)                                                \n",
            "                                                                 \n",
            " leaky_re_lu_12 (LeakyReLU)  (None, 1, 1, 512)         0         \n",
            "                                                                 \n",
            " conv2d_9 (Conv2D)           (None, 1, 1, 512)         2359808   \n",
            "                                                                 \n",
            " batch_normalization_17 (Bat  (None, 1, 1, 512)        1536      \n",
            " chNormalization)                                                \n",
            "                                                                 \n",
            " leaky_re_lu_13 (LeakyReLU)  (None, 1, 1, 512)         0         \n",
            "                                                                 \n",
            " global_average_pooling2d (G  (None, 512)              0         \n",
            " lobalAveragePooling2D)                                          \n",
            "                                                                 \n",
            " dense_7 (Dense)             (None, 6)                 3078      \n",
            "                                                                 \n",
            "=================================================================\n",
            "Total params: 4,720,678\n",
            "Trainable params: 4,716,710\n",
            "Non-trainable params: 3,968\n",
            "_________________________________________________________________\n"
          ]
        },
        {
          "output_type": "stream",
          "name": "stderr",
          "text": [
            "/usr/local/lib/python3.7/dist-packages/keras/optimizer_v2/adam.py:105: UserWarning: The `lr` argument is deprecated, use `learning_rate` instead.\n",
            "  super(Adam, self).__init__(name, **kwargs)\n"
          ]
        }
      ]
    },
    {
      "cell_type": "code",
      "metadata": {
        "colab": {
          "base_uri": "https://localhost:8080/"
        },
        "id": "edjGaE1eG7Ng",
        "outputId": "fa0970b3-a99e-4ae4-f532-070f19f48628"
      },
      "source": [
        "history_CNN_2 = CNN_model_2.fit(np.transpose(train_features_oversampled_reshaped, (0, 2, 1)), train_labels_oversampled_categorical, validation_split=0.2, epochs=100, verbose=1)\n"
      ],
      "execution_count": 29,
      "outputs": [
        {
          "output_type": "stream",
          "name": "stdout",
          "text": [
            "Epoch 1/100\n",
            "52/52 [==============================] - 2s 21ms/step - loss: 1.9019 - accuracy: 0.2604 - val_loss: 1.8411 - val_accuracy: 0.3099\n",
            "Epoch 2/100\n",
            "52/52 [==============================] - 1s 12ms/step - loss: 1.1773 - accuracy: 0.5730 - val_loss: 1.9247 - val_accuracy: 0.0000e+00\n",
            "Epoch 3/100\n",
            "52/52 [==============================] - 1s 12ms/step - loss: 0.7314 - accuracy: 0.7795 - val_loss: 2.0169 - val_accuracy: 0.0000e+00\n",
            "Epoch 4/100\n",
            "52/52 [==============================] - 1s 12ms/step - loss: 0.4011 - accuracy: 0.9031 - val_loss: 2.2004 - val_accuracy: 0.0000e+00\n",
            "Epoch 5/100\n",
            "52/52 [==============================] - 1s 12ms/step - loss: 0.2056 - accuracy: 0.9673 - val_loss: 2.5779 - val_accuracy: 0.0000e+00\n",
            "Epoch 6/100\n",
            "52/52 [==============================] - 1s 12ms/step - loss: 0.1072 - accuracy: 0.9861 - val_loss: 3.1486 - val_accuracy: 0.0000e+00\n",
            "Epoch 7/100\n",
            "52/52 [==============================] - 1s 12ms/step - loss: 0.0825 - accuracy: 0.9879 - val_loss: 3.2225 - val_accuracy: 0.0000e+00\n",
            "Epoch 8/100\n",
            "52/52 [==============================] - 1s 12ms/step - loss: 0.0485 - accuracy: 0.9945 - val_loss: 4.3707 - val_accuracy: 0.0000e+00\n",
            "Epoch 9/100\n",
            "52/52 [==============================] - 1s 12ms/step - loss: 0.0287 - accuracy: 0.9964 - val_loss: 4.6439 - val_accuracy: 0.0000e+00\n",
            "Epoch 10/100\n",
            "52/52 [==============================] - 1s 12ms/step - loss: 0.0228 - accuracy: 0.9988 - val_loss: 3.9107 - val_accuracy: 0.0387\n",
            "Epoch 11/100\n",
            "52/52 [==============================] - 1s 12ms/step - loss: 0.0172 - accuracy: 0.9988 - val_loss: 2.9922 - val_accuracy: 0.1186\n",
            "Epoch 12/100\n",
            "52/52 [==============================] - 1s 12ms/step - loss: 0.0195 - accuracy: 0.9964 - val_loss: 1.9952 - val_accuracy: 0.4092\n",
            "Epoch 13/100\n",
            "52/52 [==============================] - 1s 12ms/step - loss: 0.0148 - accuracy: 0.9994 - val_loss: 0.9425 - val_accuracy: 0.6877\n",
            "Epoch 14/100\n",
            "52/52 [==============================] - 1s 12ms/step - loss: 0.0087 - accuracy: 1.0000 - val_loss: 0.7688 - val_accuracy: 0.7337\n",
            "Epoch 15/100\n",
            "52/52 [==============================] - 1s 12ms/step - loss: 0.0148 - accuracy: 0.9976 - val_loss: 0.8341 - val_accuracy: 0.7046\n",
            "Epoch 16/100\n",
            "52/52 [==============================] - 1s 12ms/step - loss: 0.1280 - accuracy: 0.9594 - val_loss: 2.7846 - val_accuracy: 0.2688\n",
            "Epoch 17/100\n",
            "52/52 [==============================] - 1s 12ms/step - loss: 0.6918 - accuracy: 0.7668 - val_loss: 1.9937 - val_accuracy: 0.4140\n",
            "Epoch 18/100\n",
            "52/52 [==============================] - 1s 12ms/step - loss: 0.5505 - accuracy: 0.8007 - val_loss: 1.0252 - val_accuracy: 0.6223\n",
            "Epoch 19/100\n",
            "52/52 [==============================] - 1s 12ms/step - loss: 0.2239 - accuracy: 0.9219 - val_loss: 0.5966 - val_accuracy: 0.7797\n",
            "Epoch 20/100\n",
            "52/52 [==============================] - 1s 12ms/step - loss: 0.1076 - accuracy: 0.9637 - val_loss: 0.4666 - val_accuracy: 0.8378\n",
            "Epoch 21/100\n",
            "52/52 [==============================] - 1s 12ms/step - loss: 0.0578 - accuracy: 0.9843 - val_loss: 0.3027 - val_accuracy: 0.8789\n",
            "Epoch 22/100\n",
            "52/52 [==============================] - 1s 12ms/step - loss: 0.0242 - accuracy: 0.9976 - val_loss: 0.3749 - val_accuracy: 0.8741\n",
            "Epoch 23/100\n",
            "52/52 [==============================] - 1s 12ms/step - loss: 0.0129 - accuracy: 0.9988 - val_loss: 0.3302 - val_accuracy: 0.8814\n",
            "Epoch 24/100\n",
            "52/52 [==============================] - 1s 12ms/step - loss: 0.0052 - accuracy: 0.9994 - val_loss: 0.2029 - val_accuracy: 0.9298\n",
            "Epoch 25/100\n",
            "52/52 [==============================] - 1s 12ms/step - loss: 0.0054 - accuracy: 0.9994 - val_loss: 0.2424 - val_accuracy: 0.9274\n",
            "Epoch 26/100\n",
            "52/52 [==============================] - 1s 12ms/step - loss: 0.0039 - accuracy: 0.9994 - val_loss: 0.2219 - val_accuracy: 0.9177\n",
            "Epoch 27/100\n",
            "52/52 [==============================] - 1s 12ms/step - loss: 0.0026 - accuracy: 1.0000 - val_loss: 0.2611 - val_accuracy: 0.9007\n",
            "Epoch 28/100\n",
            "52/52 [==============================] - 1s 12ms/step - loss: 0.0031 - accuracy: 1.0000 - val_loss: 0.2482 - val_accuracy: 0.9201\n",
            "Epoch 29/100\n",
            "52/52 [==============================] - 1s 12ms/step - loss: 0.0020 - accuracy: 1.0000 - val_loss: 0.2659 - val_accuracy: 0.9104\n",
            "Epoch 30/100\n",
            "52/52 [==============================] - 1s 12ms/step - loss: 0.0024 - accuracy: 1.0000 - val_loss: 0.2556 - val_accuracy: 0.9104\n",
            "Epoch 31/100\n",
            "52/52 [==============================] - 1s 12ms/step - loss: 0.0019 - accuracy: 1.0000 - val_loss: 0.2579 - val_accuracy: 0.9056\n",
            "Epoch 32/100\n",
            "52/52 [==============================] - 1s 12ms/step - loss: 0.0024 - accuracy: 0.9994 - val_loss: 0.2296 - val_accuracy: 0.9104\n",
            "Epoch 33/100\n",
            "52/52 [==============================] - 1s 12ms/step - loss: 0.0015 - accuracy: 1.0000 - val_loss: 0.2279 - val_accuracy: 0.9177\n",
            "Epoch 34/100\n",
            "52/52 [==============================] - 1s 12ms/step - loss: 0.0016 - accuracy: 1.0000 - val_loss: 0.2202 - val_accuracy: 0.9225\n",
            "Epoch 35/100\n",
            "52/52 [==============================] - 1s 12ms/step - loss: 0.0011 - accuracy: 1.0000 - val_loss: 0.2110 - val_accuracy: 0.9274\n",
            "Epoch 36/100\n",
            "52/52 [==============================] - 1s 12ms/step - loss: 0.0013 - accuracy: 1.0000 - val_loss: 0.2119 - val_accuracy: 0.9322\n",
            "Epoch 37/100\n",
            "52/52 [==============================] - 1s 12ms/step - loss: 0.0012 - accuracy: 1.0000 - val_loss: 0.2264 - val_accuracy: 0.9249\n",
            "Epoch 38/100\n",
            "52/52 [==============================] - 1s 12ms/step - loss: 0.0015 - accuracy: 1.0000 - val_loss: 0.2319 - val_accuracy: 0.9322\n",
            "Epoch 39/100\n",
            "52/52 [==============================] - 1s 12ms/step - loss: 9.0416e-04 - accuracy: 1.0000 - val_loss: 0.2304 - val_accuracy: 0.9201\n",
            "Epoch 40/100\n",
            "52/52 [==============================] - 1s 12ms/step - loss: 0.0010 - accuracy: 1.0000 - val_loss: 0.2162 - val_accuracy: 0.9249\n",
            "Epoch 41/100\n",
            "52/52 [==============================] - 1s 12ms/step - loss: 8.4741e-04 - accuracy: 1.0000 - val_loss: 0.2181 - val_accuracy: 0.9298\n",
            "Epoch 42/100\n",
            "52/52 [==============================] - 1s 12ms/step - loss: 0.0014 - accuracy: 1.0000 - val_loss: 0.2307 - val_accuracy: 0.9274\n",
            "Epoch 43/100\n",
            "52/52 [==============================] - 1s 12ms/step - loss: 0.0011 - accuracy: 1.0000 - val_loss: 0.2086 - val_accuracy: 0.9249\n",
            "Epoch 44/100\n",
            "52/52 [==============================] - 1s 12ms/step - loss: 0.0012 - accuracy: 1.0000 - val_loss: 0.3041 - val_accuracy: 0.8935\n",
            "Epoch 45/100\n",
            "52/52 [==============================] - 1s 12ms/step - loss: 0.0013 - accuracy: 1.0000 - val_loss: 0.2550 - val_accuracy: 0.9225\n",
            "Epoch 46/100\n",
            "52/52 [==============================] - 1s 12ms/step - loss: 9.0117e-04 - accuracy: 1.0000 - val_loss: 0.2364 - val_accuracy: 0.9298\n",
            "Epoch 47/100\n",
            "52/52 [==============================] - 1s 12ms/step - loss: 0.0024 - accuracy: 0.9994 - val_loss: 0.3731 - val_accuracy: 0.8620\n",
            "Epoch 48/100\n",
            "52/52 [==============================] - 1s 12ms/step - loss: 0.0397 - accuracy: 0.9891 - val_loss: 1.3856 - val_accuracy: 0.6077\n",
            "Epoch 49/100\n",
            "52/52 [==============================] - 1s 12ms/step - loss: 0.3713 - accuracy: 0.8764 - val_loss: 5.2552 - val_accuracy: 0.2470\n",
            "Epoch 50/100\n",
            "52/52 [==============================] - 1s 12ms/step - loss: 0.7270 - accuracy: 0.7589 - val_loss: 3.3943 - val_accuracy: 0.1380\n",
            "Epoch 51/100\n",
            "52/52 [==============================] - 1s 12ms/step - loss: 0.2624 - accuracy: 0.9110 - val_loss: 0.7610 - val_accuracy: 0.7046\n",
            "Epoch 52/100\n",
            "52/52 [==============================] - 1s 12ms/step - loss: 0.1038 - accuracy: 0.9667 - val_loss: 0.1752 - val_accuracy: 0.9370\n",
            "Epoch 53/100\n",
            "52/52 [==============================] - 1s 12ms/step - loss: 0.0412 - accuracy: 0.9903 - val_loss: 0.5340 - val_accuracy: 0.8232\n",
            "Epoch 54/100\n",
            "52/52 [==============================] - 1s 12ms/step - loss: 0.0217 - accuracy: 0.9952 - val_loss: 0.2268 - val_accuracy: 0.9153\n",
            "Epoch 55/100\n",
            "52/52 [==============================] - 1s 12ms/step - loss: 0.0112 - accuracy: 0.9988 - val_loss: 0.3419 - val_accuracy: 0.8741\n",
            "Epoch 56/100\n",
            "52/52 [==============================] - 1s 12ms/step - loss: 0.0106 - accuracy: 0.9982 - val_loss: 0.2727 - val_accuracy: 0.9056\n",
            "Epoch 57/100\n",
            "52/52 [==============================] - 1s 12ms/step - loss: 0.0054 - accuracy: 0.9994 - val_loss: 0.2127 - val_accuracy: 0.9370\n",
            "Epoch 58/100\n",
            "52/52 [==============================] - 1s 12ms/step - loss: 0.0030 - accuracy: 1.0000 - val_loss: 0.1840 - val_accuracy: 0.9419\n",
            "Epoch 59/100\n",
            "52/52 [==============================] - 1s 12ms/step - loss: 0.0050 - accuracy: 0.9988 - val_loss: 0.1683 - val_accuracy: 0.9443\n",
            "Epoch 60/100\n",
            "52/52 [==============================] - 1s 12ms/step - loss: 0.0037 - accuracy: 1.0000 - val_loss: 0.1714 - val_accuracy: 0.9540\n",
            "Epoch 61/100\n",
            "52/52 [==============================] - 1s 12ms/step - loss: 0.0022 - accuracy: 1.0000 - val_loss: 0.1780 - val_accuracy: 0.9492\n",
            "Epoch 62/100\n",
            "52/52 [==============================] - 1s 12ms/step - loss: 0.0051 - accuracy: 0.9976 - val_loss: 0.2493 - val_accuracy: 0.9274\n",
            "Epoch 63/100\n",
            "52/52 [==============================] - 1s 12ms/step - loss: 0.0326 - accuracy: 0.9879 - val_loss: 0.4051 - val_accuracy: 0.8692\n",
            "Epoch 64/100\n",
            "52/52 [==============================] - 1s 12ms/step - loss: 0.0437 - accuracy: 0.9855 - val_loss: 0.2783 - val_accuracy: 0.9080\n",
            "Epoch 65/100\n",
            "52/52 [==============================] - 1s 12ms/step - loss: 0.0656 - accuracy: 0.9752 - val_loss: 1.5824 - val_accuracy: 0.5400\n",
            "Epoch 66/100\n",
            "52/52 [==============================] - 1s 12ms/step - loss: 0.0772 - accuracy: 0.9709 - val_loss: 0.1481 - val_accuracy: 0.9395\n",
            "Epoch 67/100\n",
            "52/52 [==============================] - 1s 12ms/step - loss: 0.1301 - accuracy: 0.9540 - val_loss: 1.2566 - val_accuracy: 0.6271\n",
            "Epoch 68/100\n",
            "52/52 [==============================] - 1s 12ms/step - loss: 0.0644 - accuracy: 0.9746 - val_loss: 0.3728 - val_accuracy: 0.8765\n",
            "Epoch 69/100\n",
            "52/52 [==============================] - 1s 12ms/step - loss: 0.0397 - accuracy: 0.9861 - val_loss: 0.7486 - val_accuracy: 0.7724\n",
            "Epoch 70/100\n",
            "52/52 [==============================] - 1s 12ms/step - loss: 0.0271 - accuracy: 0.9903 - val_loss: 0.3277 - val_accuracy: 0.8838\n",
            "Epoch 71/100\n",
            "52/52 [==============================] - 1s 12ms/step - loss: 0.0315 - accuracy: 0.9885 - val_loss: 0.2848 - val_accuracy: 0.9080\n",
            "Epoch 72/100\n",
            "52/52 [==============================] - 1s 12ms/step - loss: 0.0296 - accuracy: 0.9933 - val_loss: 0.5064 - val_accuracy: 0.8329\n",
            "Epoch 73/100\n",
            "52/52 [==============================] - 1s 12ms/step - loss: 0.0074 - accuracy: 0.9982 - val_loss: 0.2282 - val_accuracy: 0.9225\n",
            "Epoch 74/100\n",
            "52/52 [==============================] - 1s 12ms/step - loss: 0.0049 - accuracy: 0.9994 - val_loss: 0.1172 - val_accuracy: 0.9661\n",
            "Epoch 75/100\n",
            "52/52 [==============================] - 1s 12ms/step - loss: 0.0048 - accuracy: 0.9994 - val_loss: 0.2197 - val_accuracy: 0.9225\n",
            "Epoch 76/100\n",
            "52/52 [==============================] - 1s 12ms/step - loss: 0.0037 - accuracy: 0.9988 - val_loss: 0.1180 - val_accuracy: 0.9588\n",
            "Epoch 77/100\n",
            "52/52 [==============================] - 1s 12ms/step - loss: 0.0015 - accuracy: 1.0000 - val_loss: 0.0999 - val_accuracy: 0.9637\n",
            "Epoch 78/100\n",
            "52/52 [==============================] - 1s 12ms/step - loss: 0.0020 - accuracy: 1.0000 - val_loss: 0.1161 - val_accuracy: 0.9588\n",
            "Epoch 79/100\n",
            "52/52 [==============================] - 1s 12ms/step - loss: 0.0014 - accuracy: 1.0000 - val_loss: 0.1437 - val_accuracy: 0.9467\n",
            "Epoch 80/100\n",
            "52/52 [==============================] - 1s 12ms/step - loss: 0.0027 - accuracy: 1.0000 - val_loss: 0.1479 - val_accuracy: 0.9443\n",
            "Epoch 81/100\n",
            "52/52 [==============================] - 1s 12ms/step - loss: 0.0022 - accuracy: 0.9994 - val_loss: 0.1782 - val_accuracy: 0.9395\n",
            "Epoch 82/100\n",
            "52/52 [==============================] - 1s 12ms/step - loss: 0.0021 - accuracy: 1.0000 - val_loss: 0.1641 - val_accuracy: 0.9395\n",
            "Epoch 83/100\n",
            "52/52 [==============================] - 1s 12ms/step - loss: 0.0012 - accuracy: 1.0000 - val_loss: 0.1326 - val_accuracy: 0.9613\n",
            "Epoch 84/100\n",
            "52/52 [==============================] - 1s 12ms/step - loss: 8.3305e-04 - accuracy: 1.0000 - val_loss: 0.1236 - val_accuracy: 0.9540\n",
            "Epoch 85/100\n",
            "52/52 [==============================] - 1s 12ms/step - loss: 0.0023 - accuracy: 0.9994 - val_loss: 0.1697 - val_accuracy: 0.9419\n",
            "Epoch 86/100\n",
            "52/52 [==============================] - 1s 12ms/step - loss: 0.0144 - accuracy: 0.9976 - val_loss: 0.1695 - val_accuracy: 0.9346\n",
            "Epoch 87/100\n",
            "52/52 [==============================] - 1s 12ms/step - loss: 0.0072 - accuracy: 0.9988 - val_loss: 0.1758 - val_accuracy: 0.9492\n",
            "Epoch 88/100\n",
            "52/52 [==============================] - 1s 12ms/step - loss: 0.0112 - accuracy: 0.9988 - val_loss: 0.4802 - val_accuracy: 0.8450\n",
            "Epoch 89/100\n",
            "52/52 [==============================] - 1s 12ms/step - loss: 0.0029 - accuracy: 1.0000 - val_loss: 0.1361 - val_accuracy: 0.9540\n",
            "Epoch 90/100\n",
            "52/52 [==============================] - 1s 12ms/step - loss: 0.0040 - accuracy: 0.9994 - val_loss: 0.2160 - val_accuracy: 0.9249\n",
            "Epoch 91/100\n",
            "52/52 [==============================] - 1s 12ms/step - loss: 0.0210 - accuracy: 0.9927 - val_loss: 0.3586 - val_accuracy: 0.8886\n",
            "Epoch 92/100\n",
            "52/52 [==============================] - 1s 12ms/step - loss: 0.0979 - accuracy: 0.9697 - val_loss: 2.5710 - val_accuracy: 0.4310\n",
            "Epoch 93/100\n",
            "52/52 [==============================] - 1s 12ms/step - loss: 0.1650 - accuracy: 0.9400 - val_loss: 1.1036 - val_accuracy: 0.6973\n",
            "Epoch 94/100\n",
            "52/52 [==============================] - 1s 12ms/step - loss: 0.2086 - accuracy: 0.9340 - val_loss: 1.2959 - val_accuracy: 0.6877\n",
            "Epoch 95/100\n",
            "52/52 [==============================] - 1s 12ms/step - loss: 0.1309 - accuracy: 0.9546 - val_loss: 1.2876 - val_accuracy: 0.6755\n",
            "Epoch 96/100\n",
            "52/52 [==============================] - 1s 12ms/step - loss: 0.0659 - accuracy: 0.9776 - val_loss: 1.0028 - val_accuracy: 0.6949\n",
            "Epoch 97/100\n",
            "52/52 [==============================] - 1s 12ms/step - loss: 0.0409 - accuracy: 0.9867 - val_loss: 0.1472 - val_accuracy: 0.9443\n",
            "Epoch 98/100\n",
            "52/52 [==============================] - 1s 12ms/step - loss: 0.0260 - accuracy: 0.9915 - val_loss: 0.1281 - val_accuracy: 0.9492\n",
            "Epoch 99/100\n",
            "52/52 [==============================] - 1s 12ms/step - loss: 0.0145 - accuracy: 0.9958 - val_loss: 0.1744 - val_accuracy: 0.9443\n",
            "Epoch 100/100\n",
            "52/52 [==============================] - 1s 12ms/step - loss: 0.0069 - accuracy: 0.9988 - val_loss: 0.3713 - val_accuracy: 0.8789\n"
          ]
        }
      ]
    },
    {
      "cell_type": "code",
      "metadata": {
        "colab": {
          "base_uri": "https://localhost:8080/",
          "height": 349
        },
        "id": "O410hS5VLCvJ",
        "outputId": "13a56b68-9494-4e34-94f3-26769e046e5f"
      },
      "source": [
        "predicted_labels_cnn_2 = CNN_model_2.predict(np.transpose(test_features_reshaped, (0, 2, 1)))\n",
        "evaluate(test_labels_categorical, predicted_labels_cnn_2, is_categorical=True)"
      ],
      "execution_count": 30,
      "outputs": [
        {
          "output_type": "stream",
          "name": "stdout",
          "text": [
            "Accuracy: 0.24440298507462688\n",
            "Precision: 0.21738276185967595\n",
            "Recall: 0.20318855611656406\n",
            "F1 score: 0.20158394281631417\n"
          ]
        },
        {
          "output_type": "display_data",
          "data": {
            "image/png": "[encoded data removed]",
            "text/plain": [
              "<Figure size 432x288 with 2 Axes>"
            ]
          },
          "metadata": {
            "needs_background": "light"
          }
        }
      ]
    },
    {
      "cell_type": "code",
      "metadata": {
        "colab": {
          "base_uri": "https://localhost:8080/"
        },
        "id": "tqg_2-rdM7pP",
        "outputId": "07ab42a7-4af3-4182-8f4a-96564261e3a1"
      },
      "source": [
        "def get_CNN_3_classifier():\n",
        "  model = Sequential()\n",
        "  model.add(Conv2D(32, kernel_size=(3, 3), activation='relu', input_shape=(79, 105, 1)))\n",
        "  model.add(MaxPooling2D(pool_size=(2, 2)))\n",
        "  model.add(Dropout(0.25))\n",
        "  model.add(Conv2D(64, kernel_size=(3, 3), activation='relu'))\n",
        "  model.add(MaxPooling2D(pool_size=(2, 2)))\n",
        "  model.add(Dropout(0.25))\n",
        "  model.add(Flatten())\n",
        "  model.add(Dense(256, activation='relu'))\n",
        "  model.add(Dense(6, activation='softmax'))\n",
        "\n",
        "  model.compile(optimizer = Adam(lr=1e-4), loss = 'categorical_crossentropy', metrics = ['accuracy'])\n",
        "  model.summary()\n",
        "\n",
        "  return model\n",
        "\n",
        "CNN_model_3 = get_CNN_3_classifier()"
      ],
      "execution_count": 31,
      "outputs": [
        {
          "output_type": "stream",
          "name": "stdout",
          "text": [
            "Model: \"sequential_1\"\n",
            "_________________________________________________________________\n",
            " Layer (type)                Output Shape              Param #   \n",
            "=================================================================\n",
            " conv2d_10 (Conv2D)          (None, 77, 103, 32)       320       \n",
            "                                                                 \n",
            " max_pooling2d_4 (MaxPooling  (None, 38, 51, 32)       0         \n",
            " 2D)                                                             \n",
            "                                                                 \n",
            " dropout (Dropout)           (None, 38, 51, 32)        0         \n",
            "                                                                 \n",
            " conv2d_11 (Conv2D)          (None, 36, 49, 64)        18496     \n",
            "                                                                 \n",
            " max_pooling2d_5 (MaxPooling  (None, 18, 24, 64)       0         \n",
            " 2D)                                                             \n",
            "                                                                 \n",
            " dropout_1 (Dropout)         (None, 18, 24, 64)        0         \n",
            "                                                                 \n",
            " flatten_1 (Flatten)         (None, 27648)             0         \n",
            "                                                                 \n",
            " dense_8 (Dense)             (None, 256)               7078144   \n",
            "                                                                 \n",
            " dense_9 (Dense)             (None, 6)                 1542      \n",
            "                                                                 \n",
            "=================================================================\n",
            "Total params: 7,098,502\n",
            "Trainable params: 7,098,502\n",
            "Non-trainable params: 0\n",
            "_________________________________________________________________\n"
          ]
        },
        {
          "output_type": "stream",
          "name": "stderr",
          "text": [
            "/usr/local/lib/python3.7/dist-packages/keras/optimizer_v2/adam.py:105: UserWarning: The `lr` argument is deprecated, use `learning_rate` instead.\n",
            "  super(Adam, self).__init__(name, **kwargs)\n"
          ]
        }
      ]
    },
    {
      "cell_type": "code",
      "metadata": {
        "colab": {
          "base_uri": "https://localhost:8080/"
        },
        "id": "Cxn0AvJ5Npa4",
        "outputId": "a097320e-abed-4a0f-8559-84a78b45903f"
      },
      "source": [
        "history_cnn_3 = CNN_model_3.fit(np.transpose(train_features_oversampled_reshaped, (0, 2, 1)), train_labels_oversampled_categorical, validation_split=0.2, epochs=100, verbose=1)"
      ],
      "execution_count": 32,
      "outputs": [
        {
          "output_type": "stream",
          "name": "stdout",
          "text": [
            "Epoch 1/100\n",
            "52/52 [==============================] - 1s 12ms/step - loss: 1.7071 - accuracy: 0.2205 - val_loss: 2.3598 - val_accuracy: 0.0000e+00\n",
            "Epoch 2/100\n",
            "52/52 [==============================] - 0s 8ms/step - loss: 1.6813 - accuracy: 0.2538 - val_loss: 2.3993 - val_accuracy: 0.0000e+00\n",
            "Epoch 3/100\n",
            "52/52 [==============================] - 0s 8ms/step - loss: 1.6643 - accuracy: 0.2726 - val_loss: 2.4703 - val_accuracy: 0.0000e+00\n",
            "Epoch 4/100\n",
            "52/52 [==============================] - 0s 8ms/step - loss: 1.6620 - accuracy: 0.2798 - val_loss: 2.4583 - val_accuracy: 0.0073\n",
            "Epoch 5/100\n",
            "52/52 [==============================] - 0s 8ms/step - loss: 1.6459 - accuracy: 0.2792 - val_loss: 2.3989 - val_accuracy: 0.0073\n",
            "Epoch 6/100\n",
            "52/52 [==============================] - 0s 8ms/step - loss: 1.6252 - accuracy: 0.3222 - val_loss: 2.2672 - val_accuracy: 0.0315\n",
            "Epoch 7/100\n",
            "52/52 [==============================] - 0s 8ms/step - loss: 1.6093 - accuracy: 0.3440 - val_loss: 2.2808 - val_accuracy: 0.0194\n",
            "Epoch 8/100\n",
            "52/52 [==============================] - 0s 8ms/step - loss: 1.5857 - accuracy: 0.3555 - val_loss: 2.3488 - val_accuracy: 0.0291\n",
            "Epoch 9/100\n",
            "52/52 [==============================] - 0s 8ms/step - loss: 1.5606 - accuracy: 0.3786 - val_loss: 2.3146 - val_accuracy: 0.0266\n",
            "Epoch 10/100\n",
            "52/52 [==============================] - 0s 8ms/step - loss: 1.5328 - accuracy: 0.3979 - val_loss: 2.3964 - val_accuracy: 0.0266\n",
            "Epoch 11/100\n",
            "52/52 [==============================] - 0s 8ms/step - loss: 1.5111 - accuracy: 0.3961 - val_loss: 2.1974 - val_accuracy: 0.1211\n",
            "Epoch 12/100\n",
            "52/52 [==============================] - 0s 8ms/step - loss: 1.4478 - accuracy: 0.4367 - val_loss: 2.0462 - val_accuracy: 0.0872\n",
            "Epoch 13/100\n",
            "52/52 [==============================] - 0s 8ms/step - loss: 1.4357 - accuracy: 0.4537 - val_loss: 1.9971 - val_accuracy: 0.1453\n",
            "Epoch 14/100\n",
            "52/52 [==============================] - 0s 8ms/step - loss: 1.3756 - accuracy: 0.4730 - val_loss: 2.2743 - val_accuracy: 0.0799\n",
            "Epoch 15/100\n",
            "52/52 [==============================] - 0s 8ms/step - loss: 1.3388 - accuracy: 0.4973 - val_loss: 2.1788 - val_accuracy: 0.1889\n",
            "Epoch 16/100\n",
            "52/52 [==============================] - 0s 8ms/step - loss: 1.2916 - accuracy: 0.5257 - val_loss: 2.0018 - val_accuracy: 0.1332\n",
            "Epoch 17/100\n",
            "52/52 [==============================] - 0s 8ms/step - loss: 1.2783 - accuracy: 0.4985 - val_loss: 2.1119 - val_accuracy: 0.1574\n",
            "Epoch 18/100\n",
            "52/52 [==============================] - 0s 8ms/step - loss: 1.2193 - accuracy: 0.5694 - val_loss: 2.0862 - val_accuracy: 0.1913\n",
            "Epoch 19/100\n",
            "52/52 [==============================] - 0s 8ms/step - loss: 1.1764 - accuracy: 0.5694 - val_loss: 1.8917 - val_accuracy: 0.2228\n",
            "Epoch 20/100\n",
            "52/52 [==============================] - 0s 8ms/step - loss: 1.1266 - accuracy: 0.6051 - val_loss: 1.5031 - val_accuracy: 0.4600\n",
            "Epoch 21/100\n",
            "52/52 [==============================] - 0s 8ms/step - loss: 1.0900 - accuracy: 0.6136 - val_loss: 1.7163 - val_accuracy: 0.3535\n",
            "Epoch 22/100\n",
            "52/52 [==============================] - 0s 8ms/step - loss: 1.0444 - accuracy: 0.6402 - val_loss: 1.4610 - val_accuracy: 0.4576\n",
            "Epoch 23/100\n",
            "52/52 [==============================] - 0s 8ms/step - loss: 1.0151 - accuracy: 0.6463 - val_loss: 1.5251 - val_accuracy: 0.3898\n",
            "Epoch 24/100\n",
            "52/52 [==============================] - 0s 8ms/step - loss: 0.9656 - accuracy: 0.6657 - val_loss: 1.7747 - val_accuracy: 0.2518\n",
            "Epoch 25/100\n",
            "52/52 [==============================] - 0s 8ms/step - loss: 0.9225 - accuracy: 0.6947 - val_loss: 1.2502 - val_accuracy: 0.5545\n",
            "Epoch 26/100\n",
            "52/52 [==============================] - 0s 8ms/step - loss: 0.8886 - accuracy: 0.6905 - val_loss: 1.3980 - val_accuracy: 0.5036\n",
            "Epoch 27/100\n",
            "52/52 [==============================] - 0s 8ms/step - loss: 0.8511 - accuracy: 0.7141 - val_loss: 1.2910 - val_accuracy: 0.5012\n",
            "Epoch 28/100\n",
            "52/52 [==============================] - 0s 8ms/step - loss: 0.8291 - accuracy: 0.7262 - val_loss: 1.1027 - val_accuracy: 0.6586\n",
            "Epoch 29/100\n",
            "52/52 [==============================] - 0s 8ms/step - loss: 0.7823 - accuracy: 0.7450 - val_loss: 1.3141 - val_accuracy: 0.5424\n",
            "Epoch 30/100\n",
            "52/52 [==============================] - 0s 8ms/step - loss: 0.7426 - accuracy: 0.7547 - val_loss: 0.9272 - val_accuracy: 0.7240\n",
            "Epoch 31/100\n",
            "52/52 [==============================] - 0s 8ms/step - loss: 0.7309 - accuracy: 0.7626 - val_loss: 0.8836 - val_accuracy: 0.7506\n",
            "Epoch 32/100\n",
            "52/52 [==============================] - 0s 8ms/step - loss: 0.6663 - accuracy: 0.7910 - val_loss: 0.8307 - val_accuracy: 0.7869\n",
            "Epoch 33/100\n",
            "52/52 [==============================] - 0s 8ms/step - loss: 0.6326 - accuracy: 0.8001 - val_loss: 0.9268 - val_accuracy: 0.7191\n",
            "Epoch 34/100\n",
            "52/52 [==============================] - 0s 8ms/step - loss: 0.6149 - accuracy: 0.8038 - val_loss: 0.7428 - val_accuracy: 0.8136\n",
            "Epoch 35/100\n",
            "52/52 [==============================] - 0s 8ms/step - loss: 0.5639 - accuracy: 0.8219 - val_loss: 0.8696 - val_accuracy: 0.7288\n",
            "Epoch 36/100\n",
            "52/52 [==============================] - 0s 8ms/step - loss: 0.5478 - accuracy: 0.8419 - val_loss: 0.6833 - val_accuracy: 0.8063\n",
            "Epoch 37/100\n",
            "52/52 [==============================] - 0s 8ms/step - loss: 0.5282 - accuracy: 0.8334 - val_loss: 0.8658 - val_accuracy: 0.7433\n",
            "Epoch 38/100\n",
            "52/52 [==============================] - 0s 8ms/step - loss: 0.4783 - accuracy: 0.8607 - val_loss: 0.6898 - val_accuracy: 0.8232\n",
            "Epoch 39/100\n",
            "52/52 [==============================] - 0s 8ms/step - loss: 0.4689 - accuracy: 0.8601 - val_loss: 0.5831 - val_accuracy: 0.8620\n",
            "Epoch 40/100\n",
            "52/52 [==============================] - 0s 8ms/step - loss: 0.4421 - accuracy: 0.8746 - val_loss: 0.6737 - val_accuracy: 0.8208\n",
            "Epoch 41/100\n",
            "52/52 [==============================] - 0s 8ms/step - loss: 0.4140 - accuracy: 0.8843 - val_loss: 0.5530 - val_accuracy: 0.8571\n",
            "Epoch 42/100\n",
            "52/52 [==============================] - 0s 8ms/step - loss: 0.3917 - accuracy: 0.8879 - val_loss: 0.7422 - val_accuracy: 0.7869\n",
            "Epoch 43/100\n",
            "52/52 [==============================] - 0s 8ms/step - loss: 0.3707 - accuracy: 0.9013 - val_loss: 0.4010 - val_accuracy: 0.9201\n",
            "Epoch 44/100\n",
            "52/52 [==============================] - 0s 8ms/step - loss: 0.3438 - accuracy: 0.9164 - val_loss: 0.6057 - val_accuracy: 0.8329\n",
            "Epoch 45/100\n",
            "52/52 [==============================] - 0s 8ms/step - loss: 0.3475 - accuracy: 0.9019 - val_loss: 0.4262 - val_accuracy: 0.8910\n",
            "Epoch 46/100\n",
            "52/52 [==============================] - 0s 8ms/step - loss: 0.2830 - accuracy: 0.9346 - val_loss: 0.4191 - val_accuracy: 0.8910\n",
            "Epoch 47/100\n",
            "52/52 [==============================] - 0s 8ms/step - loss: 0.2688 - accuracy: 0.9400 - val_loss: 0.4411 - val_accuracy: 0.8983\n",
            "Epoch 48/100\n",
            "52/52 [==============================] - 0s 8ms/step - loss: 0.2697 - accuracy: 0.9358 - val_loss: 0.3308 - val_accuracy: 0.9298\n",
            "Epoch 49/100\n",
            "52/52 [==============================] - 0s 8ms/step - loss: 0.2525 - accuracy: 0.9352 - val_loss: 0.3150 - val_accuracy: 0.9225\n",
            "Epoch 50/100\n",
            "52/52 [==============================] - 0s 8ms/step - loss: 0.2432 - accuracy: 0.9419 - val_loss: 0.3658 - val_accuracy: 0.8935\n",
            "Epoch 51/100\n",
            "52/52 [==============================] - 0s 8ms/step - loss: 0.2284 - accuracy: 0.9546 - val_loss: 0.2735 - val_accuracy: 0.9298\n",
            "Epoch 52/100\n",
            "52/52 [==============================] - 0s 8ms/step - loss: 0.2051 - accuracy: 0.9540 - val_loss: 0.2599 - val_accuracy: 0.9564\n",
            "Epoch 53/100\n",
            "52/52 [==============================] - 0s 8ms/step - loss: 0.1885 - accuracy: 0.9618 - val_loss: 0.1940 - val_accuracy: 0.9685\n",
            "Epoch 54/100\n",
            "52/52 [==============================] - 0s 8ms/step - loss: 0.1844 - accuracy: 0.9649 - val_loss: 0.2491 - val_accuracy: 0.9443\n",
            "Epoch 55/100\n",
            "52/52 [==============================] - 0s 8ms/step - loss: 0.1673 - accuracy: 0.9679 - val_loss: 0.2765 - val_accuracy: 0.9370\n",
            "Epoch 56/100\n",
            "52/52 [==============================] - 0s 8ms/step - loss: 0.1712 - accuracy: 0.9631 - val_loss: 0.3125 - val_accuracy: 0.9322\n",
            "Epoch 57/100\n",
            "52/52 [==============================] - 0s 8ms/step - loss: 0.1551 - accuracy: 0.9679 - val_loss: 0.1645 - val_accuracy: 0.9782\n",
            "Epoch 58/100\n",
            "52/52 [==============================] - 0s 8ms/step - loss: 0.1486 - accuracy: 0.9697 - val_loss: 0.1834 - val_accuracy: 0.9758\n",
            "Epoch 59/100\n",
            "52/52 [==============================] - 0s 8ms/step - loss: 0.1407 - accuracy: 0.9746 - val_loss: 0.2321 - val_accuracy: 0.9467\n",
            "Epoch 60/100\n",
            "52/52 [==============================] - 0s 8ms/step - loss: 0.1312 - accuracy: 0.9776 - val_loss: 0.1199 - val_accuracy: 0.9903\n",
            "Epoch 61/100\n",
            "52/52 [==============================] - 0s 8ms/step - loss: 0.1291 - accuracy: 0.9733 - val_loss: 0.1867 - val_accuracy: 0.9613\n",
            "Epoch 62/100\n",
            "52/52 [==============================] - 0s 8ms/step - loss: 0.1150 - accuracy: 0.9806 - val_loss: 0.1411 - val_accuracy: 0.9831\n",
            "Epoch 63/100\n",
            "52/52 [==============================] - 0s 8ms/step - loss: 0.0962 - accuracy: 0.9885 - val_loss: 0.1202 - val_accuracy: 0.9903\n",
            "Epoch 64/100\n",
            "52/52 [==============================] - 0s 8ms/step - loss: 0.1009 - accuracy: 0.9843 - val_loss: 0.1449 - val_accuracy: 0.9734\n",
            "Epoch 65/100\n",
            "52/52 [==============================] - 0s 8ms/step - loss: 0.1042 - accuracy: 0.9824 - val_loss: 0.2223 - val_accuracy: 0.9443\n",
            "Epoch 66/100\n",
            "52/52 [==============================] - 0s 8ms/step - loss: 0.1172 - accuracy: 0.9733 - val_loss: 0.1760 - val_accuracy: 0.9661\n",
            "Epoch 67/100\n",
            "52/52 [==============================] - 0s 8ms/step - loss: 0.1114 - accuracy: 0.9764 - val_loss: 0.1657 - val_accuracy: 0.9709\n",
            "Epoch 68/100\n",
            "52/52 [==============================] - 0s 8ms/step - loss: 0.0834 - accuracy: 0.9885 - val_loss: 0.1796 - val_accuracy: 0.9661\n",
            "Epoch 69/100\n",
            "52/52 [==============================] - 0s 8ms/step - loss: 0.0717 - accuracy: 0.9909 - val_loss: 0.1656 - val_accuracy: 0.9661\n",
            "Epoch 70/100\n",
            "52/52 [==============================] - 0s 8ms/step - loss: 0.0680 - accuracy: 0.9909 - val_loss: 0.0977 - val_accuracy: 0.9952\n",
            "Epoch 71/100\n",
            "52/52 [==============================] - 0s 8ms/step - loss: 0.0689 - accuracy: 0.9927 - val_loss: 0.1012 - val_accuracy: 0.9879\n",
            "Epoch 72/100\n",
            "52/52 [==============================] - 0s 8ms/step - loss: 0.0616 - accuracy: 0.9945 - val_loss: 0.1345 - val_accuracy: 0.9806\n",
            "Epoch 73/100\n",
            "52/52 [==============================] - 0s 8ms/step - loss: 0.0619 - accuracy: 0.9933 - val_loss: 0.1137 - val_accuracy: 0.9782\n",
            "Epoch 74/100\n",
            "52/52 [==============================] - 0s 8ms/step - loss: 0.0575 - accuracy: 0.9927 - val_loss: 0.1063 - val_accuracy: 0.9855\n",
            "Epoch 75/100\n",
            "52/52 [==============================] - 0s 8ms/step - loss: 0.0617 - accuracy: 0.9927 - val_loss: 0.0879 - val_accuracy: 0.9855\n",
            "Epoch 76/100\n",
            "52/52 [==============================] - 0s 8ms/step - loss: 0.0585 - accuracy: 0.9915 - val_loss: 0.1286 - val_accuracy: 0.9782\n",
            "Epoch 77/100\n",
            "52/52 [==============================] - 0s 8ms/step - loss: 0.0501 - accuracy: 0.9970 - val_loss: 0.1184 - val_accuracy: 0.9758\n",
            "Epoch 78/100\n",
            "52/52 [==============================] - 0s 8ms/step - loss: 0.0530 - accuracy: 0.9933 - val_loss: 0.1006 - val_accuracy: 0.9806\n",
            "Epoch 79/100\n",
            "52/52 [==============================] - 0s 8ms/step - loss: 0.0585 - accuracy: 0.9915 - val_loss: 0.1032 - val_accuracy: 0.9782\n",
            "Epoch 80/100\n",
            "52/52 [==============================] - 0s 8ms/step - loss: 0.0542 - accuracy: 0.9915 - val_loss: 0.0689 - val_accuracy: 0.9855\n",
            "Epoch 81/100\n",
            "52/52 [==============================] - 0s 8ms/step - loss: 0.0375 - accuracy: 0.9976 - val_loss: 0.0673 - val_accuracy: 0.9903\n",
            "Epoch 82/100\n",
            "52/52 [==============================] - 0s 8ms/step - loss: 0.0412 - accuracy: 0.9982 - val_loss: 0.0806 - val_accuracy: 0.9927\n",
            "Epoch 83/100\n",
            "52/52 [==============================] - 0s 8ms/step - loss: 0.0542 - accuracy: 0.9909 - val_loss: 0.0861 - val_accuracy: 0.9831\n",
            "Epoch 84/100\n",
            "52/52 [==============================] - 0s 8ms/step - loss: 0.0358 - accuracy: 0.9976 - val_loss: 0.0735 - val_accuracy: 0.9855\n",
            "Epoch 85/100\n",
            "52/52 [==============================] - 0s 8ms/step - loss: 0.0389 - accuracy: 0.9964 - val_loss: 0.0786 - val_accuracy: 0.9903\n",
            "Epoch 86/100\n",
            "52/52 [==============================] - 0s 8ms/step - loss: 0.0316 - accuracy: 0.9982 - val_loss: 0.0406 - val_accuracy: 0.9952\n",
            "Epoch 87/100\n",
            "52/52 [==============================] - 0s 8ms/step - loss: 0.0411 - accuracy: 0.9952 - val_loss: 0.0731 - val_accuracy: 0.9879\n",
            "Epoch 88/100\n",
            "52/52 [==============================] - 0s 8ms/step - loss: 0.0322 - accuracy: 0.9982 - val_loss: 0.0959 - val_accuracy: 0.9831\n",
            "Epoch 89/100\n",
            "52/52 [==============================] - 0s 8ms/step - loss: 0.0269 - accuracy: 0.9982 - val_loss: 0.0674 - val_accuracy: 0.9855\n",
            "Epoch 90/100\n",
            "52/52 [==============================] - 0s 8ms/step - loss: 0.0261 - accuracy: 1.0000 - val_loss: 0.0690 - val_accuracy: 0.9879\n",
            "Epoch 91/100\n",
            "52/52 [==============================] - 0s 8ms/step - loss: 0.0300 - accuracy: 0.9964 - val_loss: 0.0665 - val_accuracy: 0.9903\n",
            "Epoch 92/100\n",
            "52/52 [==============================] - 0s 8ms/step - loss: 0.0333 - accuracy: 0.9945 - val_loss: 0.0511 - val_accuracy: 0.9952\n",
            "Epoch 93/100\n",
            "52/52 [==============================] - 0s 8ms/step - loss: 0.0322 - accuracy: 0.9982 - val_loss: 0.0546 - val_accuracy: 0.9952\n",
            "Epoch 94/100\n",
            "52/52 [==============================] - 0s 8ms/step - loss: 0.0309 - accuracy: 0.9970 - val_loss: 0.0723 - val_accuracy: 0.9903\n",
            "Epoch 95/100\n",
            "52/52 [==============================] - 0s 8ms/step - loss: 0.0284 - accuracy: 0.9958 - val_loss: 0.0589 - val_accuracy: 0.9879\n",
            "Epoch 96/100\n",
            "52/52 [==============================] - 0s 8ms/step - loss: 0.0319 - accuracy: 0.9945 - val_loss: 0.0791 - val_accuracy: 0.9806\n",
            "Epoch 97/100\n",
            "52/52 [==============================] - 0s 8ms/step - loss: 0.0206 - accuracy: 0.9988 - val_loss: 0.1010 - val_accuracy: 0.9831\n",
            "Epoch 98/100\n",
            "52/52 [==============================] - 0s 8ms/step - loss: 0.0318 - accuracy: 0.9945 - val_loss: 0.0484 - val_accuracy: 0.9927\n",
            "Epoch 99/100\n",
            "52/52 [==============================] - 0s 8ms/step - loss: 0.0189 - accuracy: 1.0000 - val_loss: 0.0423 - val_accuracy: 0.9927\n",
            "Epoch 100/100\n",
            "52/52 [==============================] - 0s 8ms/step - loss: 0.0195 - accuracy: 0.9988 - val_loss: 0.0522 - val_accuracy: 0.9952\n"
          ]
        }
      ]
    },
    {
      "cell_type": "code",
      "metadata": {
        "colab": {
          "base_uri": "https://localhost:8080/",
          "height": 349
        },
        "id": "H8GYwZflN0ze",
        "outputId": "55aad18d-d17a-4d46-9117-8260fa4b3289"
      },
      "source": [
        "predicted_labels_cnn_3 = CNN_model_3.predict(np.transpose(test_features_reshaped, (0, 2, 1)))\n",
        "evaluate(test_labels_categorical, predicted_labels_cnn_3, is_categorical=True)"
      ],
      "execution_count": 33,
      "outputs": [
        {
          "output_type": "stream",
          "name": "stdout",
          "text": [
            "Accuracy: 0.22201492537313433\n",
            "Precision: 0.16833823641099185\n",
            "Recall: 0.1746239027814039\n",
            "F1 score: 0.1696649648956238\n"
          ]
        },
        {
          "output_type": "display_data",
          "data": {
            "image/png": "[encoded data removed]",
            "text/plain": [
              "<Figure size 432x288 with 2 Axes>"
            ]
          },
          "metadata": {
            "needs_background": "light"
          }
        }
      ]
    },
    {
      "cell_type": "markdown",
      "metadata": {
        "id": "VIxgHPzCUxmB"
      },
      "source": [
        "## Ensemble Learning"
      ]
    },
    {
      "cell_type": "code",
      "metadata": {
        "colab": {
          "base_uri": "https://localhost:8080/",
          "height": 462
        },
        "id": "g8FmRtL2Uyo8",
        "outputId": "1b745c5e-35a6-4f47-c3ac-2d9ad84929e4"
      },
      "source": [
        "from self_paced_ensemble import SelfPacedEnsembleClassifier\n",
        "\n",
        "clf = SelfPacedEnsembleClassifier(base_estimator=RandomForestClassifier(max_depth=5, random_state=0, verbose=True), n_estimators=5)\n",
        "\n",
        "\n",
        "clf.fit(train_features, train_labels)\n"
      ],
      "execution_count": 34,
      "outputs": [
        {
          "output_type": "stream",
          "name": "stderr",
          "text": [
            "/usr/local/lib/python3.7/dist-packages/sklearn/utils/validation.py:1679: FutureWarning: Feature names only support names that are all strings. Got feature names with dtypes: ['tuple']. An error will be raised in 1.2.\n",
            "  FutureWarning,\n",
            "[Parallel(n_jobs=1)]: Using backend SequentialBackend with 1 concurrent workers.\n",
            "[Parallel(n_jobs=1)]: Done 100 out of 100 | elapsed:    0.7s finished\n",
            "[Parallel(n_jobs=1)]: Using backend SequentialBackend with 1 concurrent workers.\n",
            "[Parallel(n_jobs=1)]: Done 100 out of 100 | elapsed:    0.0s finished\n"
          ]
        },
        {
          "output_type": "error",
          "ename": "ValueError",
          "evalue": "ignored",
          "traceback": [
            "\u001b[0;31m---------------------------------------------------------------------------\u001b[0m",
            "\u001b[0;31mValueError\u001b[0m                                Traceback (most recent call last)",
            "\u001b[0;32m<ipython-input-34-367511d5b4cb>\u001b[0m in \u001b[0;36m<module>\u001b[0;34m()\u001b[0m\n\u001b[1;32m      4\u001b[0m \u001b[0;34m\u001b[0m\u001b[0m\n\u001b[1;32m      5\u001b[0m \u001b[0;34m\u001b[0m\u001b[0m\n\u001b[0;32m----> 6\u001b[0;31m \u001b[0mclf\u001b[0m\u001b[0;34m.\u001b[0m\u001b[0mfit\u001b[0m\u001b[0;34m(\u001b[0m\u001b[0mtrain_features\u001b[0m\u001b[0;34m,\u001b[0m \u001b[0mtrain_labels\u001b[0m\u001b[0;34m)\u001b[0m\u001b[0;34m\u001b[0m\u001b[0;34m\u001b[0m\u001b[0m\n\u001b[0m",
            "\u001b[0;32m/usr/local/lib/python3.7/dist-packages/self_paced_ensemble/self_paced_ensemble/_self_paced_ensemble.py\u001b[0m in \u001b[0;36mfit\u001b[0;34m(self, X, y, sample_weight, **kwargs)\u001b[0m\n\u001b[1;32m    319\u001b[0m         \"\"\"\n\u001b[1;32m    320\u001b[0m         return super().fit(\n\u001b[0;32m--> 321\u001b[0;31m             \u001b[0mX\u001b[0m\u001b[0;34m,\u001b[0m \u001b[0my\u001b[0m\u001b[0;34m,\u001b[0m \u001b[0msample_weight\u001b[0m\u001b[0;34m=\u001b[0m\u001b[0msample_weight\u001b[0m\u001b[0;34m,\u001b[0m \u001b[0;34m**\u001b[0m\u001b[0mkwargs\u001b[0m\u001b[0;34m\u001b[0m\u001b[0;34m\u001b[0m\u001b[0m\n\u001b[0m\u001b[1;32m    322\u001b[0m         )\n\u001b[1;32m    323\u001b[0m \u001b[0;34m\u001b[0m\u001b[0m\n",
            "\u001b[0;32m/usr/local/lib/python3.7/dist-packages/self_paced_ensemble/utils/_validation.py\u001b[0m in \u001b[0;36minner_f\u001b[0;34m(*args, **kwargs)\u001b[0m\n\u001b[1;32m    562\u001b[0m             )\n\u001b[1;32m    563\u001b[0m         \u001b[0mkwargs\u001b[0m\u001b[0;34m.\u001b[0m\u001b[0mupdate\u001b[0m\u001b[0;34m(\u001b[0m\u001b[0;34m{\u001b[0m\u001b[0mk\u001b[0m\u001b[0;34m:\u001b[0m \u001b[0marg\u001b[0m \u001b[0;32mfor\u001b[0m \u001b[0mk\u001b[0m\u001b[0;34m,\u001b[0m \u001b[0marg\u001b[0m \u001b[0;32min\u001b[0m \u001b[0mzip\u001b[0m\u001b[0;34m(\u001b[0m\u001b[0msig\u001b[0m\u001b[0;34m.\u001b[0m\u001b[0mparameters\u001b[0m\u001b[0;34m,\u001b[0m \u001b[0margs\u001b[0m\u001b[0;34m)\u001b[0m\u001b[0;34m}\u001b[0m\u001b[0;34m)\u001b[0m\u001b[0;34m\u001b[0m\u001b[0;34m\u001b[0m\u001b[0m\n\u001b[0;32m--> 564\u001b[0;31m         \u001b[0;32mreturn\u001b[0m \u001b[0mf\u001b[0m\u001b[0;34m(\u001b[0m\u001b[0;34m**\u001b[0m\u001b[0mkwargs\u001b[0m\u001b[0;34m)\u001b[0m\u001b[0;34m\u001b[0m\u001b[0;34m\u001b[0m\u001b[0m\n\u001b[0m\u001b[1;32m    565\u001b[0m \u001b[0;34m\u001b[0m\u001b[0m\n\u001b[1;32m    566\u001b[0m     \u001b[0;32mreturn\u001b[0m \u001b[0minner_f\u001b[0m\u001b[0;34m\u001b[0m\u001b[0;34m\u001b[0m\u001b[0m\n",
            "\u001b[0;32m/usr/local/lib/python3.7/dist-packages/self_paced_ensemble/self_paced_ensemble/base.py\u001b[0m in \u001b[0;36mfit\u001b[0;34m(self, X, y, sample_weight, **kwargs)\u001b[0m\n\u001b[1;32m    506\u001b[0m         \u001b[0mself\u001b[0m\u001b[0;34m.\u001b[0m\u001b[0mestimators_\u001b[0m\u001b[0;34m,\u001b[0m \u001b[0mself\u001b[0m\u001b[0;34m.\u001b[0m\u001b[0mestimators_features_\u001b[0m \u001b[0;34m=\u001b[0m \u001b[0;34m[\u001b[0m\u001b[0;34m]\u001b[0m\u001b[0;34m,\u001b[0m \u001b[0;34m[\u001b[0m\u001b[0;34m]\u001b[0m\u001b[0;34m\u001b[0m\u001b[0;34m\u001b[0m\u001b[0m\n\u001b[1;32m    507\u001b[0m \u001b[0;34m\u001b[0m\u001b[0m\n\u001b[0;32m--> 508\u001b[0;31m         \u001b[0;32mreturn\u001b[0m \u001b[0mself\u001b[0m\u001b[0;34m.\u001b[0m\u001b[0m_fit\u001b[0m\u001b[0;34m(\u001b[0m\u001b[0mX\u001b[0m\u001b[0;34m,\u001b[0m \u001b[0my\u001b[0m\u001b[0;34m,\u001b[0m \u001b[0msample_weight\u001b[0m\u001b[0;34m=\u001b[0m\u001b[0msample_weight\u001b[0m\u001b[0;34m,\u001b[0m \u001b[0;34m**\u001b[0m\u001b[0mkwargs\u001b[0m\u001b[0;34m)\u001b[0m\u001b[0;34m\u001b[0m\u001b[0;34m\u001b[0m\u001b[0m\n\u001b[0m\u001b[1;32m    509\u001b[0m \u001b[0;34m\u001b[0m\u001b[0m\n\u001b[1;32m    510\u001b[0m \u001b[0;34m\u001b[0m\u001b[0m\n",
            "\u001b[0;32m/usr/local/lib/python3.7/dist-packages/self_paced_ensemble/utils/_validation.py\u001b[0m in \u001b[0;36minner_f\u001b[0;34m(*args, **kwargs)\u001b[0m\n\u001b[1;32m    562\u001b[0m             )\n\u001b[1;32m    563\u001b[0m         \u001b[0mkwargs\u001b[0m\u001b[0;34m.\u001b[0m\u001b[0mupdate\u001b[0m\u001b[0;34m(\u001b[0m\u001b[0;34m{\u001b[0m\u001b[0mk\u001b[0m\u001b[0;34m:\u001b[0m \u001b[0marg\u001b[0m \u001b[0;32mfor\u001b[0m \u001b[0mk\u001b[0m\u001b[0;34m,\u001b[0m \u001b[0marg\u001b[0m \u001b[0;32min\u001b[0m \u001b[0mzip\u001b[0m\u001b[0;34m(\u001b[0m\u001b[0msig\u001b[0m\u001b[0;34m.\u001b[0m\u001b[0mparameters\u001b[0m\u001b[0;34m,\u001b[0m \u001b[0margs\u001b[0m\u001b[0;34m)\u001b[0m\u001b[0;34m}\u001b[0m\u001b[0;34m)\u001b[0m\u001b[0;34m\u001b[0m\u001b[0;34m\u001b[0m\u001b[0m\n\u001b[0;32m--> 564\u001b[0;31m         \u001b[0;32mreturn\u001b[0m \u001b[0mf\u001b[0m\u001b[0;34m(\u001b[0m\u001b[0;34m**\u001b[0m\u001b[0mkwargs\u001b[0m\u001b[0;34m)\u001b[0m\u001b[0;34m\u001b[0m\u001b[0;34m\u001b[0m\u001b[0m\n\u001b[0m\u001b[1;32m    565\u001b[0m \u001b[0;34m\u001b[0m\u001b[0m\n\u001b[1;32m    566\u001b[0m     \u001b[0;32mreturn\u001b[0m \u001b[0minner_f\u001b[0m\u001b[0;34m\u001b[0m\u001b[0;34m\u001b[0m\u001b[0m\n",
            "\u001b[0;32m/usr/local/lib/python3.7/dist-packages/self_paced_ensemble/self_paced_ensemble/_self_paced_ensemble.py\u001b[0m in \u001b[0;36m_fit\u001b[0;34m(self, X, y, sample_weight, target_label, n_target_samples, balancing_schedule, eval_datasets, eval_metrics, train_verbose)\u001b[0m\n\u001b[1;32m    399\u001b[0m \u001b[0;34m\u001b[0m\u001b[0m\n\u001b[1;32m    400\u001b[0m             \u001b[0;31m# update self.y_pred_proba_latest\u001b[0m\u001b[0;34m\u001b[0m\u001b[0;34m\u001b[0m\u001b[0;34m\u001b[0m\u001b[0m\n\u001b[0;32m--> 401\u001b[0;31m             \u001b[0mself\u001b[0m\u001b[0;34m.\u001b[0m\u001b[0m_update_cached_prediction_probabilities\u001b[0m\u001b[0;34m(\u001b[0m\u001b[0mi_iter\u001b[0m\u001b[0;34m,\u001b[0m \u001b[0mX\u001b[0m\u001b[0;34m)\u001b[0m\u001b[0;34m\u001b[0m\u001b[0;34m\u001b[0m\u001b[0m\n\u001b[0m\u001b[1;32m    402\u001b[0m \u001b[0;34m\u001b[0m\u001b[0m\n\u001b[1;32m    403\u001b[0m             \u001b[0;31m# compute alpha\u001b[0m\u001b[0;34m\u001b[0m\u001b[0;34m\u001b[0m\u001b[0;34m\u001b[0m\u001b[0m\n",
            "\u001b[0;32m/usr/local/lib/python3.7/dist-packages/self_paced_ensemble/self_paced_ensemble/_self_paced_ensemble.py\u001b[0m in \u001b[0;36m_update_cached_prediction_probabilities\u001b[0;34m(self, i_iter, X)\u001b[0m\n\u001b[1;32m    441\u001b[0m             \u001b[0my_pred_proba_latest\u001b[0m \u001b[0;34m=\u001b[0m \u001b[0mself\u001b[0m\u001b[0;34m.\u001b[0m\u001b[0my_pred_proba_latest\u001b[0m\u001b[0;34m\u001b[0m\u001b[0;34m\u001b[0m\u001b[0m\n\u001b[1;32m    442\u001b[0m             \u001b[0my_pred_proba_new\u001b[0m \u001b[0;34m=\u001b[0m \u001b[0mself\u001b[0m\u001b[0;34m.\u001b[0m\u001b[0mestimators_\u001b[0m\u001b[0;34m[\u001b[0m\u001b[0;34m-\u001b[0m\u001b[0;36m1\u001b[0m\u001b[0;34m]\u001b[0m\u001b[0;34m.\u001b[0m\u001b[0mpredict_proba\u001b[0m\u001b[0;34m(\u001b[0m\u001b[0mX\u001b[0m\u001b[0;34m)\u001b[0m\u001b[0;34m\u001b[0m\u001b[0;34m\u001b[0m\u001b[0m\n\u001b[0;32m--> 443\u001b[0;31m             \u001b[0mself\u001b[0m\u001b[0;34m.\u001b[0m\u001b[0my_pred_proba_latest\u001b[0m \u001b[0;34m=\u001b[0m \u001b[0;34m(\u001b[0m\u001b[0my_pred_proba_latest\u001b[0m \u001b[0;34m*\u001b[0m \u001b[0mi_iter\u001b[0m \u001b[0;34m+\u001b[0m \u001b[0my_pred_proba_new\u001b[0m\u001b[0;34m)\u001b[0m \u001b[0;34m/\u001b[0m \u001b[0;34m(\u001b[0m\u001b[0mi_iter\u001b[0m\u001b[0;34m+\u001b[0m\u001b[0;36m1\u001b[0m\u001b[0;34m)\u001b[0m\u001b[0;34m\u001b[0m\u001b[0;34m\u001b[0m\u001b[0m\n\u001b[0m\u001b[1;32m    444\u001b[0m         \u001b[0;32mreturn\u001b[0m\u001b[0;34m\u001b[0m\u001b[0;34m\u001b[0m\u001b[0m\n\u001b[1;32m    445\u001b[0m \u001b[0;34m\u001b[0m\u001b[0m\n",
            "\u001b[0;31mValueError\u001b[0m: operands could not be broadcast together with shapes (1249,6) (1249,5) "
          ]
        }
      ]
    }
  ]
}