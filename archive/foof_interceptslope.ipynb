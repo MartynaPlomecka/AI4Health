{
 "cells": [
  {
   "cell_type": "code",
   "execution_count": 1,
   "metadata": {
    "id": "gvYIArX5GSZK"
   },
   "outputs": [],
   "source": [
    "import pandas as pd\n",
    "import numpy as np\n",
    "from sklearn.linear_model import SGDClassifier\n",
    "from sklearn.preprocessing import StandardScaler\n",
    "from sklearn.model_selection import cross_val_score\n",
    "from sklearn.datasets import make_classification\n",
    "from sklearn.model_selection import train_test_split\n",
    "from sklearn.pipeline import make_pipeline\n",
    "from sklearn.svm import SVC"
   ]
  },
  {
   "cell_type": "code",
   "execution_count": 2,
   "metadata": {
    "colab": {
     "base_uri": "https://localhost:8080/",
     "height": 446
    },
    "id": "MsZCb82tGZSU",
    "outputId": "f26facf7-bf1b-4e7b-a614-20588d02d550"
   },
   "outputs": [
    {
     "data": {
      "text/html": [
       "<div>\n",
       "<style scoped>\n",
       "    .dataframe tbody tr th:only-of-type {\n",
       "        vertical-align: middle;\n",
       "    }\n",
       "\n",
       "    .dataframe tbody tr th {\n",
       "        vertical-align: top;\n",
       "    }\n",
       "\n",
       "    .dataframe thead th {\n",
       "        text-align: right;\n",
       "    }\n",
       "</style>\n",
       "<table border=\"1\" class=\"dataframe\">\n",
       "  <thead>\n",
       "    <tr style=\"text-align: right;\">\n",
       "      <th></th>\n",
       "      <th>Unnamed: 0</th>\n",
       "      <th>IDs</th>\n",
       "      <th>Age</th>\n",
       "      <th>Sex</th>\n",
       "      <th>ACE_Score</th>\n",
       "      <th>APQ_P_Total</th>\n",
       "      <th>APQ_SR_Total</th>\n",
       "      <th>ARI_P_Total_Score</th>\n",
       "      <th>ARI_S_Total_Score</th>\n",
       "      <th>ASSQ_Total</th>\n",
       "      <th>...</th>\n",
       "      <th>DX_10_PRem</th>\n",
       "      <th>DX_10_Past_Doc</th>\n",
       "      <th>DX_10_Presum</th>\n",
       "      <th>DX_10_RC</th>\n",
       "      <th>DX_10_Rem</th>\n",
       "      <th>DX_10_RuleOut</th>\n",
       "      <th>DX_10_Spec</th>\n",
       "      <th>DX_10_Sub</th>\n",
       "      <th>DX_10_Time</th>\n",
       "      <th>NoDX</th>\n",
       "    </tr>\n",
       "  </thead>\n",
       "  <tbody>\n",
       "    <tr>\n",
       "      <th>0</th>\n",
       "      <td>1</td>\n",
       "      <td>NDARAA075AMK</td>\n",
       "      <td>6.728040</td>\n",
       "      <td>1</td>\n",
       "      <td>NaN</td>\n",
       "      <td>91.0</td>\n",
       "      <td>123.0</td>\n",
       "      <td>1.0</td>\n",
       "      <td>5.0</td>\n",
       "      <td>3.0</td>\n",
       "      <td>...</td>\n",
       "      <td>NaN</td>\n",
       "      <td>NaN</td>\n",
       "      <td>NaN</td>\n",
       "      <td>NaN</td>\n",
       "      <td>NaN</td>\n",
       "      <td>NaN</td>\n",
       "      <td>NaN</td>\n",
       "      <td>NaN</td>\n",
       "      <td>1.0</td>\n",
       "      <td>1.0</td>\n",
       "    </tr>\n",
       "    <tr>\n",
       "      <th>1</th>\n",
       "      <td>2</td>\n",
       "      <td>NDARAA112DMH</td>\n",
       "      <td>5.545744</td>\n",
       "      <td>0</td>\n",
       "      <td>NaN</td>\n",
       "      <td>NaN</td>\n",
       "      <td>NaN</td>\n",
       "      <td>3.0</td>\n",
       "      <td>6.0</td>\n",
       "      <td>7.0</td>\n",
       "      <td>...</td>\n",
       "      <td>NaN</td>\n",
       "      <td>NaN</td>\n",
       "      <td>NaN</td>\n",
       "      <td>NaN</td>\n",
       "      <td>NaN</td>\n",
       "      <td>NaN</td>\n",
       "      <td>NaN</td>\n",
       "      <td>NaN</td>\n",
       "      <td>1.0</td>\n",
       "      <td>2.0</td>\n",
       "    </tr>\n",
       "    <tr>\n",
       "      <th>2</th>\n",
       "      <td>3</td>\n",
       "      <td>NDARAA117NEJ</td>\n",
       "      <td>7.475929</td>\n",
       "      <td>0</td>\n",
       "      <td>NaN</td>\n",
       "      <td>113.0</td>\n",
       "      <td>95.0</td>\n",
       "      <td>2.0</td>\n",
       "      <td>1.0</td>\n",
       "      <td>2.0</td>\n",
       "      <td>...</td>\n",
       "      <td>NaN</td>\n",
       "      <td>NaN</td>\n",
       "      <td>NaN</td>\n",
       "      <td>NaN</td>\n",
       "      <td>NaN</td>\n",
       "      <td>NaN</td>\n",
       "      <td>NaN</td>\n",
       "      <td>NaN</td>\n",
       "      <td>1.0</td>\n",
       "      <td>2.0</td>\n",
       "    </tr>\n",
       "    <tr>\n",
       "      <th>3</th>\n",
       "      <td>4</td>\n",
       "      <td>NDARAA306NT2</td>\n",
       "      <td>21.216746</td>\n",
       "      <td>1</td>\n",
       "      <td>NaN</td>\n",
       "      <td>89.0</td>\n",
       "      <td>143.0</td>\n",
       "      <td>1.0</td>\n",
       "      <td>1.0</td>\n",
       "      <td>16.0</td>\n",
       "      <td>...</td>\n",
       "      <td>NaN</td>\n",
       "      <td>NaN</td>\n",
       "      <td>NaN</td>\n",
       "      <td>NaN</td>\n",
       "      <td>NaN</td>\n",
       "      <td>NaN</td>\n",
       "      <td>NaN</td>\n",
       "      <td>NaN</td>\n",
       "      <td>1.0</td>\n",
       "      <td>2.0</td>\n",
       "    </tr>\n",
       "    <tr>\n",
       "      <th>4</th>\n",
       "      <td>5</td>\n",
       "      <td>NDARAA504CRN</td>\n",
       "      <td>9.165297</td>\n",
       "      <td>1</td>\n",
       "      <td>NaN</td>\n",
       "      <td>82.0</td>\n",
       "      <td>88.0</td>\n",
       "      <td>0.0</td>\n",
       "      <td>2.0</td>\n",
       "      <td>1.0</td>\n",
       "      <td>...</td>\n",
       "      <td>NaN</td>\n",
       "      <td>NaN</td>\n",
       "      <td>NaN</td>\n",
       "      <td>NaN</td>\n",
       "      <td>NaN</td>\n",
       "      <td>NaN</td>\n",
       "      <td>NaN</td>\n",
       "      <td>NaN</td>\n",
       "      <td>1.0</td>\n",
       "      <td>2.0</td>\n",
       "    </tr>\n",
       "  </tbody>\n",
       "</table>\n",
       "<p>5 rows × 177 columns</p>\n",
       "</div>"
      ],
      "text/plain": [
       "   Unnamed: 0           IDs        Age  Sex  ACE_Score  APQ_P_Total  \\\n",
       "0           1  NDARAA075AMK   6.728040    1        NaN         91.0   \n",
       "1           2  NDARAA112DMH   5.545744    0        NaN          NaN   \n",
       "2           3  NDARAA117NEJ   7.475929    0        NaN        113.0   \n",
       "3           4  NDARAA306NT2  21.216746    1        NaN         89.0   \n",
       "4           5  NDARAA504CRN   9.165297    1        NaN         82.0   \n",
       "\n",
       "   APQ_SR_Total  ARI_P_Total_Score  ARI_S_Total_Score  ASSQ_Total  ...  \\\n",
       "0         123.0                1.0                5.0         3.0  ...   \n",
       "1           NaN                3.0                6.0         7.0  ...   \n",
       "2          95.0                2.0                1.0         2.0  ...   \n",
       "3         143.0                1.0                1.0        16.0  ...   \n",
       "4          88.0                0.0                2.0         1.0  ...   \n",
       "\n",
       "   DX_10_PRem  DX_10_Past_Doc  DX_10_Presum  DX_10_RC  DX_10_Rem  \\\n",
       "0         NaN             NaN           NaN       NaN        NaN   \n",
       "1         NaN             NaN           NaN       NaN        NaN   \n",
       "2         NaN             NaN           NaN       NaN        NaN   \n",
       "3         NaN             NaN           NaN       NaN        NaN   \n",
       "4         NaN             NaN           NaN       NaN        NaN   \n",
       "\n",
       "   DX_10_RuleOut  DX_10_Spec  DX_10_Sub  DX_10_Time  NoDX  \n",
       "0            NaN         NaN        NaN         1.0   1.0  \n",
       "1            NaN         NaN        NaN         1.0   2.0  \n",
       "2            NaN         NaN        NaN         1.0   2.0  \n",
       "3            NaN         NaN        NaN         1.0   2.0  \n",
       "4            NaN         NaN        NaN         1.0   2.0  \n",
       "\n",
       "[5 rows x 177 columns]"
      ]
     },
     "execution_count": 2,
     "metadata": {},
     "output_type": "execute_result"
    }
   ],
   "source": [
    "beh = pd.read_csv(\"data/behaviorals.csv\")\n",
    "beh.head()"
   ]
  },
  {
   "cell_type": "code",
   "execution_count": 3,
   "metadata": {
    "id": "NTgkWPZGcHMo"
   },
   "outputs": [],
   "source": [
    "foof = pd.read_csv(\"data/foof2features.csv\")\n",
    "foof.head()\n",
    "foof = foof.rename(columns={\"id\": \"IDs\"})\n"
   ]
  },
  {
   "cell_type": "code",
   "execution_count": 4,
   "metadata": {
    "scrolled": true
   },
   "outputs": [
    {
     "data": {
      "text/html": [
       "<div>\n",
       "<style scoped>\n",
       "    .dataframe tbody tr th:only-of-type {\n",
       "        vertical-align: middle;\n",
       "    }\n",
       "\n",
       "    .dataframe tbody tr th {\n",
       "        vertical-align: top;\n",
       "    }\n",
       "\n",
       "    .dataframe thead th {\n",
       "        text-align: right;\n",
       "    }\n",
       "</style>\n",
       "<table border=\"1\" class=\"dataframe\">\n",
       "  <thead>\n",
       "    <tr style=\"text-align: right;\">\n",
       "      <th></th>\n",
       "      <th>IDs</th>\n",
       "      <th>intercept</th>\n",
       "      <th>slope</th>\n",
       "    </tr>\n",
       "  </thead>\n",
       "  <tbody>\n",
       "    <tr>\n",
       "      <th>0</th>\n",
       "      <td>NDARAA075AMK</td>\n",
       "      <td>0.986272</td>\n",
       "      <td>1.825774</td>\n",
       "    </tr>\n",
       "    <tr>\n",
       "      <th>1</th>\n",
       "      <td>NDARAA112DMH</td>\n",
       "      <td>1.486650</td>\n",
       "      <td>1.888544</td>\n",
       "    </tr>\n",
       "    <tr>\n",
       "      <th>2</th>\n",
       "      <td>NDARAA117NEJ</td>\n",
       "      <td>1.593155</td>\n",
       "      <td>2.095749</td>\n",
       "    </tr>\n",
       "    <tr>\n",
       "      <th>3</th>\n",
       "      <td>NDARAA947ZG5</td>\n",
       "      <td>0.703331</td>\n",
       "      <td>1.724831</td>\n",
       "    </tr>\n",
       "    <tr>\n",
       "      <th>4</th>\n",
       "      <td>NDARAA948VFH</td>\n",
       "      <td>0.918020</td>\n",
       "      <td>1.749441</td>\n",
       "    </tr>\n",
       "    <tr>\n",
       "      <th>...</th>\n",
       "      <td>...</td>\n",
       "      <td>...</td>\n",
       "      <td>...</td>\n",
       "    </tr>\n",
       "    <tr>\n",
       "      <th>2037</th>\n",
       "      <td>NDARZN277NR6</td>\n",
       "      <td>1.351549</td>\n",
       "      <td>1.996940</td>\n",
       "    </tr>\n",
       "    <tr>\n",
       "      <th>2038</th>\n",
       "      <td>NDARZN578YDP</td>\n",
       "      <td>1.380795</td>\n",
       "      <td>2.036327</td>\n",
       "    </tr>\n",
       "    <tr>\n",
       "      <th>2039</th>\n",
       "      <td>NDARZN610GTY</td>\n",
       "      <td>0.339229</td>\n",
       "      <td>1.050644</td>\n",
       "    </tr>\n",
       "    <tr>\n",
       "      <th>2040</th>\n",
       "      <td>NDARZN677EYE</td>\n",
       "      <td>0.781225</td>\n",
       "      <td>1.470061</td>\n",
       "    </tr>\n",
       "    <tr>\n",
       "      <th>2041</th>\n",
       "      <td>NDARZN899JCM</td>\n",
       "      <td>0.464107</td>\n",
       "      <td>1.664433</td>\n",
       "    </tr>\n",
       "  </tbody>\n",
       "</table>\n",
       "<p>2042 rows × 3 columns</p>\n",
       "</div>"
      ],
      "text/plain": [
       "               IDs  intercept     slope\n",
       "0     NDARAA075AMK   0.986272  1.825774\n",
       "1     NDARAA112DMH   1.486650  1.888544\n",
       "2     NDARAA117NEJ   1.593155  2.095749\n",
       "3     NDARAA947ZG5   0.703331  1.724831\n",
       "4     NDARAA948VFH   0.918020  1.749441\n",
       "...            ...        ...       ...\n",
       "2037  NDARZN277NR6   1.351549  1.996940\n",
       "2038  NDARZN578YDP   1.380795  2.036327\n",
       "2039  NDARZN610GTY   0.339229  1.050644\n",
       "2040  NDARZN677EYE   0.781225  1.470061\n",
       "2041  NDARZN899JCM   0.464107  1.664433\n",
       "\n",
       "[2042 rows x 3 columns]"
      ]
     },
     "execution_count": 4,
     "metadata": {},
     "output_type": "execute_result"
    }
   ],
   "source": [
    "foof"
   ]
  },
  {
   "cell_type": "code",
   "execution_count": 5,
   "metadata": {
    "colab": {
     "base_uri": "https://localhost:8080/"
    },
    "id": "sqg12A9gItMi",
    "outputId": "d1bf4d3b-b036-42ea-8e96-246df6c056bd"
   },
   "outputs": [
    {
     "data": {
      "text/plain": [
       "Neurodevelopmental Disorders                                  1983\n",
       "Anxiety Disorders                                              340\n",
       "No Diagnosis Given                                             282\n",
       "No Diagnosis Given: Incomplete Eval                            137\n",
       "Depressive Disorders                                           129\n",
       "Disruptive, Impulse Control and Conduct Disorders               63\n",
       "Trauma and Stressor Related Disorders                           46\n",
       "Elimination Disorders                                           27\n",
       "Obsessive Compulsive and Related Disorders                      25\n",
       "Other Conditions That May Be a Focus of Clinical Attention      16\n",
       "Bipolar and Related Disorders                                    8\n",
       "Schizophrenia Spectrum and other Psychotic Disorders             4\n",
       "Neurocognitive Disorders                                         3\n",
       "Feeding and Eating Disorders                                     3\n",
       "Substance Related and Addictive Disorders                        2\n",
       "Gender Dysphoria                                                 1\n",
       "Name: DX_01_Cat, dtype: int64"
      ]
     },
     "execution_count": 5,
     "metadata": {},
     "output_type": "execute_result"
    }
   ],
   "source": [
    "# pandas count distinct values in column\n",
    "beh['DX_01'].value_counts()\n",
    "\n",
    "\n",
    "beh['DX_01_Cat'].value_counts()"
   ]
  },
  {
   "cell_type": "code",
   "execution_count": 6,
   "metadata": {
    "id": "D4AG9MqTcwfl"
   },
   "outputs": [],
   "source": [
    "#merge 2 tables together\n",
    "df = pd.merge( foof, beh, on='IDs', how='inner')\n"
   ]
  },
  {
   "cell_type": "code",
   "execution_count": 7,
   "metadata": {
    "colab": {
     "base_uri": "https://localhost:8080/",
     "height": 446
    },
    "id": "29HBsgQ-gIBM",
    "outputId": "8fdf3666-eed9-43c9-ed3c-852f00274895"
   },
   "outputs": [
    {
     "data": {
      "text/html": [
       "<div>\n",
       "<style scoped>\n",
       "    .dataframe tbody tr th:only-of-type {\n",
       "        vertical-align: middle;\n",
       "    }\n",
       "\n",
       "    .dataframe tbody tr th {\n",
       "        vertical-align: top;\n",
       "    }\n",
       "\n",
       "    .dataframe thead th {\n",
       "        text-align: right;\n",
       "    }\n",
       "</style>\n",
       "<table border=\"1\" class=\"dataframe\">\n",
       "  <thead>\n",
       "    <tr style=\"text-align: right;\">\n",
       "      <th></th>\n",
       "      <th>IDs</th>\n",
       "      <th>intercept</th>\n",
       "      <th>slope</th>\n",
       "      <th>Unnamed: 0</th>\n",
       "      <th>Age</th>\n",
       "      <th>Sex</th>\n",
       "      <th>ACE_Score</th>\n",
       "      <th>APQ_P_Total</th>\n",
       "      <th>APQ_SR_Total</th>\n",
       "      <th>ARI_P_Total_Score</th>\n",
       "      <th>...</th>\n",
       "      <th>DX_10_PRem</th>\n",
       "      <th>DX_10_Past_Doc</th>\n",
       "      <th>DX_10_Presum</th>\n",
       "      <th>DX_10_RC</th>\n",
       "      <th>DX_10_Rem</th>\n",
       "      <th>DX_10_RuleOut</th>\n",
       "      <th>DX_10_Spec</th>\n",
       "      <th>DX_10_Sub</th>\n",
       "      <th>DX_10_Time</th>\n",
       "      <th>NoDX</th>\n",
       "    </tr>\n",
       "  </thead>\n",
       "  <tbody>\n",
       "    <tr>\n",
       "      <th>0</th>\n",
       "      <td>NDARAA075AMK</td>\n",
       "      <td>0.986272</td>\n",
       "      <td>1.825774</td>\n",
       "      <td>1</td>\n",
       "      <td>6.728040</td>\n",
       "      <td>1</td>\n",
       "      <td>NaN</td>\n",
       "      <td>91.0</td>\n",
       "      <td>123.0</td>\n",
       "      <td>1.0</td>\n",
       "      <td>...</td>\n",
       "      <td>NaN</td>\n",
       "      <td>NaN</td>\n",
       "      <td>NaN</td>\n",
       "      <td>NaN</td>\n",
       "      <td>NaN</td>\n",
       "      <td>NaN</td>\n",
       "      <td>NaN</td>\n",
       "      <td>NaN</td>\n",
       "      <td>1.0</td>\n",
       "      <td>1.0</td>\n",
       "    </tr>\n",
       "    <tr>\n",
       "      <th>1</th>\n",
       "      <td>NDARAA112DMH</td>\n",
       "      <td>1.486650</td>\n",
       "      <td>1.888544</td>\n",
       "      <td>2</td>\n",
       "      <td>5.545744</td>\n",
       "      <td>0</td>\n",
       "      <td>NaN</td>\n",
       "      <td>NaN</td>\n",
       "      <td>NaN</td>\n",
       "      <td>3.0</td>\n",
       "      <td>...</td>\n",
       "      <td>NaN</td>\n",
       "      <td>NaN</td>\n",
       "      <td>NaN</td>\n",
       "      <td>NaN</td>\n",
       "      <td>NaN</td>\n",
       "      <td>NaN</td>\n",
       "      <td>NaN</td>\n",
       "      <td>NaN</td>\n",
       "      <td>1.0</td>\n",
       "      <td>2.0</td>\n",
       "    </tr>\n",
       "    <tr>\n",
       "      <th>2</th>\n",
       "      <td>NDARAA117NEJ</td>\n",
       "      <td>1.593155</td>\n",
       "      <td>2.095749</td>\n",
       "      <td>3</td>\n",
       "      <td>7.475929</td>\n",
       "      <td>0</td>\n",
       "      <td>NaN</td>\n",
       "      <td>113.0</td>\n",
       "      <td>95.0</td>\n",
       "      <td>2.0</td>\n",
       "      <td>...</td>\n",
       "      <td>NaN</td>\n",
       "      <td>NaN</td>\n",
       "      <td>NaN</td>\n",
       "      <td>NaN</td>\n",
       "      <td>NaN</td>\n",
       "      <td>NaN</td>\n",
       "      <td>NaN</td>\n",
       "      <td>NaN</td>\n",
       "      <td>1.0</td>\n",
       "      <td>2.0</td>\n",
       "    </tr>\n",
       "    <tr>\n",
       "      <th>3</th>\n",
       "      <td>NDARAA947ZG5</td>\n",
       "      <td>0.703331</td>\n",
       "      <td>1.724831</td>\n",
       "      <td>7</td>\n",
       "      <td>13.627880</td>\n",
       "      <td>0</td>\n",
       "      <td>NaN</td>\n",
       "      <td>85.0</td>\n",
       "      <td>88.0</td>\n",
       "      <td>8.0</td>\n",
       "      <td>...</td>\n",
       "      <td>NaN</td>\n",
       "      <td>NaN</td>\n",
       "      <td>NaN</td>\n",
       "      <td>NaN</td>\n",
       "      <td>NaN</td>\n",
       "      <td>NaN</td>\n",
       "      <td>NaN</td>\n",
       "      <td>NaN</td>\n",
       "      <td>1.0</td>\n",
       "      <td>2.0</td>\n",
       "    </tr>\n",
       "    <tr>\n",
       "      <th>4</th>\n",
       "      <td>NDARAA948VFH</td>\n",
       "      <td>0.918020</td>\n",
       "      <td>1.749441</td>\n",
       "      <td>8</td>\n",
       "      <td>7.982660</td>\n",
       "      <td>1</td>\n",
       "      <td>NaN</td>\n",
       "      <td>91.0</td>\n",
       "      <td>91.0</td>\n",
       "      <td>3.0</td>\n",
       "      <td>...</td>\n",
       "      <td>NaN</td>\n",
       "      <td>NaN</td>\n",
       "      <td>NaN</td>\n",
       "      <td>NaN</td>\n",
       "      <td>NaN</td>\n",
       "      <td>NaN</td>\n",
       "      <td>NaN</td>\n",
       "      <td>NaN</td>\n",
       "      <td>1.0</td>\n",
       "      <td>2.0</td>\n",
       "    </tr>\n",
       "  </tbody>\n",
       "</table>\n",
       "<p>5 rows × 179 columns</p>\n",
       "</div>"
      ],
      "text/plain": [
       "            IDs  intercept     slope  Unnamed: 0        Age  Sex  ACE_Score  \\\n",
       "0  NDARAA075AMK   0.986272  1.825774           1   6.728040    1        NaN   \n",
       "1  NDARAA112DMH   1.486650  1.888544           2   5.545744    0        NaN   \n",
       "2  NDARAA117NEJ   1.593155  2.095749           3   7.475929    0        NaN   \n",
       "3  NDARAA947ZG5   0.703331  1.724831           7  13.627880    0        NaN   \n",
       "4  NDARAA948VFH   0.918020  1.749441           8   7.982660    1        NaN   \n",
       "\n",
       "   APQ_P_Total  APQ_SR_Total  ARI_P_Total_Score  ...  DX_10_PRem  \\\n",
       "0         91.0         123.0                1.0  ...         NaN   \n",
       "1          NaN           NaN                3.0  ...         NaN   \n",
       "2        113.0          95.0                2.0  ...         NaN   \n",
       "3         85.0          88.0                8.0  ...         NaN   \n",
       "4         91.0          91.0                3.0  ...         NaN   \n",
       "\n",
       "   DX_10_Past_Doc  DX_10_Presum  DX_10_RC  DX_10_Rem  DX_10_RuleOut  \\\n",
       "0             NaN           NaN       NaN        NaN            NaN   \n",
       "1             NaN           NaN       NaN        NaN            NaN   \n",
       "2             NaN           NaN       NaN        NaN            NaN   \n",
       "3             NaN           NaN       NaN        NaN            NaN   \n",
       "4             NaN           NaN       NaN        NaN            NaN   \n",
       "\n",
       "   DX_10_Spec  DX_10_Sub  DX_10_Time  NoDX  \n",
       "0         NaN        NaN         1.0   1.0  \n",
       "1         NaN        NaN         1.0   2.0  \n",
       "2         NaN        NaN         1.0   2.0  \n",
       "3         NaN        NaN         1.0   2.0  \n",
       "4         NaN        NaN         1.0   2.0  \n",
       "\n",
       "[5 rows x 179 columns]"
      ]
     },
     "execution_count": 7,
     "metadata": {},
     "output_type": "execute_result"
    }
   ],
   "source": [
    "df.head()"
   ]
  },
  {
   "cell_type": "code",
   "execution_count": 8,
   "metadata": {
    "colab": {
     "base_uri": "https://localhost:8080/"
    },
    "id": "2yopH-JyfqXp",
    "outputId": "7cc160ac-a114-4359-c544-83375010db4e"
   },
   "outputs": [
    {
     "name": "stdout",
     "output_type": "stream",
     "text": [
      "['ADHD-Inattentive Type', 'ADHD-Combined Type', 'No Diagnosis Given', 'Autism Spectrum Disorder']\n"
     ]
    }
   ],
   "source": [
    "print(df['DX_01'].value_counts()[:4].index.tolist())\n"
   ]
  },
  {
   "cell_type": "code",
   "execution_count": 9,
   "metadata": {
    "colab": {
     "base_uri": "https://localhost:8080/"
    },
    "id": "nn48wpfJd_IN",
    "outputId": "75df5f00-5c0e-456c-e9eb-9fb84a35ba32"
   },
   "outputs": [
    {
     "name": "stdout",
     "output_type": "stream",
     "text": [
      "0                 No Diagnosis Given\n",
      "1                 ADHD-Combined Type\n",
      "2                 ADHD-Combined Type\n",
      "3                 ADHD-Combined Type\n",
      "4                 ADHD-Combined Type\n",
      "                    ...             \n",
      "1923              No Diagnosis Given\n",
      "1925    Generalized Anxiety Disorder\n",
      "1926              ADHD-Combined Type\n",
      "1928           ADHD-Inattentive Type\n",
      "1929           ADHD-Inattentive Type\n",
      "Name: DX_01, Length: 1404, dtype: object\n"
     ]
    }
   ],
   "source": [
    "categories = 7\n",
    "df2 = df.loc[df['DX_01'].isin(df['DX_01'].value_counts()[:categories].index.tolist())]\n",
    "print(df2['DX_01'])\n"
   ]
  },
  {
   "cell_type": "code",
   "execution_count": 10,
   "metadata": {
    "colab": {
     "base_uri": "https://localhost:8080/"
    },
    "id": "_sMHuHdEfvK3",
    "outputId": "a03d11b2-0049-46a7-f5de-8b58ebc0e547"
   },
   "outputs": [
    {
     "name": "stdout",
     "output_type": "stream",
     "text": [
      "ADHD-Inattentive Type                                    388\n",
      "ADHD-Combined Type                                       376\n",
      "No Diagnosis Given                                       203\n",
      "Autism Spectrum Disorder                                 141\n",
      "Specific Learning Disorder with Impairment in Reading    134\n",
      "Generalized Anxiety Disorder                             100\n",
      "Major Depressive Disorder                                 62\n",
      "Name: DX_01, dtype: int64\n"
     ]
    }
   ],
   "source": [
    "print(df2['DX_01'].value_counts())"
   ]
  },
  {
   "cell_type": "code",
   "execution_count": 11,
   "metadata": {
    "colab": {
     "base_uri": "https://localhost:8080/",
     "height": 446
    },
    "id": "5SYHlXZpf-je",
    "outputId": "c2500a47-4ed3-4626-b8e8-6480c8332f37"
   },
   "outputs": [
    {
     "data": {
      "text/html": [
       "<div>\n",
       "<style scoped>\n",
       "    .dataframe tbody tr th:only-of-type {\n",
       "        vertical-align: middle;\n",
       "    }\n",
       "\n",
       "    .dataframe tbody tr th {\n",
       "        vertical-align: top;\n",
       "    }\n",
       "\n",
       "    .dataframe thead th {\n",
       "        text-align: right;\n",
       "    }\n",
       "</style>\n",
       "<table border=\"1\" class=\"dataframe\">\n",
       "  <thead>\n",
       "    <tr style=\"text-align: right;\">\n",
       "      <th></th>\n",
       "      <th>IDs</th>\n",
       "      <th>intercept</th>\n",
       "      <th>slope</th>\n",
       "      <th>Unnamed: 0</th>\n",
       "      <th>Age</th>\n",
       "      <th>Sex</th>\n",
       "      <th>ACE_Score</th>\n",
       "      <th>APQ_P_Total</th>\n",
       "      <th>APQ_SR_Total</th>\n",
       "      <th>ARI_P_Total_Score</th>\n",
       "      <th>...</th>\n",
       "      <th>DX_10_PRem</th>\n",
       "      <th>DX_10_Past_Doc</th>\n",
       "      <th>DX_10_Presum</th>\n",
       "      <th>DX_10_RC</th>\n",
       "      <th>DX_10_Rem</th>\n",
       "      <th>DX_10_RuleOut</th>\n",
       "      <th>DX_10_Spec</th>\n",
       "      <th>DX_10_Sub</th>\n",
       "      <th>DX_10_Time</th>\n",
       "      <th>NoDX</th>\n",
       "    </tr>\n",
       "  </thead>\n",
       "  <tbody>\n",
       "    <tr>\n",
       "      <th>0</th>\n",
       "      <td>NDARAA075AMK</td>\n",
       "      <td>0.986272</td>\n",
       "      <td>1.825774</td>\n",
       "      <td>1</td>\n",
       "      <td>6.728040</td>\n",
       "      <td>1</td>\n",
       "      <td>NaN</td>\n",
       "      <td>91.0</td>\n",
       "      <td>123.0</td>\n",
       "      <td>1.0</td>\n",
       "      <td>...</td>\n",
       "      <td>NaN</td>\n",
       "      <td>NaN</td>\n",
       "      <td>NaN</td>\n",
       "      <td>NaN</td>\n",
       "      <td>NaN</td>\n",
       "      <td>NaN</td>\n",
       "      <td>NaN</td>\n",
       "      <td>NaN</td>\n",
       "      <td>1.0</td>\n",
       "      <td>1.0</td>\n",
       "    </tr>\n",
       "    <tr>\n",
       "      <th>1</th>\n",
       "      <td>NDARAA112DMH</td>\n",
       "      <td>1.486650</td>\n",
       "      <td>1.888544</td>\n",
       "      <td>2</td>\n",
       "      <td>5.545744</td>\n",
       "      <td>0</td>\n",
       "      <td>NaN</td>\n",
       "      <td>NaN</td>\n",
       "      <td>NaN</td>\n",
       "      <td>3.0</td>\n",
       "      <td>...</td>\n",
       "      <td>NaN</td>\n",
       "      <td>NaN</td>\n",
       "      <td>NaN</td>\n",
       "      <td>NaN</td>\n",
       "      <td>NaN</td>\n",
       "      <td>NaN</td>\n",
       "      <td>NaN</td>\n",
       "      <td>NaN</td>\n",
       "      <td>1.0</td>\n",
       "      <td>2.0</td>\n",
       "    </tr>\n",
       "    <tr>\n",
       "      <th>2</th>\n",
       "      <td>NDARAA117NEJ</td>\n",
       "      <td>1.593155</td>\n",
       "      <td>2.095749</td>\n",
       "      <td>3</td>\n",
       "      <td>7.475929</td>\n",
       "      <td>0</td>\n",
       "      <td>NaN</td>\n",
       "      <td>113.0</td>\n",
       "      <td>95.0</td>\n",
       "      <td>2.0</td>\n",
       "      <td>...</td>\n",
       "      <td>NaN</td>\n",
       "      <td>NaN</td>\n",
       "      <td>NaN</td>\n",
       "      <td>NaN</td>\n",
       "      <td>NaN</td>\n",
       "      <td>NaN</td>\n",
       "      <td>NaN</td>\n",
       "      <td>NaN</td>\n",
       "      <td>1.0</td>\n",
       "      <td>2.0</td>\n",
       "    </tr>\n",
       "    <tr>\n",
       "      <th>3</th>\n",
       "      <td>NDARAA947ZG5</td>\n",
       "      <td>0.703331</td>\n",
       "      <td>1.724831</td>\n",
       "      <td>7</td>\n",
       "      <td>13.627880</td>\n",
       "      <td>0</td>\n",
       "      <td>NaN</td>\n",
       "      <td>85.0</td>\n",
       "      <td>88.0</td>\n",
       "      <td>8.0</td>\n",
       "      <td>...</td>\n",
       "      <td>NaN</td>\n",
       "      <td>NaN</td>\n",
       "      <td>NaN</td>\n",
       "      <td>NaN</td>\n",
       "      <td>NaN</td>\n",
       "      <td>NaN</td>\n",
       "      <td>NaN</td>\n",
       "      <td>NaN</td>\n",
       "      <td>1.0</td>\n",
       "      <td>2.0</td>\n",
       "    </tr>\n",
       "    <tr>\n",
       "      <th>4</th>\n",
       "      <td>NDARAA948VFH</td>\n",
       "      <td>0.918020</td>\n",
       "      <td>1.749441</td>\n",
       "      <td>8</td>\n",
       "      <td>7.982660</td>\n",
       "      <td>1</td>\n",
       "      <td>NaN</td>\n",
       "      <td>91.0</td>\n",
       "      <td>91.0</td>\n",
       "      <td>3.0</td>\n",
       "      <td>...</td>\n",
       "      <td>NaN</td>\n",
       "      <td>NaN</td>\n",
       "      <td>NaN</td>\n",
       "      <td>NaN</td>\n",
       "      <td>NaN</td>\n",
       "      <td>NaN</td>\n",
       "      <td>NaN</td>\n",
       "      <td>NaN</td>\n",
       "      <td>1.0</td>\n",
       "      <td>2.0</td>\n",
       "    </tr>\n",
       "  </tbody>\n",
       "</table>\n",
       "<p>5 rows × 179 columns</p>\n",
       "</div>"
      ],
      "text/plain": [
       "            IDs  intercept     slope  Unnamed: 0        Age  Sex  ACE_Score  \\\n",
       "0  NDARAA075AMK   0.986272  1.825774           1   6.728040    1        NaN   \n",
       "1  NDARAA112DMH   1.486650  1.888544           2   5.545744    0        NaN   \n",
       "2  NDARAA117NEJ   1.593155  2.095749           3   7.475929    0        NaN   \n",
       "3  NDARAA947ZG5   0.703331  1.724831           7  13.627880    0        NaN   \n",
       "4  NDARAA948VFH   0.918020  1.749441           8   7.982660    1        NaN   \n",
       "\n",
       "   APQ_P_Total  APQ_SR_Total  ARI_P_Total_Score  ...  DX_10_PRem  \\\n",
       "0         91.0         123.0                1.0  ...         NaN   \n",
       "1          NaN           NaN                3.0  ...         NaN   \n",
       "2        113.0          95.0                2.0  ...         NaN   \n",
       "3         85.0          88.0                8.0  ...         NaN   \n",
       "4         91.0          91.0                3.0  ...         NaN   \n",
       "\n",
       "   DX_10_Past_Doc  DX_10_Presum  DX_10_RC  DX_10_Rem  DX_10_RuleOut  \\\n",
       "0             NaN           NaN       NaN        NaN            NaN   \n",
       "1             NaN           NaN       NaN        NaN            NaN   \n",
       "2             NaN           NaN       NaN        NaN            NaN   \n",
       "3             NaN           NaN       NaN        NaN            NaN   \n",
       "4             NaN           NaN       NaN        NaN            NaN   \n",
       "\n",
       "   DX_10_Spec  DX_10_Sub  DX_10_Time  NoDX  \n",
       "0         NaN        NaN         1.0   1.0  \n",
       "1         NaN        NaN         1.0   2.0  \n",
       "2         NaN        NaN         1.0   2.0  \n",
       "3         NaN        NaN         1.0   2.0  \n",
       "4         NaN        NaN         1.0   2.0  \n",
       "\n",
       "[5 rows x 179 columns]"
      ]
     },
     "execution_count": 11,
     "metadata": {},
     "output_type": "execute_result"
    }
   ],
   "source": [
    "df2.head()"
   ]
  },
  {
   "cell_type": "code",
   "execution_count": 12,
   "metadata": {
    "id": "YvJDQpungS0Q"
   },
   "outputs": [],
   "source": [
    "#lets run classification with the 2 features only :  intercept and slope\n",
    "\n",
    "### here the features and labels:\n",
    "X = df2[['intercept', 'slope']].to_numpy()\n",
    "y = df2['DX_01'].to_numpy()"
   ]
  },
  {
   "cell_type": "code",
   "execution_count": 13,
   "metadata": {},
   "outputs": [
    {
     "data": {
      "text/plain": [
       "(1404, 2)"
      ]
     },
     "execution_count": 13,
     "metadata": {},
     "output_type": "execute_result"
    }
   ],
   "source": [
    "X.shape"
   ]
  },
  {
   "cell_type": "markdown",
   "metadata": {
    "id": "ff-BjGhvjhx9"
   },
   "source": [
    "## CLASSIFIERS:"
   ]
  },
  {
   "cell_type": "code",
   "execution_count": 14,
   "metadata": {
    "colab": {
     "base_uri": "https://localhost:8080/"
    },
    "id": "ZUSoAimThGDp",
    "outputId": "c76e8636-aeba-41bd-f1e3-198d61dc745c"
   },
   "outputs": [
    {
     "name": "stdout",
     "output_type": "stream",
     "text": [
      "[0.08896797 0.27758007 0.14590747 0.27402135 0.14285714]\n"
     ]
    }
   ],
   "source": [
    "#stochastic gradient descent\n",
    "clf = SGDClassifier(loss=\"hinge\", penalty=\"l2\", max_iter=10000)\n",
    "#print(X.shape)\n",
    "clf.fit(X, y)\n",
    "#print(y[0:5])\n",
    "scores = cross_val_score(clf, X, y, cv=5)\n",
    "print(scores)"
   ]
  },
  {
   "cell_type": "code",
   "execution_count": 15,
   "metadata": {
    "colab": {
     "base_uri": "https://localhost:8080/"
    },
    "id": "tmczAOYvinRo",
    "outputId": "d41b3fa7-ee6b-4aed-a7ee-07cf4b29ab51"
   },
   "outputs": [
    {
     "name": "stdout",
     "output_type": "stream",
     "text": [
      "[0.30960854 0.35231317 0.3024911  0.33807829 0.27857143]\n"
     ]
    }
   ],
   "source": [
    "#SVC\n",
    "clf = make_pipeline(StandardScaler(), SVC(gamma='auto'))\n",
    "clf.fit(X, y)\n",
    "\n",
    "scores = cross_val_score(clf, X, y, cv=5)\n",
    "print(scores)"
   ]
  },
  {
   "cell_type": "code",
   "execution_count": 16,
   "metadata": {
    "colab": {
     "base_uri": "https://localhost:8080/"
    },
    "id": "z96JF2VpoHIz",
    "outputId": "af378980-998a-48e8-d3b7-f0d36694494d"
   },
   "outputs": [
    {
     "data": {
      "text/plain": [
       "array([0.22695035, 0.22695035, 0.24822695, 0.14184397, 0.16428571,\n",
       "       0.15714286, 0.2       , 0.13571429, 0.13571429, 0.17142857])"
      ]
     },
     "execution_count": 16,
     "metadata": {},
     "output_type": "execute_result"
    }
   ],
   "source": [
    "# decision tree\n",
    "from sklearn.model_selection import cross_val_score\n",
    "from sklearn.tree import DecisionTreeClassifier\n",
    "clf = DecisionTreeClassifier(random_state=0)\n",
    "cross_val_score(clf, X, y, cv=10)\n",
    "                            \n"
   ]
  },
  {
   "cell_type": "markdown",
   "metadata": {
    "id": "FpWWlTpLkWF7"
   },
   "source": [
    "## Dealing with inbalanced dataset:"
   ]
  },
  {
   "cell_type": "code",
   "execution_count": 17,
   "metadata": {
    "id": "Nm4GRa0cjBUk"
   },
   "outputs": [],
   "source": [
    "#pip install imbalanced-learn"
   ]
  },
  {
   "cell_type": "code",
   "execution_count": 18,
   "metadata": {
    "colab": {
     "base_uri": "https://localhost:8080/"
    },
    "id": "SqOY7lRNkcbf",
    "outputId": "1c29d7ee-acf8-4b04-e5dd-4dbc7d46b4c4"
   },
   "outputs": [
    {
     "name": "stdout",
     "output_type": "stream",
     "text": [
      "0.8.0\n"
     ]
    }
   ],
   "source": [
    "# check version number\n",
    "import imblearn\n",
    "print(imblearn.__version__)"
   ]
  },
  {
   "cell_type": "code",
   "execution_count": 19,
   "metadata": {
    "colab": {
     "base_uri": "https://localhost:8080/",
     "height": 282
    },
    "id": "b_zR6SvLlOIl",
    "outputId": "f833ad07-49ce-40a7-cc8f-5a59e9c85730"
   },
   "outputs": [
    {
     "name": "stdout",
     "output_type": "stream",
     "text": [
      "Counter({'ADHD-Inattentive Type': 388, 'ADHD-Combined Type': 376, 'No Diagnosis Given': 203, 'Autism Spectrum Disorder': 141, 'Specific Learning Disorder with Impairment in Reading': 134, 'Generalized Anxiety Disorder': 100, 'Major Depressive Disorder': 62})\n"
     ]
    },
    {
     "data": {
      "image/png": "[encoded data removed]",
      "text/plain": [
       "<Figure size 432x288 with 1 Axes>"
      ]
     },
     "metadata": {
      "needs_background": "light"
     },
     "output_type": "display_data"
    }
   ],
   "source": [
    "# Generate and plot a synthetic imbalanced classification dataset\n",
    "from collections import Counter\n",
    "from sklearn.datasets import make_classification\n",
    "from matplotlib import pyplot\n",
    "from numpy import where\n",
    "from imblearn.over_sampling import SMOTE\n",
    "\n",
    "# summarize class distribution\n",
    "counter = Counter(y)\n",
    "print(counter)\n",
    "# scatter plot of examples by class label\n",
    "for label, _ in counter.items():\n",
    "\trow_ix = where(y == label)[0]\n",
    "\tpyplot.scatter(X[row_ix, 0], X[row_ix, 1], label=str(label))\n",
    "pyplot.legend()\n",
    "pyplot.show()"
   ]
  },
  {
   "cell_type": "markdown",
   "metadata": {
    "id": "hr_CdPPklf8N"
   },
   "source": [
    "### Next, we oversample the minority class using SMOTE and plot the transformed dataset:\n"
   ]
  },
  {
   "cell_type": "markdown",
   "metadata": {
    "id": "TZN8QbUPnDYk"
   },
   "source": [
    "## SMOTE for Classification\n",
    "\n"
   ]
  },
  {
   "cell_type": "code",
   "execution_count": 20,
   "metadata": {
    "colab": {
     "base_uri": "https://localhost:8080/",
     "height": 265
    },
    "id": "4UNBJKrGpimG",
    "outputId": "54de38ae-61b0-4171-e6a2-8ebecfa512fa"
   },
   "outputs": [
    {
     "data": {
      "image/png": "[encoded data removed]",
      "text/plain": [
       "<Figure size 432x288 with 1 Axes>"
      ]
     },
     "metadata": {
      "needs_background": "light"
     },
     "output_type": "display_data"
    }
   ],
   "source": [
    "# load and summarize the dataset\n",
    "from collections import Counter\n",
    "from matplotlib import pyplot\n",
    "from sklearn.preprocessing import LabelEncoder\n",
    "\n",
    "# summarize distribution\n",
    "counter = Counter(y)\n",
    "for k,v in counter.items():\n",
    "\tper = v / len(y) * 100\n",
    "# plot the distribution\n",
    "pyplot.bar(counter.keys(), counter.values())\n",
    "pyplot.show()"
   ]
  },
  {
   "cell_type": "code",
   "execution_count": 21,
   "metadata": {
    "colab": {
     "base_uri": "https://localhost:8080/"
    },
    "id": "JKAvx35jl6FV",
    "outputId": "4afaf79c-bae3-4f2c-d6ae-06bf9bacdf2c"
   },
   "outputs": [
    {
     "name": "stdout",
     "output_type": "stream",
     "text": [
      "Counter({'No Diagnosis Given': 388, 'ADHD-Combined Type': 388, 'ADHD-Inattentive Type': 388, 'Autism Spectrum Disorder': 388, 'Major Depressive Disorder': 388, 'Specific Learning Disorder with Impairment in Reading': 388, 'Generalized Anxiety Disorder': 388})\n"
     ]
    }
   ],
   "source": [
    "# transform the dataset\n",
    "oversample = SMOTE()\n",
    "X, y = oversample.fit_resample(X, y)\n",
    "# summarize the new class distribution\n",
    "counter = Counter(y)\n",
    "print(counter)\n"
   ]
  },
  {
   "cell_type": "code",
   "execution_count": 22,
   "metadata": {
    "colab": {
     "base_uri": "https://localhost:8080/",
     "height": 265
    },
    "id": "8E6hLNhpp7Op",
    "outputId": "2a8aa906-dcd2-479c-9011-8253025eca42"
   },
   "outputs": [
    {
     "data": {
      "image/png": "[encoded data removed]",
      "text/plain": [
       "<Figure size 432x288 with 1 Axes>"
      ]
     },
     "metadata": {
      "needs_background": "light"
     },
     "output_type": "display_data"
    }
   ],
   "source": [
    "#summarize the oversampled distribution\n",
    "counter = Counter(y)\n",
    "for k,v in counter.items():\n",
    "\tper = v / len(y) * 100\n",
    "# plot the distribution\n",
    "pyplot.bar(counter.keys(), counter.values())\n",
    "pyplot.show()"
   ]
  },
  {
   "cell_type": "markdown",
   "metadata": {
    "id": "2fSw7zy4qaPQ"
   },
   "source": [
    "# Cost-Sensitive Learning for Multi-Class Classification\n",
    "\n"
   ]
  },
  {
   "cell_type": "code",
   "execution_count": 23,
   "metadata": {
    "colab": {
     "base_uri": "https://localhost:8080/"
    },
    "id": "fA1R7k1cqfrr",
    "outputId": "1f801117-358e-4214-e87d-70582f472414"
   },
   "outputs": [
    {
     "name": "stdout",
     "output_type": "stream",
     "text": [
      "Mean Accuracy: 0.407 (0.018)\n"
     ]
    }
   ],
   "source": [
    "# cost sensitive random forest with default class weights\n",
    "from numpy import mean\n",
    "from numpy import std\n",
    "from pandas import read_csv\n",
    "from sklearn.preprocessing import LabelEncoder\n",
    "from sklearn.model_selection import cross_val_score\n",
    "from sklearn.model_selection import RepeatedStratifiedKFold\n",
    "from sklearn.ensemble import RandomForestClassifier\n",
    "\n",
    "\n",
    "# evaluate a model\n",
    "def evaluate_model(X, y, model):\n",
    "\t# define evaluation procedure\n",
    "\tcv = RepeatedStratifiedKFold(n_splits=5, n_repeats=3, random_state=1)\n",
    "\t# evaluate model\n",
    "\tscores = cross_val_score(model, X, y, scoring='accuracy', cv=cv, n_jobs=-1)\n",
    "\treturn scores\n",
    "\n",
    "# define the model\n",
    "model = RandomForestClassifier(n_estimators=1000, class_weight='balanced')\n",
    "# evaluate the model\n",
    "scores = evaluate_model(X, y, model)\n",
    "# summarize performance\n",
    "print('Mean Accuracy: %.3f (%.3f)' % (mean(scores), std(scores)))"
   ]
  }
 ],
 "metadata": {
  "colab": {
   "name": "foof_interceptslope.ipynb",
   "provenance": []
  },
  "kernelspec": {
   "display_name": "Python 3",
   "language": "python",
   "name": "python3"
  },
  "language_info": {
   "codemirror_mode": {
    "name": "ipython",
    "version": 3
   },
   "file_extension": ".py",
   "mimetype": "text/x-python",
   "name": "python",
   "nbconvert_exporter": "python",
   "pygments_lexer": "ipython3",
   "version": "3.8.5"
  }
 },
 "nbformat": 4,
 "nbformat_minor": 1
}
