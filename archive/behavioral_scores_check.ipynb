{
 "cells": [
  {
   "cell_type": "code",
   "execution_count": 1,
   "metadata": {},
   "outputs": [],
   "source": [
    "import scipy.io\n",
    "import mat73\n",
    "import pandas as pd\n",
    "import numpy as np\n",
    "from warnings import simplefilter,filterwarnings\n",
    "\n",
    "import os\n",
    "# ignore all future warnings1\n",
    "simplefilter(action='ignore', category=FutureWarning)"
   ]
  },
  {
   "cell_type": "code",
   "execution_count": 2,
   "metadata": {},
   "outputs": [
    {
     "data": {
      "text/plain": [
       "Index(['Unnamed: 0', 'IDs', 'Age', 'Sex', 'ARI_P_Total_Score',\n",
       "       'ARI_S_Total_Score', 'CELF_CriterionScore', 'CELF_ExceedCutoff',\n",
       "       'CELF_Total', 'MFQ_P_Total', 'MFQ_SR_Total', 'BMI.1', 'HeartRate',\n",
       "       'Height', 'Weight', 'SCARED_P_Total', 'SCARED_SR_Total', 'SRS_AWR',\n",
       "       'SRS_COG', 'SRS_COM', 'SRS_DSMRRB', 'SRS_MOT', 'SRS_RRB', 'SRS_SCI',\n",
       "       'SRS_Total', 'SWAN_HY', 'SWAN_IN', 'SWAN_Total', 'WISC_FSIQ',\n",
       "       'WISC_WMI', 'DX_01', 'DX_01_ByHx', 'DX_01_Cat', 'DX_01_Code',\n",
       "       'DX_01_Confirmed', 'DX_01_New', 'DX_01_PRem', 'DX_01_Past_Doc',\n",
       "       'DX_01_Presum', 'DX_01_RC', 'DX_01_Rem', 'DX_01_RuleOut', 'DX_01_Spec',\n",
       "       'DX_01_Sub', 'DX_01_Time', 'DX_02', 'DX_02_ByHx', 'DX_02_Cat',\n",
       "       'DX_02_Code', 'DX_02_Confirmed', 'DX_02_New', 'DX_02_PRem',\n",
       "       'DX_02_Past_Doc', 'DX_02_Presum', 'DX_02_RC', 'DX_02_Rem',\n",
       "       'DX_02_RuleOut', 'DX_02_Spec', 'DX_02_Sub', 'DX_02_Time', 'DX_03',\n",
       "       'DX_03_ByHx', 'DX_03_Cat', 'DX_03_Code', 'DX_03_Confirmed', 'DX_03_New',\n",
       "       'DX_03_PRem', 'DX_03_Past_Doc', 'DX_03_Presum', 'DX_03_RC', 'DX_03_Rem',\n",
       "       'DX_03_RuleOut', 'DX_03_Spec', 'DX_03_Sub', 'DX_03_Time', 'DX_04',\n",
       "       'DX_04_ByHx', 'DX_04_Cat', 'DX_04_Code', 'DX_04_Confirmed', 'DX_04_New',\n",
       "       'DX_04_PRem', 'DX_04_Past_Doc', 'DX_04_Presum', 'DX_04_RC', 'DX_04_Rem',\n",
       "       'DX_04_RuleOut', 'DX_04_Spec', 'DX_04_Sub', 'DX_04_Time', 'DX_05',\n",
       "       'DX_05_ByHx', 'DX_05_Cat', 'DX_05_Code', 'DX_05_Confirmed', 'DX_05_New',\n",
       "       'DX_05_PRem', 'DX_05_Past_Doc', 'DX_05_Presum', 'DX_05_RC'],\n",
       "      dtype='object')"
      ]
     },
     "execution_count": 2,
     "metadata": {},
     "output_type": "execute_result"
    }
   ],
   "source": [
    "behaviour_data = pd.read_csv('Martyna.csv')\n",
    "behaviour_data.columns[:100]"
   ]
  },
  {
   "cell_type": "code",
   "execution_count": 3,
   "metadata": {},
   "outputs": [
    {
     "data": {
      "text/plain": [
       "(3076, 14)"
      ]
     },
     "execution_count": 3,
     "metadata": {},
     "output_type": "execute_result"
    }
   ],
   "source": [
    "behaviour_data = behaviour_data[['IDs', 'MFQ_P_Total','MFQ_SR_Total', 'SCARED_P_Total', 'SCARED_SR_Total' , 'SWAN_HY', \"SWAN_IN\", 'SRS_Total','SWAN_Total','ARI_S_Total_Score', 'WISC_FSIQ' ,'CELF_CriterionScore','CELF_ExceedCutoff',\n",
    "       'CELF_Total',]]\n",
    "behaviour_data.shape"
   ]
  },
  {
   "cell_type": "code",
   "execution_count": 4,
   "metadata": {},
   "outputs": [
    {
     "name": "stdout",
     "output_type": "stream",
     "text": [
      "Your selected dataframe has 14 columns (with column 'IDs').\n",
      "There are 13 columns that have missing values.\n"
     ]
    },
    {
     "data": {
      "text/html": [
       "<div>\n",
       "<style scoped>\n",
       "    .dataframe tbody tr th:only-of-type {\n",
       "        vertical-align: middle;\n",
       "    }\n",
       "\n",
       "    .dataframe tbody tr th {\n",
       "        vertical-align: top;\n",
       "    }\n",
       "\n",
       "    .dataframe thead th {\n",
       "        text-align: right;\n",
       "    }\n",
       "</style>\n",
       "<table border=\"1\" class=\"dataframe\">\n",
       "  <thead>\n",
       "    <tr style=\"text-align: right;\">\n",
       "      <th></th>\n",
       "      <th>Missing Values</th>\n",
       "      <th>% of Total Values</th>\n",
       "    </tr>\n",
       "  </thead>\n",
       "  <tbody>\n",
       "    <tr>\n",
       "      <th>MFQ_SR_Total</th>\n",
       "      <td>1020</td>\n",
       "      <td>33.2</td>\n",
       "    </tr>\n",
       "    <tr>\n",
       "      <th>SCARED_SR_Total</th>\n",
       "      <td>947</td>\n",
       "      <td>30.8</td>\n",
       "    </tr>\n",
       "    <tr>\n",
       "      <th>WISC_FSIQ</th>\n",
       "      <td>588</td>\n",
       "      <td>19.1</td>\n",
       "    </tr>\n",
       "    <tr>\n",
       "      <th>MFQ_P_Total</th>\n",
       "      <td>466</td>\n",
       "      <td>15.1</td>\n",
       "    </tr>\n",
       "    <tr>\n",
       "      <th>SCARED_P_Total</th>\n",
       "      <td>328</td>\n",
       "      <td>10.7</td>\n",
       "    </tr>\n",
       "    <tr>\n",
       "      <th>SRS_Total</th>\n",
       "      <td>218</td>\n",
       "      <td>7.1</td>\n",
       "    </tr>\n",
       "    <tr>\n",
       "      <th>SWAN_HY</th>\n",
       "      <td>163</td>\n",
       "      <td>5.3</td>\n",
       "    </tr>\n",
       "    <tr>\n",
       "      <th>SWAN_IN</th>\n",
       "      <td>163</td>\n",
       "      <td>5.3</td>\n",
       "    </tr>\n",
       "    <tr>\n",
       "      <th>SWAN_Total</th>\n",
       "      <td>163</td>\n",
       "      <td>5.3</td>\n",
       "    </tr>\n",
       "    <tr>\n",
       "      <th>CELF_Total</th>\n",
       "      <td>153</td>\n",
       "      <td>5.0</td>\n",
       "    </tr>\n",
       "    <tr>\n",
       "      <th>CELF_CriterionScore</th>\n",
       "      <td>151</td>\n",
       "      <td>4.9</td>\n",
       "    </tr>\n",
       "    <tr>\n",
       "      <th>CELF_ExceedCutoff</th>\n",
       "      <td>151</td>\n",
       "      <td>4.9</td>\n",
       "    </tr>\n",
       "    <tr>\n",
       "      <th>ARI_S_Total_Score</th>\n",
       "      <td>125</td>\n",
       "      <td>4.1</td>\n",
       "    </tr>\n",
       "  </tbody>\n",
       "</table>\n",
       "</div>"
      ],
      "text/plain": [
       "                     Missing Values  % of Total Values\n",
       "MFQ_SR_Total                   1020               33.2\n",
       "SCARED_SR_Total                 947               30.8\n",
       "WISC_FSIQ                       588               19.1\n",
       "MFQ_P_Total                     466               15.1\n",
       "SCARED_P_Total                  328               10.7\n",
       "SRS_Total                       218                7.1\n",
       "SWAN_HY                         163                5.3\n",
       "SWAN_IN                         163                5.3\n",
       "SWAN_Total                      163                5.3\n",
       "CELF_Total                      153                5.0\n",
       "CELF_CriterionScore             151                4.9\n",
       "CELF_ExceedCutoff               151                4.9\n",
       "ARI_S_Total_Score               125                4.1"
      ]
     },
     "execution_count": 4,
     "metadata": {},
     "output_type": "execute_result"
    }
   ],
   "source": [
    "def missing_values_table(df):\n",
    "    mis_val = df.isnull().sum()\n",
    "    mis_val_percent = 100 * df.isnull().sum() / len(df)\n",
    "    mis_val_table = pd.concat([mis_val, mis_val_percent], axis=1)\n",
    "    mis_val_table_ren_columns = mis_val_table.rename(\n",
    "    columns = {0 : 'Missing Values', 1 : '% of Total Values'})\n",
    "    mis_val_table_ren_columns = mis_val_table_ren_columns[\n",
    "        mis_val_table_ren_columns.iloc[:,1] != 0].sort_values(\n",
    "    '% of Total Values', ascending=False).round(1)\n",
    "    print (\"Your selected dataframe has \" + str(df.shape[1]) + \" columns (with column 'IDs').\\n\"      \n",
    "        \"There are \" + str(mis_val_table_ren_columns.shape[0]) +\n",
    "            \" columns that have missing values.\")\n",
    "    return mis_val_table_ren_columns\n",
    "\n",
    "missing_values_table(behaviour_data)"
   ]
  }
 ],
 "metadata": {
  "interpreter": {
   "hash": "a9205b650ad9b26ded1fb73bba57cf404cfc03cd0c8186ebe669ad7e6a2a6143"
  },
  "kernelspec": {
   "display_name": "Python 3.8.5 64-bit ('ai4halth': conda)",
   "name": "python3"
  },
  "language_info": {
   "codemirror_mode": {
    "name": "ipython",
    "version": 3
   },
   "file_extension": ".py",
   "mimetype": "text/x-python",
   "name": "python",
   "nbconvert_exporter": "python",
   "pygments_lexer": "ipython3",
   "version": "3.8.5"
  },
  "orig_nbformat": 4
 },
 "nbformat": 4,
 "nbformat_minor": 2
}
