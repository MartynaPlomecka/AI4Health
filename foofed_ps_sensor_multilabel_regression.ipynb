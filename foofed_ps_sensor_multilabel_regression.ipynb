{
  "cells": [
    {
      "cell_type": "code",
      "execution_count": 113,
      "metadata": {
        "colab": {},
        "colab_type": "code",
        "id": "7YxOz-zNNlyy"
      },
      "outputs": [],
      "source": [
        "import pandas as pd\n",
        "import numpy as np\n",
        "import scipy.io\n",
        "import mat73\n",
        "import matplotlib.pyplot as plt\n",
        "from sklearn.model_selection import train_test_split\n",
        "from imblearn.over_sampling import SMOTE\n",
        "import tensorflow as tf\n",
        "from tensorflow.keras.models import Model, load_model\n",
        "from tensorflow.keras.layers import Input, Dense, LeakyReLU, BatchNormalization\n",
        "from tensorflow.keras.utils import plot_model, to_categorical\n",
        "from sklearn.ensemble import RandomForestClassifier as rf\n",
        "from sklearn.svm import SVC as svm\n",
        "from sklearn.linear_model import LogisticRegression as lg\n",
        "from sklearn.model_selection import train_test_split\n",
        "from sklearn.metrics import confusion_matrix,accuracy_score,balanced_accuracy_score,f1_score\n",
        "from sklearn.decomposition import PCA\n",
        "from sklearn.model_selection import StratifiedKFold\n",
        "from sklearn.exceptions import ConvergenceWarning\n",
        "from warnings import simplefilter,filterwarnings\n",
        "import os\n",
        "# ignore all future warnings1\n",
        "simplefilter(action='ignore', category=FutureWarning)\n"
      ]
    },
    {
      "cell_type": "markdown",
      "metadata": {},
      "source": [
        "## EEG data:"
      ]
    },
    {
      "cell_type": "code",
      "execution_count": 114,
      "metadata": {},
      "outputs": [
        {
          "data": {
            "text/plain": [
              "(2041, 26589)"
            ]
          },
          "execution_count": 114,
          "metadata": {},
          "output_type": "execute_result"
        }
      ],
      "source": [
        " ## data loading\n",
        "data = mat73.loadmat('x_source.mat')  \n",
        "id = scipy.io.loadmat('id.mat')\n",
        "IDs = pd.DataFrame(id[\"id\"])\n",
        "#flattening and adding id\n",
        "df2 = pd.DataFrame(data['x'].reshape((data['x'].shape[0], -1)))\n",
        "df2['IDs'] = IDs\n",
        "df2.shape"
      ]
    },
    {
      "cell_type": "code",
      "execution_count": 115,
      "metadata": {},
      "outputs": [
        {
          "data": {
            "text/plain": [
              "(2041, 26589)"
            ]
          },
          "execution_count": 115,
          "metadata": {},
          "output_type": "execute_result"
        }
      ],
      "source": [
        "df2['IDs']#array of arrays\n",
        "df2['IDs'][0][0] #this is what i want for 1 guy\n",
        "df2['IDs'] = [df2['IDs'][i][0] for i in range(2041)]\n",
        "df2.shape\n"
      ]
    },
    {
      "cell_type": "markdown",
      "metadata": {
        "colab_type": "text",
        "id": "-YjKzrOY5dKO"
      },
      "source": [
        "## Behavioral Data:\n"
      ]
    },
    {
      "cell_type": "code",
      "execution_count": 116,
      "metadata": {
        "colab": {
          "base_uri": "https://localhost:8080/",
          "height": 51
        },
        "colab_type": "code",
        "id": "bFK75cJgWc2G",
        "outputId": "c35c8bfc-2242-43be-aada-379d1ccb4c7e"
      },
      "outputs": [],
      "source": [
        "behaviour_data = pd.read_csv('scores.csv')"
      ]
    },
    {
      "cell_type": "markdown",
      "metadata": {},
      "source": [
        "### We need columns with:\n",
        "1. IDs\n",
        "\n",
        " \n",
        "2. for Anxiety:  \"SCARED_SR\" \"SCARED_P\". \n",
        "    \n",
        "\n",
        "\n",
        "2. for ADHD inattention: Strengths and Weaknesses of ADHD Symptoms and Normal Behavior Scale (\"SWAN IN\")\n",
        "\n",
        "\n",
        "3. for ADHD combined: Strengths and Weaknesses of ADHD Symptoms and Normal Behavior Scale (\"SWAN HY\")\n",
        "\n",
        "\n",
        "4. for Autism Social Responsiveness Scale-2 (\"SRS_Pre\" (preschool) or \"SRS\") \n",
        "\n",
        "\n",
        "5. for Depression: Children's Depression Index (average score of: \"CDI_SR\" \"CDI_P\") (alternative 1: Mood & Feelings Questionnaire (MFQ); Alternative 2: Affective Reactivity Index—(ARI-S) Self Report)\n",
        "\n",
        "\n",
        "6. WISC-Full IQ \"WISC_FSIQ\"\n"
      ]
    },
    {
      "cell_type": "code",
      "execution_count": 117,
      "metadata": {},
      "outputs": [
        {
          "data": {
            "text/plain": [
              "(3076, 8)"
            ]
          },
          "execution_count": 117,
          "metadata": {},
          "output_type": "execute_result"
        }
      ],
      "source": [
        "behaviour_data = behaviour_data[['IDs', 'MFQ_P_Total', 'SCARED_P_Total', 'SWAN_HY', \"SWAN_IN\", 'SRS_Total','ARI_S_Total_Score', 'WISC_FSIQ' ]]\n",
        "behaviour_data.shape"
      ]
    },
    {
      "cell_type": "code",
      "execution_count": 118,
      "metadata": {},
      "outputs": [
        {
          "name": "stdout",
          "output_type": "stream",
          "text": [
            "Your selected dataframe has 8 columns (with column 'IDs').\n",
            "There are 7 columns that have missing values.\n"
          ]
        },
        {
          "data": {
            "text/html": [
              "<div>\n",
              "<style scoped>\n",
              "    .dataframe tbody tr th:only-of-type {\n",
              "        vertical-align: middle;\n",
              "    }\n",
              "\n",
              "    .dataframe tbody tr th {\n",
              "        vertical-align: top;\n",
              "    }\n",
              "\n",
              "    .dataframe thead th {\n",
              "        text-align: right;\n",
              "    }\n",
              "</style>\n",
              "<table border=\"1\" class=\"dataframe\">\n",
              "  <thead>\n",
              "    <tr style=\"text-align: right;\">\n",
              "      <th></th>\n",
              "      <th>Missing Values</th>\n",
              "      <th>% of Total Values</th>\n",
              "    </tr>\n",
              "  </thead>\n",
              "  <tbody>\n",
              "    <tr>\n",
              "      <th>WISC_FSIQ</th>\n",
              "      <td>588</td>\n",
              "      <td>19.1</td>\n",
              "    </tr>\n",
              "    <tr>\n",
              "      <th>MFQ_P_Total</th>\n",
              "      <td>466</td>\n",
              "      <td>15.1</td>\n",
              "    </tr>\n",
              "    <tr>\n",
              "      <th>SCARED_P_Total</th>\n",
              "      <td>328</td>\n",
              "      <td>10.7</td>\n",
              "    </tr>\n",
              "    <tr>\n",
              "      <th>SRS_Total</th>\n",
              "      <td>218</td>\n",
              "      <td>7.1</td>\n",
              "    </tr>\n",
              "    <tr>\n",
              "      <th>SWAN_HY</th>\n",
              "      <td>163</td>\n",
              "      <td>5.3</td>\n",
              "    </tr>\n",
              "    <tr>\n",
              "      <th>SWAN_IN</th>\n",
              "      <td>163</td>\n",
              "      <td>5.3</td>\n",
              "    </tr>\n",
              "    <tr>\n",
              "      <th>ARI_S_Total_Score</th>\n",
              "      <td>125</td>\n",
              "      <td>4.1</td>\n",
              "    </tr>\n",
              "  </tbody>\n",
              "</table>\n",
              "</div>"
            ],
            "text/plain": [
              "                   Missing Values  % of Total Values\n",
              "WISC_FSIQ                     588               19.1\n",
              "MFQ_P_Total                   466               15.1\n",
              "SCARED_P_Total                328               10.7\n",
              "SRS_Total                     218                7.1\n",
              "SWAN_HY                       163                5.3\n",
              "SWAN_IN                       163                5.3\n",
              "ARI_S_Total_Score             125                4.1"
            ]
          },
          "execution_count": 118,
          "metadata": {},
          "output_type": "execute_result"
        }
      ],
      "source": [
        "def missing_values_table(df):\n",
        "    mis_val = df.isnull().sum()\n",
        "    mis_val_percent = 100 * df.isnull().sum() / len(df)\n",
        "    mis_val_table = pd.concat([mis_val, mis_val_percent], axis=1)\n",
        "    mis_val_table_ren_columns = mis_val_table.rename(\n",
        "    columns = {0 : 'Missing Values', 1 : '% of Total Values'})\n",
        "    mis_val_table_ren_columns = mis_val_table_ren_columns[\n",
        "        mis_val_table_ren_columns.iloc[:,1] != 0].sort_values(\n",
        "    '% of Total Values', ascending=False).round(1)\n",
        "    print (\"Your selected dataframe has \" + str(df.shape[1]) + \" columns (with column 'IDs').\\n\"      \n",
        "        \"There are \" + str(mis_val_table_ren_columns.shape[0]) +\n",
        "            \" columns that have missing values.\")\n",
        "    return mis_val_table_ren_columns\n",
        "\n",
        "missing_values_table(behaviour_data)"
      ]
    },
    {
      "cell_type": "markdown",
      "metadata": {},
      "source": [
        "## Merge EEG and behavioral data together:"
      ]
    },
    {
      "cell_type": "code",
      "execution_count": 119,
      "metadata": {},
      "outputs": [
        {
          "data": {
            "text/plain": [
              "(1929, 26596)"
            ]
          },
          "execution_count": 119,
          "metadata": {},
          "output_type": "execute_result"
        }
      ],
      "source": [
        "df = pd.merge(df2, behaviour_data, on='IDs', how='inner')\n",
        "df.shape"
      ]
    },
    {
      "cell_type": "markdown",
      "metadata": {},
      "source": [
        "### features and labels preparation:"
      ]
    },
    {
      "cell_type": "code",
      "execution_count": 163,
      "metadata": {},
      "outputs": [
        {
          "data": {
            "text/plain": [
              "(1465, 26596)"
            ]
          },
          "execution_count": 163,
          "metadata": {},
          "output_type": "execute_result"
        }
      ],
      "source": [
        "#removing NaNs\n",
        "df = df.dropna()\n",
        "df.shape"
      ]
    },
    {
      "cell_type": "code",
      "execution_count": 164,
      "metadata": {},
      "outputs": [
        {
          "data": {
            "text/plain": [
              "(1465, 26588)"
            ]
          },
          "execution_count": 164,
          "metadata": {},
          "output_type": "execute_result"
        }
      ],
      "source": [
        "\n",
        "X = df.iloc[:, 0:26588].to_numpy()\n",
        "X.shape\n"
      ]
    },
    {
      "cell_type": "code",
      "execution_count": 165,
      "metadata": {},
      "outputs": [],
      "source": [
        "Y = df[[ 'MFQ_P_Total', 'SCARED_P_Total', 'SWAN_HY', \"SWAN_IN\", 'SRS_Total','ARI_S_Total_Score', 'WISC_FSIQ' ]]"
      ]
    },
    {
      "cell_type": "markdown",
      "metadata": {},
      "source": [
        "### Data normalisation:"
      ]
    },
    {
      "cell_type": "code",
      "execution_count": 168,
      "metadata": {},
      "outputs": [
        {
          "data": {
            "text/plain": [
              "(1465, 7)"
            ]
          },
          "execution_count": 168,
          "metadata": {},
          "output_type": "execute_result"
        }
      ],
      "source": [
        "from sklearn import preprocessing\n",
        "Y = Y.values #returns a numpy array\n",
        "min_max_scaler = preprocessing.MinMaxScaler()\n",
        "Y_scaled = min_max_scaler.fit_transform(Y)\n",
        "Y = pd.DataFrame(Y_scaled)\n",
        "Y.shape"
      ]
    },
    {
      "cell_type": "markdown",
      "metadata": {},
      "source": [
        "### PCA on X dimension:"
      ]
    },
    {
      "cell_type": "code",
      "execution_count": 169,
      "metadata": {},
      "outputs": [],
      "source": [
        "# dimensionality reduction\n",
        "pca = PCA(.95) # 95% variance retained\n",
        "pca.fit(X)\n",
        "\n",
        "# transform data\n",
        "X_pca = pca.transform(X)\n",
        "X_pca.shape\n",
        "X_pca = X"
      ]
    },
    {
      "cell_type": "markdown",
      "metadata": {},
      "source": []
    },
    {
      "cell_type": "code",
      "execution_count": 170,
      "metadata": {},
      "outputs": [
        {
          "name": "stdout",
          "output_type": "stream",
          "text": [
            "X: (1465, 26588) Y: (1465, 7)\n"
          ]
        }
      ],
      "source": [
        "print(\"X:\", X.shape, \"Y:\", Y.shape)"
      ]
    }
  ],
  "metadata": {
    "colab": {
      "collapsed_sections": [],
      "include_colab_link": true,
      "name": "DataScienceLab.ipynb",
      "provenance": []
    },
    "interpreter": {
      "hash": "a9205b650ad9b26ded1fb73bba57cf404cfc03cd0c8186ebe669ad7e6a2a6143"
    },
    "kernelspec": {
      "display_name": "Python 3.8.5 64-bit ('ai4halth': conda)",
      "name": "python3"
    },
    "language_info": {
      "codemirror_mode": {
        "name": "ipython",
        "version": 3
      },
      "file_extension": ".py",
      "mimetype": "text/x-python",
      "name": "python",
      "nbconvert_exporter": "python",
      "pygments_lexer": "ipython3",
      "version": "3.8.5"
    }
  },
  "nbformat": 4,
  "nbformat_minor": 0
}
