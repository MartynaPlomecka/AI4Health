{
  "nbformat": 4,
  "nbformat_minor": 0,
  "metadata": {
    "colab": {
      "name": "Classification_on_spectras_after_pca.ipynb",
      "provenance": [],
      "authorship_tag": "ABX9TyOGTRGOIpRKXvLRA9fbD3uD",
      "include_colab_link": true
    },
    "kernelspec": {
      "name": "python3",
      "display_name": "Python 3"
    },
    "language_info": {
      "name": "python"
    }
  },
  "cells": [
    {
      "cell_type": "markdown",
      "metadata": {
        "id": "view-in-github",
        "colab_type": "text"
      },
      "source": [
        "<a href=\"https://colab.research.google.com/github/MartynaPlomecka/AI4Health/blob/main/Classification_on_spectras_after_pca.ipynb\" target=\"_parent\"><img src=\"https://colab.research.google.com/assets/colab-badge.svg\" alt=\"Open In Colab\"/></a>"
      ]
    },
    {
      "cell_type": "code",
      "metadata": {
        "id": "LTuJqRCzNW07",
        "colab": {
          "base_uri": "https://localhost:8080/"
        },
        "outputId": "c0e6e76e-5ed5-4560-fd38-c879741fc257"
      },
      "source": [
        "import pandas as pd\n",
        "import numpy as np\n",
        "from numpy import mean\n",
        "from numpy import std\n",
        "from pandas import read_csv\n",
        "import seaborn as sns\n",
        "import matplotlib.pyplot as plt\n",
        "sns.set_theme(style=\"ticks\", color_codes=True)\n",
        "\n",
        "from sklearn.pipeline import make_pipeline\n",
        "from sklearn.svm import SVC\n",
        "from sklearn.linear_model import SGDClassifier\n",
        "from sklearn.preprocessing import StandardScaler\n",
        "from sklearn.model_selection import cross_val_score\n",
        "from sklearn.datasets import make_classification\n",
        "from sklearn.model_selection import train_test_split\n",
        "from sklearn import svm\n",
        "from sklearn.preprocessing import LabelEncoder\n",
        "from sklearn.model_selection import cross_val_score\n",
        "from sklearn.model_selection import RepeatedStratifiedKFold\n",
        "from sklearn.ensemble import RandomForestClassifier\n",
        "\n",
        "import imblearn\n",
        "from collections import Counter\n",
        "from sklearn.datasets import make_classification\n",
        "from matplotlib import pyplot\n",
        "from numpy import where\n",
        "from imblearn.over_sampling import SMOTE\n",
        "from collections import Counter\n",
        "from matplotlib import pyplot\n",
        "from sklearn.preprocessing import LabelEncoder\n",
        "\n",
        "\n",
        "import pandas as pd\n",
        "import numpy as np\n",
        "import seaborn as sns\n",
        "import matplotlib.pyplot as plt\n",
        "sns.set_theme(style=\"ticks\", color_codes=True)"
      ],
      "execution_count": null,
      "outputs": [
        {
          "output_type": "stream",
          "name": "stderr",
          "text": [
            "/usr/local/lib/python3.7/dist-packages/sklearn/externals/six.py:31: FutureWarning: The module is deprecated in version 0.21 and will be removed in version 0.23 since we've dropped support for Python 2.7. Please rely on the official version of six (https://pypi.org/project/six/).\n",
            "  \"(https://pypi.org/project/six/).\", FutureWarning)\n",
            "/usr/local/lib/python3.7/dist-packages/sklearn/utils/deprecation.py:144: FutureWarning: The sklearn.neighbors.base module is  deprecated in version 0.22 and will be removed in version 0.24. The corresponding classes / functions should instead be imported from sklearn.neighbors. Anything that cannot be imported from sklearn.neighbors is now part of the private API.\n",
            "  warnings.warn(message, FutureWarning)\n"
          ]
        }
      ]
    },
    {
      "cell_type": "markdown",
      "metadata": {
        "id": "S9HCo3IeQDfM"
      },
      "source": [
        "# Dataframe preparation"
      ]
    },
    {
      "cell_type": "code",
      "metadata": {
        "colab": {
          "base_uri": "https://localhost:8080/",
          "height": 634
        },
        "id": "QU20LNoHxQ4n",
        "outputId": "a11847cf-359c-43f2-d01a-22a2e5073962"
      },
      "source": [
        "pca95 = pd.read_csv(\"after_95pca_with6classes.csv\", index_col=0)\n",
        "pca90 = pd.read_csv(\"after_90pca_with6classes.csv\", index_col=0)\n",
        "pca90"
      ],
      "execution_count": null,
      "outputs": [
        {
          "output_type": "execute_result",
          "data": {
            "text/html": [
              "<div>\n",
              "<style scoped>\n",
              "    .dataframe tbody tr th:only-of-type {\n",
              "        vertical-align: middle;\n",
              "    }\n",
              "\n",
              "    .dataframe tbody tr th {\n",
              "        vertical-align: top;\n",
              "    }\n",
              "\n",
              "    .dataframe thead th {\n",
              "        text-align: right;\n",
              "    }\n",
              "</style>\n",
              "<table border=\"1\" class=\"dataframe\">\n",
              "  <thead>\n",
              "    <tr style=\"text-align: right;\">\n",
              "      <th></th>\n",
              "      <th>('Electrode 63 - 20Hz',)</th>\n",
              "      <th>('Electrode 56 - 16Hz',)</th>\n",
              "      <th>('Electrode 70 - 20Hz',)</th>\n",
              "      <th>('Electrode 75 - 23Hz',)</th>\n",
              "      <th>('Electrode 19 - 46Hz',)</th>\n",
              "      <th>('Electrode 86 - 59Hz',)</th>\n",
              "      <th>('Electrode 60 - 19Hz',)</th>\n",
              "      <th>('Electrode 60 - 16Hz',)</th>\n",
              "      <th>('Electrode 68 - 38Hz',)</th>\n",
              "      <th>('Electrode 57 - 18Hz',)</th>\n",
              "      <th>('Electrode 12 - 19Hz',)</th>\n",
              "      <th>('Electrode 61 - 17Hz',)</th>\n",
              "      <th>('Electrode 74 - 20Hz',)</th>\n",
              "      <th>('Electrode 80 - 18Hz',)</th>\n",
              "      <th>('Electrode 52 - 20Hz',)</th>\n",
              "      <th>('Electrode 43 - 19Hz',)</th>\n",
              "      <th>('Electrode 105 - 19Hz',)</th>\n",
              "      <th>('Electrode 5 - 18Hz',)</th>\n",
              "      <th>('Electrode 103 - 21Hz',)</th>\n",
              "      <th>('Electrode 69 - 21Hz',)</th>\n",
              "      <th>('Electrode 75 - 21Hz',)</th>\n",
              "      <th>('Electrode 46 - 20Hz',)</th>\n",
              "      <th>('Electrode 70 - 15Hz',)</th>\n",
              "      <th>('Electrode 28 - 21Hz',)</th>\n",
              "      <th>('Electrode 78 - 23Hz',)</th>\n",
              "      <th>('Electrode 74 - 24Hz',)</th>\n",
              "      <th>('Electrode 50 - 19Hz',)</th>\n",
              "      <th>('Electrode 38 - 19Hz',)</th>\n",
              "      <th>('Electrode 81 - 19Hz',)</th>\n",
              "      <th>('Electrode 69 - 22Hz',)</th>\n",
              "      <th>('Electrode 47 - 18Hz',)</th>\n",
              "      <th>('Electrode 44 - 18Hz',)</th>\n",
              "      <th>('Electrode 61 - 20Hz',)</th>\n",
              "      <th>('Electrode 50 - 19Hz',).1</th>\n",
              "      <th>('Electrode 53 - 16Hz',)</th>\n",
              "      <th>('Electrode 45 - 10Hz',)</th>\n",
              "      <th>('Electrode 52 - 15Hz',)</th>\n",
              "      <th>('Electrode 77 - 21Hz',)</th>\n",
              "      <th>('Electrode 62 - 22Hz',)</th>\n",
              "      <th>('Electrode 12 - 13Hz',)</th>\n",
              "      <th>('Electrode 88 - 21Hz',)</th>\n",
              "      <th>label</th>\n",
              "    </tr>\n",
              "  </thead>\n",
              "  <tbody>\n",
              "    <tr>\n",
              "      <th>0</th>\n",
              "      <td>-0.430488</td>\n",
              "      <td>-6.731675</td>\n",
              "      <td>-4.867600</td>\n",
              "      <td>3.466962</td>\n",
              "      <td>-2.565753</td>\n",
              "      <td>0.951381</td>\n",
              "      <td>0.479766</td>\n",
              "      <td>-2.068730</td>\n",
              "      <td>-0.683577</td>\n",
              "      <td>1.856075</td>\n",
              "      <td>1.968152</td>\n",
              "      <td>-1.293173</td>\n",
              "      <td>-0.309348</td>\n",
              "      <td>0.023570</td>\n",
              "      <td>0.392498</td>\n",
              "      <td>-1.048182</td>\n",
              "      <td>0.373093</td>\n",
              "      <td>-0.523378</td>\n",
              "      <td>0.566639</td>\n",
              "      <td>0.048809</td>\n",
              "      <td>0.891453</td>\n",
              "      <td>-0.423410</td>\n",
              "      <td>0.340094</td>\n",
              "      <td>0.225677</td>\n",
              "      <td>-1.217761</td>\n",
              "      <td>0.591754</td>\n",
              "      <td>-0.169153</td>\n",
              "      <td>-0.049330</td>\n",
              "      <td>0.619850</td>\n",
              "      <td>0.092936</td>\n",
              "      <td>0.463871</td>\n",
              "      <td>-0.061734</td>\n",
              "      <td>-0.825642</td>\n",
              "      <td>-0.237500</td>\n",
              "      <td>-0.054108</td>\n",
              "      <td>-0.975358</td>\n",
              "      <td>0.346841</td>\n",
              "      <td>0.166131</td>\n",
              "      <td>0.564759</td>\n",
              "      <td>-0.150454</td>\n",
              "      <td>0.146073</td>\n",
              "      <td>No Diagnosis Given</td>\n",
              "    </tr>\n",
              "    <tr>\n",
              "      <th>1</th>\n",
              "      <td>-17.713054</td>\n",
              "      <td>4.533371</td>\n",
              "      <td>3.267931</td>\n",
              "      <td>1.522835</td>\n",
              "      <td>3.770185</td>\n",
              "      <td>0.107378</td>\n",
              "      <td>-0.066388</td>\n",
              "      <td>-0.169412</td>\n",
              "      <td>0.750597</td>\n",
              "      <td>-0.908189</td>\n",
              "      <td>1.446781</td>\n",
              "      <td>1.031082</td>\n",
              "      <td>1.012186</td>\n",
              "      <td>0.296521</td>\n",
              "      <td>-1.294421</td>\n",
              "      <td>-1.089174</td>\n",
              "      <td>0.408190</td>\n",
              "      <td>-1.911663</td>\n",
              "      <td>0.277802</td>\n",
              "      <td>0.334726</td>\n",
              "      <td>0.399368</td>\n",
              "      <td>-0.361170</td>\n",
              "      <td>-0.360488</td>\n",
              "      <td>0.234757</td>\n",
              "      <td>-0.384592</td>\n",
              "      <td>0.107894</td>\n",
              "      <td>0.767926</td>\n",
              "      <td>-0.299854</td>\n",
              "      <td>0.292538</td>\n",
              "      <td>-0.009939</td>\n",
              "      <td>-0.368145</td>\n",
              "      <td>0.480584</td>\n",
              "      <td>0.348879</td>\n",
              "      <td>-0.361656</td>\n",
              "      <td>-0.020477</td>\n",
              "      <td>0.359289</td>\n",
              "      <td>0.102560</td>\n",
              "      <td>-0.100110</td>\n",
              "      <td>0.259672</td>\n",
              "      <td>0.073540</td>\n",
              "      <td>0.322806</td>\n",
              "      <td>ADHD-Combined Type</td>\n",
              "    </tr>\n",
              "    <tr>\n",
              "      <th>2</th>\n",
              "      <td>6.212079</td>\n",
              "      <td>-4.598784</td>\n",
              "      <td>-2.759346</td>\n",
              "      <td>-0.603485</td>\n",
              "      <td>1.982932</td>\n",
              "      <td>-1.403845</td>\n",
              "      <td>2.336635</td>\n",
              "      <td>-0.930353</td>\n",
              "      <td>2.045150</td>\n",
              "      <td>-0.435429</td>\n",
              "      <td>0.605799</td>\n",
              "      <td>0.506608</td>\n",
              "      <td>-0.988132</td>\n",
              "      <td>-0.425318</td>\n",
              "      <td>0.345815</td>\n",
              "      <td>0.772458</td>\n",
              "      <td>0.565836</td>\n",
              "      <td>-0.197192</td>\n",
              "      <td>-1.255781</td>\n",
              "      <td>1.603978</td>\n",
              "      <td>0.559727</td>\n",
              "      <td>-1.060139</td>\n",
              "      <td>1.269975</td>\n",
              "      <td>0.621092</td>\n",
              "      <td>-0.275001</td>\n",
              "      <td>0.277379</td>\n",
              "      <td>-0.208477</td>\n",
              "      <td>-0.623350</td>\n",
              "      <td>-0.244065</td>\n",
              "      <td>0.278680</td>\n",
              "      <td>-0.979904</td>\n",
              "      <td>-1.129354</td>\n",
              "      <td>0.398249</td>\n",
              "      <td>-0.671549</td>\n",
              "      <td>0.348280</td>\n",
              "      <td>-0.012998</td>\n",
              "      <td>0.049790</td>\n",
              "      <td>0.713386</td>\n",
              "      <td>-0.280496</td>\n",
              "      <td>0.049639</td>\n",
              "      <td>0.466304</td>\n",
              "      <td>ADHD-Combined Type</td>\n",
              "    </tr>\n",
              "    <tr>\n",
              "      <th>3</th>\n",
              "      <td>-18.272224</td>\n",
              "      <td>6.246869</td>\n",
              "      <td>4.566977</td>\n",
              "      <td>1.152039</td>\n",
              "      <td>3.510472</td>\n",
              "      <td>0.771874</td>\n",
              "      <td>1.030222</td>\n",
              "      <td>1.789013</td>\n",
              "      <td>-0.576761</td>\n",
              "      <td>0.337159</td>\n",
              "      <td>-0.983822</td>\n",
              "      <td>1.079923</td>\n",
              "      <td>3.034247</td>\n",
              "      <td>0.293650</td>\n",
              "      <td>-1.144630</td>\n",
              "      <td>-0.374233</td>\n",
              "      <td>1.921536</td>\n",
              "      <td>-0.427586</td>\n",
              "      <td>0.856501</td>\n",
              "      <td>1.273742</td>\n",
              "      <td>1.274201</td>\n",
              "      <td>0.325758</td>\n",
              "      <td>-0.252248</td>\n",
              "      <td>0.402914</td>\n",
              "      <td>1.194337</td>\n",
              "      <td>-1.415141</td>\n",
              "      <td>-0.436844</td>\n",
              "      <td>0.891842</td>\n",
              "      <td>0.182427</td>\n",
              "      <td>-1.103693</td>\n",
              "      <td>-0.590641</td>\n",
              "      <td>0.713501</td>\n",
              "      <td>-0.086377</td>\n",
              "      <td>-0.692768</td>\n",
              "      <td>-0.397998</td>\n",
              "      <td>-0.346869</td>\n",
              "      <td>0.083774</td>\n",
              "      <td>0.215296</td>\n",
              "      <td>-0.251399</td>\n",
              "      <td>1.864559</td>\n",
              "      <td>-0.160543</td>\n",
              "      <td>ADHD-Combined Type</td>\n",
              "    </tr>\n",
              "    <tr>\n",
              "      <th>4</th>\n",
              "      <td>-7.138505</td>\n",
              "      <td>-7.106939</td>\n",
              "      <td>2.860923</td>\n",
              "      <td>-0.958018</td>\n",
              "      <td>2.691949</td>\n",
              "      <td>0.320327</td>\n",
              "      <td>0.202829</td>\n",
              "      <td>0.729894</td>\n",
              "      <td>0.361163</td>\n",
              "      <td>0.868305</td>\n",
              "      <td>-2.860676</td>\n",
              "      <td>-2.660213</td>\n",
              "      <td>-0.071796</td>\n",
              "      <td>-3.007184</td>\n",
              "      <td>0.380727</td>\n",
              "      <td>1.291302</td>\n",
              "      <td>0.629045</td>\n",
              "      <td>-1.065984</td>\n",
              "      <td>-1.137033</td>\n",
              "      <td>0.117127</td>\n",
              "      <td>-2.241458</td>\n",
              "      <td>-1.672095</td>\n",
              "      <td>-0.470029</td>\n",
              "      <td>0.253124</td>\n",
              "      <td>0.356431</td>\n",
              "      <td>1.753080</td>\n",
              "      <td>-0.710190</td>\n",
              "      <td>0.892850</td>\n",
              "      <td>1.324115</td>\n",
              "      <td>2.634329</td>\n",
              "      <td>-0.809994</td>\n",
              "      <td>-0.999655</td>\n",
              "      <td>-0.373941</td>\n",
              "      <td>0.622996</td>\n",
              "      <td>-0.216144</td>\n",
              "      <td>1.257985</td>\n",
              "      <td>1.058595</td>\n",
              "      <td>1.380546</td>\n",
              "      <td>-0.309880</td>\n",
              "      <td>-0.060505</td>\n",
              "      <td>-0.332363</td>\n",
              "      <td>ADHD-Combined Type</td>\n",
              "    </tr>\n",
              "    <tr>\n",
              "      <th>...</th>\n",
              "      <td>...</td>\n",
              "      <td>...</td>\n",
              "      <td>...</td>\n",
              "      <td>...</td>\n",
              "      <td>...</td>\n",
              "      <td>...</td>\n",
              "      <td>...</td>\n",
              "      <td>...</td>\n",
              "      <td>...</td>\n",
              "      <td>...</td>\n",
              "      <td>...</td>\n",
              "      <td>...</td>\n",
              "      <td>...</td>\n",
              "      <td>...</td>\n",
              "      <td>...</td>\n",
              "      <td>...</td>\n",
              "      <td>...</td>\n",
              "      <td>...</td>\n",
              "      <td>...</td>\n",
              "      <td>...</td>\n",
              "      <td>...</td>\n",
              "      <td>...</td>\n",
              "      <td>...</td>\n",
              "      <td>...</td>\n",
              "      <td>...</td>\n",
              "      <td>...</td>\n",
              "      <td>...</td>\n",
              "      <td>...</td>\n",
              "      <td>...</td>\n",
              "      <td>...</td>\n",
              "      <td>...</td>\n",
              "      <td>...</td>\n",
              "      <td>...</td>\n",
              "      <td>...</td>\n",
              "      <td>...</td>\n",
              "      <td>...</td>\n",
              "      <td>...</td>\n",
              "      <td>...</td>\n",
              "      <td>...</td>\n",
              "      <td>...</td>\n",
              "      <td>...</td>\n",
              "      <td>...</td>\n",
              "    </tr>\n",
              "    <tr>\n",
              "      <th>1780</th>\n",
              "      <td>4.133225</td>\n",
              "      <td>-6.185843</td>\n",
              "      <td>-5.799242</td>\n",
              "      <td>3.364663</td>\n",
              "      <td>-1.863835</td>\n",
              "      <td>-1.141451</td>\n",
              "      <td>-1.854677</td>\n",
              "      <td>0.557059</td>\n",
              "      <td>-1.221169</td>\n",
              "      <td>1.854056</td>\n",
              "      <td>2.606057</td>\n",
              "      <td>0.228210</td>\n",
              "      <td>-1.275783</td>\n",
              "      <td>-0.887432</td>\n",
              "      <td>0.342317</td>\n",
              "      <td>2.217618</td>\n",
              "      <td>2.573386</td>\n",
              "      <td>-0.622527</td>\n",
              "      <td>-0.972247</td>\n",
              "      <td>0.393518</td>\n",
              "      <td>1.542538</td>\n",
              "      <td>0.104754</td>\n",
              "      <td>0.827151</td>\n",
              "      <td>-0.036278</td>\n",
              "      <td>0.603921</td>\n",
              "      <td>0.194811</td>\n",
              "      <td>-1.012958</td>\n",
              "      <td>-1.868571</td>\n",
              "      <td>-1.079420</td>\n",
              "      <td>-0.445645</td>\n",
              "      <td>1.272063</td>\n",
              "      <td>0.063680</td>\n",
              "      <td>1.086536</td>\n",
              "      <td>-0.595586</td>\n",
              "      <td>-0.252958</td>\n",
              "      <td>0.160998</td>\n",
              "      <td>2.448878</td>\n",
              "      <td>0.368648</td>\n",
              "      <td>0.409660</td>\n",
              "      <td>-0.166022</td>\n",
              "      <td>0.530135</td>\n",
              "      <td>Anxiety Disorders</td>\n",
              "    </tr>\n",
              "    <tr>\n",
              "      <th>1781</th>\n",
              "      <td>1.995004</td>\n",
              "      <td>1.462088</td>\n",
              "      <td>3.130046</td>\n",
              "      <td>5.061500</td>\n",
              "      <td>6.401234</td>\n",
              "      <td>1.440965</td>\n",
              "      <td>-1.260470</td>\n",
              "      <td>0.794055</td>\n",
              "      <td>0.239392</td>\n",
              "      <td>0.302354</td>\n",
              "      <td>2.298307</td>\n",
              "      <td>0.968321</td>\n",
              "      <td>3.024263</td>\n",
              "      <td>1.307116</td>\n",
              "      <td>-1.996898</td>\n",
              "      <td>1.204854</td>\n",
              "      <td>1.781360</td>\n",
              "      <td>-0.822647</td>\n",
              "      <td>1.239425</td>\n",
              "      <td>-1.823549</td>\n",
              "      <td>0.050253</td>\n",
              "      <td>-0.361485</td>\n",
              "      <td>-0.673204</td>\n",
              "      <td>0.044502</td>\n",
              "      <td>-0.616130</td>\n",
              "      <td>0.911581</td>\n",
              "      <td>-1.249943</td>\n",
              "      <td>-0.931583</td>\n",
              "      <td>1.071304</td>\n",
              "      <td>0.515529</td>\n",
              "      <td>0.223115</td>\n",
              "      <td>0.559985</td>\n",
              "      <td>-0.726427</td>\n",
              "      <td>0.814944</td>\n",
              "      <td>-0.128597</td>\n",
              "      <td>-0.610150</td>\n",
              "      <td>-0.173450</td>\n",
              "      <td>-0.744308</td>\n",
              "      <td>-1.287784</td>\n",
              "      <td>0.189887</td>\n",
              "      <td>0.047971</td>\n",
              "      <td>ADHD-Combined Type</td>\n",
              "    </tr>\n",
              "    <tr>\n",
              "      <th>1782</th>\n",
              "      <td>-0.153990</td>\n",
              "      <td>4.042612</td>\n",
              "      <td>5.803854</td>\n",
              "      <td>2.823652</td>\n",
              "      <td>-0.017750</td>\n",
              "      <td>1.029323</td>\n",
              "      <td>-0.910161</td>\n",
              "      <td>2.576803</td>\n",
              "      <td>-1.353300</td>\n",
              "      <td>3.633258</td>\n",
              "      <td>3.138968</td>\n",
              "      <td>-0.890673</td>\n",
              "      <td>3.143341</td>\n",
              "      <td>-0.702329</td>\n",
              "      <td>-0.632116</td>\n",
              "      <td>1.403264</td>\n",
              "      <td>0.311739</td>\n",
              "      <td>2.294183</td>\n",
              "      <td>-0.064645</td>\n",
              "      <td>0.152768</td>\n",
              "      <td>-0.235335</td>\n",
              "      <td>-1.702143</td>\n",
              "      <td>1.205363</td>\n",
              "      <td>-0.688854</td>\n",
              "      <td>1.096741</td>\n",
              "      <td>0.113940</td>\n",
              "      <td>1.460777</td>\n",
              "      <td>-0.506633</td>\n",
              "      <td>0.158368</td>\n",
              "      <td>-0.615251</td>\n",
              "      <td>1.038399</td>\n",
              "      <td>1.933333</td>\n",
              "      <td>0.371064</td>\n",
              "      <td>-2.506156</td>\n",
              "      <td>-0.740093</td>\n",
              "      <td>-1.339765</td>\n",
              "      <td>1.566200</td>\n",
              "      <td>0.259626</td>\n",
              "      <td>0.920160</td>\n",
              "      <td>1.056862</td>\n",
              "      <td>0.828605</td>\n",
              "      <td>Other Neurodevelopmental Disorders</td>\n",
              "    </tr>\n",
              "    <tr>\n",
              "      <th>1783</th>\n",
              "      <td>19.532574</td>\n",
              "      <td>-8.392528</td>\n",
              "      <td>11.367423</td>\n",
              "      <td>-1.364783</td>\n",
              "      <td>-1.696307</td>\n",
              "      <td>1.044195</td>\n",
              "      <td>-0.516597</td>\n",
              "      <td>0.147665</td>\n",
              "      <td>-1.557890</td>\n",
              "      <td>-1.026504</td>\n",
              "      <td>-0.490830</td>\n",
              "      <td>2.041340</td>\n",
              "      <td>-0.546655</td>\n",
              "      <td>-0.589268</td>\n",
              "      <td>-2.466016</td>\n",
              "      <td>-1.857172</td>\n",
              "      <td>1.007377</td>\n",
              "      <td>-1.307940</td>\n",
              "      <td>0.392559</td>\n",
              "      <td>0.319994</td>\n",
              "      <td>-0.212888</td>\n",
              "      <td>-0.430350</td>\n",
              "      <td>-0.997295</td>\n",
              "      <td>-0.347280</td>\n",
              "      <td>-0.107174</td>\n",
              "      <td>0.460756</td>\n",
              "      <td>-0.553023</td>\n",
              "      <td>1.740709</td>\n",
              "      <td>-0.467878</td>\n",
              "      <td>-1.492985</td>\n",
              "      <td>-1.060189</td>\n",
              "      <td>0.518138</td>\n",
              "      <td>0.817803</td>\n",
              "      <td>-0.692862</td>\n",
              "      <td>0.409649</td>\n",
              "      <td>-0.371274</td>\n",
              "      <td>-0.556199</td>\n",
              "      <td>-0.710483</td>\n",
              "      <td>0.096388</td>\n",
              "      <td>0.402528</td>\n",
              "      <td>1.085101</td>\n",
              "      <td>ADHD-Inattentive Type</td>\n",
              "    </tr>\n",
              "    <tr>\n",
              "      <th>1784</th>\n",
              "      <td>-8.461463</td>\n",
              "      <td>-0.519751</td>\n",
              "      <td>0.123918</td>\n",
              "      <td>-1.692897</td>\n",
              "      <td>2.043411</td>\n",
              "      <td>-2.518109</td>\n",
              "      <td>-0.030305</td>\n",
              "      <td>2.347513</td>\n",
              "      <td>-0.008549</td>\n",
              "      <td>3.789167</td>\n",
              "      <td>0.999980</td>\n",
              "      <td>0.713241</td>\n",
              "      <td>1.697261</td>\n",
              "      <td>0.822457</td>\n",
              "      <td>-1.423065</td>\n",
              "      <td>-0.061896</td>\n",
              "      <td>-0.592105</td>\n",
              "      <td>1.158697</td>\n",
              "      <td>-2.155431</td>\n",
              "      <td>-0.993712</td>\n",
              "      <td>1.183682</td>\n",
              "      <td>1.037400</td>\n",
              "      <td>0.482700</td>\n",
              "      <td>1.105668</td>\n",
              "      <td>-1.010856</td>\n",
              "      <td>0.359591</td>\n",
              "      <td>-0.699687</td>\n",
              "      <td>0.361937</td>\n",
              "      <td>1.637260</td>\n",
              "      <td>-0.282094</td>\n",
              "      <td>1.252693</td>\n",
              "      <td>1.007328</td>\n",
              "      <td>-0.078299</td>\n",
              "      <td>0.104260</td>\n",
              "      <td>0.574805</td>\n",
              "      <td>0.046438</td>\n",
              "      <td>0.391080</td>\n",
              "      <td>-0.455472</td>\n",
              "      <td>0.463705</td>\n",
              "      <td>-1.114775</td>\n",
              "      <td>-0.334033</td>\n",
              "      <td>ADHD-Inattentive Type</td>\n",
              "    </tr>\n",
              "  </tbody>\n",
              "</table>\n",
              "<p>1785 rows × 42 columns</p>\n",
              "</div>"
            ],
            "text/plain": [
              "      ('Electrode 63 - 20Hz',)  ...                               label\n",
              "0                    -0.430488  ...                  No Diagnosis Given\n",
              "1                   -17.713054  ...                  ADHD-Combined Type\n",
              "2                     6.212079  ...                  ADHD-Combined Type\n",
              "3                   -18.272224  ...                  ADHD-Combined Type\n",
              "4                    -7.138505  ...                  ADHD-Combined Type\n",
              "...                        ...  ...                                 ...\n",
              "1780                  4.133225  ...                   Anxiety Disorders\n",
              "1781                  1.995004  ...                  ADHD-Combined Type\n",
              "1782                 -0.153990  ...  Other Neurodevelopmental Disorders\n",
              "1783                 19.532574  ...               ADHD-Inattentive Type\n",
              "1784                 -8.461463  ...               ADHD-Inattentive Type\n",
              "\n",
              "[1785 rows x 42 columns]"
            ]
          },
          "metadata": {},
          "execution_count": 4
        }
      ]
    },
    {
      "cell_type": "markdown",
      "metadata": {
        "id": "bakpJ0rXPvem"
      },
      "source": [
        "# Start with classification, first on 90% variance retained from the orginal power spectra dataset"
      ]
    },
    {
      "cell_type": "code",
      "metadata": {
        "colab": {
          "base_uri": "https://localhost:8080/"
        },
        "id": "4mu-X1dCzItN",
        "outputId": "3513f72c-2d20-4d53-aef6-02becaa20aa0"
      },
      "source": [
        "print(list(pca90.columns[0: 41]))\n"
      ],
      "execution_count": null,
      "outputs": [
        {
          "output_type": "stream",
          "name": "stdout",
          "text": [
            "[\"('Electrode 63 - 20Hz',)\", \"('Electrode 56 - 16Hz',)\", \"('Electrode 70 - 20Hz',)\", \"('Electrode 75 - 23Hz',)\", \"('Electrode 19 - 46Hz',)\", \"('Electrode 86 - 59Hz',)\", \"('Electrode 60 - 19Hz',)\", \"('Electrode 60 - 16Hz',)\", \"('Electrode 68 - 38Hz',)\", \"('Electrode 57 - 18Hz',)\", \"('Electrode 12 - 19Hz',)\", \"('Electrode 61 - 17Hz',)\", \"('Electrode 74 - 20Hz',)\", \"('Electrode 80 - 18Hz',)\", \"('Electrode 52 - 20Hz',)\", \"('Electrode 43 - 19Hz',)\", \"('Electrode 105 - 19Hz',)\", \"('Electrode 5 - 18Hz',)\", \"('Electrode 103 - 21Hz',)\", \"('Electrode 69 - 21Hz',)\", \"('Electrode 75 - 21Hz',)\", \"('Electrode 46 - 20Hz',)\", \"('Electrode 70 - 15Hz',)\", \"('Electrode 28 - 21Hz',)\", \"('Electrode 78 - 23Hz',)\", \"('Electrode 74 - 24Hz',)\", \"('Electrode 50 - 19Hz',)\", \"('Electrode 38 - 19Hz',)\", \"('Electrode 81 - 19Hz',)\", \"('Electrode 69 - 22Hz',)\", \"('Electrode 47 - 18Hz',)\", \"('Electrode 44 - 18Hz',)\", \"('Electrode 61 - 20Hz',)\", \"('Electrode 50 - 19Hz',).1\", \"('Electrode 53 - 16Hz',)\", \"('Electrode 45 - 10Hz',)\", \"('Electrode 52 - 15Hz',)\", \"('Electrode 77 - 21Hz',)\", \"('Electrode 62 - 22Hz',)\", \"('Electrode 12 - 13Hz',)\", \"('Electrode 88 - 21Hz',)\"]\n"
          ]
        }
      ]
    },
    {
      "cell_type": "code",
      "metadata": {
        "id": "ZP4MtiQFQBj3"
      },
      "source": [
        "### here the features and labels:\n",
        "X = pca90.iloc[:, 0: 41].to_numpy()\n",
        "y = pca90['label'].to_numpy()\n"
      ],
      "execution_count": null,
      "outputs": []
    },
    {
      "cell_type": "markdown",
      "metadata": {
        "id": "djmt53eKT0pq"
      },
      "source": [
        "### first shot: SVC"
      ]
    },
    {
      "cell_type": "code",
      "metadata": {
        "colab": {
          "base_uri": "https://localhost:8080/"
        },
        "id": "onZMsngLThL0",
        "outputId": "d5c3d7f8-a6b1-413f-ca6c-c334b30bad9a"
      },
      "source": [
        "#SVC\n",
        "clf = make_pipeline(StandardScaler(), SVC(gamma='auto'))\n",
        "clf.fit(X, y)\n",
        "\n",
        "scores = cross_val_score(clf, X, y, cv=5)\n",
        "score = mean(scores)\n",
        "score"
      ],
      "execution_count": null,
      "outputs": [
        {
          "output_type": "execute_result",
          "data": {
            "text/plain": [
              "0.257703081232493"
            ]
          },
          "metadata": {},
          "execution_count": 13
        }
      ]
    },
    {
      "cell_type": "markdown",
      "metadata": {
        "id": "jHfZF7LdUbiO"
      },
      "source": [
        "## Dealing with inbalanced dataset:"
      ]
    },
    {
      "cell_type": "code",
      "metadata": {
        "colab": {
          "base_uri": "https://localhost:8080/"
        },
        "id": "SMcT5ZruUuU0",
        "outputId": "7c08d207-7611-403d-e12b-59d7b384d8ad"
      },
      "source": [
        "# summarize class distribution\n",
        "counter = Counter(y)\n",
        "print(counter)"
      ],
      "execution_count": null,
      "outputs": [
        {
          "output_type": "stream",
          "name": "stdout",
          "text": [
            "Counter({'Other Neurodevelopmental Disorders': 492, 'ADHD-Inattentive Type': 388, 'ADHD-Combined Type': 376, 'Anxiety Disorders': 241, 'No Diagnosis Given': 203, 'Depressive Disorders': 85})\n"
          ]
        }
      ]
    },
    {
      "cell_type": "code",
      "metadata": {
        "colab": {
          "base_uri": "https://localhost:8080/",
          "height": 386
        },
        "id": "slMGKSEmU9Bw",
        "outputId": "40567aae-199b-4be9-aa10-11148f91ad25"
      },
      "source": [
        "sns.catplot(y=\"label\", kind=\"count\", palette=\"ch:.25\", data=pca90)"
      ],
      "execution_count": null,
      "outputs": [
        {
          "output_type": "execute_result",
          "data": {
            "text/plain": [
              "<seaborn.axisgrid.FacetGrid at 0x7f91c5994810>"
            ]
          },
          "metadata": {},
          "execution_count": 16
        },
        {
          "output_type": "display_data",
          "data": {
            "image/png": "[encoded data removed]",
            "text/plain": [
              "<Figure size 360x360 with 1 Axes>"
            ]
          },
          "metadata": {
            "needs_background": "light"
          }
        }
      ]
    },
    {
      "cell_type": "code",
      "metadata": {
        "colab": {
          "base_uri": "https://localhost:8080/"
        },
        "id": "nceu6izEXtD4",
        "outputId": "5b1a4b10-9a39-4a1a-c718-13d4aa7e04d5"
      },
      "source": [
        "# transform the dataset\n",
        "oversample = SMOTE()\n",
        "X, y = oversample.fit_resample(X, y)\n",
        "# summarize the new class distribution\n",
        "counter = Counter(y)\n",
        "print(counter)"
      ],
      "execution_count": null,
      "outputs": [
        {
          "output_type": "stream",
          "name": "stdout",
          "text": [
            "Counter({'No Diagnosis Given': 492, 'ADHD-Combined Type': 492, 'Depressive Disorders': 492, 'ADHD-Inattentive Type': 492, 'Other Neurodevelopmental Disorders': 492, 'Anxiety Disorders': 492})\n"
          ]
        },
        {
          "output_type": "stream",
          "name": "stderr",
          "text": [
            "/usr/local/lib/python3.7/dist-packages/sklearn/utils/deprecation.py:87: FutureWarning: Function safe_indexing is deprecated; safe_indexing is deprecated in version 0.22 and will be removed in version 0.24.\n",
            "  warnings.warn(msg, category=FutureWarning)\n",
            "/usr/local/lib/python3.7/dist-packages/sklearn/utils/deprecation.py:87: FutureWarning: Function safe_indexing is deprecated; safe_indexing is deprecated in version 0.22 and will be removed in version 0.24.\n",
            "  warnings.warn(msg, category=FutureWarning)\n",
            "/usr/local/lib/python3.7/dist-packages/sklearn/utils/deprecation.py:87: FutureWarning: Function safe_indexing is deprecated; safe_indexing is deprecated in version 0.22 and will be removed in version 0.24.\n",
            "  warnings.warn(msg, category=FutureWarning)\n",
            "/usr/local/lib/python3.7/dist-packages/sklearn/utils/deprecation.py:87: FutureWarning: Function safe_indexing is deprecated; safe_indexing is deprecated in version 0.22 and will be removed in version 0.24.\n",
            "  warnings.warn(msg, category=FutureWarning)\n",
            "/usr/local/lib/python3.7/dist-packages/sklearn/utils/deprecation.py:87: FutureWarning: Function safe_indexing is deprecated; safe_indexing is deprecated in version 0.22 and will be removed in version 0.24.\n",
            "  warnings.warn(msg, category=FutureWarning)\n"
          ]
        }
      ]
    },
    {
      "cell_type": "code",
      "metadata": {
        "colab": {
          "base_uri": "https://localhost:8080/",
          "height": 268
        },
        "id": "GeZdIpPlXya2",
        "outputId": "cbe2b168-d7de-47a9-9b02-6da4161c66c3"
      },
      "source": [
        "#summarize the oversampled distribution\n",
        "counter = Counter(y)\n",
        "for k,v in counter.items():\n",
        "\tper = v / len(y) * 100\n",
        "# plot the distribution\n",
        "pyplot.bar(counter.keys(), counter.values())\n",
        "pyplot.show()"
      ],
      "execution_count": null,
      "outputs": [
        {
          "output_type": "display_data",
          "data": {
            "image/png": "[encoded data removed]",
            "text/plain": [
              "<Figure size 432x288 with 1 Axes>"
            ]
          },
          "metadata": {
            "needs_background": "light"
          }
        }
      ]
    },
    {
      "cell_type": "markdown",
      "metadata": {
        "id": "RTvL1mNmYAB7"
      },
      "source": [
        "## Cost-Sensitive Learning for Multi-Class Classification\n"
      ]
    },
    {
      "cell_type": "code",
      "metadata": {
        "colab": {
          "base_uri": "https://localhost:8080/"
        },
        "id": "R0oVhaKdX6Ms",
        "outputId": "80d72966-f325-40d5-d21c-a4e523d7e7d3"
      },
      "source": [
        "# cost sensitive random forest with default class weights\n",
        "#naive baseline = 0.16666\n",
        "# evaluate a model\n",
        "def evaluate_model(X, y, model):\n",
        "\t# define evaluation procedure\n",
        "\tcv = RepeatedStratifiedKFold(n_splits=5, n_repeats=3, random_state=1)\n",
        "\t# evaluate model\n",
        "\tscores = cross_val_score(model, X, y, scoring='accuracy', cv=cv, n_jobs=-1)\n",
        "\treturn scores\n",
        "\n",
        "# define the model\n",
        "model = RandomForestClassifier(n_estimators=1000, class_weight='balanced')\n",
        "# evaluate the model\n",
        "scores = evaluate_model(X, y, model)\n",
        "# summarize performance\n",
        "print('Mean Accuracy: %.3f (%.3f)' % (mean(scores), std(scores)))"
      ],
      "execution_count": null,
      "outputs": [
        {
          "output_type": "stream",
          "name": "stdout",
          "text": [
            "Mean Accuracy: 0.636 (0.013)\n"
          ]
        }
      ]
    },
    {
      "cell_type": "markdown",
      "metadata": {
        "id": "LKtIlTv51leR"
      },
      "source": [
        "# Classification,on 95% variance retained from the orginal power spectra dataset"
      ]
    },
    {
      "cell_type": "code",
      "metadata": {
        "colab": {
          "base_uri": "https://localhost:8080/"
        },
        "id": "HWgXLRep1pnF",
        "outputId": "0902dbb0-f717-4a92-af79-208c98b23cb2"
      },
      "source": [
        "print(list(pca95.columns[0: 132]))"
      ],
      "execution_count": null,
      "outputs": [
        {
          "output_type": "stream",
          "name": "stdout",
          "text": [
            "[\"('Electrode 63 - 20Hz',)\", \"('Electrode 56 - 16Hz',)\", \"('Electrode 70 - 20Hz',)\", \"('Electrode 75 - 23Hz',)\", \"('Electrode 19 - 46Hz',)\", \"('Electrode 86 - 59Hz',)\", \"('Electrode 60 - 19Hz',)\", \"('Electrode 60 - 16Hz',)\", \"('Electrode 68 - 38Hz',)\", \"('Electrode 57 - 18Hz',)\", \"('Electrode 12 - 19Hz',)\", \"('Electrode 61 - 17Hz',)\", \"('Electrode 74 - 20Hz',)\", \"('Electrode 80 - 18Hz',)\", \"('Electrode 52 - 20Hz',)\", \"('Electrode 43 - 19Hz',)\", \"('Electrode 105 - 19Hz',)\", \"('Electrode 5 - 18Hz',)\", \"('Electrode 103 - 21Hz',)\", \"('Electrode 69 - 21Hz',)\", \"('Electrode 75 - 21Hz',)\", \"('Electrode 46 - 20Hz',)\", \"('Electrode 70 - 15Hz',)\", \"('Electrode 28 - 21Hz',)\", \"('Electrode 78 - 23Hz',)\", \"('Electrode 74 - 24Hz',)\", \"('Electrode 50 - 19Hz',)\", \"('Electrode 38 - 19Hz',)\", \"('Electrode 81 - 19Hz',)\", \"('Electrode 69 - 22Hz',)\", \"('Electrode 47 - 18Hz',)\", \"('Electrode 44 - 18Hz',)\", \"('Electrode 61 - 20Hz',)\", \"('Electrode 50 - 19Hz',).1\", \"('Electrode 53 - 16Hz',)\", \"('Electrode 45 - 10Hz',)\", \"('Electrode 52 - 15Hz',)\", \"('Electrode 77 - 21Hz',)\", \"('Electrode 62 - 22Hz',)\", \"('Electrode 12 - 13Hz',)\", \"('Electrode 88 - 21Hz',)\", \"('Electrode 66 - 19Hz',)\", \"('Electrode 79 - 22Hz',)\", \"('Electrode 105 - 14Hz',)\", \"('Electrode 105 - 9Hz',)\", \"('Electrode 31 - 13Hz',)\", \"('Electrode 65 - 23Hz',)\", \"('Electrode 46 - 13Hz',)\", \"('Electrode 32 - 17Hz',)\", \"('Electrode 24 - 21Hz',)\", \"('Electrode 105 - 19Hz',).1\", \"('Electrode 57 - 17Hz',)\", \"('Electrode 80 - 23Hz',)\", \"('Electrode 57 - 22Hz',)\", \"('Electrode 95 - 16Hz',)\", \"('Electrode 30 - 22Hz',)\", \"('Electrode 38 - 20Hz',)\", \"('Electrode 83 - 21Hz',)\", \"('Electrode 7 - 20Hz',)\", \"('Electrode 100 - 22Hz',)\", \"('Electrode 105 - 22Hz',)\", \"('Electrode 86 - 19Hz',)\", \"('Electrode 60 - 19Hz',).1\", \"('Electrode 45 - 17Hz',)\", \"('Electrode 24 - 18Hz',)\", \"('Electrode 41 - 19Hz',)\", \"('Electrode 66 - 17Hz',)\", \"('Electrode 105 - 17Hz',)\", \"('Electrode 95 - 18Hz',)\", \"('Electrode 57 - 19Hz',)\", \"('Electrode 55 - 18Hz',)\", \"('Electrode 73 - 19Hz',)\", \"('Electrode 73 - 21Hz',)\", \"('Electrode 32 - 17Hz',).1\", \"('Electrode 46 - 22Hz',)\", \"('Electrode 95 - 21Hz',)\", \"('Electrode 72 - 20Hz',)\", \"('Electrode 38 - 16Hz',)\", \"('Electrode 63 - 17Hz',)\", \"('Electrode 74 - 19Hz',)\", \"('Electrode 36 - 15Hz',)\", \"('Electrode 55 - 18Hz',).1\", \"('Electrode 69 - 21Hz',).1\", \"('Electrode 66 - 16Hz',)\", \"('Electrode 76 - 19Hz',)\", \"('Electrode 46 - 24Hz',)\", \"('Electrode 88 - 20Hz',)\", \"('Electrode 84 - 18Hz',)\", \"('Electrode 57 - 16Hz',)\", \"('Electrode 100 - 7Hz',)\", \"('Electrode 99 - 9Hz',)\", \"('Electrode 38 - 22Hz',)\", \"('Electrode 32 - 18Hz',)\", \"('Electrode 59 - 20Hz',)\", \"('Electrode 96 - 19Hz',)\", \"('Electrode 67 - 19Hz',)\", \"('Electrode 90 - 20Hz',)\", \"('Electrode 47 - 19Hz',)\", \"('Electrode 90 - 19Hz',)\", \"('Electrode 69 - 20Hz',)\", \"('Electrode 68 - 19Hz',)\", \"('Electrode 64 - 18Hz',)\", \"('Electrode 83 - 16Hz',)\", \"('Electrode 75 - 19Hz',)\", \"('Electrode 61 - 20Hz',).1\", \"('Electrode 51 - 17Hz',)\", \"('Electrode 50 - 19Hz',).2\", \"('Electrode 79 - 20Hz',)\", \"('Electrode 58 - 14Hz',)\", \"('Electrode 100 - 9Hz',)\", \"('Electrode 48 - 59Hz',)\", \"('Electrode 74 - 37Hz',)\", \"('Electrode 90 - 33Hz',)\", \"('Electrode 65 - 18Hz',)\", \"('Electrode 48 - 18Hz',)\", \"('Electrode 51 - 17Hz',).1\", \"('Electrode 7 - 71Hz',)\", \"('Electrode 57 - 20Hz',)\", \"('Electrode 96 - 21Hz',)\", \"('Electrode 44 - 18Hz',).1\", \"('Electrode 73 - 18Hz',)\", \"('Electrode 53 - 19Hz',)\", \"('Electrode 66 - 12Hz',)\", \"('Electrode 32 - 19Hz',)\", \"('Electrode 70 - 17Hz',)\", \"('Electrode 96 - 40Hz',)\", \"('Electrode 5 - 13Hz',)\", \"('Electrode 53 - 19Hz',).1\", \"('Electrode 61 - 23Hz',)\", \"('Electrode 52 - 21Hz',)\", \"('Electrode 96 - 14Hz',)\", \"('Electrode 90 - 20Hz',).1\"]\n"
          ]
        }
      ]
    },
    {
      "cell_type": "code",
      "metadata": {
        "id": "pDoHJnMG2EyM"
      },
      "source": [
        "### here the features and labels:\n",
        "X = pca95.iloc[:, 0: 132].to_numpy()\n",
        "y = pca95['label'].to_numpy()"
      ],
      "execution_count": null,
      "outputs": []
    },
    {
      "cell_type": "code",
      "metadata": {
        "colab": {
          "base_uri": "https://localhost:8080/"
        },
        "id": "AlAFxYAz2L5M",
        "outputId": "3abdc465-a4ce-4af6-bb58-2d75f8c34a7d"
      },
      "source": [
        "# transform the dataset\n",
        "oversample = SMOTE()\n",
        "X, y = oversample.fit_resample(X, y)\n",
        "# summarize the new class distribution\n",
        "counter = Counter(y)\n",
        "print(counter)"
      ],
      "execution_count": null,
      "outputs": [
        {
          "output_type": "stream",
          "name": "stdout",
          "text": [
            "Counter({'No Diagnosis Given': 492, 'ADHD-Combined Type': 492, 'Depressive Disorders': 492, 'ADHD-Inattentive Type': 492, 'Other Neurodevelopmental Disorders': 492, 'Anxiety Disorders': 492})\n"
          ]
        },
        {
          "output_type": "stream",
          "name": "stderr",
          "text": [
            "/usr/local/lib/python3.7/dist-packages/sklearn/utils/deprecation.py:87: FutureWarning: Function safe_indexing is deprecated; safe_indexing is deprecated in version 0.22 and will be removed in version 0.24.\n",
            "  warnings.warn(msg, category=FutureWarning)\n",
            "/usr/local/lib/python3.7/dist-packages/sklearn/utils/deprecation.py:87: FutureWarning: Function safe_indexing is deprecated; safe_indexing is deprecated in version 0.22 and will be removed in version 0.24.\n",
            "  warnings.warn(msg, category=FutureWarning)\n",
            "/usr/local/lib/python3.7/dist-packages/sklearn/utils/deprecation.py:87: FutureWarning: Function safe_indexing is deprecated; safe_indexing is deprecated in version 0.22 and will be removed in version 0.24.\n",
            "  warnings.warn(msg, category=FutureWarning)\n",
            "/usr/local/lib/python3.7/dist-packages/sklearn/utils/deprecation.py:87: FutureWarning: Function safe_indexing is deprecated; safe_indexing is deprecated in version 0.22 and will be removed in version 0.24.\n",
            "  warnings.warn(msg, category=FutureWarning)\n",
            "/usr/local/lib/python3.7/dist-packages/sklearn/utils/deprecation.py:87: FutureWarning: Function safe_indexing is deprecated; safe_indexing is deprecated in version 0.22 and will be removed in version 0.24.\n",
            "  warnings.warn(msg, category=FutureWarning)\n"
          ]
        }
      ]
    },
    {
      "cell_type": "code",
      "metadata": {
        "colab": {
          "base_uri": "https://localhost:8080/"
        },
        "id": "6W6Tz33t2NP7",
        "outputId": "be154586-ed04-4a29-da2f-56d9cc205aa3"
      },
      "source": [
        "# cost sensitive random forest with default class weights\n",
        "#naive baseline = 0.16666\n",
        "# evaluate a model\n",
        "def evaluate_model(X, y, model):\n",
        "\t# define evaluation procedure\n",
        "\tcv = RepeatedStratifiedKFold(n_splits=5, n_repeats=3, random_state=1)\n",
        "\t# evaluate model\n",
        "\tscores = cross_val_score(model, X, y, scoring='accuracy', cv=cv, n_jobs=-1)\n",
        "\treturn scores\n",
        "\n",
        "# define the model\n",
        "model = RandomForestClassifier(n_estimators=1000, class_weight='balanced')\n",
        "# evaluate the model\n",
        "scores = evaluate_model(X, y, model)\n",
        "# summarize performance\n",
        "print('Mean Accuracy: %.3f (%.3f)' % (mean(scores), std(scores)))"
      ],
      "execution_count": null,
      "outputs": [
        {
          "output_type": "stream",
          "name": "stdout",
          "text": [
            "Mean Accuracy: 0.664 (0.015)\n"
          ]
        }
      ]
    }
  ]
}