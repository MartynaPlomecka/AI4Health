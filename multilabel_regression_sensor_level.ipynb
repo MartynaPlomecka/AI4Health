{
 "cells": [
  {
   "cell_type": "code",
   "execution_count": 1,
   "metadata": {
    "colab": {},
    "colab_type": "code",
    "id": "7YxOz-zNNlyy"
   },
   "outputs": [],
   "source": [
    "import scipy.io\n",
    "import mat73\n",
    "import pandas as pd\n",
    "import numpy as np\n",
    "from numpy import array\n",
    "from numpy.random import uniform\n",
    "from numpy import hstack\n",
    "import matplotlib.pyplot as plt\n",
    "\n",
    "import tensorflow as tf\n",
    "from tensorflow.keras.models import Model, load_model\n",
    "from tensorflow.keras.layers import Input, Dense, LeakyReLU, BatchNormalization\n",
    "from tensorflow.keras.utils import plot_model, to_categorical\n",
    "from tensorflow.keras.models import Sequential\n",
    "from tensorflow.keras.layers import Dense\n",
    "import matplotlib.pyplot as plt\n",
    "\n",
    "from sklearn.model_selection import train_test_split\n",
    "from sklearn.metrics import mean_squared_error\n",
    "from sklearn.multioutput import MultiOutputRegressor\n",
    "from sklearn.ensemble import RandomForestRegressor\n",
    "from sklearn.ensemble import RandomForestClassifier as rf\n",
    "from sklearn.svm import SVC as svm\n",
    "from sklearn.linear_model import LogisticRegression as lg\n",
    "from sklearn.metrics import confusion_matrix,accuracy_score,balanced_accuracy_score,f1_score\n",
    "from sklearn import preprocessing\n",
    "from sklearn.decomposition import PCA\n",
    "from sklearn.model_selection import StratifiedKFold\n",
    "from sklearn.exceptions import ConvergenceWarning\n",
    "from warnings import simplefilter,filterwarnings\n",
    "\n",
    "# ignore all future warnings1\n",
    "simplefilter(action='ignore', category=FutureWarning)\n",
    "\n"
   ]
  },
  {
   "cell_type": "code",
   "execution_count": 2,
   "metadata": {},
   "outputs": [],
   "source": [
    "import os\n",
    "\n",
    "DATA_DIR = ''\n",
    "if 'google.colab' not in str(get_ipython()):\n",
    "    if \"anuja\" in os.environ.get('USER'):\n",
    "        DATA_DIR = 'data/'\n",
    "    elif 'ubuntu' in os.environ.get('USER'):\n",
    "        DATA_DIR = '/home/ubuntu/Martyna/repo/AI4Health/DATAfoof/'\n",
    "    "
   ]
  },
  {
   "cell_type": "markdown",
   "metadata": {},
   "source": [
    "## Data Loading and PCA"
   ]
  },
  {
   "cell_type": "code",
   "execution_count": 3,
   "metadata": {},
   "outputs": [],
   "source": [
    "path = os.path.join(DATA_DIR, 'split_data')\n",
    "\n",
    "#loading\n",
    "xtrain = pd.read_pickle(os.path.join(path, 'train_features_sensor.pkl'))\n",
    "xtest = pd.read_pickle(os.path.join(path, 'test_features_sensor_regression.pkl'))\n",
    "ytrain = pd.read_pickle(os.path.join(path, 'train_labels_regression.pkl'))\n",
    "ytest = pd.read_pickle(os.path.join(path, 'test_labels_regression.pkl'))\n"
   ]
  },
  {
   "cell_type": "code",
   "execution_count": 4,
   "metadata": {},
   "outputs": [],
   "source": [
    "# dealing with NaNs\n",
    "train_set = pd.concat([xtrain, ytrain], axis=1)\n",
    "train_set = train_set.dropna()\n",
    "\n",
    "labels_list = [ 'SRS_SCI_T', 'SRS_RRB_T', 'SWAN_IN_Avg', 'SWAN_HY_Avg', 'SCARED_P_GD', 'WISC_WMI_Sum', 'WISC_VCI_Sum']\n",
    "xtrain = train_set[train_set.columns.difference(labels_list)]\n",
    "ytrain = train_set[labels_list]"
   ]
  },
  {
   "cell_type": "code",
   "execution_count": 5,
   "metadata": {},
   "outputs": [],
   "source": [
    "xtrain = np.array(xtrain)\n",
    "xtest = np.array(xtest)\n",
    "ytrain = np.array(ytrain) \n",
    "ytest = np.array(ytest) "
   ]
  },
  {
   "cell_type": "code",
   "execution_count": 6,
   "metadata": {},
   "outputs": [],
   "source": [
    "age_gender = True\n",
    "if age_gender:\n",
    "    train_age_gender = xtrain[:,-2:]\n",
    "    test_age_gender = xtest[:,-2:]\n",
    "    xtrain = xtrain[:,:-2]\n",
    "    xtest = xtest[:,:-2]"
   ]
  },
  {
   "cell_type": "code",
   "execution_count": 7,
   "metadata": {},
   "outputs": [
    {
     "name": "stdout",
     "output_type": "stream",
     "text": [
      "(802, 4305) (268, 4305)\n",
      "Applying PCA...\n",
      "(802, 200) (268, 200)\n"
     ]
    }
   ],
   "source": [
    "# scaling x\n",
    "norm = preprocessing.MinMaxScaler().fit(xtrain)\n",
    "\n",
    "# transform training data\n",
    "xtrain = norm.transform(xtrain)\n",
    "xtest = norm.transform(xtest)\n",
    "print(xtrain.shape, xtest.shape)\n",
    "\n",
    "print('Applying PCA...')\n",
    "pca = PCA(.95) # 95% variance retained\n",
    "pca.fit(xtrain)\n",
    "\n",
    "# transform data\n",
    "xtrain = pca.transform(xtrain)\n",
    "xtest = pca.transform(xtest)\n",
    "print(xtrain.shape, xtest.shape)"
   ]
  },
  {
   "cell_type": "code",
   "execution_count": 8,
   "metadata": {},
   "outputs": [],
   "source": [
    "if age_gender:\n",
    "    xtrain = np.concatenate([xtrain, train_age_gender], axis = 1)\n",
    "    xtest = np.concatenate([xtest, test_age_gender], axis = 1)"
   ]
  },
  {
   "cell_type": "code",
   "execution_count": 9,
   "metadata": {},
   "outputs": [
    {
     "name": "stdout",
     "output_type": "stream",
     "text": [
      "(802, 7) (268, 7)\n"
     ]
    }
   ],
   "source": [
    "# scaling y\n",
    "min_max_scaler = preprocessing.MinMaxScaler().fit(ytrain)\n",
    "ytrain = min_max_scaler.transform(ytrain)\n",
    "ytest = min_max_scaler.transform(ytest)\n",
    "\n",
    "print(ytrain.shape, ytest.shape)"
   ]
  },
  {
   "cell_type": "code",
   "execution_count": 10,
   "metadata": {},
   "outputs": [
    {
     "data": {
      "text/plain": [
       "array([0.39968475, 0.33121278, 0.61656041, 0.54500321, 0.26357717,\n",
       "       0.45678772, 0.49548922])"
      ]
     },
     "execution_count": 10,
     "metadata": {},
     "output_type": "execute_result"
    }
   ],
   "source": [
    "ytrain.mean(axis=0)"
   ]
  },
  {
   "cell_type": "markdown",
   "metadata": {},
   "source": [
    "## MODELLING PART"
   ]
  },
  {
   "cell_type": "markdown",
   "metadata": {},
   "source": [
    "### dummy regressors (to obtain the random baseline):"
   ]
  },
  {
   "cell_type": "code",
   "execution_count": 11,
   "metadata": {},
   "outputs": [
    {
     "name": "stdout",
     "output_type": "stream",
     "text": [
      "Mean squared error (dummy): 13.98\n",
      "Median absolute error (dummy): 1.58\n",
      "r2_score (dummy mean): -29.04\n",
      "r2_score (dummy median): -27.03\n"
     ]
    }
   ],
   "source": [
    "import matplotlib.pyplot as plt\n",
    "import numpy as np\n",
    "from sklearn.model_selection import train_test_split\n",
    "from sklearn import datasets\n",
    "from sklearn.linear_model import LinearRegression\n",
    "from sklearn.metrics import mean_squared_error, r2_score, median_absolute_error\n",
    "from sklearn.dummy import DummyRegressor\n",
    "\n",
    "\n",
    "lm_dummy_mean = DummyRegressor(strategy = 'mean').fit(xtrain, ytrain)\n",
    "lm_dummy_median = DummyRegressor(strategy = 'median').fit(xtrain, ytrain)\n",
    "ypred_dummy_mean = lm_dummy_mean.predict(xtest)\n",
    "ypred_dummy_median = lm_dummy_median.predict(xtest)\n",
    "\n",
    "\n",
    "print(\"Mean squared error (dummy): {:.2f}\".format(mean_squared_error(ytest,\n",
    "\t\t\t\t\t\t\t\t\t\t\t\t\t\t\t\t\typred_dummy_mean)))\n",
    "\n",
    "print(\"Median absolute error (dummy): {:.2f}\".format(median_absolute_error(ytest,\n",
    "\t\t\t\t\t\t\t\t\t\t\t\t\t\t\t\t\typred_dummy_median)))\n",
    "\n",
    "print(\"r2_score (dummy mean): {:.2f}\".format(r2_score(ytest, ypred_dummy_mean)))\n",
    "print(\"r2_score (dummy median): {:.2f}\".format(r2_score(ytest, ypred_dummy_median)))\n"
   ]
  },
  {
   "cell_type": "code",
   "execution_count": 12,
   "metadata": {},
   "outputs": [
    {
     "data": {
      "text/plain": [
       "(802, 202)"
      ]
     },
     "execution_count": 12,
     "metadata": {},
     "output_type": "execute_result"
    }
   ],
   "source": [
    "xtrain.shape"
   ]
  },
  {
   "cell_type": "code",
   "execution_count": 13,
   "metadata": {},
   "outputs": [
    {
     "data": {
      "text/plain": [
       "(802, 7)"
      ]
     },
     "execution_count": 13,
     "metadata": {},
     "output_type": "execute_result"
    }
   ],
   "source": [
    "ytrain.shape"
   ]
  },
  {
   "cell_type": "code",
   "execution_count": 14,
   "metadata": {},
   "outputs": [],
   "source": [
    "n = 10"
   ]
  },
  {
   "cell_type": "markdown",
   "metadata": {},
   "source": [
    "## MOR regressor with base SVR regressor"
   ]
  },
  {
   "cell_type": "code",
   "execution_count": 15,
   "metadata": {},
   "outputs": [
    {
     "name": "stdout",
     "output_type": "stream",
     "text": [
      "Mean squared error (SVR): 14.50 [14.50, 14.50]\n",
      "Mean abs error (SVR) 1.68 [1.68, 1.68]\n",
      "R2 score (SVR): -26.47 [-26.47, -26.47]\n"
     ]
    }
   ],
   "source": [
    "from sklearn.datasets import make_regression\n",
    "from sklearn.multioutput import MultiOutputRegressor\n",
    "from sklearn.svm import SVR\n",
    "from sklearn.model_selection import train_test_split\n",
    "from sklearn.metrics import mean_squared_error, mean_absolute_error\n",
    "from sklearn.utils import resample\n",
    "\n",
    "# Create the SVR regressor\n",
    "svr = SVR(epsilon=0.2)\n",
    "#Create the Multioutput Regressor\n",
    "model = MultiOutputRegressor(svr)\n",
    "# Train the regressor\n",
    "model = model.fit(xtrain, ytrain)\n",
    "# Generate predictions for testing data\n",
    "ypred = model.predict(xtest)\n",
    "\n",
    "\n",
    "mse = []\n",
    "r = []\n",
    "mae = []\n",
    "for i in range(n):\n",
    "# Generate predictions for testing data\n",
    "    # Resample\n",
    "\tresampled_xtest, resampled_ytest = resample(xtest, ytest, replace=True, n_samples=len(ytest), random_state=7+i)\n",
    "\typred = model.predict(resampled_xtest)\n",
    "\tmse.append(mean_squared_error(resampled_ytest,ypred))\n",
    "\tr.append(model.score(resampled_xtest, resampled_ytest))\n",
    "\tmae.append(mean_absolute_error(resampled_ytest,ypred))\n",
    "\n",
    "print(\"Mean squared error (SVR): {:.2f} [{:.2f}, {:.2f}]\".format(np.mean(mse), np.percentile(mse, 5), np.percentile(mse, 95)))\n",
    "print(\"Mean abs error (SVR) {:.2f} [{:.2f}, {:.2f}]\".format(np.mean(mae), np.percentile(mae, 5), np.percentile(mae, 95)))\n",
    "print(\"R2 score (SVR): {:.2f} [{:.2f}, {:.2f}]\".format(np.mean(r), np.percentile(r, 5), np.percentile(r, 95)))\n",
    "\n",
    "\n"
   ]
  },
  {
   "cell_type": "code",
   "execution_count": 16,
   "metadata": {},
   "outputs": [
    {
     "name": "stdout",
     "output_type": "stream",
     "text": [
      "Mean squared error (RanFor): 14.47 [14.47, 14.47]\n",
      "Mean abs error (RanFor) 1.67 [1.67, 1.67]\n",
      "R2 score (RanFor): -24.89 [-24.89, -24.89]\n"
     ]
    }
   ],
   "source": [
    "max_depth = 30\n",
    "# define model\n",
    "model = RandomForestRegressor(n_estimators=100, max_depth=max_depth, random_state=7)\n",
    "# fit model\n",
    "model.fit(xtrain, ytrain)\n",
    "\n",
    "mse = []\n",
    "r = []\n",
    "mae = []\n",
    "for i in range(n):\n",
    "# Generate predictions for testing data\n",
    "    # Resample\n",
    "\tresampled_xtest, resampled_ytest = resample(xtest, ytest, replace=True, n_samples=len(ytest), random_state=7+i)\n",
    "\typred = model.predict(resampled_xtest)\n",
    "\tmse.append(mean_squared_error(resampled_ytest,ypred))\n",
    "\tr.append(model.score(resampled_xtest, resampled_ytest))\n",
    "\tmae.append(mean_absolute_error(resampled_ytest,ypred))\n",
    "\n",
    "print(\"Mean squared error (RanFor): {:.2f} [{:.2f}, {:.2f}]\".format(np.mean(mse), np.percentile(mse, 5), np.percentile(mse, 95)))\n",
    "print(\"Mean abs error (RanFor) {:.2f} [{:.2f}, {:.2f}]\".format(np.mean(mae), np.percentile(mae, 5), np.percentile(mae, 95)))\n",
    "print(\"R2 score (RanFor): {:.2f} [{:.2f}, {:.2f}]\".format(np.mean(r), np.percentile(r, 5), np.percentile(r, 95)))\n",
    "\n",
    "\t\t\t\t\t\t\t\t\t\n",
    "\n"
   ]
  },
  {
   "cell_type": "code",
   "execution_count": 17,
   "metadata": {},
   "outputs": [
    {
     "name": "stdout",
     "output_type": "stream",
     "text": [
      "Mean squared error (LinReg): 14.45 [14.45, 14.45]\n",
      "Mean abs error (LinReg) 1.67 [1.67, 1.67]\n",
      "R2 score (LinReg): -25.61 [-25.61, -25.61]\n"
     ]
    }
   ],
   "source": [
    "# define model\n",
    "model = LinearRegression()\n",
    "# fit model\n",
    "model.fit(xtrain, ytrain)\n",
    "\n",
    "mse = []\n",
    "r = []\n",
    "mae = []\n",
    "for i in range(n):\n",
    "# Generate predictions for testing data\n",
    "    # Resample\n",
    "\tresampled_xtest, resampled_ytest = resample(xtest, ytest, replace=True, n_samples=len(ytest), random_state=7+i)\n",
    "\typred = model.predict(resampled_xtest)\n",
    "\tmse.append(mean_squared_error(resampled_ytest,ypred))\n",
    "\tr.append(model.score(resampled_xtest, resampled_ytest))\n",
    "\tmae.append(mean_absolute_error(resampled_ytest,ypred))\n",
    "\n",
    "print(\"Mean squared error (LinReg): {:.2f} [{:.2f}, {:.2f}]\".format(np.mean(mse), np.percentile(mse, 5), np.percentile(mse, 95)))\n",
    "print(\"Mean abs error (LinReg) {:.2f} [{:.2f}, {:.2f}]\".format(np.mean(mae), np.percentile(mae, 5), np.percentile(mae, 95)))\n",
    "print(\"R2 score (LinReg): {:.2f} [{:.2f}, {:.2f}]\".format(np.mean(r), np.percentile(r, 5), np.percentile(r, 95)))\n",
    "\n",
    "#print(\"Mean squared error (LinReg): {:.2f}\".format(mean_squared_error(ytest,\n",
    "#\t\t\t\t\t\t\t\t\t\t\t\t\t\t\t\t\typred)))\n",
    "#print(\"Mean abs error (LinReg): {:.2f}\".format(mean_absolute_error(ytest,\n",
    "#\t\t\t\t\t\t\t\t\t\t\t\t\t\t\t\t\typred)))\t\t\t\t\t\t\t\t\t\t\t\t\t\t\t\t\t\n",
    "#print(\"R2 score (LinReg): {:.2f}\".format(model.score(xtest, ytest)))\t\t"
   ]
  },
  {
   "cell_type": "code",
   "execution_count": 18,
   "metadata": {},
   "outputs": [
    {
     "name": "stdout",
     "output_type": "stream",
     "text": [
      "Mean squared error (RanFor): 14.47 [14.47, 14.47]\n",
      "Mean abs error (RanFor) 1.67 [1.67, 1.67]\n",
      "R2 score (RanFor): -24.83 [-24.83, -24.83]\n"
     ]
    }
   ],
   "source": [
    "max_depth = 30\n",
    "model = MultiOutputRegressor(\n",
    "    RandomForestRegressor(n_estimators=100, max_depth=max_depth, random_state=7)\n",
    ")\n",
    "model.fit(xtrain, ytrain)\n",
    "\n",
    "mse = []\n",
    "r = []\n",
    "mae = []\n",
    "for i in range(n):\n",
    "# Generate predictions for testing data\n",
    "    # Resample\n",
    "\tresampled_xtest, resampled_ytest = resample(xtest, ytest, replace=True, n_samples=len(ytest), random_state=7+i)\n",
    "\typred = model.predict(resampled_xtest)\n",
    "\tmse.append(mean_squared_error(resampled_ytest,ypred))\n",
    "\tr.append(model.score(resampled_xtest, resampled_ytest))\n",
    "\tmae.append(mean_absolute_error(resampled_ytest,ypred))\n",
    "\n",
    "print(\"Mean squared error (RanFor): {:.2f} [{:.2f}, {:.2f}]\".format(np.mean(mse), np.percentile(mse, 5), np.percentile(mse, 95)))\n",
    "print(\"Mean abs error (RanFor) {:.2f} [{:.2f}, {:.2f}]\".format(np.mean(mae), np.percentile(mae, 5), np.percentile(mae, 95)))\n",
    "print(\"R2 score (RanFor): {:.2f} [{:.2f}, {:.2f}]\".format(np.mean(r), np.percentile(r, 5), np.percentile(r, 95)))"
   ]
  },
  {
   "cell_type": "code",
   "execution_count": 19,
   "metadata": {},
   "outputs": [
    {
     "name": "stdout",
     "output_type": "stream",
     "text": [
      "Epoch 1/10\n",
      "321/321 [==============================] - 2s 4ms/step - loss: 0.2969 - val_loss: 0.1982\n",
      "Epoch 2/10\n",
      "321/321 [==============================] - 2s 6ms/step - loss: 0.1748 - val_loss: 0.1663\n",
      "Epoch 3/10\n",
      "321/321 [==============================] - 1s 5ms/step - loss: 0.1624 - val_loss: 0.1659\n",
      "Epoch 4/10\n",
      "321/321 [==============================] - 2s 7ms/step - loss: 0.1615 - val_loss: 0.1681\n",
      "Epoch 5/10\n",
      "321/321 [==============================] - 2s 5ms/step - loss: 0.1608 - val_loss: 0.1668\n",
      "Epoch 6/10\n",
      "321/321 [==============================] - 1s 4ms/step - loss: 0.1608 - val_loss: 0.1652\n",
      "Epoch 7/10\n",
      "321/321 [==============================] - 2s 5ms/step - loss: 0.1606 - val_loss: 0.1667\n",
      "Epoch 8/10\n",
      "321/321 [==============================] - 2s 7ms/step - loss: 0.1605 - val_loss: 0.1659\n",
      "Epoch 9/10\n",
      "321/321 [==============================] - 2s 6ms/step - loss: 0.1599 - val_loss: 0.1665\n",
      "Epoch 10/10\n",
      "321/321 [==============================] - 1s 3ms/step - loss: 0.1593 - val_loss: 0.1669\n",
      "1.6279484\n",
      "13.969028\n"
     ]
    }
   ],
   "source": [
    "in_dim = xtrain.shape[1]\n",
    "out_dim = ytrain.shape[1]\n",
    "\n",
    "\n",
    "model = Sequential()\n",
    "\n",
    "model.add(Dense(5, input_dim=in_dim, kernel_initializer='he_uniform', activation='relu'))\n",
    "model.add(Dense(4, input_dim=in_dim, kernel_initializer='he_uniform', activation='relu'))\n",
    "model.add(Dense(3, input_dim=in_dim, kernel_initializer='he_uniform', activation='relu'))\n",
    "model.add(Dense(2, input_dim=in_dim, kernel_initializer='he_uniform', activation='relu'))\n",
    "model.add(Dense(1, input_dim=in_dim, kernel_initializer='he_uniform', activation='relu'))\n",
    "\n",
    "model.add(Dense(out_dim))\n",
    "model.compile(loss='mae', optimizer='adam')\n",
    "\n",
    "\n",
    "model.fit(xtrain, ytrain, epochs=10, batch_size=2, validation_split = 0.2, verbose=1)\n",
    "ypred = model.predict(xtest)\n",
    "\n",
    "score = tf.keras.metrics.mean_absolute_error(\n",
    "    ytest, ypred\n",
    ")\n",
    "score= np.array(score)\n",
    "print(score.mean())\n",
    "\n",
    "score_mse = tf.keras.metrics.mean_squared_error(\n",
    "    ytest, ypred\n",
    ")\n",
    "score_mse =  np.array(score_mse)\n",
    "print(score_mse.mean())"
   ]
  },
  {
   "cell_type": "code",
   "execution_count": 20,
   "metadata": {},
   "outputs": [
    {
     "name": "stdout",
     "output_type": "stream",
     "text": [
      "Epoch 1/10\n",
      "321/321 [==============================] - 2s 3ms/step - loss: 0.5015 - val_loss: 0.2709\n",
      "Epoch 2/10\n",
      "321/321 [==============================] - 1s 2ms/step - loss: 0.2067 - val_loss: 0.1842\n",
      "Epoch 3/10\n",
      "321/321 [==============================] - 1s 2ms/step - loss: 0.1655 - val_loss: 0.1733\n",
      "Epoch 4/10\n",
      "321/321 [==============================] - 1s 3ms/step - loss: 0.1609 - val_loss: 0.1735\n",
      "Epoch 5/10\n",
      "321/321 [==============================] - 1s 3ms/step - loss: 0.1593 - val_loss: 0.1743\n",
      "Epoch 6/10\n",
      "321/321 [==============================] - 1s 3ms/step - loss: 0.1592 - val_loss: 0.1732\n",
      "Epoch 7/10\n",
      "321/321 [==============================] - 1s 3ms/step - loss: 0.1579 - val_loss: 0.1726\n",
      "Epoch 8/10\n",
      "321/321 [==============================] - 1s 3ms/step - loss: 0.1571 - val_loss: 0.1700\n",
      "Epoch 9/10\n",
      "321/321 [==============================] - 1s 3ms/step - loss: 0.1564 - val_loss: 0.1722\n",
      "Epoch 10/10\n",
      "321/321 [==============================] - 1s 5ms/step - loss: 0.1558 - val_loss: 0.1700\n",
      "1.633137\n",
      "13.975367\n"
     ]
    }
   ],
   "source": [
    "in_dim = xtrain.shape[1]\n",
    "out_dim = ytrain.shape[1]\n",
    "\n",
    "\n",
    "model = Sequential()\n",
    "\n",
    "model.add(Dense(7, input_dim=in_dim, kernel_initializer='he_uniform', activation='relu'))\n",
    "\n",
    "\n",
    "model.add(Dense(out_dim))\n",
    "model.compile(loss='mae', optimizer='adam')\n",
    "\n",
    "\n",
    "model.fit(xtrain, ytrain, epochs=10, batch_size=2, validation_split = 0.2, verbose=1)\n",
    "ypred = model.predict(xtest)\n",
    "\n",
    "score = tf.keras.metrics.mean_absolute_error(\n",
    "    ytest, ypred\n",
    ")\n",
    "score= np.array(score)\n",
    "print(score.mean())\n",
    "\n",
    "score_mse = tf.keras.metrics.mean_squared_error(\n",
    "    ytest, ypred\n",
    ")\n",
    "score_mse =  np.array(score_mse)\n",
    "print(score_mse.mean())"
   ]
  }
 ],
 "metadata": {
  "colab": {
   "collapsed_sections": [],
   "include_colab_link": true,
   "name": "DataScienceLab.ipynb",
   "provenance": []
  },
  "interpreter": {
   "hash": "a9205b650ad9b26ded1fb73bba57cf404cfc03cd0c8186ebe669ad7e6a2a6143"
  },
  "kernelspec": {
   "display_name": "Python 3",
   "language": "python",
   "name": "python3"
  },
  "language_info": {
   "codemirror_mode": {
    "name": "ipython",
    "version": 3
   },
   "file_extension": ".py",
   "mimetype": "text/x-python",
   "name": "python",
   "nbconvert_exporter": "python",
   "pygments_lexer": "ipython3",
   "version": "3.8.5"
  }
 },
 "nbformat": 4,
 "nbformat_minor": 1
}
