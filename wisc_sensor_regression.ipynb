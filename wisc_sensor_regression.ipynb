{
 "cells": [
  {
   "cell_type": "code",
   "execution_count": 89,
   "metadata": {},
   "outputs": [],
   "source": [
    "import mat73\n",
    "import tensorflow as tf\n",
    "from tensorflow.keras.models import Model, load_model\n",
    "from tensorflow.keras.layers import Input, Dense, LeakyReLU, BatchNormalization\n",
    "from tensorflow.keras.utils import plot_model, to_categorical\n",
    "from tensorflow.keras.models import Sequential\n",
    "from tensorflow.keras.layers import Dense\n",
    "import matplotlib.pyplot as plt\n",
    "\n",
    "from sklearn.model_selection import train_test_split\n",
    "from sklearn.metrics import mean_squared_error\n",
    "from sklearn.multioutput import MultiOutputRegressor\n",
    "from sklearn.ensemble import RandomForestRegressor\n",
    "from sklearn.ensemble import RandomForestClassifier as rf\n",
    "from sklearn.svm import SVC as svm\n",
    "from sklearn.linear_model import LogisticRegression as lg\n",
    "from sklearn.metrics import confusion_matrix,accuracy_score,balanced_accuracy_score,f1_score\n",
    "from sklearn import preprocessing\n",
    "from sklearn.decomposition import PCA\n",
    "from sklearn.model_selection import StratifiedKFold\n",
    "from sklearn.exceptions import ConvergenceWarning\n",
    "from warnings import simplefilter,filterwarnings\n",
    "\n",
    "import pandas as pd\n",
    "import numpy as np\n",
    "import scipy.io\n",
    "from sklearn.linear_model import SGDClassifier\n",
    "from sklearn.preprocessing import StandardScaler\n",
    "from sklearn.model_selection import cross_val_score\n",
    "from sklearn.datasets import make_classification\n",
    "from sklearn.model_selection import train_test_split\n",
    "from sklearn.pipeline import make_pipeline\n",
    "from sklearn.svm import SVC\n",
    "from sklearn.preprocessing import MinMaxScaler\n",
    "import seaborn as sns\n",
    "import os\n",
    "\n",
    "DATA_DIR = ''\n",
    "if 'google.colab' not in str(get_ipython()):\n",
    "    if \"anuja\" in os.environ.get('USER'):\n",
    "        DATA_DIR = 'data/'\n",
    "    elif 'ubuntu' in os.environ.get('USER'):\n",
    "        DATA_DIR = '/home/ubuntu/Martyna/repo/AI4Health/DATAfoof/'\n",
    "\n",
    "\n",
    "\n",
    "\n",
    "    "
   ]
  },
  {
   "cell_type": "code",
   "execution_count": 90,
   "metadata": {},
   "outputs": [
    {
     "data": {
      "text/html": [
       "<div>\n",
       "<style scoped>\n",
       "    .dataframe tbody tr th:only-of-type {\n",
       "        vertical-align: middle;\n",
       "    }\n",
       "\n",
       "    .dataframe tbody tr th {\n",
       "        vertical-align: top;\n",
       "    }\n",
       "\n",
       "    .dataframe thead th {\n",
       "        text-align: right;\n",
       "    }\n",
       "</style>\n",
       "<table border=\"1\" class=\"dataframe\">\n",
       "  <thead>\n",
       "    <tr style=\"text-align: right;\">\n",
       "      <th></th>\n",
       "      <th>IDs</th>\n",
       "      <th>WISC_WMI_Sum</th>\n",
       "      <th>WISC_VCI_Sum</th>\n",
       "    </tr>\n",
       "  </thead>\n",
       "  <tbody>\n",
       "    <tr>\n",
       "      <th>0</th>\n",
       "      <td>WISC1_001</td>\n",
       "      <td>WISC1_039</td>\n",
       "      <td>WISC1_033</td>\n",
       "    </tr>\n",
       "    <tr>\n",
       "      <th>1</th>\n",
       "      <td>NDARNL599TMZ</td>\n",
       "      <td>NaN</td>\n",
       "      <td>NaN</td>\n",
       "    </tr>\n",
       "    <tr>\n",
       "      <th>2</th>\n",
       "      <td>NDARJF045MHG</td>\n",
       "      <td>17</td>\n",
       "      <td>18</td>\n",
       "    </tr>\n",
       "    <tr>\n",
       "      <th>3</th>\n",
       "      <td>NDARZE542ZVH</td>\n",
       "      <td>10</td>\n",
       "      <td>21</td>\n",
       "    </tr>\n",
       "    <tr>\n",
       "      <th>4</th>\n",
       "      <td>NDARYH480GTD</td>\n",
       "      <td>16</td>\n",
       "      <td>20</td>\n",
       "    </tr>\n",
       "    <tr>\n",
       "      <th>...</th>\n",
       "      <td>...</td>\n",
       "      <td>...</td>\n",
       "      <td>...</td>\n",
       "    </tr>\n",
       "    <tr>\n",
       "      <th>2933</th>\n",
       "      <td>NDARJG086ZMJ</td>\n",
       "      <td>24</td>\n",
       "      <td>28</td>\n",
       "    </tr>\n",
       "    <tr>\n",
       "      <th>2934</th>\n",
       "      <td>NDARNC148NJ1</td>\n",
       "      <td>29</td>\n",
       "      <td>20</td>\n",
       "    </tr>\n",
       "    <tr>\n",
       "      <th>2935</th>\n",
       "      <td>NDARWW744VLD</td>\n",
       "      <td>NaN</td>\n",
       "      <td>NaN</td>\n",
       "    </tr>\n",
       "    <tr>\n",
       "      <th>2936</th>\n",
       "      <td>NDARWE582CAV</td>\n",
       "      <td>NaN</td>\n",
       "      <td>NaN</td>\n",
       "    </tr>\n",
       "    <tr>\n",
       "      <th>2937</th>\n",
       "      <td>NDARBE680TCD</td>\n",
       "      <td>NaN</td>\n",
       "      <td>NaN</td>\n",
       "    </tr>\n",
       "  </tbody>\n",
       "</table>\n",
       "<p>2938 rows × 3 columns</p>\n",
       "</div>"
      ],
      "text/plain": [
       "               IDs WISC_WMI_Sum WISC_VCI_Sum\n",
       "0        WISC1_001    WISC1_039    WISC1_033\n",
       "1     NDARNL599TMZ          NaN          NaN\n",
       "2     NDARJF045MHG           17           18\n",
       "3     NDARZE542ZVH           10           21\n",
       "4     NDARYH480GTD           16           20\n",
       "...            ...          ...          ...\n",
       "2933  NDARJG086ZMJ           24           28\n",
       "2934  NDARNC148NJ1           29           20\n",
       "2935  NDARWW744VLD          NaN          NaN\n",
       "2936  NDARWE582CAV          NaN          NaN\n",
       "2937  NDARBE680TCD          NaN          NaN\n",
       "\n",
       "[2938 rows x 3 columns]"
      ]
     },
     "execution_count": 90,
     "metadata": {},
     "output_type": "execute_result"
    }
   ],
   "source": [
    "data = scipy.io.loadmat(DATA_DIR+'x.mat')  \n",
    "df = pd.DataFrame(data['x'].reshape((data['x'].shape[0], -1)))\n",
    "foof = pd.read_csv(DATA_DIR+\"sensor_intercept_slope.csv\")\n",
    "\n",
    "# sparsing\n",
    "df = np.array(df).reshape(data['x'].shape)\n",
    "df_sparsed = np.concatenate([np.expand_dims(df[:,:,i:i+2].mean(axis = 2), axis = 2) for i in range(0, data['x'].shape[2]-2, 2)], axis = 2)\n",
    "df = pd.DataFrame(df_sparsed.reshape((df_sparsed.shape[0], -1)))\n",
    "\n",
    "\n",
    "# #scaling\n",
    "norm = MinMaxScaler().fit(df)\n",
    "df = norm.transform(df)\n",
    "df = pd.DataFrame(df.reshape((df.shape[0], -1)))\n",
    "\n",
    "\n",
    "\n",
    "columns = np.asarray([['Electrode %d - %d/2 Hz'%(i+1, j+1)] for i in range(df_sparsed.shape[1]) for j in range(df_sparsed.shape[2])])\n",
    "df.columns = columns\n",
    "df['IDs'] = foof['IDs']\n",
    "\n",
    "\n",
    "\n",
    "wisc = pd.read_csv(DATA_DIR+\"9994_WISC_20211209.csv\")\n",
    "wisc = wisc.rename(columns={\"EID\": \"IDs\"})\n",
    "wisc = wisc[['IDs', 'WISC_WMI_Sum','WISC_VCI_Sum']]\n",
    "wisc\n"
   ]
  },
  {
   "cell_type": "markdown",
   "metadata": {},
   "source": [
    "## merging tables"
   ]
  },
  {
   "cell_type": "code",
   "execution_count": 91,
   "metadata": {},
   "outputs": [
    {
     "data": {
      "text/plain": [
       "(1627, 4308)"
      ]
     },
     "execution_count": 91,
     "metadata": {},
     "output_type": "execute_result"
    }
   ],
   "source": [
    "df = pd.merge(df, foof, on='IDs', how='inner')\n",
    "df = pd.merge(df, wisc, on='IDs', how='inner')\n",
    "\n",
    "\n",
    "#removing NaNs\n",
    "df = df.dropna()\n",
    "df.shape"
   ]
  },
  {
   "cell_type": "code",
   "execution_count": 92,
   "metadata": {},
   "outputs": [
    {
     "name": "stdout",
     "output_type": "stream",
     "text": [
      "(1627, 2)\n",
      "(1627, 4305)\n"
     ]
    }
   ],
   "source": [
    "#labels_list = ['WISC_WMI_Sum']\n",
    "labels_list = ['WISC_WMI_Sum','WISC_VCI_Sum']\n",
    "\n",
    "Y = df[labels_list]\n",
    "print(Y.shape)\n",
    "X = df[df.columns.difference(['IDs']+labels_list)]\n",
    "print(X.shape)"
   ]
  },
  {
   "cell_type": "code",
   "execution_count": 93,
   "metadata": {},
   "outputs": [
    {
     "data": {
      "text/plain": [
       "<seaborn.axisgrid.FacetGrid at 0x7f2713cd5e80>"
      ]
     },
     "execution_count": 93,
     "metadata": {},
     "output_type": "execute_result"
    },
    {
     "data": {
      "image/png": "[encoded data removed]",
      "text/plain": [
       "<Figure size 360x360 with 1 Axes>"
      ]
     },
     "metadata": {
      "needs_background": "light"
     },
     "output_type": "display_data"
    }
   ],
   "source": [
    "sns.displot(df, x='WISC_WMI_Sum', binwidth=10)\n"
   ]
  },
  {
   "cell_type": "code",
   "execution_count": 94,
   "metadata": {},
   "outputs": [],
   "source": [
    "import numpy as np\n",
    "from sklearn.preprocessing import power_transform\n",
    "Y = power_transform(Y, method='box-cox')\n"
   ]
  },
  {
   "cell_type": "code",
   "execution_count": 95,
   "metadata": {},
   "outputs": [
    {
     "data": {
      "text/plain": [
       "(1627, 2)"
      ]
     },
     "execution_count": 95,
     "metadata": {},
     "output_type": "execute_result"
    },
    {
     "data": {
      "image/png": "[encoded data removed]",
      "text/plain": [
       "<Figure size 402.375x360 with 1 Axes>"
      ]
     },
     "metadata": {
      "needs_background": "light"
     },
     "output_type": "display_data"
    }
   ],
   "source": [
    "sns.displot(Y, binwidth=0.05)\n",
    "Y.shape"
   ]
  },
  {
   "cell_type": "markdown",
   "metadata": {},
   "source": [
    "## train/test division"
   ]
  },
  {
   "cell_type": "code",
   "execution_count": 96,
   "metadata": {},
   "outputs": [],
   "source": [
    "xtrain, xtest, ytrain, ytest = train_test_split(X, Y, test_size=0.25, shuffle=True)"
   ]
  },
  {
   "cell_type": "code",
   "execution_count": 97,
   "metadata": {},
   "outputs": [
    {
     "name": "stderr",
     "output_type": "stream",
     "text": [
      "/home/ubuntu/anaconda3/envs/ai4halth/lib/python3.8/site-packages/sklearn/utils/validation.py:1675: FutureWarning: Feature names only support names that are all strings. Got feature names with dtypes: ['str', 'tuple']. An error will be raised in 1.2.\n",
      "  warnings.warn(\n",
      "/home/ubuntu/anaconda3/envs/ai4halth/lib/python3.8/site-packages/sklearn/utils/validation.py:1675: FutureWarning: Feature names only support names that are all strings. Got feature names with dtypes: ['str', 'tuple']. An error will be raised in 1.2.\n",
      "  warnings.warn(\n",
      "/home/ubuntu/anaconda3/envs/ai4halth/lib/python3.8/site-packages/sklearn/utils/validation.py:1675: FutureWarning: Feature names only support names that are all strings. Got feature names with dtypes: ['str', 'tuple']. An error will be raised in 1.2.\n",
      "  warnings.warn(\n"
     ]
    },
    {
     "name": "stdout",
     "output_type": "stream",
     "text": [
      "(1220, 4305) (407, 4305)\n",
      "Applying PCA...\n",
      "(1220, 100) (407, 100)\n"
     ]
    }
   ],
   "source": [
    "# scaling x\n",
    "norm = preprocessing.MinMaxScaler().fit(xtrain)\n",
    "\n",
    "# transform training data\n",
    "xtrain = norm.transform(xtrain)\n",
    "xtest = norm.transform(xtest)\n",
    "print(xtrain.shape, xtest.shape)\n",
    "\n",
    "print('Applying PCA...')\n",
    "pca = PCA(.90) # 95% variance retained\n",
    "pca.fit(xtrain)\n",
    "\n",
    "# transform data\n",
    "xtrain = pca.transform(xtrain)\n",
    "xtest = pca.transform(xtest)\n",
    "print(xtrain.shape, xtest.shape)"
   ]
  },
  {
   "cell_type": "code",
   "execution_count": 98,
   "metadata": {},
   "outputs": [
    {
     "name": "stdout",
     "output_type": "stream",
     "text": [
      "(1220, 2) (407, 2)\n"
     ]
    }
   ],
   "source": [
    "# scaling y, in case they have different values\n",
    "\n",
    "min_max_scaler = preprocessing.MinMaxScaler().fit(ytrain)\n",
    "ytrain = min_max_scaler.transform(ytrain)\n",
    "ytest = min_max_scaler.transform(ytest)\n",
    "\n",
    "print(ytrain.shape, ytest.shape)"
   ]
  },
  {
   "cell_type": "code",
   "execution_count": 99,
   "metadata": {},
   "outputs": [
    {
     "name": "stdout",
     "output_type": "stream",
     "text": [
      "Mean squared error (dummy): 0.03\n",
      "Median absolute error (dummy): 0.10\n",
      "r2_score (dummy mean): -0.00\n",
      "r2_score (dummy median): -0.00\n",
      "[[0.30768774 0.53958031]\n",
      " [0.54513169 0.65576888]\n",
      " [0.48769366 0.68468743]\n",
      " [0.45854775 0.51039283]\n",
      " [0.39930516 0.45182983]\n",
      " [0.36916182 0.59778186]\n",
      " [0.71165815 0.51039283]\n",
      " [0.         0.0622873 ]\n",
      " [0.68443747 0.7135586 ]\n",
      " [0.57345644 0.42244751]]\n",
      "-3.7557882775272657e-16\n"
     ]
    }
   ],
   "source": [
    "import matplotlib.pyplot as plt\n",
    "import numpy as np\n",
    "from sklearn.model_selection import train_test_split\n",
    "from sklearn import datasets\n",
    "from sklearn.linear_model import LinearRegression\n",
    "from sklearn.metrics import mean_squared_error, r2_score, median_absolute_error\n",
    "from sklearn.dummy import DummyRegressor\n",
    "\n",
    "\n",
    "lm_dummy_mean = DummyRegressor(strategy = 'mean').fit(xtrain, ytrain)\n",
    "lm_dummy_median = DummyRegressor(strategy = 'median').fit(xtrain, ytrain)\n",
    "ypred_dummy_mean = lm_dummy_mean.predict(xtest)\n",
    "ypred_dummy_median = lm_dummy_median.predict(xtest)\n",
    "\n",
    "\n",
    "print(\"Mean squared error (dummy): {:.2f}\".format(mean_squared_error(ytest,\n",
    "\t\t\t\t\t\t\t\t\t\t\t\t\t\t\t\t\typred_dummy_mean)))\n",
    "\n",
    "print(\"Median absolute error (dummy): {:.2f}\".format(median_absolute_error(ytest,\n",
    "\t\t\t\t\t\t\t\t\t\t\t\t\t\t\t\t\typred_dummy_median)))\n",
    "\n",
    "print(\"r2_score (dummy mean): {:.2f}\".format(r2_score(ytest, ypred_dummy_mean)))\n",
    "print(\"r2_score (dummy median): {:.2f}\".format(r2_score(ytest, ypred_dummy_median)))\n",
    "\n",
    "print(ytest[:10])\n",
    "print(Y.mean())"
   ]
  },
  {
   "cell_type": "markdown",
   "metadata": {},
   "source": [
    "### MultiOutputReg"
   ]
  },
  {
   "cell_type": "code",
   "execution_count": 100,
   "metadata": {},
   "outputs": [
    {
     "name": "stdout",
     "output_type": "stream",
     "text": [
      "Mean squared error (SVC): 0.03\n",
      "R2 score (SVC): -0.04\n"
     ]
    }
   ],
   "source": [
    "from sklearn.datasets import make_regression\n",
    "from sklearn.multioutput import MultiOutputRegressor\n",
    "from sklearn.svm import SVR\n",
    "from sklearn.model_selection import train_test_split\n",
    "from sklearn.metrics import mean_squared_error, mean_absolute_error\n",
    "\n",
    "# Create the SVR regressor\n",
    "svr = SVR(epsilon=0.2)\n",
    "#Create the Multioutput Regressor\n",
    "mor = MultiOutputRegressor(svr)\n",
    "# Train the regressor\n",
    "mor = mor.fit(xtrain, ytrain)\n",
    "# Generate predictions for testing data\n",
    "ypred = mor.predict(xtest)\n",
    "\n",
    "\n",
    "print(\"Mean squared error (SVC): {:.2f}\".format(mean_squared_error(ytest,\n",
    "\t\t\t\t\t\t\t\t\t\t\t\t\t\t\t\t\typred)))\n",
    "print(\"R2 score (SVC): {:.2f}\".format(mor.score(xtest, ytest)))\n"
   ]
  },
  {
   "cell_type": "markdown",
   "metadata": {},
   "source": [
    "## MOR RanFor"
   ]
  },
  {
   "cell_type": "code",
   "execution_count": 101,
   "metadata": {},
   "outputs": [
    {
     "name": "stdout",
     "output_type": "stream",
     "text": [
      "Mean squared error (regr_multirf): 0.03\n",
      "R2 score (regr_multirf): 0.01\n"
     ]
    }
   ],
   "source": [
    "from sklearn.ensemble import RandomForestRegressor\n",
    "\n",
    "\n",
    "max_depth = 30\n",
    "regr_multirf = MultiOutputRegressor(\n",
    "    RandomForestRegressor(n_estimators=100, max_depth=max_depth, random_state=7)\n",
    ")\n",
    "regr_multirf.fit(xtrain, ytrain)\n",
    "y_multirf = regr_multirf.predict(xtest)\n",
    "\n",
    "\n",
    "print(\"Mean squared error (regr_multirf): {:.2f}\".format(mean_squared_error(ytest,\n",
    "\t\t\t\t\t\t\t\t\t\t\t\t\t\t\t\t\typred)))\n",
    "print(\"R2 score (regr_multirf): {:.2f}\".format(regr_multirf.score(xtest, ytest)))"
   ]
  },
  {
   "cell_type": "markdown",
   "metadata": {},
   "source": [
    "## MLP"
   ]
  },
  {
   "cell_type": "code",
   "execution_count": 103,
   "metadata": {},
   "outputs": [
    {
     "name": "stdout",
     "output_type": "stream",
     "text": [
      "Epoch 1/100\n",
      "WARNING:tensorflow:Layer dense_15 is casting an input tensor from dtype float64 to the layer's dtype of float32, which is new behavior in TensorFlow 2.  The layer has dtype float32 because it's dtype defaults to floatx.\n",
      "\n",
      "If you intended to run this layer in float32, you can safely ignore this warning. If in doubt, this warning is likely only an issue if you are porting a TensorFlow 1.X model to TensorFlow 2.\n",
      "\n",
      "To change all layers to have dtype float64 by default, call `tf.keras.backend.set_floatx('float64')`. To change just this layer, pass dtype='float64' to the layer constructor. If you are the author of this layer, you can disable autocasting by passing autocast=False to the base Layer constructor.\n",
      "\n",
      "488/488 [==============================] - 1s 2ms/step - loss: 0.1012 - mse: 0.1012 - val_loss: 0.0458 - val_mse: 0.0458\n",
      "Epoch 2/100\n",
      "488/488 [==============================] - 1s 1ms/step - loss: 0.0359 - mse: 0.0359 - val_loss: 0.0336 - val_mse: 0.0336\n",
      "Epoch 3/100\n",
      "488/488 [==============================] - 1s 1ms/step - loss: 0.0293 - mse: 0.0293 - val_loss: 0.0320 - val_mse: 0.0320\n",
      "Epoch 4/100\n",
      "488/488 [==============================] - 1s 1ms/step - loss: 0.0275 - mse: 0.0275 - val_loss: 0.0313 - val_mse: 0.0313\n",
      "Epoch 5/100\n",
      "488/488 [==============================] - 1s 1ms/step - loss: 0.0265 - mse: 0.0265 - val_loss: 0.0311 - val_mse: 0.0311\n",
      "Epoch 6/100\n",
      "488/488 [==============================] - 1s 1ms/step - loss: 0.0258 - mse: 0.0258 - val_loss: 0.0315 - val_mse: 0.0315\n",
      "Epoch 7/100\n",
      "488/488 [==============================] - 1s 1ms/step - loss: 0.0251 - mse: 0.0251 - val_loss: 0.0313 - val_mse: 0.0313\n",
      "Epoch 8/100\n",
      "488/488 [==============================] - 1s 1ms/step - loss: 0.0244 - mse: 0.0244 - val_loss: 0.0328 - val_mse: 0.0328\n",
      "Epoch 9/100\n",
      "488/488 [==============================] - 1s 1ms/step - loss: 0.0237 - mse: 0.0237 - val_loss: 0.0333 - val_mse: 0.0333\n",
      "Epoch 10/100\n",
      "488/488 [==============================] - 1s 1ms/step - loss: 0.0230 - mse: 0.0230 - val_loss: 0.0341 - val_mse: 0.0341\n",
      "Epoch 11/100\n",
      "488/488 [==============================] - 1s 1ms/step - loss: 0.0226 - mse: 0.0226 - val_loss: 0.0340 - val_mse: 0.0340\n",
      "Epoch 12/100\n",
      "488/488 [==============================] - 1s 1ms/step - loss: 0.0220 - mse: 0.0220 - val_loss: 0.0340 - val_mse: 0.0340\n",
      "Epoch 13/100\n",
      "488/488 [==============================] - 1s 1ms/step - loss: 0.0216 - mse: 0.0216 - val_loss: 0.0345 - val_mse: 0.0345\n",
      "Epoch 14/100\n",
      "488/488 [==============================] - 1s 1ms/step - loss: 0.0211 - mse: 0.0211 - val_loss: 0.0347 - val_mse: 0.0347\n",
      "Epoch 15/100\n",
      "488/488 [==============================] - 1s 1ms/step - loss: 0.0205 - mse: 0.0205 - val_loss: 0.0366 - val_mse: 0.0366\n",
      "Epoch 16/100\n",
      "488/488 [==============================] - 1s 1ms/step - loss: 0.0203 - mse: 0.0203 - val_loss: 0.0360 - val_mse: 0.0360\n",
      "Epoch 17/100\n",
      "488/488 [==============================] - 1s 1ms/step - loss: 0.0198 - mse: 0.0198 - val_loss: 0.0375 - val_mse: 0.0375\n",
      "Epoch 18/100\n",
      "488/488 [==============================] - 1s 1ms/step - loss: 0.0200 - mse: 0.0200 - val_loss: 0.0372 - val_mse: 0.0372\n",
      "Epoch 19/100\n",
      "488/488 [==============================] - 1s 1ms/step - loss: 0.0195 - mse: 0.0195 - val_loss: 0.0378 - val_mse: 0.0378\n",
      "Epoch 20/100\n",
      "488/488 [==============================] - 1s 1ms/step - loss: 0.0190 - mse: 0.0190 - val_loss: 0.0382 - val_mse: 0.0382\n",
      "Epoch 21/100\n",
      "488/488 [==============================] - 1s 1ms/step - loss: 0.0190 - mse: 0.0190 - val_loss: 0.0377 - val_mse: 0.0377\n",
      "Epoch 22/100\n",
      "488/488 [==============================] - 1s 1ms/step - loss: 0.0186 - mse: 0.0186 - val_loss: 0.0388 - val_mse: 0.0388\n",
      "Epoch 23/100\n",
      "488/488 [==============================] - 1s 1ms/step - loss: 0.0184 - mse: 0.0184 - val_loss: 0.0377 - val_mse: 0.0377\n",
      "Epoch 24/100\n",
      "488/488 [==============================] - 1s 1ms/step - loss: 0.0182 - mse: 0.0182 - val_loss: 0.0402 - val_mse: 0.0402\n",
      "Epoch 25/100\n",
      "488/488 [==============================] - 1s 1ms/step - loss: 0.0181 - mse: 0.0181 - val_loss: 0.0394 - val_mse: 0.0394\n",
      "Epoch 26/100\n",
      "488/488 [==============================] - 1s 1ms/step - loss: 0.0180 - mse: 0.0180 - val_loss: 0.0399 - val_mse: 0.0399\n",
      "Epoch 27/100\n",
      "488/488 [==============================] - 1s 1ms/step - loss: 0.0175 - mse: 0.0175 - val_loss: 0.0387 - val_mse: 0.0387\n",
      "Epoch 28/100\n",
      "488/488 [==============================] - 1s 1ms/step - loss: 0.0175 - mse: 0.0175 - val_loss: 0.0397 - val_mse: 0.0397\n",
      "Epoch 29/100\n",
      "488/488 [==============================] - 1s 1ms/step - loss: 0.0176 - mse: 0.0176 - val_loss: 0.0424 - val_mse: 0.0424\n",
      "Epoch 30/100\n",
      "488/488 [==============================] - 1s 1ms/step - loss: 0.0175 - mse: 0.0175 - val_loss: 0.0408 - val_mse: 0.0408\n",
      "Epoch 31/100\n",
      "488/488 [==============================] - 1s 1ms/step - loss: 0.0174 - mse: 0.0174 - val_loss: 0.0405 - val_mse: 0.0405\n",
      "Epoch 32/100\n",
      "488/488 [==============================] - 1s 1ms/step - loss: 0.0176 - mse: 0.0176 - val_loss: 0.0412 - val_mse: 0.0412\n",
      "Epoch 33/100\n",
      "488/488 [==============================] - 1s 1ms/step - loss: 0.0174 - mse: 0.0174 - val_loss: 0.0400 - val_mse: 0.0400\n",
      "Epoch 34/100\n",
      "488/488 [==============================] - 1s 1ms/step - loss: 0.0169 - mse: 0.0169 - val_loss: 0.0414 - val_mse: 0.0414\n",
      "Epoch 35/100\n",
      "488/488 [==============================] - 1s 1ms/step - loss: 0.0167 - mse: 0.0167 - val_loss: 0.0419 - val_mse: 0.0419\n",
      "Epoch 36/100\n",
      "488/488 [==============================] - 1s 1ms/step - loss: 0.0169 - mse: 0.0169 - val_loss: 0.0431 - val_mse: 0.0431\n",
      "Epoch 37/100\n",
      "488/488 [==============================] - 1s 1ms/step - loss: 0.0168 - mse: 0.0168 - val_loss: 0.0427 - val_mse: 0.0427\n",
      "Epoch 38/100\n",
      "488/488 [==============================] - 1s 1ms/step - loss: 0.0168 - mse: 0.0168 - val_loss: 0.0427 - val_mse: 0.0427\n",
      "Epoch 39/100\n",
      "488/488 [==============================] - 1s 1ms/step - loss: 0.0165 - mse: 0.0165 - val_loss: 0.0435 - val_mse: 0.0435\n",
      "Epoch 40/100\n",
      "488/488 [==============================] - 1s 1ms/step - loss: 0.0165 - mse: 0.0165 - val_loss: 0.0436 - val_mse: 0.0436\n",
      "Epoch 41/100\n",
      "488/488 [==============================] - 1s 1ms/step - loss: 0.0166 - mse: 0.0166 - val_loss: 0.0422 - val_mse: 0.0422\n",
      "Epoch 42/100\n",
      "488/488 [==============================] - 1s 1ms/step - loss: 0.0165 - mse: 0.0165 - val_loss: 0.0434 - val_mse: 0.0434\n",
      "Epoch 43/100\n",
      "488/488 [==============================] - 1s 1ms/step - loss: 0.0161 - mse: 0.0161 - val_loss: 0.0434 - val_mse: 0.0434\n",
      "Epoch 44/100\n",
      "488/488 [==============================] - 1s 1ms/step - loss: 0.0164 - mse: 0.0164 - val_loss: 0.0436 - val_mse: 0.0436\n",
      "Epoch 45/100\n",
      "488/488 [==============================] - 1s 1ms/step - loss: 0.0162 - mse: 0.0162 - val_loss: 0.0434 - val_mse: 0.0434\n",
      "Epoch 46/100\n",
      "488/488 [==============================] - 1s 1ms/step - loss: 0.0163 - mse: 0.0163 - val_loss: 0.0432 - val_mse: 0.0432\n",
      "Epoch 47/100\n",
      "488/488 [==============================] - 1s 1ms/step - loss: 0.0161 - mse: 0.0161 - val_loss: 0.0458 - val_mse: 0.0458\n",
      "Epoch 48/100\n",
      "488/488 [==============================] - 1s 1ms/step - loss: 0.0161 - mse: 0.0161 - val_loss: 0.0442 - val_mse: 0.0442\n",
      "Epoch 49/100\n",
      "488/488 [==============================] - 1s 1ms/step - loss: 0.0161 - mse: 0.0161 - val_loss: 0.0450 - val_mse: 0.0450\n",
      "Epoch 50/100\n",
      "488/488 [==============================] - 1s 1ms/step - loss: 0.0162 - mse: 0.0162 - val_loss: 0.0438 - val_mse: 0.0438\n",
      "Epoch 51/100\n",
      "488/488 [==============================] - 1s 1ms/step - loss: 0.0161 - mse: 0.0161 - val_loss: 0.0432 - val_mse: 0.0432\n",
      "Epoch 52/100\n",
      "488/488 [==============================] - 1s 1ms/step - loss: 0.0163 - mse: 0.0163 - val_loss: 0.0447 - val_mse: 0.0447\n",
      "Epoch 53/100\n",
      "488/488 [==============================] - 1s 1ms/step - loss: 0.0158 - mse: 0.0158 - val_loss: 0.0456 - val_mse: 0.0456\n",
      "Epoch 54/100\n",
      "488/488 [==============================] - 1s 1ms/step - loss: 0.0161 - mse: 0.0161 - val_loss: 0.0457 - val_mse: 0.0457\n",
      "Epoch 55/100\n",
      "488/488 [==============================] - 1s 1ms/step - loss: 0.0156 - mse: 0.0156 - val_loss: 0.0466 - val_mse: 0.0466\n",
      "Epoch 56/100\n",
      "488/488 [==============================] - 1s 1ms/step - loss: 0.0157 - mse: 0.0157 - val_loss: 0.0480 - val_mse: 0.0480\n",
      "Epoch 57/100\n",
      "488/488 [==============================] - 1s 1ms/step - loss: 0.0156 - mse: 0.0156 - val_loss: 0.0470 - val_mse: 0.0470\n",
      "Epoch 58/100\n",
      "488/488 [==============================] - 1s 1ms/step - loss: 0.0158 - mse: 0.0158 - val_loss: 0.0472 - val_mse: 0.0472\n",
      "Epoch 59/100\n",
      "488/488 [==============================] - 1s 1ms/step - loss: 0.0159 - mse: 0.0159 - val_loss: 0.0465 - val_mse: 0.0465\n",
      "Epoch 60/100\n",
      "488/488 [==============================] - 1s 1ms/step - loss: 0.0156 - mse: 0.0156 - val_loss: 0.0471 - val_mse: 0.0471\n",
      "Epoch 61/100\n",
      "488/488 [==============================] - 1s 1ms/step - loss: 0.0157 - mse: 0.0157 - val_loss: 0.0461 - val_mse: 0.0461\n",
      "Epoch 62/100\n",
      "488/488 [==============================] - 1s 1ms/step - loss: 0.0157 - mse: 0.0157 - val_loss: 0.0486 - val_mse: 0.0486\n",
      "Epoch 63/100\n",
      "488/488 [==============================] - 1s 1ms/step - loss: 0.0156 - mse: 0.0156 - val_loss: 0.0471 - val_mse: 0.0471\n",
      "Epoch 64/100\n",
      "488/488 [==============================] - 1s 1ms/step - loss: 0.0155 - mse: 0.0155 - val_loss: 0.0473 - val_mse: 0.0473\n",
      "Epoch 65/100\n",
      "488/488 [==============================] - 1s 1ms/step - loss: 0.0155 - mse: 0.0155 - val_loss: 0.0481 - val_mse: 0.0481\n",
      "Epoch 66/100\n",
      "488/488 [==============================] - 1s 1ms/step - loss: 0.0156 - mse: 0.0156 - val_loss: 0.0474 - val_mse: 0.0474\n",
      "Epoch 67/100\n",
      "488/488 [==============================] - 1s 1ms/step - loss: 0.0158 - mse: 0.0158 - val_loss: 0.0473 - val_mse: 0.0473\n",
      "Epoch 68/100\n",
      "488/488 [==============================] - 1s 1ms/step - loss: 0.0156 - mse: 0.0156 - val_loss: 0.0466 - val_mse: 0.0466\n",
      "Epoch 69/100\n",
      "488/488 [==============================] - 1s 1ms/step - loss: 0.0154 - mse: 0.0154 - val_loss: 0.0486 - val_mse: 0.0486\n",
      "Epoch 70/100\n",
      "488/488 [==============================] - 1s 1ms/step - loss: 0.0154 - mse: 0.0154 - val_loss: 0.0477 - val_mse: 0.0477\n",
      "Epoch 71/100\n",
      "488/488 [==============================] - 1s 1ms/step - loss: 0.0153 - mse: 0.0153 - val_loss: 0.0463 - val_mse: 0.0463\n",
      "Epoch 72/100\n",
      "488/488 [==============================] - 1s 1ms/step - loss: 0.0153 - mse: 0.0153 - val_loss: 0.0482 - val_mse: 0.0482\n",
      "Epoch 73/100\n",
      "488/488 [==============================] - 1s 1ms/step - loss: 0.0152 - mse: 0.0152 - val_loss: 0.0483 - val_mse: 0.0483\n",
      "Epoch 74/100\n",
      "488/488 [==============================] - 1s 1ms/step - loss: 0.0152 - mse: 0.0152 - val_loss: 0.0503 - val_mse: 0.0503\n",
      "Epoch 75/100\n",
      "488/488 [==============================] - 1s 1ms/step - loss: 0.0153 - mse: 0.0153 - val_loss: 0.0493 - val_mse: 0.0493\n",
      "Epoch 76/100\n",
      "488/488 [==============================] - 1s 1ms/step - loss: 0.0153 - mse: 0.0153 - val_loss: 0.0480 - val_mse: 0.0480\n",
      "Epoch 77/100\n",
      "488/488 [==============================] - 1s 1ms/step - loss: 0.0151 - mse: 0.0151 - val_loss: 0.0473 - val_mse: 0.0473\n",
      "Epoch 78/100\n",
      "488/488 [==============================] - 1s 1ms/step - loss: 0.0152 - mse: 0.0152 - val_loss: 0.0478 - val_mse: 0.0478\n",
      "Epoch 79/100\n",
      "488/488 [==============================] - 1s 1ms/step - loss: 0.0152 - mse: 0.0152 - val_loss: 0.0486 - val_mse: 0.0486\n",
      "Epoch 80/100\n",
      "488/488 [==============================] - 1s 1ms/step - loss: 0.0150 - mse: 0.0150 - val_loss: 0.0503 - val_mse: 0.0503\n",
      "Epoch 81/100\n",
      "488/488 [==============================] - 1s 1ms/step - loss: 0.0149 - mse: 0.0149 - val_loss: 0.0487 - val_mse: 0.0487\n",
      "Epoch 82/100\n",
      "488/488 [==============================] - 1s 1ms/step - loss: 0.0151 - mse: 0.0151 - val_loss: 0.0484 - val_mse: 0.0484\n",
      "Epoch 83/100\n",
      "488/488 [==============================] - 1s 1ms/step - loss: 0.0151 - mse: 0.0151 - val_loss: 0.0483 - val_mse: 0.0483\n",
      "Epoch 84/100\n",
      "488/488 [==============================] - 1s 1ms/step - loss: 0.0152 - mse: 0.0152 - val_loss: 0.0493 - val_mse: 0.0493\n",
      "Epoch 85/100\n",
      "488/488 [==============================] - 1s 1ms/step - loss: 0.0153 - mse: 0.0153 - val_loss: 0.0504 - val_mse: 0.0504\n",
      "Epoch 86/100\n",
      "488/488 [==============================] - 1s 1ms/step - loss: 0.0151 - mse: 0.0151 - val_loss: 0.0489 - val_mse: 0.0489\n",
      "Epoch 87/100\n",
      "488/488 [==============================] - 1s 1ms/step - loss: 0.0151 - mse: 0.0151 - val_loss: 0.0503 - val_mse: 0.0503\n",
      "Epoch 88/100\n",
      "488/488 [==============================] - 1s 1ms/step - loss: 0.0151 - mse: 0.0151 - val_loss: 0.0496 - val_mse: 0.0496\n",
      "Epoch 89/100\n",
      "488/488 [==============================] - 1s 1ms/step - loss: 0.0149 - mse: 0.0149 - val_loss: 0.0483 - val_mse: 0.0483\n",
      "Epoch 90/100\n",
      "488/488 [==============================] - 1s 1ms/step - loss: 0.0148 - mse: 0.0148 - val_loss: 0.0496 - val_mse: 0.0496\n",
      "Epoch 91/100\n",
      "488/488 [==============================] - 1s 1ms/step - loss: 0.0150 - mse: 0.0150 - val_loss: 0.0503 - val_mse: 0.0503\n",
      "Epoch 92/100\n",
      "488/488 [==============================] - 1s 1ms/step - loss: 0.0151 - mse: 0.0151 - val_loss: 0.0483 - val_mse: 0.0483\n",
      "Epoch 93/100\n",
      "488/488 [==============================] - 1s 1ms/step - loss: 0.0148 - mse: 0.0148 - val_loss: 0.0508 - val_mse: 0.0508\n",
      "Epoch 94/100\n",
      "488/488 [==============================] - 1s 1ms/step - loss: 0.0148 - mse: 0.0148 - val_loss: 0.0489 - val_mse: 0.0489\n",
      "Epoch 95/100\n",
      "488/488 [==============================] - 1s 1ms/step - loss: 0.0149 - mse: 0.0149 - val_loss: 0.0512 - val_mse: 0.0512\n",
      "Epoch 96/100\n",
      "488/488 [==============================] - 1s 1ms/step - loss: 0.0149 - mse: 0.0149 - val_loss: 0.0505 - val_mse: 0.0505\n",
      "Epoch 97/100\n",
      "488/488 [==============================] - 1s 1ms/step - loss: 0.0149 - mse: 0.0149 - val_loss: 0.0486 - val_mse: 0.0486\n",
      "Epoch 98/100\n",
      "488/488 [==============================] - 1s 1ms/step - loss: 0.0148 - mse: 0.0148 - val_loss: 0.0530 - val_mse: 0.0530\n",
      "Epoch 99/100\n",
      "488/488 [==============================] - 1s 1ms/step - loss: 0.0149 - mse: 0.0149 - val_loss: 0.0487 - val_mse: 0.0487\n",
      "Epoch 100/100\n",
      "488/488 [==============================] - 1s 1ms/step - loss: 0.0147 - mse: 0.0147 - val_loss: 0.0509 - val_mse: 0.0509\n"
     ]
    },
    {
     "data": {
      "text/plain": [
       "0.044209275"
      ]
     },
     "execution_count": 103,
     "metadata": {},
     "output_type": "execute_result"
    }
   ],
   "source": [
    "in_dim = xtrain.shape[1]\n",
    "out_dim = ytrain.shape[1]\n",
    "\n",
    "\n",
    "model = Sequential()\n",
    "model.add(Dense(8, activation=\"relu\"))\n",
    "model.add(Dense(4, activation=\"relu\"))\n",
    "model.add(Dense(2, activation=\"relu\"))\n",
    "\n",
    "model.add(Dense(out_dim))\n",
    "model.compile(loss=\"mse\", metrics = ['mse'], optimizer=\"adam\")\n",
    "\n",
    "\n",
    "model.fit(xtrain, ytrain, epochs=100, batch_size=2, validation_split = 0.2, verbose=1)\n",
    "ypred = model.predict(xtest)\n",
    "\n",
    "score = tf.keras.metrics.mean_squared_error(\n",
    "    ytest, ypred\n",
    ")\n",
    "score= np.array(score)\n",
    "score.mean()"
   ]
  }
 ],
 "metadata": {
  "interpreter": {
   "hash": "a9205b650ad9b26ded1fb73bba57cf404cfc03cd0c8186ebe669ad7e6a2a6143"
  },
  "kernelspec": {
   "display_name": "Python 3.8.5 64-bit ('ai4halth': conda)",
   "name": "python3"
  },
  "language_info": {
   "codemirror_mode": {
    "name": "ipython",
    "version": 3
   },
   "file_extension": ".py",
   "mimetype": "text/x-python",
   "name": "python",
   "nbconvert_exporter": "python",
   "pygments_lexer": "ipython3",
   "version": "3.8.5"
  },
  "orig_nbformat": 4
 },
 "nbformat": 4,
 "nbformat_minor": 2
}
