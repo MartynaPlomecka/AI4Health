{
  "nbformat": 4,
  "nbformat_minor": 0,
  "metadata": {
    "colab": {
      "name": "Classification.ipynb",
      "provenance": [],
      "authorship_tag": "ABX9TyP6DGq2guFd0TgVCjLgOtPq",
      "include_colab_link": true
    },
    "kernelspec": {
      "name": "python3",
      "display_name": "Python 3"
    },
    "language_info": {
      "name": "python"
    }
  },
  "cells": [
    {
      "cell_type": "markdown",
      "metadata": {
        "id": "view-in-github",
        "colab_type": "text"
      },
      "source": [
        "<a href=\"https://colab.research.google.com/github/MartynaPlomecka/AI4Health/blob/main/Classification.ipynb\" target=\"_parent\"><img src=\"https://colab.research.google.com/assets/colab-badge.svg\" alt=\"Open In Colab\"/></a>"
      ]
    },
    {
      "cell_type": "code",
      "metadata": {
        "id": "LTuJqRCzNW07"
      },
      "source": [
        "import pandas as pd\n",
        "import numpy as np\n",
        "from numpy import mean\n",
        "from numpy import std\n",
        "from pandas import read_csv\n",
        "import seaborn as sns\n",
        "import matplotlib.pyplot as plt\n",
        "sns.set_theme(style=\"ticks\", color_codes=True)\n",
        "\n",
        "from sklearn.pipeline import make_pipeline\n",
        "from sklearn.svm import SVC\n",
        "from sklearn.linear_model import SGDClassifier\n",
        "from sklearn.preprocessing import StandardScaler\n",
        "from sklearn.model_selection import cross_val_score\n",
        "from sklearn.datasets import make_classification\n",
        "from sklearn.model_selection import train_test_split\n",
        "from sklearn import svm\n",
        "from sklearn.preprocessing import LabelEncoder\n",
        "from sklearn.model_selection import cross_val_score\n",
        "from sklearn.model_selection import RepeatedStratifiedKFold\n",
        "from sklearn.ensemble import RandomForestClassifier\n",
        "\n",
        "import imblearn\n",
        "from collections import Counter\n",
        "from sklearn.datasets import make_classification\n",
        "from matplotlib import pyplot\n",
        "from numpy import where\n",
        "from imblearn.over_sampling import SMOTE\n",
        "from collections import Counter\n",
        "from matplotlib import pyplot\n",
        "from sklearn.preprocessing import LabelEncoder\n",
        "\n",
        "\n",
        "import pandas as pd\n",
        "import numpy as np\n",
        "import seaborn as sns\n",
        "import matplotlib.pyplot as plt\n",
        "sns.set_theme(style=\"ticks\", color_codes=True)"
      ],
      "execution_count": 24,
      "outputs": []
    },
    {
      "cell_type": "markdown",
      "metadata": {
        "id": "S9HCo3IeQDfM"
      },
      "source": [
        "# Dataframe preparation"
      ]
    },
    {
      "cell_type": "code",
      "metadata": {
        "id": "dNJcHa61Na91"
      },
      "source": [
        "beh = pd.read_csv(\"behaviorals.csv\")\n",
        "foof = pd.read_csv(\"foof2features.csv\")\n",
        "foof = foof.rename(columns={\"C1\": \"IDs\" ,\"C2\": \"Intercept\", \"C3\": \"Slope\"})"
      ],
      "execution_count": 25,
      "outputs": []
    },
    {
      "cell_type": "code",
      "metadata": {
        "colab": {
          "base_uri": "https://localhost:8080/"
        },
        "id": "OD5rhB3NPBdP",
        "outputId": "e41e82cc-4ad0-4ed4-8179-8b7824e529d3"
      },
      "source": [
        "df = pd.merge( foof, beh, on='IDs', how='inner')\n",
        "#df.head(50)\n",
        "print(len(df.index))\n",
        "print(df['DX_01_Cat'].value_counts())"
      ],
      "execution_count": 26,
      "outputs": [
        {
          "output_type": "stream",
          "name": "stdout",
          "text": [
            "1930\n",
            "Neurodevelopmental Disorders                                  1256\n",
            "Anxiety Disorders                                              241\n",
            "No Diagnosis Given                                             203\n",
            "Depressive Disorders                                            85\n",
            "Disruptive, Impulse Control and Conduct Disorders               46\n",
            "Trauma and Stressor Related Disorders                           30\n",
            "Obsessive Compulsive and Related Disorders                      18\n",
            "Elimination Disorders                                           13\n",
            "Other Conditions That May Be a Focus of Clinical Attention      11\n",
            "No Diagnosis Given: Incomplete Eval                              9\n",
            "Bipolar and Related Disorders                                    6\n",
            "Feeding and Eating Disorders                                     3\n",
            "Schizophrenia Spectrum and other Psychotic Disorders             3\n",
            "Neurocognitive Disorders                                         2\n",
            "Name: DX_01_Cat, dtype: int64\n"
          ]
        }
      ]
    },
    {
      "cell_type": "code",
      "metadata": {
        "colab": {
          "base_uri": "https://localhost:8080/"
        },
        "id": "4OPE3ns4PxKa",
        "outputId": "e661e502-5731-4a7e-f322-009a77fc3775"
      },
      "source": [
        "categories = 10\n",
        "df2 = df.loc[df['DX_01_Cat'].isin(df['DX_01_Cat'].value_counts()[:categories].index.tolist())]\n",
        "#print(df2['DX_01'])\n",
        "print(df2['DX_01_Cat'].value_counts())\n",
        "df2 = df2.rename(columns={\"DX_01_Cat\": \"DiagnosisCategory\"})\n",
        "len(df2.index)\n"
      ],
      "execution_count": 27,
      "outputs": [
        {
          "output_type": "stream",
          "name": "stdout",
          "text": [
            "Neurodevelopmental Disorders                                  1256\n",
            "Anxiety Disorders                                              241\n",
            "No Diagnosis Given                                             203\n",
            "Depressive Disorders                                            85\n",
            "Disruptive, Impulse Control and Conduct Disorders               46\n",
            "Trauma and Stressor Related Disorders                           30\n",
            "Obsessive Compulsive and Related Disorders                      18\n",
            "Elimination Disorders                                           13\n",
            "Other Conditions That May Be a Focus of Clinical Attention      11\n",
            "No Diagnosis Given: Incomplete Eval                              9\n",
            "Name: DX_01_Cat, dtype: int64\n"
          ]
        },
        {
          "output_type": "execute_result",
          "data": {
            "text/plain": [
              "1912"
            ]
          },
          "metadata": {},
          "execution_count": 27
        }
      ]
    },
    {
      "cell_type": "code",
      "metadata": {
        "id": "JlGBzc6SQb_y"
      },
      "source": [
        "df2[\"label\"] = df2[\"DiagnosisCategory\"] \n",
        "df = df2"
      ],
      "execution_count": 28,
      "outputs": []
    },
    {
      "cell_type": "markdown",
      "metadata": {
        "id": "lXv3z2q7Sn2R"
      },
      "source": [
        "## Neurodevelopmental disorders are heavily overrepresented, that's why we divide this category for 3 subcategories:\n",
        "### 1. ADHD combined type, \n",
        "### 2. ADHD Inattentive type, \n",
        "### 3. other neurodevelopmental disorders:"
      ]
    },
    {
      "cell_type": "code",
      "metadata": {
        "id": "eGJTjvDDSPyO"
      },
      "source": [
        "df.loc[df.DX_01 == \"ADHD-Combined Type\"  , ['label']] = 'ADHD-Combined Type'"
      ],
      "execution_count": 29,
      "outputs": []
    },
    {
      "cell_type": "code",
      "metadata": {
        "id": "Kz8CXCUqSP5E"
      },
      "source": [
        "df.loc[df.DX_01 == \"ADHD-Inattentive Type\"  , ['label']] = 'ADHD-Inattentive Type'"
      ],
      "execution_count": 30,
      "outputs": []
    },
    {
      "cell_type": "code",
      "metadata": {
        "id": "znlq1osNUAno"
      },
      "source": [
        "df.loc[df.label == \"Neurodevelopmental Disorders\"  , ['label']] = 'Other Neurodevelopmental Disorders'\n"
      ],
      "execution_count": 31,
      "outputs": []
    },
    {
      "cell_type": "code",
      "metadata": {
        "colab": {
          "base_uri": "https://localhost:8080/"
        },
        "id": "0UJ0JOrKOgWK",
        "outputId": "31dbf856-8410-4474-a681-a864da99a85e"
      },
      "source": [
        "#choose only 6 categories\n",
        "categories = 6\n",
        "df = df.loc[df['label'].isin(df['label'].value_counts()[:categories].index.tolist())]\n",
        "#print(df2['DX_01'])\n",
        "print(df['label'].value_counts())\n",
        "len(df.index)"
      ],
      "execution_count": 32,
      "outputs": [
        {
          "output_type": "stream",
          "name": "stdout",
          "text": [
            "Other Neurodevelopmental Disorders    492\n",
            "ADHD-Inattentive Type                 388\n",
            "ADHD-Combined Type                    376\n",
            "Anxiety Disorders                     241\n",
            "No Diagnosis Given                    203\n",
            "Depressive Disorders                   85\n",
            "Name: label, dtype: int64\n"
          ]
        },
        {
          "output_type": "execute_result",
          "data": {
            "text/plain": [
              "1785"
            ]
          },
          "metadata": {},
          "execution_count": 32
        }
      ]
    },
    {
      "cell_type": "markdown",
      "metadata": {
        "id": "bakpJ0rXPvem"
      },
      "source": [
        "# Start with classification"
      ]
    },
    {
      "cell_type": "code",
      "metadata": {
        "id": "ZP4MtiQFQBj3"
      },
      "source": [
        "#lets run classification with the 2 features only :  intercept and slope\n",
        "\n",
        "### here the features and labels:\n",
        "X = df[['Intercept', 'Slope']].to_numpy()\n",
        "y = df['label'].to_numpy()"
      ],
      "execution_count": 33,
      "outputs": []
    },
    {
      "cell_type": "markdown",
      "metadata": {
        "id": "djmt53eKT0pq"
      },
      "source": [
        "### first shot: SVC"
      ]
    },
    {
      "cell_type": "code",
      "metadata": {
        "colab": {
          "base_uri": "https://localhost:8080/"
        },
        "id": "onZMsngLThL0",
        "outputId": "7524f275-bbba-4e1b-b676-3b626d01b75a"
      },
      "source": [
        "#SVC\n",
        "clf = make_pipeline(StandardScaler(), SVC(gamma='auto'))\n",
        "clf.fit(X, y)\n",
        "\n",
        "scores = cross_val_score(clf, X, y, cv=5)\n",
        "score = mean(scores)\n",
        "score"
      ],
      "execution_count": 34,
      "outputs": [
        {
          "output_type": "execute_result",
          "data": {
            "text/plain": [
              "0.27450980392156865"
            ]
          },
          "metadata": {},
          "execution_count": 34
        }
      ]
    },
    {
      "cell_type": "markdown",
      "metadata": {
        "id": "jHfZF7LdUbiO"
      },
      "source": [
        "## Dealing with inbalanced dataset:"
      ]
    },
    {
      "cell_type": "code",
      "metadata": {
        "colab": {
          "base_uri": "https://localhost:8080/"
        },
        "id": "SMcT5ZruUuU0",
        "outputId": "0f2f5791-4d4f-4dd7-8394-2efe7c102712"
      },
      "source": [
        "# summarize class distribution\n",
        "counter = Counter(y)\n",
        "print(counter)"
      ],
      "execution_count": 35,
      "outputs": [
        {
          "output_type": "stream",
          "name": "stdout",
          "text": [
            "Counter({'Other Neurodevelopmental Disorders': 492, 'ADHD-Inattentive Type': 388, 'ADHD-Combined Type': 376, 'Anxiety Disorders': 241, 'No Diagnosis Given': 203, 'Depressive Disorders': 85})\n"
          ]
        }
      ]
    },
    {
      "cell_type": "code",
      "metadata": {
        "colab": {
          "base_uri": "https://localhost:8080/",
          "height": 382
        },
        "id": "slMGKSEmU9Bw",
        "outputId": "afa879bd-d2ee-4996-93ec-fb6a0e36d3b7"
      },
      "source": [
        "sns.catplot(y=\"label\", kind=\"count\", palette=\"ch:.25\", data=df)"
      ],
      "execution_count": 36,
      "outputs": [
        {
          "output_type": "execute_result",
          "data": {
            "text/plain": [
              "<seaborn.axisgrid.FacetGrid at 0x7f27d35dac90>"
            ]
          },
          "metadata": {},
          "execution_count": 36
        },
        {
          "output_type": "display_data",
          "data": {
            "image/png": "[encoded data removed]",
            "text/plain": [
              "<Figure size 360x360 with 1 Axes>"
            ]
          },
          "metadata": {}
        }
      ]
    },
    {
      "cell_type": "code",
      "metadata": {
        "colab": {
          "base_uri": "https://localhost:8080/"
        },
        "id": "nceu6izEXtD4",
        "outputId": "90d3ea7c-8e5f-4f89-d81e-67009bf5efed"
      },
      "source": [
        "# transform the dataset\n",
        "oversample = SMOTE()\n",
        "X, y = oversample.fit_resample(X, y)\n",
        "# summarize the new class distribution\n",
        "counter = Counter(y)\n",
        "print(counter)"
      ],
      "execution_count": 37,
      "outputs": [
        {
          "output_type": "stream",
          "name": "stdout",
          "text": [
            "Counter({'No Diagnosis Given': 492, 'ADHD-Combined Type': 492, 'Depressive Disorders': 492, 'ADHD-Inattentive Type': 492, 'Other Neurodevelopmental Disorders': 492, 'Anxiety Disorders': 492})\n"
          ]
        },
        {
          "output_type": "stream",
          "name": "stderr",
          "text": [
            "/usr/local/lib/python3.7/dist-packages/sklearn/utils/deprecation.py:87: FutureWarning: Function safe_indexing is deprecated; safe_indexing is deprecated in version 0.22 and will be removed in version 0.24.\n",
            "  warnings.warn(msg, category=FutureWarning)\n",
            "/usr/local/lib/python3.7/dist-packages/sklearn/utils/deprecation.py:87: FutureWarning: Function safe_indexing is deprecated; safe_indexing is deprecated in version 0.22 and will be removed in version 0.24.\n",
            "  warnings.warn(msg, category=FutureWarning)\n",
            "/usr/local/lib/python3.7/dist-packages/sklearn/utils/deprecation.py:87: FutureWarning: Function safe_indexing is deprecated; safe_indexing is deprecated in version 0.22 and will be removed in version 0.24.\n",
            "  warnings.warn(msg, category=FutureWarning)\n",
            "/usr/local/lib/python3.7/dist-packages/sklearn/utils/deprecation.py:87: FutureWarning: Function safe_indexing is deprecated; safe_indexing is deprecated in version 0.22 and will be removed in version 0.24.\n",
            "  warnings.warn(msg, category=FutureWarning)\n",
            "/usr/local/lib/python3.7/dist-packages/sklearn/utils/deprecation.py:87: FutureWarning: Function safe_indexing is deprecated; safe_indexing is deprecated in version 0.22 and will be removed in version 0.24.\n",
            "  warnings.warn(msg, category=FutureWarning)\n"
          ]
        }
      ]
    },
    {
      "cell_type": "code",
      "metadata": {
        "colab": {
          "base_uri": "https://localhost:8080/",
          "height": 268
        },
        "id": "GeZdIpPlXya2",
        "outputId": "b35c7036-8d81-4913-d123-6b4dd95c2752"
      },
      "source": [
        "#summarize the oversampled distribution\n",
        "counter = Counter(y)\n",
        "for k,v in counter.items():\n",
        "\tper = v / len(y) * 100\n",
        "# plot the distribution\n",
        "pyplot.bar(counter.keys(), counter.values())\n",
        "pyplot.show()"
      ],
      "execution_count": 38,
      "outputs": [
        {
          "output_type": "display_data",
          "data": {
            "image/png": "[encoded data removed]",
            "text/plain": [
              "<Figure size 432x288 with 1 Axes>"
            ]
          },
          "metadata": {}
        }
      ]
    },
    {
      "cell_type": "markdown",
      "metadata": {
        "id": "RTvL1mNmYAB7"
      },
      "source": [
        "## Cost-Sensitive Learning for Multi-Class Classification\n"
      ]
    },
    {
      "cell_type": "code",
      "metadata": {
        "colab": {
          "base_uri": "https://localhost:8080/"
        },
        "id": "R0oVhaKdX6Ms",
        "outputId": "e3fd34c5-fcf8-4ff6-f44a-781b5e409ecf"
      },
      "source": [
        "# cost sensitive random forest with default class weights\n",
        "#naive baseline = 0.16666\n",
        "# evaluate a model\n",
        "def evaluate_model(X, y, model):\n",
        "\t# define evaluation procedure\n",
        "\tcv = RepeatedStratifiedKFold(n_splits=5, n_repeats=3, random_state=1)\n",
        "\t# evaluate model\n",
        "\tscores = cross_val_score(model, X, y, scoring='accuracy', cv=cv, n_jobs=-1)\n",
        "\treturn scores\n",
        "\n",
        "# define the model\n",
        "model = RandomForestClassifier(n_estimators=1000, class_weight='balanced')\n",
        "# evaluate the model\n",
        "scores = evaluate_model(X, y, model)\n",
        "# summarize performance\n",
        "print('Mean Accuracy: %.3f (%.3f)' % (mean(scores), std(scores)))"
      ],
      "execution_count": 39,
      "outputs": [
        {
          "output_type": "stream",
          "name": "stdout",
          "text": [
            "Mean Accuracy: 0.405 (0.021)\n"
          ]
        }
      ]
    }
  ]
}