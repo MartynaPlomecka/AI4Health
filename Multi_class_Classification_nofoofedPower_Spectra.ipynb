{
  "nbformat": 4,
  "nbformat_minor": 0,
  "metadata": {
    "accelerator": "GPU",
    "colab": {
      "name": "Multi_class_Classification_nofoofedPower_Spectra.ipynb",
      "provenance": [],
      "collapsed_sections": [],
      "machine_shape": "hm"
    },
    "interpreter": {
      "hash": "a9205b650ad9b26ded1fb73bba57cf404cfc03cd0c8186ebe669ad7e6a2a6143"
    },
    "kernelspec": {
      "display_name": "Python 3.8.5 64-bit ('ai4halth': conda)",
      "name": "python3"
    },
    "language_info": {
      "codemirror_mode": {
        "name": "ipython",
        "version": 3
      },
      "file_extension": ".py",
      "mimetype": "text/x-python",
      "name": "python",
      "nbconvert_exporter": "python",
      "pygments_lexer": "ipython3",
      "version": "3.8.5"
    }
  },
  "cells": [
    {
      "cell_type": "code",
      "metadata": {
        "id": "IjsCisv7FvHs"
      },
      "source": [
        "import scipy.io\n",
        "import numpy as np\n",
        "import pandas as pd\n",
        "import matplotlib.pyplot as plt\n",
        "\n",
        "from sklearn.model_selection import train_test_split\n",
        "from imblearn.over_sampling import SMOTE\n",
        "\n",
        "import tensorflow as tf\n",
        "from tensorflow.keras.models import Model, load_model\n",
        "from tensorflow.keras.layers import Input, Dense, LeakyReLU, BatchNormalization\n",
        "from tensorflow.keras.utils import plot_model, to_categorical\n"
      ],
      "execution_count": 1,
      "outputs": []
    },
    {
      "cell_type": "markdown",
      "metadata": {
        "id": "LKPjAw07FvH2"
      },
      "source": [
        "## Data Loading and Processing"
      ]
    },
    {
      "cell_type": "code",
      "metadata": {
        "id": "o5QNdMC-111Y"
      },
      "source": [
        "import os\n",
        "\n",
        "DATA_DIR = ''\n",
        "if 'google.colab' not in str(get_ipython()) and \"anuja\" in os.environ.get('USER'):\n",
        "    DATA_DIR = 'data/'\n"
      ],
      "execution_count": 2,
      "outputs": []
    },
    {
      "cell_type": "code",
      "metadata": {
        "colab": {
          "base_uri": "https://localhost:8080/"
        },
        "id": "IyFwAfLNFvH6",
        "outputId": "826b2a72-9025-4603-c15c-8a94fef4a19e"
      },
      "source": [
        "# data loading\n",
        "data = scipy.io.loadmat(DATA_DIR+'x_nofoof.mat')  \n",
        "print(data['x'].shape)\n",
        "\n",
        "columns = np.asarray([['Electrode %d - %d/2 Hz'%(i+1, j+1)] for i in range(data['x'].shape[1]) for j in range(data['x'].shape[2])])\n",
        "labels = pd.read_csv(\"table_withlabels.csv\")\n",
        "foof = pd.read_csv(\"foof2features.csv\")\n",
        "beh = pd.read_csv(\"behaviorals.csv\")\n",
        "df = pd.DataFrame(data['x'].reshape((data['x'].shape[0], -1)))\n",
        "df.columns = columns\n",
        "df['IDs'] = foof['C1']\n",
        "df = pd.merge(df, labels[['label', 'IDs']], on='IDs', how='inner')\n",
        "print(df['label'].value_counts())"
      ],
      "execution_count": 3,
      "outputs": [
        {
          "output_type": "stream",
          "name": "stdout",
          "text": [
            "(2056, 105, 79)\n",
            "Other Neurodevelopmental Disorders    492\n",
            "ADHD-Inattentive Type                 388\n",
            "ADHD-Combined Type                    376\n",
            "Anxiety Disorders                     241\n",
            "No Diagnosis Given                    203\n",
            "Depressive Disorders                   85\n",
            "Name: label, dtype: int64\n"
          ]
        }
      ]
    },
    {
      "cell_type": "code",
      "metadata": {
        "id": "yv-RgMHhFvH9"
      },
      "source": [
        "# add labels\n",
        "pd.options.mode.chained_assignment = None\n",
        "\n",
        "df.label[df.label == 'Other Neurodevelopmental Disorders'] = 1\n",
        "df.label[df.label == 'ADHD-Inattentive Type'] = 2\n",
        "df.label[df.label == 'ADHD-Combined Type'] = 3\n",
        "df.label[df.label == 'Anxiety Disorders'] = 4\n",
        "df.label[df.label == 'No Diagnosis Given'] = 5\n",
        "df.label[df.label == 'Depressive Disorders'] = 6\n",
        "df.label = df['label'].astype(int)\n",
        "labels = ['Other Neurodevelopmental Disorders', 'ADHD-Inattentive Type', 'ADHD-Combined Type', 'Anxiety Disorders', 'No Diagnosis Given', 'Depressive Disorders']"
      ],
      "execution_count": 4,
      "outputs": []
    },
    {
      "cell_type": "code",
      "metadata": {
        "colab": {
          "base_uri": "https://localhost:8080/",
          "height": 473
        },
        "id": "6WWZTLBRZfqv",
        "outputId": "8ad8c769-9204-4dec-d3be-0536e30d199a"
      },
      "source": [
        "#WE HAD NANS!!!\n",
        "df = pd.DataFrame(df)\n",
        "df.shape\n",
        "df.isnull().values.any()\n",
        "df.isnull().sum()\n",
        "df = df.dropna(axis='rows')\n",
        "df\n"
      ],
      "execution_count": 5,
      "outputs": [
        {
          "output_type": "execute_result",
          "data": {
            "text/html": [
              "<div>\n",
              "<style scoped>\n",
              "    .dataframe tbody tr th:only-of-type {\n",
              "        vertical-align: middle;\n",
              "    }\n",
              "\n",
              "    .dataframe tbody tr th {\n",
              "        vertical-align: top;\n",
              "    }\n",
              "\n",
              "    .dataframe thead th {\n",
              "        text-align: right;\n",
              "    }\n",
              "</style>\n",
              "<table border=\"1\" class=\"dataframe\">\n",
              "  <thead>\n",
              "    <tr style=\"text-align: right;\">\n",
              "      <th></th>\n",
              "      <th>(Electrode 1 - 1/2 Hz,)</th>\n",
              "      <th>(Electrode 1 - 2/2 Hz,)</th>\n",
              "      <th>(Electrode 1 - 3/2 Hz,)</th>\n",
              "      <th>(Electrode 1 - 4/2 Hz,)</th>\n",
              "      <th>(Electrode 1 - 5/2 Hz,)</th>\n",
              "      <th>(Electrode 1 - 6/2 Hz,)</th>\n",
              "      <th>(Electrode 1 - 7/2 Hz,)</th>\n",
              "      <th>(Electrode 1 - 8/2 Hz,)</th>\n",
              "      <th>(Electrode 1 - 9/2 Hz,)</th>\n",
              "      <th>(Electrode 1 - 10/2 Hz,)</th>\n",
              "      <th>(Electrode 1 - 11/2 Hz,)</th>\n",
              "      <th>(Electrode 1 - 12/2 Hz,)</th>\n",
              "      <th>(Electrode 1 - 13/2 Hz,)</th>\n",
              "      <th>(Electrode 1 - 14/2 Hz,)</th>\n",
              "      <th>(Electrode 1 - 15/2 Hz,)</th>\n",
              "      <th>(Electrode 1 - 16/2 Hz,)</th>\n",
              "      <th>(Electrode 1 - 17/2 Hz,)</th>\n",
              "      <th>(Electrode 1 - 18/2 Hz,)</th>\n",
              "      <th>(Electrode 1 - 19/2 Hz,)</th>\n",
              "      <th>(Electrode 1 - 20/2 Hz,)</th>\n",
              "      <th>(Electrode 1 - 21/2 Hz,)</th>\n",
              "      <th>(Electrode 1 - 22/2 Hz,)</th>\n",
              "      <th>(Electrode 1 - 23/2 Hz,)</th>\n",
              "      <th>(Electrode 1 - 24/2 Hz,)</th>\n",
              "      <th>(Electrode 1 - 25/2 Hz,)</th>\n",
              "      <th>(Electrode 1 - 26/2 Hz,)</th>\n",
              "      <th>(Electrode 1 - 27/2 Hz,)</th>\n",
              "      <th>(Electrode 1 - 28/2 Hz,)</th>\n",
              "      <th>(Electrode 1 - 29/2 Hz,)</th>\n",
              "      <th>(Electrode 1 - 30/2 Hz,)</th>\n",
              "      <th>(Electrode 1 - 31/2 Hz,)</th>\n",
              "      <th>(Electrode 1 - 32/2 Hz,)</th>\n",
              "      <th>(Electrode 1 - 33/2 Hz,)</th>\n",
              "      <th>(Electrode 1 - 34/2 Hz,)</th>\n",
              "      <th>(Electrode 1 - 35/2 Hz,)</th>\n",
              "      <th>(Electrode 1 - 36/2 Hz,)</th>\n",
              "      <th>(Electrode 1 - 37/2 Hz,)</th>\n",
              "      <th>(Electrode 1 - 38/2 Hz,)</th>\n",
              "      <th>(Electrode 1 - 39/2 Hz,)</th>\n",
              "      <th>(Electrode 1 - 40/2 Hz,)</th>\n",
              "      <th>...</th>\n",
              "      <th>(Electrode 105 - 42/2 Hz,)</th>\n",
              "      <th>(Electrode 105 - 43/2 Hz,)</th>\n",
              "      <th>(Electrode 105 - 44/2 Hz,)</th>\n",
              "      <th>(Electrode 105 - 45/2 Hz,)</th>\n",
              "      <th>(Electrode 105 - 46/2 Hz,)</th>\n",
              "      <th>(Electrode 105 - 47/2 Hz,)</th>\n",
              "      <th>(Electrode 105 - 48/2 Hz,)</th>\n",
              "      <th>(Electrode 105 - 49/2 Hz,)</th>\n",
              "      <th>(Electrode 105 - 50/2 Hz,)</th>\n",
              "      <th>(Electrode 105 - 51/2 Hz,)</th>\n",
              "      <th>(Electrode 105 - 52/2 Hz,)</th>\n",
              "      <th>(Electrode 105 - 53/2 Hz,)</th>\n",
              "      <th>(Electrode 105 - 54/2 Hz,)</th>\n",
              "      <th>(Electrode 105 - 55/2 Hz,)</th>\n",
              "      <th>(Electrode 105 - 56/2 Hz,)</th>\n",
              "      <th>(Electrode 105 - 57/2 Hz,)</th>\n",
              "      <th>(Electrode 105 - 58/2 Hz,)</th>\n",
              "      <th>(Electrode 105 - 59/2 Hz,)</th>\n",
              "      <th>(Electrode 105 - 60/2 Hz,)</th>\n",
              "      <th>(Electrode 105 - 61/2 Hz,)</th>\n",
              "      <th>(Electrode 105 - 62/2 Hz,)</th>\n",
              "      <th>(Electrode 105 - 63/2 Hz,)</th>\n",
              "      <th>(Electrode 105 - 64/2 Hz,)</th>\n",
              "      <th>(Electrode 105 - 65/2 Hz,)</th>\n",
              "      <th>(Electrode 105 - 66/2 Hz,)</th>\n",
              "      <th>(Electrode 105 - 67/2 Hz,)</th>\n",
              "      <th>(Electrode 105 - 68/2 Hz,)</th>\n",
              "      <th>(Electrode 105 - 69/2 Hz,)</th>\n",
              "      <th>(Electrode 105 - 70/2 Hz,)</th>\n",
              "      <th>(Electrode 105 - 71/2 Hz,)</th>\n",
              "      <th>(Electrode 105 - 72/2 Hz,)</th>\n",
              "      <th>(Electrode 105 - 73/2 Hz,)</th>\n",
              "      <th>(Electrode 105 - 74/2 Hz,)</th>\n",
              "      <th>(Electrode 105 - 75/2 Hz,)</th>\n",
              "      <th>(Electrode 105 - 76/2 Hz,)</th>\n",
              "      <th>(Electrode 105 - 77/2 Hz,)</th>\n",
              "      <th>(Electrode 105 - 78/2 Hz,)</th>\n",
              "      <th>(Electrode 105 - 79/2 Hz,)</th>\n",
              "      <th>IDs</th>\n",
              "      <th>label</th>\n",
              "    </tr>\n",
              "  </thead>\n",
              "  <tbody>\n",
              "    <tr>\n",
              "      <th>0</th>\n",
              "      <td>22.646692</td>\n",
              "      <td>21.409617</td>\n",
              "      <td>11.791191</td>\n",
              "      <td>7.654361</td>\n",
              "      <td>5.294041</td>\n",
              "      <td>4.281935</td>\n",
              "      <td>3.556075</td>\n",
              "      <td>2.891063</td>\n",
              "      <td>2.375165</td>\n",
              "      <td>2.321368</td>\n",
              "      <td>2.144142</td>\n",
              "      <td>2.316871</td>\n",
              "      <td>2.413091</td>\n",
              "      <td>2.602494</td>\n",
              "      <td>3.127900</td>\n",
              "      <td>6.126276</td>\n",
              "      <td>7.840128</td>\n",
              "      <td>7.945180</td>\n",
              "      <td>5.426339</td>\n",
              "      <td>2.599921</td>\n",
              "      <td>1.171686</td>\n",
              "      <td>0.834308</td>\n",
              "      <td>0.711654</td>\n",
              "      <td>0.581244</td>\n",
              "      <td>0.485108</td>\n",
              "      <td>0.411796</td>\n",
              "      <td>0.399999</td>\n",
              "      <td>0.357496</td>\n",
              "      <td>0.369367</td>\n",
              "      <td>0.334815</td>\n",
              "      <td>0.294607</td>\n",
              "      <td>0.285368</td>\n",
              "      <td>0.272610</td>\n",
              "      <td>0.295438</td>\n",
              "      <td>0.283785</td>\n",
              "      <td>0.299308</td>\n",
              "      <td>0.279714</td>\n",
              "      <td>0.244252</td>\n",
              "      <td>0.228658</td>\n",
              "      <td>0.204711</td>\n",
              "      <td>...</td>\n",
              "      <td>0.036439</td>\n",
              "      <td>0.036266</td>\n",
              "      <td>0.035957</td>\n",
              "      <td>0.036827</td>\n",
              "      <td>0.034125</td>\n",
              "      <td>0.031669</td>\n",
              "      <td>0.029758</td>\n",
              "      <td>0.028280</td>\n",
              "      <td>0.027731</td>\n",
              "      <td>0.028988</td>\n",
              "      <td>0.029513</td>\n",
              "      <td>0.026551</td>\n",
              "      <td>0.023687</td>\n",
              "      <td>0.021718</td>\n",
              "      <td>0.022060</td>\n",
              "      <td>0.022272</td>\n",
              "      <td>0.021688</td>\n",
              "      <td>0.020814</td>\n",
              "      <td>0.018080</td>\n",
              "      <td>0.016527</td>\n",
              "      <td>0.015884</td>\n",
              "      <td>0.014964</td>\n",
              "      <td>0.013776</td>\n",
              "      <td>0.013935</td>\n",
              "      <td>0.013940</td>\n",
              "      <td>0.013750</td>\n",
              "      <td>0.012560</td>\n",
              "      <td>0.013276</td>\n",
              "      <td>0.013812</td>\n",
              "      <td>0.014442</td>\n",
              "      <td>0.013248</td>\n",
              "      <td>0.011966</td>\n",
              "      <td>0.011954</td>\n",
              "      <td>0.011685</td>\n",
              "      <td>0.012114</td>\n",
              "      <td>0.011274</td>\n",
              "      <td>0.011133</td>\n",
              "      <td>0.009402</td>\n",
              "      <td>NDARAA075AMK</td>\n",
              "      <td>5</td>\n",
              "    </tr>\n",
              "    <tr>\n",
              "      <th>1</th>\n",
              "      <td>35.803485</td>\n",
              "      <td>31.315928</td>\n",
              "      <td>20.393061</td>\n",
              "      <td>13.173540</td>\n",
              "      <td>6.198943</td>\n",
              "      <td>4.636760</td>\n",
              "      <td>4.205091</td>\n",
              "      <td>4.182367</td>\n",
              "      <td>3.032023</td>\n",
              "      <td>2.775398</td>\n",
              "      <td>2.444941</td>\n",
              "      <td>2.215734</td>\n",
              "      <td>1.788818</td>\n",
              "      <td>1.638520</td>\n",
              "      <td>1.535773</td>\n",
              "      <td>1.319914</td>\n",
              "      <td>1.077808</td>\n",
              "      <td>0.813806</td>\n",
              "      <td>0.685941</td>\n",
              "      <td>0.547122</td>\n",
              "      <td>0.527190</td>\n",
              "      <td>0.506139</td>\n",
              "      <td>0.434129</td>\n",
              "      <td>0.361699</td>\n",
              "      <td>0.340934</td>\n",
              "      <td>0.308341</td>\n",
              "      <td>0.346585</td>\n",
              "      <td>0.307801</td>\n",
              "      <td>0.279930</td>\n",
              "      <td>0.252056</td>\n",
              "      <td>0.301698</td>\n",
              "      <td>0.325598</td>\n",
              "      <td>0.357748</td>\n",
              "      <td>0.354070</td>\n",
              "      <td>0.306328</td>\n",
              "      <td>0.255585</td>\n",
              "      <td>0.231481</td>\n",
              "      <td>0.228635</td>\n",
              "      <td>0.211165</td>\n",
              "      <td>0.210914</td>\n",
              "      <td>...</td>\n",
              "      <td>0.185115</td>\n",
              "      <td>0.150531</td>\n",
              "      <td>0.140546</td>\n",
              "      <td>0.135327</td>\n",
              "      <td>0.136179</td>\n",
              "      <td>0.127057</td>\n",
              "      <td>0.124557</td>\n",
              "      <td>0.124492</td>\n",
              "      <td>0.099661</td>\n",
              "      <td>0.083384</td>\n",
              "      <td>0.085427</td>\n",
              "      <td>0.099015</td>\n",
              "      <td>0.095276</td>\n",
              "      <td>0.075890</td>\n",
              "      <td>0.076641</td>\n",
              "      <td>0.060247</td>\n",
              "      <td>0.064177</td>\n",
              "      <td>0.060440</td>\n",
              "      <td>0.058296</td>\n",
              "      <td>0.052401</td>\n",
              "      <td>0.045368</td>\n",
              "      <td>0.050280</td>\n",
              "      <td>0.046702</td>\n",
              "      <td>0.048642</td>\n",
              "      <td>0.038527</td>\n",
              "      <td>0.040631</td>\n",
              "      <td>0.033066</td>\n",
              "      <td>0.036158</td>\n",
              "      <td>0.029886</td>\n",
              "      <td>0.029482</td>\n",
              "      <td>0.035029</td>\n",
              "      <td>0.032905</td>\n",
              "      <td>0.029361</td>\n",
              "      <td>0.025549</td>\n",
              "      <td>0.021678</td>\n",
              "      <td>0.023353</td>\n",
              "      <td>0.021711</td>\n",
              "      <td>0.023934</td>\n",
              "      <td>NDARAA112DMH</td>\n",
              "      <td>3</td>\n",
              "    </tr>\n",
              "    <tr>\n",
              "      <th>2</th>\n",
              "      <td>13.719575</td>\n",
              "      <td>13.953344</td>\n",
              "      <td>8.733713</td>\n",
              "      <td>5.339339</td>\n",
              "      <td>3.654114</td>\n",
              "      <td>3.280150</td>\n",
              "      <td>3.597552</td>\n",
              "      <td>3.324361</td>\n",
              "      <td>2.615713</td>\n",
              "      <td>1.973499</td>\n",
              "      <td>1.444864</td>\n",
              "      <td>1.448659</td>\n",
              "      <td>1.467536</td>\n",
              "      <td>1.424597</td>\n",
              "      <td>1.544466</td>\n",
              "      <td>1.845957</td>\n",
              "      <td>3.245325</td>\n",
              "      <td>4.243817</td>\n",
              "      <td>4.170516</td>\n",
              "      <td>3.156451</td>\n",
              "      <td>1.481642</td>\n",
              "      <td>0.683608</td>\n",
              "      <td>0.461722</td>\n",
              "      <td>0.329293</td>\n",
              "      <td>0.255754</td>\n",
              "      <td>0.230899</td>\n",
              "      <td>0.214032</td>\n",
              "      <td>0.195232</td>\n",
              "      <td>0.174679</td>\n",
              "      <td>0.174852</td>\n",
              "      <td>0.156000</td>\n",
              "      <td>0.148260</td>\n",
              "      <td>0.143997</td>\n",
              "      <td>0.173226</td>\n",
              "      <td>0.173884</td>\n",
              "      <td>0.169246</td>\n",
              "      <td>0.135366</td>\n",
              "      <td>0.130309</td>\n",
              "      <td>0.134199</td>\n",
              "      <td>0.144737</td>\n",
              "      <td>...</td>\n",
              "      <td>0.106903</td>\n",
              "      <td>0.098242</td>\n",
              "      <td>0.093929</td>\n",
              "      <td>0.083062</td>\n",
              "      <td>0.083011</td>\n",
              "      <td>0.070147</td>\n",
              "      <td>0.066658</td>\n",
              "      <td>0.056339</td>\n",
              "      <td>0.048545</td>\n",
              "      <td>0.047964</td>\n",
              "      <td>0.047028</td>\n",
              "      <td>0.041356</td>\n",
              "      <td>0.038166</td>\n",
              "      <td>0.038065</td>\n",
              "      <td>0.036716</td>\n",
              "      <td>0.040109</td>\n",
              "      <td>0.038941</td>\n",
              "      <td>0.036617</td>\n",
              "      <td>0.033300</td>\n",
              "      <td>0.030893</td>\n",
              "      <td>0.026625</td>\n",
              "      <td>0.025051</td>\n",
              "      <td>0.024339</td>\n",
              "      <td>0.022888</td>\n",
              "      <td>0.021262</td>\n",
              "      <td>0.018984</td>\n",
              "      <td>0.018548</td>\n",
              "      <td>0.019856</td>\n",
              "      <td>0.019808</td>\n",
              "      <td>0.021167</td>\n",
              "      <td>0.019864</td>\n",
              "      <td>0.018397</td>\n",
              "      <td>0.016645</td>\n",
              "      <td>0.015293</td>\n",
              "      <td>0.015262</td>\n",
              "      <td>0.013120</td>\n",
              "      <td>0.013712</td>\n",
              "      <td>0.014215</td>\n",
              "      <td>NDARAA117NEJ</td>\n",
              "      <td>3</td>\n",
              "    </tr>\n",
              "    <tr>\n",
              "      <th>3</th>\n",
              "      <td>7.091286</td>\n",
              "      <td>7.064044</td>\n",
              "      <td>3.388819</td>\n",
              "      <td>2.020668</td>\n",
              "      <td>1.283089</td>\n",
              "      <td>1.225795</td>\n",
              "      <td>1.391197</td>\n",
              "      <td>1.194422</td>\n",
              "      <td>1.073312</td>\n",
              "      <td>0.945446</td>\n",
              "      <td>0.616599</td>\n",
              "      <td>0.603704</td>\n",
              "      <td>0.386969</td>\n",
              "      <td>0.342655</td>\n",
              "      <td>0.293077</td>\n",
              "      <td>0.274183</td>\n",
              "      <td>0.320315</td>\n",
              "      <td>0.308331</td>\n",
              "      <td>0.368683</td>\n",
              "      <td>0.453980</td>\n",
              "      <td>0.375152</td>\n",
              "      <td>0.314516</td>\n",
              "      <td>0.287498</td>\n",
              "      <td>0.239925</td>\n",
              "      <td>0.280949</td>\n",
              "      <td>0.215111</td>\n",
              "      <td>0.226281</td>\n",
              "      <td>0.228448</td>\n",
              "      <td>0.171993</td>\n",
              "      <td>0.157829</td>\n",
              "      <td>0.149296</td>\n",
              "      <td>0.165055</td>\n",
              "      <td>0.168273</td>\n",
              "      <td>0.160099</td>\n",
              "      <td>0.170745</td>\n",
              "      <td>0.200565</td>\n",
              "      <td>0.178880</td>\n",
              "      <td>0.191712</td>\n",
              "      <td>0.154795</td>\n",
              "      <td>0.160491</td>\n",
              "      <td>...</td>\n",
              "      <td>0.029033</td>\n",
              "      <td>0.026170</td>\n",
              "      <td>0.035698</td>\n",
              "      <td>0.042050</td>\n",
              "      <td>0.050353</td>\n",
              "      <td>0.064568</td>\n",
              "      <td>0.062169</td>\n",
              "      <td>0.047302</td>\n",
              "      <td>0.034353</td>\n",
              "      <td>0.028342</td>\n",
              "      <td>0.018173</td>\n",
              "      <td>0.019897</td>\n",
              "      <td>0.024771</td>\n",
              "      <td>0.025660</td>\n",
              "      <td>0.021981</td>\n",
              "      <td>0.026063</td>\n",
              "      <td>0.020149</td>\n",
              "      <td>0.019688</td>\n",
              "      <td>0.014680</td>\n",
              "      <td>0.015609</td>\n",
              "      <td>0.016587</td>\n",
              "      <td>0.020008</td>\n",
              "      <td>0.016951</td>\n",
              "      <td>0.016050</td>\n",
              "      <td>0.012570</td>\n",
              "      <td>0.010746</td>\n",
              "      <td>0.010672</td>\n",
              "      <td>0.007812</td>\n",
              "      <td>0.012614</td>\n",
              "      <td>0.012450</td>\n",
              "      <td>0.014467</td>\n",
              "      <td>0.014399</td>\n",
              "      <td>0.014101</td>\n",
              "      <td>0.012216</td>\n",
              "      <td>0.012885</td>\n",
              "      <td>0.011950</td>\n",
              "      <td>0.011479</td>\n",
              "      <td>0.011285</td>\n",
              "      <td>NDARAA947ZG5</td>\n",
              "      <td>3</td>\n",
              "    </tr>\n",
              "    <tr>\n",
              "      <th>4</th>\n",
              "      <td>9.878377</td>\n",
              "      <td>9.354415</td>\n",
              "      <td>5.324718</td>\n",
              "      <td>3.351567</td>\n",
              "      <td>2.634583</td>\n",
              "      <td>2.559906</td>\n",
              "      <td>2.273353</td>\n",
              "      <td>1.941904</td>\n",
              "      <td>1.331602</td>\n",
              "      <td>0.881906</td>\n",
              "      <td>0.756843</td>\n",
              "      <td>0.720700</td>\n",
              "      <td>0.849991</td>\n",
              "      <td>0.909468</td>\n",
              "      <td>0.913611</td>\n",
              "      <td>0.833045</td>\n",
              "      <td>0.647775</td>\n",
              "      <td>0.606245</td>\n",
              "      <td>0.539578</td>\n",
              "      <td>0.420936</td>\n",
              "      <td>0.250791</td>\n",
              "      <td>0.170084</td>\n",
              "      <td>0.142885</td>\n",
              "      <td>0.135525</td>\n",
              "      <td>0.133101</td>\n",
              "      <td>0.130763</td>\n",
              "      <td>0.129608</td>\n",
              "      <td>0.126669</td>\n",
              "      <td>0.120295</td>\n",
              "      <td>0.115948</td>\n",
              "      <td>0.107503</td>\n",
              "      <td>0.100388</td>\n",
              "      <td>0.095304</td>\n",
              "      <td>0.088620</td>\n",
              "      <td>0.083015</td>\n",
              "      <td>0.083631</td>\n",
              "      <td>0.081697</td>\n",
              "      <td>0.089123</td>\n",
              "      <td>0.088302</td>\n",
              "      <td>0.086993</td>\n",
              "      <td>...</td>\n",
              "      <td>0.054879</td>\n",
              "      <td>0.051465</td>\n",
              "      <td>0.047142</td>\n",
              "      <td>0.045127</td>\n",
              "      <td>0.046647</td>\n",
              "      <td>0.048743</td>\n",
              "      <td>0.046198</td>\n",
              "      <td>0.040713</td>\n",
              "      <td>0.041744</td>\n",
              "      <td>0.035826</td>\n",
              "      <td>0.034413</td>\n",
              "      <td>0.029957</td>\n",
              "      <td>0.027986</td>\n",
              "      <td>0.026071</td>\n",
              "      <td>0.024104</td>\n",
              "      <td>0.021814</td>\n",
              "      <td>0.021543</td>\n",
              "      <td>0.020834</td>\n",
              "      <td>0.019063</td>\n",
              "      <td>0.016871</td>\n",
              "      <td>0.015691</td>\n",
              "      <td>0.015726</td>\n",
              "      <td>0.016453</td>\n",
              "      <td>0.016059</td>\n",
              "      <td>0.014937</td>\n",
              "      <td>0.013632</td>\n",
              "      <td>0.012577</td>\n",
              "      <td>0.010991</td>\n",
              "      <td>0.010976</td>\n",
              "      <td>0.009977</td>\n",
              "      <td>0.010225</td>\n",
              "      <td>0.009637</td>\n",
              "      <td>0.009370</td>\n",
              "      <td>0.008455</td>\n",
              "      <td>0.008211</td>\n",
              "      <td>0.008064</td>\n",
              "      <td>0.008207</td>\n",
              "      <td>0.008642</td>\n",
              "      <td>NDARAA948VFH</td>\n",
              "      <td>3</td>\n",
              "    </tr>\n",
              "    <tr>\n",
              "      <th>...</th>\n",
              "      <td>...</td>\n",
              "      <td>...</td>\n",
              "      <td>...</td>\n",
              "      <td>...</td>\n",
              "      <td>...</td>\n",
              "      <td>...</td>\n",
              "      <td>...</td>\n",
              "      <td>...</td>\n",
              "      <td>...</td>\n",
              "      <td>...</td>\n",
              "      <td>...</td>\n",
              "      <td>...</td>\n",
              "      <td>...</td>\n",
              "      <td>...</td>\n",
              "      <td>...</td>\n",
              "      <td>...</td>\n",
              "      <td>...</td>\n",
              "      <td>...</td>\n",
              "      <td>...</td>\n",
              "      <td>...</td>\n",
              "      <td>...</td>\n",
              "      <td>...</td>\n",
              "      <td>...</td>\n",
              "      <td>...</td>\n",
              "      <td>...</td>\n",
              "      <td>...</td>\n",
              "      <td>...</td>\n",
              "      <td>...</td>\n",
              "      <td>...</td>\n",
              "      <td>...</td>\n",
              "      <td>...</td>\n",
              "      <td>...</td>\n",
              "      <td>...</td>\n",
              "      <td>...</td>\n",
              "      <td>...</td>\n",
              "      <td>...</td>\n",
              "      <td>...</td>\n",
              "      <td>...</td>\n",
              "      <td>...</td>\n",
              "      <td>...</td>\n",
              "      <td>...</td>\n",
              "      <td>...</td>\n",
              "      <td>...</td>\n",
              "      <td>...</td>\n",
              "      <td>...</td>\n",
              "      <td>...</td>\n",
              "      <td>...</td>\n",
              "      <td>...</td>\n",
              "      <td>...</td>\n",
              "      <td>...</td>\n",
              "      <td>...</td>\n",
              "      <td>...</td>\n",
              "      <td>...</td>\n",
              "      <td>...</td>\n",
              "      <td>...</td>\n",
              "      <td>...</td>\n",
              "      <td>...</td>\n",
              "      <td>...</td>\n",
              "      <td>...</td>\n",
              "      <td>...</td>\n",
              "      <td>...</td>\n",
              "      <td>...</td>\n",
              "      <td>...</td>\n",
              "      <td>...</td>\n",
              "      <td>...</td>\n",
              "      <td>...</td>\n",
              "      <td>...</td>\n",
              "      <td>...</td>\n",
              "      <td>...</td>\n",
              "      <td>...</td>\n",
              "      <td>...</td>\n",
              "      <td>...</td>\n",
              "      <td>...</td>\n",
              "      <td>...</td>\n",
              "      <td>...</td>\n",
              "      <td>...</td>\n",
              "      <td>...</td>\n",
              "      <td>...</td>\n",
              "      <td>...</td>\n",
              "      <td>...</td>\n",
              "      <td>...</td>\n",
              "    </tr>\n",
              "    <tr>\n",
              "      <th>1780</th>\n",
              "      <td>3.140709</td>\n",
              "      <td>3.126427</td>\n",
              "      <td>1.772791</td>\n",
              "      <td>1.147847</td>\n",
              "      <td>0.880832</td>\n",
              "      <td>0.826599</td>\n",
              "      <td>0.882924</td>\n",
              "      <td>0.897978</td>\n",
              "      <td>0.806495</td>\n",
              "      <td>0.733132</td>\n",
              "      <td>0.633808</td>\n",
              "      <td>0.553091</td>\n",
              "      <td>0.473544</td>\n",
              "      <td>0.425771</td>\n",
              "      <td>0.424592</td>\n",
              "      <td>0.438708</td>\n",
              "      <td>0.467706</td>\n",
              "      <td>0.530231</td>\n",
              "      <td>0.660128</td>\n",
              "      <td>0.846984</td>\n",
              "      <td>0.983554</td>\n",
              "      <td>0.945090</td>\n",
              "      <td>0.722142</td>\n",
              "      <td>0.509013</td>\n",
              "      <td>0.339368</td>\n",
              "      <td>0.286312</td>\n",
              "      <td>0.244216</td>\n",
              "      <td>0.226560</td>\n",
              "      <td>0.193462</td>\n",
              "      <td>0.167781</td>\n",
              "      <td>0.136526</td>\n",
              "      <td>0.122361</td>\n",
              "      <td>0.112122</td>\n",
              "      <td>0.107525</td>\n",
              "      <td>0.099688</td>\n",
              "      <td>0.090984</td>\n",
              "      <td>0.090742</td>\n",
              "      <td>0.094732</td>\n",
              "      <td>0.085293</td>\n",
              "      <td>0.077714</td>\n",
              "      <td>...</td>\n",
              "      <td>0.107798</td>\n",
              "      <td>0.100693</td>\n",
              "      <td>0.093975</td>\n",
              "      <td>0.091362</td>\n",
              "      <td>0.086153</td>\n",
              "      <td>0.081184</td>\n",
              "      <td>0.075404</td>\n",
              "      <td>0.066722</td>\n",
              "      <td>0.059773</td>\n",
              "      <td>0.051622</td>\n",
              "      <td>0.048992</td>\n",
              "      <td>0.050093</td>\n",
              "      <td>0.048145</td>\n",
              "      <td>0.043566</td>\n",
              "      <td>0.038918</td>\n",
              "      <td>0.033869</td>\n",
              "      <td>0.032607</td>\n",
              "      <td>0.032048</td>\n",
              "      <td>0.030566</td>\n",
              "      <td>0.027562</td>\n",
              "      <td>0.025744</td>\n",
              "      <td>0.023458</td>\n",
              "      <td>0.022259</td>\n",
              "      <td>0.023447</td>\n",
              "      <td>0.022577</td>\n",
              "      <td>0.021762</td>\n",
              "      <td>0.021285</td>\n",
              "      <td>0.020174</td>\n",
              "      <td>0.018495</td>\n",
              "      <td>0.016670</td>\n",
              "      <td>0.015924</td>\n",
              "      <td>0.014754</td>\n",
              "      <td>0.015331</td>\n",
              "      <td>0.015993</td>\n",
              "      <td>0.014960</td>\n",
              "      <td>0.014350</td>\n",
              "      <td>0.014357</td>\n",
              "      <td>0.014503</td>\n",
              "      <td>NDARZN148PMN</td>\n",
              "      <td>4</td>\n",
              "    </tr>\n",
              "    <tr>\n",
              "      <th>1781</th>\n",
              "      <td>26.358329</td>\n",
              "      <td>25.922431</td>\n",
              "      <td>17.435359</td>\n",
              "      <td>12.833865</td>\n",
              "      <td>9.083348</td>\n",
              "      <td>6.802560</td>\n",
              "      <td>5.544387</td>\n",
              "      <td>4.297646</td>\n",
              "      <td>3.344062</td>\n",
              "      <td>2.653212</td>\n",
              "      <td>2.399021</td>\n",
              "      <td>2.133709</td>\n",
              "      <td>1.914445</td>\n",
              "      <td>1.787064</td>\n",
              "      <td>1.767724</td>\n",
              "      <td>1.629004</td>\n",
              "      <td>1.711690</td>\n",
              "      <td>1.476492</td>\n",
              "      <td>1.477314</td>\n",
              "      <td>1.345528</td>\n",
              "      <td>1.269415</td>\n",
              "      <td>1.299040</td>\n",
              "      <td>1.066535</td>\n",
              "      <td>0.963167</td>\n",
              "      <td>0.871201</td>\n",
              "      <td>0.793926</td>\n",
              "      <td>0.858894</td>\n",
              "      <td>0.822235</td>\n",
              "      <td>0.779824</td>\n",
              "      <td>0.719193</td>\n",
              "      <td>0.656783</td>\n",
              "      <td>0.689981</td>\n",
              "      <td>0.711677</td>\n",
              "      <td>0.744773</td>\n",
              "      <td>0.723230</td>\n",
              "      <td>0.608160</td>\n",
              "      <td>0.561063</td>\n",
              "      <td>0.483114</td>\n",
              "      <td>0.485230</td>\n",
              "      <td>0.445700</td>\n",
              "      <td>...</td>\n",
              "      <td>0.059910</td>\n",
              "      <td>0.055549</td>\n",
              "      <td>0.045595</td>\n",
              "      <td>0.039360</td>\n",
              "      <td>0.036985</td>\n",
              "      <td>0.032180</td>\n",
              "      <td>0.029489</td>\n",
              "      <td>0.025686</td>\n",
              "      <td>0.025160</td>\n",
              "      <td>0.023600</td>\n",
              "      <td>0.023278</td>\n",
              "      <td>0.022603</td>\n",
              "      <td>0.021264</td>\n",
              "      <td>0.020666</td>\n",
              "      <td>0.017519</td>\n",
              "      <td>0.015533</td>\n",
              "      <td>0.015462</td>\n",
              "      <td>0.014742</td>\n",
              "      <td>0.013736</td>\n",
              "      <td>0.013312</td>\n",
              "      <td>0.013282</td>\n",
              "      <td>0.012869</td>\n",
              "      <td>0.011882</td>\n",
              "      <td>0.011692</td>\n",
              "      <td>0.011809</td>\n",
              "      <td>0.011088</td>\n",
              "      <td>0.011296</td>\n",
              "      <td>0.010514</td>\n",
              "      <td>0.010127</td>\n",
              "      <td>0.009533</td>\n",
              "      <td>0.008887</td>\n",
              "      <td>0.008685</td>\n",
              "      <td>0.008073</td>\n",
              "      <td>0.007836</td>\n",
              "      <td>0.008030</td>\n",
              "      <td>0.008096</td>\n",
              "      <td>0.008585</td>\n",
              "      <td>0.007558</td>\n",
              "      <td>NDARZN277NR6</td>\n",
              "      <td>3</td>\n",
              "    </tr>\n",
              "    <tr>\n",
              "      <th>1782</th>\n",
              "      <td>6.267197</td>\n",
              "      <td>6.757109</td>\n",
              "      <td>5.009982</td>\n",
              "      <td>3.169993</td>\n",
              "      <td>2.171645</td>\n",
              "      <td>1.814292</td>\n",
              "      <td>1.871762</td>\n",
              "      <td>1.785337</td>\n",
              "      <td>1.667205</td>\n",
              "      <td>1.579087</td>\n",
              "      <td>1.679957</td>\n",
              "      <td>2.456957</td>\n",
              "      <td>3.010275</td>\n",
              "      <td>3.714201</td>\n",
              "      <td>5.524139</td>\n",
              "      <td>5.387218</td>\n",
              "      <td>5.008579</td>\n",
              "      <td>2.872188</td>\n",
              "      <td>2.203403</td>\n",
              "      <td>1.676137</td>\n",
              "      <td>1.254666</td>\n",
              "      <td>0.655847</td>\n",
              "      <td>0.380511</td>\n",
              "      <td>0.330781</td>\n",
              "      <td>0.282535</td>\n",
              "      <td>0.267831</td>\n",
              "      <td>0.247265</td>\n",
              "      <td>0.237239</td>\n",
              "      <td>0.258415</td>\n",
              "      <td>0.272796</td>\n",
              "      <td>0.294999</td>\n",
              "      <td>0.292057</td>\n",
              "      <td>0.263165</td>\n",
              "      <td>0.253396</td>\n",
              "      <td>0.225481</td>\n",
              "      <td>0.225619</td>\n",
              "      <td>0.217532</td>\n",
              "      <td>0.203104</td>\n",
              "      <td>0.204609</td>\n",
              "      <td>0.186122</td>\n",
              "      <td>...</td>\n",
              "      <td>0.088247</td>\n",
              "      <td>0.089050</td>\n",
              "      <td>0.082924</td>\n",
              "      <td>0.075661</td>\n",
              "      <td>0.072802</td>\n",
              "      <td>0.075404</td>\n",
              "      <td>0.075893</td>\n",
              "      <td>0.066154</td>\n",
              "      <td>0.063639</td>\n",
              "      <td>0.058766</td>\n",
              "      <td>0.059652</td>\n",
              "      <td>0.059974</td>\n",
              "      <td>0.057245</td>\n",
              "      <td>0.059368</td>\n",
              "      <td>0.056918</td>\n",
              "      <td>0.055400</td>\n",
              "      <td>0.052182</td>\n",
              "      <td>0.051462</td>\n",
              "      <td>0.050642</td>\n",
              "      <td>0.045589</td>\n",
              "      <td>0.043206</td>\n",
              "      <td>0.046554</td>\n",
              "      <td>0.044567</td>\n",
              "      <td>0.045180</td>\n",
              "      <td>0.043502</td>\n",
              "      <td>0.046328</td>\n",
              "      <td>0.046206</td>\n",
              "      <td>0.049056</td>\n",
              "      <td>0.046402</td>\n",
              "      <td>0.047548</td>\n",
              "      <td>0.046626</td>\n",
              "      <td>0.046235</td>\n",
              "      <td>0.042475</td>\n",
              "      <td>0.041145</td>\n",
              "      <td>0.040481</td>\n",
              "      <td>0.043836</td>\n",
              "      <td>0.045463</td>\n",
              "      <td>0.045313</td>\n",
              "      <td>NDARZN610GTY</td>\n",
              "      <td>1</td>\n",
              "    </tr>\n",
              "    <tr>\n",
              "      <th>1783</th>\n",
              "      <td>12.873830</td>\n",
              "      <td>13.441642</td>\n",
              "      <td>8.925057</td>\n",
              "      <td>7.982368</td>\n",
              "      <td>6.813370</td>\n",
              "      <td>6.566855</td>\n",
              "      <td>4.863802</td>\n",
              "      <td>4.496952</td>\n",
              "      <td>4.525635</td>\n",
              "      <td>4.521510</td>\n",
              "      <td>4.954676</td>\n",
              "      <td>7.339395</td>\n",
              "      <td>8.943023</td>\n",
              "      <td>8.643819</td>\n",
              "      <td>6.666363</td>\n",
              "      <td>2.853637</td>\n",
              "      <td>1.566576</td>\n",
              "      <td>1.117255</td>\n",
              "      <td>0.806356</td>\n",
              "      <td>0.558652</td>\n",
              "      <td>0.446297</td>\n",
              "      <td>0.349954</td>\n",
              "      <td>0.274785</td>\n",
              "      <td>0.253589</td>\n",
              "      <td>0.260326</td>\n",
              "      <td>0.263974</td>\n",
              "      <td>0.254860</td>\n",
              "      <td>0.255342</td>\n",
              "      <td>0.238694</td>\n",
              "      <td>0.234946</td>\n",
              "      <td>0.183881</td>\n",
              "      <td>0.169857</td>\n",
              "      <td>0.165653</td>\n",
              "      <td>0.176891</td>\n",
              "      <td>0.155420</td>\n",
              "      <td>0.142552</td>\n",
              "      <td>0.134062</td>\n",
              "      <td>0.143446</td>\n",
              "      <td>0.141589</td>\n",
              "      <td>0.124118</td>\n",
              "      <td>...</td>\n",
              "      <td>0.052395</td>\n",
              "      <td>0.051434</td>\n",
              "      <td>0.051295</td>\n",
              "      <td>0.050223</td>\n",
              "      <td>0.049137</td>\n",
              "      <td>0.043992</td>\n",
              "      <td>0.041668</td>\n",
              "      <td>0.039895</td>\n",
              "      <td>0.037654</td>\n",
              "      <td>0.037817</td>\n",
              "      <td>0.039276</td>\n",
              "      <td>0.032794</td>\n",
              "      <td>0.032246</td>\n",
              "      <td>0.031303</td>\n",
              "      <td>0.030681</td>\n",
              "      <td>0.027192</td>\n",
              "      <td>0.025213</td>\n",
              "      <td>0.026825</td>\n",
              "      <td>0.026514</td>\n",
              "      <td>0.030239</td>\n",
              "      <td>0.030864</td>\n",
              "      <td>0.034439</td>\n",
              "      <td>0.031447</td>\n",
              "      <td>0.028571</td>\n",
              "      <td>0.024622</td>\n",
              "      <td>0.021912</td>\n",
              "      <td>0.021623</td>\n",
              "      <td>0.020900</td>\n",
              "      <td>0.021021</td>\n",
              "      <td>0.019709</td>\n",
              "      <td>0.018205</td>\n",
              "      <td>0.018297</td>\n",
              "      <td>0.018813</td>\n",
              "      <td>0.019902</td>\n",
              "      <td>0.019096</td>\n",
              "      <td>0.016666</td>\n",
              "      <td>0.016433</td>\n",
              "      <td>0.017622</td>\n",
              "      <td>NDARZN677EYE</td>\n",
              "      <td>2</td>\n",
              "    </tr>\n",
              "    <tr>\n",
              "      <th>1784</th>\n",
              "      <td>2.997710</td>\n",
              "      <td>2.507797</td>\n",
              "      <td>1.584660</td>\n",
              "      <td>1.059452</td>\n",
              "      <td>0.714433</td>\n",
              "      <td>0.494934</td>\n",
              "      <td>0.442822</td>\n",
              "      <td>0.375609</td>\n",
              "      <td>0.338382</td>\n",
              "      <td>0.325294</td>\n",
              "      <td>0.332314</td>\n",
              "      <td>0.336895</td>\n",
              "      <td>0.350802</td>\n",
              "      <td>0.379082</td>\n",
              "      <td>0.421341</td>\n",
              "      <td>0.531729</td>\n",
              "      <td>0.651853</td>\n",
              "      <td>1.000269</td>\n",
              "      <td>1.650456</td>\n",
              "      <td>1.881315</td>\n",
              "      <td>1.589062</td>\n",
              "      <td>0.836032</td>\n",
              "      <td>0.355400</td>\n",
              "      <td>0.218405</td>\n",
              "      <td>0.177772</td>\n",
              "      <td>0.146453</td>\n",
              "      <td>0.137381</td>\n",
              "      <td>0.141150</td>\n",
              "      <td>0.128674</td>\n",
              "      <td>0.128691</td>\n",
              "      <td>0.121135</td>\n",
              "      <td>0.114149</td>\n",
              "      <td>0.114489</td>\n",
              "      <td>0.123072</td>\n",
              "      <td>0.130727</td>\n",
              "      <td>0.142291</td>\n",
              "      <td>0.136735</td>\n",
              "      <td>0.134607</td>\n",
              "      <td>0.131722</td>\n",
              "      <td>0.122749</td>\n",
              "      <td>...</td>\n",
              "      <td>0.077282</td>\n",
              "      <td>0.069527</td>\n",
              "      <td>0.059233</td>\n",
              "      <td>0.052198</td>\n",
              "      <td>0.052788</td>\n",
              "      <td>0.056024</td>\n",
              "      <td>0.053094</td>\n",
              "      <td>0.050773</td>\n",
              "      <td>0.046549</td>\n",
              "      <td>0.044841</td>\n",
              "      <td>0.039748</td>\n",
              "      <td>0.037477</td>\n",
              "      <td>0.034302</td>\n",
              "      <td>0.037831</td>\n",
              "      <td>0.041287</td>\n",
              "      <td>0.040786</td>\n",
              "      <td>0.039772</td>\n",
              "      <td>0.035864</td>\n",
              "      <td>0.030416</td>\n",
              "      <td>0.024950</td>\n",
              "      <td>0.022810</td>\n",
              "      <td>0.018483</td>\n",
              "      <td>0.017717</td>\n",
              "      <td>0.016618</td>\n",
              "      <td>0.016346</td>\n",
              "      <td>0.016169</td>\n",
              "      <td>0.016751</td>\n",
              "      <td>0.015952</td>\n",
              "      <td>0.015606</td>\n",
              "      <td>0.013898</td>\n",
              "      <td>0.012315</td>\n",
              "      <td>0.011627</td>\n",
              "      <td>0.011442</td>\n",
              "      <td>0.011781</td>\n",
              "      <td>0.011462</td>\n",
              "      <td>0.011795</td>\n",
              "      <td>0.011925</td>\n",
              "      <td>0.011255</td>\n",
              "      <td>NDARZN899JCM</td>\n",
              "      <td>2</td>\n",
              "    </tr>\n",
              "  </tbody>\n",
              "</table>\n",
              "<p>1772 rows × 8297 columns</p>\n",
              "</div>"
            ],
            "text/plain": [
              "      (Electrode 1 - 1/2 Hz,)  (Electrode 1 - 2/2 Hz,)  ...           IDs  label\n",
              "0                   22.646692                21.409617  ...  NDARAA075AMK      5\n",
              "1                   35.803485                31.315928  ...  NDARAA112DMH      3\n",
              "2                   13.719575                13.953344  ...  NDARAA117NEJ      3\n",
              "3                    7.091286                 7.064044  ...  NDARAA947ZG5      3\n",
              "4                    9.878377                 9.354415  ...  NDARAA948VFH      3\n",
              "...                       ...                      ...  ...           ...    ...\n",
              "1780                 3.140709                 3.126427  ...  NDARZN148PMN      4\n",
              "1781                26.358329                25.922431  ...  NDARZN277NR6      3\n",
              "1782                 6.267197                 6.757109  ...  NDARZN610GTY      1\n",
              "1783                12.873830                13.441642  ...  NDARZN677EYE      2\n",
              "1784                 2.997710                 2.507797  ...  NDARZN899JCM      2\n",
              "\n",
              "[1772 rows x 8297 columns]"
            ]
          },
          "metadata": {},
          "execution_count": 5
        }
      ]
    },
    {
      "cell_type": "code",
      "metadata": {
        "id": "jb9T4ixBFvH-"
      },
      "source": [
        "# data splitting\n",
        "\n",
        "train_df, test_df = train_test_split(df, test_size=0.3, stratify=df['label'])\n",
        "\n",
        "train_labels, test_labels = train_df['label'], test_df['label']\n",
        "test_labels_categorical = to_categorical(test_df['label']-1)\n",
        "\n",
        "train_features = train_df[train_df.columns.difference(['IDs', 'label'])]\n",
        "test_features = test_df[test_df.columns.difference(['IDs', 'label'])]"
      ],
      "execution_count": 6,
      "outputs": []
    },
    {
      "cell_type": "markdown",
      "metadata": {
        "id": "l1MryYsFFvH_"
      },
      "source": [
        "## AutoEncoder for Feature Extraction"
      ]
    },
    {
      "cell_type": "code",
      "metadata": {
        "colab": {
          "base_uri": "https://localhost:8080/"
        },
        "id": "RhFtsOcFFvIA",
        "outputId": "8d4c0fa4-91e0-469c-cb91-ded78bc0f302"
      },
      "source": [
        "n_inputs = train_features.shape[1]\n",
        "\n",
        "visible = Input(shape=(n_inputs,))\n",
        "e = Dense(n_inputs*2)(visible)\n",
        "e = BatchNormalization()(e)\n",
        "e = LeakyReLU()(e)\n",
        "e = Dense(n_inputs)(e)\n",
        "e = BatchNormalization()(e)\n",
        "e = LeakyReLU()(e)\n",
        "n_bottleneck = round(float(n_inputs) / 2.0)\n",
        "bottleneck = Dense(n_bottleneck)(e)\n",
        "\n",
        "d = Dense(n_inputs)(bottleneck)\n",
        "d = BatchNormalization()(d)\n",
        "d = LeakyReLU()(d)\n",
        "\n",
        "d = Dense(n_inputs*2)(d)\n",
        "d = BatchNormalization()(d)\n",
        "d = LeakyReLU()(d)\n",
        "\n",
        "output = Dense(n_inputs, activation='linear')(d)\n",
        "\n",
        "model = Model(inputs=visible, outputs=output)\n",
        "model.compile(optimizer='adam', loss='mse')\n",
        "plot_model(model, 'autoencoder_compress.png', show_shapes=True)\n",
        "\n",
        "history = model.fit(train_features, train_labels, epochs=15, batch_size=16, verbose=2)\n",
        "encoder = Model(inputs=visible, outputs=bottleneck)\n",
        "\n",
        "plot_model(encoder, 'encoder_compress.png', show_shapes=True)\n",
        "encoder.save('autoencoder.h5')"
      ],
      "execution_count": 7,
      "outputs": [
        {
          "output_type": "stream",
          "name": "stdout",
          "text": [
            "Epoch 1/15\n",
            "78/78 - 8s - loss: 6.1387 - 8s/epoch - 102ms/step\n",
            "Epoch 2/15\n",
            "78/78 - 5s - loss: 4.4664 - 5s/epoch - 62ms/step\n",
            "Epoch 3/15\n",
            "78/78 - 5s - loss: 3.5229 - 5s/epoch - 62ms/step\n",
            "Epoch 4/15\n",
            "78/78 - 5s - loss: 3.8873 - 5s/epoch - 62ms/step\n",
            "Epoch 5/15\n",
            "78/78 - 5s - loss: 3.2212 - 5s/epoch - 62ms/step\n",
            "Epoch 6/15\n",
            "78/78 - 5s - loss: 3.4156 - 5s/epoch - 62ms/step\n",
            "Epoch 7/15\n",
            "78/78 - 5s - loss: 3.2098 - 5s/epoch - 62ms/step\n",
            "Epoch 8/15\n",
            "78/78 - 5s - loss: 2.7315 - 5s/epoch - 62ms/step\n",
            "Epoch 9/15\n",
            "78/78 - 5s - loss: 2.8569 - 5s/epoch - 62ms/step\n",
            "Epoch 10/15\n",
            "78/78 - 5s - loss: 3.2480 - 5s/epoch - 62ms/step\n",
            "Epoch 11/15\n",
            "78/78 - 5s - loss: 3.2893 - 5s/epoch - 62ms/step\n",
            "Epoch 12/15\n",
            "78/78 - 5s - loss: 3.1940 - 5s/epoch - 62ms/step\n",
            "Epoch 13/15\n",
            "78/78 - 5s - loss: 3.1729 - 5s/epoch - 62ms/step\n",
            "Epoch 14/15\n",
            "78/78 - 5s - loss: 3.0703 - 5s/epoch - 62ms/step\n",
            "Epoch 15/15\n",
            "78/78 - 5s - loss: 3.0821 - 5s/epoch - 62ms/step\n",
            "WARNING:tensorflow:Compiled the loaded model, but the compiled metrics have yet to be built. `model.compile_metrics` will be empty until you train or evaluate the model.\n"
          ]
        }
      ]
    },
    {
      "cell_type": "code",
      "metadata": {
        "colab": {
          "base_uri": "https://localhost:8080/",
          "height": 281
        },
        "id": "rxH1C5ZOiTa7",
        "outputId": "d206588e-7ccb-40b0-c7c3-93c86e442dc9"
      },
      "source": [
        "  # plot loss\n",
        "  plt.plot(history.history['loss'], label='train')\n",
        "  plt.title('Autoencoder training loss')\n",
        "  plt.legend()\n",
        "  plt.show()"
      ],
      "execution_count": 8,
      "outputs": [
        {
          "output_type": "display_data",
          "data": {
            "image/png": "[encoded data removed]",
            "text/plain": [
              "<Figure size 432x288 with 1 Axes>"
            ]
          },
          "metadata": {
            "needs_background": "light"
          }
        }
      ]
    },
    {
      "cell_type": "code",
      "metadata": {
        "id": "zgckuW7_iF6R"
      },
      "source": [
        "# encode the data\n",
        "encoder= load_model('autoencoder.h5', compile=False)\n",
        "\n",
        "train_features_encoded = encoder.predict(train_features)\n",
        "test_features_encoded = encoder.predict(test_features)"
      ],
      "execution_count": 9,
      "outputs": []
    },
    {
      "cell_type": "markdown",
      "metadata": {
        "id": "HQC-Wm64FvID"
      },
      "source": [
        "## Dealing with imbalance"
      ]
    },
    {
      "cell_type": "code",
      "metadata": {
        "colab": {
          "base_uri": "https://localhost:8080/"
        },
        "id": "qkZ5dnh7FvID",
        "outputId": "c7067dc6-acf0-4304-b867-f3a323136175"
      },
      "source": [
        "oversample = SMOTE()\n",
        "train_features_encoded_oversampled, train_labels_oversampled = oversample.fit_resample(train_features_encoded, train_labels)\n",
        "train_features_oversampled, train_labels_oversampled_ = oversample.fit_resample(train_features, train_labels)\n",
        "\n",
        "train_labels_oversampled_categorical = to_categorical(train_labels_oversampled-1)"
      ],
      "execution_count": 10,
      "outputs": [
        {
          "output_type": "stream",
          "name": "stderr",
          "text": [
            "/usr/local/lib/python3.7/dist-packages/sklearn/utils/validation.py:1679: FutureWarning: Feature names only support names that are all strings. Got feature names with dtypes: ['tuple']. An error will be raised in 1.2.\n",
            "  FutureWarning,\n"
          ]
        }
      ]
    },
    {
      "cell_type": "code",
      "metadata": {
        "id": "6cBLVO-BrAxS"
      },
      "source": [
        "if 'google.colab' in str(get_ipython()):\n",
        "  np.save('train_features_encoded_oversampled.npy', train_features_encoded_oversampled)\n",
        "  np.save('train_labels_oversampled.npy', train_labels_oversampled)\n",
        "  np.save('train_features_encoded.npy', train_features_encoded)\n",
        "  np.save('test_features_encoded.npy', test_features_encoded)"
      ],
      "execution_count": 11,
      "outputs": []
    },
    {
      "cell_type": "code",
      "metadata": {
        "id": "Tms2OlNbuvUf"
      },
      "source": [
        "# scaling the data\n",
        "\n",
        "from sklearn.preprocessing import StandardScaler\n",
        "\n",
        "scaler = StandardScaler()\n",
        "train_features_encoded_oversampled = scaler.fit_transform(train_features_encoded_oversampled)\n",
        "test_features_encoded = scaler.transform(test_features_encoded)\n",
        "\n",
        "train_features_encoded_oversampled = np.clip(train_features_encoded_oversampled, -5, 5)\n",
        "test_features_encoded = np.clip(test_features_encoded, -5, 5)"
      ],
      "execution_count": 12,
      "outputs": []
    },
    {
      "cell_type": "code",
      "metadata": {
        "colab": {
          "base_uri": "https://localhost:8080/"
        },
        "id": "nd92xbREvIly",
        "outputId": "b53556fa-4d4f-4522-b9b3-3fe08ba089bb"
      },
      "source": [
        "print(train_features_encoded_oversampled.shape)\n",
        "print(train_labels_oversampled.shape)\n",
        "print(train_labels_oversampled_categorical.shape)\n",
        "print(test_features_encoded.shape)\n",
        "print(test_labels.shape)"
      ],
      "execution_count": 13,
      "outputs": [
        {
          "output_type": "stream",
          "name": "stdout",
          "text": [
            "(2046, 4148)\n",
            "(2046,)\n",
            "(2046, 6)\n",
            "(532, 4148)\n",
            "(532,)\n"
          ]
        }
      ]
    },
    {
      "cell_type": "markdown",
      "metadata": {
        "id": "vGEV__DRFvIE"
      },
      "source": [
        "## Linear Models"
      ]
    },
    {
      "cell_type": "markdown",
      "metadata": {
        "id": "DUCdA5b6FvIF"
      },
      "source": [
        "### SVC"
      ]
    },
    {
      "cell_type": "code",
      "metadata": {
        "colab": {
          "base_uri": "https://localhost:8080/"
        },
        "id": "g-MNQL01FvIF",
        "outputId": "34dc153b-9ee6-4888-c946-69fa75963c34"
      },
      "source": [
        "from sklearn import svm\n",
        "\n",
        "clf = svm.SVC(kernel='linear', verbose=True)\n",
        "clf.fit(train_features_encoded_oversampled, train_labels_oversampled)\n",
        "\n",
        "predicted_labels_svc = clf.predict(test_features_encoded)"
      ],
      "execution_count": 14,
      "outputs": [
        {
          "output_type": "stream",
          "name": "stdout",
          "text": [
            "[LibSVM]"
          ]
        }
      ]
    },
    {
      "cell_type": "code",
      "metadata": {
        "id": "u9flc8xoFvIG"
      },
      "source": [
        "from sklearn import metrics\n",
        "import matplotlib.pyplot as plt\n",
        "from sklearn.metrics import confusion_matrix, ConfusionMatrixDisplay\n",
        "\n",
        "def evaluate(y_test, y_pred, show_cm=True, is_categorical=False):\n",
        "    \n",
        "    if is_categorical:\n",
        "      y_test = np.argmax(y_test, axis=1)\n",
        "      y_pred = np.argmax(y_pred, axis=1)\n",
        "\n",
        "    print(\"Accuracy:\", metrics.accuracy_score(y_test, y_pred))\n",
        "    print(\"Precision:\", metrics.precision_score(y_test, y_pred, average='macro'))\n",
        "    print(\"Recall:\", metrics.recall_score(y_test, y_pred, average='macro'))\n",
        "#     print(\"ROC AUC:\", metrics.roc_auc_score(y_test, y_pred, multi_class='ovo',))\n",
        "    print(\"F1 score:\", metrics.f1_score(y_test, y_pred, average='macro'))\n",
        "#     print(\"Brier Score:\", metrics.brier_score_loss(y_test, y_pred)) # only for binary classification\n",
        "\n",
        "    if show_cm:\n",
        "        cm = confusion_matrix(y_test, y_pred)\n",
        "        disp = ConfusionMatrixDisplay(confusion_matrix=cm, display_labels=labels)\n",
        "        disp.plot()\n",
        "        plt.tight_layout()\n",
        "        plt.show()\n"
      ],
      "execution_count": 15,
      "outputs": []
    },
    {
      "cell_type": "code",
      "metadata": {
        "colab": {
          "base_uri": "https://localhost:8080/",
          "height": 349
        },
        "id": "fK8-_rI6CzUo",
        "outputId": "b5d09577-4b33-416b-a450-99eef850c514"
      },
      "source": [
        "evaluate(test_labels, predicted_labels_svc)"
      ],
      "execution_count": 16,
      "outputs": [
        {
          "output_type": "stream",
          "name": "stdout",
          "text": [
            "Accuracy: 0.18796992481203006\n",
            "Precision: 0.17065436632813855\n",
            "Recall: 0.18362280684552768\n",
            "F1 score: 0.1699975714653396\n"
          ]
        },
        {
          "output_type": "display_data",
          "data": {
            "image/png": "[encoded data removed]",
            "text/plain": [
              "<Figure size 432x288 with 2 Axes>"
            ]
          },
          "metadata": {
            "needs_background": "light"
          }
        }
      ]
    },
    {
      "cell_type": "markdown",
      "metadata": {
        "id": "LahFg05KFvIH"
      },
      "source": [
        "### OneVsRestClassifier\n",
        "The strategy consists in fitting one classifier per class. For each classifier, the class is fitted against all the other classes."
      ]
    },
    {
      "cell_type": "code",
      "metadata": {
        "colab": {
          "base_uri": "https://localhost:8080/"
        },
        "id": "VScxf00iFvII",
        "outputId": "956a0846-fe10-4608-8224-6672404725d6"
      },
      "source": [
        "from sklearn.multiclass import OneVsRestClassifier\n",
        "from sklearn.svm import LinearSVC\n",
        "\n",
        "clf = OneVsRestClassifier(LinearSVC(random_state=0, max_iter=2000, verbose=True))\n",
        "\n",
        "clf.fit(train_features_encoded_oversampled, train_labels_oversampled)\n",
        "predicted_labels_ovr = clf.predict(test_features_encoded)"
      ],
      "execution_count": 17,
      "outputs": [
        {
          "output_type": "stream",
          "name": "stdout",
          "text": [
            "[LibLinear]"
          ]
        },
        {
          "output_type": "stream",
          "name": "stderr",
          "text": [
            "/usr/local/lib/python3.7/dist-packages/sklearn/svm/_base.py:1208: ConvergenceWarning: Liblinear failed to converge, increase the number of iterations.\n",
            "  ConvergenceWarning,\n"
          ]
        },
        {
          "output_type": "stream",
          "name": "stdout",
          "text": [
            "[LibLinear]"
          ]
        },
        {
          "output_type": "stream",
          "name": "stderr",
          "text": [
            "/usr/local/lib/python3.7/dist-packages/sklearn/svm/_base.py:1208: ConvergenceWarning: Liblinear failed to converge, increase the number of iterations.\n",
            "  ConvergenceWarning,\n"
          ]
        },
        {
          "output_type": "stream",
          "name": "stdout",
          "text": [
            "[LibLinear]"
          ]
        },
        {
          "output_type": "stream",
          "name": "stderr",
          "text": [
            "/usr/local/lib/python3.7/dist-packages/sklearn/svm/_base.py:1208: ConvergenceWarning: Liblinear failed to converge, increase the number of iterations.\n",
            "  ConvergenceWarning,\n"
          ]
        },
        {
          "output_type": "stream",
          "name": "stdout",
          "text": [
            "[LibLinear]"
          ]
        },
        {
          "output_type": "stream",
          "name": "stderr",
          "text": [
            "/usr/local/lib/python3.7/dist-packages/sklearn/svm/_base.py:1208: ConvergenceWarning: Liblinear failed to converge, increase the number of iterations.\n",
            "  ConvergenceWarning,\n"
          ]
        },
        {
          "output_type": "stream",
          "name": "stdout",
          "text": [
            "[LibLinear]"
          ]
        },
        {
          "output_type": "stream",
          "name": "stderr",
          "text": [
            "/usr/local/lib/python3.7/dist-packages/sklearn/svm/_base.py:1208: ConvergenceWarning: Liblinear failed to converge, increase the number of iterations.\n",
            "  ConvergenceWarning,\n"
          ]
        },
        {
          "output_type": "stream",
          "name": "stdout",
          "text": [
            "[LibLinear]"
          ]
        },
        {
          "output_type": "stream",
          "name": "stderr",
          "text": [
            "/usr/local/lib/python3.7/dist-packages/sklearn/svm/_base.py:1208: ConvergenceWarning: Liblinear failed to converge, increase the number of iterations.\n",
            "  ConvergenceWarning,\n"
          ]
        }
      ]
    },
    {
      "cell_type": "code",
      "metadata": {
        "colab": {
          "base_uri": "https://localhost:8080/",
          "height": 349
        },
        "id": "_AreAnOwFvII",
        "outputId": "74b3ecad-3790-4edd-9d01-dcd7c5843a81"
      },
      "source": [
        "evaluate(test_labels, predicted_labels_ovr)"
      ],
      "execution_count": 18,
      "outputs": [
        {
          "output_type": "stream",
          "name": "stdout",
          "text": [
            "Accuracy: 0.17293233082706766\n",
            "Precision: 0.16641047163436654\n",
            "Recall: 0.1628173514539835\n",
            "F1 score: 0.14336884803122052\n"
          ]
        },
        {
          "output_type": "display_data",
          "data": {
            "image/png": "[encoded data removed]",
            "text/plain": [
              "<Figure size 432x288 with 2 Axes>"
            ]
          },
          "metadata": {
            "needs_background": "light"
          }
        }
      ]
    },
    {
      "cell_type": "markdown",
      "metadata": {
        "id": "-cBrjbXzFvIJ"
      },
      "source": [
        "### OneVsOneClassifier\n",
        "OneVsOneClassifier constructs one classifier per pair of classes. At prediction time, the class which received the most votes is selected. In the event of a tie (among two classes with an equal number of votes), it selects the class with the highest aggregate classification confidence by summing over the pair-wise classification confidence levels computed by the underlying binary classifiers.\n",
        "\n"
      ]
    },
    {
      "cell_type": "code",
      "metadata": {
        "colab": {
          "base_uri": "https://localhost:8080/"
        },
        "id": "ydH-4TMDFvIK",
        "outputId": "b49514ef-d7a5-435c-c31f-68e1f4242b45"
      },
      "source": [
        "from sklearn.multiclass import OneVsOneClassifier\n",
        "\n",
        "clf = OneVsOneClassifier(LinearSVC(random_state=0, verbose=True))\n",
        "\n",
        "clf.fit(train_features_encoded_oversampled, train_labels_oversampled)\n",
        "predicted_labels_ovo = clf.predict(test_features_encoded)"
      ],
      "execution_count": 19,
      "outputs": [
        {
          "output_type": "stream",
          "name": "stdout",
          "text": [
            "[LibLinear]"
          ]
        },
        {
          "output_type": "stream",
          "name": "stderr",
          "text": [
            "/usr/local/lib/python3.7/dist-packages/sklearn/svm/_base.py:1208: ConvergenceWarning: Liblinear failed to converge, increase the number of iterations.\n",
            "  ConvergenceWarning,\n"
          ]
        },
        {
          "output_type": "stream",
          "name": "stdout",
          "text": [
            "[LibLinear]"
          ]
        },
        {
          "output_type": "stream",
          "name": "stderr",
          "text": [
            "/usr/local/lib/python3.7/dist-packages/sklearn/svm/_base.py:1208: ConvergenceWarning: Liblinear failed to converge, increase the number of iterations.\n",
            "  ConvergenceWarning,\n"
          ]
        },
        {
          "output_type": "stream",
          "name": "stdout",
          "text": [
            "[LibLinear]"
          ]
        },
        {
          "output_type": "stream",
          "name": "stderr",
          "text": [
            "/usr/local/lib/python3.7/dist-packages/sklearn/svm/_base.py:1208: ConvergenceWarning: Liblinear failed to converge, increase the number of iterations.\n",
            "  ConvergenceWarning,\n"
          ]
        },
        {
          "output_type": "stream",
          "name": "stdout",
          "text": [
            "[LibLinear]"
          ]
        },
        {
          "output_type": "stream",
          "name": "stderr",
          "text": [
            "/usr/local/lib/python3.7/dist-packages/sklearn/svm/_base.py:1208: ConvergenceWarning: Liblinear failed to converge, increase the number of iterations.\n",
            "  ConvergenceWarning,\n"
          ]
        },
        {
          "output_type": "stream",
          "name": "stdout",
          "text": [
            "[LibLinear]"
          ]
        },
        {
          "output_type": "stream",
          "name": "stderr",
          "text": [
            "/usr/local/lib/python3.7/dist-packages/sklearn/svm/_base.py:1208: ConvergenceWarning: Liblinear failed to converge, increase the number of iterations.\n",
            "  ConvergenceWarning,\n"
          ]
        },
        {
          "output_type": "stream",
          "name": "stdout",
          "text": [
            "[LibLinear]"
          ]
        },
        {
          "output_type": "stream",
          "name": "stderr",
          "text": [
            "/usr/local/lib/python3.7/dist-packages/sklearn/svm/_base.py:1208: ConvergenceWarning: Liblinear failed to converge, increase the number of iterations.\n",
            "  ConvergenceWarning,\n"
          ]
        },
        {
          "output_type": "stream",
          "name": "stdout",
          "text": [
            "[LibLinear]"
          ]
        },
        {
          "output_type": "stream",
          "name": "stderr",
          "text": [
            "/usr/local/lib/python3.7/dist-packages/sklearn/svm/_base.py:1208: ConvergenceWarning: Liblinear failed to converge, increase the number of iterations.\n",
            "  ConvergenceWarning,\n"
          ]
        },
        {
          "output_type": "stream",
          "name": "stdout",
          "text": [
            "[LibLinear]"
          ]
        },
        {
          "output_type": "stream",
          "name": "stderr",
          "text": [
            "/usr/local/lib/python3.7/dist-packages/sklearn/svm/_base.py:1208: ConvergenceWarning: Liblinear failed to converge, increase the number of iterations.\n",
            "  ConvergenceWarning,\n"
          ]
        },
        {
          "output_type": "stream",
          "name": "stdout",
          "text": [
            "[LibLinear]"
          ]
        },
        {
          "output_type": "stream",
          "name": "stderr",
          "text": [
            "/usr/local/lib/python3.7/dist-packages/sklearn/svm/_base.py:1208: ConvergenceWarning: Liblinear failed to converge, increase the number of iterations.\n",
            "  ConvergenceWarning,\n"
          ]
        },
        {
          "output_type": "stream",
          "name": "stdout",
          "text": [
            "[LibLinear]"
          ]
        },
        {
          "output_type": "stream",
          "name": "stderr",
          "text": [
            "/usr/local/lib/python3.7/dist-packages/sklearn/svm/_base.py:1208: ConvergenceWarning: Liblinear failed to converge, increase the number of iterations.\n",
            "  ConvergenceWarning,\n"
          ]
        },
        {
          "output_type": "stream",
          "name": "stdout",
          "text": [
            "[LibLinear]"
          ]
        },
        {
          "output_type": "stream",
          "name": "stderr",
          "text": [
            "/usr/local/lib/python3.7/dist-packages/sklearn/svm/_base.py:1208: ConvergenceWarning: Liblinear failed to converge, increase the number of iterations.\n",
            "  ConvergenceWarning,\n"
          ]
        },
        {
          "output_type": "stream",
          "name": "stdout",
          "text": [
            "[LibLinear]"
          ]
        },
        {
          "output_type": "stream",
          "name": "stderr",
          "text": [
            "/usr/local/lib/python3.7/dist-packages/sklearn/svm/_base.py:1208: ConvergenceWarning: Liblinear failed to converge, increase the number of iterations.\n",
            "  ConvergenceWarning,\n"
          ]
        },
        {
          "output_type": "stream",
          "name": "stdout",
          "text": [
            "[LibLinear]"
          ]
        },
        {
          "output_type": "stream",
          "name": "stderr",
          "text": [
            "/usr/local/lib/python3.7/dist-packages/sklearn/svm/_base.py:1208: ConvergenceWarning: Liblinear failed to converge, increase the number of iterations.\n",
            "  ConvergenceWarning,\n"
          ]
        },
        {
          "output_type": "stream",
          "name": "stdout",
          "text": [
            "[LibLinear]"
          ]
        },
        {
          "output_type": "stream",
          "name": "stderr",
          "text": [
            "/usr/local/lib/python3.7/dist-packages/sklearn/svm/_base.py:1208: ConvergenceWarning: Liblinear failed to converge, increase the number of iterations.\n",
            "  ConvergenceWarning,\n"
          ]
        },
        {
          "output_type": "stream",
          "name": "stdout",
          "text": [
            "[LibLinear]"
          ]
        },
        {
          "output_type": "stream",
          "name": "stderr",
          "text": [
            "/usr/local/lib/python3.7/dist-packages/sklearn/svm/_base.py:1208: ConvergenceWarning: Liblinear failed to converge, increase the number of iterations.\n",
            "  ConvergenceWarning,\n"
          ]
        }
      ]
    },
    {
      "cell_type": "code",
      "metadata": {
        "colab": {
          "base_uri": "https://localhost:8080/",
          "height": 349
        },
        "id": "xu-kDqPdFvIK",
        "outputId": "9390b4ce-00d6-4a8c-86cd-96af43875f60"
      },
      "source": [
        "evaluate(test_labels, predicted_labels_ovr)"
      ],
      "execution_count": 20,
      "outputs": [
        {
          "output_type": "stream",
          "name": "stdout",
          "text": [
            "Accuracy: 0.17293233082706766\n",
            "Precision: 0.16641047163436654\n",
            "Recall: 0.1628173514539835\n",
            "F1 score: 0.14336884803122052\n"
          ]
        },
        {
          "output_type": "display_data",
          "data": {
            "image/png": "[encoded data removed]",
            "text/plain": [
              "<Figure size 432x288 with 2 Axes>"
            ]
          },
          "metadata": {
            "needs_background": "light"
          }
        }
      ]
    },
    {
      "cell_type": "markdown",
      "metadata": {
        "id": "u_5tPjL2FvIL"
      },
      "source": [
        "### Random Forest"
      ]
    },
    {
      "cell_type": "code",
      "metadata": {
        "colab": {
          "base_uri": "https://localhost:8080/"
        },
        "id": "kGIa95sQFvIL",
        "outputId": "a7b159b1-d750-45a1-ffc4-9f2c95d7662a"
      },
      "source": [
        "from sklearn.ensemble import RandomForestClassifier\n",
        "\n",
        "clf = RandomForestClassifier(max_depth=5, random_state=0, verbose=True)\n",
        "clf.fit(train_features_encoded_oversampled, train_labels_oversampled)\n",
        "predicted_labels_rf = clf.predict(test_features_encoded)"
      ],
      "execution_count": 21,
      "outputs": [
        {
          "output_type": "stream",
          "name": "stderr",
          "text": [
            "[Parallel(n_jobs=1)]: Using backend SequentialBackend with 1 concurrent workers.\n",
            "[Parallel(n_jobs=1)]: Done 100 out of 100 | elapsed:    4.0s finished\n",
            "[Parallel(n_jobs=1)]: Using backend SequentialBackend with 1 concurrent workers.\n",
            "[Parallel(n_jobs=1)]: Done 100 out of 100 | elapsed:    0.0s finished\n"
          ]
        }
      ]
    },
    {
      "cell_type": "code",
      "metadata": {
        "colab": {
          "base_uri": "https://localhost:8080/",
          "height": 351
        },
        "id": "OjVFQE79FvIM",
        "outputId": "b9616668-2f70-42fc-aaf8-ed689e84f259"
      },
      "source": [
        "evaluate(test_labels, predicted_labels_rf)"
      ],
      "execution_count": 22,
      "outputs": [
        {
          "output_type": "stream",
          "name": "stdout",
          "text": [
            "Accuracy: 0.19172932330827067\n",
            "Precision: 0.191242746873057\n",
            "Recall: 0.18284959378783186\n",
            "F1 score: 0.17732852175934136\n"
          ]
        },
        {
          "output_type": "display_data",
          "data": {
            "image/png": "[encoded data removed]",
            "text/plain": [
              "<Figure size 432x288 with 2 Axes>"
            ]
          },
          "metadata": {
            "needs_background": "light"
          }
        }
      ]
    },
    {
      "cell_type": "markdown",
      "metadata": {
        "id": "fikPzPJkgPkW"
      },
      "source": [
        "### MLP\n"
      ]
    },
    {
      "cell_type": "code",
      "metadata": {
        "colab": {
          "base_uri": "https://localhost:8080/"
        },
        "id": "eEXb2fNzgX1-",
        "outputId": "0fafa201-d44c-4f0e-8fd9-75036bc71272"
      },
      "source": [
        "from sklearn.neural_network import MLPClassifier\n",
        "\n",
        "clf = MLPClassifier(random_state=1, max_iter=300, verbose=True)\n",
        "clf.fit(train_features_encoded_oversampled, train_labels_oversampled)\n",
        "predicted_labels_mlp = clf.predict(test_features_encoded)"
      ],
      "execution_count": 23,
      "outputs": [
        {
          "output_type": "stream",
          "name": "stdout",
          "text": [
            "Iteration 1, loss = 3.86100624\n",
            "Iteration 2, loss = 2.64930913\n",
            "Iteration 3, loss = 2.18732291\n",
            "Iteration 4, loss = 1.99186157\n",
            "Iteration 5, loss = 1.96917694\n",
            "Iteration 6, loss = 2.15829716\n",
            "Iteration 7, loss = 2.08175244\n",
            "Iteration 8, loss = 2.13086236\n",
            "Iteration 9, loss = 1.98140743\n",
            "Iteration 10, loss = 2.01677760\n",
            "Iteration 11, loss = 2.19421807\n",
            "Iteration 12, loss = 2.03547232\n",
            "Iteration 13, loss = 1.97228440\n",
            "Iteration 14, loss = 1.98160026\n",
            "Iteration 15, loss = 1.98776545\n",
            "Iteration 16, loss = 1.91770325\n",
            "Iteration 17, loss = 1.94235630\n",
            "Iteration 18, loss = 1.85732123\n",
            "Iteration 19, loss = 1.87772778\n",
            "Iteration 20, loss = 1.95724174\n",
            "Iteration 21, loss = 2.25136162\n",
            "Iteration 22, loss = 2.11752480\n",
            "Iteration 23, loss = 2.13606913\n",
            "Iteration 24, loss = 2.08429930\n",
            "Iteration 25, loss = 2.03088719\n",
            "Iteration 26, loss = 1.94318358\n",
            "Iteration 27, loss = 1.94302126\n",
            "Iteration 28, loss = 1.99440600\n",
            "Iteration 29, loss = 1.99112016\n",
            "Training loss did not improve more than tol=0.000100 for 10 consecutive epochs. Stopping.\n"
          ]
        }
      ]
    },
    {
      "cell_type": "code",
      "metadata": {
        "colab": {
          "base_uri": "https://localhost:8080/",
          "height": 349
        },
        "id": "Sl7qfY6_l19g",
        "outputId": "10ab477f-6cf2-4914-bba4-5996d9bf47ba"
      },
      "source": [
        "evaluate(test_labels, predicted_labels_mlp)"
      ],
      "execution_count": 24,
      "outputs": [
        {
          "output_type": "stream",
          "name": "stdout",
          "text": [
            "Accuracy: 0.15413533834586465\n",
            "Precision: 0.24244050219646704\n",
            "Recall: 0.1776904322605787\n",
            "F1 score: 0.1217235605388191\n"
          ]
        },
        {
          "output_type": "display_data",
          "data": {
            "image/png": "[encoded data removed]",
            "text/plain": [
              "<Figure size 432x288 with 2 Axes>"
            ]
          },
          "metadata": {
            "needs_background": "light"
          }
        }
      ]
    },
    {
      "cell_type": "markdown",
      "metadata": {
        "id": "0C4m6myd3aO1"
      },
      "source": [
        "## CNNs"
      ]
    },
    {
      "cell_type": "code",
      "metadata": {
        "colab": {
          "base_uri": "https://localhost:8080/"
        },
        "id": "BjOc8ckX3Zhb",
        "outputId": "c9ebf756-d407-48c1-983e-9a69bfdb1cb5"
      },
      "source": [
        "from tensorflow.keras.models import Sequential\n",
        "from tensorflow.keras.layers import Conv1D \n",
        "from tensorflow.keras.layers import MaxPooling1D\n",
        "from tensorflow.keras.layers import Flatten\n",
        "from tensorflow.keras.layers import Dense, Dropout\n",
        "from tensorflow.keras.utils import to_categorical\n",
        "# print('Tensorflow Version: ',tensorflow.__version__)\n",
        "from tensorflow.keras.layers import BatchNormalization\n",
        "\n",
        "def get_CNN_classifier():\n",
        "  # Initialising the CNN\n",
        "  model = Sequential()\n",
        "  # Convolution\n",
        "  model.add(Conv1D(filters = 32, kernel_size = 3, input_shape = (79, 105), activation = 'relu', padding = 'same'))\n",
        "  # Pooling\n",
        "  model.add(MaxPooling1D(pool_size = 2))\n",
        "  # Convolution\n",
        "  model.add(Conv1D(filters = 64, kernel_size = 3, input_shape = (39, 32), activation = 'relu', padding = 'same'))\n",
        "  model.add(Conv1D(filters = 64, kernel_size = 3, input_shape = (39, 64), activation = 'relu', padding = 'same'))\n",
        "  model.add(BatchNormalization())\n",
        "  model.add(MaxPooling1D(pool_size = 2))\n",
        "  model.add(Conv1D(filters =128, kernel_size = 3, input_shape = (19, 64), activation = 'relu', padding = 'same'))\n",
        "  # model.add(Conv1D(filters =128, kernel_size = 3, input_shape = (19, 128), activation = 'relu', padding = 'same'))\n",
        "  model.add(BatchNormalization())\n",
        "  model.add(MaxPooling1D(pool_size = 2))\n",
        "  model.add(Conv1D(filters =256, kernel_size = 3, input_shape = (9, 128), activation = 'relu', padding = 'same'))\n",
        "  #model.add(Conv1D(filters =256, kernel_size = 3, input_shape = (9, 256), activation = 'relu', padding = 'same'))\n",
        "  model.add(BatchNormalization())\n",
        "  model.add(MaxPooling1D(pool_size = 2))\n",
        "  model.add(Conv1D(filters =512, kernel_size = 3, input_shape = (4, 256), activation = 'relu', padding = 'same'))\n",
        "  #model.add(Conv1D(filters =512, kernel_size = 3, input_shape = (4, 512), activation = 'relu', padding = 'same'))\n",
        "  model.add(BatchNormalization())\n",
        "  model.add(MaxPooling1D(pool_size = 2))\n",
        "  model.add(Conv1D(filters = 1024, kernel_size = 3, input_shape = (2, 512), activation = 'relu', padding = 'same'))\n",
        "  model.add(Conv1D(filters = 1024, kernel_size = 3, input_shape = (2, 1028), activation = 'relu', padding = 'same'))\n",
        "  model.add(MaxPooling1D(pool_size = 2))\n",
        "  # Flattening\n",
        "  model.add(Flatten())\n",
        "\n",
        "  model.add(Dense(units = 6, activation = 'softmax'))\n",
        "  # Compiling the CNN\n",
        "  model.compile(optimizer = 'adam', loss = 'categorical_crossentropy', metrics = ['accuracy'])\n",
        "  model.summary()\n",
        "  \n",
        "  return model\n",
        "\n",
        "CNN_model = get_CNN_classifier()"
      ],
      "execution_count": 25,
      "outputs": [
        {
          "output_type": "stream",
          "name": "stdout",
          "text": [
            "Model: \"sequential\"\n",
            "_________________________________________________________________\n",
            " Layer (type)                Output Shape              Param #   \n",
            "=================================================================\n",
            " conv1d (Conv1D)             (None, 79, 32)            10112     \n",
            "                                                                 \n",
            " max_pooling1d (MaxPooling1D  (None, 39, 32)           0         \n",
            " )                                                               \n",
            "                                                                 \n",
            " conv1d_1 (Conv1D)           (None, 39, 64)            6208      \n",
            "                                                                 \n",
            " conv1d_2 (Conv1D)           (None, 39, 64)            12352     \n",
            "                                                                 \n",
            " batch_normalization_4 (Batc  (None, 39, 64)           256       \n",
            " hNormalization)                                                 \n",
            "                                                                 \n",
            " max_pooling1d_1 (MaxPooling  (None, 19, 64)           0         \n",
            " 1D)                                                             \n",
            "                                                                 \n",
            " conv1d_3 (Conv1D)           (None, 19, 128)           24704     \n",
            "                                                                 \n",
            " batch_normalization_5 (Batc  (None, 19, 128)          512       \n",
            " hNormalization)                                                 \n",
            "                                                                 \n",
            " max_pooling1d_2 (MaxPooling  (None, 9, 128)           0         \n",
            " 1D)                                                             \n",
            "                                                                 \n",
            " conv1d_4 (Conv1D)           (None, 9, 256)            98560     \n",
            "                                                                 \n",
            " batch_normalization_6 (Batc  (None, 9, 256)           1024      \n",
            " hNormalization)                                                 \n",
            "                                                                 \n",
            " max_pooling1d_3 (MaxPooling  (None, 4, 256)           0         \n",
            " 1D)                                                             \n",
            "                                                                 \n",
            " conv1d_5 (Conv1D)           (None, 4, 512)            393728    \n",
            "                                                                 \n",
            " batch_normalization_7 (Batc  (None, 4, 512)           2048      \n",
            " hNormalization)                                                 \n",
            "                                                                 \n",
            " max_pooling1d_4 (MaxPooling  (None, 2, 512)           0         \n",
            " 1D)                                                             \n",
            "                                                                 \n",
            " conv1d_6 (Conv1D)           (None, 2, 1024)           1573888   \n",
            "                                                                 \n",
            " conv1d_7 (Conv1D)           (None, 2, 1024)           3146752   \n",
            "                                                                 \n",
            " max_pooling1d_5 (MaxPooling  (None, 1, 1024)          0         \n",
            " 1D)                                                             \n",
            "                                                                 \n",
            " flatten (Flatten)           (None, 1024)              0         \n",
            "                                                                 \n",
            " dense_6 (Dense)             (None, 6)                 6150      \n",
            "                                                                 \n",
            "=================================================================\n",
            "Total params: 5,276,294\n",
            "Trainable params: 5,274,374\n",
            "Non-trainable params: 1,920\n",
            "_________________________________________________________________\n"
          ]
        }
      ]
    },
    {
      "cell_type": "code",
      "metadata": {
        "id": "TBoNrXMI77J_"
      },
      "source": [
        "# data reshaping for CNN\n",
        "n_electrode = 105\n",
        "n_freq =79 \n",
        "\n",
        "train_features_oversampled_reshaped = train_features_oversampled.to_numpy().reshape((train_features_oversampled.shape[0], n_electrode, n_freq))\n",
        "test_features_reshaped = test_features.to_numpy().reshape((test_features.shape[0], n_electrode, n_freq))"
      ],
      "execution_count": 26,
      "outputs": []
    },
    {
      "cell_type": "code",
      "metadata": {
        "colab": {
          "base_uri": "https://localhost:8080/"
        },
        "id": "P7U8Rfxi3ubo",
        "outputId": "60648af8-f2c5-497e-a7f0-9511fc238fa7"
      },
      "source": [
        "history_CNN = CNN_model.fit(np.transpose(train_features_oversampled_reshaped, (0, 2, 1)), train_labels_oversampled_categorical, validation_split=0.2, epochs=100, verbose=1)"
      ],
      "execution_count": 27,
      "outputs": [
        {
          "output_type": "stream",
          "name": "stdout",
          "text": [
            "Epoch 1/100\n",
            "52/52 [==============================] - 17s 25ms/step - loss: 2.1458 - accuracy: 0.2029 - val_loss: 3.3044 - val_accuracy: 0.0000e+00\n",
            "Epoch 2/100\n",
            "52/52 [==============================] - 1s 14ms/step - loss: 1.7112 - accuracy: 0.2372 - val_loss: 6.1246 - val_accuracy: 0.0000e+00\n",
            "Epoch 3/100\n",
            "52/52 [==============================] - 1s 15ms/step - loss: 1.7031 - accuracy: 0.2592 - val_loss: 5.0743 - val_accuracy: 0.0000e+00\n",
            "Epoch 4/100\n",
            "52/52 [==============================] - 1s 14ms/step - loss: 1.6822 - accuracy: 0.2726 - val_loss: 4.9790 - val_accuracy: 0.0000e+00\n",
            "Epoch 5/100\n",
            "52/52 [==============================] - 1s 15ms/step - loss: 1.6742 - accuracy: 0.2604 - val_loss: 2.8143 - val_accuracy: 0.0000e+00\n",
            "Epoch 6/100\n",
            "52/52 [==============================] - 1s 15ms/step - loss: 1.6744 - accuracy: 0.2793 - val_loss: 2.7229 - val_accuracy: 0.0049\n",
            "Epoch 7/100\n",
            "52/52 [==============================] - 1s 14ms/step - loss: 1.6549 - accuracy: 0.2800 - val_loss: 3.5320 - val_accuracy: 0.0024\n",
            "Epoch 8/100\n",
            "52/52 [==============================] - 1s 14ms/step - loss: 1.6274 - accuracy: 0.2891 - val_loss: 2.9122 - val_accuracy: 0.0024\n",
            "Epoch 9/100\n",
            "52/52 [==============================] - 1s 14ms/step - loss: 1.6104 - accuracy: 0.3166 - val_loss: 2.7369 - val_accuracy: 0.1415\n",
            "Epoch 10/100\n",
            "52/52 [==============================] - 1s 14ms/step - loss: 1.5828 - accuracy: 0.3172 - val_loss: 2.6034 - val_accuracy: 0.0634\n",
            "Epoch 11/100\n",
            "52/52 [==============================] - 1s 14ms/step - loss: 1.5751 - accuracy: 0.3344 - val_loss: 2.6344 - val_accuracy: 0.0390\n",
            "Epoch 12/100\n",
            "52/52 [==============================] - 1s 14ms/step - loss: 1.4639 - accuracy: 0.3973 - val_loss: 4.1357 - val_accuracy: 0.0293\n",
            "Epoch 13/100\n",
            "52/52 [==============================] - 1s 14ms/step - loss: 1.4985 - accuracy: 0.3747 - val_loss: 2.8193 - val_accuracy: 0.1171\n",
            "Epoch 14/100\n",
            "52/52 [==============================] - 1s 14ms/step - loss: 1.4377 - accuracy: 0.4163 - val_loss: 2.9922 - val_accuracy: 0.0049\n",
            "Epoch 15/100\n",
            "52/52 [==============================] - 1s 14ms/step - loss: 1.3960 - accuracy: 0.4144 - val_loss: 2.7025 - val_accuracy: 0.0707\n",
            "Epoch 16/100\n",
            "52/52 [==============================] - 1s 15ms/step - loss: 1.3460 - accuracy: 0.4474 - val_loss: 2.7011 - val_accuracy: 0.2512\n",
            "Epoch 17/100\n",
            "52/52 [==============================] - 1s 14ms/step - loss: 1.3452 - accuracy: 0.4468 - val_loss: 2.8012 - val_accuracy: 0.0902\n",
            "Epoch 18/100\n",
            "52/52 [==============================] - 1s 14ms/step - loss: 1.3164 - accuracy: 0.4664 - val_loss: 2.3587 - val_accuracy: 0.0512\n",
            "Epoch 19/100\n",
            "52/52 [==============================] - 1s 14ms/step - loss: 1.2566 - accuracy: 0.4988 - val_loss: 2.3981 - val_accuracy: 0.0756\n",
            "Epoch 20/100\n",
            "52/52 [==============================] - 1s 14ms/step - loss: 1.2421 - accuracy: 0.5098 - val_loss: 2.4957 - val_accuracy: 0.1220\n",
            "Epoch 21/100\n",
            "52/52 [==============================] - 1s 14ms/step - loss: 1.1314 - accuracy: 0.5611 - val_loss: 2.7810 - val_accuracy: 0.1610\n",
            "Epoch 22/100\n",
            "52/52 [==============================] - 1s 15ms/step - loss: 1.1239 - accuracy: 0.5581 - val_loss: 1.9962 - val_accuracy: 0.2098\n",
            "Epoch 23/100\n",
            "52/52 [==============================] - 1s 14ms/step - loss: 1.0224 - accuracy: 0.5941 - val_loss: 2.5872 - val_accuracy: 0.0439\n",
            "Epoch 24/100\n",
            "52/52 [==============================] - 1s 14ms/step - loss: 1.0063 - accuracy: 0.6064 - val_loss: 2.2396 - val_accuracy: 0.1537\n",
            "Epoch 25/100\n",
            "52/52 [==============================] - 1s 15ms/step - loss: 1.0178 - accuracy: 0.6100 - val_loss: 2.1359 - val_accuracy: 0.2561\n",
            "Epoch 26/100\n",
            "52/52 [==============================] - 1s 14ms/step - loss: 1.0431 - accuracy: 0.5868 - val_loss: 1.9167 - val_accuracy: 0.3341\n",
            "Epoch 27/100\n",
            "52/52 [==============================] - 1s 14ms/step - loss: 0.9090 - accuracy: 0.6632 - val_loss: 2.1892 - val_accuracy: 0.2561\n",
            "Epoch 28/100\n",
            "52/52 [==============================] - 1s 14ms/step - loss: 0.8361 - accuracy: 0.6767 - val_loss: 1.6490 - val_accuracy: 0.3854\n",
            "Epoch 29/100\n",
            "52/52 [==============================] - 1s 14ms/step - loss: 0.7762 - accuracy: 0.7145 - val_loss: 1.4674 - val_accuracy: 0.5268\n",
            "Epoch 30/100\n",
            "52/52 [==============================] - 1s 14ms/step - loss: 0.7397 - accuracy: 0.7164 - val_loss: 1.5810 - val_accuracy: 0.5146\n",
            "Epoch 31/100\n",
            "52/52 [==============================] - 1s 14ms/step - loss: 0.6283 - accuracy: 0.7592 - val_loss: 2.3800 - val_accuracy: 0.3220\n",
            "Epoch 32/100\n",
            "52/52 [==============================] - 1s 14ms/step - loss: 0.8237 - accuracy: 0.6925 - val_loss: 2.6677 - val_accuracy: 0.2439\n",
            "Epoch 33/100\n",
            "52/52 [==============================] - 1s 14ms/step - loss: 0.7918 - accuracy: 0.7060 - val_loss: 1.2522 - val_accuracy: 0.5732\n",
            "Epoch 34/100\n",
            "52/52 [==============================] - 1s 14ms/step - loss: 0.5706 - accuracy: 0.7861 - val_loss: 1.5684 - val_accuracy: 0.5195\n",
            "Epoch 35/100\n",
            "52/52 [==============================] - 1s 14ms/step - loss: 0.6668 - accuracy: 0.7579 - val_loss: 1.5762 - val_accuracy: 0.4732\n",
            "Epoch 36/100\n",
            "52/52 [==============================] - 1s 14ms/step - loss: 0.5193 - accuracy: 0.8081 - val_loss: 1.0320 - val_accuracy: 0.6146\n",
            "Epoch 37/100\n",
            "52/52 [==============================] - 1s 14ms/step - loss: 0.4669 - accuracy: 0.8252 - val_loss: 1.9287 - val_accuracy: 0.5122\n",
            "Epoch 38/100\n",
            "52/52 [==============================] - 1s 14ms/step - loss: 0.5628 - accuracy: 0.7995 - val_loss: 1.1555 - val_accuracy: 0.6220\n",
            "Epoch 39/100\n",
            "52/52 [==============================] - 1s 14ms/step - loss: 0.4135 - accuracy: 0.8466 - val_loss: 0.9116 - val_accuracy: 0.7146\n",
            "Epoch 40/100\n",
            "52/52 [==============================] - 1s 14ms/step - loss: 0.4120 - accuracy: 0.8557 - val_loss: 1.8829 - val_accuracy: 0.5439\n",
            "Epoch 41/100\n",
            "52/52 [==============================] - 1s 14ms/step - loss: 0.4537 - accuracy: 0.8331 - val_loss: 1.7910 - val_accuracy: 0.4780\n",
            "Epoch 42/100\n",
            "52/52 [==============================] - 1s 14ms/step - loss: 0.3885 - accuracy: 0.8667 - val_loss: 1.4696 - val_accuracy: 0.6341\n",
            "Epoch 43/100\n",
            "52/52 [==============================] - 1s 14ms/step - loss: 0.3787 - accuracy: 0.8802 - val_loss: 1.5144 - val_accuracy: 0.5610\n",
            "Epoch 44/100\n",
            "52/52 [==============================] - 1s 14ms/step - loss: 0.2908 - accuracy: 0.8869 - val_loss: 0.7781 - val_accuracy: 0.7854\n",
            "Epoch 45/100\n",
            "52/52 [==============================] - 1s 15ms/step - loss: 0.3644 - accuracy: 0.8802 - val_loss: 1.0941 - val_accuracy: 0.7049\n",
            "Epoch 46/100\n",
            "52/52 [==============================] - 1s 14ms/step - loss: 0.4459 - accuracy: 0.8392 - val_loss: 0.9181 - val_accuracy: 0.7341\n",
            "Epoch 47/100\n",
            "52/52 [==============================] - 1s 14ms/step - loss: 0.3995 - accuracy: 0.8661 - val_loss: 0.9641 - val_accuracy: 0.7024\n",
            "Epoch 48/100\n",
            "52/52 [==============================] - 1s 14ms/step - loss: 0.3617 - accuracy: 0.8753 - val_loss: 1.8050 - val_accuracy: 0.5171\n",
            "Epoch 49/100\n",
            "52/52 [==============================] - 1s 14ms/step - loss: 0.3157 - accuracy: 0.8894 - val_loss: 2.0279 - val_accuracy: 0.5195\n",
            "Epoch 50/100\n",
            "52/52 [==============================] - 1s 14ms/step - loss: 0.1954 - accuracy: 0.9352 - val_loss: 0.6399 - val_accuracy: 0.8366\n",
            "Epoch 51/100\n",
            "52/52 [==============================] - 1s 14ms/step - loss: 0.2729 - accuracy: 0.9114 - val_loss: 0.8731 - val_accuracy: 0.7634\n",
            "Epoch 52/100\n",
            "52/52 [==============================] - 1s 16ms/step - loss: 0.3745 - accuracy: 0.8747 - val_loss: 1.0630 - val_accuracy: 0.6683\n",
            "Epoch 53/100\n",
            "52/52 [==============================] - 1s 14ms/step - loss: 0.2702 - accuracy: 0.9034 - val_loss: 0.8792 - val_accuracy: 0.7512\n",
            "Epoch 54/100\n",
            "52/52 [==============================] - 1s 14ms/step - loss: 0.3593 - accuracy: 0.8765 - val_loss: 1.2677 - val_accuracy: 0.6683\n",
            "Epoch 55/100\n",
            "52/52 [==============================] - 1s 14ms/step - loss: 0.2226 - accuracy: 0.9236 - val_loss: 1.1267 - val_accuracy: 0.6756\n",
            "Epoch 56/100\n",
            "52/52 [==============================] - 1s 14ms/step - loss: 0.1733 - accuracy: 0.9389 - val_loss: 1.3636 - val_accuracy: 0.6854\n",
            "Epoch 57/100\n",
            "52/52 [==============================] - 1s 14ms/step - loss: 0.1304 - accuracy: 0.9566 - val_loss: 1.5554 - val_accuracy: 0.6512\n",
            "Epoch 58/100\n",
            "52/52 [==============================] - 1s 14ms/step - loss: 0.4535 - accuracy: 0.8564 - val_loss: 0.5928 - val_accuracy: 0.8049\n",
            "Epoch 59/100\n",
            "52/52 [==============================] - 1s 15ms/step - loss: 0.1672 - accuracy: 0.9493 - val_loss: 0.9554 - val_accuracy: 0.7268\n",
            "Epoch 60/100\n",
            "52/52 [==============================] - 1s 14ms/step - loss: 0.6996 - accuracy: 0.7763 - val_loss: 1.3189 - val_accuracy: 0.6146\n",
            "Epoch 61/100\n",
            "52/52 [==============================] - 1s 15ms/step - loss: 0.2781 - accuracy: 0.9065 - val_loss: 0.8425 - val_accuracy: 0.8049\n",
            "Epoch 62/100\n",
            "52/52 [==============================] - 1s 14ms/step - loss: 0.1260 - accuracy: 0.9633 - val_loss: 1.1123 - val_accuracy: 0.7463\n",
            "Epoch 63/100\n",
            "52/52 [==============================] - 1s 14ms/step - loss: 0.2724 - accuracy: 0.9077 - val_loss: 0.5254 - val_accuracy: 0.8537\n",
            "Epoch 64/100\n",
            "52/52 [==============================] - 1s 15ms/step - loss: 0.2079 - accuracy: 0.9364 - val_loss: 1.6363 - val_accuracy: 0.6390\n",
            "Epoch 65/100\n",
            "52/52 [==============================] - 1s 14ms/step - loss: 0.1500 - accuracy: 0.9529 - val_loss: 0.6467 - val_accuracy: 0.8341\n",
            "Epoch 66/100\n",
            "52/52 [==============================] - 1s 14ms/step - loss: 0.0980 - accuracy: 0.9682 - val_loss: 0.9477 - val_accuracy: 0.7659\n",
            "Epoch 67/100\n",
            "52/52 [==============================] - 1s 14ms/step - loss: 0.3587 - accuracy: 0.8875 - val_loss: 1.1187 - val_accuracy: 0.7366\n",
            "Epoch 68/100\n",
            "52/52 [==============================] - 1s 14ms/step - loss: 0.2444 - accuracy: 0.9187 - val_loss: 0.6194 - val_accuracy: 0.8341\n",
            "Epoch 69/100\n",
            "52/52 [==============================] - 1s 14ms/step - loss: 0.0833 - accuracy: 0.9737 - val_loss: 0.4149 - val_accuracy: 0.8805\n",
            "Epoch 70/100\n",
            "52/52 [==============================] - 1s 13ms/step - loss: 0.1949 - accuracy: 0.9377 - val_loss: 1.6942 - val_accuracy: 0.6073\n",
            "Epoch 71/100\n",
            "52/52 [==============================] - 1s 14ms/step - loss: 0.1511 - accuracy: 0.9517 - val_loss: 1.0690 - val_accuracy: 0.7220\n",
            "Epoch 72/100\n",
            "52/52 [==============================] - 1s 14ms/step - loss: 0.2095 - accuracy: 0.9297 - val_loss: 0.6306 - val_accuracy: 0.8463\n",
            "Epoch 73/100\n",
            "52/52 [==============================] - 1s 14ms/step - loss: 0.1410 - accuracy: 0.9572 - val_loss: 0.9386 - val_accuracy: 0.7634\n",
            "Epoch 74/100\n",
            "52/52 [==============================] - 1s 14ms/step - loss: 0.1518 - accuracy: 0.9456 - val_loss: 1.3532 - val_accuracy: 0.7366\n",
            "Epoch 75/100\n",
            "52/52 [==============================] - 1s 14ms/step - loss: 0.1608 - accuracy: 0.9566 - val_loss: 0.6709 - val_accuracy: 0.8146\n",
            "Epoch 76/100\n",
            "52/52 [==============================] - 1s 14ms/step - loss: 0.1961 - accuracy: 0.9425 - val_loss: 0.6920 - val_accuracy: 0.8049\n",
            "Epoch 77/100\n",
            "52/52 [==============================] - 1s 15ms/step - loss: 0.0747 - accuracy: 0.9786 - val_loss: 0.6390 - val_accuracy: 0.8268\n",
            "Epoch 78/100\n",
            "52/52 [==============================] - 1s 15ms/step - loss: 0.2380 - accuracy: 0.9303 - val_loss: 1.1614 - val_accuracy: 0.7195\n",
            "Epoch 79/100\n",
            "52/52 [==============================] - 1s 15ms/step - loss: 0.0955 - accuracy: 0.9682 - val_loss: 0.3949 - val_accuracy: 0.8976\n",
            "Epoch 80/100\n",
            "52/52 [==============================] - 1s 15ms/step - loss: 0.0735 - accuracy: 0.9762 - val_loss: 0.6883 - val_accuracy: 0.8244\n",
            "Epoch 81/100\n",
            "52/52 [==============================] - 1s 14ms/step - loss: 0.2042 - accuracy: 0.9328 - val_loss: 2.0046 - val_accuracy: 0.5878\n",
            "Epoch 82/100\n",
            "52/52 [==============================] - 1s 14ms/step - loss: 0.5151 - accuracy: 0.8386 - val_loss: 0.7264 - val_accuracy: 0.7878\n",
            "Epoch 83/100\n",
            "52/52 [==============================] - 1s 14ms/step - loss: 0.3319 - accuracy: 0.8924 - val_loss: 0.6664 - val_accuracy: 0.7976\n",
            "Epoch 84/100\n",
            "52/52 [==============================] - 1s 14ms/step - loss: 0.2558 - accuracy: 0.9144 - val_loss: 0.5262 - val_accuracy: 0.8537\n",
            "Epoch 85/100\n",
            "52/52 [==============================] - 1s 14ms/step - loss: 0.1772 - accuracy: 0.9474 - val_loss: 0.6880 - val_accuracy: 0.8317\n",
            "Epoch 86/100\n",
            "52/52 [==============================] - 1s 14ms/step - loss: 0.1321 - accuracy: 0.9572 - val_loss: 0.9944 - val_accuracy: 0.7829\n",
            "Epoch 87/100\n",
            "52/52 [==============================] - 1s 14ms/step - loss: 0.1570 - accuracy: 0.9572 - val_loss: 0.6102 - val_accuracy: 0.8317\n",
            "Epoch 88/100\n",
            "52/52 [==============================] - 1s 14ms/step - loss: 0.1767 - accuracy: 0.9425 - val_loss: 0.5624 - val_accuracy: 0.8561\n",
            "Epoch 89/100\n",
            "52/52 [==============================] - 1s 14ms/step - loss: 0.0977 - accuracy: 0.9694 - val_loss: 0.4511 - val_accuracy: 0.8927\n",
            "Epoch 90/100\n",
            "52/52 [==============================] - 1s 15ms/step - loss: 0.0659 - accuracy: 0.9841 - val_loss: 0.5391 - val_accuracy: 0.8780\n",
            "Epoch 91/100\n",
            "52/52 [==============================] - 1s 14ms/step - loss: 0.0390 - accuracy: 0.9878 - val_loss: 0.4493 - val_accuracy: 0.8927\n",
            "Epoch 92/100\n",
            "52/52 [==============================] - 1s 14ms/step - loss: 0.0308 - accuracy: 0.9896 - val_loss: 0.9665 - val_accuracy: 0.7854\n",
            "Epoch 93/100\n",
            "52/52 [==============================] - 1s 14ms/step - loss: 0.1772 - accuracy: 0.9413 - val_loss: 1.7259 - val_accuracy: 0.7000\n",
            "Epoch 94/100\n",
            "52/52 [==============================] - 1s 15ms/step - loss: 0.1020 - accuracy: 0.9713 - val_loss: 1.0464 - val_accuracy: 0.7341\n",
            "Epoch 95/100\n",
            "52/52 [==============================] - 1s 14ms/step - loss: 0.2432 - accuracy: 0.9211 - val_loss: 1.1048 - val_accuracy: 0.7537\n",
            "Epoch 96/100\n",
            "52/52 [==============================] - 1s 14ms/step - loss: 0.1771 - accuracy: 0.9425 - val_loss: 0.8137 - val_accuracy: 0.8293\n",
            "Epoch 97/100\n",
            "52/52 [==============================] - 1s 14ms/step - loss: 0.1322 - accuracy: 0.9554 - val_loss: 0.7390 - val_accuracy: 0.8439\n",
            "Epoch 98/100\n",
            "52/52 [==============================] - 1s 15ms/step - loss: 0.0807 - accuracy: 0.9743 - val_loss: 1.0395 - val_accuracy: 0.8000\n",
            "Epoch 99/100\n",
            "52/52 [==============================] - 1s 15ms/step - loss: 0.1386 - accuracy: 0.9542 - val_loss: 0.9915 - val_accuracy: 0.8024\n",
            "Epoch 100/100\n",
            "52/52 [==============================] - 1s 14ms/step - loss: 0.0927 - accuracy: 0.9694 - val_loss: 0.6508 - val_accuracy: 0.8415\n"
          ]
        }
      ]
    },
    {
      "cell_type": "code",
      "metadata": {
        "colab": {
          "base_uri": "https://localhost:8080/",
          "height": 349
        },
        "id": "VsyH2EGgAyvj",
        "outputId": "06e973f4-5ee5-4877-e8fd-c2c199587074"
      },
      "source": [
        "predicted_labels_cnn = CNN_model.predict(np.transpose(test_features_reshaped, (0, 2, 1)))\n",
        "evaluate(test_labels_categorical, predicted_labels_cnn, is_categorical=True)"
      ],
      "execution_count": 28,
      "outputs": [
        {
          "output_type": "stream",
          "name": "stdout",
          "text": [
            "Accuracy: 0.18984962406015038\n",
            "Precision: 0.13934841613413043\n",
            "Recall: 0.14787249164610997\n",
            "F1 score: 0.14166637871328944\n"
          ]
        },
        {
          "output_type": "display_data",
          "data": {
            "image/png": "[encoded data removed]",
            "text/plain": [
              "<Figure size 432x288 with 2 Axes>"
            ]
          },
          "metadata": {
            "needs_background": "light"
          }
        }
      ]
    },
    {
      "cell_type": "code",
      "metadata": {
        "colab": {
          "base_uri": "https://localhost:8080/"
        },
        "id": "5AWKpHGYFCMK",
        "outputId": "d405c824-ba93-4bf3-d018-8798ab942953"
      },
      "source": [
        "from tensorflow.keras.layers import Conv2D , MaxPooling2D, GlobalAveragePooling2D\n",
        "from tensorflow.keras.optimizers import Adam\n",
        "#dilation of the filters , for deeper  convolutionm try with the whole signal\n",
        "def get_CNN_2_classifier():\n",
        "\n",
        "    k = 3  # kernel size\n",
        "    s = 2  # stride\n",
        "    n_filters = 32 # number of filters\n",
        "    inputs = Input(shape=(79, 105, 1))\n",
        "\n",
        "    conv1 = Conv2D(n_filters, kernel_size=(k, k), strides=(s, s), padding='same')(inputs)\n",
        "    conv1 = BatchNormalization(scale=False, axis=3)(conv1)\n",
        "    conv1 = LeakyReLU(alpha=0.2)(conv1)\n",
        "    conv1 = Conv2D(n_filters, kernel_size=(k, k), padding='same')(conv1)\n",
        "    conv1 = BatchNormalization(scale=False, axis=3)(conv1)\n",
        "    conv1 = LeakyReLU(alpha=0.1)(conv1)\n",
        "    pool1 = MaxPooling2D(pool_size=(s, s))(conv1)\n",
        "\n",
        "    conv2 = Conv2D(2 * n_filters, kernel_size=(k, k), strides=(s, s), padding='same')(pool1)\n",
        "    conv2 = BatchNormalization(scale=False, axis=3)(conv2)\n",
        "    conv2 = LeakyReLU(alpha=0.3)(conv2)\n",
        "    conv2 = Conv2D(2 * n_filters, kernel_size=(k, k), padding='same')(conv2)\n",
        "    conv2 = BatchNormalization(scale=False, axis=3)(conv2)\n",
        "    conv2 = LeakyReLU(alpha=0.1)(conv2)\n",
        "    pool2 = MaxPooling2D(pool_size=(s, s))(conv2)\n",
        "\n",
        "    conv3 = Conv2D(4 * n_filters, kernel_size=(k, k), padding='same')(pool2)\n",
        "    conv3 = BatchNormalization(scale=False, axis=3)(conv3)\n",
        "    conv3 = LeakyReLU(alpha=0.1)(conv3)\n",
        "    conv3 = Conv2D(4 * n_filters, kernel_size=(k, k), padding='same')(conv3)\n",
        "    conv3 = BatchNormalization(scale=False, axis=3)(conv3)\n",
        "    conv3 = LeakyReLU(alpha=0.1)(conv3)\n",
        "    pool3 = MaxPooling2D(pool_size=(s, s))(conv3)\n",
        "\n",
        "    conv4 = Conv2D(8 * n_filters, kernel_size=(k, k), padding='same')(pool3)\n",
        "    conv4 = BatchNormalization(scale=False, axis=3)(conv4)\n",
        "    conv4 = LeakyReLU(alpha=0.1)(conv4)\n",
        "    conv4 = Conv2D(8 * n_filters, kernel_size=(k, k), padding='same')(conv4)\n",
        "    conv4 = BatchNormalization(scale=False, axis=3)(conv4)\n",
        "    conv4 = LeakyReLU(alpha=0.1)(conv4)\n",
        "    pool4 = MaxPooling2D(pool_size=(s, s))(conv4)\n",
        "\n",
        "    conv5 = Conv2D(16 * n_filters, kernel_size=(k, k), padding='same')(pool4)\n",
        "    conv5 = BatchNormalization(scale=False, axis=3)(conv5)\n",
        "    conv5 = LeakyReLU(alpha=0.1)(conv5)\n",
        "    conv5 = Conv2D(16 * n_filters, kernel_size=(k, k), padding='same')(conv5)\n",
        "    conv5 = BatchNormalization(scale=False, axis=3)(conv5)\n",
        "    conv5 = LeakyReLU(alpha=0.1)(conv5)\n",
        "\n",
        "    gap = GlobalAveragePooling2D()(conv5)\n",
        "    outputs = Dense(6, activation='softmax')(gap)\n",
        "\n",
        "    model = Model(inputs, outputs)\n",
        "    model.compile(optimizer = Adam(lr=1e-4), loss = 'categorical_crossentropy', metrics = ['accuracy'])\n",
        "    model.summary()\n",
        "  \n",
        "    return model\n",
        "\n",
        "CNN_model_2 = get_CNN_2_classifier()"
      ],
      "execution_count": 29,
      "outputs": [
        {
          "output_type": "stream",
          "name": "stdout",
          "text": [
            "Model: \"model_2\"\n",
            "_________________________________________________________________\n",
            " Layer (type)                Output Shape              Param #   \n",
            "=================================================================\n",
            " input_2 (InputLayer)        [(None, 79, 105, 1)]      0         \n",
            "                                                                 \n",
            " conv2d (Conv2D)             (None, 40, 53, 32)        320       \n",
            "                                                                 \n",
            " batch_normalization_8 (Batc  (None, 40, 53, 32)       96        \n",
            " hNormalization)                                                 \n",
            "                                                                 \n",
            " leaky_re_lu_4 (LeakyReLU)   (None, 40, 53, 32)        0         \n",
            "                                                                 \n",
            " conv2d_1 (Conv2D)           (None, 40, 53, 32)        9248      \n",
            "                                                                 \n",
            " batch_normalization_9 (Batc  (None, 40, 53, 32)       96        \n",
            " hNormalization)                                                 \n",
            "                                                                 \n",
            " leaky_re_lu_5 (LeakyReLU)   (None, 40, 53, 32)        0         \n",
            "                                                                 \n",
            " max_pooling2d (MaxPooling2D  (None, 20, 26, 32)       0         \n",
            " )                                                               \n",
            "                                                                 \n",
            " conv2d_2 (Conv2D)           (None, 10, 13, 64)        18496     \n",
            "                                                                 \n",
            " batch_normalization_10 (Bat  (None, 10, 13, 64)       192       \n",
            " chNormalization)                                                \n",
            "                                                                 \n",
            " leaky_re_lu_6 (LeakyReLU)   (None, 10, 13, 64)        0         \n",
            "                                                                 \n",
            " conv2d_3 (Conv2D)           (None, 10, 13, 64)        36928     \n",
            "                                                                 \n",
            " batch_normalization_11 (Bat  (None, 10, 13, 64)       192       \n",
            " chNormalization)                                                \n",
            "                                                                 \n",
            " leaky_re_lu_7 (LeakyReLU)   (None, 10, 13, 64)        0         \n",
            "                                                                 \n",
            " max_pooling2d_1 (MaxPooling  (None, 5, 6, 64)         0         \n",
            " 2D)                                                             \n",
            "                                                                 \n",
            " conv2d_4 (Conv2D)           (None, 5, 6, 128)         73856     \n",
            "                                                                 \n",
            " batch_normalization_12 (Bat  (None, 5, 6, 128)        384       \n",
            " chNormalization)                                                \n",
            "                                                                 \n",
            " leaky_re_lu_8 (LeakyReLU)   (None, 5, 6, 128)         0         \n",
            "                                                                 \n",
            " conv2d_5 (Conv2D)           (None, 5, 6, 128)         147584    \n",
            "                                                                 \n",
            " batch_normalization_13 (Bat  (None, 5, 6, 128)        384       \n",
            " chNormalization)                                                \n",
            "                                                                 \n",
            " leaky_re_lu_9 (LeakyReLU)   (None, 5, 6, 128)         0         \n",
            "                                                                 \n",
            " max_pooling2d_2 (MaxPooling  (None, 2, 3, 128)        0         \n",
            " 2D)                                                             \n",
            "                                                                 \n",
            " conv2d_6 (Conv2D)           (None, 2, 3, 256)         295168    \n",
            "                                                                 \n",
            " batch_normalization_14 (Bat  (None, 2, 3, 256)        768       \n",
            " chNormalization)                                                \n",
            "                                                                 \n",
            " leaky_re_lu_10 (LeakyReLU)  (None, 2, 3, 256)         0         \n",
            "                                                                 \n",
            " conv2d_7 (Conv2D)           (None, 2, 3, 256)         590080    \n",
            "                                                                 \n",
            " batch_normalization_15 (Bat  (None, 2, 3, 256)        768       \n",
            " chNormalization)                                                \n",
            "                                                                 \n",
            " leaky_re_lu_11 (LeakyReLU)  (None, 2, 3, 256)         0         \n",
            "                                                                 \n",
            " max_pooling2d_3 (MaxPooling  (None, 1, 1, 256)        0         \n",
            " 2D)                                                             \n",
            "                                                                 \n",
            " conv2d_8 (Conv2D)           (None, 1, 1, 512)         1180160   \n",
            "                                                                 \n",
            " batch_normalization_16 (Bat  (None, 1, 1, 512)        1536      \n",
            " chNormalization)                                                \n",
            "                                                                 \n",
            " leaky_re_lu_12 (LeakyReLU)  (None, 1, 1, 512)         0         \n",
            "                                                                 \n",
            " conv2d_9 (Conv2D)           (None, 1, 1, 512)         2359808   \n",
            "                                                                 \n",
            " batch_normalization_17 (Bat  (None, 1, 1, 512)        1536      \n",
            " chNormalization)                                                \n",
            "                                                                 \n",
            " leaky_re_lu_13 (LeakyReLU)  (None, 1, 1, 512)         0         \n",
            "                                                                 \n",
            " global_average_pooling2d (G  (None, 512)              0         \n",
            " lobalAveragePooling2D)                                          \n",
            "                                                                 \n",
            " dense_7 (Dense)             (None, 6)                 3078      \n",
            "                                                                 \n",
            "=================================================================\n",
            "Total params: 4,720,678\n",
            "Trainable params: 4,716,710\n",
            "Non-trainable params: 3,968\n",
            "_________________________________________________________________\n"
          ]
        },
        {
          "output_type": "stream",
          "name": "stderr",
          "text": [
            "/usr/local/lib/python3.7/dist-packages/keras/optimizer_v2/adam.py:105: UserWarning: The `lr` argument is deprecated, use `learning_rate` instead.\n",
            "  super(Adam, self).__init__(name, **kwargs)\n"
          ]
        }
      ]
    },
    {
      "cell_type": "code",
      "metadata": {
        "colab": {
          "base_uri": "https://localhost:8080/"
        },
        "id": "edjGaE1eG7Ng",
        "outputId": "caa86c1a-2893-44e0-ff7f-34903de7d975"
      },
      "source": [
        "history_CNN_2 = CNN_model_2.fit(np.transpose(train_features_oversampled_reshaped, (0, 2, 1)), train_labels_oversampled_categorical, validation_split=0.2, epochs=50, verbose=1)\n"
      ],
      "execution_count": 30,
      "outputs": [
        {
          "output_type": "stream",
          "name": "stdout",
          "text": [
            "Epoch 1/50\n",
            "52/52 [==============================] - 3s 24ms/step - loss: 1.8812 - accuracy: 0.2445 - val_loss: 1.8641 - val_accuracy: 0.0000e+00\n",
            "Epoch 2/50\n",
            "52/52 [==============================] - 1s 14ms/step - loss: 1.5691 - accuracy: 0.3759 - val_loss: 1.9922 - val_accuracy: 0.0000e+00\n",
            "Epoch 3/50\n",
            "52/52 [==============================] - 1s 14ms/step - loss: 1.4094 - accuracy: 0.4505 - val_loss: 2.0837 - val_accuracy: 0.0000e+00\n",
            "Epoch 4/50\n",
            "52/52 [==============================] - 1s 14ms/step - loss: 1.2327 - accuracy: 0.5446 - val_loss: 2.2649 - val_accuracy: 0.0146\n",
            "Epoch 5/50\n",
            "52/52 [==============================] - 1s 13ms/step - loss: 1.1963 - accuracy: 0.5520 - val_loss: 2.2874 - val_accuracy: 0.0317\n",
            "Epoch 6/50\n",
            "52/52 [==============================] - 1s 13ms/step - loss: 0.9776 - accuracy: 0.6369 - val_loss: 2.1567 - val_accuracy: 0.0780\n",
            "Epoch 7/50\n",
            "52/52 [==============================] - 1s 13ms/step - loss: 0.8445 - accuracy: 0.6962 - val_loss: 1.9735 - val_accuracy: 0.1854\n",
            "Epoch 8/50\n",
            "52/52 [==============================] - 1s 14ms/step - loss: 0.6678 - accuracy: 0.7702 - val_loss: 1.7366 - val_accuracy: 0.3171\n",
            "Epoch 9/50\n",
            "52/52 [==============================] - 1s 14ms/step - loss: 0.5560 - accuracy: 0.8056 - val_loss: 1.2974 - val_accuracy: 0.3976\n",
            "Epoch 10/50\n",
            "52/52 [==============================] - 1s 13ms/step - loss: 0.6919 - accuracy: 0.7433 - val_loss: 1.4391 - val_accuracy: 0.3927\n",
            "Epoch 11/50\n",
            "52/52 [==============================] - 1s 13ms/step - loss: 0.4122 - accuracy: 0.8765 - val_loss: 1.0916 - val_accuracy: 0.5366\n",
            "Epoch 12/50\n",
            "52/52 [==============================] - 1s 13ms/step - loss: 0.3452 - accuracy: 0.8875 - val_loss: 1.3723 - val_accuracy: 0.4463\n",
            "Epoch 13/50\n",
            "52/52 [==============================] - 1s 13ms/step - loss: 0.4176 - accuracy: 0.8594 - val_loss: 1.3645 - val_accuracy: 0.4366\n",
            "Epoch 14/50\n",
            "52/52 [==============================] - 1s 14ms/step - loss: 0.3714 - accuracy: 0.8845 - val_loss: 1.1027 - val_accuracy: 0.5732\n",
            "Epoch 15/50\n",
            "52/52 [==============================] - 1s 14ms/step - loss: 0.2832 - accuracy: 0.9138 - val_loss: 1.3403 - val_accuracy: 0.5073\n",
            "Epoch 16/50\n",
            "52/52 [==============================] - 1s 14ms/step - loss: 0.3847 - accuracy: 0.8704 - val_loss: 1.0674 - val_accuracy: 0.5732\n",
            "Epoch 17/50\n",
            "52/52 [==============================] - 1s 14ms/step - loss: 0.2314 - accuracy: 0.9260 - val_loss: 0.8086 - val_accuracy: 0.7073\n",
            "Epoch 18/50\n",
            "52/52 [==============================] - 1s 14ms/step - loss: 0.2940 - accuracy: 0.9010 - val_loss: 0.9343 - val_accuracy: 0.6415\n",
            "Epoch 19/50\n",
            "52/52 [==============================] - 1s 13ms/step - loss: 0.2492 - accuracy: 0.9187 - val_loss: 0.3448 - val_accuracy: 0.8610\n",
            "Epoch 20/50\n",
            "52/52 [==============================] - 1s 13ms/step - loss: 0.3006 - accuracy: 0.8955 - val_loss: 0.3717 - val_accuracy: 0.8780\n",
            "Epoch 21/50\n",
            "52/52 [==============================] - 1s 13ms/step - loss: 0.2306 - accuracy: 0.9175 - val_loss: 0.8561 - val_accuracy: 0.7122\n",
            "Epoch 22/50\n",
            "52/52 [==============================] - 1s 13ms/step - loss: 0.1639 - accuracy: 0.9560 - val_loss: 0.4135 - val_accuracy: 0.8415\n",
            "Epoch 23/50\n",
            "52/52 [==============================] - 1s 14ms/step - loss: 0.1218 - accuracy: 0.9658 - val_loss: 0.6041 - val_accuracy: 0.7659\n",
            "Epoch 24/50\n",
            "52/52 [==============================] - 1s 14ms/step - loss: 0.1843 - accuracy: 0.9407 - val_loss: 0.4016 - val_accuracy: 0.8805\n",
            "Epoch 25/50\n",
            "52/52 [==============================] - 1s 13ms/step - loss: 0.1762 - accuracy: 0.9425 - val_loss: 0.9763 - val_accuracy: 0.6463\n",
            "Epoch 26/50\n",
            "52/52 [==============================] - 1s 13ms/step - loss: 0.1815 - accuracy: 0.9468 - val_loss: 0.8322 - val_accuracy: 0.6659\n",
            "Epoch 27/50\n",
            "52/52 [==============================] - 1s 14ms/step - loss: 0.1468 - accuracy: 0.9535 - val_loss: 0.4164 - val_accuracy: 0.8415\n",
            "Epoch 28/50\n",
            "52/52 [==============================] - 1s 13ms/step - loss: 0.2521 - accuracy: 0.9101 - val_loss: 1.8016 - val_accuracy: 0.4707\n",
            "Epoch 29/50\n",
            "52/52 [==============================] - 1s 13ms/step - loss: 0.2413 - accuracy: 0.9248 - val_loss: 0.7684 - val_accuracy: 0.6902\n",
            "Epoch 30/50\n",
            "52/52 [==============================] - 1s 13ms/step - loss: 0.1630 - accuracy: 0.9517 - val_loss: 0.4636 - val_accuracy: 0.8317\n",
            "Epoch 31/50\n",
            "52/52 [==============================] - 1s 14ms/step - loss: 0.2253 - accuracy: 0.9334 - val_loss: 1.0351 - val_accuracy: 0.6146\n",
            "Epoch 32/50\n",
            "52/52 [==============================] - 1s 13ms/step - loss: 0.2357 - accuracy: 0.9224 - val_loss: 0.4316 - val_accuracy: 0.8415\n",
            "Epoch 33/50\n",
            "52/52 [==============================] - 1s 13ms/step - loss: 0.2007 - accuracy: 0.9309 - val_loss: 1.0559 - val_accuracy: 0.6537\n",
            "Epoch 34/50\n",
            "52/52 [==============================] - 1s 13ms/step - loss: 0.0923 - accuracy: 0.9725 - val_loss: 0.5138 - val_accuracy: 0.8073\n",
            "Epoch 35/50\n",
            "52/52 [==============================] - 1s 13ms/step - loss: 0.0876 - accuracy: 0.9762 - val_loss: 0.5129 - val_accuracy: 0.8049\n",
            "Epoch 36/50\n",
            "52/52 [==============================] - 1s 13ms/step - loss: 0.1039 - accuracy: 0.9664 - val_loss: 0.5144 - val_accuracy: 0.8268\n",
            "Epoch 37/50\n",
            "52/52 [==============================] - 1s 13ms/step - loss: 0.1336 - accuracy: 0.9590 - val_loss: 0.9234 - val_accuracy: 0.6976\n",
            "Epoch 38/50\n",
            "52/52 [==============================] - 1s 13ms/step - loss: 0.2581 - accuracy: 0.9138 - val_loss: 0.8019 - val_accuracy: 0.7293\n",
            "Epoch 39/50\n",
            "52/52 [==============================] - 1s 14ms/step - loss: 0.1488 - accuracy: 0.9597 - val_loss: 0.3831 - val_accuracy: 0.8634\n",
            "Epoch 40/50\n",
            "52/52 [==============================] - 1s 14ms/step - loss: 0.0751 - accuracy: 0.9804 - val_loss: 0.4341 - val_accuracy: 0.8366\n",
            "Epoch 41/50\n",
            "52/52 [==============================] - 1s 14ms/step - loss: 0.1327 - accuracy: 0.9597 - val_loss: 0.4116 - val_accuracy: 0.8537\n",
            "Epoch 42/50\n",
            "52/52 [==============================] - 1s 13ms/step - loss: 0.0926 - accuracy: 0.9756 - val_loss: 0.5810 - val_accuracy: 0.7707\n",
            "Epoch 43/50\n",
            "52/52 [==============================] - 1s 14ms/step - loss: 0.0699 - accuracy: 0.9762 - val_loss: 0.4545 - val_accuracy: 0.8561\n",
            "Epoch 44/50\n",
            "52/52 [==============================] - 1s 13ms/step - loss: 0.2737 - accuracy: 0.9120 - val_loss: 0.7481 - val_accuracy: 0.7220\n",
            "Epoch 45/50\n",
            "52/52 [==============================] - 1s 13ms/step - loss: 0.1374 - accuracy: 0.9517 - val_loss: 0.6909 - val_accuracy: 0.7780\n",
            "Epoch 46/50\n",
            "52/52 [==============================] - 1s 14ms/step - loss: 0.0751 - accuracy: 0.9774 - val_loss: 0.3508 - val_accuracy: 0.8805\n",
            "Epoch 47/50\n",
            "52/52 [==============================] - 1s 14ms/step - loss: 0.1367 - accuracy: 0.9572 - val_loss: 0.2239 - val_accuracy: 0.9171\n",
            "Epoch 48/50\n",
            "52/52 [==============================] - 1s 13ms/step - loss: 0.0750 - accuracy: 0.9743 - val_loss: 0.2640 - val_accuracy: 0.9098\n",
            "Epoch 49/50\n",
            "52/52 [==============================] - 1s 14ms/step - loss: 0.1147 - accuracy: 0.9603 - val_loss: 0.5210 - val_accuracy: 0.8220\n",
            "Epoch 50/50\n",
            "52/52 [==============================] - 1s 14ms/step - loss: 0.2389 - accuracy: 0.9230 - val_loss: 0.5315 - val_accuracy: 0.8098\n"
          ]
        }
      ]
    },
    {
      "cell_type": "code",
      "metadata": {
        "colab": {
          "base_uri": "https://localhost:8080/",
          "height": 349
        },
        "id": "O410hS5VLCvJ",
        "outputId": "8f34401f-cbbe-4329-f8e9-df052c395523"
      },
      "source": [
        "predicted_labels_cnn_2 = CNN_model_2.predict(np.transpose(test_features_reshaped, (0, 2, 1)))\n",
        "evaluate(test_labels_categorical, predicted_labels_cnn_2, is_categorical=True)"
      ],
      "execution_count": 31,
      "outputs": [
        {
          "output_type": "stream",
          "name": "stdout",
          "text": [
            "Accuracy: 0.20676691729323307\n",
            "Precision: 0.13661254582307214\n",
            "Recall: 0.14255518128628664\n",
            "F1 score: 0.1270112261079452\n"
          ]
        },
        {
          "output_type": "display_data",
          "data": {
            "image/png": "[encoded data removed]",
            "text/plain": [
              "<Figure size 432x288 with 2 Axes>"
            ]
          },
          "metadata": {
            "needs_background": "light"
          }
        }
      ]
    },
    {
      "cell_type": "code",
      "metadata": {
        "colab": {
          "base_uri": "https://localhost:8080/"
        },
        "id": "tqg_2-rdM7pP",
        "outputId": "bea293ab-bfec-4da2-acc8-31bd2b6fda15"
      },
      "source": [
        "def get_CNN_3_classifier():\n",
        "  model = Sequential()\n",
        "  model.add(Conv2D(32, kernel_size=(3, 3), activation='relu', input_shape=(79, 105, 1)))\n",
        "  model.add(MaxPooling2D(pool_size=(2, 2)))\n",
        "  model.add(Dropout(0.25))\n",
        "  model.add(Conv2D(64, kernel_size=(3, 3), activation='relu'))\n",
        "  model.add(MaxPooling2D(pool_size=(2, 2)))\n",
        "  model.add(Dropout(0.25))\n",
        "  model.add(Flatten())\n",
        "  model.add(Dense(256, activation='relu'))\n",
        "  model.add(Dense(6, activation='softmax'))\n",
        "\n",
        "  model.compile(optimizer = Adam(lr=1e-4), loss = 'categorical_crossentropy', metrics = ['accuracy'])\n",
        "  model.summary()\n",
        "\n",
        "  return model\n",
        "\n",
        "CNN_model_3 = get_CNN_3_classifier()"
      ],
      "execution_count": 32,
      "outputs": [
        {
          "output_type": "stream",
          "name": "stdout",
          "text": [
            "Model: \"sequential_1\"\n",
            "_________________________________________________________________\n",
            " Layer (type)                Output Shape              Param #   \n",
            "=================================================================\n",
            " conv2d_10 (Conv2D)          (None, 77, 103, 32)       320       \n",
            "                                                                 \n",
            " max_pooling2d_4 (MaxPooling  (None, 38, 51, 32)       0         \n",
            " 2D)                                                             \n",
            "                                                                 \n",
            " dropout (Dropout)           (None, 38, 51, 32)        0         \n",
            "                                                                 \n",
            " conv2d_11 (Conv2D)          (None, 36, 49, 64)        18496     \n",
            "                                                                 \n",
            " max_pooling2d_5 (MaxPooling  (None, 18, 24, 64)       0         \n",
            " 2D)                                                             \n",
            "                                                                 \n",
            " dropout_1 (Dropout)         (None, 18, 24, 64)        0         \n",
            "                                                                 \n",
            " flatten_1 (Flatten)         (None, 27648)             0         \n",
            "                                                                 \n",
            " dense_8 (Dense)             (None, 256)               7078144   \n",
            "                                                                 \n",
            " dense_9 (Dense)             (None, 6)                 1542      \n",
            "                                                                 \n",
            "=================================================================\n",
            "Total params: 7,098,502\n",
            "Trainable params: 7,098,502\n",
            "Non-trainable params: 0\n",
            "_________________________________________________________________\n"
          ]
        },
        {
          "output_type": "stream",
          "name": "stderr",
          "text": [
            "/usr/local/lib/python3.7/dist-packages/keras/optimizer_v2/adam.py:105: UserWarning: The `lr` argument is deprecated, use `learning_rate` instead.\n",
            "  super(Adam, self).__init__(name, **kwargs)\n"
          ]
        }
      ]
    },
    {
      "cell_type": "code",
      "metadata": {
        "colab": {
          "base_uri": "https://localhost:8080/"
        },
        "id": "Cxn0AvJ5Npa4",
        "outputId": "9e7e97eb-0f9b-4421-9348-37824ad09706"
      },
      "source": [
        "history_cnn_3 = CNN_model_3.fit(np.transpose(train_features_oversampled_reshaped, (0, 2, 1)), train_labels_oversampled_categorical, validation_split=0.2, epochs=100, verbose=1)"
      ],
      "execution_count": 33,
      "outputs": [
        {
          "output_type": "stream",
          "name": "stdout",
          "text": [
            "Epoch 1/100\n",
            "52/52 [==============================] - 1s 13ms/step - loss: 1.9269 - accuracy: 0.2023 - val_loss: 2.4215 - val_accuracy: 0.0000e+00\n",
            "Epoch 2/100\n",
            "52/52 [==============================] - 0s 8ms/step - loss: 1.7507 - accuracy: 0.2249 - val_loss: 2.0988 - val_accuracy: 0.0049\n",
            "Epoch 3/100\n",
            "52/52 [==============================] - 0s 9ms/step - loss: 1.7198 - accuracy: 0.2292 - val_loss: 2.5285 - val_accuracy: 0.0000e+00\n",
            "Epoch 4/100\n",
            "52/52 [==============================] - 0s 8ms/step - loss: 1.6976 - accuracy: 0.2677 - val_loss: 2.3229 - val_accuracy: 0.0000e+00\n",
            "Epoch 5/100\n",
            "52/52 [==============================] - 0s 9ms/step - loss: 1.6841 - accuracy: 0.2622 - val_loss: 2.3441 - val_accuracy: 0.0634\n",
            "Epoch 6/100\n",
            "52/52 [==============================] - 0s 8ms/step - loss: 1.6604 - accuracy: 0.2958 - val_loss: 2.2728 - val_accuracy: 0.0098\n",
            "Epoch 7/100\n",
            "52/52 [==============================] - 0s 8ms/step - loss: 1.6495 - accuracy: 0.2830 - val_loss: 2.1372 - val_accuracy: 0.0756\n",
            "Epoch 8/100\n",
            "52/52 [==============================] - 0s 9ms/step - loss: 1.6266 - accuracy: 0.2958 - val_loss: 2.3015 - val_accuracy: 0.0098\n",
            "Epoch 9/100\n",
            "52/52 [==============================] - 0s 9ms/step - loss: 1.6303 - accuracy: 0.3062 - val_loss: 2.1097 - val_accuracy: 0.0463\n",
            "Epoch 10/100\n",
            "52/52 [==============================] - 0s 9ms/step - loss: 1.6016 - accuracy: 0.3386 - val_loss: 2.3325 - val_accuracy: 0.0488\n",
            "Epoch 11/100\n",
            "52/52 [==============================] - 0s 8ms/step - loss: 1.5975 - accuracy: 0.3350 - val_loss: 2.2005 - val_accuracy: 0.0463\n",
            "Epoch 12/100\n",
            "52/52 [==============================] - 0s 9ms/step - loss: 1.5767 - accuracy: 0.3447 - val_loss: 2.2985 - val_accuracy: 0.0341\n",
            "Epoch 13/100\n",
            "52/52 [==============================] - 0s 8ms/step - loss: 1.5481 - accuracy: 0.3600 - val_loss: 2.2096 - val_accuracy: 0.0927\n",
            "Epoch 14/100\n",
            "52/52 [==============================] - 0s 9ms/step - loss: 1.5364 - accuracy: 0.3625 - val_loss: 2.0540 - val_accuracy: 0.1537\n",
            "Epoch 15/100\n",
            "52/52 [==============================] - 0s 8ms/step - loss: 1.5374 - accuracy: 0.3631 - val_loss: 2.1425 - val_accuracy: 0.1195\n",
            "Epoch 16/100\n",
            "52/52 [==============================] - 0s 8ms/step - loss: 1.5184 - accuracy: 0.3826 - val_loss: 2.2853 - val_accuracy: 0.0976\n",
            "Epoch 17/100\n",
            "52/52 [==============================] - 0s 8ms/step - loss: 1.5040 - accuracy: 0.3936 - val_loss: 2.3173 - val_accuracy: 0.0976\n",
            "Epoch 18/100\n",
            "52/52 [==============================] - 0s 8ms/step - loss: 1.4452 - accuracy: 0.4273 - val_loss: 2.1359 - val_accuracy: 0.1976\n",
            "Epoch 19/100\n",
            "52/52 [==============================] - 0s 9ms/step - loss: 1.4411 - accuracy: 0.4248 - val_loss: 2.4554 - val_accuracy: 0.0707\n",
            "Epoch 20/100\n",
            "52/52 [==============================] - 0s 8ms/step - loss: 1.4001 - accuracy: 0.4462 - val_loss: 2.2390 - val_accuracy: 0.1293\n",
            "Epoch 21/100\n",
            "52/52 [==============================] - 0s 8ms/step - loss: 1.3847 - accuracy: 0.4597 - val_loss: 2.1165 - val_accuracy: 0.1805\n",
            "Epoch 22/100\n",
            "52/52 [==============================] - 0s 9ms/step - loss: 1.3485 - accuracy: 0.4694 - val_loss: 2.1431 - val_accuracy: 0.2000\n",
            "Epoch 23/100\n",
            "52/52 [==============================] - 0s 9ms/step - loss: 1.3499 - accuracy: 0.4578 - val_loss: 2.2408 - val_accuracy: 0.1927\n",
            "Epoch 24/100\n",
            "52/52 [==============================] - 0s 9ms/step - loss: 1.3068 - accuracy: 0.4939 - val_loss: 2.0488 - val_accuracy: 0.2415\n",
            "Epoch 25/100\n",
            "52/52 [==============================] - 0s 8ms/step - loss: 1.2913 - accuracy: 0.4872 - val_loss: 1.8685 - val_accuracy: 0.2756\n",
            "Epoch 26/100\n",
            "52/52 [==============================] - 0s 9ms/step - loss: 1.2425 - accuracy: 0.5391 - val_loss: 1.7586 - val_accuracy: 0.2854\n",
            "Epoch 27/100\n",
            "52/52 [==============================] - 0s 8ms/step - loss: 1.2257 - accuracy: 0.5208 - val_loss: 1.9954 - val_accuracy: 0.2488\n",
            "Epoch 28/100\n",
            "52/52 [==============================] - 0s 8ms/step - loss: 1.1771 - accuracy: 0.5648 - val_loss: 1.7933 - val_accuracy: 0.3195\n",
            "Epoch 29/100\n",
            "52/52 [==============================] - 0s 8ms/step - loss: 1.1678 - accuracy: 0.5532 - val_loss: 1.7553 - val_accuracy: 0.3195\n",
            "Epoch 30/100\n",
            "52/52 [==============================] - 0s 9ms/step - loss: 1.1193 - accuracy: 0.5819 - val_loss: 2.0387 - val_accuracy: 0.2854\n",
            "Epoch 31/100\n",
            "52/52 [==============================] - 0s 9ms/step - loss: 1.0727 - accuracy: 0.6265 - val_loss: 1.8094 - val_accuracy: 0.3341\n",
            "Epoch 32/100\n",
            "52/52 [==============================] - 0s 8ms/step - loss: 1.0540 - accuracy: 0.6204 - val_loss: 1.5683 - val_accuracy: 0.4024\n",
            "Epoch 33/100\n",
            "52/52 [==============================] - 0s 9ms/step - loss: 1.0310 - accuracy: 0.6320 - val_loss: 1.8043 - val_accuracy: 0.3439\n",
            "Epoch 34/100\n",
            "52/52 [==============================] - 0s 9ms/step - loss: 0.9973 - accuracy: 0.6583 - val_loss: 1.5691 - val_accuracy: 0.4659\n",
            "Epoch 35/100\n",
            "52/52 [==============================] - 0s 9ms/step - loss: 0.9628 - accuracy: 0.6601 - val_loss: 1.6383 - val_accuracy: 0.4463\n",
            "Epoch 36/100\n",
            "52/52 [==============================] - 0s 9ms/step - loss: 0.9629 - accuracy: 0.6699 - val_loss: 1.6212 - val_accuracy: 0.4293\n",
            "Epoch 37/100\n",
            "52/52 [==============================] - 0s 9ms/step - loss: 0.9126 - accuracy: 0.6944 - val_loss: 1.6541 - val_accuracy: 0.4244\n",
            "Epoch 38/100\n",
            "52/52 [==============================] - 0s 9ms/step - loss: 0.8873 - accuracy: 0.6944 - val_loss: 1.4117 - val_accuracy: 0.5171\n",
            "Epoch 39/100\n",
            "52/52 [==============================] - 0s 9ms/step - loss: 0.8307 - accuracy: 0.7029 - val_loss: 1.5128 - val_accuracy: 0.4439\n",
            "Epoch 40/100\n",
            "52/52 [==============================] - 0s 8ms/step - loss: 0.7936 - accuracy: 0.7366 - val_loss: 1.2536 - val_accuracy: 0.5829\n",
            "Epoch 41/100\n",
            "52/52 [==============================] - 0s 8ms/step - loss: 0.7655 - accuracy: 0.7414 - val_loss: 1.3267 - val_accuracy: 0.5585\n",
            "Epoch 42/100\n",
            "52/52 [==============================] - 0s 8ms/step - loss: 0.7507 - accuracy: 0.7518 - val_loss: 1.0211 - val_accuracy: 0.6268\n",
            "Epoch 43/100\n",
            "52/52 [==============================] - 0s 8ms/step - loss: 0.7076 - accuracy: 0.7726 - val_loss: 1.4425 - val_accuracy: 0.4732\n",
            "Epoch 44/100\n",
            "52/52 [==============================] - 0s 9ms/step - loss: 0.7975 - accuracy: 0.7280 - val_loss: 1.2955 - val_accuracy: 0.5805\n",
            "Epoch 45/100\n",
            "52/52 [==============================] - 0s 8ms/step - loss: 0.6804 - accuracy: 0.7824 - val_loss: 1.0346 - val_accuracy: 0.6683\n",
            "Epoch 46/100\n",
            "52/52 [==============================] - 0s 8ms/step - loss: 0.6265 - accuracy: 0.8148 - val_loss: 1.0169 - val_accuracy: 0.6610\n",
            "Epoch 47/100\n",
            "52/52 [==============================] - 0s 8ms/step - loss: 0.5985 - accuracy: 0.8154 - val_loss: 1.4378 - val_accuracy: 0.5146\n",
            "Epoch 48/100\n",
            "52/52 [==============================] - 0s 8ms/step - loss: 0.6374 - accuracy: 0.7977 - val_loss: 1.2770 - val_accuracy: 0.6463\n",
            "Epoch 49/100\n",
            "52/52 [==============================] - 0s 8ms/step - loss: 0.5705 - accuracy: 0.8380 - val_loss: 0.9763 - val_accuracy: 0.7049\n",
            "Epoch 50/100\n",
            "52/52 [==============================] - 0s 9ms/step - loss: 0.5482 - accuracy: 0.8270 - val_loss: 0.8919 - val_accuracy: 0.6902\n",
            "Epoch 51/100\n",
            "52/52 [==============================] - 0s 8ms/step - loss: 0.5075 - accuracy: 0.8417 - val_loss: 0.8465 - val_accuracy: 0.7000\n",
            "Epoch 52/100\n",
            "52/52 [==============================] - 0s 8ms/step - loss: 0.4828 - accuracy: 0.8521 - val_loss: 0.7737 - val_accuracy: 0.7293\n",
            "Epoch 53/100\n",
            "52/52 [==============================] - 0s 8ms/step - loss: 0.4809 - accuracy: 0.8490 - val_loss: 0.8377 - val_accuracy: 0.7098\n",
            "Epoch 54/100\n",
            "52/52 [==============================] - 0s 9ms/step - loss: 0.4741 - accuracy: 0.8564 - val_loss: 0.8843 - val_accuracy: 0.6780\n",
            "Epoch 55/100\n",
            "52/52 [==============================] - 0s 8ms/step - loss: 0.4515 - accuracy: 0.8698 - val_loss: 0.7600 - val_accuracy: 0.7171\n",
            "Epoch 56/100\n",
            "52/52 [==============================] - 0s 9ms/step - loss: 0.4098 - accuracy: 0.8784 - val_loss: 0.8571 - val_accuracy: 0.6829\n",
            "Epoch 57/100\n",
            "52/52 [==============================] - 0s 8ms/step - loss: 0.4148 - accuracy: 0.8796 - val_loss: 0.9169 - val_accuracy: 0.6610\n",
            "Epoch 58/100\n",
            "52/52 [==============================] - 0s 9ms/step - loss: 0.4035 - accuracy: 0.8814 - val_loss: 0.9127 - val_accuracy: 0.6585\n",
            "Epoch 59/100\n",
            "52/52 [==============================] - 0s 9ms/step - loss: 0.3691 - accuracy: 0.8900 - val_loss: 0.6619 - val_accuracy: 0.7659\n",
            "Epoch 60/100\n",
            "52/52 [==============================] - 0s 8ms/step - loss: 0.3426 - accuracy: 0.9040 - val_loss: 0.7240 - val_accuracy: 0.7268\n",
            "Epoch 61/100\n",
            "52/52 [==============================] - 0s 9ms/step - loss: 0.3185 - accuracy: 0.9095 - val_loss: 0.6538 - val_accuracy: 0.7561\n",
            "Epoch 62/100\n",
            "52/52 [==============================] - 0s 8ms/step - loss: 0.3271 - accuracy: 0.9071 - val_loss: 0.6747 - val_accuracy: 0.7366\n",
            "Epoch 63/100\n",
            "52/52 [==============================] - 0s 8ms/step - loss: 0.3237 - accuracy: 0.9083 - val_loss: 0.5426 - val_accuracy: 0.7951\n",
            "Epoch 64/100\n",
            "52/52 [==============================] - 0s 8ms/step - loss: 0.3179 - accuracy: 0.9077 - val_loss: 0.5400 - val_accuracy: 0.8122\n",
            "Epoch 65/100\n",
            "52/52 [==============================] - 0s 8ms/step - loss: 0.2814 - accuracy: 0.9303 - val_loss: 0.4620 - val_accuracy: 0.8390\n",
            "Epoch 66/100\n",
            "52/52 [==============================] - 0s 8ms/step - loss: 0.3947 - accuracy: 0.9022 - val_loss: 0.5893 - val_accuracy: 0.7829\n",
            "Epoch 67/100\n",
            "52/52 [==============================] - 0s 8ms/step - loss: 0.2955 - accuracy: 0.9322 - val_loss: 0.4252 - val_accuracy: 0.8610\n",
            "Epoch 68/100\n",
            "52/52 [==============================] - 0s 8ms/step - loss: 0.2294 - accuracy: 0.9493 - val_loss: 0.5147 - val_accuracy: 0.8220\n",
            "Epoch 69/100\n",
            "52/52 [==============================] - 0s 9ms/step - loss: 0.2463 - accuracy: 0.9395 - val_loss: 0.4585 - val_accuracy: 0.8561\n",
            "Epoch 70/100\n",
            "52/52 [==============================] - 0s 8ms/step - loss: 0.2174 - accuracy: 0.9505 - val_loss: 0.3923 - val_accuracy: 0.8634\n",
            "Epoch 71/100\n",
            "52/52 [==============================] - 0s 8ms/step - loss: 0.1933 - accuracy: 0.9584 - val_loss: 0.3031 - val_accuracy: 0.9244\n",
            "Epoch 72/100\n",
            "52/52 [==============================] - 0s 8ms/step - loss: 0.2022 - accuracy: 0.9462 - val_loss: 0.3962 - val_accuracy: 0.8634\n",
            "Epoch 73/100\n",
            "52/52 [==============================] - 0s 9ms/step - loss: 0.2148 - accuracy: 0.9438 - val_loss: 0.3910 - val_accuracy: 0.8780\n",
            "Epoch 74/100\n",
            "52/52 [==============================] - 0s 8ms/step - loss: 0.1652 - accuracy: 0.9664 - val_loss: 0.4812 - val_accuracy: 0.8341\n",
            "Epoch 75/100\n",
            "52/52 [==============================] - 0s 9ms/step - loss: 0.2042 - accuracy: 0.9444 - val_loss: 0.3918 - val_accuracy: 0.8805\n",
            "Epoch 76/100\n",
            "52/52 [==============================] - 0s 9ms/step - loss: 0.1743 - accuracy: 0.9627 - val_loss: 0.2637 - val_accuracy: 0.9366\n",
            "Epoch 77/100\n",
            "52/52 [==============================] - 0s 8ms/step - loss: 0.1629 - accuracy: 0.9590 - val_loss: 0.2858 - val_accuracy: 0.9146\n",
            "Epoch 78/100\n",
            "52/52 [==============================] - 0s 8ms/step - loss: 0.1976 - accuracy: 0.9450 - val_loss: 0.3842 - val_accuracy: 0.8780\n",
            "Epoch 79/100\n",
            "52/52 [==============================] - 0s 8ms/step - loss: 0.1597 - accuracy: 0.9664 - val_loss: 0.2794 - val_accuracy: 0.9366\n",
            "Epoch 80/100\n",
            "52/52 [==============================] - 0s 9ms/step - loss: 0.1925 - accuracy: 0.9480 - val_loss: 0.4097 - val_accuracy: 0.8561\n",
            "Epoch 81/100\n",
            "52/52 [==============================] - 0s 8ms/step - loss: 0.2159 - accuracy: 0.9462 - val_loss: 0.2665 - val_accuracy: 0.9366\n",
            "Epoch 82/100\n",
            "52/52 [==============================] - 0s 8ms/step - loss: 0.1336 - accuracy: 0.9749 - val_loss: 0.3916 - val_accuracy: 0.8610\n",
            "Epoch 83/100\n",
            "52/52 [==============================] - 0s 9ms/step - loss: 0.1278 - accuracy: 0.9737 - val_loss: 0.2036 - val_accuracy: 0.9634\n",
            "Epoch 84/100\n",
            "52/52 [==============================] - 0s 8ms/step - loss: 0.1324 - accuracy: 0.9737 - val_loss: 0.1847 - val_accuracy: 0.9634\n",
            "Epoch 85/100\n",
            "52/52 [==============================] - 0s 8ms/step - loss: 0.1135 - accuracy: 0.9780 - val_loss: 0.3144 - val_accuracy: 0.9171\n",
            "Epoch 86/100\n",
            "52/52 [==============================] - 0s 8ms/step - loss: 0.1463 - accuracy: 0.9664 - val_loss: 0.2961 - val_accuracy: 0.9220\n",
            "Epoch 87/100\n",
            "52/52 [==============================] - 0s 8ms/step - loss: 0.1404 - accuracy: 0.9707 - val_loss: 0.4556 - val_accuracy: 0.8537\n",
            "Epoch 88/100\n",
            "52/52 [==============================] - 0s 8ms/step - loss: 0.1420 - accuracy: 0.9694 - val_loss: 0.2726 - val_accuracy: 0.9268\n",
            "Epoch 89/100\n",
            "52/52 [==============================] - 0s 8ms/step - loss: 0.1040 - accuracy: 0.9792 - val_loss: 0.1554 - val_accuracy: 0.9610\n",
            "Epoch 90/100\n",
            "52/52 [==============================] - 0s 8ms/step - loss: 0.1105 - accuracy: 0.9731 - val_loss: 0.2565 - val_accuracy: 0.9366\n",
            "Epoch 91/100\n",
            "52/52 [==============================] - 0s 9ms/step - loss: 0.0910 - accuracy: 0.9811 - val_loss: 0.2372 - val_accuracy: 0.9366\n",
            "Epoch 92/100\n",
            "52/52 [==============================] - 0s 9ms/step - loss: 0.0797 - accuracy: 0.9872 - val_loss: 0.2212 - val_accuracy: 0.9561\n",
            "Epoch 93/100\n",
            "52/52 [==============================] - 0s 9ms/step - loss: 0.0788 - accuracy: 0.9841 - val_loss: 0.2817 - val_accuracy: 0.9122\n",
            "Epoch 94/100\n",
            "52/52 [==============================] - 0s 8ms/step - loss: 0.0811 - accuracy: 0.9859 - val_loss: 0.1698 - val_accuracy: 0.9610\n",
            "Epoch 95/100\n",
            "52/52 [==============================] - 0s 8ms/step - loss: 0.0831 - accuracy: 0.9859 - val_loss: 0.2225 - val_accuracy: 0.9366\n",
            "Epoch 96/100\n",
            "52/52 [==============================] - 0s 9ms/step - loss: 0.0786 - accuracy: 0.9890 - val_loss: 0.1732 - val_accuracy: 0.9537\n",
            "Epoch 97/100\n",
            "52/52 [==============================] - 0s 8ms/step - loss: 0.0989 - accuracy: 0.9749 - val_loss: 0.1247 - val_accuracy: 0.9707\n",
            "Epoch 98/100\n",
            "52/52 [==============================] - 0s 9ms/step - loss: 0.1191 - accuracy: 0.9694 - val_loss: 0.2100 - val_accuracy: 0.9463\n",
            "Epoch 99/100\n",
            "52/52 [==============================] - 0s 8ms/step - loss: 0.0794 - accuracy: 0.9866 - val_loss: 0.1816 - val_accuracy: 0.9585\n",
            "Epoch 100/100\n",
            "52/52 [==============================] - 0s 9ms/step - loss: 0.0918 - accuracy: 0.9817 - val_loss: 0.2265 - val_accuracy: 0.9439\n"
          ]
        }
      ]
    },
    {
      "cell_type": "code",
      "metadata": {
        "colab": {
          "base_uri": "https://localhost:8080/",
          "height": 351
        },
        "id": "H8GYwZflN0ze",
        "outputId": "35530d2a-70b5-436d-b518-52bba1660311"
      },
      "source": [
        "predicted_labels_cnn_3 = CNN_model_3.predict(np.transpose(test_features_reshaped, (0, 2, 1)))\n",
        "evaluate(test_labels_categorical, predicted_labels_cnn_3, is_categorical=True)"
      ],
      "execution_count": 34,
      "outputs": [
        {
          "output_type": "stream",
          "name": "stdout",
          "text": [
            "Accuracy: 0.19924812030075187\n",
            "Precision: 0.16327961804694544\n",
            "Recall: 0.15727897974591407\n",
            "F1 score: 0.15977046614333293\n"
          ]
        },
        {
          "output_type": "display_data",
          "data": {
            "image/png": "[encoded data removed]",
            "text/plain": [
              "<Figure size 432x288 with 2 Axes>"
            ]
          },
          "metadata": {
            "needs_background": "light"
          }
        }
      ]
    },
    {
      "cell_type": "markdown",
      "metadata": {
        "id": "VIxgHPzCUxmB"
      },
      "source": [
        "## Ensemble Learning"
      ]
    },
    {
      "cell_type": "code",
      "metadata": {
        "id": "g8FmRtL2Uyo8"
      },
      "source": [
        "# from self_paced_ensemble import SelfPacedEnsembleClassifier\n",
        "\n",
        "# clf = SelfPacedEnsembleClassifier(base_estimator=RandomForestClassifier(max_depth=5, random_state=0, verbose=True), n_estimators=5)\n",
        "\n",
        "\n",
        "# clf.fit(train_features, train_labels)\n"
      ],
      "execution_count": 35,
      "outputs": []
    }
  ]
}